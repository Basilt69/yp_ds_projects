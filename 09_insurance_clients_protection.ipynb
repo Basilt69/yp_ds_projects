{
 "cells": [
  {
   "cell_type": "markdown",
   "metadata": {
    "toc": true
   },
   "source": [
    "<h1>Table of contents<span class=\"tocSkip\"></span></h1>\n",
    "<div class=\"toc\"><ul class=\"toc-item\"><li><span><a href=\"#Загрузка-данных\" data-toc-modified-id=\"Загрузка-данных-1\"><span class=\"toc-item-num\">1&nbsp;&nbsp;</span>Exploratory analysis</a></span></li><li><span><a href=\"#Умножение-матриц\" data-toc-modified-id=\"Умножение-матриц-2\"><span class=\"toc-item-num\">2&nbsp;&nbsp;</span>Matrix multiplication</a></span></li><li><span><a href=\"#Алгоритм-преобразования\" data-toc-modified-id=\"Алгоритм-преобразования-3\"><span class=\"toc-item-num\">3&nbsp;&nbsp;</span>Conversion algorithm</a></span></li><li><span><a href=\"#Проверка-алгоритма\" data-toc-modified-id=\"Проверка-алгоритма-4\"><span class=\"toc-item-num\">4&nbsp;&nbsp;</span>Checking the algorithm</a></span></li><li><span><a href=\"#Чек-лист-проверки\" data-toc-modified-id=\"Чек-лист-проверки-5\"><span class=\"toc-item-num\">5&nbsp;&nbsp;</span>Final conclusions</a></span></li></ul></div>"
   ]
  },
  {
   "cell_type": "markdown",
   "metadata": {},
   "source": [
    "# Protection of personal data of clients"
   ]
  },
  {
   "cell_type": "markdown",
   "metadata": {},
   "source": [
    "**Project Description**\n",
    "\n",
    "\n",
    "It is necessary to protect the data of the clients of the insurance company \"We're not afraid of the flood\" by developing such a method of data conversion so that it would be difficult to recover personal information from them and justify the correctness of its work.\n",
    "It is necessary to protect the data so that the quality of machine learning models does not deteriorate during the conversion."
   ]
  },
  {
   "cell_type": "markdown",
   "metadata": {},
   "source": [
    "**Data description**\n",
    "\n",
    "\n",
    "*Features:* gender, age and salary of the insured, the number of his family members.\n",
    "\n",
    "\n",
    "*Target:* the number of insurance payments to the client over the past 5 years."
   ]
  },
  {
   "cell_type": "markdown",
   "metadata": {},
   "source": [
    "## 1.  Exploratory analysis"
   ]
  },
  {
   "cell_type": "code",
   "execution_count": 1,
   "metadata": {},
   "outputs": [],
   "source": [
    "import numpy as np\n",
    "import pandas as pd\n",
    "\n",
    "from sklearn.model_selection import train_test_split\n",
    "from sklearn.linear_model import LinearRegression\n",
    "from sklearn.metrics import r2_score"
   ]
  },
  {
   "cell_type": "code",
   "execution_count": 2,
   "metadata": {},
   "outputs": [],
   "source": [
    "df = pd.read_csv('insurance.csv')"
   ]
  },
  {
   "cell_type": "code",
   "execution_count": 3,
   "metadata": {},
   "outputs": [
    {
     "data": {
      "text/html": [
       "<div>\n",
       "<style scoped>\n",
       "    .dataframe tbody tr th:only-of-type {\n",
       "        vertical-align: middle;\n",
       "    }\n",
       "\n",
       "    .dataframe tbody tr th {\n",
       "        vertical-align: top;\n",
       "    }\n",
       "\n",
       "    .dataframe thead th {\n",
       "        text-align: right;\n",
       "    }\n",
       "</style>\n",
       "<table border=\"1\" class=\"dataframe\">\n",
       "  <thead>\n",
       "    <tr style=\"text-align: right;\">\n",
       "      <th></th>\n",
       "      <th>Пол</th>\n",
       "      <th>Возраст</th>\n",
       "      <th>Зарплата</th>\n",
       "      <th>Члены семьи</th>\n",
       "      <th>Страховые выплаты</th>\n",
       "    </tr>\n",
       "  </thead>\n",
       "  <tbody>\n",
       "    <tr>\n",
       "      <th>0</th>\n",
       "      <td>1</td>\n",
       "      <td>41.0</td>\n",
       "      <td>49600.0</td>\n",
       "      <td>1</td>\n",
       "      <td>0</td>\n",
       "    </tr>\n",
       "    <tr>\n",
       "      <th>1</th>\n",
       "      <td>0</td>\n",
       "      <td>46.0</td>\n",
       "      <td>38000.0</td>\n",
       "      <td>1</td>\n",
       "      <td>1</td>\n",
       "    </tr>\n",
       "    <tr>\n",
       "      <th>2</th>\n",
       "      <td>0</td>\n",
       "      <td>29.0</td>\n",
       "      <td>21000.0</td>\n",
       "      <td>0</td>\n",
       "      <td>0</td>\n",
       "    </tr>\n",
       "    <tr>\n",
       "      <th>3</th>\n",
       "      <td>0</td>\n",
       "      <td>21.0</td>\n",
       "      <td>41700.0</td>\n",
       "      <td>2</td>\n",
       "      <td>0</td>\n",
       "    </tr>\n",
       "    <tr>\n",
       "      <th>4</th>\n",
       "      <td>1</td>\n",
       "      <td>28.0</td>\n",
       "      <td>26100.0</td>\n",
       "      <td>0</td>\n",
       "      <td>0</td>\n",
       "    </tr>\n",
       "  </tbody>\n",
       "</table>\n",
       "</div>"
      ],
      "text/plain": [
       "   Пол  Возраст  Зарплата  Члены семьи  Страховые выплаты\n",
       "0    1     41.0   49600.0            1                  0\n",
       "1    0     46.0   38000.0            1                  1\n",
       "2    0     29.0   21000.0            0                  0\n",
       "3    0     21.0   41700.0            2                  0\n",
       "4    1     28.0   26100.0            0                  0"
      ]
     },
     "execution_count": 3,
     "metadata": {},
     "output_type": "execute_result"
    }
   ],
   "source": [
    "df.head()"
   ]
  },
  {
   "cell_type": "code",
   "execution_count": 4,
   "metadata": {},
   "outputs": [],
   "source": [
    "df.columns = ['gender', 'age', 'salary', 'family members number', 'insurance payments number']"
   ]
  },
  {
   "cell_type": "code",
   "execution_count": 5,
   "metadata": {},
   "outputs": [
    {
     "data": {
      "text/html": [
       "<div>\n",
       "<style scoped>\n",
       "    .dataframe tbody tr th:only-of-type {\n",
       "        vertical-align: middle;\n",
       "    }\n",
       "\n",
       "    .dataframe tbody tr th {\n",
       "        vertical-align: top;\n",
       "    }\n",
       "\n",
       "    .dataframe thead th {\n",
       "        text-align: right;\n",
       "    }\n",
       "</style>\n",
       "<table border=\"1\" class=\"dataframe\">\n",
       "  <thead>\n",
       "    <tr style=\"text-align: right;\">\n",
       "      <th></th>\n",
       "      <th>gender</th>\n",
       "      <th>age</th>\n",
       "      <th>salary</th>\n",
       "      <th>family members number</th>\n",
       "      <th>insurance payments number</th>\n",
       "    </tr>\n",
       "  </thead>\n",
       "  <tbody>\n",
       "    <tr>\n",
       "      <th>4995</th>\n",
       "      <td>0</td>\n",
       "      <td>28.0</td>\n",
       "      <td>35700.0</td>\n",
       "      <td>2</td>\n",
       "      <td>0</td>\n",
       "    </tr>\n",
       "    <tr>\n",
       "      <th>4996</th>\n",
       "      <td>0</td>\n",
       "      <td>34.0</td>\n",
       "      <td>52400.0</td>\n",
       "      <td>1</td>\n",
       "      <td>0</td>\n",
       "    </tr>\n",
       "    <tr>\n",
       "      <th>4997</th>\n",
       "      <td>0</td>\n",
       "      <td>20.0</td>\n",
       "      <td>33900.0</td>\n",
       "      <td>2</td>\n",
       "      <td>0</td>\n",
       "    </tr>\n",
       "    <tr>\n",
       "      <th>4998</th>\n",
       "      <td>1</td>\n",
       "      <td>22.0</td>\n",
       "      <td>32700.0</td>\n",
       "      <td>3</td>\n",
       "      <td>0</td>\n",
       "    </tr>\n",
       "    <tr>\n",
       "      <th>4999</th>\n",
       "      <td>1</td>\n",
       "      <td>28.0</td>\n",
       "      <td>40600.0</td>\n",
       "      <td>1</td>\n",
       "      <td>0</td>\n",
       "    </tr>\n",
       "  </tbody>\n",
       "</table>\n",
       "</div>"
      ],
      "text/plain": [
       "      gender   age   salary  family members number  insurance payments number\n",
       "4995       0  28.0  35700.0                      2                          0\n",
       "4996       0  34.0  52400.0                      1                          0\n",
       "4997       0  20.0  33900.0                      2                          0\n",
       "4998       1  22.0  32700.0                      3                          0\n",
       "4999       1  28.0  40600.0                      1                          0"
      ]
     },
     "execution_count": 5,
     "metadata": {},
     "output_type": "execute_result"
    }
   ],
   "source": [
    "df.tail()"
   ]
  },
  {
   "cell_type": "code",
   "execution_count": 6,
   "metadata": {},
   "outputs": [
    {
     "name": "stdout",
     "output_type": "stream",
     "text": [
      "<class 'pandas.core.frame.DataFrame'>\n",
      "RangeIndex: 5000 entries, 0 to 4999\n",
      "Data columns (total 5 columns):\n",
      " #   Column                     Non-Null Count  Dtype  \n",
      "---  ------                     --------------  -----  \n",
      " 0   gender                     5000 non-null   int64  \n",
      " 1   age                        5000 non-null   float64\n",
      " 2   salary                     5000 non-null   float64\n",
      " 3   family members number      5000 non-null   int64  \n",
      " 4   insurance payments number  5000 non-null   int64  \n",
      "dtypes: float64(2), int64(3)\n",
      "memory usage: 195.4 KB\n"
     ]
    }
   ],
   "source": [
    "df.info()"
   ]
  },
  {
   "cell_type": "code",
   "execution_count": 7,
   "metadata": {},
   "outputs": [
    {
     "data": {
      "text/plain": [
       "1    1814\n",
       "0    1513\n",
       "2    1071\n",
       "3     439\n",
       "4     124\n",
       "5      32\n",
       "6       7\n",
       "Name: family members number, dtype: int64"
      ]
     },
     "execution_count": 7,
     "metadata": {},
     "output_type": "execute_result"
    }
   ],
   "source": [
    "df['family members number'].value_counts()"
   ]
  },
  {
   "cell_type": "code",
   "execution_count": 8,
   "metadata": {},
   "outputs": [
    {
     "data": {
      "text/plain": [
       "0    4436\n",
       "1     423\n",
       "2     115\n",
       "3      18\n",
       "4       7\n",
       "5       1\n",
       "Name: insurance payments number, dtype: int64"
      ]
     },
     "execution_count": 8,
     "metadata": {},
     "output_type": "execute_result"
    }
   ],
   "source": [
    "df['insurance payments number'].value_counts()"
   ]
  },
  {
   "cell_type": "markdown",
   "metadata": {},
   "source": [
    "<div style=\"font-size: 20px\">\n",
    "    \n",
    "\n",
    "**Intermediate conclusion:**"
   ]
  },
  {
   "cell_type": "markdown",
   "metadata": {},
   "source": [
    "No anomalies were detected after loading the data. Additional type conversion, elimination of missing values is not required."
   ]
  },
  {
   "cell_type": "markdown",
   "metadata": {},
   "source": [
    "## 2.  Matrix multiplication"
   ]
  },
  {
   "cell_type": "markdown",
   "metadata": {},
   "source": [
    "Разделим исходный датафрейм на обучающую и тестовые выборки."
   ]
  },
  {
   "cell_type": "code",
   "execution_count": 9,
   "metadata": {},
   "outputs": [],
   "source": [
    "train, test = train_test_split(df, train_size=0.75, shuffle=False, random_state=12345)"
   ]
  },
  {
   "cell_type": "markdown",
   "metadata": {},
   "source": [
    "Let's write a Linear Regression class for training, predictions, as well as calculating the r2_score metric."
   ]
  },
  {
   "cell_type": "code",
   "execution_count": 10,
   "metadata": {},
   "outputs": [],
   "source": [
    "class LinearRegression1:\n",
    "    def fit(self, train_features, train_target):\n",
    "        X = np.concatenate((np.ones((train_features.shape[0],1)), train_features),axis=1)\n",
    "        y = train_target\n",
    "        w = np.dot(np.linalg.inv(X.T.dot(X)),X.T).dot(y)\n",
    "        self.w = w[1:]\n",
    "        self.w0 = w[0]\n",
    "        \n",
    "    def predict(self, test_features):\n",
    "        return test_features.dot(self.w) + self.w0\n",
    "    \n",
    "    def score(self, X, y, set_name):\n",
    "        print('r2_score metric on {} sample: {:.3f}'.format(set_name, r2_score(y, self.predict(X))))"
   ]
  },
  {
   "cell_type": "markdown",
   "metadata": {},
   "source": [
    "Let's build a linear regression model for the original data for comparison in the future, and also compare the coefficients of the class described above and linear regression from the scikit-learn library."
   ]
  },
  {
   "cell_type": "code",
   "execution_count": 11,
   "metadata": {},
   "outputs": [
    {
     "name": "stdout",
     "output_type": "stream",
     "text": [
      "r2_score metric on train sample: 0.426\n",
      "r2_score metric on test sample: 0.423\n"
     ]
    }
   ],
   "source": [
    "\n",
    "model_1 = LinearRegression1()\n",
    "\n",
    "train_features = train.drop('insurance payments number', axis=1)\n",
    "train_target = train['insurance payments number']\n",
    "test_features = test.drop('insurance payments number', axis=1)\n",
    "test_target = test['insurance payments number']\n",
    "\n",
    "model_1.fit(train_features, train_target)\n",
    "model_1.score(train_features, train_target, 'train')\n",
    "model_1.score(test_features, test_target, 'test')"
   ]
  },
  {
   "cell_type": "code",
   "execution_count": 12,
   "metadata": {},
   "outputs": [
    {
     "data": {
      "text/plain": [
       "array([ 1.03495034e-02,  3.61862478e-02, -9.06635933e-08, -1.35669330e-02])"
      ]
     },
     "metadata": {},
     "output_type": "display_data"
    },
    {
     "data": {
      "text/plain": [
       "array([ 1.03495034e-02,  3.61862478e-02, -9.06635933e-08, -1.35669330e-02])"
      ]
     },
     "execution_count": 12,
     "metadata": {},
     "output_type": "execute_result"
    }
   ],
   "source": [
    "# Checking the calculation of coefficients used in the Linear Regression 1 class\n",
    "X = np.concatenate((np.ones((train_features.shape[0],1)), train_features),axis=1)\n",
    "y = train_target\n",
    "w = np.dot(np.linalg.inv(X.T.dot(X)),X.T).dot(y)\n",
    "display(w[1:])\n",
    "\n",
    "# Checking the results on a model from scikit-learn\n",
    "model = LinearRegression()\n",
    "model.fit(train_features, train_target)\n",
    "model.coef_"
   ]
  },
  {
   "cell_type": "markdown",
   "metadata": {},
   "source": [
    "The coefficients match. We introduce some notation for further theoretical justification of the algorithm."
   ]
  },
  {
   "cell_type": "markdown",
   "metadata": {},
   "source": [
    "Designations:\n",
    "\n",
    "- $X$ — features matrix (the zero column consists of 1)\n",
    "\n",
    "- $y$ — vector of the target feature\n",
    "\n",
    "- $P$ - the matrix by which the features are multiplied\n",
    "\n",
    "- $w$ - a vector of linear regression weights (the zero element is equal to the shift)"
   ]
  },
  {
   "cell_type": "markdown",
   "metadata": {},
   "source": [
    "Predictions:\n",
    "\n",
    "$$\n",
    "\\begin{equation}\n",
    "\\begin{split}\n",
    "a = Xw\n",
    "\\end{split}\n",
    "\\end{equation}\n",
    "$$\n",
    "\n",
    "Task of training:\n",
    "\n",
    "$$\n",
    "w = \\arg\\min_w MSE(Xw, y)\n",
    "$$\n",
    "\n",
    "Formula of training:\n",
    "\n",
    "$$\n",
    "w = (X^T X)^{-1} X^T y\n",
    "$$"
   ]
  },
  {
   "cell_type": "markdown",
   "metadata": {},
   "source": [
    "**Question:** Features are multiplied by a reversible matrix. Will the quality of linear regression change?\n",
    "\n",
    "**Response:** No, it won't change.\n",
    "\n",
    "Replace the matrix $X$ with the matrix $Z$:\n",
    "$$\n",
    "\\begin{equation}\n",
    "\\begin{split}\n",
    "Z = XP\n",
    "\\end{split}\n",
    "\\end{equation}\n",
    "$$\n",
    "\n",
    "Where $P$ is an invertible matrix with some values, by which the matrix $X$ can be multiplied.\n",
    "\n",
    "**Justification:**\n",
    "\n",
    "Replace $X$ with $Z$ and calculate what the prediction and the vector of weights will be equal to.\n",
    "\n",
    "$$\n",
    "\\begin{equation}\n",
    "\\begin{split}\n",
    "a_1 = Zw_1 \\\\\n",
    "w_1 = (Z^TZ)^{-1}Z^Ty\n",
    "\\end{split}\n",
    "\\end{equation}$$\n",
    "\n",
    "Substitute the formula $w_1$ into the equation $a_1$\n",
    "$$\n",
    "\\begin{equation}\n",
    "\\begin{split}\n",
    "a_1 = Z(Z^TZ)^{-1}Z^Ty \\\\\n",
    "\\end{split}\n",
    "\\end{equation}$$\n",
    "\n",
    "Replace $Z$ with $XP$ from the first equation\n",
    "\n",
    "$$\n",
    "\\begin{equation}\n",
    "\\begin{split}\n",
    "a_1 = XP((XP)^T(XP))^{-1}(XP)^Ty \\\\\n",
    "\\end{split}\n",
    "\\end{equation}$$\n",
    "\n",
    "Taking into account that the statement is true for the inverse matrix:\n",
    "\n",
    "$$(AB)^{-1} = B^{-1}A^{-1}$$\n",
    "\n",
    "Let's open $((XP)^T(XP))^{-1}$:\n",
    "\n",
    "$$a_1 = XP((XP)^T(XP))^{-1}(XP)^{T}y = XP(XP)^{-1}((XP)^{T})^{-1}(XP)^{T}y = XPP^{-1}X^{-1}((XP)^T)^{-1}(XP)^{T}y$$\n",
    "\n",
    "Multiplication will result in $PP^{-1} = E$. Let's use the characteristic of matrix transposition: $(AB)^{T} = B^{T}A^{T}$\n",
    "\n",
    "Multiplying by the unit matrix does not change anything. Let's open $((XP)^{T})^{-1}(XP)^{T}$:\n",
    "\n",
    "$$\n",
    "a_1 = XEX^{-1}((XP)^{T})^{-1}(XP)^{T}y = XX^{-1}(P^{T}X^{T})^{-1}P^{T}X^{T}y = XX^{-1}(X^{T})^{-1}(P^{T})^{-1}P^{T}X^{T}y\n",
    "$$\n",
    "\n",
    "Multiplication will result in $(P^{T})^{-1}P^{T} = E$. Then, as a result of the transformations:\n",
    "\n",
    "$$\n",
    "a_1 = XX^{-1}(X^{T})^{-1}EX^{T}y = X(X^{T}X)^{-1}X^{T}y = Xw = a\n",
    "$$"
   ]
  },
  {
   "cell_type": "markdown",
   "metadata": {},
   "source": [
    "<div style=\"font-size: 20px\">\n",
    "    \n",
    "\n",
    "**Intermediate conclusion:**"
   ]
  },
  {
   "cell_type": "markdown",
   "metadata": {},
   "source": [
    "The final prediction results do not change if you multiply the feature matrix by the reversible matrix."
   ]
  },
  {
   "cell_type": "markdown",
   "metadata": {},
   "source": [
    "## 3.  Conversion algorithm"
   ]
  },
  {
   "cell_type": "markdown",
   "metadata": {},
   "source": [
    "**Algorithm**\n",
    "\n",
    "To protect information at the stage of searching for linear regression coefficients and making predictions, we multiply the feature matrix by an reversible matrix of random numbers.\n",
    "\n",
    "Algorithm stages:\n",
    "\n",
    "1. Generating a matrix of random numbers;\n",
    "\n",
    "2. Checking the matrix for reversibility (the presence of an inverse matrix);\n",
    "\n",
    "3. Obtaining matrices of transformed features (for training and test samples).\n",
    "\n",
    "4. Checking the operation of the algorithm on the transformed features."
   ]
  },
  {
   "cell_type": "markdown",
   "metadata": {},
   "source": [
    "**Justification**\n",
    "\n",
    "\n",
    "The fact of no changes in the final results of the features in the case of multiplying the latter by the transformation matrix from a mathematical point of view was considered earlier. When creating a matrix of transformed features, the dimension of the transformation matrix should be taken into account (it should be $n*n$), where n is the number of features for regression, and also check for the presence of an inverse matrix as proof of its reversibility. "
   ]
  },
  {
   "cell_type": "markdown",
   "metadata": {},
   "source": [
    "## 4.  Checking the algorithm"
   ]
  },
  {
   "cell_type": "markdown",
   "metadata": {},
   "source": [
    "Let's create a function that generates an reversible matrix of pseudorandom numbers. At the same time, if the matrix has an inverse, then it is reversible and vice versa. We will not check for the presence of a determinant not equal to zero, since the presence of an inverse matrix indicates the presence of a determinant not equal to zero and, moreover, only one."
   ]
  },
  {
   "cell_type": "code",
   "execution_count": 13,
   "metadata": {},
   "outputs": [],
   "source": [
    "def generate_mtrx(features_train, reversibility):\n",
    "    while reversibility:\n",
    "        #Let's create a matrix of random numbers\n",
    "        random_mtrx = np.random.random((features_train.shape[1], features_train.shape[1]))\n",
    "        # Checking the presence/absence of the inverse matrix\n",
    "        if reversibility:\n",
    "            try:\n",
    "                np.linalg.inv(random_mtrx)\n",
    "                return random_mtrx\n",
    "            except:\n",
    "                continue"
   ]
  },
  {
   "cell_type": "markdown",
   "metadata": {},
   "source": [
    "Let's build a linear regression model by multiplying the features by an invertible matrix."
   ]
  },
  {
   "cell_type": "code",
   "execution_count": 14,
   "metadata": {},
   "outputs": [
    {
     "name": "stdout",
     "output_type": "stream",
     "text": [
      "r2_score metric on train sample: 0.426\n",
      "r2_score metric on test sample: 0.423\n"
     ]
    }
   ],
   "source": [
    "rev_mtrx = generate_mtrx(train_features, True)\n",
    "\n",
    "train_features_2 = train_features@rev_mtrx\n",
    "test_features_2 = test_features@rev_mtrx\n",
    "\n",
    "model_2 = LinearRegression1()\n",
    "model_2.fit(train_features_2, train_target)\n",
    "model_2.score(train_features_2, train_target, 'train')\n",
    "model_2.score(test_features_2, test_target, 'test')"
   ]
  },
  {
   "cell_type": "markdown",
   "metadata": {},
   "source": [
    "<div style=\"font-size: 20px\">\n",
    "    \n",
    "\n",
    "**5. Final conclusions:**"
   ]
  },
  {
   "cell_type": "markdown",
   "metadata": {},
   "source": [
    "One of the possible ways to protect customer data is to multiply it by an invertible matrix. The quality of linear regression does not change when comparing the R2 metrics on the original matrix and the transformed one by multiplying the original matrix by the reversible one.\n",
    "\n",
    "Thus, the correctness of the data transformation algorithm was formulated, investigated and verified in order to protect them."
   ]
  }
 ],
 "metadata": {
  "ExecuteTimeLog": [
   {
    "duration": 939,
    "start_time": "2022-03-14T16:21:43.001Z"
   },
   {
    "duration": 46,
    "start_time": "2022-03-14T16:23:06.030Z"
   },
   {
    "duration": 16,
    "start_time": "2022-03-14T16:23:13.092Z"
   },
   {
    "duration": 8,
    "start_time": "2022-03-14T16:23:22.002Z"
   },
   {
    "duration": 7,
    "start_time": "2022-03-14T16:23:30.872Z"
   },
   {
    "duration": 6,
    "start_time": "2022-03-14T16:50:41.224Z"
   },
   {
    "duration": 5,
    "start_time": "2022-03-14T16:51:08.710Z"
   },
   {
    "duration": 5,
    "start_time": "2022-03-14T16:57:08.608Z"
   },
   {
    "duration": 5,
    "start_time": "2022-03-14T18:26:24.997Z"
   },
   {
    "duration": 5,
    "start_time": "2022-03-14T18:31:40.501Z"
   },
   {
    "duration": 4,
    "start_time": "2022-03-14T18:31:41.393Z"
   },
   {
    "duration": 5,
    "start_time": "2022-03-14T18:31:42.152Z"
   },
   {
    "duration": 6,
    "start_time": "2022-03-14T18:31:52.977Z"
   },
   {
    "duration": 257,
    "start_time": "2022-03-14T18:32:04.231Z"
   },
   {
    "duration": 6,
    "start_time": "2022-03-14T18:32:08.724Z"
   },
   {
    "duration": 6,
    "start_time": "2022-03-14T18:32:23.647Z"
   },
   {
    "duration": 6,
    "start_time": "2022-03-14T18:32:50.174Z"
   },
   {
    "duration": 5,
    "start_time": "2022-03-14T18:32:52.068Z"
   },
   {
    "duration": 6,
    "start_time": "2022-03-14T18:32:57.992Z"
   },
   {
    "duration": 1890,
    "start_time": "2022-03-14T18:33:14.837Z"
   },
   {
    "duration": 17,
    "start_time": "2022-03-14T18:33:16.729Z"
   },
   {
    "duration": 14,
    "start_time": "2022-03-14T18:33:16.748Z"
   },
   {
    "duration": 7,
    "start_time": "2022-03-14T18:33:16.764Z"
   },
   {
    "duration": 7,
    "start_time": "2022-03-14T18:33:16.772Z"
   },
   {
    "duration": 5,
    "start_time": "2022-03-14T18:33:16.781Z"
   },
   {
    "duration": 6,
    "start_time": "2022-03-14T18:33:16.787Z"
   },
   {
    "duration": 6,
    "start_time": "2022-03-14T18:33:16.796Z"
   },
   {
    "duration": 8,
    "start_time": "2022-03-14T18:33:16.832Z"
   },
   {
    "duration": 11,
    "start_time": "2022-03-14T18:33:16.842Z"
   },
   {
    "duration": 5,
    "start_time": "2022-03-14T18:33:32.998Z"
   },
   {
    "duration": 11,
    "start_time": "2022-03-14T18:39:29.766Z"
   },
   {
    "duration": 4,
    "start_time": "2022-03-14T19:24:37.158Z"
   },
   {
    "duration": 3,
    "start_time": "2022-03-14T19:27:09.915Z"
   },
   {
    "duration": 258,
    "start_time": "2022-03-14T19:27:25.905Z"
   },
   {
    "duration": 3,
    "start_time": "2022-03-14T19:27:31.699Z"
   },
   {
    "duration": 358,
    "start_time": "2022-03-14T19:27:51.913Z"
   },
   {
    "duration": 4,
    "start_time": "2022-03-14T19:28:20.615Z"
   },
   {
    "duration": 183,
    "start_time": "2022-03-14T19:28:23.281Z"
   },
   {
    "duration": 190,
    "start_time": "2022-03-14T19:28:36.079Z"
   },
   {
    "duration": 5,
    "start_time": "2022-03-14T19:28:49.964Z"
   },
   {
    "duration": 3,
    "start_time": "2022-03-14T19:28:56.650Z"
   },
   {
    "duration": 4,
    "start_time": "2022-03-14T19:29:05.868Z"
   },
   {
    "duration": 4,
    "start_time": "2022-03-14T19:37:30.506Z"
   },
   {
    "duration": 5,
    "start_time": "2022-03-14T19:37:32.039Z"
   },
   {
    "duration": 4,
    "start_time": "2022-03-14T19:37:53.929Z"
   },
   {
    "duration": 4,
    "start_time": "2022-03-14T19:38:51.460Z"
   },
   {
    "duration": 4,
    "start_time": "2022-03-14T19:39:05.808Z"
   },
   {
    "duration": 4,
    "start_time": "2022-03-14T19:39:16.520Z"
   },
   {
    "duration": 4,
    "start_time": "2022-03-14T19:39:23.249Z"
   },
   {
    "duration": 4,
    "start_time": "2022-03-14T19:39:24.551Z"
   },
   {
    "duration": 4,
    "start_time": "2022-03-14T19:39:25.252Z"
   },
   {
    "duration": 4,
    "start_time": "2022-03-14T19:39:27.913Z"
   },
   {
    "duration": 4,
    "start_time": "2022-03-14T19:39:28.726Z"
   },
   {
    "duration": 5,
    "start_time": "2022-03-14T19:40:20.518Z"
   },
   {
    "duration": 5,
    "start_time": "2022-03-14T19:40:21.502Z"
   },
   {
    "duration": 4,
    "start_time": "2022-03-14T19:40:23.685Z"
   },
   {
    "duration": 5,
    "start_time": "2022-03-14T19:40:24.581Z"
   },
   {
    "duration": 4,
    "start_time": "2022-03-14T19:40:25.669Z"
   },
   {
    "duration": 58,
    "start_time": "2022-03-14T19:44:47.003Z"
   },
   {
    "duration": 4,
    "start_time": "2022-03-14T19:44:53.022Z"
   },
   {
    "duration": 4,
    "start_time": "2022-03-14T19:44:55.164Z"
   },
   {
    "duration": 5,
    "start_time": "2022-03-14T19:44:58.257Z"
   },
   {
    "duration": 176,
    "start_time": "2022-03-14T19:45:46.456Z"
   },
   {
    "duration": 186,
    "start_time": "2022-03-14T19:46:06.976Z"
   },
   {
    "duration": 183,
    "start_time": "2022-03-14T19:46:28.398Z"
   },
   {
    "duration": 186,
    "start_time": "2022-03-14T19:46:45.381Z"
   },
   {
    "duration": 5,
    "start_time": "2022-03-14T19:47:03.310Z"
   },
   {
    "duration": 5,
    "start_time": "2022-03-14T19:47:03.908Z"
   },
   {
    "duration": 4,
    "start_time": "2022-03-14T19:47:24.638Z"
   },
   {
    "duration": 230,
    "start_time": "2022-03-14T19:54:15.198Z"
   },
   {
    "duration": 174,
    "start_time": "2022-03-14T19:54:26.873Z"
   },
   {
    "duration": 5,
    "start_time": "2022-03-14T19:54:37.255Z"
   },
   {
    "duration": 4,
    "start_time": "2022-03-14T19:55:02.712Z"
   },
   {
    "duration": 4,
    "start_time": "2022-03-14T19:55:27.416Z"
   },
   {
    "duration": 5,
    "start_time": "2022-03-14T19:59:26.338Z"
   },
   {
    "duration": 3,
    "start_time": "2022-03-14T19:59:27.789Z"
   },
   {
    "duration": 3,
    "start_time": "2022-03-14T19:59:29.133Z"
   },
   {
    "duration": 4,
    "start_time": "2022-03-14T20:00:11.255Z"
   },
   {
    "duration": 5,
    "start_time": "2022-03-14T20:00:12.031Z"
   },
   {
    "duration": 3,
    "start_time": "2022-03-14T20:00:12.787Z"
   },
   {
    "duration": 4,
    "start_time": "2022-03-14T20:00:29.819Z"
   },
   {
    "duration": 3,
    "start_time": "2022-03-14T20:00:31.181Z"
   },
   {
    "duration": 5,
    "start_time": "2022-03-14T20:01:09.242Z"
   },
   {
    "duration": 4,
    "start_time": "2022-03-14T20:01:09.981Z"
   },
   {
    "duration": 3,
    "start_time": "2022-03-14T20:01:11.136Z"
   },
   {
    "duration": 5,
    "start_time": "2022-03-14T20:01:30.658Z"
   },
   {
    "duration": 4,
    "start_time": "2022-03-14T20:01:31.635Z"
   },
   {
    "duration": 3,
    "start_time": "2022-03-14T20:01:32.255Z"
   },
   {
    "duration": 5,
    "start_time": "2022-03-14T20:02:13.029Z"
   },
   {
    "duration": 4,
    "start_time": "2022-03-14T20:02:13.942Z"
   },
   {
    "duration": 4,
    "start_time": "2022-03-14T20:02:14.509Z"
   },
   {
    "duration": 3,
    "start_time": "2022-03-14T20:02:35.674Z"
   },
   {
    "duration": 5,
    "start_time": "2022-03-14T20:02:37.117Z"
   },
   {
    "duration": 3,
    "start_time": "2022-03-14T20:02:39.549Z"
   },
   {
    "duration": 5,
    "start_time": "2022-03-14T20:02:51.933Z"
   },
   {
    "duration": 3,
    "start_time": "2022-03-14T20:02:53.302Z"
   },
   {
    "duration": 67818,
    "start_time": "2022-03-14T20:02:53.991Z"
   },
   {
    "duration": -615,
    "start_time": "2022-03-14T20:04:02.426Z"
   },
   {
    "duration": -619,
    "start_time": "2022-03-14T20:04:02.431Z"
   },
   {
    "duration": 4,
    "start_time": "2022-03-14T20:04:09.781Z"
   },
   {
    "duration": 34639,
    "start_time": "2022-03-14T20:04:11.077Z"
   },
   {
    "duration": 5,
    "start_time": "2022-03-14T20:04:56.462Z"
   },
   {
    "duration": 4,
    "start_time": "2022-03-14T20:04:57.409Z"
   },
   {
    "duration": 33711,
    "start_time": "2022-03-14T20:04:58.474Z"
   },
   {
    "duration": 4,
    "start_time": "2022-03-14T20:07:43.347Z"
   },
   {
    "duration": 3,
    "start_time": "2022-03-14T20:07:45.132Z"
   },
   {
    "duration": 4194,
    "start_time": "2022-03-14T20:07:46.643Z"
   },
   {
    "duration": 4,
    "start_time": "2022-03-14T20:08:37.005Z"
   },
   {
    "duration": 3,
    "start_time": "2022-03-14T20:08:37.089Z"
   },
   {
    "duration": 190962,
    "start_time": "2022-03-14T20:08:38.156Z"
   },
   {
    "duration": 4,
    "start_time": "2022-03-14T20:13:21.262Z"
   },
   {
    "duration": 180,
    "start_time": "2022-03-14T20:15:36.957Z"
   },
   {
    "duration": 3,
    "start_time": "2022-03-14T20:15:41.403Z"
   },
   {
    "duration": 3,
    "start_time": "2022-03-14T20:15:43.381Z"
   },
   {
    "duration": 3,
    "start_time": "2022-03-14T20:16:22.286Z"
   },
   {
    "duration": 3,
    "start_time": "2022-03-14T20:16:24.164Z"
   },
   {
    "duration": 182,
    "start_time": "2022-03-14T20:23:43.018Z"
   },
   {
    "duration": 4,
    "start_time": "2022-03-14T20:24:41.472Z"
   },
   {
    "duration": 181,
    "start_time": "2022-03-14T20:24:43.217Z"
   },
   {
    "duration": 241,
    "start_time": "2022-03-14T20:25:17.511Z"
   },
   {
    "duration": 10,
    "start_time": "2022-03-14T20:26:40.553Z"
   },
   {
    "duration": 236,
    "start_time": "2022-03-14T20:26:59.019Z"
   },
   {
    "duration": 18,
    "start_time": "2022-03-14T20:27:39.802Z"
   },
   {
    "duration": 14,
    "start_time": "2022-03-14T20:27:47.731Z"
   },
   {
    "duration": 3,
    "start_time": "2022-03-14T20:30:00.352Z"
   },
   {
    "duration": 8446,
    "start_time": "2022-03-14T20:30:02.818Z"
   },
   {
    "duration": 3,
    "start_time": "2022-03-14T20:30:53.132Z"
   },
   {
    "duration": 102868,
    "start_time": "2022-03-14T20:30:55.729Z"
   },
   {
    "duration": -518,
    "start_time": "2022-03-14T20:32:39.117Z"
   },
   {
    "duration": 8,
    "start_time": "2022-03-14T20:32:45.048Z"
   },
   {
    "duration": 190,
    "start_time": "2022-03-14T20:32:48.199Z"
   },
   {
    "duration": 22,
    "start_time": "2022-03-14T20:33:39.717Z"
   },
   {
    "duration": 10,
    "start_time": "2022-03-14T20:33:49.169Z"
   },
   {
    "duration": 1301,
    "start_time": "2022-03-16T04:53:17.973Z"
   },
   {
    "duration": 19,
    "start_time": "2022-03-16T04:53:19.277Z"
   },
   {
    "duration": 20,
    "start_time": "2022-03-16T04:53:19.302Z"
   },
   {
    "duration": 12,
    "start_time": "2022-03-16T04:53:19.324Z"
   },
   {
    "duration": 9,
    "start_time": "2022-03-16T04:53:19.338Z"
   },
   {
    "duration": 9,
    "start_time": "2022-03-16T04:53:19.382Z"
   },
   {
    "duration": 8,
    "start_time": "2022-03-16T04:53:19.395Z"
   },
   {
    "duration": 6,
    "start_time": "2022-03-16T04:53:19.406Z"
   },
   {
    "duration": 7,
    "start_time": "2022-03-16T04:53:19.415Z"
   },
   {
    "duration": 64,
    "start_time": "2022-03-16T04:53:19.424Z"
   },
   {
    "duration": 97,
    "start_time": "2022-03-16T04:53:19.491Z"
   },
   {
    "duration": 91,
    "start_time": "2022-03-16T04:53:19.591Z"
   },
   {
    "duration": 20,
    "start_time": "2022-03-16T04:59:05.975Z"
   },
   {
    "duration": 1278,
    "start_time": "2022-03-16T04:59:49.798Z"
   },
   {
    "duration": 15,
    "start_time": "2022-03-16T04:59:51.079Z"
   },
   {
    "duration": 23,
    "start_time": "2022-03-16T04:59:51.100Z"
   },
   {
    "duration": 27,
    "start_time": "2022-03-16T04:59:51.125Z"
   },
   {
    "duration": 24,
    "start_time": "2022-03-16T04:59:51.154Z"
   },
   {
    "duration": 14,
    "start_time": "2022-03-16T04:59:51.183Z"
   },
   {
    "duration": 11,
    "start_time": "2022-03-16T04:59:51.200Z"
   },
   {
    "duration": 7,
    "start_time": "2022-03-16T04:59:51.213Z"
   },
   {
    "duration": 13,
    "start_time": "2022-03-16T04:59:51.223Z"
   },
   {
    "duration": 54,
    "start_time": "2022-03-16T04:59:51.238Z"
   },
   {
    "duration": 5,
    "start_time": "2022-03-16T04:59:51.384Z"
   },
   {
    "duration": 467,
    "start_time": "2022-03-16T04:59:51.391Z"
   },
   {
    "duration": 50,
    "start_time": "2022-03-16T05:03:56.635Z"
   },
   {
    "duration": 9,
    "start_time": "2022-03-16T05:11:29.620Z"
   },
   {
    "duration": 336,
    "start_time": "2022-03-16T05:12:11.409Z"
   },
   {
    "duration": 283,
    "start_time": "2022-03-16T05:13:42.670Z"
   },
   {
    "duration": 13,
    "start_time": "2022-03-16T05:15:36.772Z"
   },
   {
    "duration": 9,
    "start_time": "2022-03-16T05:16:03.935Z"
   },
   {
    "duration": 17,
    "start_time": "2022-03-16T05:16:09.873Z"
   },
   {
    "duration": 18,
    "start_time": "2022-03-16T05:16:16.612Z"
   },
   {
    "duration": 5,
    "start_time": "2022-03-16T05:19:08.360Z"
   },
   {
    "duration": 13,
    "start_time": "2022-03-16T05:19:28.840Z"
   }
  ],
  "kernelspec": {
   "display_name": "Python 3",
   "language": "python",
   "name": "python3"
  },
  "language_info": {
   "codemirror_mode": {
    "name": "ipython",
    "version": 3
   },
   "file_extension": ".py",
   "mimetype": "text/x-python",
   "name": "python",
   "nbconvert_exporter": "python",
   "pygments_lexer": "ipython3",
   "version": "3.8.8"
  },
  "toc": {
   "base_numbering": 1,
   "nav_menu": {},
   "number_sections": true,
   "sideBar": true,
   "skip_h1_title": true,
   "title_cell": "Содержание",
   "title_sidebar": "Contents",
   "toc_cell": true,
   "toc_position": {
    "height": "calc(100% - 180px)",
    "left": "10px",
    "top": "150px",
    "width": "165px"
   },
   "toc_section_display": true,
   "toc_window_display": true
  }
 },
 "nbformat": 4,
 "nbformat_minor": 2
}
