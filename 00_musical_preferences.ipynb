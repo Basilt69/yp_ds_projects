{
 "cells": [
  {
   "cell_type": "markdown",
   "metadata": {
    "id": "E0vqbgi9ay0H"
   },
   "source": [
    "# Yandex.Music"
   ]
  },
  {
   "cell_type": "markdown",
   "metadata": {
    "id": "VUC88oWjTJw2"
   },
   "source": [
    " **Table of contents:**\n",
    " 1. Introduction\n",
    " \n",
    " 2. Data preprocessing\n",
    " \n",
    " 3. Hypothesis testing\n",
    " \n",
    "**The aim of this project** is to compare the beahavior of Yandex.Music users in Saint-Peterburg and Moscow. Bearing in mind that Moscow is  a megapolis with a very tense working life while Saint-Petersburg is one of the main cultural cities of the country we shall test three hypothises:\n",
    "\n",
    "1. Users activity depends on day of the week and is different in Moscow and Saint-Petersburg;\n",
    "\n",
    "\n",
    "2. Monday morning Moscow users prefer different genres in comparison with those of Saint-Petersburg. The same situation is in respect of Friday music preferences;\n",
    "\n",
    "\n",
    "3. Moscow and Saint petersburg users prefer different genrs of music. Moscow users prefer pop-music while those of Saint-Petersburg - Russian rap."
   ]
  },
  {
   "cell_type": "markdown",
   "metadata": {},
   "source": [
    "# 1.Introduction "
   ]
  },
  {
   "cell_type": "markdown",
   "metadata": {
    "id": "Ml1hmfXC_Zcs"
   },
   "source": [
    "Let's get into Yandex.Music data."
   ]
  },
  {
   "cell_type": "code",
   "execution_count": 1,
   "metadata": {
    "id": "AXN7PHPN_Zcs"
   },
   "outputs": [],
   "source": [
    "import pandas as pd"
   ]
  },
  {
   "cell_type": "code",
   "execution_count": 2,
   "metadata": {
    "id": "fFVu7vqh_Zct"
   },
   "outputs": [],
   "source": [
    "df = pd.read_csv('yandex_music_project.csv')"
   ]
  },
  {
   "cell_type": "markdown",
   "metadata": {
    "id": "rDoOMd3uTqnZ"
   },
   "source": [
    "Let's look at the first 10 strings and general information."
   ]
  },
  {
   "cell_type": "code",
   "execution_count": 3,
   "metadata": {
    "id": "oWTVX3gW_Zct",
    "scrolled": true
   },
   "outputs": [
    {
     "data": {
      "text/html": [
       "<div>\n",
       "<style scoped>\n",
       "    .dataframe tbody tr th:only-of-type {\n",
       "        vertical-align: middle;\n",
       "    }\n",
       "\n",
       "    .dataframe tbody tr th {\n",
       "        vertical-align: top;\n",
       "    }\n",
       "\n",
       "    .dataframe thead th {\n",
       "        text-align: right;\n",
       "    }\n",
       "</style>\n",
       "<table border=\"1\" class=\"dataframe\">\n",
       "  <thead>\n",
       "    <tr style=\"text-align: right;\">\n",
       "      <th></th>\n",
       "      <th>userID</th>\n",
       "      <th>Track</th>\n",
       "      <th>artist</th>\n",
       "      <th>genre</th>\n",
       "      <th>City</th>\n",
       "      <th>time</th>\n",
       "      <th>Day</th>\n",
       "    </tr>\n",
       "  </thead>\n",
       "  <tbody>\n",
       "    <tr>\n",
       "      <th>0</th>\n",
       "      <td>FFB692EC</td>\n",
       "      <td>Kamigata To Boots</td>\n",
       "      <td>The Mass Missile</td>\n",
       "      <td>rock</td>\n",
       "      <td>Saint-Petersburg</td>\n",
       "      <td>20:28:33</td>\n",
       "      <td>Wednesday</td>\n",
       "    </tr>\n",
       "    <tr>\n",
       "      <th>1</th>\n",
       "      <td>55204538</td>\n",
       "      <td>Delayed Because of Accident</td>\n",
       "      <td>Andreas Rönnberg</td>\n",
       "      <td>rock</td>\n",
       "      <td>Moscow</td>\n",
       "      <td>14:07:09</td>\n",
       "      <td>Friday</td>\n",
       "    </tr>\n",
       "    <tr>\n",
       "      <th>2</th>\n",
       "      <td>20EC38</td>\n",
       "      <td>Funiculì funiculà</td>\n",
       "      <td>Mario Lanza</td>\n",
       "      <td>pop</td>\n",
       "      <td>Saint-Petersburg</td>\n",
       "      <td>20:58:07</td>\n",
       "      <td>Wednesday</td>\n",
       "    </tr>\n",
       "    <tr>\n",
       "      <th>3</th>\n",
       "      <td>A3DD03C9</td>\n",
       "      <td>Dragons in the Sunset</td>\n",
       "      <td>Fire + Ice</td>\n",
       "      <td>folk</td>\n",
       "      <td>Saint-Petersburg</td>\n",
       "      <td>08:37:09</td>\n",
       "      <td>Monday</td>\n",
       "    </tr>\n",
       "    <tr>\n",
       "      <th>4</th>\n",
       "      <td>E2DC1FAE</td>\n",
       "      <td>Soul People</td>\n",
       "      <td>Space Echo</td>\n",
       "      <td>dance</td>\n",
       "      <td>Moscow</td>\n",
       "      <td>08:34:34</td>\n",
       "      <td>Monday</td>\n",
       "    </tr>\n",
       "    <tr>\n",
       "      <th>5</th>\n",
       "      <td>842029A1</td>\n",
       "      <td>Преданная</td>\n",
       "      <td>IMPERVTOR</td>\n",
       "      <td>rusrap</td>\n",
       "      <td>Saint-Petersburg</td>\n",
       "      <td>13:09:41</td>\n",
       "      <td>Friday</td>\n",
       "    </tr>\n",
       "    <tr>\n",
       "      <th>6</th>\n",
       "      <td>4CB90AA5</td>\n",
       "      <td>True</td>\n",
       "      <td>Roman Messer</td>\n",
       "      <td>dance</td>\n",
       "      <td>Moscow</td>\n",
       "      <td>13:00:07</td>\n",
       "      <td>Wednesday</td>\n",
       "    </tr>\n",
       "    <tr>\n",
       "      <th>7</th>\n",
       "      <td>F03E1C1F</td>\n",
       "      <td>Feeling This Way</td>\n",
       "      <td>Polina Griffith</td>\n",
       "      <td>dance</td>\n",
       "      <td>Moscow</td>\n",
       "      <td>20:47:49</td>\n",
       "      <td>Wednesday</td>\n",
       "    </tr>\n",
       "    <tr>\n",
       "      <th>8</th>\n",
       "      <td>8FA1D3BE</td>\n",
       "      <td>И вновь продолжается бой</td>\n",
       "      <td>NaN</td>\n",
       "      <td>ruspop</td>\n",
       "      <td>Moscow</td>\n",
       "      <td>09:17:40</td>\n",
       "      <td>Friday</td>\n",
       "    </tr>\n",
       "    <tr>\n",
       "      <th>9</th>\n",
       "      <td>E772D5C0</td>\n",
       "      <td>Pessimist</td>\n",
       "      <td>NaN</td>\n",
       "      <td>dance</td>\n",
       "      <td>Saint-Petersburg</td>\n",
       "      <td>21:20:49</td>\n",
       "      <td>Wednesday</td>\n",
       "    </tr>\n",
       "  </tbody>\n",
       "</table>\n",
       "</div>"
      ],
      "text/plain": [
       "     userID                        Track            artist   genre  \\\n",
       "0  FFB692EC            Kamigata To Boots  The Mass Missile    rock   \n",
       "1  55204538  Delayed Because of Accident  Andreas Rönnberg    rock   \n",
       "2    20EC38            Funiculì funiculà       Mario Lanza     pop   \n",
       "3  A3DD03C9        Dragons in the Sunset        Fire + Ice    folk   \n",
       "4  E2DC1FAE                  Soul People        Space Echo   dance   \n",
       "5  842029A1                    Преданная         IMPERVTOR  rusrap   \n",
       "6  4CB90AA5                         True      Roman Messer   dance   \n",
       "7  F03E1C1F             Feeling This Way   Polina Griffith   dance   \n",
       "8  8FA1D3BE     И вновь продолжается бой               NaN  ruspop   \n",
       "9  E772D5C0                    Pessimist               NaN   dance   \n",
       "\n",
       "             City        time        Day  \n",
       "0  Saint-Petersburg  20:28:33  Wednesday  \n",
       "1            Moscow  14:07:09     Friday  \n",
       "2  Saint-Petersburg  20:58:07  Wednesday  \n",
       "3  Saint-Petersburg  08:37:09     Monday  \n",
       "4            Moscow  08:34:34     Monday  \n",
       "5  Saint-Petersburg  13:09:41     Friday  \n",
       "6            Moscow  13:00:07  Wednesday  \n",
       "7            Moscow  20:47:49  Wednesday  \n",
       "8            Moscow  09:17:40     Friday  \n",
       "9  Saint-Petersburg  21:20:49  Wednesday  "
      ]
     },
     "execution_count": 3,
     "metadata": {},
     "output_type": "execute_result"
    }
   ],
   "source": [
    "df.head(10)"
   ]
  },
  {
   "cell_type": "code",
   "execution_count": 4,
   "metadata": {
    "id": "DSf2kIb-_Zct"
   },
   "outputs": [
    {
     "name": "stdout",
     "output_type": "stream",
     "text": [
      "<class 'pandas.core.frame.DataFrame'>\n",
      "RangeIndex: 65079 entries, 0 to 65078\n",
      "Data columns (total 7 columns):\n",
      " #   Column    Non-Null Count  Dtype \n",
      "---  ------    --------------  ----- \n",
      " 0     userID  65079 non-null  object\n",
      " 1   Track     63848 non-null  object\n",
      " 2   artist    57876 non-null  object\n",
      " 3   genre     63881 non-null  object\n",
      " 4     City    65079 non-null  object\n",
      " 5   time      65079 non-null  object\n",
      " 6   Day       65079 non-null  object\n",
      "dtypes: object(7)\n",
      "memory usage: 3.5+ MB\n"
     ]
    }
   ],
   "source": [
    "df.info()"
   ]
  },
  {
   "cell_type": "markdown",
   "metadata": {
    "id": "TaQ2Iwbr_Zct"
   },
   "source": [
    "So, there are seven columns in the table. The data type in all columns is `object'.\n",
    "\n",
    "According to the data documentation:\n",
    "* userID - the user ID;\n",
    "* Track — the name of the track;\n",
    "* artist — artist's name;\n",
    "* genre — the name of the genre;\n",
    "* City — the user's city;\n",
    "* time — the start time of listening;\n",
    "* Day — the day of the week.\n",
    "\n",
    "Three style violations can be found in the column titles:\n",
    "1. Lowercase letters are combined with uppercase.\n",
    "2. There are gaps.\n",
    "3. there is no \"snake register\"\n",
    "\n",
    "The number of values in the columns varies. So there are missing values in the data."
   ]
  },
  {
   "cell_type": "markdown",
   "metadata": {
    "id": "MCB6-dXG_Zct"
   },
   "source": [
    "**Intermediate conclusion**\n",
    "\n",
    "Each row of the table contsains data about the listened track. Part of the columns describes the composition itself: name, artist and genre. The rest of the data tells about the user: what city he is from, when he listened to music.\n",
    "\n",
    "It can be stated  by now that there is enough data to test hypothesis. But there are gaps in the data, and in the column names. There are also discrepancies with good style.\n",
    "\n",
    "To move on, we need to fix the problems in the data."
   ]
  },
  {
   "cell_type": "markdown",
   "metadata": {
    "id": "SjYF6Ub9_Zct"
   },
   "source": [
    "## 2. Data preprocessing"
   ]
  },
  {
   "cell_type": "markdown",
   "metadata": {
    "id": "dIaKXr29_Zct"
   },
   "source": [
    "### Style of headers"
   ]
  },
  {
   "cell_type": "code",
   "execution_count": 5,
   "metadata": {
    "id": "oKOTdF_Q_Zct",
    "scrolled": true
   },
   "outputs": [
    {
     "data": {
      "text/plain": [
       "Index(['  userID', 'Track', 'artist', 'genre', '  City  ', 'time', 'Day'], dtype='object')"
      ]
     },
     "execution_count": 5,
     "metadata": {},
     "output_type": "execute_result"
    }
   ],
   "source": [
    "df.columns"
   ]
  },
  {
   "cell_type": "code",
   "execution_count": 6,
   "metadata": {
    "id": "ISlFqs5y_Zct"
   },
   "outputs": [],
   "source": [
    "# columns renaming\n",
    "df = df.rename(columns = {'  userID':'user_id', 'Track': 'track', '  City  ': 'city', 'Day':'day'})"
   ]
  },
  {
   "cell_type": "code",
   "execution_count": 7,
   "metadata": {
    "id": "d4NOAmTW_Zct",
    "scrolled": true
   },
   "outputs": [
    {
     "data": {
      "text/plain": [
       "Index(['user_id', 'track', 'artist', 'genre', 'city', 'time', 'day'], dtype='object')"
      ]
     },
     "execution_count": 7,
     "metadata": {},
     "output_type": "execute_result"
    }
   ],
   "source": [
    "# let's check the results\n",
    "df.columns"
   ]
  },
  {
   "cell_type": "markdown",
   "metadata": {
    "id": "5ISfbcfY_Zct"
   },
   "source": [
    "### Missing values"
   ]
  },
  {
   "cell_type": "code",
   "execution_count": 8,
   "metadata": {
    "id": "RskX29qr_Zct"
   },
   "outputs": [
    {
     "name": "stdout",
     "output_type": "stream",
     "text": [
      "user_id       0\n",
      "track      1231\n",
      "artist     7203\n",
      "genre      1198\n",
      "city          0\n",
      "time          0\n",
      "day           0\n",
      "dtype: int64\n"
     ]
    }
   ],
   "source": [
    "# let's check out missing values\n",
    "print(df.isna().sum())"
   ]
  },
  {
   "cell_type": "markdown",
   "metadata": {
    "id": "qubhgnlO_Zct"
   },
   "source": [
    "Not all missing values shall affect futher analysis. So in `track` and `artist` the omissions are not important can be replaced with explicit designations.\n",
    "\n",
    "But omissions in `genre` may interfere with the comparison of musical tastes in Moscow and St. Petersburg.\n",
    "Since we cannot find out the true reasons for those ommissions, let's:\n",
    "\n",
    "* fill in these gaps with explicit notation,\n",
    "\n",
    "* assess how much they will damage the calculations."
   ]
  },
  {
   "cell_type": "code",
   "execution_count": 9,
   "metadata": {
    "id": "KplB5qWs_Zct"
   },
   "outputs": [],
   "source": [
    "# replacing the missing values with 'unknown'\n",
    "columns_to_replace = ['track', 'artist', 'genre']\n",
    "\n",
    "for column in columns_to_replace:\n",
    "    df[column] = df[column].fillna('unknown')"
   ]
  },
  {
   "cell_type": "code",
   "execution_count": 10,
   "metadata": {
    "id": "Tq4nYRX4_Zct",
    "scrolled": true
   },
   "outputs": [
    {
     "name": "stdout",
     "output_type": "stream",
     "text": [
      "user_id    0\n",
      "track      0\n",
      "artist     0\n",
      "genre      0\n",
      "city       0\n",
      "time       0\n",
      "day        0\n",
      "dtype: int64\n"
     ]
    }
   ],
   "source": [
    "# checking out the results\n",
    "print(df.isna().sum())"
   ]
  },
  {
   "cell_type": "markdown",
   "metadata": {
    "id": "BWKRtBJ3_Zct"
   },
   "source": [
    "### Duplicates"
   ]
  },
  {
   "cell_type": "code",
   "execution_count": 11,
   "metadata": {
    "id": "36eES_S0_Zct",
    "scrolled": false
   },
   "outputs": [
    {
     "data": {
      "text/plain": [
       "3826"
      ]
     },
     "metadata": {},
     "output_type": "display_data"
    },
    {
     "data": {
      "text/html": [
       "<div>\n",
       "<style scoped>\n",
       "    .dataframe tbody tr th:only-of-type {\n",
       "        vertical-align: middle;\n",
       "    }\n",
       "\n",
       "    .dataframe tbody tr th {\n",
       "        vertical-align: top;\n",
       "    }\n",
       "\n",
       "    .dataframe thead th {\n",
       "        text-align: right;\n",
       "    }\n",
       "</style>\n",
       "<table border=\"1\" class=\"dataframe\">\n",
       "  <thead>\n",
       "    <tr style=\"text-align: right;\">\n",
       "      <th></th>\n",
       "      <th>user_id</th>\n",
       "      <th>track</th>\n",
       "      <th>artist</th>\n",
       "      <th>genre</th>\n",
       "      <th>city</th>\n",
       "      <th>time</th>\n",
       "      <th>day</th>\n",
       "    </tr>\n",
       "  </thead>\n",
       "  <tbody>\n",
       "    <tr>\n",
       "      <th>575</th>\n",
       "      <td>E7F07B46</td>\n",
       "      <td>Crazy</td>\n",
       "      <td>The Manhattans</td>\n",
       "      <td>rnb</td>\n",
       "      <td>Moscow</td>\n",
       "      <td>13:39:46</td>\n",
       "      <td>Monday</td>\n",
       "    </tr>\n",
       "    <tr>\n",
       "      <th>832</th>\n",
       "      <td>7671A47A</td>\n",
       "      <td>Миражи</td>\n",
       "      <td>Восток</td>\n",
       "      <td>ruspop</td>\n",
       "      <td>Moscow</td>\n",
       "      <td>21:59:33</td>\n",
       "      <td>Wednesday</td>\n",
       "    </tr>\n",
       "    <tr>\n",
       "      <th>1216</th>\n",
       "      <td>69467B01</td>\n",
       "      <td>Change It All</td>\n",
       "      <td>Harrison Storm</td>\n",
       "      <td>singer</td>\n",
       "      <td>Moscow</td>\n",
       "      <td>20:53:06</td>\n",
       "      <td>Wednesday</td>\n",
       "    </tr>\n",
       "    <tr>\n",
       "      <th>1754</th>\n",
       "      <td>13B1A573</td>\n",
       "      <td>Te Adoramos Jesús</td>\n",
       "      <td>Athenas</td>\n",
       "      <td>spiritual</td>\n",
       "      <td>Moscow</td>\n",
       "      <td>13:19:37</td>\n",
       "      <td>Monday</td>\n",
       "    </tr>\n",
       "    <tr>\n",
       "      <th>1964</th>\n",
       "      <td>B24668A0</td>\n",
       "      <td>Mad over You Mashup</td>\n",
       "      <td>Nana Fofie</td>\n",
       "      <td>singer</td>\n",
       "      <td>Moscow</td>\n",
       "      <td>20:36:51</td>\n",
       "      <td>Monday</td>\n",
       "    </tr>\n",
       "    <tr>\n",
       "      <th>2457</th>\n",
       "      <td>B896FACC</td>\n",
       "      <td>No Pussy Blues</td>\n",
       "      <td>Grinderman</td>\n",
       "      <td>pop</td>\n",
       "      <td>Saint-Petersburg</td>\n",
       "      <td>09:08:49</td>\n",
       "      <td>Wednesday</td>\n",
       "    </tr>\n",
       "    <tr>\n",
       "      <th>2770</th>\n",
       "      <td>6573A983</td>\n",
       "      <td>Суета-муета</td>\n",
       "      <td>Дюмин А.</td>\n",
       "      <td>shanson</td>\n",
       "      <td>Moscow</td>\n",
       "      <td>21:15:40</td>\n",
       "      <td>Friday</td>\n",
       "    </tr>\n",
       "    <tr>\n",
       "      <th>2885</th>\n",
       "      <td>512B0511</td>\n",
       "      <td>Purgatory</td>\n",
       "      <td>Scientific Harmony</td>\n",
       "      <td>dance</td>\n",
       "      <td>Moscow</td>\n",
       "      <td>09:55:06</td>\n",
       "      <td>Monday</td>\n",
       "    </tr>\n",
       "    <tr>\n",
       "      <th>2895</th>\n",
       "      <td>2696EA88</td>\n",
       "      <td>Daddy D</td>\n",
       "      <td>Kung Fu</td>\n",
       "      <td>funk</td>\n",
       "      <td>Moscow</td>\n",
       "      <td>08:33:34</td>\n",
       "      <td>Wednesday</td>\n",
       "    </tr>\n",
       "    <tr>\n",
       "      <th>2979</th>\n",
       "      <td>3C8ECBFE</td>\n",
       "      <td>Ederlezi</td>\n",
       "      <td>Coq Au Vin</td>\n",
       "      <td>world</td>\n",
       "      <td>Moscow</td>\n",
       "      <td>13:25:15</td>\n",
       "      <td>Monday</td>\n",
       "    </tr>\n",
       "  </tbody>\n",
       "</table>\n",
       "</div>"
      ],
      "text/plain": [
       "       user_id                track              artist      genre  \\\n",
       "575   E7F07B46                Crazy      The Manhattans        rnb   \n",
       "832   7671A47A               Миражи              Восток     ruspop   \n",
       "1216  69467B01        Change It All      Harrison Storm     singer   \n",
       "1754  13B1A573    Te Adoramos Jesús             Athenas  spiritual   \n",
       "1964  B24668A0  Mad over You Mashup          Nana Fofie     singer   \n",
       "2457  B896FACC       No Pussy Blues          Grinderman        pop   \n",
       "2770  6573A983          Суета-муета            Дюмин А.    shanson   \n",
       "2885  512B0511            Purgatory  Scientific Harmony      dance   \n",
       "2895  2696EA88              Daddy D             Kung Fu       funk   \n",
       "2979  3C8ECBFE             Ederlezi          Coq Au Vin      world   \n",
       "\n",
       "                  city      time        day  \n",
       "575             Moscow  13:39:46     Monday  \n",
       "832             Moscow  21:59:33  Wednesday  \n",
       "1216            Moscow  20:53:06  Wednesday  \n",
       "1754            Moscow  13:19:37     Monday  \n",
       "1964            Moscow  20:36:51     Monday  \n",
       "2457  Saint-Petersburg  09:08:49  Wednesday  \n",
       "2770            Moscow  21:15:40     Friday  \n",
       "2885            Moscow  09:55:06     Monday  \n",
       "2895            Moscow  08:33:34  Wednesday  \n",
       "2979            Moscow  13:25:15     Monday  "
      ]
     },
     "execution_count": 11,
     "metadata": {},
     "output_type": "execute_result"
    }
   ],
   "source": [
    "# let's count explicit duplicates\n",
    "display(df.duplicated().sum())\n",
    "df[df.duplicated()].head(10)"
   ]
  },
  {
   "cell_type": "code",
   "execution_count": 12,
   "metadata": {
    "id": "exFHq6tt_Zct"
   },
   "outputs": [],
   "source": [
    "# let's delete explicit duplicates\n",
    "df = df.drop_duplicates().reset_index(drop=True)"
   ]
  },
  {
   "cell_type": "code",
   "execution_count": 13,
   "metadata": {
    "id": "-8PuNWQ0_Zct"
   },
   "outputs": [
    {
     "data": {
      "text/plain": [
       "0"
      ]
     },
     "metadata": {},
     "output_type": "display_data"
    }
   ],
   "source": [
    "# checking for the absence of duplicates\n",
    "display(df.duplicated().sum())"
   ]
  },
  {
   "cell_type": "markdown",
   "metadata": {
    "id": "QlFBsxAr_Zct"
   },
   "source": [
    "Let's get ride of implicit duplicates."
   ]
  },
  {
   "cell_type": "code",
   "execution_count": 14,
   "metadata": {
    "id": "JIUcqzZN_Zct"
   },
   "outputs": [
    {
     "data": {
      "text/plain": [
       "array(['acid', 'acoustic', 'action', 'adult', 'africa', 'afrikaans',\n",
       "       'alternative', 'alternativepunk', 'ambient', 'americana',\n",
       "       'animated', 'anime', 'arabesk', 'arabic', 'arena',\n",
       "       'argentinetango', 'art', 'audiobook', 'author', 'avantgarde',\n",
       "       'axé', 'baile', 'balkan', 'beats', 'bigroom', 'black', 'bluegrass',\n",
       "       'blues', 'bollywood', 'bossa', 'brazilian', 'breakbeat', 'breaks',\n",
       "       'broadway', 'cantautori', 'cantopop', 'canzone', 'caribbean',\n",
       "       'caucasian', 'celtic', 'chamber', 'chanson', 'children', 'chill',\n",
       "       'chinese', 'choral', 'christian', 'christmas', 'classical',\n",
       "       'classicmetal', 'club', 'colombian', 'comedy', 'conjazz',\n",
       "       'contemporary', 'country', 'cuban', 'dance', 'dancehall',\n",
       "       'dancepop', 'dark', 'death', 'deep', 'deutschrock', 'deutschspr',\n",
       "       'dirty', 'disco', 'dnb', 'documentary', 'downbeat', 'downtempo',\n",
       "       'drum', 'dub', 'dubstep', 'eastern', 'easy', 'electronic',\n",
       "       'electropop', 'emo', 'entehno', 'epicmetal', 'estrada', 'ethnic',\n",
       "       'eurofolk', 'european', 'experimental', 'extrememetal', 'fado',\n",
       "       'fairytail', 'film', 'fitness', 'flamenco', 'folk', 'folklore',\n",
       "       'folkmetal', 'folkrock', 'folktronica', 'forró', 'frankreich',\n",
       "       'französisch', 'french', 'funk', 'future', 'gangsta', 'garage',\n",
       "       'german', 'ghazal', 'gitarre', 'glitch', 'gospel', 'gothic',\n",
       "       'grime', 'grunge', 'gypsy', 'handsup', \"hard'n'heavy\", 'hardcore',\n",
       "       'hardstyle', 'hardtechno', 'hip', 'hip-hop', 'hiphop',\n",
       "       'historisch', 'holiday', 'hop', 'horror', 'house', 'hymn', 'idm',\n",
       "       'independent', 'indian', 'indie', 'indipop', 'industrial',\n",
       "       'inspirational', 'instrumental', 'international', 'irish', 'jam',\n",
       "       'japanese', 'jazz', 'jewish', 'jpop', 'jungle', 'k-pop',\n",
       "       'karadeniz', 'karaoke', 'kayokyoku', 'korean', 'laiko', 'latin',\n",
       "       'latino', 'leftfield', 'local', 'lounge', 'loungeelectronic',\n",
       "       'lovers', 'malaysian', 'mandopop', 'marschmusik', 'meditative',\n",
       "       'mediterranean', 'melodic', 'metal', 'metalcore', 'mexican',\n",
       "       'middle', 'minimal', 'miscellaneous', 'modern', 'mood', 'mpb',\n",
       "       'muslim', 'native', 'neoklassik', 'neue', 'new', 'newage',\n",
       "       'newwave', 'nu', 'nujazz', 'numetal', 'oceania', 'old', 'opera',\n",
       "       'orchestral', 'other', 'piano', 'podcasts', 'pop', 'popdance',\n",
       "       'popelectronic', 'popeurodance', 'poprussian', 'post',\n",
       "       'posthardcore', 'postrock', 'power', 'progmetal', 'progressive',\n",
       "       'psychedelic', 'punjabi', 'punk', 'quebecois', 'ragga', 'ram',\n",
       "       'rancheras', 'rap', 'rave', 'reggae', 'reggaeton', 'regional',\n",
       "       'relax', 'religious', 'retro', 'rhythm', 'rnb', 'rnr', 'rock',\n",
       "       'rockabilly', 'rockalternative', 'rockindie', 'rockother',\n",
       "       'romance', 'roots', 'ruspop', 'rusrap', 'rusrock', 'russian',\n",
       "       'salsa', 'samba', 'scenic', 'schlager', 'self', 'sertanejo',\n",
       "       'shanson', 'shoegazing', 'showtunes', 'singer', 'ska', 'skarock',\n",
       "       'slow', 'smooth', 'soft', 'soul', 'soulful', 'sound', 'soundtrack',\n",
       "       'southern', 'specialty', 'speech', 'spiritual', 'sport',\n",
       "       'stonerrock', 'surf', 'swing', 'synthpop', 'synthrock',\n",
       "       'sängerportrait', 'tango', 'tanzorchester', 'taraftar', 'tatar',\n",
       "       'tech', 'techno', 'teen', 'thrash', 'top', 'traditional',\n",
       "       'tradjazz', 'trance', 'tribal', 'trip', 'triphop', 'tropical',\n",
       "       'türk', 'türkçe', 'ukrrock', 'unknown', 'urban', 'uzbek',\n",
       "       'variété', 'vi', 'videogame', 'vocal', 'western', 'world',\n",
       "       'worldbeat', 'ïîï', 'электроника'], dtype=object)"
      ]
     },
     "metadata": {},
     "output_type": "display_data"
    }
   ],
   "source": [
    "# unique genres\n",
    "display(df['genre'].sort_values().unique())"
   ]
  },
  {
   "cell_type": "code",
   "execution_count": 15,
   "metadata": {
    "id": "ErNDkmns_Zct"
   },
   "outputs": [],
   "source": [
    "# replacement of implicit duplicates\n",
    "def replace_wrong_genres(wrong_genres, correct_genre):\n",
    "    for wrong_genre in wrong_genres:\n",
    "        df['genre'] = df['genre'].replace(wrong_genre, correct_genre)"
   ]
  },
  {
   "cell_type": "code",
   "execution_count": 16,
   "metadata": {
    "id": "YN5i2hpmSo09"
   },
   "outputs": [],
   "source": [
    "correct_genre1 = 'hiphop'\n",
    "correct_genre2 = 'electronic'\n",
    "wrong_genres1 = ['hip', 'hop', 'hip-hop']\n",
    "wrong_genres2 = ['электроника']\n",
    "\n",
    "replace_wrong_genres(wrong_genres1, correct_genre1)\n",
    "replace_wrong_genres(wrong_genres2, correct_genre2)\n"
   ]
  },
  {
   "cell_type": "code",
   "execution_count": 17,
   "metadata": {
    "id": "wvixALnFG15m"
   },
   "outputs": [
    {
     "data": {
      "text/plain": [
       "array(['acid', 'acoustic', 'action', 'adult', 'africa', 'afrikaans',\n",
       "       'alternative', 'alternativepunk', 'ambient', 'americana',\n",
       "       'animated', 'anime', 'arabesk', 'arabic', 'arena',\n",
       "       'argentinetango', 'art', 'audiobook', 'author', 'avantgarde',\n",
       "       'axé', 'baile', 'balkan', 'beats', 'bigroom', 'black', 'bluegrass',\n",
       "       'blues', 'bollywood', 'bossa', 'brazilian', 'breakbeat', 'breaks',\n",
       "       'broadway', 'cantautori', 'cantopop', 'canzone', 'caribbean',\n",
       "       'caucasian', 'celtic', 'chamber', 'chanson', 'children', 'chill',\n",
       "       'chinese', 'choral', 'christian', 'christmas', 'classical',\n",
       "       'classicmetal', 'club', 'colombian', 'comedy', 'conjazz',\n",
       "       'contemporary', 'country', 'cuban', 'dance', 'dancehall',\n",
       "       'dancepop', 'dark', 'death', 'deep', 'deutschrock', 'deutschspr',\n",
       "       'dirty', 'disco', 'dnb', 'documentary', 'downbeat', 'downtempo',\n",
       "       'drum', 'dub', 'dubstep', 'eastern', 'easy', 'electronic',\n",
       "       'electropop', 'emo', 'entehno', 'epicmetal', 'estrada', 'ethnic',\n",
       "       'eurofolk', 'european', 'experimental', 'extrememetal', 'fado',\n",
       "       'fairytail', 'film', 'fitness', 'flamenco', 'folk', 'folklore',\n",
       "       'folkmetal', 'folkrock', 'folktronica', 'forró', 'frankreich',\n",
       "       'französisch', 'french', 'funk', 'future', 'gangsta', 'garage',\n",
       "       'german', 'ghazal', 'gitarre', 'glitch', 'gospel', 'gothic',\n",
       "       'grime', 'grunge', 'gypsy', 'handsup', \"hard'n'heavy\", 'hardcore',\n",
       "       'hardstyle', 'hardtechno', 'hiphop', 'historisch', 'holiday',\n",
       "       'horror', 'house', 'hymn', 'idm', 'independent', 'indian', 'indie',\n",
       "       'indipop', 'industrial', 'inspirational', 'instrumental',\n",
       "       'international', 'irish', 'jam', 'japanese', 'jazz', 'jewish',\n",
       "       'jpop', 'jungle', 'k-pop', 'karadeniz', 'karaoke', 'kayokyoku',\n",
       "       'korean', 'laiko', 'latin', 'latino', 'leftfield', 'local',\n",
       "       'lounge', 'loungeelectronic', 'lovers', 'malaysian', 'mandopop',\n",
       "       'marschmusik', 'meditative', 'mediterranean', 'melodic', 'metal',\n",
       "       'metalcore', 'mexican', 'middle', 'minimal', 'miscellaneous',\n",
       "       'modern', 'mood', 'mpb', 'muslim', 'native', 'neoklassik', 'neue',\n",
       "       'new', 'newage', 'newwave', 'nu', 'nujazz', 'numetal', 'oceania',\n",
       "       'old', 'opera', 'orchestral', 'other', 'piano', 'podcasts', 'pop',\n",
       "       'popdance', 'popelectronic', 'popeurodance', 'poprussian', 'post',\n",
       "       'posthardcore', 'postrock', 'power', 'progmetal', 'progressive',\n",
       "       'psychedelic', 'punjabi', 'punk', 'quebecois', 'ragga', 'ram',\n",
       "       'rancheras', 'rap', 'rave', 'reggae', 'reggaeton', 'regional',\n",
       "       'relax', 'religious', 'retro', 'rhythm', 'rnb', 'rnr', 'rock',\n",
       "       'rockabilly', 'rockalternative', 'rockindie', 'rockother',\n",
       "       'romance', 'roots', 'ruspop', 'rusrap', 'rusrock', 'russian',\n",
       "       'salsa', 'samba', 'scenic', 'schlager', 'self', 'sertanejo',\n",
       "       'shanson', 'shoegazing', 'showtunes', 'singer', 'ska', 'skarock',\n",
       "       'slow', 'smooth', 'soft', 'soul', 'soulful', 'sound', 'soundtrack',\n",
       "       'southern', 'specialty', 'speech', 'spiritual', 'sport',\n",
       "       'stonerrock', 'surf', 'swing', 'synthpop', 'synthrock',\n",
       "       'sängerportrait', 'tango', 'tanzorchester', 'taraftar', 'tatar',\n",
       "       'tech', 'techno', 'teen', 'thrash', 'top', 'traditional',\n",
       "       'tradjazz', 'trance', 'tribal', 'trip', 'triphop', 'tropical',\n",
       "       'türk', 'türkçe', 'ukrrock', 'unknown', 'urban', 'uzbek',\n",
       "       'variété', 'vi', 'videogame', 'vocal', 'western', 'world',\n",
       "       'worldbeat', 'ïîï'], dtype=object)"
      ]
     },
     "metadata": {},
     "output_type": "display_data"
    }
   ],
   "source": [
    "# Let's check out the results\n",
    "display(df['genre'].sort_values().unique())"
   ]
  },
  {
   "cell_type": "markdown",
   "metadata": {
    "id": "jz6a9-7HQUDd"
   },
   "source": [
    "**Intermediate conclusion**\n",
    "\n",
    "Preprocessing has showed three problems in the data:\n",
    "\n",
    "- violations in the style of headlines,\n",
    "\n",
    "- missing values,\n",
    "\n",
    "- duplicates — explicit and implicit.\n",
    "\n",
    "We have corrected the headers to make it easier to work with our dataframe. Without duplicates, the study will become more accurate.\n",
    "\n",
    "We have replaced the missing values with \"unknown\". It remains to be seen whether omissions in the `genre` column will harm the study.\n",
    "\n",
    "Now we can proceed to hypothesis testing."
   ]
  },
  {
   "cell_type": "markdown",
   "metadata": {
    "id": "WttZHXH0SqKk"
   },
   "source": [
    "## Hypothesis testing"
   ]
  },
  {
   "cell_type": "markdown",
   "metadata": {
    "id": "Im936VVi_Zcu"
   },
   "source": [
    "### Comparison of two capitals users' behavior "
   ]
  },
  {
   "cell_type": "markdown",
   "metadata": {
    "id": "nwt_MuaL_Zcu"
   },
   "source": [
    "The first hypothesis states that users listen to music differently in Moscow and St. Petersburg. Let's check this assumption based on data of three days of the week — Monday, Wednesday and Friday. For this:\n",
    "\n",
    "* Separate the users of Moscow and St. Petersburg\n",
    "\n",
    "* Compare how many tracks each user group listened to on Monday, Wednesday and Friday.\n"
   ]
  },
  {
   "cell_type": "code",
   "execution_count": 18,
   "metadata": {
    "id": "0_Qs96oh_Zcu",
    "scrolled": true
   },
   "outputs": [
    {
     "data": {
      "text/plain": [
       "city\n",
       "Moscow              42741\n",
       "Saint-Petersburg    18512\n",
       "Name: genre, dtype: int64"
      ]
     },
     "metadata": {},
     "output_type": "display_data"
    }
   ],
   "source": [
    "# Let's count the number of songs listened to in each city\n",
    "display(df.groupby('city')['genre'].count())"
   ]
  },
  {
   "cell_type": "markdown",
   "metadata": {
    "id": "dzli3w8o_Zcu"
   },
   "source": [
    "There are more songs listened to in Moscow than in St. Petersburg. This does not mean that Moscow users listen to music more often. It's just that there are more users in Moscow."
   ]
  },
  {
   "cell_type": "code",
   "execution_count": 19,
   "metadata": {
    "id": "uZMKjiJz_Zcu",
    "scrolled": true
   },
   "outputs": [
    {
     "data": {
      "text/plain": [
       "day\n",
       "Friday       21840\n",
       "Monday       21354\n",
       "Wednesday    18059\n",
       "Name: genre, dtype: int64"
      ]
     },
     "metadata": {},
     "output_type": "display_data"
    }
   ],
   "source": [
    "# Let's count the number songs listened during Monday, Wednesday and Friday\n",
    "day_split_users = df.groupby('day')['genre'].count()\n",
    "display(day_split_users)"
   ]
  },
  {
   "cell_type": "markdown",
   "metadata": {
    "id": "cC2tNrlL_Zcu"
   },
   "source": [
    "On average, users from two cities are less active on Wednesdays. But the picture may change if we consider each city separately."
   ]
  },
  {
   "cell_type": "code",
   "execution_count": 20,
   "metadata": {
    "id": "Nz3GdQB1_Zcu"
   },
   "outputs": [],
   "source": [
    "def number_tracks(day, city):\n",
    "    track_list = df[(df['day'] == day)&(df['city'] == city)]\n",
    "    track_list_count = track_list['user_id'].count()\n",
    "    return track_list_count"
   ]
  },
  {
   "cell_type": "code",
   "execution_count": 21,
   "metadata": {
    "id": "rJcRATNQ_Zcu"
   },
   "outputs": [
    {
     "name": "stdout",
     "output_type": "stream",
     "text": [
      "15740\n"
     ]
    }
   ],
   "source": [
    "# the number auditions listened to in Moscow on Mondays\n",
    "moscow_monday_tracks = number_tracks('Monday', 'Moscow')\n",
    "print(moscow_monday_tracks)"
   ]
  },
  {
   "cell_type": "code",
   "execution_count": 22,
   "metadata": {
    "id": "hq_ncZ5T_Zcu"
   },
   "outputs": [
    {
     "name": "stdout",
     "output_type": "stream",
     "text": [
      "5614\n"
     ]
    }
   ],
   "source": [
    "# the number auditions listened to in St. Petersburg on Mondays\n",
    "spb_monday_tracks = number_tracks('Monday', 'Saint-Petersburg')\n",
    "print(spb_monday_tracks)"
   ]
  },
  {
   "cell_type": "code",
   "execution_count": 23,
   "metadata": {
    "id": "_NTy2VPU_Zcu"
   },
   "outputs": [
    {
     "name": "stdout",
     "output_type": "stream",
     "text": [
      "11056\n"
     ]
    }
   ],
   "source": [
    "# the number auditions listened to in Moscow on Wednesdays\n",
    "moscow_wednesday_tracks = number_tracks('Wednesday', 'Moscow')\n",
    "print(moscow_wednesday_tracks)"
   ]
  },
  {
   "cell_type": "code",
   "execution_count": 24,
   "metadata": {
    "id": "j2y3TAwo_Zcu"
   },
   "outputs": [
    {
     "name": "stdout",
     "output_type": "stream",
     "text": [
      "7003\n"
     ]
    }
   ],
   "source": [
    "# the number auditions listened to in St. Petersburg on Wednesdays\n",
    "spb_wednesday_tracks = number_tracks('Wednesday', 'Saint-Petersburg')\n",
    "print(spb_wednesday_tracks)"
   ]
  },
  {
   "cell_type": "code",
   "execution_count": 25,
   "metadata": {
    "id": "vYDw5u_K_Zcu"
   },
   "outputs": [
    {
     "name": "stdout",
     "output_type": "stream",
     "text": [
      "15945\n"
     ]
    }
   ],
   "source": [
    "# the number auditions listened to in Moscow on Fridays\n",
    "moscow_friday_tracks = number_tracks('Friday', 'Moscow')\n",
    "print(moscow_friday_tracks)"
   ]
  },
  {
   "cell_type": "code",
   "execution_count": 26,
   "metadata": {
    "id": "8_yzFtW3_Zcu",
    "scrolled": true
   },
   "outputs": [
    {
     "name": "stdout",
     "output_type": "stream",
     "text": [
      "5895\n"
     ]
    }
   ],
   "source": [
    "# the number auditions listened to in st. Petersburg on Fridays\n",
    "spb_friday_tracks = number_tracks('Friday', 'Saint-Petersburg')\n",
    "print(spb_friday_tracks)"
   ]
  },
  {
   "cell_type": "code",
   "execution_count": 27,
   "metadata": {
    "id": "APAcLpOr_Zcu"
   },
   "outputs": [
    {
     "data": {
      "text/html": [
       "<div>\n",
       "<style scoped>\n",
       "    .dataframe tbody tr th:only-of-type {\n",
       "        vertical-align: middle;\n",
       "    }\n",
       "\n",
       "    .dataframe tbody tr th {\n",
       "        vertical-align: top;\n",
       "    }\n",
       "\n",
       "    .dataframe thead th {\n",
       "        text-align: right;\n",
       "    }\n",
       "</style>\n",
       "<table border=\"1\" class=\"dataframe\">\n",
       "  <thead>\n",
       "    <tr style=\"text-align: right;\">\n",
       "      <th></th>\n",
       "      <th>city</th>\n",
       "      <th>monday</th>\n",
       "      <th>wednesday</th>\n",
       "      <th>friday</th>\n",
       "    </tr>\n",
       "  </thead>\n",
       "  <tbody>\n",
       "    <tr>\n",
       "      <th>0</th>\n",
       "      <td>Moscow</td>\n",
       "      <td>15740</td>\n",
       "      <td>11056</td>\n",
       "      <td>15945</td>\n",
       "    </tr>\n",
       "    <tr>\n",
       "      <th>1</th>\n",
       "      <td>Saint-Petersburg</td>\n",
       "      <td>5614</td>\n",
       "      <td>7003</td>\n",
       "      <td>5895</td>\n",
       "    </tr>\n",
       "  </tbody>\n",
       "</table>\n",
       "</div>"
      ],
      "text/plain": [
       "               city  monday  wednesday  friday\n",
       "0            Moscow   15740      11056   15945\n",
       "1  Saint-Petersburg    5614       7003    5895"
      ]
     },
     "metadata": {},
     "output_type": "display_data"
    }
   ],
   "source": [
    "# Results\n",
    "data = [\n",
    "    ['Moscow', moscow_monday_tracks, moscow_wednesday_tracks, moscow_friday_tracks],\n",
    "    ['Saint-Petersburg', spb_monday_tracks, spb_wednesday_tracks, spb_friday_tracks]\n",
    "]\n",
    "columns = ['city', 'monday', 'wednesday', 'friday']\n",
    "\n",
    "df_city_day = pd.DataFrame(data = data, columns = columns)\n",
    "display(df_city_day)"
   ]
  },
  {
   "cell_type": "markdown",
   "metadata": {
    "id": "-EgPIHYu_Zcu"
   },
   "source": [
    "The data shows the difference in user behavior:\n",
    "\n",
    "- In Moscow, the peak of auditions falls on Monday and Friday, and on Wednesday there is a noticeable decline.\n",
    "\n",
    "- In St. Petersburg, on the contrary, they listen to music more on Wednesdays. Activity on Monday and Friday here is almost equally inferior to Wednesday.\n",
    "\n",
    "So, the data speak in favor of the first hypothesis."
   ]
  },
  {
   "cell_type": "markdown",
   "metadata": {
    "id": "atZAxtq4_Zcu"
   },
   "source": [
    "### Music at the beginning and end of the week"
   ]
  },
  {
   "cell_type": "markdown",
   "metadata": {
    "id": "eXrQqXFH_Zcu"
   },
   "source": [
    "According to the second hypothesis, some genres prevail in Moscow on Monday morning, and others in St. Petersburg. Similarly, on Friday evening, different genres prevail — depending on the city."
   ]
  },
  {
   "cell_type": "code",
   "execution_count": 28,
   "metadata": {
    "id": "qeaFfM_P_Zcu"
   },
   "outputs": [
    {
     "data": {
      "text/html": [
       "<div>\n",
       "<style scoped>\n",
       "    .dataframe tbody tr th:only-of-type {\n",
       "        vertical-align: middle;\n",
       "    }\n",
       "\n",
       "    .dataframe tbody tr th {\n",
       "        vertical-align: top;\n",
       "    }\n",
       "\n",
       "    .dataframe thead th {\n",
       "        text-align: right;\n",
       "    }\n",
       "</style>\n",
       "<table border=\"1\" class=\"dataframe\">\n",
       "  <thead>\n",
       "    <tr style=\"text-align: right;\">\n",
       "      <th></th>\n",
       "      <th>user_id</th>\n",
       "      <th>track</th>\n",
       "      <th>artist</th>\n",
       "      <th>genre</th>\n",
       "      <th>city</th>\n",
       "      <th>time</th>\n",
       "      <th>day</th>\n",
       "    </tr>\n",
       "  </thead>\n",
       "  <tbody>\n",
       "    <tr>\n",
       "      <th>1</th>\n",
       "      <td>55204538</td>\n",
       "      <td>Delayed Because of Accident</td>\n",
       "      <td>Andreas Rönnberg</td>\n",
       "      <td>rock</td>\n",
       "      <td>Moscow</td>\n",
       "      <td>14:07:09</td>\n",
       "      <td>Friday</td>\n",
       "    </tr>\n",
       "    <tr>\n",
       "      <th>4</th>\n",
       "      <td>E2DC1FAE</td>\n",
       "      <td>Soul People</td>\n",
       "      <td>Space Echo</td>\n",
       "      <td>dance</td>\n",
       "      <td>Moscow</td>\n",
       "      <td>08:34:34</td>\n",
       "      <td>Monday</td>\n",
       "    </tr>\n",
       "    <tr>\n",
       "      <th>6</th>\n",
       "      <td>4CB90AA5</td>\n",
       "      <td>True</td>\n",
       "      <td>Roman Messer</td>\n",
       "      <td>dance</td>\n",
       "      <td>Moscow</td>\n",
       "      <td>13:00:07</td>\n",
       "      <td>Wednesday</td>\n",
       "    </tr>\n",
       "    <tr>\n",
       "      <th>7</th>\n",
       "      <td>F03E1C1F</td>\n",
       "      <td>Feeling This Way</td>\n",
       "      <td>Polina Griffith</td>\n",
       "      <td>dance</td>\n",
       "      <td>Moscow</td>\n",
       "      <td>20:47:49</td>\n",
       "      <td>Wednesday</td>\n",
       "    </tr>\n",
       "    <tr>\n",
       "      <th>8</th>\n",
       "      <td>8FA1D3BE</td>\n",
       "      <td>И вновь продолжается бой</td>\n",
       "      <td>unknown</td>\n",
       "      <td>ruspop</td>\n",
       "      <td>Moscow</td>\n",
       "      <td>09:17:40</td>\n",
       "      <td>Friday</td>\n",
       "    </tr>\n",
       "  </tbody>\n",
       "</table>\n",
       "</div>"
      ],
      "text/plain": [
       "    user_id                        track            artist   genre    city  \\\n",
       "1  55204538  Delayed Because of Accident  Andreas Rönnberg    rock  Moscow   \n",
       "4  E2DC1FAE                  Soul People        Space Echo   dance  Moscow   \n",
       "6  4CB90AA5                         True      Roman Messer   dance  Moscow   \n",
       "7  F03E1C1F             Feeling This Way   Polina Griffith   dance  Moscow   \n",
       "8  8FA1D3BE     И вновь продолжается бой           unknown  ruspop  Moscow   \n",
       "\n",
       "       time        day  \n",
       "1  14:07:09     Friday  \n",
       "4  08:34:34     Monday  \n",
       "6  13:00:07  Wednesday  \n",
       "7  20:47:49  Wednesday  \n",
       "8  09:17:40     Friday  "
      ]
     },
     "metadata": {},
     "output_type": "display_data"
    }
   ],
   "source": [
    "moscow_general = df[df['city'] == 'Moscow']\n",
    "display(moscow_general.head())"
   ]
  },
  {
   "cell_type": "code",
   "execution_count": 29,
   "metadata": {
    "id": "ORaVRKto_Zcu"
   },
   "outputs": [
    {
     "data": {
      "text/html": [
       "<div>\n",
       "<style scoped>\n",
       "    .dataframe tbody tr th:only-of-type {\n",
       "        vertical-align: middle;\n",
       "    }\n",
       "\n",
       "    .dataframe tbody tr th {\n",
       "        vertical-align: top;\n",
       "    }\n",
       "\n",
       "    .dataframe thead th {\n",
       "        text-align: right;\n",
       "    }\n",
       "</style>\n",
       "<table border=\"1\" class=\"dataframe\">\n",
       "  <thead>\n",
       "    <tr style=\"text-align: right;\">\n",
       "      <th></th>\n",
       "      <th>user_id</th>\n",
       "      <th>track</th>\n",
       "      <th>artist</th>\n",
       "      <th>genre</th>\n",
       "      <th>city</th>\n",
       "      <th>time</th>\n",
       "      <th>day</th>\n",
       "    </tr>\n",
       "  </thead>\n",
       "  <tbody>\n",
       "    <tr>\n",
       "      <th>0</th>\n",
       "      <td>FFB692EC</td>\n",
       "      <td>Kamigata To Boots</td>\n",
       "      <td>The Mass Missile</td>\n",
       "      <td>rock</td>\n",
       "      <td>Saint-Petersburg</td>\n",
       "      <td>20:28:33</td>\n",
       "      <td>Wednesday</td>\n",
       "    </tr>\n",
       "    <tr>\n",
       "      <th>2</th>\n",
       "      <td>20EC38</td>\n",
       "      <td>Funiculì funiculà</td>\n",
       "      <td>Mario Lanza</td>\n",
       "      <td>pop</td>\n",
       "      <td>Saint-Petersburg</td>\n",
       "      <td>20:58:07</td>\n",
       "      <td>Wednesday</td>\n",
       "    </tr>\n",
       "    <tr>\n",
       "      <th>3</th>\n",
       "      <td>A3DD03C9</td>\n",
       "      <td>Dragons in the Sunset</td>\n",
       "      <td>Fire + Ice</td>\n",
       "      <td>folk</td>\n",
       "      <td>Saint-Petersburg</td>\n",
       "      <td>08:37:09</td>\n",
       "      <td>Monday</td>\n",
       "    </tr>\n",
       "    <tr>\n",
       "      <th>5</th>\n",
       "      <td>842029A1</td>\n",
       "      <td>Преданная</td>\n",
       "      <td>IMPERVTOR</td>\n",
       "      <td>rusrap</td>\n",
       "      <td>Saint-Petersburg</td>\n",
       "      <td>13:09:41</td>\n",
       "      <td>Friday</td>\n",
       "    </tr>\n",
       "    <tr>\n",
       "      <th>9</th>\n",
       "      <td>E772D5C0</td>\n",
       "      <td>Pessimist</td>\n",
       "      <td>unknown</td>\n",
       "      <td>dance</td>\n",
       "      <td>Saint-Petersburg</td>\n",
       "      <td>21:20:49</td>\n",
       "      <td>Wednesday</td>\n",
       "    </tr>\n",
       "  </tbody>\n",
       "</table>\n",
       "</div>"
      ],
      "text/plain": [
       "    user_id                  track            artist   genre  \\\n",
       "0  FFB692EC      Kamigata To Boots  The Mass Missile    rock   \n",
       "2    20EC38      Funiculì funiculà       Mario Lanza     pop   \n",
       "3  A3DD03C9  Dragons in the Sunset        Fire + Ice    folk   \n",
       "5  842029A1              Преданная         IMPERVTOR  rusrap   \n",
       "9  E772D5C0              Pessimist           unknown   dance   \n",
       "\n",
       "               city      time        day  \n",
       "0  Saint-Petersburg  20:28:33  Wednesday  \n",
       "2  Saint-Petersburg  20:58:07  Wednesday  \n",
       "3  Saint-Petersburg  08:37:09     Monday  \n",
       "5  Saint-Petersburg  13:09:41     Friday  \n",
       "9  Saint-Petersburg  21:20:49  Wednesday  "
      ]
     },
     "metadata": {},
     "output_type": "display_data"
    }
   ],
   "source": [
    "spb_general = df[df['city'] == 'Saint-Petersburg']\n",
    "display(spb_general.head())"
   ]
  },
  {
   "cell_type": "code",
   "execution_count": 30,
   "metadata": {
    "id": "laJT9BYl_Zcu"
   },
   "outputs": [],
   "source": [
    "# Let's write the function which should return information about the top 10 genres of those tracks that were listened to on the specified day, in the interval between two timestamps.\n",
    "def genre_weekday(table, day, time1, time2):\n",
    "    genre_df = table[(table['day'] == day)&(table['time'] > time1)&(table['time'] < time2)]\n",
    "    genre_df_count = genre_df.groupby('genre')['user_id'].count()\n",
    "    genre_df_sorted = genre_df_count.sort_values(ascending = False)\n",
    "    return genre_df_sorted.head(10)"
   ]
  },
  {
   "cell_type": "markdown",
   "metadata": {
    "id": "la2s2_PF_Zcu"
   },
   "source": [
    "Let's compare the results of the 'genre_weekday()' function for Moscow and St. Petersburg on Monday morning (from 7:00 to 11:00) and Friday evening (from 17:00 to 23:00):"
   ]
  },
  {
   "cell_type": "code",
   "execution_count": 31,
   "metadata": {
    "id": "yz7itPUQ_Zcu"
   },
   "outputs": [
    {
     "data": {
      "text/plain": [
       "genre\n",
       "pop            781\n",
       "dance          549\n",
       "electronic     480\n",
       "rock           474\n",
       "hiphop         286\n",
       "ruspop         186\n",
       "world          181\n",
       "rusrap         175\n",
       "alternative    164\n",
       "unknown        161\n",
       "Name: user_id, dtype: int64"
      ]
     },
     "execution_count": 31,
     "metadata": {},
     "output_type": "execute_result"
    }
   ],
   "source": [
    "genre_weekday(moscow_general, 'Monday', '07:00', '11:00')"
   ]
  },
  {
   "cell_type": "code",
   "execution_count": 32,
   "metadata": {
    "id": "kwUcHPdy_Zcu"
   },
   "outputs": [
    {
     "data": {
      "text/plain": [
       "genre\n",
       "pop            218\n",
       "dance          182\n",
       "rock           162\n",
       "electronic     147\n",
       "hiphop          80\n",
       "ruspop          64\n",
       "alternative     58\n",
       "rusrap          55\n",
       "jazz            44\n",
       "classical       40\n",
       "Name: user_id, dtype: int64"
      ]
     },
     "execution_count": 32,
     "metadata": {},
     "output_type": "execute_result"
    }
   ],
   "source": [
    "genre_weekday(spb_general, 'Monday', '07:00', '11:00')"
   ]
  },
  {
   "cell_type": "code",
   "execution_count": 33,
   "metadata": {
    "id": "EzXVRE1o_Zcu"
   },
   "outputs": [
    {
     "data": {
      "text/plain": [
       "genre\n",
       "pop            713\n",
       "rock           517\n",
       "dance          495\n",
       "electronic     482\n",
       "hiphop         273\n",
       "world          208\n",
       "ruspop         170\n",
       "alternative    163\n",
       "classical      163\n",
       "rusrap         142\n",
       "Name: user_id, dtype: int64"
      ]
     },
     "execution_count": 33,
     "metadata": {},
     "output_type": "execute_result"
    }
   ],
   "source": [
    "genre_weekday(moscow_general, 'Friday', '17:00', '23:00')"
   ]
  },
  {
   "cell_type": "code",
   "execution_count": 34,
   "metadata": {
    "id": "JZaEKu5v_Zcu"
   },
   "outputs": [
    {
     "data": {
      "text/plain": [
       "genre\n",
       "pop            256\n",
       "electronic     216\n",
       "rock           216\n",
       "dance          210\n",
       "hiphop          97\n",
       "alternative     63\n",
       "jazz            61\n",
       "classical       60\n",
       "rusrap          59\n",
       "world           54\n",
       "Name: user_id, dtype: int64"
      ]
     },
     "execution_count": 34,
     "metadata": {},
     "output_type": "execute_result"
    }
   ],
   "source": [
    "genre_weekday(spb_general, 'Friday', '17:00', '23:00')"
   ]
  },
  {
   "cell_type": "markdown",
   "metadata": {
    "id": "wrCe4MNX_Zcu"
   },
   "source": [
    "**Intermediate conclusion**\n",
    "\n",
    "If we compare the top 10 genres on Monday morning, we can draw the following conclusions:\n",
    "\n",
    "1. In Moscow and St. Petersburg, they listen to similar music. The only difference is that the “world” genre entered the Moscow rating, and jazz and classical music entered the St. Petersburg rating.\n",
    "\n",
    "2. There were so many missing values in Moscow that the value \"unknown\" took the tenth place among the most popular genres. This means that the missing values occupy a significant share in the data and threaten the reliability of the study.\n",
    "\n",
    "Friday night does not change this picture. Some genres rise a little higher, others go down, but overall the top 10 remains the same.\n",
    "\n",
    "Thus, the second hypothesis was only partially confirmed:\n",
    "\n",
    "* Users listen to similar music at the beginning of the week and at the end.\n",
    "\n",
    "* The difference between Moscow and St. Petersburg is not too pronounced. In Moscow, they listen to Russian popular music more often, in St. Petersburg — jazz.\n",
    "\n",
    "However, omissions in the data cast doubt on this result. There are so many of them in Moscow that the top-10 rating could look different if not for the lost data on genres."
   ]
  },
  {
   "cell_type": "markdown",
   "metadata": {
    "id": "JolODAqr_Zcu"
   },
   "source": [
    "### Genre preferences in Moscow and St. Petersburg\n",
    "\n",
    "Hypothesis: St. Petersburg is the capital of rap, music of this genre is listened to there more often than in Moscow. And Moscow is a city of contrasts, in which, nevertheless, pop music prevails."
   ]
  },
  {
   "cell_type": "code",
   "execution_count": 35,
   "metadata": {
    "id": "r19lIPke_Zcu"
   },
   "outputs": [],
   "source": [
    "moscow_genres = moscow_general.groupby('genre')['user_id'].count().sort_values(ascending = False)"
   ]
  },
  {
   "cell_type": "code",
   "execution_count": 36,
   "metadata": {
    "id": "WhCSooF8_Zcv"
   },
   "outputs": [
    {
     "data": {
      "text/plain": [
       "genre\n",
       "pop            5892\n",
       "dance          4435\n",
       "rock           3965\n",
       "electronic     3786\n",
       "hiphop         2096\n",
       "classical      1616\n",
       "world          1432\n",
       "alternative    1379\n",
       "ruspop         1372\n",
       "rusrap         1161\n",
       "Name: user_id, dtype: int64"
      ]
     },
     "execution_count": 36,
     "metadata": {},
     "output_type": "execute_result"
    }
   ],
   "source": [
    "moscow_genres.head(10)"
   ]
  },
  {
   "cell_type": "code",
   "execution_count": 37,
   "metadata": {
    "id": "gluLIpE7_Zcv"
   },
   "outputs": [],
   "source": [
    "spb_genres = spb_general.groupby('genre')['user_id'].count().sort_values(ascending = False)"
   ]
  },
  {
   "cell_type": "code",
   "execution_count": 38,
   "metadata": {
    "id": "uaGJHjVU_Zcv"
   },
   "outputs": [
    {
     "data": {
      "text/plain": [
       "genre\n",
       "pop            2431\n",
       "dance          1932\n",
       "rock           1879\n",
       "electronic     1737\n",
       "hiphop          960\n",
       "alternative     649\n",
       "classical       646\n",
       "rusrap          564\n",
       "ruspop          538\n",
       "world           515\n",
       "Name: user_id, dtype: int64"
      ]
     },
     "execution_count": 38,
     "metadata": {},
     "output_type": "execute_result"
    }
   ],
   "source": [
    "spb_genres.head(10)"
   ]
  },
  {
   "cell_type": "markdown",
   "metadata": {
    "id": "RY51YJYu_Zcv"
   },
   "source": [
    "**Intermediate conclusion**"
   ]
  },
  {
   "cell_type": "markdown",
   "metadata": {
    "id": "nVhnJEm__Zcv"
   },
   "source": [
    "The hypothesis was partially confirmed:\n",
    "\n",
    "* Pop music is the most popular genre in Moscow, as the hypothesis suggested. Moreover, in the top 10 genres there is a similar genre - Russian popular music.\n",
    "\n",
    "\n",
    "* Contrary to expectations, rap is equally popular in Moscow and St. Petersburg.\n"
   ]
  },
  {
   "cell_type": "markdown",
   "metadata": {
    "id": "ykKQ0N65_Zcv"
   },
   "source": [
    "## Final conclusion"
   ]
  },
  {
   "cell_type": "markdown",
   "metadata": {
    "id": "tjUwbHb3_Zcv"
   },
   "source": [
    "We have tested three hypotheses and established:\n",
    "\n",
    "1. The day of the week has different effects on user activity in Moscow and St. Petersburg.\n",
    "\n",
    "The first hypothesis was fully confirmed.\n",
    "\n",
    "2. Musical preferences do not change much during the week — whether it is Moscow or St. Petersburg. Small differences are noticeable at the beginning of the week, on Mondays:\n",
    "\n",
    "* in Moscow, they listen to music of the “world” genre,\n",
    "\n",
    "* in St. Petersburg — jazz and classics.\n",
    "\n",
    "Thus, the second hypothesis was only partially confirmed. This result could have been different if not for the omissions in the data.\n",
    "\n",
    "3. There are more similarities than differences in the tastes of users in Moscow and St. Petersburg. Contrary to expectations, genre preferences in St. Petersburg resemble those in Moscow.\n",
    "\n",
    "The third hypothesis was not confirmed. If there are differences in preferences, they are invisible to the majority of users."
   ]
  }
 ],
 "metadata": {
  "ExecuteTimeLog": [
   {
    "duration": 369,
    "start_time": "2021-11-05T07:57:13.500Z"
   },
   {
    "duration": 339,
    "start_time": "2021-11-05T07:57:39.054Z"
   },
   {
    "duration": 778,
    "start_time": "2021-11-05T07:57:52.018Z"
   },
   {
    "duration": 2,
    "start_time": "2021-11-05T07:58:51.444Z"
   },
   {
    "duration": 2,
    "start_time": "2021-11-05T07:59:03.226Z"
   },
   {
    "duration": 151,
    "start_time": "2021-11-05T07:59:06.411Z"
   },
   {
    "duration": 12,
    "start_time": "2021-11-05T07:59:08.684Z"
   },
   {
    "duration": 11,
    "start_time": "2021-11-05T07:59:13.797Z"
   },
   {
    "duration": 25,
    "start_time": "2021-11-05T08:00:46.544Z"
   },
   {
    "duration": 4,
    "start_time": "2021-11-05T08:36:42.829Z"
   },
   {
    "duration": 21,
    "start_time": "2021-11-05T08:39:21.572Z"
   },
   {
    "duration": 3,
    "start_time": "2021-11-05T08:39:31.460Z"
   },
   {
    "duration": 22,
    "start_time": "2021-11-05T08:40:52.901Z"
   },
   {
    "duration": 24,
    "start_time": "2021-11-05T08:41:04.962Z"
   },
   {
    "duration": 22,
    "start_time": "2021-11-05T08:41:11.896Z"
   },
   {
    "duration": 179,
    "start_time": "2021-11-05T08:51:45.127Z"
   },
   {
    "duration": 19,
    "start_time": "2021-11-05T08:51:51.500Z"
   },
   {
    "duration": 26,
    "start_time": "2021-11-05T08:52:04.825Z"
   },
   {
    "duration": 23,
    "start_time": "2021-11-05T08:52:24.142Z"
   },
   {
    "duration": 415,
    "start_time": "2021-11-05T08:57:08.817Z"
   },
   {
    "duration": 63,
    "start_time": "2021-11-05T08:57:24.513Z"
   },
   {
    "duration": 128,
    "start_time": "2021-11-05T08:58:19.541Z"
   },
   {
    "duration": 108,
    "start_time": "2021-11-05T08:58:37.556Z"
   },
   {
    "duration": 65,
    "start_time": "2021-11-05T09:02:06.160Z"
   },
   {
    "duration": 55,
    "start_time": "2021-11-05T09:02:34.828Z"
   },
   {
    "duration": 54,
    "start_time": "2021-11-05T09:02:42.996Z"
   },
   {
    "duration": 42,
    "start_time": "2021-11-05T09:23:48.926Z"
   },
   {
    "duration": 370,
    "start_time": "2021-11-05T09:35:27.237Z"
   },
   {
    "duration": 3,
    "start_time": "2021-11-05T09:35:38.597Z"
   },
   {
    "duration": 13,
    "start_time": "2021-11-05T09:35:43.084Z"
   },
   {
    "duration": 67,
    "start_time": "2021-11-05T09:36:12.313Z"
   },
   {
    "duration": 13,
    "start_time": "2021-11-05T09:37:36.370Z"
   },
   {
    "duration": 40,
    "start_time": "2021-11-05T09:37:40.320Z"
   },
   {
    "duration": 3,
    "start_time": "2021-11-05T09:38:12.061Z"
   },
   {
    "duration": 41,
    "start_time": "2021-11-05T09:38:17.909Z"
   },
   {
    "duration": 42,
    "start_time": "2021-11-05T09:38:22.265Z"
   },
   {
    "duration": 13,
    "start_time": "2021-11-05T09:38:38.054Z"
   },
   {
    "duration": 3,
    "start_time": "2021-11-05T09:38:42.501Z"
   },
   {
    "duration": 13,
    "start_time": "2021-11-05T09:38:44.667Z"
   },
   {
    "duration": 41,
    "start_time": "2021-11-05T09:38:49.651Z"
   },
   {
    "duration": 13,
    "start_time": "2021-11-05T09:39:31.625Z"
   },
   {
    "duration": 14,
    "start_time": "2021-11-05T09:39:34.254Z"
   },
   {
    "duration": 41,
    "start_time": "2021-11-05T09:39:41.527Z"
   },
   {
    "duration": 4,
    "start_time": "2021-11-05T09:40:01.031Z"
   },
   {
    "duration": 13,
    "start_time": "2021-11-05T09:40:03.223Z"
   },
   {
    "duration": 14,
    "start_time": "2021-11-05T09:40:27.019Z"
   },
   {
    "duration": 14,
    "start_time": "2021-11-05T09:40:40.031Z"
   },
   {
    "duration": 42,
    "start_time": "2021-11-05T09:40:43.165Z"
   },
   {
    "duration": 43,
    "start_time": "2021-11-05T09:41:07.479Z"
   },
   {
    "duration": 13,
    "start_time": "2021-11-05T09:42:07.153Z"
   },
   {
    "duration": 42,
    "start_time": "2021-11-05T09:42:12.367Z"
   },
   {
    "duration": 346,
    "start_time": "2021-11-05T09:51:29.928Z"
   },
   {
    "duration": 4,
    "start_time": "2021-11-05T09:52:17.449Z"
   },
   {
    "duration": 5,
    "start_time": "2021-11-05T09:52:24.680Z"
   },
   {
    "duration": 33,
    "start_time": "2021-11-05T09:52:36.915Z"
   },
   {
    "duration": 4,
    "start_time": "2021-11-05T10:00:55.231Z"
   },
   {
    "duration": 11,
    "start_time": "2021-11-05T10:01:01.931Z"
   },
   {
    "duration": 346,
    "start_time": "2021-11-05T10:04:16.706Z"
   },
   {
    "duration": 11,
    "start_time": "2021-11-05T10:04:23.167Z"
   },
   {
    "duration": 352,
    "start_time": "2021-11-05T10:04:26.693Z"
   },
   {
    "duration": 9,
    "start_time": "2021-11-05T10:04:47.100Z"
   },
   {
    "duration": 11,
    "start_time": "2021-11-05T10:04:50.213Z"
   },
   {
    "duration": 9,
    "start_time": "2021-11-05T10:04:53.235Z"
   },
   {
    "duration": 9,
    "start_time": "2021-11-05T10:04:55.777Z"
   },
   {
    "duration": 11,
    "start_time": "2021-11-05T10:05:14.039Z"
   },
   {
    "duration": 4,
    "start_time": "2021-11-06T05:45:09.190Z"
   },
   {
    "duration": 525,
    "start_time": "2021-11-06T05:46:34.026Z"
   },
   {
    "duration": 625,
    "start_time": "2021-11-06T05:47:36.978Z"
   },
   {
    "duration": 512,
    "start_time": "2021-11-06T05:47:51.143Z"
   },
   {
    "duration": 152,
    "start_time": "2021-11-06T05:48:07.690Z"
   },
   {
    "duration": 4,
    "start_time": "2021-11-06T05:48:32.884Z"
   },
   {
    "duration": 6398,
    "start_time": "2021-11-06T05:48:35.306Z"
   },
   {
    "duration": 6340,
    "start_time": "2021-11-06T05:48:42.246Z"
   },
   {
    "duration": 6770,
    "start_time": "2021-11-06T05:49:55.659Z"
   },
   {
    "duration": 6370,
    "start_time": "2021-11-06T05:50:02.776Z"
   },
   {
    "duration": 17,
    "start_time": "2021-11-06T05:54:06.123Z"
   },
   {
    "duration": 22,
    "start_time": "2021-11-06T05:54:24.361Z"
   },
   {
    "duration": 21,
    "start_time": "2021-11-06T05:54:44.374Z"
   },
   {
    "duration": 16,
    "start_time": "2021-11-06T05:56:42.476Z"
   },
   {
    "duration": 19,
    "start_time": "2021-11-06T05:59:07.290Z"
   },
   {
    "duration": 16,
    "start_time": "2021-11-06T05:59:59.150Z"
   },
   {
    "duration": 19,
    "start_time": "2021-11-06T06:00:44.847Z"
   },
   {
    "duration": 14,
    "start_time": "2021-11-06T06:01:22.640Z"
   },
   {
    "duration": 9,
    "start_time": "2021-11-06T06:08:29.106Z"
   },
   {
    "duration": 19,
    "start_time": "2021-11-06T06:15:52.658Z"
   },
   {
    "duration": 24,
    "start_time": "2021-11-06T06:15:56.374Z"
   },
   {
    "duration": 77,
    "start_time": "2021-11-06T06:16:03.076Z"
   },
   {
    "duration": 56,
    "start_time": "2021-11-06T06:16:06.352Z"
   },
   {
    "duration": 37,
    "start_time": "2021-11-06T06:16:16.946Z"
   },
   {
    "duration": 3,
    "start_time": "2021-11-06T06:16:45.929Z"
   },
   {
    "duration": 11,
    "start_time": "2021-11-06T06:16:48.272Z"
   },
   {
    "duration": 39,
    "start_time": "2021-11-06T06:16:52.236Z"
   },
   {
    "duration": 11,
    "start_time": "2021-11-06T06:17:10.261Z"
   },
   {
    "duration": 10,
    "start_time": "2021-11-06T06:17:14.603Z"
   },
   {
    "duration": 3,
    "start_time": "2021-11-06T06:17:22.751Z"
   },
   {
    "duration": 17,
    "start_time": "2021-11-06T06:17:25.258Z"
   },
   {
    "duration": 14,
    "start_time": "2021-11-06T06:17:28.573Z"
   },
   {
    "duration": 15,
    "start_time": "2021-11-06T06:17:32.510Z"
   },
   {
    "duration": 14,
    "start_time": "2021-11-06T06:17:35.844Z"
   },
   {
    "duration": 18,
    "start_time": "2021-11-06T06:17:38.618Z"
   },
   {
    "duration": 15,
    "start_time": "2021-11-06T06:17:41.570Z"
   },
   {
    "duration": 10,
    "start_time": "2021-11-06T06:17:47.933Z"
   },
   {
    "duration": 17,
    "start_time": "2021-11-06T06:23:55.393Z"
   },
   {
    "duration": 14,
    "start_time": "2021-11-06T06:23:57.785Z"
   },
   {
    "duration": 16,
    "start_time": "2021-11-06T06:24:12.000Z"
   },
   {
    "duration": 16,
    "start_time": "2021-11-06T06:24:32.247Z"
   },
   {
    "duration": 17,
    "start_time": "2021-11-06T06:24:42.767Z"
   },
   {
    "duration": 16,
    "start_time": "2021-11-06T06:25:01.684Z"
   },
   {
    "duration": 305,
    "start_time": "2021-11-06T06:25:16.790Z"
   },
   {
    "duration": 307,
    "start_time": "2021-11-06T06:25:34.082Z"
   },
   {
    "duration": 16,
    "start_time": "2021-11-06T06:25:47.082Z"
   },
   {
    "duration": 9,
    "start_time": "2021-11-06T06:26:32.230Z"
   },
   {
    "duration": 20,
    "start_time": "2021-11-06T06:27:53.870Z"
   },
   {
    "duration": 19,
    "start_time": "2021-11-06T06:28:48.478Z"
   },
   {
    "duration": 4,
    "start_time": "2021-11-06T06:40:47.162Z"
   },
   {
    "duration": 21,
    "start_time": "2021-11-06T06:40:51.434Z"
   },
   {
    "duration": 15,
    "start_time": "2021-11-06T06:41:31.124Z"
   },
   {
    "duration": 19,
    "start_time": "2021-11-06T06:42:21.795Z"
   },
   {
    "duration": 15,
    "start_time": "2021-11-06T06:42:50.842Z"
   },
   {
    "duration": 259,
    "start_time": "2021-11-06T06:48:17.959Z"
   },
   {
    "duration": 10,
    "start_time": "2021-11-06T06:49:33.082Z"
   },
   {
    "duration": 5,
    "start_time": "2021-11-06T06:50:10.793Z"
   },
   {
    "duration": 7,
    "start_time": "2021-11-06T06:51:01.252Z"
   },
   {
    "duration": 5,
    "start_time": "2021-11-06T06:51:22.175Z"
   },
   {
    "duration": 460,
    "start_time": "2021-11-06T14:35:03.972Z"
   },
   {
    "duration": 636,
    "start_time": "2021-11-06T14:35:11.524Z"
   },
   {
    "duration": 141,
    "start_time": "2021-11-06T14:35:13.806Z"
   },
   {
    "duration": 18,
    "start_time": "2021-11-06T14:35:18.221Z"
   },
   {
    "duration": 113,
    "start_time": "2021-11-06T14:40:06.925Z"
   },
   {
    "duration": 123,
    "start_time": "2021-11-06T14:42:02.223Z"
   },
   {
    "duration": 105,
    "start_time": "2021-11-06T14:42:10.434Z"
   },
   {
    "duration": 165,
    "start_time": "2021-11-06T14:42:15.232Z"
   },
   {
    "duration": 154,
    "start_time": "2021-11-06T14:44:21.963Z"
   },
   {
    "duration": 115,
    "start_time": "2021-11-06T14:44:35.088Z"
   },
   {
    "duration": 140,
    "start_time": "2021-11-06T14:44:43.985Z"
   },
   {
    "duration": 142,
    "start_time": "2021-11-06T14:45:00.161Z"
   },
   {
    "duration": 110,
    "start_time": "2021-11-06T14:45:45.469Z"
   },
   {
    "duration": 4,
    "start_time": "2021-11-06T15:05:07.878Z"
   },
   {
    "duration": 126,
    "start_time": "2021-11-06T15:06:36.593Z"
   },
   {
    "duration": 70,
    "start_time": "2021-11-06T15:09:02.958Z"
   },
   {
    "duration": 380,
    "start_time": "2021-11-06T15:11:48.867Z"
   },
   {
    "duration": 17,
    "start_time": "2021-11-06T15:12:44.075Z"
   },
   {
    "duration": 4,
    "start_time": "2021-11-06T15:12:56.401Z"
   },
   {
    "duration": 13,
    "start_time": "2021-11-06T15:13:15.366Z"
   },
   {
    "duration": 345,
    "start_time": "2021-11-06T15:16:32.286Z"
   },
   {
    "duration": 7,
    "start_time": "2021-11-06T15:16:40.999Z"
   },
   {
    "duration": 18,
    "start_time": "2021-11-06T15:16:45.074Z"
   },
   {
    "duration": 16,
    "start_time": "2021-11-06T15:18:28.371Z"
   },
   {
    "duration": 17,
    "start_time": "2021-11-06T15:19:07.403Z"
   },
   {
    "duration": 14,
    "start_time": "2021-11-06T15:19:43.372Z"
   },
   {
    "duration": 16,
    "start_time": "2021-11-06T15:20:14.848Z"
   },
   {
    "duration": 14,
    "start_time": "2021-11-06T15:20:49.331Z"
   },
   {
    "duration": 9,
    "start_time": "2021-11-06T15:21:48.502Z"
   },
   {
    "duration": 4,
    "start_time": "2021-11-06T15:24:55.141Z"
   },
   {
    "duration": 350,
    "start_time": "2021-11-06T15:25:08.744Z"
   },
   {
    "duration": 19,
    "start_time": "2021-11-06T15:25:21.603Z"
   },
   {
    "duration": 19,
    "start_time": "2021-11-06T15:25:28.223Z"
   },
   {
    "duration": 352,
    "start_time": "2021-11-06T15:25:42.209Z"
   },
   {
    "duration": 16,
    "start_time": "2021-11-06T15:25:52.932Z"
   },
   {
    "duration": 14,
    "start_time": "2021-11-06T15:25:59.146Z"
   },
   {
    "duration": 19,
    "start_time": "2021-11-06T15:26:13.570Z"
   },
   {
    "duration": 14,
    "start_time": "2021-11-06T15:26:25.296Z"
   },
   {
    "duration": 9,
    "start_time": "2021-11-06T15:26:55.410Z"
   },
   {
    "duration": 5,
    "start_time": "2021-11-06T15:27:07.725Z"
   },
   {
    "duration": 7,
    "start_time": "2021-11-06T15:27:13.678Z"
   },
   {
    "duration": 5,
    "start_time": "2021-11-06T15:27:21.787Z"
   }
  ],
  "colab": {
   "collapsed_sections": [
    "E0vqbgi9ay0H",
    "VUC88oWjTJw2"
   ],
   "name": "yandex_music_project_2021.2.ipynb",
   "provenance": []
  },
  "kernelspec": {
   "display_name": "Python 3",
   "language": "python",
   "name": "python3"
  },
  "language_info": {
   "codemirror_mode": {
    "name": "ipython",
    "version": 3
   },
   "file_extension": ".py",
   "mimetype": "text/x-python",
   "name": "python",
   "nbconvert_exporter": "python",
   "pygments_lexer": "ipython3",
   "version": "3.8.8"
  },
  "toc": {
   "base_numbering": 1,
   "nav_menu": {},
   "number_sections": true,
   "sideBar": true,
   "skip_h1_title": true,
   "title_cell": "Table of Contents",
   "title_sidebar": "Contents",
   "toc_cell": false,
   "toc_position": {},
   "toc_section_display": true,
   "toc_window_display": false
  }
 },
 "nbformat": 4,
 "nbformat_minor": 1
}
