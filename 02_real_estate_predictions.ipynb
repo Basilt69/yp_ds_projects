{
 "cells": [
  {
   "cell_type": "markdown",
   "metadata": {},
   "source": [
    "# Apartments for sale ads research\n",
    "\n",
    "**Task:**\n",
    "\n",
    "Based on the data of Yandex.Real estate devision— an archive of ads for the sale of apartments in St. Petersburg and neighboring settlements for several years - to determine th0e market value of real estate and set parameters that allow to build an automated system for tracking anomalies and fraudulent activity."
   ]
  },
  {
   "cell_type": "markdown",
   "metadata": {},
   "source": [
    "<h1>Table of contents:<span class=\"tocSkip\"></span></h1>\n",
    "<div class=\"toc\"><ul class=\"toc-item\"><li><span><a href=\"#Изучение-данных-из-файла\" data-toc-modified-id=\"Изучение-данных-из-файла-1\"><span class=\"toc-item-num\">1&nbsp;&nbsp;</span>Exploration of data</a></span><li><span><a href=\"#Предобработка-данных\" data-toc-modified-id=\"Предобработка-данных-2\"><span class=\"toc-item-num\">2&nbsp;&nbsp;</span>Data preprocessing</a></span></li><li><span><a href=\"#Расчёты-и-добавление-результатов-в-таблицу\" data-toc-modified-id=\"Расчёты-и-добавление-результатов-в-таблицу-3\"><span class=\"toc-item-num\">3&nbsp;&nbsp;</span>Calculations and adding results to the table</a></span></li><li><span><a href=\"#Исследовательский-анализ-данных\" data-toc-modified-id=\"Исследовательский-анализ-данных-4\"><span class=\"toc-item-num\">4&nbsp;&nbsp;</span>Exploratory data analysis</a></span></li><li><span><a href=\"#Общий-вывод\" data-toc-modified-id=\"Общий-вывод-5\"><span class=\"toc-item-num\">5&nbsp;&nbsp;</span>Final conclusion</a></span></li></div>"
   ]
  },
  {
   "cell_type": "markdown",
   "metadata": {},
   "source": [
    "## 1. Exploration of data"
   ]
  },
  {
   "cell_type": "markdown",
   "metadata": {},
   "source": [
    "There are two types of data available for each apartment for sale. The first ones are entered by the user, the second ones are obtained automatically based on cartographic data. For example, the distance to the center, the airport, the nearest park and reservoir.\n",
    "\n",
    "airports_nearest — distance to the nearest airport in meters (m)\n",
    "\n",
    "balcony — number of balconies\n",
    "\n",
    "ceiling_height — ceiling height (m)\n",
    "\n",
    "cityCenters_nearest — distance to the city center (m)\n",
    "\n",
    "days_exposition — how many days the ad was placed (from publication to withdrawal)\n",
    "\n",
    "first_day_exposition — date of publication\n",
    "\n",
    "floor — floor\n",
    "\n",
    "floors_total — total floors in the house\n",
    "\n",
    "is_apartment — apartments (boolean type)\n",
    "\n",
    "kitchen_area — kitchen area in square meters (m2)\n",
    "\n",
    "last_price — price at the time of withdrawal from publication\n",
    "\n",
    "living_area — living area in square meters (m2)\n",
    "\n",
    "locality_name — name of the locality\n",
    "\n",
    "open_plan — free layout (boolean type)\n",
    "\n",
    "parks_around3000 — number of parks within a 3 km radius\n",
    "\n",
    "parks_nearest — distance to the nearest park (m)\n",
    "\n",
    "ponds_around3000 — the number of reservoirs within a radius of 3 km\n",
    "\n",
    "ponds_nearest — distance to the nearest reservoir (m)\n",
    "\n",
    "rooms — number of rooms\n",
    "\n",
    "studio — studio apartment (boolean type)\n",
    "\n",
    "total_area — the area of the apartment in square meters (m2)\n",
    "\n",
    "total_images — the number of photos of the apartment in the ad"
   ]
  },
  {
   "cell_type": "code",
   "execution_count": 1,
   "metadata": {},
   "outputs": [],
   "source": [
    "import pandas as pd\n",
    "import numpy as np\n",
    "import matplotlib.pyplot as plt\n",
    "from datetime import datetime\n",
    "import warnings\n",
    "\n",
    "warnings.simplefilter('ignore')\n"
   ]
  },
  {
   "cell_type": "code",
   "execution_count": 2,
   "metadata": {},
   "outputs": [
    {
     "data": {
      "text/html": [
       "<div>\n",
       "<style scoped>\n",
       "    .dataframe tbody tr th:only-of-type {\n",
       "        vertical-align: middle;\n",
       "    }\n",
       "\n",
       "    .dataframe tbody tr th {\n",
       "        vertical-align: top;\n",
       "    }\n",
       "\n",
       "    .dataframe thead th {\n",
       "        text-align: right;\n",
       "    }\n",
       "</style>\n",
       "<table border=\"1\" class=\"dataframe\">\n",
       "  <thead>\n",
       "    <tr style=\"text-align: right;\">\n",
       "      <th></th>\n",
       "      <th>total_images</th>\n",
       "      <th>last_price</th>\n",
       "      <th>total_area</th>\n",
       "      <th>first_day_exposition</th>\n",
       "      <th>rooms</th>\n",
       "      <th>ceiling_height</th>\n",
       "      <th>floors_total</th>\n",
       "      <th>living_area</th>\n",
       "      <th>floor</th>\n",
       "      <th>is_apartment</th>\n",
       "      <th>...</th>\n",
       "      <th>kitchen_area</th>\n",
       "      <th>balcony</th>\n",
       "      <th>locality_name</th>\n",
       "      <th>airports_nearest</th>\n",
       "      <th>cityCenters_nearest</th>\n",
       "      <th>parks_around3000</th>\n",
       "      <th>parks_nearest</th>\n",
       "      <th>ponds_around3000</th>\n",
       "      <th>ponds_nearest</th>\n",
       "      <th>days_exposition</th>\n",
       "    </tr>\n",
       "  </thead>\n",
       "  <tbody>\n",
       "    <tr>\n",
       "      <th>0</th>\n",
       "      <td>20</td>\n",
       "      <td>13000000.0</td>\n",
       "      <td>108.0</td>\n",
       "      <td>2019-03-07T00:00:00</td>\n",
       "      <td>3</td>\n",
       "      <td>2.70</td>\n",
       "      <td>16.0</td>\n",
       "      <td>51.0</td>\n",
       "      <td>8</td>\n",
       "      <td>NaN</td>\n",
       "      <td>...</td>\n",
       "      <td>25.0</td>\n",
       "      <td>NaN</td>\n",
       "      <td>Санкт-Петербург</td>\n",
       "      <td>18863.0</td>\n",
       "      <td>16028.0</td>\n",
       "      <td>1.0</td>\n",
       "      <td>482.0</td>\n",
       "      <td>2.0</td>\n",
       "      <td>755.0</td>\n",
       "      <td>NaN</td>\n",
       "    </tr>\n",
       "    <tr>\n",
       "      <th>1</th>\n",
       "      <td>7</td>\n",
       "      <td>3350000.0</td>\n",
       "      <td>40.4</td>\n",
       "      <td>2018-12-04T00:00:00</td>\n",
       "      <td>1</td>\n",
       "      <td>NaN</td>\n",
       "      <td>11.0</td>\n",
       "      <td>18.6</td>\n",
       "      <td>1</td>\n",
       "      <td>NaN</td>\n",
       "      <td>...</td>\n",
       "      <td>11.0</td>\n",
       "      <td>2.0</td>\n",
       "      <td>посёлок Шушары</td>\n",
       "      <td>12817.0</td>\n",
       "      <td>18603.0</td>\n",
       "      <td>0.0</td>\n",
       "      <td>NaN</td>\n",
       "      <td>0.0</td>\n",
       "      <td>NaN</td>\n",
       "      <td>81.0</td>\n",
       "    </tr>\n",
       "    <tr>\n",
       "      <th>2</th>\n",
       "      <td>10</td>\n",
       "      <td>5196000.0</td>\n",
       "      <td>56.0</td>\n",
       "      <td>2015-08-20T00:00:00</td>\n",
       "      <td>2</td>\n",
       "      <td>NaN</td>\n",
       "      <td>5.0</td>\n",
       "      <td>34.3</td>\n",
       "      <td>4</td>\n",
       "      <td>NaN</td>\n",
       "      <td>...</td>\n",
       "      <td>8.3</td>\n",
       "      <td>0.0</td>\n",
       "      <td>Санкт-Петербург</td>\n",
       "      <td>21741.0</td>\n",
       "      <td>13933.0</td>\n",
       "      <td>1.0</td>\n",
       "      <td>90.0</td>\n",
       "      <td>2.0</td>\n",
       "      <td>574.0</td>\n",
       "      <td>558.0</td>\n",
       "    </tr>\n",
       "    <tr>\n",
       "      <th>3</th>\n",
       "      <td>0</td>\n",
       "      <td>64900000.0</td>\n",
       "      <td>159.0</td>\n",
       "      <td>2015-07-24T00:00:00</td>\n",
       "      <td>3</td>\n",
       "      <td>NaN</td>\n",
       "      <td>14.0</td>\n",
       "      <td>NaN</td>\n",
       "      <td>9</td>\n",
       "      <td>NaN</td>\n",
       "      <td>...</td>\n",
       "      <td>NaN</td>\n",
       "      <td>0.0</td>\n",
       "      <td>Санкт-Петербург</td>\n",
       "      <td>28098.0</td>\n",
       "      <td>6800.0</td>\n",
       "      <td>2.0</td>\n",
       "      <td>84.0</td>\n",
       "      <td>3.0</td>\n",
       "      <td>234.0</td>\n",
       "      <td>424.0</td>\n",
       "    </tr>\n",
       "    <tr>\n",
       "      <th>4</th>\n",
       "      <td>2</td>\n",
       "      <td>10000000.0</td>\n",
       "      <td>100.0</td>\n",
       "      <td>2018-06-19T00:00:00</td>\n",
       "      <td>2</td>\n",
       "      <td>3.03</td>\n",
       "      <td>14.0</td>\n",
       "      <td>32.0</td>\n",
       "      <td>13</td>\n",
       "      <td>NaN</td>\n",
       "      <td>...</td>\n",
       "      <td>41.0</td>\n",
       "      <td>NaN</td>\n",
       "      <td>Санкт-Петербург</td>\n",
       "      <td>31856.0</td>\n",
       "      <td>8098.0</td>\n",
       "      <td>2.0</td>\n",
       "      <td>112.0</td>\n",
       "      <td>1.0</td>\n",
       "      <td>48.0</td>\n",
       "      <td>121.0</td>\n",
       "    </tr>\n",
       "  </tbody>\n",
       "</table>\n",
       "<p>5 rows × 22 columns</p>\n",
       "</div>"
      ],
      "text/plain": [
       "   total_images  last_price  total_area first_day_exposition  rooms  \\\n",
       "0            20  13000000.0       108.0  2019-03-07T00:00:00      3   \n",
       "1             7   3350000.0        40.4  2018-12-04T00:00:00      1   \n",
       "2            10   5196000.0        56.0  2015-08-20T00:00:00      2   \n",
       "3             0  64900000.0       159.0  2015-07-24T00:00:00      3   \n",
       "4             2  10000000.0       100.0  2018-06-19T00:00:00      2   \n",
       "\n",
       "   ceiling_height  floors_total  living_area  floor is_apartment  ...  \\\n",
       "0            2.70          16.0         51.0      8          NaN  ...   \n",
       "1             NaN          11.0         18.6      1          NaN  ...   \n",
       "2             NaN           5.0         34.3      4          NaN  ...   \n",
       "3             NaN          14.0          NaN      9          NaN  ...   \n",
       "4            3.03          14.0         32.0     13          NaN  ...   \n",
       "\n",
       "   kitchen_area  balcony    locality_name  airports_nearest  \\\n",
       "0          25.0      NaN  Санкт-Петербург           18863.0   \n",
       "1          11.0      2.0   посёлок Шушары           12817.0   \n",
       "2           8.3      0.0  Санкт-Петербург           21741.0   \n",
       "3           NaN      0.0  Санкт-Петербург           28098.0   \n",
       "4          41.0      NaN  Санкт-Петербург           31856.0   \n",
       "\n",
       "  cityCenters_nearest  parks_around3000  parks_nearest  ponds_around3000  \\\n",
       "0             16028.0               1.0          482.0               2.0   \n",
       "1             18603.0               0.0            NaN               0.0   \n",
       "2             13933.0               1.0           90.0               2.0   \n",
       "3              6800.0               2.0           84.0               3.0   \n",
       "4              8098.0               2.0          112.0               1.0   \n",
       "\n",
       "   ponds_nearest  days_exposition  \n",
       "0          755.0              NaN  \n",
       "1            NaN             81.0  \n",
       "2          574.0            558.0  \n",
       "3          234.0            424.0  \n",
       "4           48.0            121.0  \n",
       "\n",
       "[5 rows x 22 columns]"
      ]
     },
     "execution_count": 2,
     "metadata": {},
     "output_type": "execute_result"
    }
   ],
   "source": [
    "# Unloading the first rows of data and initial inspection\n",
    "df = pd.read_csv('real_estate_data.csv',sep = '\\t')\n",
    "df.head()"
   ]
  },
  {
   "cell_type": "code",
   "execution_count": 3,
   "metadata": {},
   "outputs": [
    {
     "data": {
      "text/html": [
       "<div>\n",
       "<style scoped>\n",
       "    .dataframe tbody tr th:only-of-type {\n",
       "        vertical-align: middle;\n",
       "    }\n",
       "\n",
       "    .dataframe tbody tr th {\n",
       "        vertical-align: top;\n",
       "    }\n",
       "\n",
       "    .dataframe thead th {\n",
       "        text-align: right;\n",
       "    }\n",
       "</style>\n",
       "<table border=\"1\" class=\"dataframe\">\n",
       "  <thead>\n",
       "    <tr style=\"text-align: right;\">\n",
       "      <th></th>\n",
       "      <th>total_images</th>\n",
       "      <th>last_price</th>\n",
       "      <th>total_area</th>\n",
       "      <th>first_day_exposition</th>\n",
       "      <th>rooms</th>\n",
       "      <th>ceiling_height</th>\n",
       "      <th>floors_total</th>\n",
       "      <th>living_area</th>\n",
       "      <th>floor</th>\n",
       "      <th>is_apartment</th>\n",
       "      <th>...</th>\n",
       "      <th>kitchen_area</th>\n",
       "      <th>balcony</th>\n",
       "      <th>locality_name</th>\n",
       "      <th>airports_nearest</th>\n",
       "      <th>cityCenters_nearest</th>\n",
       "      <th>parks_around3000</th>\n",
       "      <th>parks_nearest</th>\n",
       "      <th>ponds_around3000</th>\n",
       "      <th>ponds_nearest</th>\n",
       "      <th>days_exposition</th>\n",
       "    </tr>\n",
       "  </thead>\n",
       "  <tbody>\n",
       "    <tr>\n",
       "      <th>23694</th>\n",
       "      <td>9</td>\n",
       "      <td>9700000.0</td>\n",
       "      <td>133.81</td>\n",
       "      <td>2017-03-21T00:00:00</td>\n",
       "      <td>3</td>\n",
       "      <td>3.7</td>\n",
       "      <td>5.0</td>\n",
       "      <td>73.3</td>\n",
       "      <td>3</td>\n",
       "      <td>NaN</td>\n",
       "      <td>...</td>\n",
       "      <td>13.83</td>\n",
       "      <td>NaN</td>\n",
       "      <td>Санкт-Петербург</td>\n",
       "      <td>24665.0</td>\n",
       "      <td>4232.0</td>\n",
       "      <td>1.0</td>\n",
       "      <td>796.0</td>\n",
       "      <td>3.0</td>\n",
       "      <td>381.0</td>\n",
       "      <td>NaN</td>\n",
       "    </tr>\n",
       "    <tr>\n",
       "      <th>23695</th>\n",
       "      <td>14</td>\n",
       "      <td>3100000.0</td>\n",
       "      <td>59.00</td>\n",
       "      <td>2018-01-15T00:00:00</td>\n",
       "      <td>3</td>\n",
       "      <td>NaN</td>\n",
       "      <td>5.0</td>\n",
       "      <td>38.0</td>\n",
       "      <td>4</td>\n",
       "      <td>NaN</td>\n",
       "      <td>...</td>\n",
       "      <td>8.50</td>\n",
       "      <td>NaN</td>\n",
       "      <td>Тосно</td>\n",
       "      <td>NaN</td>\n",
       "      <td>NaN</td>\n",
       "      <td>NaN</td>\n",
       "      <td>NaN</td>\n",
       "      <td>NaN</td>\n",
       "      <td>NaN</td>\n",
       "      <td>45.0</td>\n",
       "    </tr>\n",
       "    <tr>\n",
       "      <th>23696</th>\n",
       "      <td>18</td>\n",
       "      <td>2500000.0</td>\n",
       "      <td>56.70</td>\n",
       "      <td>2018-02-11T00:00:00</td>\n",
       "      <td>2</td>\n",
       "      <td>NaN</td>\n",
       "      <td>3.0</td>\n",
       "      <td>29.7</td>\n",
       "      <td>1</td>\n",
       "      <td>NaN</td>\n",
       "      <td>...</td>\n",
       "      <td>NaN</td>\n",
       "      <td>NaN</td>\n",
       "      <td>село Рождествено</td>\n",
       "      <td>NaN</td>\n",
       "      <td>NaN</td>\n",
       "      <td>NaN</td>\n",
       "      <td>NaN</td>\n",
       "      <td>NaN</td>\n",
       "      <td>NaN</td>\n",
       "      <td>NaN</td>\n",
       "    </tr>\n",
       "    <tr>\n",
       "      <th>23697</th>\n",
       "      <td>13</td>\n",
       "      <td>11475000.0</td>\n",
       "      <td>76.75</td>\n",
       "      <td>2017-03-28T00:00:00</td>\n",
       "      <td>2</td>\n",
       "      <td>3.0</td>\n",
       "      <td>17.0</td>\n",
       "      <td>NaN</td>\n",
       "      <td>12</td>\n",
       "      <td>NaN</td>\n",
       "      <td>...</td>\n",
       "      <td>23.30</td>\n",
       "      <td>2.0</td>\n",
       "      <td>Санкт-Петербург</td>\n",
       "      <td>39140.0</td>\n",
       "      <td>10364.0</td>\n",
       "      <td>2.0</td>\n",
       "      <td>173.0</td>\n",
       "      <td>3.0</td>\n",
       "      <td>196.0</td>\n",
       "      <td>602.0</td>\n",
       "    </tr>\n",
       "    <tr>\n",
       "      <th>23698</th>\n",
       "      <td>4</td>\n",
       "      <td>1350000.0</td>\n",
       "      <td>32.30</td>\n",
       "      <td>2017-07-21T00:00:00</td>\n",
       "      <td>1</td>\n",
       "      <td>2.5</td>\n",
       "      <td>5.0</td>\n",
       "      <td>12.3</td>\n",
       "      <td>1</td>\n",
       "      <td>NaN</td>\n",
       "      <td>...</td>\n",
       "      <td>9.00</td>\n",
       "      <td>NaN</td>\n",
       "      <td>поселок Новый Учхоз</td>\n",
       "      <td>NaN</td>\n",
       "      <td>NaN</td>\n",
       "      <td>NaN</td>\n",
       "      <td>NaN</td>\n",
       "      <td>NaN</td>\n",
       "      <td>NaN</td>\n",
       "      <td>NaN</td>\n",
       "    </tr>\n",
       "  </tbody>\n",
       "</table>\n",
       "<p>5 rows × 22 columns</p>\n",
       "</div>"
      ],
      "text/plain": [
       "       total_images  last_price  total_area first_day_exposition  rooms  \\\n",
       "23694             9   9700000.0      133.81  2017-03-21T00:00:00      3   \n",
       "23695            14   3100000.0       59.00  2018-01-15T00:00:00      3   \n",
       "23696            18   2500000.0       56.70  2018-02-11T00:00:00      2   \n",
       "23697            13  11475000.0       76.75  2017-03-28T00:00:00      2   \n",
       "23698             4   1350000.0       32.30  2017-07-21T00:00:00      1   \n",
       "\n",
       "       ceiling_height  floors_total  living_area  floor is_apartment  ...  \\\n",
       "23694             3.7           5.0         73.3      3          NaN  ...   \n",
       "23695             NaN           5.0         38.0      4          NaN  ...   \n",
       "23696             NaN           3.0         29.7      1          NaN  ...   \n",
       "23697             3.0          17.0          NaN     12          NaN  ...   \n",
       "23698             2.5           5.0         12.3      1          NaN  ...   \n",
       "\n",
       "       kitchen_area  balcony        locality_name  airports_nearest  \\\n",
       "23694         13.83      NaN      Санкт-Петербург           24665.0   \n",
       "23695          8.50      NaN                Тосно               NaN   \n",
       "23696           NaN      NaN     село Рождествено               NaN   \n",
       "23697         23.30      2.0      Санкт-Петербург           39140.0   \n",
       "23698          9.00      NaN  поселок Новый Учхоз               NaN   \n",
       "\n",
       "      cityCenters_nearest  parks_around3000  parks_nearest  ponds_around3000  \\\n",
       "23694              4232.0               1.0          796.0               3.0   \n",
       "23695                 NaN               NaN            NaN               NaN   \n",
       "23696                 NaN               NaN            NaN               NaN   \n",
       "23697             10364.0               2.0          173.0               3.0   \n",
       "23698                 NaN               NaN            NaN               NaN   \n",
       "\n",
       "       ponds_nearest  days_exposition  \n",
       "23694          381.0              NaN  \n",
       "23695            NaN             45.0  \n",
       "23696            NaN              NaN  \n",
       "23697          196.0            602.0  \n",
       "23698            NaN              NaN  \n",
       "\n",
       "[5 rows x 22 columns]"
      ]
     },
     "execution_count": 3,
     "metadata": {},
     "output_type": "execute_result"
    }
   ],
   "source": [
    "df.tail()"
   ]
  },
  {
   "cell_type": "code",
   "execution_count": 4,
   "metadata": {},
   "outputs": [
    {
     "data": {
      "text/html": [
       "<div>\n",
       "<style scoped>\n",
       "    .dataframe tbody tr th:only-of-type {\n",
       "        vertical-align: middle;\n",
       "    }\n",
       "\n",
       "    .dataframe tbody tr th {\n",
       "        vertical-align: top;\n",
       "    }\n",
       "\n",
       "    .dataframe thead th {\n",
       "        text-align: right;\n",
       "    }\n",
       "</style>\n",
       "<table border=\"1\" class=\"dataframe\">\n",
       "  <thead>\n",
       "    <tr style=\"text-align: right;\">\n",
       "      <th></th>\n",
       "      <th>total_images</th>\n",
       "      <th>last_price</th>\n",
       "      <th>total_area</th>\n",
       "      <th>first_day_exposition</th>\n",
       "      <th>rooms</th>\n",
       "      <th>ceiling_height</th>\n",
       "      <th>floors_total</th>\n",
       "      <th>living_area</th>\n",
       "      <th>floor</th>\n",
       "      <th>is_apartment</th>\n",
       "      <th>...</th>\n",
       "      <th>kitchen_area</th>\n",
       "      <th>balcony</th>\n",
       "      <th>locality_name</th>\n",
       "      <th>airports_nearest</th>\n",
       "      <th>cityCenters_nearest</th>\n",
       "      <th>parks_around3000</th>\n",
       "      <th>parks_nearest</th>\n",
       "      <th>ponds_around3000</th>\n",
       "      <th>ponds_nearest</th>\n",
       "      <th>days_exposition</th>\n",
       "    </tr>\n",
       "  </thead>\n",
       "  <tbody>\n",
       "    <tr>\n",
       "      <th>4902</th>\n",
       "      <td>8</td>\n",
       "      <td>1980000.0</td>\n",
       "      <td>51.0</td>\n",
       "      <td>2017-09-28T00:00:00</td>\n",
       "      <td>2</td>\n",
       "      <td>NaN</td>\n",
       "      <td>5.0</td>\n",
       "      <td>31.5</td>\n",
       "      <td>5</td>\n",
       "      <td>NaN</td>\n",
       "      <td>...</td>\n",
       "      <td>9.5</td>\n",
       "      <td>1.0</td>\n",
       "      <td>деревня Бегуницы</td>\n",
       "      <td>NaN</td>\n",
       "      <td>NaN</td>\n",
       "      <td>NaN</td>\n",
       "      <td>NaN</td>\n",
       "      <td>NaN</td>\n",
       "      <td>NaN</td>\n",
       "      <td>45.0</td>\n",
       "    </tr>\n",
       "    <tr>\n",
       "      <th>3465</th>\n",
       "      <td>20</td>\n",
       "      <td>4900000.0</td>\n",
       "      <td>54.6</td>\n",
       "      <td>2018-07-24T00:00:00</td>\n",
       "      <td>3</td>\n",
       "      <td>NaN</td>\n",
       "      <td>6.0</td>\n",
       "      <td>39.5</td>\n",
       "      <td>4</td>\n",
       "      <td>NaN</td>\n",
       "      <td>...</td>\n",
       "      <td>5.1</td>\n",
       "      <td>NaN</td>\n",
       "      <td>Санкт-Петербург</td>\n",
       "      <td>20114.0</td>\n",
       "      <td>5467.0</td>\n",
       "      <td>2.0</td>\n",
       "      <td>450.0</td>\n",
       "      <td>0.0</td>\n",
       "      <td>NaN</td>\n",
       "      <td>32.0</td>\n",
       "    </tr>\n",
       "    <tr>\n",
       "      <th>16821</th>\n",
       "      <td>20</td>\n",
       "      <td>5100000.0</td>\n",
       "      <td>47.8</td>\n",
       "      <td>2018-08-15T00:00:00</td>\n",
       "      <td>2</td>\n",
       "      <td>2.6</td>\n",
       "      <td>9.0</td>\n",
       "      <td>30.5</td>\n",
       "      <td>2</td>\n",
       "      <td>NaN</td>\n",
       "      <td>...</td>\n",
       "      <td>7.0</td>\n",
       "      <td>1.0</td>\n",
       "      <td>Санкт-Петербург</td>\n",
       "      <td>40808.0</td>\n",
       "      <td>13312.0</td>\n",
       "      <td>0.0</td>\n",
       "      <td>NaN</td>\n",
       "      <td>0.0</td>\n",
       "      <td>NaN</td>\n",
       "      <td>142.0</td>\n",
       "    </tr>\n",
       "    <tr>\n",
       "      <th>22492</th>\n",
       "      <td>10</td>\n",
       "      <td>5100000.0</td>\n",
       "      <td>56.0</td>\n",
       "      <td>2018-09-05T00:00:00</td>\n",
       "      <td>2</td>\n",
       "      <td>2.5</td>\n",
       "      <td>7.0</td>\n",
       "      <td>29.0</td>\n",
       "      <td>5</td>\n",
       "      <td>NaN</td>\n",
       "      <td>...</td>\n",
       "      <td>15.0</td>\n",
       "      <td>1.0</td>\n",
       "      <td>Санкт-Петербург</td>\n",
       "      <td>39812.0</td>\n",
       "      <td>9072.0</td>\n",
       "      <td>1.0</td>\n",
       "      <td>602.0</td>\n",
       "      <td>0.0</td>\n",
       "      <td>NaN</td>\n",
       "      <td>61.0</td>\n",
       "    </tr>\n",
       "    <tr>\n",
       "      <th>5273</th>\n",
       "      <td>10</td>\n",
       "      <td>4500000.0</td>\n",
       "      <td>53.0</td>\n",
       "      <td>2018-10-18T00:00:00</td>\n",
       "      <td>1</td>\n",
       "      <td>2.7</td>\n",
       "      <td>25.0</td>\n",
       "      <td>14.0</td>\n",
       "      <td>22</td>\n",
       "      <td>NaN</td>\n",
       "      <td>...</td>\n",
       "      <td>13.0</td>\n",
       "      <td>1.0</td>\n",
       "      <td>Санкт-Петербург</td>\n",
       "      <td>48847.0</td>\n",
       "      <td>16685.0</td>\n",
       "      <td>0.0</td>\n",
       "      <td>NaN</td>\n",
       "      <td>0.0</td>\n",
       "      <td>NaN</td>\n",
       "      <td>62.0</td>\n",
       "    </tr>\n",
       "  </tbody>\n",
       "</table>\n",
       "<p>5 rows × 22 columns</p>\n",
       "</div>"
      ],
      "text/plain": [
       "       total_images  last_price  total_area first_day_exposition  rooms  \\\n",
       "4902              8   1980000.0        51.0  2017-09-28T00:00:00      2   \n",
       "3465             20   4900000.0        54.6  2018-07-24T00:00:00      3   \n",
       "16821            20   5100000.0        47.8  2018-08-15T00:00:00      2   \n",
       "22492            10   5100000.0        56.0  2018-09-05T00:00:00      2   \n",
       "5273             10   4500000.0        53.0  2018-10-18T00:00:00      1   \n",
       "\n",
       "       ceiling_height  floors_total  living_area  floor is_apartment  ...  \\\n",
       "4902              NaN           5.0         31.5      5          NaN  ...   \n",
       "3465              NaN           6.0         39.5      4          NaN  ...   \n",
       "16821             2.6           9.0         30.5      2          NaN  ...   \n",
       "22492             2.5           7.0         29.0      5          NaN  ...   \n",
       "5273              2.7          25.0         14.0     22          NaN  ...   \n",
       "\n",
       "       kitchen_area  balcony     locality_name  airports_nearest  \\\n",
       "4902            9.5      1.0  деревня Бегуницы               NaN   \n",
       "3465            5.1      NaN   Санкт-Петербург           20114.0   \n",
       "16821           7.0      1.0   Санкт-Петербург           40808.0   \n",
       "22492          15.0      1.0   Санкт-Петербург           39812.0   \n",
       "5273           13.0      1.0   Санкт-Петербург           48847.0   \n",
       "\n",
       "      cityCenters_nearest  parks_around3000  parks_nearest  ponds_around3000  \\\n",
       "4902                  NaN               NaN            NaN               NaN   \n",
       "3465               5467.0               2.0          450.0               0.0   \n",
       "16821             13312.0               0.0            NaN               0.0   \n",
       "22492              9072.0               1.0          602.0               0.0   \n",
       "5273              16685.0               0.0            NaN               0.0   \n",
       "\n",
       "       ponds_nearest  days_exposition  \n",
       "4902             NaN             45.0  \n",
       "3465             NaN             32.0  \n",
       "16821            NaN            142.0  \n",
       "22492            NaN             61.0  \n",
       "5273             NaN             62.0  \n",
       "\n",
       "[5 rows x 22 columns]"
      ]
     },
     "execution_count": 4,
     "metadata": {},
     "output_type": "execute_result"
    }
   ],
   "source": [
    "df.sample(5)"
   ]
  },
  {
   "cell_type": "code",
   "execution_count": 5,
   "metadata": {},
   "outputs": [
    {
     "name": "stdout",
     "output_type": "stream",
     "text": [
      "<class 'pandas.core.frame.DataFrame'>\n",
      "RangeIndex: 23699 entries, 0 to 23698\n",
      "Data columns (total 22 columns):\n",
      " #   Column                Non-Null Count  Dtype  \n",
      "---  ------                --------------  -----  \n",
      " 0   total_images          23699 non-null  int64  \n",
      " 1   last_price            23699 non-null  float64\n",
      " 2   total_area            23699 non-null  float64\n",
      " 3   first_day_exposition  23699 non-null  object \n",
      " 4   rooms                 23699 non-null  int64  \n",
      " 5   ceiling_height        14504 non-null  float64\n",
      " 6   floors_total          23613 non-null  float64\n",
      " 7   living_area           21796 non-null  float64\n",
      " 8   floor                 23699 non-null  int64  \n",
      " 9   is_apartment          2775 non-null   object \n",
      " 10  studio                23699 non-null  bool   \n",
      " 11  open_plan             23699 non-null  bool   \n",
      " 12  kitchen_area          21421 non-null  float64\n",
      " 13  balcony               12180 non-null  float64\n",
      " 14  locality_name         23650 non-null  object \n",
      " 15  airports_nearest      18157 non-null  float64\n",
      " 16  cityCenters_nearest   18180 non-null  float64\n",
      " 17  parks_around3000      18181 non-null  float64\n",
      " 18  parks_nearest         8079 non-null   float64\n",
      " 19  ponds_around3000      18181 non-null  float64\n",
      " 20  ponds_nearest         9110 non-null   float64\n",
      " 21  days_exposition       20518 non-null  float64\n",
      "dtypes: bool(2), float64(14), int64(3), object(3)\n",
      "memory usage: 3.7+ MB\n"
     ]
    }
   ],
   "source": [
    "df.info()"
   ]
  },
  {
   "cell_type": "code",
   "execution_count": 6,
   "metadata": {},
   "outputs": [
    {
     "data": {
      "text/html": [
       "<div>\n",
       "<style scoped>\n",
       "    .dataframe tbody tr th:only-of-type {\n",
       "        vertical-align: middle;\n",
       "    }\n",
       "\n",
       "    .dataframe tbody tr th {\n",
       "        vertical-align: top;\n",
       "    }\n",
       "\n",
       "    .dataframe thead th {\n",
       "        text-align: right;\n",
       "    }\n",
       "</style>\n",
       "<table border=\"1\" class=\"dataframe\">\n",
       "  <thead>\n",
       "    <tr style=\"text-align: right;\">\n",
       "      <th></th>\n",
       "      <th>total_images</th>\n",
       "      <th>last_price</th>\n",
       "      <th>total_area</th>\n",
       "      <th>rooms</th>\n",
       "      <th>ceiling_height</th>\n",
       "      <th>floors_total</th>\n",
       "      <th>living_area</th>\n",
       "      <th>floor</th>\n",
       "      <th>kitchen_area</th>\n",
       "      <th>balcony</th>\n",
       "      <th>airports_nearest</th>\n",
       "      <th>cityCenters_nearest</th>\n",
       "      <th>parks_around3000</th>\n",
       "      <th>parks_nearest</th>\n",
       "      <th>ponds_around3000</th>\n",
       "      <th>ponds_nearest</th>\n",
       "      <th>days_exposition</th>\n",
       "    </tr>\n",
       "  </thead>\n",
       "  <tbody>\n",
       "    <tr>\n",
       "      <th>count</th>\n",
       "      <td>23699.000000</td>\n",
       "      <td>2.369900e+04</td>\n",
       "      <td>23699.000000</td>\n",
       "      <td>23699.000000</td>\n",
       "      <td>14504.000000</td>\n",
       "      <td>23613.000000</td>\n",
       "      <td>21796.000000</td>\n",
       "      <td>23699.000000</td>\n",
       "      <td>21421.000000</td>\n",
       "      <td>12180.000000</td>\n",
       "      <td>18157.000000</td>\n",
       "      <td>18180.000000</td>\n",
       "      <td>18181.000000</td>\n",
       "      <td>8079.000000</td>\n",
       "      <td>18181.000000</td>\n",
       "      <td>9110.000000</td>\n",
       "      <td>20518.000000</td>\n",
       "    </tr>\n",
       "    <tr>\n",
       "      <th>mean</th>\n",
       "      <td>9.858475</td>\n",
       "      <td>6.541549e+06</td>\n",
       "      <td>60.348651</td>\n",
       "      <td>2.070636</td>\n",
       "      <td>2.771499</td>\n",
       "      <td>10.673824</td>\n",
       "      <td>34.457852</td>\n",
       "      <td>5.892358</td>\n",
       "      <td>10.569807</td>\n",
       "      <td>1.150082</td>\n",
       "      <td>28793.672193</td>\n",
       "      <td>14191.277833</td>\n",
       "      <td>0.611408</td>\n",
       "      <td>490.804555</td>\n",
       "      <td>0.770255</td>\n",
       "      <td>517.980900</td>\n",
       "      <td>180.888634</td>\n",
       "    </tr>\n",
       "    <tr>\n",
       "      <th>std</th>\n",
       "      <td>5.682529</td>\n",
       "      <td>1.088701e+07</td>\n",
       "      <td>35.654083</td>\n",
       "      <td>1.078405</td>\n",
       "      <td>1.261056</td>\n",
       "      <td>6.597173</td>\n",
       "      <td>22.030445</td>\n",
       "      <td>4.885249</td>\n",
       "      <td>5.905438</td>\n",
       "      <td>1.071300</td>\n",
       "      <td>12630.880622</td>\n",
       "      <td>8608.386210</td>\n",
       "      <td>0.802074</td>\n",
       "      <td>342.317995</td>\n",
       "      <td>0.938346</td>\n",
       "      <td>277.720643</td>\n",
       "      <td>219.727988</td>\n",
       "    </tr>\n",
       "    <tr>\n",
       "      <th>min</th>\n",
       "      <td>0.000000</td>\n",
       "      <td>1.219000e+04</td>\n",
       "      <td>12.000000</td>\n",
       "      <td>0.000000</td>\n",
       "      <td>1.000000</td>\n",
       "      <td>1.000000</td>\n",
       "      <td>2.000000</td>\n",
       "      <td>1.000000</td>\n",
       "      <td>1.300000</td>\n",
       "      <td>0.000000</td>\n",
       "      <td>0.000000</td>\n",
       "      <td>181.000000</td>\n",
       "      <td>0.000000</td>\n",
       "      <td>1.000000</td>\n",
       "      <td>0.000000</td>\n",
       "      <td>13.000000</td>\n",
       "      <td>1.000000</td>\n",
       "    </tr>\n",
       "    <tr>\n",
       "      <th>25%</th>\n",
       "      <td>6.000000</td>\n",
       "      <td>3.400000e+06</td>\n",
       "      <td>40.000000</td>\n",
       "      <td>1.000000</td>\n",
       "      <td>2.520000</td>\n",
       "      <td>5.000000</td>\n",
       "      <td>18.600000</td>\n",
       "      <td>2.000000</td>\n",
       "      <td>7.000000</td>\n",
       "      <td>0.000000</td>\n",
       "      <td>18585.000000</td>\n",
       "      <td>9238.000000</td>\n",
       "      <td>0.000000</td>\n",
       "      <td>288.000000</td>\n",
       "      <td>0.000000</td>\n",
       "      <td>294.000000</td>\n",
       "      <td>45.000000</td>\n",
       "    </tr>\n",
       "    <tr>\n",
       "      <th>50%</th>\n",
       "      <td>9.000000</td>\n",
       "      <td>4.650000e+06</td>\n",
       "      <td>52.000000</td>\n",
       "      <td>2.000000</td>\n",
       "      <td>2.650000</td>\n",
       "      <td>9.000000</td>\n",
       "      <td>30.000000</td>\n",
       "      <td>4.000000</td>\n",
       "      <td>9.100000</td>\n",
       "      <td>1.000000</td>\n",
       "      <td>26726.000000</td>\n",
       "      <td>13098.500000</td>\n",
       "      <td>0.000000</td>\n",
       "      <td>455.000000</td>\n",
       "      <td>1.000000</td>\n",
       "      <td>502.000000</td>\n",
       "      <td>95.000000</td>\n",
       "    </tr>\n",
       "    <tr>\n",
       "      <th>75%</th>\n",
       "      <td>14.000000</td>\n",
       "      <td>6.800000e+06</td>\n",
       "      <td>69.900000</td>\n",
       "      <td>3.000000</td>\n",
       "      <td>2.800000</td>\n",
       "      <td>16.000000</td>\n",
       "      <td>42.300000</td>\n",
       "      <td>8.000000</td>\n",
       "      <td>12.000000</td>\n",
       "      <td>2.000000</td>\n",
       "      <td>37273.000000</td>\n",
       "      <td>16293.000000</td>\n",
       "      <td>1.000000</td>\n",
       "      <td>612.000000</td>\n",
       "      <td>1.000000</td>\n",
       "      <td>729.000000</td>\n",
       "      <td>232.000000</td>\n",
       "    </tr>\n",
       "    <tr>\n",
       "      <th>max</th>\n",
       "      <td>50.000000</td>\n",
       "      <td>7.630000e+08</td>\n",
       "      <td>900.000000</td>\n",
       "      <td>19.000000</td>\n",
       "      <td>100.000000</td>\n",
       "      <td>60.000000</td>\n",
       "      <td>409.700000</td>\n",
       "      <td>33.000000</td>\n",
       "      <td>112.000000</td>\n",
       "      <td>5.000000</td>\n",
       "      <td>84869.000000</td>\n",
       "      <td>65968.000000</td>\n",
       "      <td>3.000000</td>\n",
       "      <td>3190.000000</td>\n",
       "      <td>3.000000</td>\n",
       "      <td>1344.000000</td>\n",
       "      <td>1580.000000</td>\n",
       "    </tr>\n",
       "  </tbody>\n",
       "</table>\n",
       "</div>"
      ],
      "text/plain": [
       "       total_images    last_price    total_area         rooms  ceiling_height  \\\n",
       "count  23699.000000  2.369900e+04  23699.000000  23699.000000    14504.000000   \n",
       "mean       9.858475  6.541549e+06     60.348651      2.070636        2.771499   \n",
       "std        5.682529  1.088701e+07     35.654083      1.078405        1.261056   \n",
       "min        0.000000  1.219000e+04     12.000000      0.000000        1.000000   \n",
       "25%        6.000000  3.400000e+06     40.000000      1.000000        2.520000   \n",
       "50%        9.000000  4.650000e+06     52.000000      2.000000        2.650000   \n",
       "75%       14.000000  6.800000e+06     69.900000      3.000000        2.800000   \n",
       "max       50.000000  7.630000e+08    900.000000     19.000000      100.000000   \n",
       "\n",
       "       floors_total   living_area         floor  kitchen_area       balcony  \\\n",
       "count  23613.000000  21796.000000  23699.000000  21421.000000  12180.000000   \n",
       "mean      10.673824     34.457852      5.892358     10.569807      1.150082   \n",
       "std        6.597173     22.030445      4.885249      5.905438      1.071300   \n",
       "min        1.000000      2.000000      1.000000      1.300000      0.000000   \n",
       "25%        5.000000     18.600000      2.000000      7.000000      0.000000   \n",
       "50%        9.000000     30.000000      4.000000      9.100000      1.000000   \n",
       "75%       16.000000     42.300000      8.000000     12.000000      2.000000   \n",
       "max       60.000000    409.700000     33.000000    112.000000      5.000000   \n",
       "\n",
       "       airports_nearest  cityCenters_nearest  parks_around3000  parks_nearest  \\\n",
       "count      18157.000000         18180.000000      18181.000000    8079.000000   \n",
       "mean       28793.672193         14191.277833          0.611408     490.804555   \n",
       "std        12630.880622          8608.386210          0.802074     342.317995   \n",
       "min            0.000000           181.000000          0.000000       1.000000   \n",
       "25%        18585.000000          9238.000000          0.000000     288.000000   \n",
       "50%        26726.000000         13098.500000          0.000000     455.000000   \n",
       "75%        37273.000000         16293.000000          1.000000     612.000000   \n",
       "max        84869.000000         65968.000000          3.000000    3190.000000   \n",
       "\n",
       "       ponds_around3000  ponds_nearest  days_exposition  \n",
       "count      18181.000000    9110.000000     20518.000000  \n",
       "mean           0.770255     517.980900       180.888634  \n",
       "std            0.938346     277.720643       219.727988  \n",
       "min            0.000000      13.000000         1.000000  \n",
       "25%            0.000000     294.000000        45.000000  \n",
       "50%            1.000000     502.000000        95.000000  \n",
       "75%            1.000000     729.000000       232.000000  \n",
       "max            3.000000    1344.000000      1580.000000  "
      ]
     },
     "execution_count": 6,
     "metadata": {},
     "output_type": "execute_result"
    }
   ],
   "source": [
    "df.describe()"
   ]
  },
  {
   "cell_type": "markdown",
   "metadata": {},
   "source": [
    "### Intermediate conclusion"
   ]
  },
  {
   "cell_type": "markdown",
   "metadata": {},
   "source": [
    "1) first_date_exposition must be converted to datetime type;\n",
    "\n",
    "2) there are a lot of gaps in the columns ceiling_height, living_area, kitchen_area, parks_nearest and ponds_nearest locality_name;\n",
    "\n",
    "3) there are a lot of omissions in the is_apartment column and the object data type, it is logical to find out whether it refers to housing(features) apartment categories and convert to bool;\n",
    "\n",
    "4) there are a lot of gaps in the balcony column, and you also need to convert to the int64 type;\n",
    "\n",
    "5) airport_nearest a lot of passes, they probably mean there is no airport nearby;\n",
    "\n",
    "6) city Center = needs to be renamed, lots of empty values;\n",
    "\n",
    "7) days_exposition should be converted into int64\n"
   ]
  },
  {
   "cell_type": "markdown",
   "metadata": {},
   "source": [
    "## 2. Data preprocessing"
   ]
  },
  {
   "cell_type": "markdown",
   "metadata": {},
   "source": [
    "Let's rename the columns (bring them to the snake register and introduce refinements for the values)"
   ]
  },
  {
   "cell_type": "code",
   "execution_count": 7,
   "metadata": {},
   "outputs": [
    {
     "data": {
      "text/plain": [
       "['total_images',\n",
       " 'last_price',\n",
       " 'total_area',\n",
       " 'first_day_exposition',\n",
       " 'rooms',\n",
       " 'ceiling_height',\n",
       " 'floors_total',\n",
       " 'living_area',\n",
       " 'floor',\n",
       " 'is_apartment',\n",
       " 'studio',\n",
       " 'open_plan',\n",
       " 'kitchen_area',\n",
       " 'balcony',\n",
       " 'locality_name',\n",
       " 'airports_nearest',\n",
       " 'cityCenters_nearest',\n",
       " 'parks_around3000',\n",
       " 'parks_nearest',\n",
       " 'ponds_around3000',\n",
       " 'ponds_nearest',\n",
       " 'days_exposition']"
      ]
     },
     "execution_count": 7,
     "metadata": {},
     "output_type": "execute_result"
    }
   ],
   "source": [
    "df.columns.tolist()"
   ]
  },
  {
   "cell_type": "code",
   "execution_count": 8,
   "metadata": {},
   "outputs": [],
   "source": [
    "# Rename the columns and enter the callouts\n",
    "columns=['total_images',\n",
    "        'last_price',\n",
    "        'total_area_m2',\n",
    "        'first_day_exposition',\n",
    "        'total_rooms',\n",
    "        'ceiling_height_m',\n",
    "        'total_house_floors',\n",
    "        'living_area_m2',\n",
    "        'floor',\n",
    "        'is_apartment',\n",
    "        'is_studio',\n",
    "        'is_open_plan',\n",
    "        'kitchen_area_m2',\n",
    "        'balconies_number',\n",
    "        'locality_name',\n",
    "        'nearest_airports_distance_m',\n",
    "        'city_center_distance_m',\n",
    "        'parks_number_around_3km',\n",
    "        'nearest_park_distance_m',\n",
    "        'ponds_number_around_3km',\n",
    "        'nearest_pond_distance_m',\n",
    "        'days_exposition']\n",
    "df.set_axis(columns, axis='columns', inplace=True)"
   ]
  },
  {
   "cell_type": "code",
   "execution_count": 9,
   "metadata": {},
   "outputs": [
    {
     "data": {
      "text/plain": [
       "['total_images',\n",
       " 'last_price',\n",
       " 'total_area_m2',\n",
       " 'first_day_exposition',\n",
       " 'total_rooms',\n",
       " 'ceiling_height_m',\n",
       " 'total_house_floors',\n",
       " 'living_area_m2',\n",
       " 'floor',\n",
       " 'is_apartment',\n",
       " 'is_studio',\n",
       " 'is_open_plan',\n",
       " 'kitchen_area_m2',\n",
       " 'balconies_number',\n",
       " 'locality_name',\n",
       " 'nearest_airports_distance_m',\n",
       " 'city_center_distance_m',\n",
       " 'parks_number_around_3km',\n",
       " 'nearest_park_distance_m',\n",
       " 'ponds_number_around_3km',\n",
       " 'nearest_pond_distance_m',\n",
       " 'days_exposition']"
      ]
     },
     "execution_count": 9,
     "metadata": {},
     "output_type": "execute_result"
    }
   ],
   "source": [
    "# Let's check the renaming\n",
    "df.columns.tolist()"
   ]
  },
  {
   "cell_type": "code",
   "execution_count": 10,
   "metadata": {},
   "outputs": [
    {
     "data": {
      "text/plain": [
       "is_apartment                   88.29\n",
       "nearest_park_distance_m        65.91\n",
       "nearest_pond_distance_m        61.56\n",
       "balconies_number               48.61\n",
       "ceiling_height_m               38.80\n",
       "nearest_airports_distance_m    23.38\n",
       "city_center_distance_m         23.29\n",
       "ponds_number_around_3km        23.28\n",
       "parks_number_around_3km        23.28\n",
       "days_exposition                13.42\n",
       "kitchen_area_m2                 9.61\n",
       "living_area_m2                  8.03\n",
       "total_house_floors              0.36\n",
       "locality_name                   0.21\n",
       "total_images                    0.00\n",
       "last_price                      0.00\n",
       "is_studio                       0.00\n",
       "floor                           0.00\n",
       "total_rooms                     0.00\n",
       "first_day_exposition            0.00\n",
       "total_area_m2                   0.00\n",
       "is_open_plan                    0.00\n",
       "dtype: float64"
      ]
     },
     "execution_count": 10,
     "metadata": {},
     "output_type": "execute_result"
    }
   ],
   "source": [
    "# Let's check the number of NaN values by columns and output their share\n",
    "round((df.isna().sum().sort_values(ascending=False)/len(df)) * 100, 2)"
   ]
  },
  {
   "cell_type": "code",
   "execution_count": 11,
   "metadata": {},
   "outputs": [
    {
     "data": {
      "text/plain": [
       "total_images                   0.000000\n",
       "last_price                     0.000000\n",
       "total_area_m2                  0.000000\n",
       "first_day_exposition           0.000000\n",
       "total_rooms                    0.000000\n",
       "ceiling_height_m               0.387991\n",
       "total_house_floors             0.003629\n",
       "living_area_m2                 0.080299\n",
       "floor                          0.000000\n",
       "is_apartment                   0.882906\n",
       "is_studio                      0.000000\n",
       "is_open_plan                   0.000000\n",
       "kitchen_area_m2                0.096122\n",
       "balconies_number               0.486054\n",
       "locality_name                  0.002068\n",
       "nearest_airports_distance_m    0.233850\n",
       "city_center_distance_m         0.232879\n",
       "parks_number_around_3km        0.232837\n",
       "nearest_park_distance_m        0.659100\n",
       "ponds_number_around_3km        0.232837\n",
       "nearest_pond_distance_m        0.615596\n",
       "days_exposition                0.134225\n",
       "dtype: float64"
      ]
     },
     "execution_count": 11,
     "metadata": {},
     "output_type": "execute_result"
    }
   ],
   "source": [
    "df.isna().mean()"
   ]
  },
  {
   "cell_type": "markdown",
   "metadata": {},
   "source": [
    "A large proportion of missing values is in:\n",
    "\n",
    "1) is_apartment - probably not in all lines where real estate does not belong to apartments, the False value is stated. It is necessary to change the data type to bool\n",
    "\n",
    "2) balkonies_number - probably not filled False for a property without a balcony\n",
    "\n",
    "3) nearest_airport_distance_m - probably the False lines are not filled in for places where there is no airport nearby"
   ]
  },
  {
   "cell_type": "code",
   "execution_count": 12,
   "metadata": {},
   "outputs": [],
   "source": [
    "# Let's structure the table so that it describes the locality, the type of real estate, the specifics of the area of the premises, their location, the timing of the ad placement, the cost, the number of images, additional characteristics of the proximity of parks and reservoirs\n",
    "df = df[['locality_name',\n",
    "         'city_center_distance_m',\n",
    "         'is_apartment',\n",
    "         'is_studio',\n",
    "         'is_open_plan',\n",
    "         'total_rooms',\n",
    "         'floor',\n",
    "         'total_house_floors',\n",
    "         'total_area_m2',\n",
    "         'living_area_m2',\n",
    "         'kitchen_area_m2',\n",
    "         'balconies_number',\n",
    "         'ceiling_height_m',\n",
    "         'first_day_exposition',\n",
    "         'days_exposition',\n",
    "         'last_price',\n",
    "         'total_images',\n",
    "         'nearest_airports_distance_m',\n",
    "         'parks_number_around_3km',\n",
    "         'nearest_park_distance_m',\n",
    "         'ponds_number_around_3km',\n",
    "         'nearest_pond_distance_m',\n",
    "        ]]"
   ]
  },
  {
   "cell_type": "code",
   "execution_count": 13,
   "metadata": {},
   "outputs": [
    {
     "data": {
      "text/html": [
       "<div>\n",
       "<style scoped>\n",
       "    .dataframe tbody tr th:only-of-type {\n",
       "        vertical-align: middle;\n",
       "    }\n",
       "\n",
       "    .dataframe tbody tr th {\n",
       "        vertical-align: top;\n",
       "    }\n",
       "\n",
       "    .dataframe thead th {\n",
       "        text-align: right;\n",
       "    }\n",
       "</style>\n",
       "<table border=\"1\" class=\"dataframe\">\n",
       "  <thead>\n",
       "    <tr style=\"text-align: right;\">\n",
       "      <th></th>\n",
       "      <th>locality_name</th>\n",
       "      <th>city_center_distance_m</th>\n",
       "      <th>is_apartment</th>\n",
       "      <th>is_studio</th>\n",
       "      <th>is_open_plan</th>\n",
       "      <th>total_rooms</th>\n",
       "      <th>floor</th>\n",
       "      <th>total_house_floors</th>\n",
       "      <th>total_area_m2</th>\n",
       "      <th>living_area_m2</th>\n",
       "      <th>...</th>\n",
       "      <th>ceiling_height_m</th>\n",
       "      <th>first_day_exposition</th>\n",
       "      <th>days_exposition</th>\n",
       "      <th>last_price</th>\n",
       "      <th>total_images</th>\n",
       "      <th>nearest_airports_distance_m</th>\n",
       "      <th>parks_number_around_3km</th>\n",
       "      <th>nearest_park_distance_m</th>\n",
       "      <th>ponds_number_around_3km</th>\n",
       "      <th>nearest_pond_distance_m</th>\n",
       "    </tr>\n",
       "  </thead>\n",
       "  <tbody>\n",
       "    <tr>\n",
       "      <th>0</th>\n",
       "      <td>Санкт-Петербург</td>\n",
       "      <td>16028.0</td>\n",
       "      <td>NaN</td>\n",
       "      <td>False</td>\n",
       "      <td>False</td>\n",
       "      <td>3</td>\n",
       "      <td>8</td>\n",
       "      <td>16.0</td>\n",
       "      <td>108.0</td>\n",
       "      <td>51.0</td>\n",
       "      <td>...</td>\n",
       "      <td>2.70</td>\n",
       "      <td>2019-03-07T00:00:00</td>\n",
       "      <td>NaN</td>\n",
       "      <td>13000000.0</td>\n",
       "      <td>20</td>\n",
       "      <td>18863.0</td>\n",
       "      <td>1.0</td>\n",
       "      <td>482.0</td>\n",
       "      <td>2.0</td>\n",
       "      <td>755.0</td>\n",
       "    </tr>\n",
       "    <tr>\n",
       "      <th>1</th>\n",
       "      <td>посёлок Шушары</td>\n",
       "      <td>18603.0</td>\n",
       "      <td>NaN</td>\n",
       "      <td>False</td>\n",
       "      <td>False</td>\n",
       "      <td>1</td>\n",
       "      <td>1</td>\n",
       "      <td>11.0</td>\n",
       "      <td>40.4</td>\n",
       "      <td>18.6</td>\n",
       "      <td>...</td>\n",
       "      <td>NaN</td>\n",
       "      <td>2018-12-04T00:00:00</td>\n",
       "      <td>81.0</td>\n",
       "      <td>3350000.0</td>\n",
       "      <td>7</td>\n",
       "      <td>12817.0</td>\n",
       "      <td>0.0</td>\n",
       "      <td>NaN</td>\n",
       "      <td>0.0</td>\n",
       "      <td>NaN</td>\n",
       "    </tr>\n",
       "    <tr>\n",
       "      <th>2</th>\n",
       "      <td>Санкт-Петербург</td>\n",
       "      <td>13933.0</td>\n",
       "      <td>NaN</td>\n",
       "      <td>False</td>\n",
       "      <td>False</td>\n",
       "      <td>2</td>\n",
       "      <td>4</td>\n",
       "      <td>5.0</td>\n",
       "      <td>56.0</td>\n",
       "      <td>34.3</td>\n",
       "      <td>...</td>\n",
       "      <td>NaN</td>\n",
       "      <td>2015-08-20T00:00:00</td>\n",
       "      <td>558.0</td>\n",
       "      <td>5196000.0</td>\n",
       "      <td>10</td>\n",
       "      <td>21741.0</td>\n",
       "      <td>1.0</td>\n",
       "      <td>90.0</td>\n",
       "      <td>2.0</td>\n",
       "      <td>574.0</td>\n",
       "    </tr>\n",
       "    <tr>\n",
       "      <th>3</th>\n",
       "      <td>Санкт-Петербург</td>\n",
       "      <td>6800.0</td>\n",
       "      <td>NaN</td>\n",
       "      <td>False</td>\n",
       "      <td>False</td>\n",
       "      <td>3</td>\n",
       "      <td>9</td>\n",
       "      <td>14.0</td>\n",
       "      <td>159.0</td>\n",
       "      <td>NaN</td>\n",
       "      <td>...</td>\n",
       "      <td>NaN</td>\n",
       "      <td>2015-07-24T00:00:00</td>\n",
       "      <td>424.0</td>\n",
       "      <td>64900000.0</td>\n",
       "      <td>0</td>\n",
       "      <td>28098.0</td>\n",
       "      <td>2.0</td>\n",
       "      <td>84.0</td>\n",
       "      <td>3.0</td>\n",
       "      <td>234.0</td>\n",
       "    </tr>\n",
       "    <tr>\n",
       "      <th>4</th>\n",
       "      <td>Санкт-Петербург</td>\n",
       "      <td>8098.0</td>\n",
       "      <td>NaN</td>\n",
       "      <td>False</td>\n",
       "      <td>False</td>\n",
       "      <td>2</td>\n",
       "      <td>13</td>\n",
       "      <td>14.0</td>\n",
       "      <td>100.0</td>\n",
       "      <td>32.0</td>\n",
       "      <td>...</td>\n",
       "      <td>3.03</td>\n",
       "      <td>2018-06-19T00:00:00</td>\n",
       "      <td>121.0</td>\n",
       "      <td>10000000.0</td>\n",
       "      <td>2</td>\n",
       "      <td>31856.0</td>\n",
       "      <td>2.0</td>\n",
       "      <td>112.0</td>\n",
       "      <td>1.0</td>\n",
       "      <td>48.0</td>\n",
       "    </tr>\n",
       "  </tbody>\n",
       "</table>\n",
       "<p>5 rows × 22 columns</p>\n",
       "</div>"
      ],
      "text/plain": [
       "     locality_name  city_center_distance_m is_apartment  is_studio  \\\n",
       "0  Санкт-Петербург                 16028.0          NaN      False   \n",
       "1   посёлок Шушары                 18603.0          NaN      False   \n",
       "2  Санкт-Петербург                 13933.0          NaN      False   \n",
       "3  Санкт-Петербург                  6800.0          NaN      False   \n",
       "4  Санкт-Петербург                  8098.0          NaN      False   \n",
       "\n",
       "   is_open_plan  total_rooms  floor  total_house_floors  total_area_m2  \\\n",
       "0         False            3      8                16.0          108.0   \n",
       "1         False            1      1                11.0           40.4   \n",
       "2         False            2      4                 5.0           56.0   \n",
       "3         False            3      9                14.0          159.0   \n",
       "4         False            2     13                14.0          100.0   \n",
       "\n",
       "   living_area_m2  ...  ceiling_height_m  first_day_exposition  \\\n",
       "0            51.0  ...              2.70   2019-03-07T00:00:00   \n",
       "1            18.6  ...               NaN   2018-12-04T00:00:00   \n",
       "2            34.3  ...               NaN   2015-08-20T00:00:00   \n",
       "3             NaN  ...               NaN   2015-07-24T00:00:00   \n",
       "4            32.0  ...              3.03   2018-06-19T00:00:00   \n",
       "\n",
       "   days_exposition  last_price  total_images  nearest_airports_distance_m  \\\n",
       "0              NaN  13000000.0            20                      18863.0   \n",
       "1             81.0   3350000.0             7                      12817.0   \n",
       "2            558.0   5196000.0            10                      21741.0   \n",
       "3            424.0  64900000.0             0                      28098.0   \n",
       "4            121.0  10000000.0             2                      31856.0   \n",
       "\n",
       "   parks_number_around_3km  nearest_park_distance_m  ponds_number_around_3km  \\\n",
       "0                      1.0                    482.0                      2.0   \n",
       "1                      0.0                      NaN                      0.0   \n",
       "2                      1.0                     90.0                      2.0   \n",
       "3                      2.0                     84.0                      3.0   \n",
       "4                      2.0                    112.0                      1.0   \n",
       "\n",
       "   nearest_pond_distance_m  \n",
       "0                    755.0  \n",
       "1                      NaN  \n",
       "2                    574.0  \n",
       "3                    234.0  \n",
       "4                     48.0  \n",
       "\n",
       "[5 rows x 22 columns]"
      ]
     },
     "execution_count": 13,
     "metadata": {},
     "output_type": "execute_result"
    }
   ],
   "source": [
    "df.head()"
   ]
  },
  {
   "cell_type": "markdown",
   "metadata": {},
   "source": [
    "Let's check each column"
   ]
  },
  {
   "cell_type": "code",
   "execution_count": 14,
   "metadata": {},
   "outputs": [
    {
     "data": {
      "text/plain": [
       "365"
      ]
     },
     "execution_count": 14,
     "metadata": {},
     "output_type": "execute_result"
    }
   ],
   "source": [
    "len(df['locality_name'].unique())"
   ]
  },
  {
   "cell_type": "code",
   "execution_count": 15,
   "metadata": {},
   "outputs": [
    {
     "data": {
      "text/plain": [
       "['Санкт-Петербург',\n",
       " 'посёлок Шушары',\n",
       " 'городской посёлок Янино-1',\n",
       " 'посёлок Парголово',\n",
       " 'посёлок Мурино',\n",
       " 'Ломоносов',\n",
       " 'Сертолово',\n",
       " 'Петергоф',\n",
       " 'Пушкин',\n",
       " 'деревня Кудрово',\n",
       " 'Коммунар',\n",
       " 'Колпино',\n",
       " 'поселок городского типа Красный Бор',\n",
       " 'Гатчина',\n",
       " 'поселок Мурино',\n",
       " 'деревня Фёдоровское',\n",
       " 'Выборг',\n",
       " 'Кронштадт',\n",
       " 'Кировск',\n",
       " 'деревня Новое Девяткино',\n",
       " 'посёлок Металлострой',\n",
       " 'посёлок городского типа Лебяжье',\n",
       " 'посёлок городского типа Сиверский',\n",
       " 'поселок Молодцово',\n",
       " 'поселок городского типа Кузьмоловский',\n",
       " 'садовое товарищество Новая Ропша',\n",
       " 'Павловск',\n",
       " 'деревня Пикколово',\n",
       " 'Всеволожск',\n",
       " 'Волхов',\n",
       " 'Кингисепп',\n",
       " 'Приозерск',\n",
       " 'Сестрорецк',\n",
       " 'деревня Куттузи',\n",
       " 'посёлок Аннино',\n",
       " 'поселок городского типа Ефимовский',\n",
       " 'посёлок Плодовое',\n",
       " 'деревня Заклинье',\n",
       " 'поселок Торковичи',\n",
       " 'поселок Первомайское',\n",
       " 'Красное Село',\n",
       " 'посёлок Понтонный',\n",
       " 'Сясьстрой',\n",
       " 'деревня Старая',\n",
       " 'деревня Лесколово',\n",
       " 'посёлок Новый Свет',\n",
       " 'Сланцы',\n",
       " 'село Путилово',\n",
       " 'Ивангород',\n",
       " 'Мурино',\n",
       " 'Шлиссельбург',\n",
       " 'Никольское',\n",
       " 'Зеленогорск',\n",
       " 'Сосновый Бор',\n",
       " 'поселок Новый Свет',\n",
       " 'деревня Оржицы',\n",
       " 'деревня Кальтино',\n",
       " 'Кудрово',\n",
       " 'поселок Романовка',\n",
       " 'посёлок Бугры',\n",
       " 'поселок Бугры',\n",
       " 'поселок городского типа Рощино',\n",
       " 'Кириши',\n",
       " 'Луга',\n",
       " 'Волосово',\n",
       " 'Отрадное',\n",
       " 'село Павлово',\n",
       " 'поселок Оредеж',\n",
       " 'село Копорье',\n",
       " 'посёлок городского типа Красный Бор',\n",
       " 'посёлок Молодёжное',\n",
       " 'Тихвин',\n",
       " 'посёлок Победа',\n",
       " 'деревня Нурма',\n",
       " 'поселок городского типа Синявино',\n",
       " 'Тосно',\n",
       " 'посёлок городского типа Кузьмоловский',\n",
       " 'посёлок Стрельна',\n",
       " 'Бокситогорск',\n",
       " 'посёлок Александровская',\n",
       " 'деревня Лопухинка',\n",
       " 'Пикалёво',\n",
       " 'поселок Терволово',\n",
       " 'поселок городского типа Советский',\n",
       " 'Подпорожье',\n",
       " 'посёлок Петровское',\n",
       " 'посёлок городского типа Токсово',\n",
       " 'поселок Сельцо',\n",
       " 'посёлок городского типа Вырица',\n",
       " 'деревня Кипень',\n",
       " 'деревня Келози',\n",
       " 'деревня Вартемяги',\n",
       " 'посёлок Тельмана',\n",
       " 'поселок Севастьяново',\n",
       " 'городской поселок Большая Ижора',\n",
       " nan,\n",
       " 'городской посёлок Павлово',\n",
       " 'деревня Агалатово',\n",
       " 'посёлок Новогорелово',\n",
       " 'городской посёлок Лесогорский',\n",
       " 'деревня Лаголово',\n",
       " 'поселок Цвелодубово',\n",
       " 'поселок городского типа Рахья',\n",
       " 'поселок городского типа Вырица',\n",
       " 'деревня Белогорка',\n",
       " 'поселок Заводской',\n",
       " 'городской посёлок Новоселье',\n",
       " 'деревня Большие Колпаны',\n",
       " 'деревня Горбунки',\n",
       " 'деревня Батово',\n",
       " 'деревня Заневка',\n",
       " 'деревня Иссад',\n",
       " 'Приморск',\n",
       " 'городской посёлок Фёдоровское',\n",
       " 'деревня Мистолово',\n",
       " 'Новая Ладога',\n",
       " 'поселок Зимитицы',\n",
       " 'поселок Барышево',\n",
       " 'деревня Разметелево',\n",
       " 'поселок городского типа имени Свердлова',\n",
       " 'деревня Пеники',\n",
       " 'поселок Рябово',\n",
       " 'деревня Пудомяги',\n",
       " 'поселок станции Корнево',\n",
       " 'деревня Низино',\n",
       " 'деревня Бегуницы',\n",
       " 'посёлок Поляны',\n",
       " 'городской посёлок Мга',\n",
       " 'поселок Елизаветино',\n",
       " 'посёлок городского типа Кузнечное',\n",
       " 'деревня Колтуши',\n",
       " 'поселок Запорожское',\n",
       " 'посёлок городского типа Рощино',\n",
       " 'деревня Гостилицы',\n",
       " 'деревня Малое Карлино',\n",
       " 'посёлок Мичуринское',\n",
       " 'посёлок городского типа имени Морозова',\n",
       " 'посёлок Песочный',\n",
       " 'посёлок Сосново',\n",
       " 'деревня Аро',\n",
       " 'поселок Ильичёво',\n",
       " 'посёлок городского типа Тайцы',\n",
       " 'деревня Малое Верево',\n",
       " 'деревня Извара',\n",
       " 'поселок станции Вещево',\n",
       " 'село Паша',\n",
       " 'деревня Калитино',\n",
       " 'посёлок городского типа Ульяновка',\n",
       " 'деревня Чудской Бор',\n",
       " 'поселок городского типа Дубровка',\n",
       " 'деревня Мины',\n",
       " 'поселок Войсковицы',\n",
       " 'посёлок городского типа имени Свердлова',\n",
       " 'деревня Коркино',\n",
       " 'посёлок Ропша',\n",
       " 'поселок городского типа Приладожский',\n",
       " 'посёлок Щеглово',\n",
       " 'посёлок Гаврилово',\n",
       " 'Лодейное Поле',\n",
       " 'деревня Рабитицы',\n",
       " 'поселок городского типа Никольский',\n",
       " 'деревня Кузьмолово',\n",
       " 'деревня Малые Колпаны',\n",
       " 'поселок Тельмана',\n",
       " 'посёлок Петро-Славянка',\n",
       " 'городской посёлок Назия',\n",
       " 'посёлок Репино',\n",
       " 'посёлок Ильичёво',\n",
       " 'поселок Углово',\n",
       " 'поселок Старая Малукса',\n",
       " 'садовое товарищество Рахья',\n",
       " 'поселок Аннино',\n",
       " 'поселок Победа',\n",
       " 'деревня Меньково',\n",
       " 'деревня Старые Бегуницы',\n",
       " 'посёлок Сапёрный',\n",
       " 'поселок Семрино',\n",
       " 'поселок Гаврилово',\n",
       " 'поселок Глажево',\n",
       " 'поселок Кобринское',\n",
       " 'деревня Гарболово',\n",
       " 'деревня Юкки',\n",
       " 'поселок станции Приветнинское',\n",
       " 'деревня Мануйлово',\n",
       " 'деревня Пчева',\n",
       " 'поселок Поляны',\n",
       " 'поселок Цвылёво',\n",
       " 'поселок Мельниково',\n",
       " 'посёлок Пудость',\n",
       " 'посёлок Усть-Луга',\n",
       " 'Светогорск',\n",
       " 'Любань',\n",
       " 'поселок Селезнёво',\n",
       " 'поселок городского типа Рябово',\n",
       " 'Каменногорск',\n",
       " 'деревня Кривко',\n",
       " 'поселок Глебычево',\n",
       " 'деревня Парицы',\n",
       " 'поселок Жилпосёлок',\n",
       " 'посёлок городского типа Мга',\n",
       " 'городской поселок Янино-1',\n",
       " 'посёлок Войскорово',\n",
       " 'село Никольское',\n",
       " 'посёлок Терволово',\n",
       " 'поселок Стеклянный',\n",
       " 'посёлок городского типа Важины',\n",
       " 'посёлок Мыза-Ивановка',\n",
       " 'село Русско-Высоцкое',\n",
       " 'поселок городского типа Лебяжье',\n",
       " 'поселок городского типа Форносово',\n",
       " 'село Старая Ладога',\n",
       " 'поселок Житково',\n",
       " 'городской посёлок Виллози',\n",
       " 'деревня Лампово',\n",
       " 'деревня Шпаньково',\n",
       " 'деревня Лаврики',\n",
       " 'посёлок Сумино',\n",
       " 'посёлок Возрождение',\n",
       " 'деревня Старосиверская',\n",
       " 'посёлок Кикерино',\n",
       " 'поселок Возрождение',\n",
       " 'деревня Старое Хинколово',\n",
       " 'посёлок Пригородный',\n",
       " 'посёлок Торфяное',\n",
       " 'городской посёлок Будогощь',\n",
       " 'поселок Суходолье',\n",
       " 'поселок Красная Долина',\n",
       " 'деревня Хапо-Ое',\n",
       " 'поселок городского типа Дружная Горка',\n",
       " 'поселок Лисий Нос',\n",
       " 'деревня Яльгелево',\n",
       " 'посёлок Стеклянный',\n",
       " 'село Рождествено',\n",
       " 'деревня Старополье',\n",
       " 'посёлок Левашово',\n",
       " 'деревня Сяськелево',\n",
       " 'деревня Камышовка',\n",
       " 'садоводческое некоммерческое товарищество Лесная Поляна',\n",
       " 'деревня Хязельки',\n",
       " 'поселок Жилгородок',\n",
       " 'посёлок городского типа Павлово',\n",
       " 'деревня Ялгино',\n",
       " 'поселок Новый Учхоз',\n",
       " 'городской посёлок Рощино',\n",
       " 'поселок Гончарово',\n",
       " 'поселок Почап',\n",
       " 'посёлок Сапёрное',\n",
       " 'посёлок Платформа 69-й километр',\n",
       " 'поселок Каложицы',\n",
       " 'деревня Фалилеево',\n",
       " 'деревня Пельгора',\n",
       " 'поселок городского типа Лесогорский',\n",
       " 'деревня Торошковичи',\n",
       " 'посёлок Белоостров',\n",
       " 'посёлок Алексеевка',\n",
       " 'поселок Серебрянский',\n",
       " 'поселок Лукаши',\n",
       " 'поселок Петровское',\n",
       " 'деревня Щеглово',\n",
       " 'поселок Мичуринское',\n",
       " 'деревня Тарасово',\n",
       " 'поселок Кингисеппский',\n",
       " 'посёлок при железнодорожной станции Вещево',\n",
       " 'поселок Ушаки',\n",
       " 'деревня Котлы',\n",
       " 'деревня Сижно',\n",
       " 'деревня Торосово',\n",
       " 'посёлок Форт Красная Горка',\n",
       " 'поселок городского типа Токсово',\n",
       " 'деревня Новолисино',\n",
       " 'посёлок станции Громово',\n",
       " 'деревня Глинка',\n",
       " 'посёлок Мельниково',\n",
       " 'поселок городского типа Назия',\n",
       " 'деревня Старая Пустошь',\n",
       " 'поселок Коммунары',\n",
       " 'поселок Починок',\n",
       " 'посёлок городского типа Вознесенье',\n",
       " 'деревня Разбегаево',\n",
       " 'посёлок городского типа Рябово',\n",
       " 'поселок Гладкое',\n",
       " 'посёлок при железнодорожной станции Приветнинское',\n",
       " 'поселок Тёсово-4',\n",
       " 'посёлок Жилгородок',\n",
       " 'деревня Бор',\n",
       " 'посёлок Коробицыно',\n",
       " 'деревня Большая Вруда',\n",
       " 'деревня Курковицы',\n",
       " 'посёлок Лисий Нос',\n",
       " 'городской посёлок Советский',\n",
       " 'посёлок Кобралово',\n",
       " 'деревня Суоранда',\n",
       " 'поселок Кобралово',\n",
       " 'поселок городского типа Кондратьево',\n",
       " 'коттеджный поселок Счастье',\n",
       " 'поселок Любань',\n",
       " 'деревня Реброво',\n",
       " 'деревня Зимитицы',\n",
       " 'деревня Тойворово',\n",
       " 'поселок Семиозерье',\n",
       " 'поселок Лесное',\n",
       " 'поселок Совхозный',\n",
       " 'поселок Усть-Луга',\n",
       " 'посёлок Ленинское',\n",
       " 'посёлок Суйда',\n",
       " 'посёлок городского типа Форносово',\n",
       " 'деревня Нижние Осельки',\n",
       " 'посёлок станции Свирь',\n",
       " 'поселок Перово',\n",
       " 'Высоцк',\n",
       " 'поселок Гарболово',\n",
       " 'село Шум',\n",
       " 'поселок Котельский',\n",
       " 'поселок станции Лужайка',\n",
       " 'деревня Большая Пустомержа',\n",
       " 'поселок Красносельское',\n",
       " 'деревня Вахнова Кара',\n",
       " 'деревня Пижма',\n",
       " 'коттеджный поселок Кивеннапа Север',\n",
       " 'поселок Коробицыно',\n",
       " 'поселок Ромашки',\n",
       " 'посёлок Перово',\n",
       " 'деревня Каськово',\n",
       " 'деревня Куровицы',\n",
       " 'посёлок Плоское',\n",
       " 'поселок Сумино',\n",
       " 'поселок городского типа Большая Ижора',\n",
       " 'поселок Кирпичное',\n",
       " 'деревня Ям-Тесово',\n",
       " 'деревня Раздолье',\n",
       " 'деревня Терпилицы',\n",
       " 'посёлок Шугозеро',\n",
       " 'деревня Ваганово',\n",
       " 'поселок Пушное',\n",
       " 'садовое товарищество Садко',\n",
       " 'посёлок Усть-Ижора',\n",
       " 'деревня Выскатка',\n",
       " 'городской посёлок Свирьстрой',\n",
       " 'поселок Громово',\n",
       " 'деревня Кисельня',\n",
       " 'посёлок Старая Малукса',\n",
       " 'деревня Трубников Бор',\n",
       " 'поселок Калитино',\n",
       " 'посёлок Высокоключевой',\n",
       " 'садовое товарищество Приладожский',\n",
       " 'посёлок Пансионат Зелёный Бор',\n",
       " 'деревня Ненимяки',\n",
       " 'поселок Пансионат Зелёный Бор',\n",
       " 'деревня Снегирёвка',\n",
       " 'деревня Рапполово',\n",
       " 'деревня Пустынка',\n",
       " 'поселок Рабитицы',\n",
       " 'деревня Большой Сабск',\n",
       " 'деревня Русско',\n",
       " 'деревня Лупполово',\n",
       " 'деревня Большое Рейзино',\n",
       " 'деревня Малая Романовка',\n",
       " 'поселок Дружноселье',\n",
       " 'поселок Пчевжа',\n",
       " 'поселок Володарское',\n",
       " 'деревня Нижняя',\n",
       " 'коттеджный посёлок Лесное',\n",
       " 'деревня Тихковицы',\n",
       " 'деревня Борисова Грива',\n",
       " 'посёлок Дзержинского']"
      ]
     },
     "execution_count": 15,
     "metadata": {},
     "output_type": "execute_result"
    }
   ],
   "source": [
    "df['locality_name'].unique().tolist()"
   ]
  },
  {
   "cell_type": "code",
   "execution_count": 16,
   "metadata": {},
   "outputs": [],
   "source": [
    "df['localuty_name'] = df['locality_name'].str.lower()"
   ]
  },
  {
   "cell_type": "code",
   "execution_count": 17,
   "metadata": {},
   "outputs": [
    {
     "data": {
      "text/plain": [
       "365"
      ]
     },
     "execution_count": 17,
     "metadata": {},
     "output_type": "execute_result"
    }
   ],
   "source": [
    "len(df['locality_name'].unique())"
   ]
  },
  {
   "cell_type": "code",
   "execution_count": 18,
   "metadata": {},
   "outputs": [],
   "source": [
    "# In the unique values, repetitions are visible due to the different spelling of the village or settlement (e or Ё), we will bring it to a single format\n",
    "df['locality_name'] = df['locality_name'].str.replace('ё','е', regex=True)"
   ]
  },
  {
   "cell_type": "code",
   "execution_count": 19,
   "metadata": {},
   "outputs": [
    {
     "data": {
      "text/plain": [
       "331"
      ]
     },
     "execution_count": 19,
     "metadata": {},
     "output_type": "execute_result"
    }
   ],
   "source": [
    "len(df['locality_name'].unique())"
   ]
  },
  {
   "cell_type": "code",
   "execution_count": 20,
   "metadata": {},
   "outputs": [
    {
     "data": {
      "text/plain": [
       "49"
      ]
     },
     "execution_count": 20,
     "metadata": {},
     "output_type": "execute_result"
    }
   ],
   "source": [
    "df['locality_name'].isna().sum()"
   ]
  },
  {
   "cell_type": "code",
   "execution_count": 21,
   "metadata": {},
   "outputs": [],
   "source": [
    "# 49 lines are not filled in the locality_name column, since their percentage is insignificant, and it is not possible to reliably determine which locality is indicated, then it is proposed to delete these lines\n",
    "df = df.dropna(subset=['locality_name'])"
   ]
  },
  {
   "cell_type": "code",
   "execution_count": 22,
   "metadata": {},
   "outputs": [
    {
     "data": {
      "text/plain": [
       "0"
      ]
     },
     "execution_count": 22,
     "metadata": {},
     "output_type": "execute_result"
    }
   ],
   "source": [
    "# Let's check the deletion of lines where the locality is not specified\n",
    "\n",
    "df['locality_name'].isna().sum()"
   ]
  },
  {
   "cell_type": "code",
   "execution_count": 23,
   "metadata": {},
   "outputs": [
    {
     "data": {
      "text/plain": [
       "0            санкт-петербург\n",
       "1             поселок шушары\n",
       "2            санкт-петербург\n",
       "3            санкт-петербург\n",
       "4            санкт-петербург\n",
       "                ...         \n",
       "23694        санкт-петербург\n",
       "23695                  тосно\n",
       "23696       село рождествено\n",
       "23697        санкт-петербург\n",
       "23698    поселок новый учхоз\n",
       "Name: locality_name, Length: 23650, dtype: object"
      ]
     },
     "execution_count": 23,
     "metadata": {},
     "output_type": "execute_result"
    }
   ],
   "source": [
    "df['locality_name'].str.lower()"
   ]
  },
  {
   "cell_type": "code",
   "execution_count": 24,
   "metadata": {},
   "outputs": [
    {
     "name": "stdout",
     "output_type": "stream",
     "text": [
      "<class 'pandas.core.frame.DataFrame'>\n",
      "Int64Index: 23650 entries, 0 to 23698\n",
      "Data columns (total 23 columns):\n",
      " #   Column                       Non-Null Count  Dtype  \n",
      "---  ------                       --------------  -----  \n",
      " 0   locality_name                23650 non-null  object \n",
      " 1   city_center_distance_m       18139 non-null  float64\n",
      " 2   is_apartment                 2760 non-null   object \n",
      " 3   is_studio                    23650 non-null  bool   \n",
      " 4   is_open_plan                 23650 non-null  bool   \n",
      " 5   total_rooms                  23650 non-null  int64  \n",
      " 6   floor                        23650 non-null  int64  \n",
      " 7   total_house_floors           23565 non-null  float64\n",
      " 8   total_area_m2                23650 non-null  float64\n",
      " 9   living_area_m2               21752 non-null  float64\n",
      " 10  kitchen_area_m2              21381 non-null  float64\n",
      " 11  balconies_number             12137 non-null  float64\n",
      " 12  ceiling_height_m             14490 non-null  float64\n",
      " 13  first_day_exposition         23650 non-null  object \n",
      " 14  days_exposition              20470 non-null  float64\n",
      " 15  last_price                   23650 non-null  float64\n",
      " 16  total_images                 23650 non-null  int64  \n",
      " 17  nearest_airports_distance_m  18116 non-null  float64\n",
      " 18  parks_number_around_3km      18140 non-null  float64\n",
      " 19  nearest_park_distance_m      8064 non-null   float64\n",
      " 20  ponds_number_around_3km      18140 non-null  float64\n",
      " 21  nearest_pond_distance_m      9085 non-null   float64\n",
      " 22  localuty_name                23650 non-null  object \n",
      "dtypes: bool(2), float64(14), int64(3), object(4)\n",
      "memory usage: 4.0+ MB\n"
     ]
    }
   ],
   "source": [
    "df.info()"
   ]
  },
  {
   "cell_type": "markdown",
   "metadata": {},
   "source": [
    "Let's eliminate the missing values in is_apartment, is_studio, is_open_plan columns"
   ]
  },
  {
   "cell_type": "code",
   "execution_count": 25,
   "metadata": {},
   "outputs": [
    {
     "data": {
      "text/plain": [
       "array([nan, False, True], dtype=object)"
      ]
     },
     "execution_count": 25,
     "metadata": {},
     "output_type": "execute_result"
    }
   ],
   "source": [
    "df['is_apartment'].unique()"
   ]
  },
  {
   "cell_type": "markdown",
   "metadata": {},
   "source": [
    "Based on the logic of filling in the is_apartment column, it can be assumed that the property in the lines of which NaN is specified is not an apartment and, therefore, it is possible to fill these lines with False"
   ]
  },
  {
   "cell_type": "code",
   "execution_count": 26,
   "metadata": {},
   "outputs": [],
   "source": [
    "df['is_apartment'] = df['is_apartment'].fillna(False)"
   ]
  },
  {
   "cell_type": "code",
   "execution_count": 27,
   "metadata": {},
   "outputs": [
    {
     "data": {
      "text/plain": [
       "dtype('bool')"
      ]
     },
     "execution_count": 27,
     "metadata": {},
     "output_type": "execute_result"
    }
   ],
   "source": [
    "df['is_apartment'].dtype"
   ]
  },
  {
   "cell_type": "code",
   "execution_count": 28,
   "metadata": {},
   "outputs": [
    {
     "data": {
      "text/plain": [
       "array([False,  True])"
      ]
     },
     "execution_count": 28,
     "metadata": {},
     "output_type": "execute_result"
    }
   ],
   "source": [
    "df['is_studio'].unique()"
   ]
  },
  {
   "cell_type": "code",
   "execution_count": 29,
   "metadata": {},
   "outputs": [
    {
     "data": {
      "text/plain": [
       "array([False,  True])"
      ]
     },
     "execution_count": 29,
     "metadata": {},
     "output_type": "execute_result"
    }
   ],
   "source": [
    "df['is_open_plan'].unique()"
   ]
  },
  {
   "cell_type": "code",
   "execution_count": 30,
   "metadata": {},
   "outputs": [
    {
     "name": "stdout",
     "output_type": "stream",
     "text": [
      "<class 'pandas.core.frame.DataFrame'>\n",
      "Int64Index: 23650 entries, 0 to 23698\n",
      "Data columns (total 23 columns):\n",
      " #   Column                       Non-Null Count  Dtype  \n",
      "---  ------                       --------------  -----  \n",
      " 0   locality_name                23650 non-null  object \n",
      " 1   city_center_distance_m       18139 non-null  float64\n",
      " 2   is_apartment                 23650 non-null  bool   \n",
      " 3   is_studio                    23650 non-null  bool   \n",
      " 4   is_open_plan                 23650 non-null  bool   \n",
      " 5   total_rooms                  23650 non-null  int64  \n",
      " 6   floor                        23650 non-null  int64  \n",
      " 7   total_house_floors           23565 non-null  float64\n",
      " 8   total_area_m2                23650 non-null  float64\n",
      " 9   living_area_m2               21752 non-null  float64\n",
      " 10  kitchen_area_m2              21381 non-null  float64\n",
      " 11  balconies_number             12137 non-null  float64\n",
      " 12  ceiling_height_m             14490 non-null  float64\n",
      " 13  first_day_exposition         23650 non-null  object \n",
      " 14  days_exposition              20470 non-null  float64\n",
      " 15  last_price                   23650 non-null  float64\n",
      " 16  total_images                 23650 non-null  int64  \n",
      " 17  nearest_airports_distance_m  18116 non-null  float64\n",
      " 18  parks_number_around_3km      18140 non-null  float64\n",
      " 19  nearest_park_distance_m      8064 non-null   float64\n",
      " 20  ponds_number_around_3km      18140 non-null  float64\n",
      " 21  nearest_pond_distance_m      9085 non-null   float64\n",
      " 22  localuty_name                23650 non-null  object \n",
      "dtypes: bool(3), float64(14), int64(3), object(3)\n",
      "memory usage: 3.9+ MB\n"
     ]
    }
   ],
   "source": [
    "df.info()"
   ]
  },
  {
   "cell_type": "markdown",
   "metadata": {},
   "source": [
    "Let's continue preprocessing the columns and start with the balkonies_number"
   ]
  },
  {
   "cell_type": "code",
   "execution_count": 31,
   "metadata": {},
   "outputs": [
    {
     "data": {
      "text/plain": [
       "array([nan,  2.,  0.,  1.,  5.,  4.,  3.])"
      ]
     },
     "execution_count": 31,
     "metadata": {},
     "output_type": "execute_result"
    }
   ],
   "source": [
    "df['balconies_number'].unique()"
   ]
  },
  {
   "cell_type": "code",
   "execution_count": 32,
   "metadata": {},
   "outputs": [
    {
     "data": {
      "text/plain": [
       "11513"
      ]
     },
     "execution_count": 32,
     "metadata": {},
     "output_type": "execute_result"
    }
   ],
   "source": [
    "# NaN is 48% of the total number of values in this column. Presumably, these are apartments without balconies, so we will fill them with 0\n",
    "df['balconies_number'].isna().sum()"
   ]
  },
  {
   "cell_type": "code",
   "execution_count": 33,
   "metadata": {},
   "outputs": [],
   "source": [
    "df['balconies_number'] = df['balconies_number'].fillna(0.0)"
   ]
  },
  {
   "cell_type": "code",
   "execution_count": 34,
   "metadata": {},
   "outputs": [],
   "source": [
    "df['balconies_number'] = df['balconies_number'].astype('int64')"
   ]
  },
  {
   "cell_type": "code",
   "execution_count": 35,
   "metadata": {},
   "outputs": [
    {
     "name": "stdout",
     "output_type": "stream",
     "text": [
      "<class 'pandas.core.frame.DataFrame'>\n",
      "Int64Index: 23650 entries, 0 to 23698\n",
      "Data columns (total 23 columns):\n",
      " #   Column                       Non-Null Count  Dtype  \n",
      "---  ------                       --------------  -----  \n",
      " 0   locality_name                23650 non-null  object \n",
      " 1   city_center_distance_m       18139 non-null  float64\n",
      " 2   is_apartment                 23650 non-null  bool   \n",
      " 3   is_studio                    23650 non-null  bool   \n",
      " 4   is_open_plan                 23650 non-null  bool   \n",
      " 5   total_rooms                  23650 non-null  int64  \n",
      " 6   floor                        23650 non-null  int64  \n",
      " 7   total_house_floors           23565 non-null  float64\n",
      " 8   total_area_m2                23650 non-null  float64\n",
      " 9   living_area_m2               21752 non-null  float64\n",
      " 10  kitchen_area_m2              21381 non-null  float64\n",
      " 11  balconies_number             23650 non-null  int64  \n",
      " 12  ceiling_height_m             14490 non-null  float64\n",
      " 13  first_day_exposition         23650 non-null  object \n",
      " 14  days_exposition              20470 non-null  float64\n",
      " 15  last_price                   23650 non-null  float64\n",
      " 16  total_images                 23650 non-null  int64  \n",
      " 17  nearest_airports_distance_m  18116 non-null  float64\n",
      " 18  parks_number_around_3km      18140 non-null  float64\n",
      " 19  nearest_park_distance_m      8064 non-null   float64\n",
      " 20  ponds_number_around_3km      18140 non-null  float64\n",
      " 21  nearest_pond_distance_m      9085 non-null   float64\n",
      " 22  localuty_name                23650 non-null  object \n",
      "dtypes: bool(3), float64(13), int64(4), object(3)\n",
      "memory usage: 3.9+ MB\n"
     ]
    }
   ],
   "source": [
    "df.info()"
   ]
  },
  {
   "cell_type": "code",
   "execution_count": 36,
   "metadata": {},
   "outputs": [
    {
     "data": {
      "text/plain": [
       "0    15238\n",
       "1     4187\n",
       "2     3658\n",
       "5      304\n",
       "4      182\n",
       "3       81\n",
       "Name: balconies_number, dtype: int64"
      ]
     },
     "execution_count": 36,
     "metadata": {},
     "output_type": "execute_result"
    }
   ],
   "source": [
    "df['balconies_number'].value_counts()"
   ]
  },
  {
   "cell_type": "code",
   "execution_count": 37,
   "metadata": {},
   "outputs": [
    {
     "data": {
      "text/plain": [
       "0"
      ]
     },
     "execution_count": 37,
     "metadata": {},
     "output_type": "execute_result"
    }
   ],
   "source": [
    "df['balconies_number'].isna().sum()"
   ]
  },
  {
   "cell_type": "markdown",
   "metadata": {},
   "source": [
    "**Intermediate conclusion**\n",
    "\n",
    "-Identified duplicate data has been eliminated in the dataframe.\n",
    "\n",
    "-The main parameters for which there are no missing values (and apparently the unloading was formed first of all): last_price, total_area, first_day_exposition.\n",
    "\n",
    "--The data types in the columns do not always correspond to the logic of the columns and required conversion to other data types.\n",
    "\n",
    "-There are omissions, presumably related to the unwillingness of users to fill in the specified fields.\n",
    "\n",
    "-Technical errors of automatic filling should be noted."
   ]
  },
  {
   "cell_type": "markdown",
   "metadata": {},
   "source": [
    "## 3. Calculations and adding results to the table"
   ]
  },
  {
   "cell_type": "markdown",
   "metadata": {},
   "source": [
    "Convert first_day_exposition to datetime type"
   ]
  },
  {
   "cell_type": "code",
   "execution_count": 38,
   "metadata": {
    "scrolled": true
   },
   "outputs": [
    {
     "data": {
      "text/plain": [
       "0    2019-03-07T00:00:00\n",
       "1    2018-12-04T00:00:00\n",
       "2    2015-08-20T00:00:00\n",
       "3    2015-07-24T00:00:00\n",
       "4    2018-06-19T00:00:00\n",
       "Name: first_day_exposition, dtype: object"
      ]
     },
     "execution_count": 38,
     "metadata": {},
     "output_type": "execute_result"
    }
   ],
   "source": [
    "df['first_day_exposition'].head()"
   ]
  },
  {
   "cell_type": "code",
   "execution_count": 39,
   "metadata": {},
   "outputs": [],
   "source": [
    "df['first_day_exposition'] = pd.to_datetime(df['first_day_exposition'], format='%Y-%m-%dT')"
   ]
  },
  {
   "cell_type": "code",
   "execution_count": 40,
   "metadata": {
    "scrolled": false
   },
   "outputs": [
    {
     "data": {
      "text/html": [
       "<div>\n",
       "<style scoped>\n",
       "    .dataframe tbody tr th:only-of-type {\n",
       "        vertical-align: middle;\n",
       "    }\n",
       "\n",
       "    .dataframe tbody tr th {\n",
       "        vertical-align: top;\n",
       "    }\n",
       "\n",
       "    .dataframe thead th {\n",
       "        text-align: right;\n",
       "    }\n",
       "</style>\n",
       "<table border=\"1\" class=\"dataframe\">\n",
       "  <thead>\n",
       "    <tr style=\"text-align: right;\">\n",
       "      <th></th>\n",
       "      <th>locality_name</th>\n",
       "      <th>city_center_distance_m</th>\n",
       "      <th>is_apartment</th>\n",
       "      <th>is_studio</th>\n",
       "      <th>is_open_plan</th>\n",
       "      <th>total_rooms</th>\n",
       "      <th>floor</th>\n",
       "      <th>total_house_floors</th>\n",
       "      <th>total_area_m2</th>\n",
       "      <th>living_area_m2</th>\n",
       "      <th>...</th>\n",
       "      <th>first_day_exposition</th>\n",
       "      <th>days_exposition</th>\n",
       "      <th>last_price</th>\n",
       "      <th>total_images</th>\n",
       "      <th>nearest_airports_distance_m</th>\n",
       "      <th>parks_number_around_3km</th>\n",
       "      <th>nearest_park_distance_m</th>\n",
       "      <th>ponds_number_around_3km</th>\n",
       "      <th>nearest_pond_distance_m</th>\n",
       "      <th>localuty_name</th>\n",
       "    </tr>\n",
       "  </thead>\n",
       "  <tbody>\n",
       "    <tr>\n",
       "      <th>0</th>\n",
       "      <td>Санкт-Петербург</td>\n",
       "      <td>16028.0</td>\n",
       "      <td>False</td>\n",
       "      <td>False</td>\n",
       "      <td>False</td>\n",
       "      <td>3</td>\n",
       "      <td>8</td>\n",
       "      <td>16.0</td>\n",
       "      <td>108.0</td>\n",
       "      <td>51.0</td>\n",
       "      <td>...</td>\n",
       "      <td>2019-03-07</td>\n",
       "      <td>NaN</td>\n",
       "      <td>13000000.0</td>\n",
       "      <td>20</td>\n",
       "      <td>18863.0</td>\n",
       "      <td>1.0</td>\n",
       "      <td>482.0</td>\n",
       "      <td>2.0</td>\n",
       "      <td>755.0</td>\n",
       "      <td>санкт-петербург</td>\n",
       "    </tr>\n",
       "    <tr>\n",
       "      <th>1</th>\n",
       "      <td>поселок Шушары</td>\n",
       "      <td>18603.0</td>\n",
       "      <td>False</td>\n",
       "      <td>False</td>\n",
       "      <td>False</td>\n",
       "      <td>1</td>\n",
       "      <td>1</td>\n",
       "      <td>11.0</td>\n",
       "      <td>40.4</td>\n",
       "      <td>18.6</td>\n",
       "      <td>...</td>\n",
       "      <td>2018-12-04</td>\n",
       "      <td>81.0</td>\n",
       "      <td>3350000.0</td>\n",
       "      <td>7</td>\n",
       "      <td>12817.0</td>\n",
       "      <td>0.0</td>\n",
       "      <td>NaN</td>\n",
       "      <td>0.0</td>\n",
       "      <td>NaN</td>\n",
       "      <td>посёлок шушары</td>\n",
       "    </tr>\n",
       "    <tr>\n",
       "      <th>2</th>\n",
       "      <td>Санкт-Петербург</td>\n",
       "      <td>13933.0</td>\n",
       "      <td>False</td>\n",
       "      <td>False</td>\n",
       "      <td>False</td>\n",
       "      <td>2</td>\n",
       "      <td>4</td>\n",
       "      <td>5.0</td>\n",
       "      <td>56.0</td>\n",
       "      <td>34.3</td>\n",
       "      <td>...</td>\n",
       "      <td>2015-08-20</td>\n",
       "      <td>558.0</td>\n",
       "      <td>5196000.0</td>\n",
       "      <td>10</td>\n",
       "      <td>21741.0</td>\n",
       "      <td>1.0</td>\n",
       "      <td>90.0</td>\n",
       "      <td>2.0</td>\n",
       "      <td>574.0</td>\n",
       "      <td>санкт-петербург</td>\n",
       "    </tr>\n",
       "    <tr>\n",
       "      <th>3</th>\n",
       "      <td>Санкт-Петербург</td>\n",
       "      <td>6800.0</td>\n",
       "      <td>False</td>\n",
       "      <td>False</td>\n",
       "      <td>False</td>\n",
       "      <td>3</td>\n",
       "      <td>9</td>\n",
       "      <td>14.0</td>\n",
       "      <td>159.0</td>\n",
       "      <td>NaN</td>\n",
       "      <td>...</td>\n",
       "      <td>2015-07-24</td>\n",
       "      <td>424.0</td>\n",
       "      <td>64900000.0</td>\n",
       "      <td>0</td>\n",
       "      <td>28098.0</td>\n",
       "      <td>2.0</td>\n",
       "      <td>84.0</td>\n",
       "      <td>3.0</td>\n",
       "      <td>234.0</td>\n",
       "      <td>санкт-петербург</td>\n",
       "    </tr>\n",
       "    <tr>\n",
       "      <th>4</th>\n",
       "      <td>Санкт-Петербург</td>\n",
       "      <td>8098.0</td>\n",
       "      <td>False</td>\n",
       "      <td>False</td>\n",
       "      <td>False</td>\n",
       "      <td>2</td>\n",
       "      <td>13</td>\n",
       "      <td>14.0</td>\n",
       "      <td>100.0</td>\n",
       "      <td>32.0</td>\n",
       "      <td>...</td>\n",
       "      <td>2018-06-19</td>\n",
       "      <td>121.0</td>\n",
       "      <td>10000000.0</td>\n",
       "      <td>2</td>\n",
       "      <td>31856.0</td>\n",
       "      <td>2.0</td>\n",
       "      <td>112.0</td>\n",
       "      <td>1.0</td>\n",
       "      <td>48.0</td>\n",
       "      <td>санкт-петербург</td>\n",
       "    </tr>\n",
       "  </tbody>\n",
       "</table>\n",
       "<p>5 rows × 23 columns</p>\n",
       "</div>"
      ],
      "text/plain": [
       "     locality_name  city_center_distance_m  is_apartment  is_studio  \\\n",
       "0  Санкт-Петербург                 16028.0         False      False   \n",
       "1   поселок Шушары                 18603.0         False      False   \n",
       "2  Санкт-Петербург                 13933.0         False      False   \n",
       "3  Санкт-Петербург                  6800.0         False      False   \n",
       "4  Санкт-Петербург                  8098.0         False      False   \n",
       "\n",
       "   is_open_plan  total_rooms  floor  total_house_floors  total_area_m2  \\\n",
       "0         False            3      8                16.0          108.0   \n",
       "1         False            1      1                11.0           40.4   \n",
       "2         False            2      4                 5.0           56.0   \n",
       "3         False            3      9                14.0          159.0   \n",
       "4         False            2     13                14.0          100.0   \n",
       "\n",
       "   living_area_m2  ...  first_day_exposition  days_exposition  last_price  \\\n",
       "0            51.0  ...            2019-03-07              NaN  13000000.0   \n",
       "1            18.6  ...            2018-12-04             81.0   3350000.0   \n",
       "2            34.3  ...            2015-08-20            558.0   5196000.0   \n",
       "3             NaN  ...            2015-07-24            424.0  64900000.0   \n",
       "4            32.0  ...            2018-06-19            121.0  10000000.0   \n",
       "\n",
       "  total_images  nearest_airports_distance_m  parks_number_around_3km  \\\n",
       "0           20                      18863.0                      1.0   \n",
       "1            7                      12817.0                      0.0   \n",
       "2           10                      21741.0                      1.0   \n",
       "3            0                      28098.0                      2.0   \n",
       "4            2                      31856.0                      2.0   \n",
       "\n",
       "   nearest_park_distance_m  ponds_number_around_3km  nearest_pond_distance_m  \\\n",
       "0                    482.0                      2.0                    755.0   \n",
       "1                      NaN                      0.0                      NaN   \n",
       "2                     90.0                      2.0                    574.0   \n",
       "3                     84.0                      3.0                    234.0   \n",
       "4                    112.0                      1.0                     48.0   \n",
       "\n",
       "     localuty_name  \n",
       "0  санкт-петербург  \n",
       "1   посёлок шушары  \n",
       "2  санкт-петербург  \n",
       "3  санкт-петербург  \n",
       "4  санкт-петербург  \n",
       "\n",
       "[5 rows x 23 columns]"
      ]
     },
     "execution_count": 40,
     "metadata": {},
     "output_type": "execute_result"
    }
   ],
   "source": [
    "df.head()"
   ]
  },
  {
   "cell_type": "code",
   "execution_count": 41,
   "metadata": {},
   "outputs": [],
   "source": [
    "# In the analysis, it may be interesting to take into account the year, month and day separately. Let's output them to separate columns\n",
    "df['weekday_exposition'] = df['first_day_exposition'].dt.day_name()\n",
    "df['month_exposition'] = df['first_day_exposition'].dt.month_name()\n",
    "df['year_exposition'] = df['first_day_exposition'].dt.year"
   ]
  },
  {
   "cell_type": "code",
   "execution_count": 42,
   "metadata": {},
   "outputs": [
    {
     "data": {
      "text/html": [
       "<div>\n",
       "<style scoped>\n",
       "    .dataframe tbody tr th:only-of-type {\n",
       "        vertical-align: middle;\n",
       "    }\n",
       "\n",
       "    .dataframe tbody tr th {\n",
       "        vertical-align: top;\n",
       "    }\n",
       "\n",
       "    .dataframe thead th {\n",
       "        text-align: right;\n",
       "    }\n",
       "</style>\n",
       "<table border=\"1\" class=\"dataframe\">\n",
       "  <thead>\n",
       "    <tr style=\"text-align: right;\">\n",
       "      <th></th>\n",
       "      <th>locality_name</th>\n",
       "      <th>city_center_distance_m</th>\n",
       "      <th>is_apartment</th>\n",
       "      <th>is_studio</th>\n",
       "      <th>is_open_plan</th>\n",
       "      <th>total_rooms</th>\n",
       "      <th>floor</th>\n",
       "      <th>total_house_floors</th>\n",
       "      <th>total_area_m2</th>\n",
       "      <th>living_area_m2</th>\n",
       "      <th>...</th>\n",
       "      <th>total_images</th>\n",
       "      <th>nearest_airports_distance_m</th>\n",
       "      <th>parks_number_around_3km</th>\n",
       "      <th>nearest_park_distance_m</th>\n",
       "      <th>ponds_number_around_3km</th>\n",
       "      <th>nearest_pond_distance_m</th>\n",
       "      <th>localuty_name</th>\n",
       "      <th>weekday_exposition</th>\n",
       "      <th>month_exposition</th>\n",
       "      <th>year_exposition</th>\n",
       "    </tr>\n",
       "  </thead>\n",
       "  <tbody>\n",
       "    <tr>\n",
       "      <th>0</th>\n",
       "      <td>Санкт-Петербург</td>\n",
       "      <td>16028.0</td>\n",
       "      <td>False</td>\n",
       "      <td>False</td>\n",
       "      <td>False</td>\n",
       "      <td>3</td>\n",
       "      <td>8</td>\n",
       "      <td>16.0</td>\n",
       "      <td>108.0</td>\n",
       "      <td>51.0</td>\n",
       "      <td>...</td>\n",
       "      <td>20</td>\n",
       "      <td>18863.0</td>\n",
       "      <td>1.0</td>\n",
       "      <td>482.0</td>\n",
       "      <td>2.0</td>\n",
       "      <td>755.0</td>\n",
       "      <td>санкт-петербург</td>\n",
       "      <td>Thursday</td>\n",
       "      <td>March</td>\n",
       "      <td>2019</td>\n",
       "    </tr>\n",
       "    <tr>\n",
       "      <th>1</th>\n",
       "      <td>поселок Шушары</td>\n",
       "      <td>18603.0</td>\n",
       "      <td>False</td>\n",
       "      <td>False</td>\n",
       "      <td>False</td>\n",
       "      <td>1</td>\n",
       "      <td>1</td>\n",
       "      <td>11.0</td>\n",
       "      <td>40.4</td>\n",
       "      <td>18.6</td>\n",
       "      <td>...</td>\n",
       "      <td>7</td>\n",
       "      <td>12817.0</td>\n",
       "      <td>0.0</td>\n",
       "      <td>NaN</td>\n",
       "      <td>0.0</td>\n",
       "      <td>NaN</td>\n",
       "      <td>посёлок шушары</td>\n",
       "      <td>Tuesday</td>\n",
       "      <td>December</td>\n",
       "      <td>2018</td>\n",
       "    </tr>\n",
       "    <tr>\n",
       "      <th>2</th>\n",
       "      <td>Санкт-Петербург</td>\n",
       "      <td>13933.0</td>\n",
       "      <td>False</td>\n",
       "      <td>False</td>\n",
       "      <td>False</td>\n",
       "      <td>2</td>\n",
       "      <td>4</td>\n",
       "      <td>5.0</td>\n",
       "      <td>56.0</td>\n",
       "      <td>34.3</td>\n",
       "      <td>...</td>\n",
       "      <td>10</td>\n",
       "      <td>21741.0</td>\n",
       "      <td>1.0</td>\n",
       "      <td>90.0</td>\n",
       "      <td>2.0</td>\n",
       "      <td>574.0</td>\n",
       "      <td>санкт-петербург</td>\n",
       "      <td>Thursday</td>\n",
       "      <td>August</td>\n",
       "      <td>2015</td>\n",
       "    </tr>\n",
       "    <tr>\n",
       "      <th>3</th>\n",
       "      <td>Санкт-Петербург</td>\n",
       "      <td>6800.0</td>\n",
       "      <td>False</td>\n",
       "      <td>False</td>\n",
       "      <td>False</td>\n",
       "      <td>3</td>\n",
       "      <td>9</td>\n",
       "      <td>14.0</td>\n",
       "      <td>159.0</td>\n",
       "      <td>NaN</td>\n",
       "      <td>...</td>\n",
       "      <td>0</td>\n",
       "      <td>28098.0</td>\n",
       "      <td>2.0</td>\n",
       "      <td>84.0</td>\n",
       "      <td>3.0</td>\n",
       "      <td>234.0</td>\n",
       "      <td>санкт-петербург</td>\n",
       "      <td>Friday</td>\n",
       "      <td>July</td>\n",
       "      <td>2015</td>\n",
       "    </tr>\n",
       "    <tr>\n",
       "      <th>4</th>\n",
       "      <td>Санкт-Петербург</td>\n",
       "      <td>8098.0</td>\n",
       "      <td>False</td>\n",
       "      <td>False</td>\n",
       "      <td>False</td>\n",
       "      <td>2</td>\n",
       "      <td>13</td>\n",
       "      <td>14.0</td>\n",
       "      <td>100.0</td>\n",
       "      <td>32.0</td>\n",
       "      <td>...</td>\n",
       "      <td>2</td>\n",
       "      <td>31856.0</td>\n",
       "      <td>2.0</td>\n",
       "      <td>112.0</td>\n",
       "      <td>1.0</td>\n",
       "      <td>48.0</td>\n",
       "      <td>санкт-петербург</td>\n",
       "      <td>Tuesday</td>\n",
       "      <td>June</td>\n",
       "      <td>2018</td>\n",
       "    </tr>\n",
       "  </tbody>\n",
       "</table>\n",
       "<p>5 rows × 26 columns</p>\n",
       "</div>"
      ],
      "text/plain": [
       "     locality_name  city_center_distance_m  is_apartment  is_studio  \\\n",
       "0  Санкт-Петербург                 16028.0         False      False   \n",
       "1   поселок Шушары                 18603.0         False      False   \n",
       "2  Санкт-Петербург                 13933.0         False      False   \n",
       "3  Санкт-Петербург                  6800.0         False      False   \n",
       "4  Санкт-Петербург                  8098.0         False      False   \n",
       "\n",
       "   is_open_plan  total_rooms  floor  total_house_floors  total_area_m2  \\\n",
       "0         False            3      8                16.0          108.0   \n",
       "1         False            1      1                11.0           40.4   \n",
       "2         False            2      4                 5.0           56.0   \n",
       "3         False            3      9                14.0          159.0   \n",
       "4         False            2     13                14.0          100.0   \n",
       "\n",
       "   living_area_m2  ...  total_images  nearest_airports_distance_m  \\\n",
       "0            51.0  ...            20                      18863.0   \n",
       "1            18.6  ...             7                      12817.0   \n",
       "2            34.3  ...            10                      21741.0   \n",
       "3             NaN  ...             0                      28098.0   \n",
       "4            32.0  ...             2                      31856.0   \n",
       "\n",
       "   parks_number_around_3km nearest_park_distance_m  ponds_number_around_3km  \\\n",
       "0                      1.0                   482.0                      2.0   \n",
       "1                      0.0                     NaN                      0.0   \n",
       "2                      1.0                    90.0                      2.0   \n",
       "3                      2.0                    84.0                      3.0   \n",
       "4                      2.0                   112.0                      1.0   \n",
       "\n",
       "   nearest_pond_distance_m    localuty_name  weekday_exposition  \\\n",
       "0                    755.0  санкт-петербург            Thursday   \n",
       "1                      NaN   посёлок шушары             Tuesday   \n",
       "2                    574.0  санкт-петербург            Thursday   \n",
       "3                    234.0  санкт-петербург              Friday   \n",
       "4                     48.0  санкт-петербург             Tuesday   \n",
       "\n",
       "   month_exposition  year_exposition  \n",
       "0             March             2019  \n",
       "1          December             2018  \n",
       "2            August             2015  \n",
       "3              July             2015  \n",
       "4              June             2018  \n",
       "\n",
       "[5 rows x 26 columns]"
      ]
     },
     "execution_count": 42,
     "metadata": {},
     "output_type": "execute_result"
    }
   ],
   "source": [
    "df.head()"
   ]
  },
  {
   "cell_type": "code",
   "execution_count": 43,
   "metadata": {},
   "outputs": [],
   "source": [
    "# Let's converte the values in the columns into km\n",
    "df['city_center_distance_km'] = df['city_center_distance_m'] / 1000\n",
    "df['nearest_airport_distance_km'] = df['nearest_airports_distance_m'] / 1000\n",
    "df['nearest_park_distance_km'] = df['nearest_park_distance_m'] / 1000\n",
    "df['nearest_pond_distance_km'] = df['nearest_pond_distance_m'] / 1000"
   ]
  },
  {
   "cell_type": "code",
   "execution_count": 44,
   "metadata": {},
   "outputs": [
    {
     "data": {
      "text/html": [
       "<div>\n",
       "<style scoped>\n",
       "    .dataframe tbody tr th:only-of-type {\n",
       "        vertical-align: middle;\n",
       "    }\n",
       "\n",
       "    .dataframe tbody tr th {\n",
       "        vertical-align: top;\n",
       "    }\n",
       "\n",
       "    .dataframe thead th {\n",
       "        text-align: right;\n",
       "    }\n",
       "</style>\n",
       "<table border=\"1\" class=\"dataframe\">\n",
       "  <thead>\n",
       "    <tr style=\"text-align: right;\">\n",
       "      <th></th>\n",
       "      <th>locality_name</th>\n",
       "      <th>city_center_distance_m</th>\n",
       "      <th>is_apartment</th>\n",
       "      <th>is_studio</th>\n",
       "      <th>is_open_plan</th>\n",
       "      <th>total_rooms</th>\n",
       "      <th>floor</th>\n",
       "      <th>total_house_floors</th>\n",
       "      <th>total_area_m2</th>\n",
       "      <th>living_area_m2</th>\n",
       "      <th>...</th>\n",
       "      <th>ponds_number_around_3km</th>\n",
       "      <th>nearest_pond_distance_m</th>\n",
       "      <th>localuty_name</th>\n",
       "      <th>weekday_exposition</th>\n",
       "      <th>month_exposition</th>\n",
       "      <th>year_exposition</th>\n",
       "      <th>city_center_distance_km</th>\n",
       "      <th>nearest_airport_distance_km</th>\n",
       "      <th>nearest_park_distance_km</th>\n",
       "      <th>nearest_pond_distance_km</th>\n",
       "    </tr>\n",
       "  </thead>\n",
       "  <tbody>\n",
       "    <tr>\n",
       "      <th>0</th>\n",
       "      <td>Санкт-Петербург</td>\n",
       "      <td>16028.0</td>\n",
       "      <td>False</td>\n",
       "      <td>False</td>\n",
       "      <td>False</td>\n",
       "      <td>3</td>\n",
       "      <td>8</td>\n",
       "      <td>16.0</td>\n",
       "      <td>108.0</td>\n",
       "      <td>51.0</td>\n",
       "      <td>...</td>\n",
       "      <td>2.0</td>\n",
       "      <td>755.0</td>\n",
       "      <td>санкт-петербург</td>\n",
       "      <td>Thursday</td>\n",
       "      <td>March</td>\n",
       "      <td>2019</td>\n",
       "      <td>16.028</td>\n",
       "      <td>18.863</td>\n",
       "      <td>0.482</td>\n",
       "      <td>0.755</td>\n",
       "    </tr>\n",
       "    <tr>\n",
       "      <th>1</th>\n",
       "      <td>поселок Шушары</td>\n",
       "      <td>18603.0</td>\n",
       "      <td>False</td>\n",
       "      <td>False</td>\n",
       "      <td>False</td>\n",
       "      <td>1</td>\n",
       "      <td>1</td>\n",
       "      <td>11.0</td>\n",
       "      <td>40.4</td>\n",
       "      <td>18.6</td>\n",
       "      <td>...</td>\n",
       "      <td>0.0</td>\n",
       "      <td>NaN</td>\n",
       "      <td>посёлок шушары</td>\n",
       "      <td>Tuesday</td>\n",
       "      <td>December</td>\n",
       "      <td>2018</td>\n",
       "      <td>18.603</td>\n",
       "      <td>12.817</td>\n",
       "      <td>NaN</td>\n",
       "      <td>NaN</td>\n",
       "    </tr>\n",
       "    <tr>\n",
       "      <th>2</th>\n",
       "      <td>Санкт-Петербург</td>\n",
       "      <td>13933.0</td>\n",
       "      <td>False</td>\n",
       "      <td>False</td>\n",
       "      <td>False</td>\n",
       "      <td>2</td>\n",
       "      <td>4</td>\n",
       "      <td>5.0</td>\n",
       "      <td>56.0</td>\n",
       "      <td>34.3</td>\n",
       "      <td>...</td>\n",
       "      <td>2.0</td>\n",
       "      <td>574.0</td>\n",
       "      <td>санкт-петербург</td>\n",
       "      <td>Thursday</td>\n",
       "      <td>August</td>\n",
       "      <td>2015</td>\n",
       "      <td>13.933</td>\n",
       "      <td>21.741</td>\n",
       "      <td>0.090</td>\n",
       "      <td>0.574</td>\n",
       "    </tr>\n",
       "    <tr>\n",
       "      <th>3</th>\n",
       "      <td>Санкт-Петербург</td>\n",
       "      <td>6800.0</td>\n",
       "      <td>False</td>\n",
       "      <td>False</td>\n",
       "      <td>False</td>\n",
       "      <td>3</td>\n",
       "      <td>9</td>\n",
       "      <td>14.0</td>\n",
       "      <td>159.0</td>\n",
       "      <td>NaN</td>\n",
       "      <td>...</td>\n",
       "      <td>3.0</td>\n",
       "      <td>234.0</td>\n",
       "      <td>санкт-петербург</td>\n",
       "      <td>Friday</td>\n",
       "      <td>July</td>\n",
       "      <td>2015</td>\n",
       "      <td>6.800</td>\n",
       "      <td>28.098</td>\n",
       "      <td>0.084</td>\n",
       "      <td>0.234</td>\n",
       "    </tr>\n",
       "    <tr>\n",
       "      <th>4</th>\n",
       "      <td>Санкт-Петербург</td>\n",
       "      <td>8098.0</td>\n",
       "      <td>False</td>\n",
       "      <td>False</td>\n",
       "      <td>False</td>\n",
       "      <td>2</td>\n",
       "      <td>13</td>\n",
       "      <td>14.0</td>\n",
       "      <td>100.0</td>\n",
       "      <td>32.0</td>\n",
       "      <td>...</td>\n",
       "      <td>1.0</td>\n",
       "      <td>48.0</td>\n",
       "      <td>санкт-петербург</td>\n",
       "      <td>Tuesday</td>\n",
       "      <td>June</td>\n",
       "      <td>2018</td>\n",
       "      <td>8.098</td>\n",
       "      <td>31.856</td>\n",
       "      <td>0.112</td>\n",
       "      <td>0.048</td>\n",
       "    </tr>\n",
       "  </tbody>\n",
       "</table>\n",
       "<p>5 rows × 30 columns</p>\n",
       "</div>"
      ],
      "text/plain": [
       "     locality_name  city_center_distance_m  is_apartment  is_studio  \\\n",
       "0  Санкт-Петербург                 16028.0         False      False   \n",
       "1   поселок Шушары                 18603.0         False      False   \n",
       "2  Санкт-Петербург                 13933.0         False      False   \n",
       "3  Санкт-Петербург                  6800.0         False      False   \n",
       "4  Санкт-Петербург                  8098.0         False      False   \n",
       "\n",
       "   is_open_plan  total_rooms  floor  total_house_floors  total_area_m2  \\\n",
       "0         False            3      8                16.0          108.0   \n",
       "1         False            1      1                11.0           40.4   \n",
       "2         False            2      4                 5.0           56.0   \n",
       "3         False            3      9                14.0          159.0   \n",
       "4         False            2     13                14.0          100.0   \n",
       "\n",
       "   living_area_m2  ...  ponds_number_around_3km  nearest_pond_distance_m  \\\n",
       "0            51.0  ...                      2.0                    755.0   \n",
       "1            18.6  ...                      0.0                      NaN   \n",
       "2            34.3  ...                      2.0                    574.0   \n",
       "3             NaN  ...                      3.0                    234.0   \n",
       "4            32.0  ...                      1.0                     48.0   \n",
       "\n",
       "     localuty_name weekday_exposition  month_exposition  year_exposition  \\\n",
       "0  санкт-петербург           Thursday             March             2019   \n",
       "1   посёлок шушары            Tuesday          December             2018   \n",
       "2  санкт-петербург           Thursday            August             2015   \n",
       "3  санкт-петербург             Friday              July             2015   \n",
       "4  санкт-петербург            Tuesday              June             2018   \n",
       "\n",
       "   city_center_distance_km  nearest_airport_distance_km  \\\n",
       "0                   16.028                       18.863   \n",
       "1                   18.603                       12.817   \n",
       "2                   13.933                       21.741   \n",
       "3                    6.800                       28.098   \n",
       "4                    8.098                       31.856   \n",
       "\n",
       "   nearest_park_distance_km  nearest_pond_distance_km  \n",
       "0                     0.482                     0.755  \n",
       "1                       NaN                       NaN  \n",
       "2                     0.090                     0.574  \n",
       "3                     0.084                     0.234  \n",
       "4                     0.112                     0.048  \n",
       "\n",
       "[5 rows x 30 columns]"
      ]
     },
     "execution_count": 44,
     "metadata": {},
     "output_type": "execute_result"
    }
   ],
   "source": [
    "df.head()"
   ]
  },
  {
   "cell_type": "code",
   "execution_count": 45,
   "metadata": {},
   "outputs": [],
   "source": [
    "del df['city_center_distance_m']\n",
    "del df['nearest_airports_distance_m']\n",
    "del df['nearest_park_distance_m']\n",
    "del df['nearest_pond_distance_m']"
   ]
  },
  {
   "cell_type": "code",
   "execution_count": 46,
   "metadata": {
    "scrolled": true
   },
   "outputs": [
    {
     "data": {
      "text/plain": [
       "['locality_name',\n",
       " 'is_apartment',\n",
       " 'is_studio',\n",
       " 'is_open_plan',\n",
       " 'total_rooms',\n",
       " 'floor',\n",
       " 'total_house_floors',\n",
       " 'total_area_m2',\n",
       " 'living_area_m2',\n",
       " 'kitchen_area_m2',\n",
       " 'balconies_number',\n",
       " 'ceiling_height_m',\n",
       " 'first_day_exposition',\n",
       " 'days_exposition',\n",
       " 'last_price',\n",
       " 'total_images',\n",
       " 'parks_number_around_3km',\n",
       " 'ponds_number_around_3km',\n",
       " 'localuty_name',\n",
       " 'weekday_exposition',\n",
       " 'month_exposition',\n",
       " 'year_exposition',\n",
       " 'city_center_distance_km',\n",
       " 'nearest_airport_distance_km',\n",
       " 'nearest_park_distance_km',\n",
       " 'nearest_pond_distance_km']"
      ]
     },
     "execution_count": 46,
     "metadata": {},
     "output_type": "execute_result"
    }
   ],
   "source": [
    "df.columns.tolist()"
   ]
  },
  {
   "cell_type": "code",
   "execution_count": 47,
   "metadata": {},
   "outputs": [
    {
     "data": {
      "text/html": [
       "<div>\n",
       "<style scoped>\n",
       "    .dataframe tbody tr th:only-of-type {\n",
       "        vertical-align: middle;\n",
       "    }\n",
       "\n",
       "    .dataframe tbody tr th {\n",
       "        vertical-align: top;\n",
       "    }\n",
       "\n",
       "    .dataframe thead th {\n",
       "        text-align: right;\n",
       "    }\n",
       "</style>\n",
       "<table border=\"1\" class=\"dataframe\">\n",
       "  <thead>\n",
       "    <tr style=\"text-align: right;\">\n",
       "      <th></th>\n",
       "      <th>total_rooms</th>\n",
       "      <th>floor</th>\n",
       "      <th>total_house_floors</th>\n",
       "      <th>total_area_m2</th>\n",
       "      <th>living_area_m2</th>\n",
       "      <th>kitchen_area_m2</th>\n",
       "      <th>balconies_number</th>\n",
       "      <th>ceiling_height_m</th>\n",
       "      <th>days_exposition</th>\n",
       "      <th>last_price</th>\n",
       "      <th>total_images</th>\n",
       "      <th>parks_number_around_3km</th>\n",
       "      <th>ponds_number_around_3km</th>\n",
       "      <th>year_exposition</th>\n",
       "      <th>city_center_distance_km</th>\n",
       "      <th>nearest_airport_distance_km</th>\n",
       "      <th>nearest_park_distance_km</th>\n",
       "      <th>nearest_pond_distance_km</th>\n",
       "    </tr>\n",
       "  </thead>\n",
       "  <tbody>\n",
       "    <tr>\n",
       "      <th>count</th>\n",
       "      <td>23650.000000</td>\n",
       "      <td>23650.000000</td>\n",
       "      <td>23565.000000</td>\n",
       "      <td>23650.000000</td>\n",
       "      <td>21752.000000</td>\n",
       "      <td>21381.000000</td>\n",
       "      <td>23650.000000</td>\n",
       "      <td>14490.000000</td>\n",
       "      <td>20470.000000</td>\n",
       "      <td>2.365000e+04</td>\n",
       "      <td>23650.000000</td>\n",
       "      <td>18140.000000</td>\n",
       "      <td>18140.000000</td>\n",
       "      <td>23650.000000</td>\n",
       "      <td>18139.000000</td>\n",
       "      <td>18116.000000</td>\n",
       "      <td>8064.000000</td>\n",
       "      <td>9085.000000</td>\n",
       "    </tr>\n",
       "    <tr>\n",
       "      <th>mean</th>\n",
       "      <td>2.070106</td>\n",
       "      <td>5.893277</td>\n",
       "      <td>10.675875</td>\n",
       "      <td>60.329069</td>\n",
       "      <td>34.448356</td>\n",
       "      <td>10.566403</td>\n",
       "      <td>0.591712</td>\n",
       "      <td>2.771287</td>\n",
       "      <td>180.753200</td>\n",
       "      <td>6.541127e+06</td>\n",
       "      <td>9.862326</td>\n",
       "      <td>0.611577</td>\n",
       "      <td>0.769680</td>\n",
       "      <td>2017.370021</td>\n",
       "      <td>14.197861</td>\n",
       "      <td>28.803226</td>\n",
       "      <td>0.490831</td>\n",
       "      <td>0.518060</td>\n",
       "    </tr>\n",
       "    <tr>\n",
       "      <th>std</th>\n",
       "      <td>1.078620</td>\n",
       "      <td>4.883317</td>\n",
       "      <td>6.594823</td>\n",
       "      <td>35.661808</td>\n",
       "      <td>22.037664</td>\n",
       "      <td>5.901753</td>\n",
       "      <td>0.959662</td>\n",
       "      <td>1.261593</td>\n",
       "      <td>219.777916</td>\n",
       "      <td>1.089640e+07</td>\n",
       "      <td>5.682278</td>\n",
       "      <td>0.802003</td>\n",
       "      <td>0.937948</td>\n",
       "      <td>1.037806</td>\n",
       "      <td>8.606830</td>\n",
       "      <td>12.637314</td>\n",
       "      <td>0.342554</td>\n",
       "      <td>0.277842</td>\n",
       "    </tr>\n",
       "    <tr>\n",
       "      <th>min</th>\n",
       "      <td>0.000000</td>\n",
       "      <td>1.000000</td>\n",
       "      <td>1.000000</td>\n",
       "      <td>12.000000</td>\n",
       "      <td>2.000000</td>\n",
       "      <td>1.300000</td>\n",
       "      <td>0.000000</td>\n",
       "      <td>1.000000</td>\n",
       "      <td>1.000000</td>\n",
       "      <td>1.219000e+04</td>\n",
       "      <td>0.000000</td>\n",
       "      <td>0.000000</td>\n",
       "      <td>0.000000</td>\n",
       "      <td>2014.000000</td>\n",
       "      <td>0.181000</td>\n",
       "      <td>0.000000</td>\n",
       "      <td>0.001000</td>\n",
       "      <td>0.013000</td>\n",
       "    </tr>\n",
       "    <tr>\n",
       "      <th>25%</th>\n",
       "      <td>1.000000</td>\n",
       "      <td>2.000000</td>\n",
       "      <td>5.000000</td>\n",
       "      <td>40.000000</td>\n",
       "      <td>18.600000</td>\n",
       "      <td>7.000000</td>\n",
       "      <td>0.000000</td>\n",
       "      <td>2.520000</td>\n",
       "      <td>45.000000</td>\n",
       "      <td>3.400000e+06</td>\n",
       "      <td>6.000000</td>\n",
       "      <td>0.000000</td>\n",
       "      <td>0.000000</td>\n",
       "      <td>2017.000000</td>\n",
       "      <td>9.241000</td>\n",
       "      <td>18.575750</td>\n",
       "      <td>0.288000</td>\n",
       "      <td>0.293000</td>\n",
       "    </tr>\n",
       "    <tr>\n",
       "      <th>50%</th>\n",
       "      <td>2.000000</td>\n",
       "      <td>4.000000</td>\n",
       "      <td>9.000000</td>\n",
       "      <td>52.000000</td>\n",
       "      <td>30.000000</td>\n",
       "      <td>9.100000</td>\n",
       "      <td>0.000000</td>\n",
       "      <td>2.650000</td>\n",
       "      <td>95.000000</td>\n",
       "      <td>4.650000e+06</td>\n",
       "      <td>9.000000</td>\n",
       "      <td>0.000000</td>\n",
       "      <td>1.000000</td>\n",
       "      <td>2017.000000</td>\n",
       "      <td>13.105000</td>\n",
       "      <td>26.756500</td>\n",
       "      <td>0.454500</td>\n",
       "      <td>0.502000</td>\n",
       "    </tr>\n",
       "    <tr>\n",
       "      <th>75%</th>\n",
       "      <td>3.000000</td>\n",
       "      <td>8.000000</td>\n",
       "      <td>16.000000</td>\n",
       "      <td>69.700000</td>\n",
       "      <td>42.300000</td>\n",
       "      <td>12.000000</td>\n",
       "      <td>1.000000</td>\n",
       "      <td>2.800000</td>\n",
       "      <td>231.000000</td>\n",
       "      <td>6.799000e+06</td>\n",
       "      <td>14.000000</td>\n",
       "      <td>1.000000</td>\n",
       "      <td>1.000000</td>\n",
       "      <td>2018.000000</td>\n",
       "      <td>16.293000</td>\n",
       "      <td>37.294000</td>\n",
       "      <td>0.612000</td>\n",
       "      <td>0.730000</td>\n",
       "    </tr>\n",
       "    <tr>\n",
       "      <th>max</th>\n",
       "      <td>19.000000</td>\n",
       "      <td>33.000000</td>\n",
       "      <td>60.000000</td>\n",
       "      <td>900.000000</td>\n",
       "      <td>409.700000</td>\n",
       "      <td>112.000000</td>\n",
       "      <td>5.000000</td>\n",
       "      <td>100.000000</td>\n",
       "      <td>1580.000000</td>\n",
       "      <td>7.630000e+08</td>\n",
       "      <td>50.000000</td>\n",
       "      <td>3.000000</td>\n",
       "      <td>3.000000</td>\n",
       "      <td>2019.000000</td>\n",
       "      <td>65.968000</td>\n",
       "      <td>84.869000</td>\n",
       "      <td>3.190000</td>\n",
       "      <td>1.344000</td>\n",
       "    </tr>\n",
       "  </tbody>\n",
       "</table>\n",
       "</div>"
      ],
      "text/plain": [
       "        total_rooms         floor  total_house_floors  total_area_m2  \\\n",
       "count  23650.000000  23650.000000        23565.000000   23650.000000   \n",
       "mean       2.070106      5.893277           10.675875      60.329069   \n",
       "std        1.078620      4.883317            6.594823      35.661808   \n",
       "min        0.000000      1.000000            1.000000      12.000000   \n",
       "25%        1.000000      2.000000            5.000000      40.000000   \n",
       "50%        2.000000      4.000000            9.000000      52.000000   \n",
       "75%        3.000000      8.000000           16.000000      69.700000   \n",
       "max       19.000000     33.000000           60.000000     900.000000   \n",
       "\n",
       "       living_area_m2  kitchen_area_m2  balconies_number  ceiling_height_m  \\\n",
       "count    21752.000000     21381.000000      23650.000000      14490.000000   \n",
       "mean        34.448356        10.566403          0.591712          2.771287   \n",
       "std         22.037664         5.901753          0.959662          1.261593   \n",
       "min          2.000000         1.300000          0.000000          1.000000   \n",
       "25%         18.600000         7.000000          0.000000          2.520000   \n",
       "50%         30.000000         9.100000          0.000000          2.650000   \n",
       "75%         42.300000        12.000000          1.000000          2.800000   \n",
       "max        409.700000       112.000000          5.000000        100.000000   \n",
       "\n",
       "       days_exposition    last_price  total_images  parks_number_around_3km  \\\n",
       "count     20470.000000  2.365000e+04  23650.000000             18140.000000   \n",
       "mean        180.753200  6.541127e+06      9.862326                 0.611577   \n",
       "std         219.777916  1.089640e+07      5.682278                 0.802003   \n",
       "min           1.000000  1.219000e+04      0.000000                 0.000000   \n",
       "25%          45.000000  3.400000e+06      6.000000                 0.000000   \n",
       "50%          95.000000  4.650000e+06      9.000000                 0.000000   \n",
       "75%         231.000000  6.799000e+06     14.000000                 1.000000   \n",
       "max        1580.000000  7.630000e+08     50.000000                 3.000000   \n",
       "\n",
       "       ponds_number_around_3km  year_exposition  city_center_distance_km  \\\n",
       "count             18140.000000     23650.000000             18139.000000   \n",
       "mean                  0.769680      2017.370021                14.197861   \n",
       "std                   0.937948         1.037806                 8.606830   \n",
       "min                   0.000000      2014.000000                 0.181000   \n",
       "25%                   0.000000      2017.000000                 9.241000   \n",
       "50%                   1.000000      2017.000000                13.105000   \n",
       "75%                   1.000000      2018.000000                16.293000   \n",
       "max                   3.000000      2019.000000                65.968000   \n",
       "\n",
       "       nearest_airport_distance_km  nearest_park_distance_km  \\\n",
       "count                 18116.000000               8064.000000   \n",
       "mean                     28.803226                  0.490831   \n",
       "std                      12.637314                  0.342554   \n",
       "min                       0.000000                  0.001000   \n",
       "25%                      18.575750                  0.288000   \n",
       "50%                      26.756500                  0.454500   \n",
       "75%                      37.294000                  0.612000   \n",
       "max                      84.869000                  3.190000   \n",
       "\n",
       "       nearest_pond_distance_km  \n",
       "count               9085.000000  \n",
       "mean                   0.518060  \n",
       "std                    0.277842  \n",
       "min                    0.013000  \n",
       "25%                    0.293000  \n",
       "50%                    0.502000  \n",
       "75%                    0.730000  \n",
       "max                    1.344000  "
      ]
     },
     "execution_count": 47,
     "metadata": {},
     "output_type": "execute_result"
    }
   ],
   "source": [
    "df.describe()"
   ]
  },
  {
   "cell_type": "code",
   "execution_count": 48,
   "metadata": {},
   "outputs": [],
   "source": [
    "# let's add a column with the floor category\n",
    "def floor_status(row):\n",
    "    if row['floor'] == 1:\n",
    "        return 'первый'\n",
    "    elif row['floor'] == row['total_house_floors']:\n",
    "        return 'последний'\n",
    "    else:\n",
    "        return 'другой'\n",
    "df['floor_status'] = df.apply(floor_status, axis=1)"
   ]
  },
  {
   "cell_type": "code",
   "execution_count": 49,
   "metadata": {},
   "outputs": [],
   "source": [
    "# Let's introduce the columns of the price per square meter\n",
    "df['price_per_meter'] = round(df['last_price'] / df['total_area_m2'], 2)"
   ]
  },
  {
   "cell_type": "code",
   "execution_count": 50,
   "metadata": {},
   "outputs": [
    {
     "data": {
      "text/html": [
       "<div>\n",
       "<style scoped>\n",
       "    .dataframe tbody tr th:only-of-type {\n",
       "        vertical-align: middle;\n",
       "    }\n",
       "\n",
       "    .dataframe tbody tr th {\n",
       "        vertical-align: top;\n",
       "    }\n",
       "\n",
       "    .dataframe thead th {\n",
       "        text-align: right;\n",
       "    }\n",
       "</style>\n",
       "<table border=\"1\" class=\"dataframe\">\n",
       "  <thead>\n",
       "    <tr style=\"text-align: right;\">\n",
       "      <th></th>\n",
       "      <th>locality_name</th>\n",
       "      <th>is_apartment</th>\n",
       "      <th>is_studio</th>\n",
       "      <th>is_open_plan</th>\n",
       "      <th>total_rooms</th>\n",
       "      <th>floor</th>\n",
       "      <th>total_house_floors</th>\n",
       "      <th>total_area_m2</th>\n",
       "      <th>living_area_m2</th>\n",
       "      <th>kitchen_area_m2</th>\n",
       "      <th>...</th>\n",
       "      <th>localuty_name</th>\n",
       "      <th>weekday_exposition</th>\n",
       "      <th>month_exposition</th>\n",
       "      <th>year_exposition</th>\n",
       "      <th>city_center_distance_km</th>\n",
       "      <th>nearest_airport_distance_km</th>\n",
       "      <th>nearest_park_distance_km</th>\n",
       "      <th>nearest_pond_distance_km</th>\n",
       "      <th>floor_status</th>\n",
       "      <th>price_per_meter</th>\n",
       "    </tr>\n",
       "  </thead>\n",
       "  <tbody>\n",
       "    <tr>\n",
       "      <th>0</th>\n",
       "      <td>Санкт-Петербург</td>\n",
       "      <td>False</td>\n",
       "      <td>False</td>\n",
       "      <td>False</td>\n",
       "      <td>3</td>\n",
       "      <td>8</td>\n",
       "      <td>16.0</td>\n",
       "      <td>108.0</td>\n",
       "      <td>51.0</td>\n",
       "      <td>25.0</td>\n",
       "      <td>...</td>\n",
       "      <td>санкт-петербург</td>\n",
       "      <td>Thursday</td>\n",
       "      <td>March</td>\n",
       "      <td>2019</td>\n",
       "      <td>16.028</td>\n",
       "      <td>18.863</td>\n",
       "      <td>0.482</td>\n",
       "      <td>0.755</td>\n",
       "      <td>другой</td>\n",
       "      <td>120370.37</td>\n",
       "    </tr>\n",
       "    <tr>\n",
       "      <th>1</th>\n",
       "      <td>поселок Шушары</td>\n",
       "      <td>False</td>\n",
       "      <td>False</td>\n",
       "      <td>False</td>\n",
       "      <td>1</td>\n",
       "      <td>1</td>\n",
       "      <td>11.0</td>\n",
       "      <td>40.4</td>\n",
       "      <td>18.6</td>\n",
       "      <td>11.0</td>\n",
       "      <td>...</td>\n",
       "      <td>посёлок шушары</td>\n",
       "      <td>Tuesday</td>\n",
       "      <td>December</td>\n",
       "      <td>2018</td>\n",
       "      <td>18.603</td>\n",
       "      <td>12.817</td>\n",
       "      <td>NaN</td>\n",
       "      <td>NaN</td>\n",
       "      <td>первый</td>\n",
       "      <td>82920.79</td>\n",
       "    </tr>\n",
       "    <tr>\n",
       "      <th>2</th>\n",
       "      <td>Санкт-Петербург</td>\n",
       "      <td>False</td>\n",
       "      <td>False</td>\n",
       "      <td>False</td>\n",
       "      <td>2</td>\n",
       "      <td>4</td>\n",
       "      <td>5.0</td>\n",
       "      <td>56.0</td>\n",
       "      <td>34.3</td>\n",
       "      <td>8.3</td>\n",
       "      <td>...</td>\n",
       "      <td>санкт-петербург</td>\n",
       "      <td>Thursday</td>\n",
       "      <td>August</td>\n",
       "      <td>2015</td>\n",
       "      <td>13.933</td>\n",
       "      <td>21.741</td>\n",
       "      <td>0.090</td>\n",
       "      <td>0.574</td>\n",
       "      <td>другой</td>\n",
       "      <td>92785.71</td>\n",
       "    </tr>\n",
       "    <tr>\n",
       "      <th>3</th>\n",
       "      <td>Санкт-Петербург</td>\n",
       "      <td>False</td>\n",
       "      <td>False</td>\n",
       "      <td>False</td>\n",
       "      <td>3</td>\n",
       "      <td>9</td>\n",
       "      <td>14.0</td>\n",
       "      <td>159.0</td>\n",
       "      <td>NaN</td>\n",
       "      <td>NaN</td>\n",
       "      <td>...</td>\n",
       "      <td>санкт-петербург</td>\n",
       "      <td>Friday</td>\n",
       "      <td>July</td>\n",
       "      <td>2015</td>\n",
       "      <td>6.800</td>\n",
       "      <td>28.098</td>\n",
       "      <td>0.084</td>\n",
       "      <td>0.234</td>\n",
       "      <td>другой</td>\n",
       "      <td>408176.10</td>\n",
       "    </tr>\n",
       "    <tr>\n",
       "      <th>4</th>\n",
       "      <td>Санкт-Петербург</td>\n",
       "      <td>False</td>\n",
       "      <td>False</td>\n",
       "      <td>False</td>\n",
       "      <td>2</td>\n",
       "      <td>13</td>\n",
       "      <td>14.0</td>\n",
       "      <td>100.0</td>\n",
       "      <td>32.0</td>\n",
       "      <td>41.0</td>\n",
       "      <td>...</td>\n",
       "      <td>санкт-петербург</td>\n",
       "      <td>Tuesday</td>\n",
       "      <td>June</td>\n",
       "      <td>2018</td>\n",
       "      <td>8.098</td>\n",
       "      <td>31.856</td>\n",
       "      <td>0.112</td>\n",
       "      <td>0.048</td>\n",
       "      <td>другой</td>\n",
       "      <td>100000.00</td>\n",
       "    </tr>\n",
       "  </tbody>\n",
       "</table>\n",
       "<p>5 rows × 28 columns</p>\n",
       "</div>"
      ],
      "text/plain": [
       "     locality_name  is_apartment  is_studio  is_open_plan  total_rooms  floor  \\\n",
       "0  Санкт-Петербург         False      False         False            3      8   \n",
       "1   поселок Шушары         False      False         False            1      1   \n",
       "2  Санкт-Петербург         False      False         False            2      4   \n",
       "3  Санкт-Петербург         False      False         False            3      9   \n",
       "4  Санкт-Петербург         False      False         False            2     13   \n",
       "\n",
       "   total_house_floors  total_area_m2  living_area_m2  kitchen_area_m2  ...  \\\n",
       "0                16.0          108.0            51.0             25.0  ...   \n",
       "1                11.0           40.4            18.6             11.0  ...   \n",
       "2                 5.0           56.0            34.3              8.3  ...   \n",
       "3                14.0          159.0             NaN              NaN  ...   \n",
       "4                14.0          100.0            32.0             41.0  ...   \n",
       "\n",
       "     localuty_name  weekday_exposition month_exposition  year_exposition  \\\n",
       "0  санкт-петербург            Thursday            March             2019   \n",
       "1   посёлок шушары             Tuesday         December             2018   \n",
       "2  санкт-петербург            Thursday           August             2015   \n",
       "3  санкт-петербург              Friday             July             2015   \n",
       "4  санкт-петербург             Tuesday             June             2018   \n",
       "\n",
       "   city_center_distance_km  nearest_airport_distance_km  \\\n",
       "0                   16.028                       18.863   \n",
       "1                   18.603                       12.817   \n",
       "2                   13.933                       21.741   \n",
       "3                    6.800                       28.098   \n",
       "4                    8.098                       31.856   \n",
       "\n",
       "   nearest_park_distance_km  nearest_pond_distance_km floor_status  \\\n",
       "0                     0.482                     0.755       другой   \n",
       "1                       NaN                       NaN       первый   \n",
       "2                     0.090                     0.574       другой   \n",
       "3                     0.084                     0.234       другой   \n",
       "4                     0.112                     0.048       другой   \n",
       "\n",
       "  price_per_meter  \n",
       "0       120370.37  \n",
       "1        82920.79  \n",
       "2        92785.71  \n",
       "3       408176.10  \n",
       "4       100000.00  \n",
       "\n",
       "[5 rows x 28 columns]"
      ]
     },
     "execution_count": 50,
     "metadata": {},
     "output_type": "execute_result"
    }
   ],
   "source": [
    "df.head()"
   ]
  },
  {
   "cell_type": "code",
   "execution_count": 51,
   "metadata": {},
   "outputs": [],
   "source": [
    "df['living_area_ratio'] = round(df['living_area_m2'] / df['total_area_m2'], 2)\n",
    "df['kitchen_area_ratio'] = round(df['kitchen_area_m2'] / df['total_area_m2'], 2)\n"
   ]
  },
  {
   "cell_type": "code",
   "execution_count": 52,
   "metadata": {},
   "outputs": [
    {
     "data": {
      "text/html": [
       "<div>\n",
       "<style scoped>\n",
       "    .dataframe tbody tr th:only-of-type {\n",
       "        vertical-align: middle;\n",
       "    }\n",
       "\n",
       "    .dataframe tbody tr th {\n",
       "        vertical-align: top;\n",
       "    }\n",
       "\n",
       "    .dataframe thead th {\n",
       "        text-align: right;\n",
       "    }\n",
       "</style>\n",
       "<table border=\"1\" class=\"dataframe\">\n",
       "  <thead>\n",
       "    <tr style=\"text-align: right;\">\n",
       "      <th></th>\n",
       "      <th>locality_name</th>\n",
       "      <th>is_apartment</th>\n",
       "      <th>is_studio</th>\n",
       "      <th>is_open_plan</th>\n",
       "      <th>total_rooms</th>\n",
       "      <th>floor</th>\n",
       "      <th>total_house_floors</th>\n",
       "      <th>total_area_m2</th>\n",
       "      <th>living_area_m2</th>\n",
       "      <th>kitchen_area_m2</th>\n",
       "      <th>...</th>\n",
       "      <th>month_exposition</th>\n",
       "      <th>year_exposition</th>\n",
       "      <th>city_center_distance_km</th>\n",
       "      <th>nearest_airport_distance_km</th>\n",
       "      <th>nearest_park_distance_km</th>\n",
       "      <th>nearest_pond_distance_km</th>\n",
       "      <th>floor_status</th>\n",
       "      <th>price_per_meter</th>\n",
       "      <th>living_area_ratio</th>\n",
       "      <th>kitchen_area_ratio</th>\n",
       "    </tr>\n",
       "  </thead>\n",
       "  <tbody>\n",
       "    <tr>\n",
       "      <th>0</th>\n",
       "      <td>Санкт-Петербург</td>\n",
       "      <td>False</td>\n",
       "      <td>False</td>\n",
       "      <td>False</td>\n",
       "      <td>3</td>\n",
       "      <td>8</td>\n",
       "      <td>16.0</td>\n",
       "      <td>108.0</td>\n",
       "      <td>51.0</td>\n",
       "      <td>25.0</td>\n",
       "      <td>...</td>\n",
       "      <td>March</td>\n",
       "      <td>2019</td>\n",
       "      <td>16.028</td>\n",
       "      <td>18.863</td>\n",
       "      <td>0.482</td>\n",
       "      <td>0.755</td>\n",
       "      <td>другой</td>\n",
       "      <td>120370.37</td>\n",
       "      <td>0.47</td>\n",
       "      <td>0.23</td>\n",
       "    </tr>\n",
       "    <tr>\n",
       "      <th>1</th>\n",
       "      <td>поселок Шушары</td>\n",
       "      <td>False</td>\n",
       "      <td>False</td>\n",
       "      <td>False</td>\n",
       "      <td>1</td>\n",
       "      <td>1</td>\n",
       "      <td>11.0</td>\n",
       "      <td>40.4</td>\n",
       "      <td>18.6</td>\n",
       "      <td>11.0</td>\n",
       "      <td>...</td>\n",
       "      <td>December</td>\n",
       "      <td>2018</td>\n",
       "      <td>18.603</td>\n",
       "      <td>12.817</td>\n",
       "      <td>NaN</td>\n",
       "      <td>NaN</td>\n",
       "      <td>первый</td>\n",
       "      <td>82920.79</td>\n",
       "      <td>0.46</td>\n",
       "      <td>0.27</td>\n",
       "    </tr>\n",
       "    <tr>\n",
       "      <th>2</th>\n",
       "      <td>Санкт-Петербург</td>\n",
       "      <td>False</td>\n",
       "      <td>False</td>\n",
       "      <td>False</td>\n",
       "      <td>2</td>\n",
       "      <td>4</td>\n",
       "      <td>5.0</td>\n",
       "      <td>56.0</td>\n",
       "      <td>34.3</td>\n",
       "      <td>8.3</td>\n",
       "      <td>...</td>\n",
       "      <td>August</td>\n",
       "      <td>2015</td>\n",
       "      <td>13.933</td>\n",
       "      <td>21.741</td>\n",
       "      <td>0.090</td>\n",
       "      <td>0.574</td>\n",
       "      <td>другой</td>\n",
       "      <td>92785.71</td>\n",
       "      <td>0.61</td>\n",
       "      <td>0.15</td>\n",
       "    </tr>\n",
       "    <tr>\n",
       "      <th>3</th>\n",
       "      <td>Санкт-Петербург</td>\n",
       "      <td>False</td>\n",
       "      <td>False</td>\n",
       "      <td>False</td>\n",
       "      <td>3</td>\n",
       "      <td>9</td>\n",
       "      <td>14.0</td>\n",
       "      <td>159.0</td>\n",
       "      <td>NaN</td>\n",
       "      <td>NaN</td>\n",
       "      <td>...</td>\n",
       "      <td>July</td>\n",
       "      <td>2015</td>\n",
       "      <td>6.800</td>\n",
       "      <td>28.098</td>\n",
       "      <td>0.084</td>\n",
       "      <td>0.234</td>\n",
       "      <td>другой</td>\n",
       "      <td>408176.10</td>\n",
       "      <td>NaN</td>\n",
       "      <td>NaN</td>\n",
       "    </tr>\n",
       "    <tr>\n",
       "      <th>4</th>\n",
       "      <td>Санкт-Петербург</td>\n",
       "      <td>False</td>\n",
       "      <td>False</td>\n",
       "      <td>False</td>\n",
       "      <td>2</td>\n",
       "      <td>13</td>\n",
       "      <td>14.0</td>\n",
       "      <td>100.0</td>\n",
       "      <td>32.0</td>\n",
       "      <td>41.0</td>\n",
       "      <td>...</td>\n",
       "      <td>June</td>\n",
       "      <td>2018</td>\n",
       "      <td>8.098</td>\n",
       "      <td>31.856</td>\n",
       "      <td>0.112</td>\n",
       "      <td>0.048</td>\n",
       "      <td>другой</td>\n",
       "      <td>100000.00</td>\n",
       "      <td>0.32</td>\n",
       "      <td>0.41</td>\n",
       "    </tr>\n",
       "  </tbody>\n",
       "</table>\n",
       "<p>5 rows × 30 columns</p>\n",
       "</div>"
      ],
      "text/plain": [
       "     locality_name  is_apartment  is_studio  is_open_plan  total_rooms  floor  \\\n",
       "0  Санкт-Петербург         False      False         False            3      8   \n",
       "1   поселок Шушары         False      False         False            1      1   \n",
       "2  Санкт-Петербург         False      False         False            2      4   \n",
       "3  Санкт-Петербург         False      False         False            3      9   \n",
       "4  Санкт-Петербург         False      False         False            2     13   \n",
       "\n",
       "   total_house_floors  total_area_m2  living_area_m2  kitchen_area_m2  ...  \\\n",
       "0                16.0          108.0            51.0             25.0  ...   \n",
       "1                11.0           40.4            18.6             11.0  ...   \n",
       "2                 5.0           56.0            34.3              8.3  ...   \n",
       "3                14.0          159.0             NaN              NaN  ...   \n",
       "4                14.0          100.0            32.0             41.0  ...   \n",
       "\n",
       "   month_exposition  year_exposition city_center_distance_km  \\\n",
       "0             March             2019                  16.028   \n",
       "1          December             2018                  18.603   \n",
       "2            August             2015                  13.933   \n",
       "3              July             2015                   6.800   \n",
       "4              June             2018                   8.098   \n",
       "\n",
       "   nearest_airport_distance_km  nearest_park_distance_km  \\\n",
       "0                       18.863                     0.482   \n",
       "1                       12.817                       NaN   \n",
       "2                       21.741                     0.090   \n",
       "3                       28.098                     0.084   \n",
       "4                       31.856                     0.112   \n",
       "\n",
       "   nearest_pond_distance_km  floor_status  price_per_meter living_area_ratio  \\\n",
       "0                     0.755        другой        120370.37              0.47   \n",
       "1                       NaN        первый         82920.79              0.46   \n",
       "2                     0.574        другой         92785.71              0.61   \n",
       "3                     0.234        другой        408176.10               NaN   \n",
       "4                     0.048        другой        100000.00              0.32   \n",
       "\n",
       "  kitchen_area_ratio  \n",
       "0               0.23  \n",
       "1               0.27  \n",
       "2               0.15  \n",
       "3                NaN  \n",
       "4               0.41  \n",
       "\n",
       "[5 rows x 30 columns]"
      ]
     },
     "execution_count": 52,
     "metadata": {},
     "output_type": "execute_result"
    }
   ],
   "source": [
    "df.head()"
   ]
  },
  {
   "cell_type": "code",
   "execution_count": 53,
   "metadata": {},
   "outputs": [
    {
     "data": {
      "text/plain": [
       "living_area_ratio     1898\n",
       "kitchen_area_ratio    2269\n",
       "dtype: int64"
      ]
     },
     "execution_count": 53,
     "metadata": {},
     "output_type": "execute_result"
    }
   ],
   "source": [
    "df[['living_area_ratio', 'kitchen_area_ratio']].isna().sum()"
   ]
  },
  {
   "cell_type": "markdown",
   "metadata": {},
   "source": [
    "**Intermediate conclusion:**\n",
    "    \n",
    "Data has been added to the dataframe, according to the task:\n",
    "\n",
    "1) price per square meter;\n",
    "\n",
    "2) day of the week, month and year of publication of the announcement;\n",
    "\n",
    "3) grouping by apartment floors has been made;\n",
    "\n",
    "4) the ratio of residential and total area;\n",
    "\n",
    "5) also the ratio of the kitchen area to the total."
   ]
  },
  {
   "cell_type": "markdown",
   "metadata": {},
   "source": [
    "## 4. Exploratory data analysis"
   ]
  },
  {
   "cell_type": "code",
   "execution_count": 54,
   "metadata": {},
   "outputs": [
    {
     "data": {
      "text/html": [
       "<div>\n",
       "<style scoped>\n",
       "    .dataframe tbody tr th:only-of-type {\n",
       "        vertical-align: middle;\n",
       "    }\n",
       "\n",
       "    .dataframe tbody tr th {\n",
       "        vertical-align: top;\n",
       "    }\n",
       "\n",
       "    .dataframe thead th {\n",
       "        text-align: right;\n",
       "    }\n",
       "</style>\n",
       "<table border=\"1\" class=\"dataframe\">\n",
       "  <thead>\n",
       "    <tr style=\"text-align: right;\">\n",
       "      <th></th>\n",
       "      <th>total_area_m2</th>\n",
       "      <th>living_area_m2</th>\n",
       "      <th>kitchen_area_m2</th>\n",
       "    </tr>\n",
       "  </thead>\n",
       "  <tbody>\n",
       "    <tr>\n",
       "      <th>count</th>\n",
       "      <td>23650.000000</td>\n",
       "      <td>21752.000000</td>\n",
       "      <td>21381.000000</td>\n",
       "    </tr>\n",
       "    <tr>\n",
       "      <th>mean</th>\n",
       "      <td>60.329069</td>\n",
       "      <td>34.448356</td>\n",
       "      <td>10.566403</td>\n",
       "    </tr>\n",
       "    <tr>\n",
       "      <th>std</th>\n",
       "      <td>35.661808</td>\n",
       "      <td>22.037664</td>\n",
       "      <td>5.901753</td>\n",
       "    </tr>\n",
       "    <tr>\n",
       "      <th>min</th>\n",
       "      <td>12.000000</td>\n",
       "      <td>2.000000</td>\n",
       "      <td>1.300000</td>\n",
       "    </tr>\n",
       "    <tr>\n",
       "      <th>25%</th>\n",
       "      <td>40.000000</td>\n",
       "      <td>18.600000</td>\n",
       "      <td>7.000000</td>\n",
       "    </tr>\n",
       "    <tr>\n",
       "      <th>50%</th>\n",
       "      <td>52.000000</td>\n",
       "      <td>30.000000</td>\n",
       "      <td>9.100000</td>\n",
       "    </tr>\n",
       "    <tr>\n",
       "      <th>75%</th>\n",
       "      <td>69.700000</td>\n",
       "      <td>42.300000</td>\n",
       "      <td>12.000000</td>\n",
       "    </tr>\n",
       "    <tr>\n",
       "      <th>max</th>\n",
       "      <td>900.000000</td>\n",
       "      <td>409.700000</td>\n",
       "      <td>112.000000</td>\n",
       "    </tr>\n",
       "  </tbody>\n",
       "</table>\n",
       "</div>"
      ],
      "text/plain": [
       "       total_area_m2  living_area_m2  kitchen_area_m2\n",
       "count   23650.000000    21752.000000     21381.000000\n",
       "mean       60.329069       34.448356        10.566403\n",
       "std        35.661808       22.037664         5.901753\n",
       "min        12.000000        2.000000         1.300000\n",
       "25%        40.000000       18.600000         7.000000\n",
       "50%        52.000000       30.000000         9.100000\n",
       "75%        69.700000       42.300000        12.000000\n",
       "max       900.000000      409.700000       112.000000"
      ]
     },
     "execution_count": 54,
     "metadata": {},
     "output_type": "execute_result"
    }
   ],
   "source": [
    "df[['total_area_m2', 'living_area_m2', 'kitchen_area_m2']].describe()"
   ]
  },
  {
   "cell_type": "code",
   "execution_count": 55,
   "metadata": {},
   "outputs": [
    {
     "data": {
      "text/html": [
       "<div>\n",
       "<style scoped>\n",
       "    .dataframe tbody tr th:only-of-type {\n",
       "        vertical-align: middle;\n",
       "    }\n",
       "\n",
       "    .dataframe tbody tr th {\n",
       "        vertical-align: top;\n",
       "    }\n",
       "\n",
       "    .dataframe thead th {\n",
       "        text-align: right;\n",
       "    }\n",
       "</style>\n",
       "<table border=\"1\" class=\"dataframe\">\n",
       "  <thead>\n",
       "    <tr style=\"text-align: right;\">\n",
       "      <th></th>\n",
       "      <th>last_price</th>\n",
       "      <th>price_per_meter</th>\n",
       "    </tr>\n",
       "  </thead>\n",
       "  <tbody>\n",
       "    <tr>\n",
       "      <th>count</th>\n",
       "      <td>2.365000e+04</td>\n",
       "      <td>2.365000e+04</td>\n",
       "    </tr>\n",
       "    <tr>\n",
       "      <th>mean</th>\n",
       "      <td>6.541127e+06</td>\n",
       "      <td>9.943225e+04</td>\n",
       "    </tr>\n",
       "    <tr>\n",
       "      <th>std</th>\n",
       "      <td>1.089640e+07</td>\n",
       "      <td>5.033794e+04</td>\n",
       "    </tr>\n",
       "    <tr>\n",
       "      <th>min</th>\n",
       "      <td>1.219000e+04</td>\n",
       "      <td>1.118300e+02</td>\n",
       "    </tr>\n",
       "    <tr>\n",
       "      <th>25%</th>\n",
       "      <td>3.400000e+06</td>\n",
       "      <td>7.661496e+04</td>\n",
       "    </tr>\n",
       "    <tr>\n",
       "      <th>50%</th>\n",
       "      <td>4.650000e+06</td>\n",
       "      <td>9.500000e+04</td>\n",
       "    </tr>\n",
       "    <tr>\n",
       "      <th>75%</th>\n",
       "      <td>6.799000e+06</td>\n",
       "      <td>1.142742e+05</td>\n",
       "    </tr>\n",
       "    <tr>\n",
       "      <th>max</th>\n",
       "      <td>7.630000e+08</td>\n",
       "      <td>1.907500e+06</td>\n",
       "    </tr>\n",
       "  </tbody>\n",
       "</table>\n",
       "</div>"
      ],
      "text/plain": [
       "         last_price  price_per_meter\n",
       "count  2.365000e+04     2.365000e+04\n",
       "mean   6.541127e+06     9.943225e+04\n",
       "std    1.089640e+07     5.033794e+04\n",
       "min    1.219000e+04     1.118300e+02\n",
       "25%    3.400000e+06     7.661496e+04\n",
       "50%    4.650000e+06     9.500000e+04\n",
       "75%    6.799000e+06     1.142742e+05\n",
       "max    7.630000e+08     1.907500e+06"
      ]
     },
     "execution_count": 55,
     "metadata": {},
     "output_type": "execute_result"
    }
   ],
   "source": [
    "df[['last_price', 'price_per_meter']].describe()"
   ]
  },
  {
   "cell_type": "code",
   "execution_count": 56,
   "metadata": {},
   "outputs": [
    {
     "data": {
      "text/plain": [
       "count    23650.000000\n",
       "mean         2.070106\n",
       "std          1.078620\n",
       "min          0.000000\n",
       "25%          1.000000\n",
       "50%          2.000000\n",
       "75%          3.000000\n",
       "max         19.000000\n",
       "Name: total_rooms, dtype: float64"
      ]
     },
     "execution_count": 56,
     "metadata": {},
     "output_type": "execute_result"
    }
   ],
   "source": [
    "df['total_rooms'].describe()"
   ]
  },
  {
   "cell_type": "code",
   "execution_count": 57,
   "metadata": {},
   "outputs": [
    {
     "data": {
      "text/plain": [
       "count    14490.000000\n",
       "mean         2.771287\n",
       "std          1.261593\n",
       "min          1.000000\n",
       "25%          2.520000\n",
       "50%          2.650000\n",
       "75%          2.800000\n",
       "max        100.000000\n",
       "Name: ceiling_height_m, dtype: float64"
      ]
     },
     "execution_count": 57,
     "metadata": {},
     "output_type": "execute_result"
    }
   ],
   "source": [
    "df['ceiling_height_m'].describe()"
   ]
  },
  {
   "cell_type": "markdown",
   "metadata": {},
   "source": [
    "After reviewing the data , you can note:\n",
    "\n",
    "1) there are strong deviations in the maximum area\n",
    "\n",
    "2) there are no significant deviations in the distribution of prices/prices per square meter\n",
    "\n",
    "3) on average, there are 2 rooms in this property, although there is a clearly deviant housing with 19 rooms\n",
    "\n",
    "4) in the ceiling height, the minimum height of 1 meter attracts attention, the median and average values differ by 12 cm."
   ]
  },
  {
   "cell_type": "code",
   "execution_count": 58,
   "metadata": {
    "scrolled": true
   },
   "outputs": [
    {
     "data": {
      "image/png": "[encoded data removed]",
      "text/plain": [
       "<Figure size 720x576 with 1 Axes>"
      ]
     },
     "metadata": {
      "needs_background": "light"
     },
     "output_type": "display_data"
    }
   ],
   "source": [
    "df['total_area_m2'].hist(bins=80, figsize=(10,8))\n",
    "plt.title('total_area_m2')\n",
    "plt.show()"
   ]
  },
  {
   "cell_type": "code",
   "execution_count": 59,
   "metadata": {
    "scrolled": true
   },
   "outputs": [
    {
     "data": {
      "image/png": "[encoded data removed]",
      "text/plain": [
       "<Figure size 720x576 with 1 Axes>"
      ]
     },
     "metadata": {
      "needs_background": "light"
     },
     "output_type": "display_data"
    }
   ],
   "source": [
    "df['last_price'].hist(bins=80, figsize=(10,8))\n",
    "plt.title('last_price')\n",
    "plt.show()"
   ]
  },
  {
   "cell_type": "code",
   "execution_count": 60,
   "metadata": {
    "scrolled": true
   },
   "outputs": [
    {
     "data": {
      "image/png": "[encoded data removed]",
      "text/plain": [
       "<Figure size 576x576 with 1 Axes>"
      ]
     },
     "metadata": {
      "needs_background": "light"
     },
     "output_type": "display_data"
    }
   ],
   "source": [
    "df['total_rooms'].hist(bins=10, figsize=(8,8))\n",
    "plt.title('total_rooms')\n",
    "plt.show()"
   ]
  },
  {
   "cell_type": "code",
   "execution_count": 61,
   "metadata": {
    "scrolled": true
   },
   "outputs": [
    {
     "data": {
      "image/png": "[encoded data removed]",
      "text/plain": [
       "<Figure size 720x432 with 1 Axes>"
      ]
     },
     "metadata": {
      "needs_background": "light"
     },
     "output_type": "display_data"
    }
   ],
   "source": [
    "df['ceiling_height_m'].hist(bins=10, figsize=(10,6)).set_xlim(0,30)\n",
    "plt.title('ceiling_height_m')\n",
    "plt.show()"
   ]
  },
  {
   "cell_type": "code",
   "execution_count": 62,
   "metadata": {},
   "outputs": [
    {
     "data": {
      "text/plain": [
       "count    20470.000000\n",
       "mean       180.753200\n",
       "std        219.777916\n",
       "min          1.000000\n",
       "25%         45.000000\n",
       "50%         95.000000\n",
       "75%        231.000000\n",
       "max       1580.000000\n",
       "Name: days_exposition, dtype: float64"
      ]
     },
     "execution_count": 62,
     "metadata": {},
     "output_type": "execute_result"
    }
   ],
   "source": [
    "df['days_exposition'].describe()"
   ]
  },
  {
   "cell_type": "code",
   "execution_count": 63,
   "metadata": {},
   "outputs": [
    {
     "data": {
      "image/png": "[encoded data removed]",
      "text/plain": [
       "<Figure size 720x360 with 1 Axes>"
      ]
     },
     "metadata": {
      "needs_background": "light"
     },
     "output_type": "display_data"
    }
   ],
   "source": [
    "df['days_exposition'].hist(bins=10, figsize=(10,5))\n",
    "plt.title('days_xposition')\n",
    "plt.show()"
   ]
  },
  {
   "cell_type": "code",
   "execution_count": 64,
   "metadata": {},
   "outputs": [],
   "source": [
    "# Removal of outliers and allocation of the zone of average values\n",
    "\n",
    "def delete_outliers(df,column,graphic=0, x=10,y=10):\n",
    "    quantile1 = df[column].quantile(0.25)\n",
    "    quantile3 = df[column].quantile(0.75)\n",
    "    iqr = quantile3 - quantile1\n",
    "    column_range = (df[column] >= (quantile1 - 1.5*iqr)) & (df[column] <= (quantile3 + 1.5*iqr))\n",
    "    if graphic == 1:\n",
    "        return df.loc[column_range].boxplot([column], figsize=(x,y))\n",
    "    else:\n",
    "        return df.loc[column_range]"
   ]
  },
  {
   "cell_type": "code",
   "execution_count": 65,
   "metadata": {
    "scrolled": true
   },
   "outputs": [
    {
     "data": {
      "text/plain": [
       "(0.0, 150.0)"
      ]
     },
     "execution_count": 65,
     "metadata": {},
     "output_type": "execute_result"
    },
    {
     "data": {
      "image/png": "[encoded data removed]",
      "text/plain": [
       "<Figure size 720x720 with 1 Axes>"
      ]
     },
     "metadata": {
      "needs_background": "light"
     },
     "output_type": "display_data"
    }
   ],
   "source": [
    "delete_outliers(df,'total_area_m2', 1, 10,10).set_ylim(0,150)"
   ]
  },
  {
   "cell_type": "code",
   "execution_count": 66,
   "metadata": {},
   "outputs": [
    {
     "data": {
      "text/plain": [
       "54.325685084352266"
      ]
     },
     "execution_count": 66,
     "metadata": {},
     "output_type": "execute_result"
    }
   ],
   "source": [
    "delete_outliers(df,'total_area_m2',0)['total_area_m2'].mean()"
   ]
  },
  {
   "cell_type": "code",
   "execution_count": 67,
   "metadata": {},
   "outputs": [
    {
     "data": {
      "text/plain": [
       "50.1"
      ]
     },
     "execution_count": 67,
     "metadata": {},
     "output_type": "execute_result"
    }
   ],
   "source": [
    "delete_outliers(df,'total_area_m2',0)['total_area_m2'].median()"
   ]
  },
  {
   "cell_type": "code",
   "execution_count": 68,
   "metadata": {
    "scrolled": true
   },
   "outputs": [
    {
     "data": {
      "text/plain": [
       "(0.0, 10000000.0)"
      ]
     },
     "execution_count": 68,
     "metadata": {},
     "output_type": "execute_result"
    },
    {
     "data": {
      "image/png": "[encoded data removed]",
      "text/plain": [
       "<Figure size 720x720 with 1 Axes>"
      ]
     },
     "metadata": {
      "needs_background": "light"
     },
     "output_type": "display_data"
    }
   ],
   "source": [
    "delete_outliers(df,'last_price',1,10,10).set_ylim(0,10000000)"
   ]
  },
  {
   "cell_type": "code",
   "execution_count": 69,
   "metadata": {},
   "outputs": [
    {
     "data": {
      "text/plain": [
       "4838942.090946979"
      ]
     },
     "execution_count": 69,
     "metadata": {},
     "output_type": "execute_result"
    }
   ],
   "source": [
    "delete_outliers(df,'last_price',0)['last_price'].mean()"
   ]
  },
  {
   "cell_type": "code",
   "execution_count": 70,
   "metadata": {},
   "outputs": [
    {
     "data": {
      "text/plain": [
       "4400000.0"
      ]
     },
     "execution_count": 70,
     "metadata": {},
     "output_type": "execute_result"
    }
   ],
   "source": [
    "delete_outliers(df,'last_price',0)['last_price'].median()"
   ]
  },
  {
   "cell_type": "code",
   "execution_count": 71,
   "metadata": {
    "scrolled": true
   },
   "outputs": [
    {
     "data": {
      "text/plain": [
       "(0.0, 500.0)"
      ]
     },
     "execution_count": 71,
     "metadata": {},
     "output_type": "execute_result"
    },
    {
     "data": {
      "image/png": "[encoded data removed]",
      "text/plain": [
       "<Figure size 720x720 with 1 Axes>"
      ]
     },
     "metadata": {
      "needs_background": "light"
     },
     "output_type": "display_data"
    }
   ],
   "source": [
    "delete_outliers(df,'days_exposition',1,10,10).set_ylim(0,500)"
   ]
  },
  {
   "cell_type": "code",
   "execution_count": 72,
   "metadata": {},
   "outputs": [
    {
     "data": {
      "text/plain": [
       "128.39811662055757"
      ]
     },
     "execution_count": 72,
     "metadata": {},
     "output_type": "execute_result"
    }
   ],
   "source": [
    "delete_outliers(df,'days_exposition',0)['days_exposition'].mean()"
   ]
  },
  {
   "cell_type": "code",
   "execution_count": 73,
   "metadata": {},
   "outputs": [
    {
     "data": {
      "text/plain": [
       "(0.0, 200000.0)"
      ]
     },
     "execution_count": 73,
     "metadata": {},
     "output_type": "execute_result"
    },
    {
     "data": {
      "image/png": "[encoded data removed]",
      "text/plain": [
       "<Figure size 720x720 with 1 Axes>"
      ]
     },
     "metadata": {
      "needs_background": "light"
     },
     "output_type": "display_data"
    }
   ],
   "source": [
    "delete_outliers(df,'price_per_meter',1,10,10).set_ylim(0, 200000)"
   ]
  },
  {
   "cell_type": "code",
   "execution_count": 74,
   "metadata": {},
   "outputs": [
    {
     "data": {
      "image/png": "[encoded data removed]",
      "text/plain": [
       "<Figure size 720x720 with 1 Axes>"
      ]
     },
     "metadata": {
      "needs_background": "light"
     },
     "output_type": "display_data"
    },
    {
     "name": "stdout",
     "output_type": "stream",
     "text": [
      "\n",
      "Среднее значения столбца total_area_m2 - 54.33 \n",
      "\n",
      "Медианное значение столбца total_area_m2 - 50.1\n"
     ]
    },
    {
     "data": {
      "image/png": "[encoded data removed]",
      "text/plain": [
       "<Figure size 720x720 with 1 Axes>"
      ]
     },
     "metadata": {
      "needs_background": "light"
     },
     "output_type": "display_data"
    },
    {
     "name": "stdout",
     "output_type": "stream",
     "text": [
      "\n",
      "Среднее значения столбца last_price - 4838942.09 \n",
      "\n",
      "Медианное значение столбца last_price - 4400000.0\n"
     ]
    },
    {
     "data": {
      "image/png": "[encoded data removed]",
      "text/plain": [
       "<Figure size 720x720 with 1 Axes>"
      ]
     },
     "metadata": {
      "needs_background": "light"
     },
     "output_type": "display_data"
    },
    {
     "name": "stdout",
     "output_type": "stream",
     "text": [
      "\n",
      "Среднее значения столбца days_exposition - 128.4 \n",
      "\n",
      "Медианное значение столбца days_exposition - 85.0\n"
     ]
    },
    {
     "data": {
      "image/png": "[encoded data removed]",
      "text/plain": [
       "<Figure size 720x720 with 1 Axes>"
      ]
     },
     "metadata": {
      "needs_background": "light"
     },
     "output_type": "display_data"
    },
    {
     "name": "stdout",
     "output_type": "stream",
     "text": [
      "\n",
      "Среднее значения столбца price_per_meter - 93773.46 \n",
      "\n",
      "Медианное значение столбца price_per_meter - 93913.04\n"
     ]
    }
   ],
   "source": [
    "draw_columns = ['total_area_m2','last_price','days_exposition','price_per_meter']\n",
    "\n",
    "for i in draw_columns:\n",
    "    delete_outliers(df,i,1,10,10)\n",
    "    plt.title(i)\n",
    "    plt.show()\n",
    "    print()\n",
    "    print(f'Среднее значения столбца {i} - {round(delete_outliers(df,i,0)[i].mean(),2)} ')\n",
    "    print()\n",
    "    print(f'Медианное значение столбца {i} - {delete_outliers(df,i,0)[i].median()}')"
   ]
  },
  {
   "cell_type": "code",
   "execution_count": 75,
   "metadata": {},
   "outputs": [
    {
     "data": {
      "text/plain": [
       "93773.45889844334"
      ]
     },
     "execution_count": 75,
     "metadata": {},
     "output_type": "execute_result"
    }
   ],
   "source": [
    "delete_outliers(df,'price_per_meter',0)['price_per_meter'].mean()"
   ]
  },
  {
   "cell_type": "code",
   "execution_count": 76,
   "metadata": {},
   "outputs": [
    {
     "data": {
      "text/plain": [
       "93913.04"
      ]
     },
     "execution_count": 76,
     "metadata": {},
     "output_type": "execute_result"
    }
   ],
   "source": [
    "delete_outliers(df,'price_per_meter',0)['price_per_meter'].median()"
   ]
  },
  {
   "cell_type": "code",
   "execution_count": 77,
   "metadata": {},
   "outputs": [
    {
     "data": {
      "text/html": [
       "<div>\n",
       "<style scoped>\n",
       "    .dataframe tbody tr th:only-of-type {\n",
       "        vertical-align: middle;\n",
       "    }\n",
       "\n",
       "    .dataframe tbody tr th {\n",
       "        vertical-align: top;\n",
       "    }\n",
       "\n",
       "    .dataframe thead th {\n",
       "        text-align: right;\n",
       "    }\n",
       "</style>\n",
       "<table border=\"1\" class=\"dataframe\">\n",
       "  <thead>\n",
       "    <tr style=\"text-align: right;\">\n",
       "      <th></th>\n",
       "      <th>locality_name</th>\n",
       "      <th>is_apartment</th>\n",
       "      <th>is_studio</th>\n",
       "      <th>is_open_plan</th>\n",
       "      <th>total_rooms</th>\n",
       "      <th>floor</th>\n",
       "      <th>total_house_floors</th>\n",
       "      <th>total_area_m2</th>\n",
       "      <th>living_area_m2</th>\n",
       "      <th>kitchen_area_m2</th>\n",
       "      <th>...</th>\n",
       "      <th>month_exposition</th>\n",
       "      <th>year_exposition</th>\n",
       "      <th>city_center_distance_km</th>\n",
       "      <th>nearest_airport_distance_km</th>\n",
       "      <th>nearest_park_distance_km</th>\n",
       "      <th>nearest_pond_distance_km</th>\n",
       "      <th>floor_status</th>\n",
       "      <th>price_per_meter</th>\n",
       "      <th>living_area_ratio</th>\n",
       "      <th>kitchen_area_ratio</th>\n",
       "    </tr>\n",
       "  </thead>\n",
       "  <tbody>\n",
       "    <tr>\n",
       "      <th>0</th>\n",
       "      <td>Санкт-Петербург</td>\n",
       "      <td>False</td>\n",
       "      <td>False</td>\n",
       "      <td>False</td>\n",
       "      <td>3</td>\n",
       "      <td>8</td>\n",
       "      <td>16.0</td>\n",
       "      <td>108.0</td>\n",
       "      <td>51.0</td>\n",
       "      <td>25.0</td>\n",
       "      <td>...</td>\n",
       "      <td>March</td>\n",
       "      <td>2019</td>\n",
       "      <td>16.028</td>\n",
       "      <td>18.863</td>\n",
       "      <td>0.482</td>\n",
       "      <td>0.755</td>\n",
       "      <td>другой</td>\n",
       "      <td>120370.37</td>\n",
       "      <td>0.47</td>\n",
       "      <td>0.23</td>\n",
       "    </tr>\n",
       "    <tr>\n",
       "      <th>1</th>\n",
       "      <td>поселок Шушары</td>\n",
       "      <td>False</td>\n",
       "      <td>False</td>\n",
       "      <td>False</td>\n",
       "      <td>1</td>\n",
       "      <td>1</td>\n",
       "      <td>11.0</td>\n",
       "      <td>40.4</td>\n",
       "      <td>18.6</td>\n",
       "      <td>11.0</td>\n",
       "      <td>...</td>\n",
       "      <td>December</td>\n",
       "      <td>2018</td>\n",
       "      <td>18.603</td>\n",
       "      <td>12.817</td>\n",
       "      <td>NaN</td>\n",
       "      <td>NaN</td>\n",
       "      <td>первый</td>\n",
       "      <td>82920.79</td>\n",
       "      <td>0.46</td>\n",
       "      <td>0.27</td>\n",
       "    </tr>\n",
       "    <tr>\n",
       "      <th>2</th>\n",
       "      <td>Санкт-Петербург</td>\n",
       "      <td>False</td>\n",
       "      <td>False</td>\n",
       "      <td>False</td>\n",
       "      <td>2</td>\n",
       "      <td>4</td>\n",
       "      <td>5.0</td>\n",
       "      <td>56.0</td>\n",
       "      <td>34.3</td>\n",
       "      <td>8.3</td>\n",
       "      <td>...</td>\n",
       "      <td>August</td>\n",
       "      <td>2015</td>\n",
       "      <td>13.933</td>\n",
       "      <td>21.741</td>\n",
       "      <td>0.090</td>\n",
       "      <td>0.574</td>\n",
       "      <td>другой</td>\n",
       "      <td>92785.71</td>\n",
       "      <td>0.61</td>\n",
       "      <td>0.15</td>\n",
       "    </tr>\n",
       "    <tr>\n",
       "      <th>3</th>\n",
       "      <td>Санкт-Петербург</td>\n",
       "      <td>False</td>\n",
       "      <td>False</td>\n",
       "      <td>False</td>\n",
       "      <td>3</td>\n",
       "      <td>9</td>\n",
       "      <td>14.0</td>\n",
       "      <td>159.0</td>\n",
       "      <td>NaN</td>\n",
       "      <td>NaN</td>\n",
       "      <td>...</td>\n",
       "      <td>July</td>\n",
       "      <td>2015</td>\n",
       "      <td>6.800</td>\n",
       "      <td>28.098</td>\n",
       "      <td>0.084</td>\n",
       "      <td>0.234</td>\n",
       "      <td>другой</td>\n",
       "      <td>408176.10</td>\n",
       "      <td>NaN</td>\n",
       "      <td>NaN</td>\n",
       "    </tr>\n",
       "    <tr>\n",
       "      <th>4</th>\n",
       "      <td>Санкт-Петербург</td>\n",
       "      <td>False</td>\n",
       "      <td>False</td>\n",
       "      <td>False</td>\n",
       "      <td>2</td>\n",
       "      <td>13</td>\n",
       "      <td>14.0</td>\n",
       "      <td>100.0</td>\n",
       "      <td>32.0</td>\n",
       "      <td>41.0</td>\n",
       "      <td>...</td>\n",
       "      <td>June</td>\n",
       "      <td>2018</td>\n",
       "      <td>8.098</td>\n",
       "      <td>31.856</td>\n",
       "      <td>0.112</td>\n",
       "      <td>0.048</td>\n",
       "      <td>другой</td>\n",
       "      <td>100000.00</td>\n",
       "      <td>0.32</td>\n",
       "      <td>0.41</td>\n",
       "    </tr>\n",
       "  </tbody>\n",
       "</table>\n",
       "<p>5 rows × 30 columns</p>\n",
       "</div>"
      ],
      "text/plain": [
       "     locality_name  is_apartment  is_studio  is_open_plan  total_rooms  floor  \\\n",
       "0  Санкт-Петербург         False      False         False            3      8   \n",
       "1   поселок Шушары         False      False         False            1      1   \n",
       "2  Санкт-Петербург         False      False         False            2      4   \n",
       "3  Санкт-Петербург         False      False         False            3      9   \n",
       "4  Санкт-Петербург         False      False         False            2     13   \n",
       "\n",
       "   total_house_floors  total_area_m2  living_area_m2  kitchen_area_m2  ...  \\\n",
       "0                16.0          108.0            51.0             25.0  ...   \n",
       "1                11.0           40.4            18.6             11.0  ...   \n",
       "2                 5.0           56.0            34.3              8.3  ...   \n",
       "3                14.0          159.0             NaN              NaN  ...   \n",
       "4                14.0          100.0            32.0             41.0  ...   \n",
       "\n",
       "   month_exposition  year_exposition city_center_distance_km  \\\n",
       "0             March             2019                  16.028   \n",
       "1          December             2018                  18.603   \n",
       "2            August             2015                  13.933   \n",
       "3              July             2015                   6.800   \n",
       "4              June             2018                   8.098   \n",
       "\n",
       "   nearest_airport_distance_km  nearest_park_distance_km  \\\n",
       "0                       18.863                     0.482   \n",
       "1                       12.817                       NaN   \n",
       "2                       21.741                     0.090   \n",
       "3                       28.098                     0.084   \n",
       "4                       31.856                     0.112   \n",
       "\n",
       "   nearest_pond_distance_km  floor_status  price_per_meter living_area_ratio  \\\n",
       "0                     0.755        другой        120370.37              0.47   \n",
       "1                       NaN        первый         82920.79              0.46   \n",
       "2                     0.574        другой         92785.71              0.61   \n",
       "3                     0.234        другой        408176.10               NaN   \n",
       "4                     0.048        другой        100000.00              0.32   \n",
       "\n",
       "  kitchen_area_ratio  \n",
       "0               0.23  \n",
       "1               0.27  \n",
       "2               0.15  \n",
       "3                NaN  \n",
       "4               0.41  \n",
       "\n",
       "[5 rows x 30 columns]"
      ]
     },
     "execution_count": 77,
     "metadata": {},
     "output_type": "execute_result"
    }
   ],
   "source": [
    "df.head()"
   ]
  },
  {
   "cell_type": "code",
   "execution_count": 78,
   "metadata": {},
   "outputs": [
    {
     "data": {
      "text/html": [
       "<style  type=\"text/css\" >\n",
       "#T_26fec_row0_col0,#T_26fec_row1_col1,#T_26fec_row2_col2,#T_26fec_row3_col3,#T_26fec_row4_col4{\n",
       "            background-color:  #ff00ff;\n",
       "            color:  #f1f1f1;\n",
       "        }#T_26fec_row0_col1,#T_26fec_row1_col3{\n",
       "            background-color:  #32cdff;\n",
       "            color:  #000000;\n",
       "        }#T_26fec_row0_col2{\n",
       "            background-color:  #7887ff;\n",
       "            color:  #000000;\n",
       "        }#T_26fec_row0_col3{\n",
       "            background-color:  #11eeff;\n",
       "            color:  #000000;\n",
       "        }#T_26fec_row0_col4{\n",
       "            background-color:  #cb34ff;\n",
       "            color:  #f1f1f1;\n",
       "        }#T_26fec_row1_col0{\n",
       "            background-color:  #4fb0ff;\n",
       "            color:  #000000;\n",
       "        }#T_26fec_row1_col2{\n",
       "            background-color:  #47b8ff;\n",
       "            color:  #000000;\n",
       "        }#T_26fec_row1_col4{\n",
       "            background-color:  #43bcff;\n",
       "            color:  #000000;\n",
       "        }#T_26fec_row2_col0{\n",
       "            background-color:  #6e91ff;\n",
       "            color:  #000000;\n",
       "        }#T_26fec_row2_col1{\n",
       "            background-color:  #1ae5ff;\n",
       "            color:  #000000;\n",
       "        }#T_26fec_row2_col3,#T_26fec_row3_col0,#T_26fec_row3_col1,#T_26fec_row3_col2,#T_26fec_row3_col4{\n",
       "            background-color:  #00ffff;\n",
       "            color:  #000000;\n",
       "        }#T_26fec_row2_col4{\n",
       "            background-color:  #34cbff;\n",
       "            color:  #000000;\n",
       "        }#T_26fec_row4_col0{\n",
       "            background-color:  #ce31ff;\n",
       "            color:  #f1f1f1;\n",
       "        }#T_26fec_row4_col1{\n",
       "            background-color:  #2dd2ff;\n",
       "            color:  #000000;\n",
       "        }#T_26fec_row4_col2{\n",
       "            background-color:  #49b6ff;\n",
       "            color:  #000000;\n",
       "        }#T_26fec_row4_col3{\n",
       "            background-color:  #1be4ff;\n",
       "            color:  #000000;\n",
       "        }</style><table id=\"T_26fec_\" ><thead>    <tr>        <th class=\"blank level0\" ></th>        <th class=\"col_heading level0 col0\" >total_area_m2</th>        <th class=\"col_heading level0 col1\" >days_exposition</th>        <th class=\"col_heading level0 col2\" >price_per_meter</th>        <th class=\"col_heading level0 col3\" >city_center_distance_km</th>        <th class=\"col_heading level0 col4\" >total_rooms</th>    </tr></thead><tbody>\n",
       "                <tr>\n",
       "                        <th id=\"T_26fec_level0_row0\" class=\"row_heading level0 row0\" >total_area_m2</th>\n",
       "                        <td id=\"T_26fec_row0_col0\" class=\"data row0 col0\" >1.000000</td>\n",
       "                        <td id=\"T_26fec_row0_col1\" class=\"data row0 col1\" >0.150000</td>\n",
       "                        <td id=\"T_26fec_row0_col2\" class=\"data row0 col2\" >0.300000</td>\n",
       "                        <td id=\"T_26fec_row0_col3\" class=\"data row0 col3\" >-0.230000</td>\n",
       "                        <td id=\"T_26fec_row0_col4\" class=\"data row0 col4\" >0.760000</td>\n",
       "            </tr>\n",
       "            <tr>\n",
       "                        <th id=\"T_26fec_level0_row1\" class=\"row_heading level0 row1\" >days_exposition</th>\n",
       "                        <td id=\"T_26fec_row1_col0\" class=\"data row1 col0\" >0.150000</td>\n",
       "                        <td id=\"T_26fec_row1_col1\" class=\"data row1 col1\" >1.000000</td>\n",
       "                        <td id=\"T_26fec_row1_col2\" class=\"data row1 col2\" >0.050000</td>\n",
       "                        <td id=\"T_26fec_row1_col3\" class=\"data row1 col3\" >-0.060000</td>\n",
       "                        <td id=\"T_26fec_row1_col4\" class=\"data row1 col4\" >0.130000</td>\n",
       "            </tr>\n",
       "            <tr>\n",
       "                        <th id=\"T_26fec_level0_row2\" class=\"row_heading level0 row2\" >price_per_meter</th>\n",
       "                        <td id=\"T_26fec_row2_col0\" class=\"data row2 col0\" >0.300000</td>\n",
       "                        <td id=\"T_26fec_row2_col1\" class=\"data row2 col1\" >0.050000</td>\n",
       "                        <td id=\"T_26fec_row2_col2\" class=\"data row2 col2\" >1.000000</td>\n",
       "                        <td id=\"T_26fec_row2_col3\" class=\"data row2 col3\" >-0.320000</td>\n",
       "                        <td id=\"T_26fec_row2_col4\" class=\"data row2 col4\" >0.060000</td>\n",
       "            </tr>\n",
       "            <tr>\n",
       "                        <th id=\"T_26fec_level0_row3\" class=\"row_heading level0 row3\" >city_center_distance_km</th>\n",
       "                        <td id=\"T_26fec_row3_col0\" class=\"data row3 col0\" >-0.230000</td>\n",
       "                        <td id=\"T_26fec_row3_col1\" class=\"data row3 col1\" >-0.060000</td>\n",
       "                        <td id=\"T_26fec_row3_col2\" class=\"data row3 col2\" >-0.320000</td>\n",
       "                        <td id=\"T_26fec_row3_col3\" class=\"data row3 col3\" >1.000000</td>\n",
       "                        <td id=\"T_26fec_row3_col4\" class=\"data row3 col4\" >-0.180000</td>\n",
       "            </tr>\n",
       "            <tr>\n",
       "                        <th id=\"T_26fec_level0_row4\" class=\"row_heading level0 row4\" >total_rooms</th>\n",
       "                        <td id=\"T_26fec_row4_col0\" class=\"data row4 col0\" >0.760000</td>\n",
       "                        <td id=\"T_26fec_row4_col1\" class=\"data row4 col1\" >0.130000</td>\n",
       "                        <td id=\"T_26fec_row4_col2\" class=\"data row4 col2\" >0.060000</td>\n",
       "                        <td id=\"T_26fec_row4_col3\" class=\"data row4 col3\" >-0.180000</td>\n",
       "                        <td id=\"T_26fec_row4_col4\" class=\"data row4 col4\" >1.000000</td>\n",
       "            </tr>\n",
       "    </tbody></table>"
      ],
      "text/plain": [
       "<pandas.io.formats.style.Styler at 0x2805e7fa370>"
      ]
     },
     "execution_count": 78,
     "metadata": {},
     "output_type": "execute_result"
    }
   ],
   "source": [
    "corr = round(df[['total_area_m2',\\\n",
    "           'days_exposition',\\\n",
    "           'price_per_meter', \\\n",
    "           'city_center_distance_km', \\\n",
    "           'total_rooms']].corr(),2)\n",
    "corr.style.background_gradient(cmap='cool')"
   ]
  },
  {
   "cell_type": "markdown",
   "metadata": {},
   "source": [
    "The cost per square meter of real estate correlates most strongly with the total area, although the correlation coefficient is quite low. It should also be noted that there is a negative correlation between the cost per square meter and the distance to the city center, this is logical (the closer to the center, the more expensive the square meter)."
   ]
  },
  {
   "cell_type": "code",
   "execution_count": 79,
   "metadata": {},
   "outputs": [
    {
     "data": {
      "image/png": "[encoded data removed]",
      "text/plain": [
       "<Figure size 720x720 with 1 Axes>"
      ]
     },
     "metadata": {
      "needs_background": "light"
     },
     "output_type": "display_data"
    }
   ],
   "source": [
    "plot=df.boxplot('price_per_meter', by='weekday_exposition', figsize=(10,10)).set_ylim(0,200000)"
   ]
  },
  {
   "cell_type": "code",
   "execution_count": 80,
   "metadata": {
    "scrolled": true
   },
   "outputs": [
    {
     "data": {
      "image/png": "[encoded data removed]",
      "text/plain": [
       "<Figure size 720x720 with 1 Axes>"
      ]
     },
     "metadata": {
      "needs_background": "light"
     },
     "output_type": "display_data"
    }
   ],
   "source": [
    "plot=df.boxplot('price_per_meter', by='month_exposition', figsize=(10,10)).set_ylim(0,200000)"
   ]
  },
  {
   "cell_type": "code",
   "execution_count": 81,
   "metadata": {
    "scrolled": true
   },
   "outputs": [
    {
     "data": {
      "image/png": "[encoded data removed]",
      "text/plain": [
       "<Figure size 720x720 with 1 Axes>"
      ]
     },
     "metadata": {
      "needs_background": "light"
     },
     "output_type": "display_data"
    }
   ],
   "source": [
    "plot=df.boxplot('price_per_meter', by='year_exposition', figsize=(10,10)).set_ylim(0,200000)"
   ]
  },
  {
   "cell_type": "code",
   "execution_count": 82,
   "metadata": {},
   "outputs": [
    {
     "data": {
      "image/png": "[encoded data removed]",
      "text/plain": [
       "<Figure size 720x720 with 1 Axes>"
      ]
     },
     "metadata": {
      "needs_background": "light"
     },
     "output_type": "display_data"
    }
   ],
   "source": [
    "plot=df.boxplot('price_per_meter', by='floor_status', figsize=(10,10)).set_ylim(0,200000)"
   ]
  },
  {
   "cell_type": "code",
   "execution_count": 83,
   "metadata": {},
   "outputs": [
    {
     "data": {
      "text/plain": [
       "(0.0, 200000.0)"
      ]
     },
     "execution_count": 83,
     "metadata": {},
     "output_type": "execute_result"
    },
    {
     "data": {
      "image/png": "[encoded data removed]",
      "text/plain": [
       "<Figure size 720x720 with 1 Axes>"
      ]
     },
     "metadata": {
      "needs_background": "light"
     },
     "output_type": "display_data"
    }
   ],
   "source": [
    "delete_outliers(df,'price_per_meter',0).boxplot('price_per_meter', by='floor_status',figsize=(10,10)).set_ylim(0,200000)"
   ]
  },
  {
   "cell_type": "markdown",
   "metadata": {},
   "source": [
    "Let's define 10 localities with the largest number of ads. All localities other than St. Petersburg will be considered a suburb"
   ]
  },
  {
   "cell_type": "code",
   "execution_count": 84,
   "metadata": {},
   "outputs": [
    {
     "data": {
      "text/plain": [
       "Санкт-Петербург      66.473573\n",
       "поселок Мурино        2.350951\n",
       "поселок Шушары        1.860465\n",
       "Всеволожск            1.682875\n",
       "Пушкин                1.560254\n",
       "Колпино               1.429175\n",
       "поселок Парголово     1.382664\n",
       "Гатчина               1.298097\n",
       "деревня Кудрово       1.264271\n",
       "Выборг                1.002114\n",
       "Name: locality_name, dtype: float64"
      ]
     },
     "execution_count": 84,
     "metadata": {},
     "output_type": "execute_result"
    }
   ],
   "source": [
    "(df['locality_name'].value_counts() / len(df) * 100).head(10)"
   ]
  },
  {
   "cell_type": "code",
   "execution_count": 85,
   "metadata": {},
   "outputs": [
    {
     "data": {
      "text/html": [
       "<div>\n",
       "<style scoped>\n",
       "    .dataframe tbody tr th:only-of-type {\n",
       "        vertical-align: middle;\n",
       "    }\n",
       "\n",
       "    .dataframe tbody tr th {\n",
       "        vertical-align: top;\n",
       "    }\n",
       "\n",
       "    .dataframe thead th {\n",
       "        text-align: right;\n",
       "    }\n",
       "</style>\n",
       "<table border=\"1\" class=\"dataframe\">\n",
       "  <thead>\n",
       "    <tr style=\"text-align: right;\">\n",
       "      <th></th>\n",
       "      <th>price_per_meter</th>\n",
       "    </tr>\n",
       "    <tr>\n",
       "      <th>locality_name</th>\n",
       "      <th></th>\n",
       "    </tr>\n",
       "  </thead>\n",
       "  <tbody>\n",
       "    <tr>\n",
       "      <th>Зеленогорск</th>\n",
       "      <td>115122.80</td>\n",
       "    </tr>\n",
       "    <tr>\n",
       "      <th>Санкт-Петербург</th>\n",
       "      <td>114849.01</td>\n",
       "    </tr>\n",
       "    <tr>\n",
       "      <th>поселок Репино</th>\n",
       "      <td>104238.61</td>\n",
       "    </tr>\n",
       "    <tr>\n",
       "      <th>Пушкин</th>\n",
       "      <td>103125.82</td>\n",
       "    </tr>\n",
       "    <tr>\n",
       "      <th>Сестрорецк</th>\n",
       "      <td>101757.62</td>\n",
       "    </tr>\n",
       "    <tr>\n",
       "      <th>поселок Лисий Нос</th>\n",
       "      <td>100660.82</td>\n",
       "    </tr>\n",
       "    <tr>\n",
       "      <th>Кудрово</th>\n",
       "      <td>100253.04</td>\n",
       "    </tr>\n",
       "    <tr>\n",
       "      <th>деревня Мистолово</th>\n",
       "      <td>98549.98</td>\n",
       "    </tr>\n",
       "    <tr>\n",
       "      <th>поселок Левашово</th>\n",
       "      <td>96997.69</td>\n",
       "    </tr>\n",
       "    <tr>\n",
       "      <th>Мурино</th>\n",
       "      <td>92722.71</td>\n",
       "    </tr>\n",
       "  </tbody>\n",
       "</table>\n",
       "</div>"
      ],
      "text/plain": [
       "                   price_per_meter\n",
       "locality_name                     \n",
       "Зеленогорск              115122.80\n",
       "Санкт-Петербург          114849.01\n",
       "поселок Репино           104238.61\n",
       "Пушкин                   103125.82\n",
       "Сестрорецк               101757.62\n",
       "поселок Лисий Нос        100660.82\n",
       "Кудрово                  100253.04\n",
       "деревня Мистолово         98549.98\n",
       "поселок Левашово          96997.69\n",
       "Мурино                    92722.71"
      ]
     },
     "execution_count": 85,
     "metadata": {},
     "output_type": "execute_result"
    }
   ],
   "source": [
    "round(df.groupby('locality_name').agg({'price_per_meter':'mean'}),2).sort_values(by='price_per_meter', ascending=False).head(10)"
   ]
  },
  {
   "cell_type": "markdown",
   "metadata": {},
   "source": [
    "We will introduce an additional column, which will reflect whether the locality belongs to St. Petersburg or not."
   ]
  },
  {
   "cell_type": "code",
   "execution_count": 86,
   "metadata": {},
   "outputs": [],
   "source": [
    "def is_spb(row):\n",
    "    if row['locality_name'] == 'Санкт-Петербург':\n",
    "        return True\n",
    "    else:\n",
    "        return False\n",
    "    \n",
    "df['is_spb'] = df.apply(is_spb,axis=1)\n",
    "    "
   ]
  },
  {
   "cell_type": "code",
   "execution_count": 87,
   "metadata": {},
   "outputs": [
    {
     "data": {
      "text/html": [
       "<div>\n",
       "<style scoped>\n",
       "    .dataframe tbody tr th:only-of-type {\n",
       "        vertical-align: middle;\n",
       "    }\n",
       "\n",
       "    .dataframe tbody tr th {\n",
       "        vertical-align: top;\n",
       "    }\n",
       "\n",
       "    .dataframe thead th {\n",
       "        text-align: right;\n",
       "    }\n",
       "</style>\n",
       "<table border=\"1\" class=\"dataframe\">\n",
       "  <thead>\n",
       "    <tr style=\"text-align: right;\">\n",
       "      <th></th>\n",
       "      <th>price_per_meter</th>\n",
       "    </tr>\n",
       "    <tr>\n",
       "      <th>is_spb</th>\n",
       "      <th></th>\n",
       "    </tr>\n",
       "  </thead>\n",
       "  <tbody>\n",
       "    <tr>\n",
       "      <th>False</th>\n",
       "      <td>68865.10</td>\n",
       "    </tr>\n",
       "    <tr>\n",
       "      <th>True</th>\n",
       "      <td>114849.01</td>\n",
       "    </tr>\n",
       "  </tbody>\n",
       "</table>\n",
       "</div>"
      ],
      "text/plain": [
       "        price_per_meter\n",
       "is_spb                 \n",
       "False          68865.10\n",
       "True          114849.01"
      ]
     },
     "metadata": {},
     "output_type": "display_data"
    }
   ],
   "source": [
    "display(round(df.groupby('is_spb').agg({'price_per_meter':'mean'}),2).sort_values(by='price_per_meter'))"
   ]
  },
  {
   "cell_type": "markdown",
   "metadata": {},
   "source": []
  },
  {
   "cell_type": "code",
   "execution_count": 88,
   "metadata": {},
   "outputs": [
    {
     "data": {
      "text/html": [
       "<div>\n",
       "<style scoped>\n",
       "    .dataframe tbody tr th:only-of-type {\n",
       "        vertical-align: middle;\n",
       "    }\n",
       "\n",
       "    .dataframe tbody tr th {\n",
       "        vertical-align: top;\n",
       "    }\n",
       "\n",
       "    .dataframe thead th {\n",
       "        text-align: right;\n",
       "    }\n",
       "</style>\n",
       "<table border=\"1\" class=\"dataframe\">\n",
       "  <thead>\n",
       "    <tr style=\"text-align: right;\">\n",
       "      <th></th>\n",
       "      <th>price_per_meter</th>\n",
       "    </tr>\n",
       "    <tr>\n",
       "      <th>is_spb</th>\n",
       "      <th></th>\n",
       "    </tr>\n",
       "  </thead>\n",
       "  <tbody>\n",
       "    <tr>\n",
       "      <th>False</th>\n",
       "      <td>68728.52</td>\n",
       "    </tr>\n",
       "    <tr>\n",
       "      <th>True</th>\n",
       "      <td>104761.90</td>\n",
       "    </tr>\n",
       "  </tbody>\n",
       "</table>\n",
       "</div>"
      ],
      "text/plain": [
       "        price_per_meter\n",
       "is_spb                 \n",
       "False          68728.52\n",
       "True          104761.90"
      ]
     },
     "metadata": {},
     "output_type": "display_data"
    }
   ],
   "source": [
    "display(round(df.groupby('is_spb').agg({'price_per_meter':'median'}),2).sort_values(by='price_per_meter'))"
   ]
  },
  {
   "cell_type": "code",
   "execution_count": 89,
   "metadata": {},
   "outputs": [
    {
     "data": {
      "text/plain": [
       "(0.0, 200000.0)"
      ]
     },
     "execution_count": 89,
     "metadata": {},
     "output_type": "execute_result"
    },
    {
     "data": {
      "image/png": "[encoded data removed]",
      "text/plain": [
       "<Figure size 720x720 with 1 Axes>"
      ]
     },
     "metadata": {
      "needs_background": "light"
     },
     "output_type": "display_data"
    }
   ],
   "source": [
    "plot = df.boxplot('price_per_meter', by='is_spb', figsize=(10,10))\n",
    "plot.set_ylim(0,200000)"
   ]
  },
  {
   "cell_type": "code",
   "execution_count": 90,
   "metadata": {},
   "outputs": [],
   "source": [
    "top_10_df = df.groupby('locality_name').agg({'is_spb':'count','price_per_meter':'mean'})\n",
    "top_10_df = top_10_df.sort_values('is_spb', ascending=False).head(10)"
   ]
  },
  {
   "cell_type": "code",
   "execution_count": 91,
   "metadata": {},
   "outputs": [
    {
     "data": {
      "text/html": [
       "<div>\n",
       "<style scoped>\n",
       "    .dataframe tbody tr th:only-of-type {\n",
       "        vertical-align: middle;\n",
       "    }\n",
       "\n",
       "    .dataframe tbody tr th {\n",
       "        vertical-align: top;\n",
       "    }\n",
       "\n",
       "    .dataframe thead th {\n",
       "        text-align: right;\n",
       "    }\n",
       "</style>\n",
       "<table border=\"1\" class=\"dataframe\">\n",
       "  <thead>\n",
       "    <tr style=\"text-align: right;\">\n",
       "      <th></th>\n",
       "      <th>is_spb</th>\n",
       "      <th>price_per_meter</th>\n",
       "    </tr>\n",
       "    <tr>\n",
       "      <th>locality_name</th>\n",
       "      <th></th>\n",
       "      <th></th>\n",
       "    </tr>\n",
       "  </thead>\n",
       "  <tbody>\n",
       "    <tr>\n",
       "      <th>Санкт-Петербург</th>\n",
       "      <td>15721</td>\n",
       "      <td>114849.008793</td>\n",
       "    </tr>\n",
       "    <tr>\n",
       "      <th>Пушкин</th>\n",
       "      <td>369</td>\n",
       "      <td>103125.819377</td>\n",
       "    </tr>\n",
       "    <tr>\n",
       "      <th>деревня Кудрово</th>\n",
       "      <td>299</td>\n",
       "      <td>92473.547559</td>\n",
       "    </tr>\n",
       "    <tr>\n",
       "      <th>поселок Парголово</th>\n",
       "      <td>327</td>\n",
       "      <td>90175.913089</td>\n",
       "    </tr>\n",
       "    <tr>\n",
       "      <th>поселок Мурино</th>\n",
       "      <td>556</td>\n",
       "      <td>85681.762572</td>\n",
       "    </tr>\n",
       "    <tr>\n",
       "      <th>поселок Шушары</th>\n",
       "      <td>440</td>\n",
       "      <td>78677.364318</td>\n",
       "    </tr>\n",
       "    <tr>\n",
       "      <th>Колпино</th>\n",
       "      <td>338</td>\n",
       "      <td>75424.579112</td>\n",
       "    </tr>\n",
       "    <tr>\n",
       "      <th>Гатчина</th>\n",
       "      <td>307</td>\n",
       "      <td>68746.146515</td>\n",
       "    </tr>\n",
       "    <tr>\n",
       "      <th>Всеволожск</th>\n",
       "      <td>398</td>\n",
       "      <td>68654.473970</td>\n",
       "    </tr>\n",
       "    <tr>\n",
       "      <th>Выборг</th>\n",
       "      <td>237</td>\n",
       "      <td>58141.909325</td>\n",
       "    </tr>\n",
       "  </tbody>\n",
       "</table>\n",
       "</div>"
      ],
      "text/plain": [
       "                   is_spb  price_per_meter\n",
       "locality_name                             \n",
       "Санкт-Петербург     15721    114849.008793\n",
       "Пушкин                369    103125.819377\n",
       "деревня Кудрово       299     92473.547559\n",
       "поселок Парголово     327     90175.913089\n",
       "поселок Мурино        556     85681.762572\n",
       "поселок Шушары        440     78677.364318\n",
       "Колпино               338     75424.579112\n",
       "Гатчина               307     68746.146515\n",
       "Всеволожск            398     68654.473970\n",
       "Выборг                237     58141.909325"
      ]
     },
     "execution_count": 91,
     "metadata": {},
     "output_type": "execute_result"
    }
   ],
   "source": [
    "top_10_df.sort_values('price_per_meter', ascending=False).head(10)"
   ]
  },
  {
   "cell_type": "code",
   "execution_count": 92,
   "metadata": {},
   "outputs": [
    {
     "data": {
      "text/plain": [
       "<AxesSubplot:ylabel='locality_name'>"
      ]
     },
     "execution_count": 92,
     "metadata": {},
     "output_type": "execute_result"
    },
    {
     "data": {
      "image/png": "[encoded data removed]",
      "text/plain": [
       "<Figure size 432x288 with 1 Axes>"
      ]
     },
     "metadata": {
      "needs_background": "light"
     },
     "output_type": "display_data"
    }
   ],
   "source": [
    "top_10_df.sort_values('price_per_meter', ascending=True)\\\n",
    "    .drop('is_spb', axis=1).plot(kind='barh')"
   ]
  },
  {
   "cell_type": "code",
   "execution_count": 93,
   "metadata": {},
   "outputs": [],
   "source": [
    "top_10_list = top_10_df.reset_index().locality_name.to_list()"
   ]
  },
  {
   "cell_type": "code",
   "execution_count": 94,
   "metadata": {},
   "outputs": [
    {
     "data": {
      "text/plain": [
       "['Санкт-Петербург',\n",
       " 'поселок Мурино',\n",
       " 'поселок Шушары',\n",
       " 'Всеволожск',\n",
       " 'Пушкин',\n",
       " 'Колпино',\n",
       " 'поселок Парголово',\n",
       " 'Гатчина',\n",
       " 'деревня Кудрово',\n",
       " 'Выборг']"
      ]
     },
     "execution_count": 94,
     "metadata": {},
     "output_type": "execute_result"
    }
   ],
   "source": [
    "top_10_list"
   ]
  },
  {
   "cell_type": "code",
   "execution_count": 95,
   "metadata": {},
   "outputs": [
    {
     "data": {
      "image/png": "[encoded data removed]",
      "text/plain": [
       "<Figure size 1440x1080 with 1 Axes>"
      ]
     },
     "metadata": {
      "needs_background": "light"
     },
     "output_type": "display_data"
    }
   ],
   "source": [
    "plot = df[df.locality_name.isin(top_10_list)]\\\n",
    "    .boxplot('price_per_meter', by='locality_name',figsize=(20,15))\\\n",
    "    .set_ylim(0,200000)"
   ]
  },
  {
   "cell_type": "markdown",
   "metadata": {},
   "source": [
    "The cost of housing outside of St. Petersburg is lower than in the city."
   ]
  },
  {
   "cell_type": "markdown",
   "metadata": {},
   "source": [
    "Let's highlight the categories of apartments in the center (taking into account the area, number of rooms, distance from the center and cost)"
   ]
  },
  {
   "cell_type": "code",
   "execution_count": 96,
   "metadata": {},
   "outputs": [
    {
     "data": {
      "text/plain": [
       "23.3"
      ]
     },
     "execution_count": 96,
     "metadata": {},
     "output_type": "execute_result"
    }
   ],
   "source": [
    "round(df['city_center_distance_km'].isna().sum() / len(df) * 100, 2)"
   ]
  },
  {
   "cell_type": "markdown",
   "metadata": {},
   "source": [
    "23.3 percent of the rows in the city_center_distance_km column are empty. It is not possible to fill in any values. We will allocate these values to a separate dataframe for further analysis"
   ]
  },
  {
   "cell_type": "code",
   "execution_count": 97,
   "metadata": {},
   "outputs": [],
   "source": [
    "city_center_df = df.dropna(subset=['city_center_distance_km'])"
   ]
  },
  {
   "cell_type": "code",
   "execution_count": 98,
   "metadata": {},
   "outputs": [
    {
     "name": "stdout",
     "output_type": "stream",
     "text": [
      "<class 'pandas.core.frame.DataFrame'>\n",
      "Int64Index: 18139 entries, 0 to 23697\n",
      "Data columns (total 31 columns):\n",
      " #   Column                       Non-Null Count  Dtype         \n",
      "---  ------                       --------------  -----         \n",
      " 0   locality_name                18139 non-null  object        \n",
      " 1   is_apartment                 18139 non-null  bool          \n",
      " 2   is_studio                    18139 non-null  bool          \n",
      " 3   is_open_plan                 18139 non-null  bool          \n",
      " 4   total_rooms                  18139 non-null  int64         \n",
      " 5   floor                        18139 non-null  int64         \n",
      " 6   total_house_floors           18064 non-null  float64       \n",
      " 7   total_area_m2                18139 non-null  float64       \n",
      " 8   living_area_m2               16863 non-null  float64       \n",
      " 9   kitchen_area_m2              16583 non-null  float64       \n",
      " 10  balconies_number             18139 non-null  int64         \n",
      " 11  ceiling_height_m             11548 non-null  float64       \n",
      " 12  first_day_exposition         18139 non-null  datetime64[ns]\n",
      " 13  days_exposition              15824 non-null  float64       \n",
      " 14  last_price                   18139 non-null  float64       \n",
      " 15  total_images                 18139 non-null  int64         \n",
      " 16  parks_number_around_3km      18139 non-null  float64       \n",
      " 17  ponds_number_around_3km      18139 non-null  float64       \n",
      " 18  localuty_name                18139 non-null  object        \n",
      " 19  weekday_exposition           18139 non-null  object        \n",
      " 20  month_exposition             18139 non-null  object        \n",
      " 21  year_exposition              18139 non-null  int64         \n",
      " 22  city_center_distance_km      18139 non-null  float64       \n",
      " 23  nearest_airport_distance_km  18115 non-null  float64       \n",
      " 24  nearest_park_distance_km     8063 non-null   float64       \n",
      " 25  nearest_pond_distance_km     9085 non-null   float64       \n",
      " 26  floor_status                 18139 non-null  object        \n",
      " 27  price_per_meter              18139 non-null  float64       \n",
      " 28  living_area_ratio            16863 non-null  float64       \n",
      " 29  kitchen_area_ratio           16583 non-null  float64       \n",
      " 30  is_spb                       18139 non-null  bool          \n",
      "dtypes: bool(4), datetime64[ns](1), float64(16), int64(5), object(5)\n",
      "memory usage: 3.9+ MB\n"
     ]
    }
   ],
   "source": [
    "city_center_df.info()"
   ]
  },
  {
   "cell_type": "code",
   "execution_count": 99,
   "metadata": {},
   "outputs": [
    {
     "data": {
      "text/plain": [
       "count    18139.00\n",
       "mean        14.20\n",
       "std          8.61\n",
       "min          0.18\n",
       "25%          9.24\n",
       "50%         13.10\n",
       "75%         16.29\n",
       "max         65.97\n",
       "Name: city_center_distance_km, dtype: float64"
      ]
     },
     "execution_count": 99,
     "metadata": {},
     "output_type": "execute_result"
    }
   ],
   "source": [
    "round(city_center_df['city_center_distance_km'].describe(),2)"
   ]
  },
  {
   "cell_type": "markdown",
   "metadata": {},
   "source": [
    "A convenient way of grouping is to select by quantiles. So, 25% of the values in this column are within 9 km. Based on this, we estimate the correlation of this group by the main factors and price"
   ]
  },
  {
   "cell_type": "code",
   "execution_count": 100,
   "metadata": {},
   "outputs": [
    {
     "data": {
      "text/html": [
       "<style  type=\"text/css\" >\n",
       "#T_8d855_row0_col1,#T_8d855_row0_col2{\n",
       "            background-color:  #ff00ff;\n",
       "            color:  #f1f1f1;\n",
       "        }#T_8d855_row1_col1{\n",
       "            background-color:  #cc33ff;\n",
       "            color:  #f1f1f1;\n",
       "        }#T_8d855_row1_col2,#T_8d855_row5_col2{\n",
       "            background-color:  #946bff;\n",
       "            color:  #000000;\n",
       "        }#T_8d855_row2_col1{\n",
       "            background-color:  #ac53ff;\n",
       "            color:  #000000;\n",
       "        }#T_8d855_row2_col2{\n",
       "            background-color:  #d728ff;\n",
       "            color:  #f1f1f1;\n",
       "        }#T_8d855_row3_col1{\n",
       "            background-color:  #9669ff;\n",
       "            color:  #000000;\n",
       "        }#T_8d855_row3_col2{\n",
       "            background-color:  #bc43ff;\n",
       "            color:  #000000;\n",
       "        }#T_8d855_row4_col1{\n",
       "            background-color:  #8d72ff;\n",
       "            color:  #000000;\n",
       "        }#T_8d855_row4_col2{\n",
       "            background-color:  #af50ff;\n",
       "            color:  #000000;\n",
       "        }#T_8d855_row5_col1{\n",
       "            background-color:  #6798ff;\n",
       "            color:  #000000;\n",
       "        }#T_8d855_row6_col1{\n",
       "            background-color:  #35caff;\n",
       "            color:  #000000;\n",
       "        }#T_8d855_row6_col2{\n",
       "            background-color:  #4bb4ff;\n",
       "            color:  #000000;\n",
       "        }#T_8d855_row7_col1{\n",
       "            background-color:  #32cdff;\n",
       "            color:  #000000;\n",
       "        }#T_8d855_row7_col2,#T_8d855_row10_col2,#T_8d855_row19_col2{\n",
       "            background-color:  #33ccff;\n",
       "            color:  #000000;\n",
       "        }#T_8d855_row8_col1{\n",
       "            background-color:  #31ceff;\n",
       "            color:  #000000;\n",
       "        }#T_8d855_row8_col2,#T_8d855_row12_col2{\n",
       "            background-color:  #34cbff;\n",
       "            color:  #000000;\n",
       "        }#T_8d855_row9_col1{\n",
       "            background-color:  #30cfff;\n",
       "            color:  #000000;\n",
       "        }#T_8d855_row9_col2{\n",
       "            background-color:  #3ac5ff;\n",
       "            color:  #000000;\n",
       "        }#T_8d855_row10_col1{\n",
       "            background-color:  #26d9ff;\n",
       "            color:  #000000;\n",
       "        }#T_8d855_row11_col1{\n",
       "            background-color:  #23dcff;\n",
       "            color:  #000000;\n",
       "        }#T_8d855_row11_col2{\n",
       "            background-color:  #38c7ff;\n",
       "            color:  #000000;\n",
       "        }#T_8d855_row12_col1{\n",
       "            background-color:  #21deff;\n",
       "            color:  #000000;\n",
       "        }#T_8d855_row13_col1,#T_8d855_row14_col1{\n",
       "            background-color:  #1fe0ff;\n",
       "            color:  #000000;\n",
       "        }#T_8d855_row13_col2,#T_8d855_row20_col2{\n",
       "            background-color:  #24dbff;\n",
       "            color:  #000000;\n",
       "        }#T_8d855_row14_col2{\n",
       "            background-color:  #29d6ff;\n",
       "            color:  #000000;\n",
       "        }#T_8d855_row15_col1{\n",
       "            background-color:  #1ce3ff;\n",
       "            color:  #000000;\n",
       "        }#T_8d855_row15_col2,#T_8d855_row24_col2{\n",
       "            background-color:  #3ec1ff;\n",
       "            color:  #000000;\n",
       "        }#T_8d855_row16_col1{\n",
       "            background-color:  #18e7ff;\n",
       "            color:  #000000;\n",
       "        }#T_8d855_row16_col2{\n",
       "            background-color:  #19e6ff;\n",
       "            color:  #000000;\n",
       "        }#T_8d855_row17_col1{\n",
       "            background-color:  #13ecff;\n",
       "            color:  #000000;\n",
       "        }#T_8d855_row17_col2{\n",
       "            background-color:  #1ae5ff;\n",
       "            color:  #000000;\n",
       "        }#T_8d855_row18_col1,#T_8d855_row21_col2{\n",
       "            background-color:  #11eeff;\n",
       "            color:  #000000;\n",
       "        }#T_8d855_row18_col2{\n",
       "            background-color:  #14ebff;\n",
       "            color:  #000000;\n",
       "        }#T_8d855_row19_col1{\n",
       "            background-color:  #0ef1ff;\n",
       "            color:  #000000;\n",
       "        }#T_8d855_row20_col1{\n",
       "            background-color:  #0bf4ff;\n",
       "            color:  #000000;\n",
       "        }#T_8d855_row21_col1,#T_8d855_row22_col2{\n",
       "            background-color:  #05faff;\n",
       "            color:  #000000;\n",
       "        }#T_8d855_row22_col1{\n",
       "            background-color:  #02fdff;\n",
       "            color:  #000000;\n",
       "        }#T_8d855_row23_col1,#T_8d855_row23_col2{\n",
       "            background-color:  #00ffff;\n",
       "            color:  #000000;\n",
       "        }#T_8d855_row24_col1{\n",
       "            background-color:  #000000;\n",
       "            color:  #f1f1f1;\n",
       "        }</style><table id=\"T_8d855_\" ><thead>    <tr>        <th class=\"blank level0\" ></th>        <th class=\"col_heading level0 col0\" >index</th>        <th class=\"col_heading level0 col1\" >cor_in_center</th>        <th class=\"col_heading level0 col2\" >cor_out_center</th>    </tr></thead><tbody>\n",
       "                <tr>\n",
       "                        <th id=\"T_8d855_level0_row0\" class=\"row_heading level0 row0\" >0</th>\n",
       "                        <td id=\"T_8d855_row0_col0\" class=\"data row0 col0\" >last_price</td>\n",
       "                        <td id=\"T_8d855_row0_col1\" class=\"data row0 col1\" >1.000000</td>\n",
       "                        <td id=\"T_8d855_row0_col2\" class=\"data row0 col2\" >1.000000</td>\n",
       "            </tr>\n",
       "            <tr>\n",
       "                        <th id=\"T_8d855_level0_row1\" class=\"row_heading level0 row1\" >1</th>\n",
       "                        <td id=\"T_8d855_row1_col0\" class=\"data row1 col0\" >price_per_meter</td>\n",
       "                        <td id=\"T_8d855_row1_col1\" class=\"data row1 col1\" >0.776956</td>\n",
       "                        <td id=\"T_8d855_row1_col2\" class=\"data row1 col2\" >0.518153</td>\n",
       "            </tr>\n",
       "            <tr>\n",
       "                        <th id=\"T_8d855_level0_row2\" class=\"row_heading level0 row2\" >2</th>\n",
       "                        <td id=\"T_8d855_row2_col0\" class=\"data row2 col0\" >total_area_m2</td>\n",
       "                        <td id=\"T_8d855_row2_col1\" class=\"data row2 col1\" >0.641044</td>\n",
       "                        <td id=\"T_8d855_row2_col2\" class=\"data row2 col2\" >0.819791</td>\n",
       "            </tr>\n",
       "            <tr>\n",
       "                        <th id=\"T_8d855_level0_row3\" class=\"row_heading level0 row3\" >3</th>\n",
       "                        <td id=\"T_8d855_row3_col0\" class=\"data row3 col0\" >living_area_m2</td>\n",
       "                        <td id=\"T_8d855_row3_col1\" class=\"data row3 col1\" >0.545322</td>\n",
       "                        <td id=\"T_8d855_row3_col2\" class=\"data row3 col2\" >0.698790</td>\n",
       "            </tr>\n",
       "            <tr>\n",
       "                        <th id=\"T_8d855_level0_row4\" class=\"row_heading level0 row4\" >4</th>\n",
       "                        <td id=\"T_8d855_row4_col0\" class=\"data row4 col0\" >kitchen_area_m2</td>\n",
       "                        <td id=\"T_8d855_row4_col1\" class=\"data row4 col1\" >0.506961</td>\n",
       "                        <td id=\"T_8d855_row4_col2\" class=\"data row4 col2\" >0.639293</td>\n",
       "            </tr>\n",
       "            <tr>\n",
       "                        <th id=\"T_8d855_level0_row5\" class=\"row_heading level0 row5\" >5</th>\n",
       "                        <td id=\"T_8d855_row5_col0\" class=\"data row5 col0\" >total_rooms</td>\n",
       "                        <td id=\"T_8d855_row5_col1\" class=\"data row5 col1\" >0.345090</td>\n",
       "                        <td id=\"T_8d855_row5_col2\" class=\"data row5 col2\" >0.518997</td>\n",
       "            </tr>\n",
       "            <tr>\n",
       "                        <th id=\"T_8d855_level0_row6\" class=\"row_heading level0 row6\" >6</th>\n",
       "                        <td id=\"T_8d855_row6_col0\" class=\"data row6 col0\" >total_images</td>\n",
       "                        <td id=\"T_8d855_row6_col1\" class=\"data row6 col1\" >0.131064</td>\n",
       "                        <td id=\"T_8d855_row6_col2\" class=\"data row6 col2\" >0.193682</td>\n",
       "            </tr>\n",
       "            <tr>\n",
       "                        <th id=\"T_8d855_level0_row7\" class=\"row_heading level0 row7\" >7</th>\n",
       "                        <td id=\"T_8d855_row7_col0\" class=\"data row7 col0\" >ponds_number_around_3km</td>\n",
       "                        <td id=\"T_8d855_row7_col1\" class=\"data row7 col1\" >0.116041</td>\n",
       "                        <td id=\"T_8d855_row7_col2\" class=\"data row7 col2\" >0.087712</td>\n",
       "            </tr>\n",
       "            <tr>\n",
       "                        <th id=\"T_8d855_level0_row8\" class=\"row_heading level0 row8\" >8</th>\n",
       "                        <td id=\"T_8d855_row8_col0\" class=\"data row8 col0\" >parks_number_around_3km</td>\n",
       "                        <td id=\"T_8d855_row8_col1\" class=\"data row8 col1\" >0.111203</td>\n",
       "                        <td id=\"T_8d855_row8_col2\" class=\"data row8 col2\" >0.091329</td>\n",
       "            </tr>\n",
       "            <tr>\n",
       "                        <th id=\"T_8d855_level0_row9\" class=\"row_heading level0 row9\" >9</th>\n",
       "                        <td id=\"T_8d855_row9_col0\" class=\"data row9 col0\" >floor</td>\n",
       "                        <td id=\"T_8d855_row9_col1\" class=\"data row9 col1\" >0.106710</td>\n",
       "                        <td id=\"T_8d855_row9_col2\" class=\"data row9 col2\" >0.116915</td>\n",
       "            </tr>\n",
       "            <tr>\n",
       "                        <th id=\"T_8d855_level0_row10\" class=\"row_heading level0 row10\" >10</th>\n",
       "                        <td id=\"T_8d855_row10_col0\" class=\"data row10 col0\" >days_exposition</td>\n",
       "                        <td id=\"T_8d855_row10_col1\" class=\"data row10 col1\" >0.066903</td>\n",
       "                        <td id=\"T_8d855_row10_col2\" class=\"data row10 col2\" >0.087583</td>\n",
       "            </tr>\n",
       "            <tr>\n",
       "                        <th id=\"T_8d855_level0_row11\" class=\"row_heading level0 row11\" >11</th>\n",
       "                        <td id=\"T_8d855_row11_col0\" class=\"data row11 col0\" >balconies_number</td>\n",
       "                        <td id=\"T_8d855_row11_col1\" class=\"data row11 col1\" >0.052202</td>\n",
       "                        <td id=\"T_8d855_row11_col2\" class=\"data row11 col2\" >0.108853</td>\n",
       "            </tr>\n",
       "            <tr>\n",
       "                        <th id=\"T_8d855_level0_row12\" class=\"row_heading level0 row12\" >12</th>\n",
       "                        <td id=\"T_8d855_row12_col0\" class=\"data row12 col0\" >ceiling_height_m</td>\n",
       "                        <td id=\"T_8d855_row12_col1\" class=\"data row12 col1\" >0.042875</td>\n",
       "                        <td id=\"T_8d855_row12_col2\" class=\"data row12 col2\" >0.087882</td>\n",
       "            </tr>\n",
       "            <tr>\n",
       "                        <th id=\"T_8d855_level0_row13\" class=\"row_heading level0 row13\" >13</th>\n",
       "                        <td id=\"T_8d855_row13_col0\" class=\"data row13 col0\" >is_apartment</td>\n",
       "                        <td id=\"T_8d855_row13_col1\" class=\"data row13 col1\" >0.034944</td>\n",
       "                        <td id=\"T_8d855_row13_col2\" class=\"data row13 col2\" >0.018532</td>\n",
       "            </tr>\n",
       "            <tr>\n",
       "                        <th id=\"T_8d855_level0_row14\" class=\"row_heading level0 row14\" >14</th>\n",
       "                        <td id=\"T_8d855_row14_col0\" class=\"data row14 col0\" >nearest_airport_distance_km</td>\n",
       "                        <td id=\"T_8d855_row14_col1\" class=\"data row14 col1\" >0.033176</td>\n",
       "                        <td id=\"T_8d855_row14_col2\" class=\"data row14 col2\" >0.043089</td>\n",
       "            </tr>\n",
       "            <tr>\n",
       "                        <th id=\"T_8d855_level0_row15\" class=\"row_heading level0 row15\" >15</th>\n",
       "                        <td id=\"T_8d855_row15_col0\" class=\"data row15 col0\" >total_house_floors</td>\n",
       "                        <td id=\"T_8d855_row15_col1\" class=\"data row15 col1\" >0.024109</td>\n",
       "                        <td id=\"T_8d855_row15_col2\" class=\"data row15 col2\" >0.136178</td>\n",
       "            </tr>\n",
       "            <tr>\n",
       "                        <th id=\"T_8d855_level0_row16\" class=\"row_heading level0 row16\" >16</th>\n",
       "                        <td id=\"T_8d855_row16_col0\" class=\"data row16 col0\" >is_open_plan</td>\n",
       "                        <td id=\"T_8d855_row16_col1\" class=\"data row16 col1\" >0.006642</td>\n",
       "                        <td id=\"T_8d855_row16_col2\" class=\"data row16 col2\" >-0.032074</td>\n",
       "            </tr>\n",
       "            <tr>\n",
       "                        <th id=\"T_8d855_level0_row17\" class=\"row_heading level0 row17\" >17</th>\n",
       "                        <td id=\"T_8d855_row17_col0\" class=\"data row17 col0\" >living_area_ratio</td>\n",
       "                        <td id=\"T_8d855_row17_col1\" class=\"data row17 col1\" >-0.017319</td>\n",
       "                        <td id=\"T_8d855_row17_col2\" class=\"data row17 col2\" >-0.026035</td>\n",
       "            </tr>\n",
       "            <tr>\n",
       "                        <th id=\"T_8d855_level0_row18\" class=\"row_heading level0 row18\" >18</th>\n",
       "                        <td id=\"T_8d855_row18_col0\" class=\"data row18 col0\" >is_studio</td>\n",
       "                        <td id=\"T_8d855_row18_col1\" class=\"data row18 col1\" >-0.023843</td>\n",
       "                        <td id=\"T_8d855_row18_col2\" class=\"data row18 col2\" >-0.054561</td>\n",
       "            </tr>\n",
       "            <tr>\n",
       "                        <th id=\"T_8d855_level0_row19\" class=\"row_heading level0 row19\" >19</th>\n",
       "                        <td id=\"T_8d855_row19_col0\" class=\"data row19 col0\" >nearest_park_distance_km</td>\n",
       "                        <td id=\"T_8d855_row19_col1\" class=\"data row19 col1\" >-0.038779</td>\n",
       "                        <td id=\"T_8d855_row19_col2\" class=\"data row19 col2\" >0.086911</td>\n",
       "            </tr>\n",
       "            <tr>\n",
       "                        <th id=\"T_8d855_level0_row20\" class=\"row_heading level0 row20\" >20</th>\n",
       "                        <td id=\"T_8d855_row20_col0\" class=\"data row20 col0\" >year_exposition</td>\n",
       "                        <td id=\"T_8d855_row20_col1\" class=\"data row20 col1\" >-0.048970</td>\n",
       "                        <td id=\"T_8d855_row20_col2\" class=\"data row20 col2\" >0.019401</td>\n",
       "            </tr>\n",
       "            <tr>\n",
       "                        <th id=\"T_8d855_level0_row21\" class=\"row_heading level0 row21\" >21</th>\n",
       "                        <td id=\"T_8d855_row21_col0\" class=\"data row21 col0\" >nearest_pond_distance_km</td>\n",
       "                        <td id=\"T_8d855_row21_col1\" class=\"data row21 col1\" >-0.078721</td>\n",
       "                        <td id=\"T_8d855_row21_col2\" class=\"data row21 col2\" >-0.066773</td>\n",
       "            </tr>\n",
       "            <tr>\n",
       "                        <th id=\"T_8d855_level0_row22\" class=\"row_heading level0 row22\" >22</th>\n",
       "                        <td id=\"T_8d855_row22_col0\" class=\"data row22 col0\" >kitchen_area_ratio</td>\n",
       "                        <td id=\"T_8d855_row22_col1\" class=\"data row22 col1\" >-0.088344</td>\n",
       "                        <td id=\"T_8d855_row22_col2\" class=\"data row22 col2\" >-0.118216</td>\n",
       "            </tr>\n",
       "            <tr>\n",
       "                        <th id=\"T_8d855_level0_row23\" class=\"row_heading level0 row23\" >23</th>\n",
       "                        <td id=\"T_8d855_row23_col0\" class=\"data row23 col0\" >city_center_distance_km</td>\n",
       "                        <td id=\"T_8d855_row23_col1\" class=\"data row23 col1\" >-0.100291</td>\n",
       "                        <td id=\"T_8d855_row23_col2\" class=\"data row23 col2\" >-0.144633</td>\n",
       "            </tr>\n",
       "            <tr>\n",
       "                        <th id=\"T_8d855_level0_row24\" class=\"row_heading level0 row24\" >24</th>\n",
       "                        <td id=\"T_8d855_row24_col0\" class=\"data row24 col0\" >is_spb</td>\n",
       "                        <td id=\"T_8d855_row24_col1\" class=\"data row24 col1\" >nan</td>\n",
       "                        <td id=\"T_8d855_row24_col2\" class=\"data row24 col2\" >0.132896</td>\n",
       "            </tr>\n",
       "    </tbody></table>"
      ],
      "text/plain": [
       "<pandas.io.formats.style.Styler at 0x2805ee52850>"
      ]
     },
     "execution_count": 100,
     "metadata": {},
     "output_type": "execute_result"
    }
   ],
   "source": [
    "city_center_9km = city_center_df.query('city_center_distance_km < 9')\n",
    "city_center_out_9km = city_center_df.query('city_center_distance_km > 9')\n",
    "\n",
    "cor_in_center = city_center_9km.corr()\\\n",
    "        .sort_values('last_price', ascending=False)\\\n",
    "        .filter(items = ['last_price'])\\\n",
    "        .reset_index()\n",
    "\n",
    "cor_out_center = city_center_out_9km.corr()\\\n",
    "        .sort_values('last_price', ascending=False)\\\n",
    "        .filter(items = ['last_price'])\\\n",
    "        .reset_index()\n",
    "\n",
    "# Let's put tables together\n",
    "cor_in_out_center = cor_in_center.merge(cor_out_center, on='index')\n",
    "cor_in_out_center = cor_in_out_center.rename(columns={'last_price_x':'cor_in_center', 'last_price_y':'cor_out_center'})\n",
    "cor_in_out_center.style.background_gradient('cool')"
   ]
  },
  {
   "cell_type": "markdown",
   "metadata": {},
   "source": [
    "For the sale of real estate in the center, first of all, important:\n",
    "\n",
    "- Price per square meter\n",
    "- All types of squares\n",
    "- Number of rooms\n",
    "- proximity of parks and reservoirs\n",
    "- floor\n",
    "\n",
    "\n",
    "Meanwhile, on the periphery:\n",
    "\n",
    "- Squares\n",
    "- Number of rooms\n",
    "- Price per square meter\n",
    "- Balconies\n",
    "- Floor"
   ]
  },
  {
   "cell_type": "markdown",
   "metadata": {},
   "source": [
    "We will select the most characteristic parameters for apartments, studios and open-plan apartments and determine whether they affect the price."
   ]
  },
  {
   "cell_type": "code",
   "execution_count": 101,
   "metadata": {},
   "outputs": [
    {
     "data": {
      "text/plain": [
       "False    23600\n",
       "True        50\n",
       "Name: is_apartment, dtype: int64"
      ]
     },
     "execution_count": 101,
     "metadata": {},
     "output_type": "execute_result"
    }
   ],
   "source": [
    "df['is_apartment'].value_counts()"
   ]
  },
  {
   "cell_type": "code",
   "execution_count": 102,
   "metadata": {},
   "outputs": [
    {
     "data": {
      "text/plain": [
       "False    23501\n",
       "True       149\n",
       "Name: is_studio, dtype: int64"
      ]
     },
     "execution_count": 102,
     "metadata": {},
     "output_type": "execute_result"
    }
   ],
   "source": [
    "df['is_studio'].value_counts()"
   ]
  },
  {
   "cell_type": "code",
   "execution_count": 103,
   "metadata": {},
   "outputs": [
    {
     "data": {
      "text/plain": [
       "False    23583\n",
       "True        67\n",
       "Name: is_open_plan, dtype: int64"
      ]
     },
     "execution_count": 103,
     "metadata": {},
     "output_type": "execute_result"
    }
   ],
   "source": [
    "df['is_open_plan'].value_counts()"
   ]
  },
  {
   "cell_type": "code",
   "execution_count": 104,
   "metadata": {},
   "outputs": [],
   "source": [
    "# It looks a little strange, since you will have to compare sets with a maximum number of 149 rows against 23 thousand.\n",
    "apartment_df = df.query('is_apartment == 1')\n",
    "studio_df = df.query('is_studio == 1')\n",
    "open_plan_df = df.query('is_open_plan == 1')\n",
    "ordinary_df = df.query('is_apartment == 0 & is_studio == 0 & is_open_plan == 0')"
   ]
  },
  {
   "cell_type": "code",
   "execution_count": 105,
   "metadata": {},
   "outputs": [],
   "source": [
    "apartment_cor = apartment_df.corr()\\\n",
    "        .filter(items = ['last_price'])\\\n",
    "        .sort_values('last_price', ascending=False)\\\n",
    "        .reset_index()\\\n",
    "        .rename(columns={'last_price':'apartment_cor'})"
   ]
  },
  {
   "cell_type": "code",
   "execution_count": 106,
   "metadata": {},
   "outputs": [],
   "source": [
    "studio_cor = studio_df.corr()\\\n",
    "        .filter(items = ['last_price'])\\\n",
    "        .sort_values('last_price', ascending=False)\\\n",
    "        .reset_index()\\\n",
    "        .rename(columns={'last_price':'studio_cor'})"
   ]
  },
  {
   "cell_type": "code",
   "execution_count": 107,
   "metadata": {},
   "outputs": [],
   "source": [
    "open_plan_cor = open_plan_df.corr()\\\n",
    "        .filter(items = ['last_price'])\\\n",
    "        .sort_values('last_price', ascending=False)\\\n",
    "        .reset_index()\\\n",
    "        .rename(columns={'last_price':'open_plan_cor'})"
   ]
  },
  {
   "cell_type": "code",
   "execution_count": 108,
   "metadata": {},
   "outputs": [],
   "source": [
    "ordinary_cor = ordinary_df.corr()\\\n",
    "        .filter(items = ['last_price'])\\\n",
    "        .sort_values('last_price', ascending=False)\\\n",
    "        .reset_index()\\\n",
    "        .rename(columns={'last_price':'ordinary_cor'})"
   ]
  },
  {
   "cell_type": "code",
   "execution_count": 109,
   "metadata": {},
   "outputs": [
    {
     "data": {
      "text/html": [
       "<div>\n",
       "<style scoped>\n",
       "    .dataframe tbody tr th:only-of-type {\n",
       "        vertical-align: middle;\n",
       "    }\n",
       "\n",
       "    .dataframe tbody tr th {\n",
       "        vertical-align: top;\n",
       "    }\n",
       "\n",
       "    .dataframe thead th {\n",
       "        text-align: right;\n",
       "    }\n",
       "</style>\n",
       "<table border=\"1\" class=\"dataframe\">\n",
       "  <thead>\n",
       "    <tr style=\"text-align: right;\">\n",
       "      <th></th>\n",
       "      <th>index</th>\n",
       "      <th>apartment_cor</th>\n",
       "      <th>studio_cor</th>\n",
       "      <th>open_plan_cor</th>\n",
       "      <th>ordinary_cor</th>\n",
       "    </tr>\n",
       "  </thead>\n",
       "  <tbody>\n",
       "    <tr>\n",
       "      <th>0</th>\n",
       "      <td>last_price</td>\n",
       "      <td>1.000000</td>\n",
       "      <td>1.000000</td>\n",
       "      <td>1.000000</td>\n",
       "      <td>1.000000</td>\n",
       "    </tr>\n",
       "    <tr>\n",
       "      <th>1</th>\n",
       "      <td>living_area_m2</td>\n",
       "      <td>0.832499</td>\n",
       "      <td>0.741941</td>\n",
       "      <td>0.828737</td>\n",
       "      <td>0.564243</td>\n",
       "    </tr>\n",
       "    <tr>\n",
       "      <th>2</th>\n",
       "      <td>total_area_m2</td>\n",
       "      <td>0.810846</td>\n",
       "      <td>0.853328</td>\n",
       "      <td>0.959663</td>\n",
       "      <td>0.651997</td>\n",
       "    </tr>\n",
       "    <tr>\n",
       "      <th>3</th>\n",
       "      <td>kitchen_area_m2</td>\n",
       "      <td>0.698444</td>\n",
       "      <td>NaN</td>\n",
       "      <td>NaN</td>\n",
       "      <td>0.518186</td>\n",
       "    </tr>\n",
       "    <tr>\n",
       "      <th>4</th>\n",
       "      <td>days_exposition</td>\n",
       "      <td>0.672321</td>\n",
       "      <td>0.128850</td>\n",
       "      <td>0.023479</td>\n",
       "      <td>0.077304</td>\n",
       "    </tr>\n",
       "    <tr>\n",
       "      <th>5</th>\n",
       "      <td>price_per_meter</td>\n",
       "      <td>0.565047</td>\n",
       "      <td>0.595685</td>\n",
       "      <td>0.661934</td>\n",
       "      <td>0.739624</td>\n",
       "    </tr>\n",
       "    <tr>\n",
       "      <th>6</th>\n",
       "      <td>parks_number_around_3km</td>\n",
       "      <td>0.454835</td>\n",
       "      <td>0.004447</td>\n",
       "      <td>0.304029</td>\n",
       "      <td>0.148205</td>\n",
       "    </tr>\n",
       "    <tr>\n",
       "      <th>7</th>\n",
       "      <td>total_rooms</td>\n",
       "      <td>0.399182</td>\n",
       "      <td>-0.050364</td>\n",
       "      <td>0.388753</td>\n",
       "      <td>0.364555</td>\n",
       "    </tr>\n",
       "    <tr>\n",
       "      <th>8</th>\n",
       "      <td>ponds_number_around_3km</td>\n",
       "      <td>0.286780</td>\n",
       "      <td>0.006379</td>\n",
       "      <td>0.189604</td>\n",
       "      <td>0.159594</td>\n",
       "    </tr>\n",
       "    <tr>\n",
       "      <th>9</th>\n",
       "      <td>is_spb</td>\n",
       "      <td>0.181487</td>\n",
       "      <td>0.443556</td>\n",
       "      <td>0.232037</td>\n",
       "      <td>0.196261</td>\n",
       "    </tr>\n",
       "    <tr>\n",
       "      <th>10</th>\n",
       "      <td>floor</td>\n",
       "      <td>0.119855</td>\n",
       "      <td>-0.045915</td>\n",
       "      <td>-0.084180</td>\n",
       "      <td>0.028833</td>\n",
       "    </tr>\n",
       "    <tr>\n",
       "      <th>11</th>\n",
       "      <td>living_area_ratio</td>\n",
       "      <td>0.090916</td>\n",
       "      <td>-0.024443</td>\n",
       "      <td>0.057053</td>\n",
       "      <td>0.005281</td>\n",
       "    </tr>\n",
       "    <tr>\n",
       "      <th>12</th>\n",
       "      <td>kitchen_area_ratio</td>\n",
       "      <td>0.033580</td>\n",
       "      <td>NaN</td>\n",
       "      <td>NaN</td>\n",
       "      <td>-0.090792</td>\n",
       "    </tr>\n",
       "    <tr>\n",
       "      <th>13</th>\n",
       "      <td>ceiling_height_m</td>\n",
       "      <td>0.024100</td>\n",
       "      <td>0.410452</td>\n",
       "      <td>-0.047864</td>\n",
       "      <td>0.112706</td>\n",
       "    </tr>\n",
       "    <tr>\n",
       "      <th>14</th>\n",
       "      <td>total_images</td>\n",
       "      <td>0.010795</td>\n",
       "      <td>0.148469</td>\n",
       "      <td>-0.104975</td>\n",
       "      <td>0.104446</td>\n",
       "    </tr>\n",
       "    <tr>\n",
       "      <th>15</th>\n",
       "      <td>total_house_floors</td>\n",
       "      <td>-0.089131</td>\n",
       "      <td>-0.137154</td>\n",
       "      <td>-0.216211</td>\n",
       "      <td>-0.002932</td>\n",
       "    </tr>\n",
       "    <tr>\n",
       "      <th>16</th>\n",
       "      <td>balconies_number</td>\n",
       "      <td>-0.093859</td>\n",
       "      <td>-0.011677</td>\n",
       "      <td>-0.258845</td>\n",
       "      <td>0.009825</td>\n",
       "    </tr>\n",
       "    <tr>\n",
       "      <th>17</th>\n",
       "      <td>nearest_pond_distance_km</td>\n",
       "      <td>-0.184162</td>\n",
       "      <td>0.086562</td>\n",
       "      <td>-0.063744</td>\n",
       "      <td>-0.085313</td>\n",
       "    </tr>\n",
       "    <tr>\n",
       "      <th>18</th>\n",
       "      <td>nearest_airport_distance_km</td>\n",
       "      <td>-0.274413</td>\n",
       "      <td>-0.028920</td>\n",
       "      <td>0.016631</td>\n",
       "      <td>-0.026771</td>\n",
       "    </tr>\n",
       "    <tr>\n",
       "      <th>19</th>\n",
       "      <td>nearest_park_distance_km</td>\n",
       "      <td>-0.301819</td>\n",
       "      <td>0.121704</td>\n",
       "      <td>-0.039041</td>\n",
       "      <td>-0.014160</td>\n",
       "    </tr>\n",
       "    <tr>\n",
       "      <th>20</th>\n",
       "      <td>city_center_distance_km</td>\n",
       "      <td>-0.447814</td>\n",
       "      <td>-0.441538</td>\n",
       "      <td>-0.298290</td>\n",
       "      <td>-0.206163</td>\n",
       "    </tr>\n",
       "    <tr>\n",
       "      <th>21</th>\n",
       "      <td>year_exposition</td>\n",
       "      <td>-0.623562</td>\n",
       "      <td>-0.017042</td>\n",
       "      <td>0.011392</td>\n",
       "      <td>-0.041110</td>\n",
       "    </tr>\n",
       "    <tr>\n",
       "      <th>22</th>\n",
       "      <td>is_apartment</td>\n",
       "      <td>NaN</td>\n",
       "      <td>NaN</td>\n",
       "      <td>NaN</td>\n",
       "      <td>NaN</td>\n",
       "    </tr>\n",
       "    <tr>\n",
       "      <th>23</th>\n",
       "      <td>is_studio</td>\n",
       "      <td>NaN</td>\n",
       "      <td>NaN</td>\n",
       "      <td>NaN</td>\n",
       "      <td>NaN</td>\n",
       "    </tr>\n",
       "    <tr>\n",
       "      <th>24</th>\n",
       "      <td>is_open_plan</td>\n",
       "      <td>NaN</td>\n",
       "      <td>NaN</td>\n",
       "      <td>NaN</td>\n",
       "      <td>NaN</td>\n",
       "    </tr>\n",
       "  </tbody>\n",
       "</table>\n",
       "</div>"
      ],
      "text/plain": [
       "                          index  apartment_cor  studio_cor  open_plan_cor  \\\n",
       "0                    last_price       1.000000    1.000000       1.000000   \n",
       "1                living_area_m2       0.832499    0.741941       0.828737   \n",
       "2                 total_area_m2       0.810846    0.853328       0.959663   \n",
       "3               kitchen_area_m2       0.698444         NaN            NaN   \n",
       "4               days_exposition       0.672321    0.128850       0.023479   \n",
       "5               price_per_meter       0.565047    0.595685       0.661934   \n",
       "6       parks_number_around_3km       0.454835    0.004447       0.304029   \n",
       "7                   total_rooms       0.399182   -0.050364       0.388753   \n",
       "8       ponds_number_around_3km       0.286780    0.006379       0.189604   \n",
       "9                        is_spb       0.181487    0.443556       0.232037   \n",
       "10                        floor       0.119855   -0.045915      -0.084180   \n",
       "11            living_area_ratio       0.090916   -0.024443       0.057053   \n",
       "12           kitchen_area_ratio       0.033580         NaN            NaN   \n",
       "13             ceiling_height_m       0.024100    0.410452      -0.047864   \n",
       "14                 total_images       0.010795    0.148469      -0.104975   \n",
       "15           total_house_floors      -0.089131   -0.137154      -0.216211   \n",
       "16             balconies_number      -0.093859   -0.011677      -0.258845   \n",
       "17     nearest_pond_distance_km      -0.184162    0.086562      -0.063744   \n",
       "18  nearest_airport_distance_km      -0.274413   -0.028920       0.016631   \n",
       "19     nearest_park_distance_km      -0.301819    0.121704      -0.039041   \n",
       "20      city_center_distance_km      -0.447814   -0.441538      -0.298290   \n",
       "21              year_exposition      -0.623562   -0.017042       0.011392   \n",
       "22                 is_apartment            NaN         NaN            NaN   \n",
       "23                    is_studio            NaN         NaN            NaN   \n",
       "24                 is_open_plan            NaN         NaN            NaN   \n",
       "\n",
       "    ordinary_cor  \n",
       "0       1.000000  \n",
       "1       0.564243  \n",
       "2       0.651997  \n",
       "3       0.518186  \n",
       "4       0.077304  \n",
       "5       0.739624  \n",
       "6       0.148205  \n",
       "7       0.364555  \n",
       "8       0.159594  \n",
       "9       0.196261  \n",
       "10      0.028833  \n",
       "11      0.005281  \n",
       "12     -0.090792  \n",
       "13      0.112706  \n",
       "14      0.104446  \n",
       "15     -0.002932  \n",
       "16      0.009825  \n",
       "17     -0.085313  \n",
       "18     -0.026771  \n",
       "19     -0.014160  \n",
       "20     -0.206163  \n",
       "21     -0.041110  \n",
       "22           NaN  \n",
       "23           NaN  \n",
       "24           NaN  "
      ]
     },
     "execution_count": 109,
     "metadata": {},
     "output_type": "execute_result"
    }
   ],
   "source": [
    "final_corr = apartment_cor.merge(studio_cor)\n",
    "final_corr = final_corr.merge(open_plan_cor)\n",
    "final_corr = final_corr.merge(ordinary_cor)\n",
    "final_corr"
   ]
  },
  {
   "cell_type": "markdown",
   "metadata": {},
   "source": [
    "Let's analyze the general offer of real estate and highlight the boundaries of the center of St. Petersburg (we follow the traditional logic: the closer to the center, the more expensive the property)"
   ]
  },
  {
   "cell_type": "code",
   "execution_count": 110,
   "metadata": {},
   "outputs": [],
   "source": [
    "#Let's create a separate dataframe with data on St. Petersburg with data on the price and distance to the center\n",
    "spb_city_center = df[['locality_name','last_price','city_center_distance_km']]"
   ]
  },
  {
   "cell_type": "code",
   "execution_count": 111,
   "metadata": {},
   "outputs": [],
   "source": [
    "# Let's delete entries with missing values in the name of the locality, as well as where the locality is not St. Petersburg\n",
    "spb_city_center = spb_city_center.dropna(subset=['city_center_distance_km'])\n",
    "spb_city_center.drop(spb_city_center.query('locality_name != \"Санкт-Петербург\"').index, inplace=True)"
   ]
  },
  {
   "cell_type": "code",
   "execution_count": 112,
   "metadata": {},
   "outputs": [
    {
     "data": {
      "text/html": [
       "<div>\n",
       "<style scoped>\n",
       "    .dataframe tbody tr th:only-of-type {\n",
       "        vertical-align: middle;\n",
       "    }\n",
       "\n",
       "    .dataframe tbody tr th {\n",
       "        vertical-align: top;\n",
       "    }\n",
       "\n",
       "    .dataframe thead th {\n",
       "        text-align: right;\n",
       "    }\n",
       "</style>\n",
       "<table border=\"1\" class=\"dataframe\">\n",
       "  <thead>\n",
       "    <tr style=\"text-align: right;\">\n",
       "      <th></th>\n",
       "      <th>city_center_distance_km</th>\n",
       "      <th>mean</th>\n",
       "    </tr>\n",
       "  </thead>\n",
       "  <tbody>\n",
       "    <tr>\n",
       "      <th>0</th>\n",
       "      <td>0.181</td>\n",
       "      <td>31099000.0</td>\n",
       "    </tr>\n",
       "    <tr>\n",
       "      <th>1</th>\n",
       "      <td>0.208</td>\n",
       "      <td>5800000.0</td>\n",
       "    </tr>\n",
       "    <tr>\n",
       "      <th>2</th>\n",
       "      <td>0.215</td>\n",
       "      <td>10990000.0</td>\n",
       "    </tr>\n",
       "    <tr>\n",
       "      <th>3</th>\n",
       "      <td>0.287</td>\n",
       "      <td>9590000.0</td>\n",
       "    </tr>\n",
       "    <tr>\n",
       "      <th>4</th>\n",
       "      <td>0.291</td>\n",
       "      <td>11500000.0</td>\n",
       "    </tr>\n",
       "  </tbody>\n",
       "</table>\n",
       "</div>"
      ],
      "text/plain": [
       "   city_center_distance_km        mean\n",
       "0                    0.181  31099000.0\n",
       "1                    0.208   5800000.0\n",
       "2                    0.215  10990000.0\n",
       "3                    0.287   9590000.0\n",
       "4                    0.291  11500000.0"
      ]
     },
     "execution_count": 112,
     "metadata": {},
     "output_type": "execute_result"
    }
   ],
   "source": [
    "# Let's summarize the average price for each kilometer into the table\n",
    "spb_price_km = pd.pivot_table(\n",
    "    spb_city_center, values='last_price', index='city_center_distance_km', aggfunc={'mean'}).reset_index()\n",
    "spb_price_km.head()"
   ]
  },
  {
   "cell_type": "code",
   "execution_count": 113,
   "metadata": {},
   "outputs": [
    {
     "data": {
      "image/png": "[encoded data removed]",
      "text/plain": [
       "<Figure size 720x720 with 1 Axes>"
      ]
     },
     "metadata": {
      "needs_background": "light"
     },
     "output_type": "display_data"
    }
   ],
   "source": [
    "spb_price_km.plot(x='city_center_distance_km', y='mean', figsize=(10,10))\n",
    "plt.title('Distribution of the average real estate price depending on the distance from the center of St. Petersburg')\n",
    "plt.xlabel('Distance from the center of St. Petersburg, km')\n",
    "plt.ylabel('Average price of the real estate')\n",
    "plt.show()"
   ]
  },
  {
   "cell_type": "markdown",
   "metadata": {},
   "source": [
    "The graph shows that a sharp decline in the cost occurs at 8 km from the center. Based on this, we will consider the property located within 8 km to be located in the center of St. Petersburg"
   ]
  },
  {
   "cell_type": "code",
   "execution_count": 114,
   "metadata": {},
   "outputs": [],
   "source": [
    "# borders of the central zone of St. Petersburg\n",
    "spb_center_border = 8"
   ]
  },
  {
   "cell_type": "code",
   "execution_count": 115,
   "metadata": {},
   "outputs": [
    {
     "name": "stdout",
     "output_type": "stream",
     "text": [
      "Offers in the center of St. Petersburg are 24% of all real estate listings in the city.\n"
     ]
    }
   ],
   "source": [
    "# selection of apartments in the center of St. Petersburg\n",
    "spb_center = df[\n",
    "    (df['locality_name'] == \"Санкт-Петербург\") & \\\n",
    "    (df['city_center_distance_km'] <= spb_center_border)\n",
    "]\n",
    "spb_center.head()\n",
    "\n",
    "# selection of apartments outside the center of St. Petersburg\n",
    "spb_suburban = df[\n",
    "    (df['locality_name'] == \"Санкт-Петербург\") & \\\n",
    "    (df['city_center_distance_km'] > spb_center_border)\n",
    "]\n",
    "\n",
    "# selection of all apartments in St. Petersburg\n",
    "spb_all = df.query('locality_name == \"Санкт-Петербург\"')\n",
    "\n",
    "# the percentage of apartments in the center that are not included in the sample\n",
    "print('Offers in the center of St. Petersburg are {:.0%} of all real estate listings in the city.'.format(len(spb_center)/len(spb_all)))"
   ]
  },
  {
   "cell_type": "code",
   "execution_count": 116,
   "metadata": {},
   "outputs": [],
   "source": [
    "# parameters to study and check\n",
    "parameters_spb_general_check = [\n",
    "    ['total_area_m2', 'Real estate total area'],\n",
    "    ['last_price', 'Price'],\n",
    "    ['total_rooms', 'Number of rooms'],\n",
    "    ['ceiling_height_m', 'Ceiling height']\n",
    "]"
   ]
  },
  {
   "cell_type": "code",
   "execution_count": 117,
   "metadata": {},
   "outputs": [
    {
     "data": {
      "image/png": "[encoded data removed]",
      "text/plain": [
       "<Figure size 432x288 with 1 Axes>"
      ]
     },
     "metadata": {
      "needs_background": "light"
     },
     "output_type": "display_data"
    },
    {
     "data": {
      "image/png": "[encoded data removed]",
      "text/plain": [
       "<Figure size 432x288 with 1 Axes>"
      ]
     },
     "metadata": {
      "needs_background": "light"
     },
     "output_type": "display_data"
    },
    {
     "data": {
      "image/png": "[encoded data removed]",
      "text/plain": [
       "<Figure size 432x288 with 1 Axes>"
      ]
     },
     "metadata": {
      "needs_background": "light"
     },
     "output_type": "display_data"
    },
    {
     "data": {
      "image/png": "[encoded data removed]",
      "text/plain": [
       "<Figure size 432x288 with 1 Axes>"
      ]
     },
     "metadata": {
      "needs_background": "light"
     },
     "output_type": "display_data"
    }
   ],
   "source": [
    "# Plotting histograms for each parameter\n",
    "for parameter in parameters_spb_general_check:   \n",
    "    \n",
    "    plt.hist(\n",
    "        spb_center[parameter[0]],\n",
    "        bins = 50,\n",
    "        alpha=0.5,\n",
    "        label=('The Center of St. Petersburg'),\n",
    "        color=['red'],\n",
    "    )\n",
    "    \n",
    "    plt.hist(\n",
    "        spb_all[parameter[0]],\n",
    "        bins = 50,\n",
    "        alpha=0.5,\n",
    "        label=('The whole of St. Petersburg')\n",
    "    )\n",
    "    \n",
    "    plt.legend(loc='upper right')\n",
    "    plt.title(parameter[1])\n",
    "    plt.show()"
   ]
  },
  {
   "cell_type": "code",
   "execution_count": 118,
   "metadata": {},
   "outputs": [],
   "source": [
    "# parameters for checking the impact on the cost of the apartment\n",
    "parameters_spb_price_check = [['total_rooms', 'Number of rooms'],\n",
    "                              ['floor', 'Floor'],\n",
    "                              ['city_center_distance_km', 'City center distance'],\n",
    "                              ['year_exposition', 'Ad year of exposition']\n",
    "                             ]"
   ]
  },
  {
   "cell_type": "code",
   "execution_count": 119,
   "metadata": {},
   "outputs": [
    {
     "data": {
      "image/png": "[encoded data removed]",
      "text/plain": [
       "<Figure size 720x720 with 1 Axes>"
      ]
     },
     "metadata": {
      "needs_background": "light"
     },
     "output_type": "display_data"
    },
    {
     "data": {
      "image/png": "[encoded data removed]",
      "text/plain": [
       "<Figure size 720x720 with 1 Axes>"
      ]
     },
     "metadata": {
      "needs_background": "light"
     },
     "output_type": "display_data"
    },
    {
     "data": {
      "image/png": "[encoded data removed]",
      "text/plain": [
       "<Figure size 720x720 with 1 Axes>"
      ]
     },
     "metadata": {
      "needs_background": "light"
     },
     "output_type": "display_data"
    },
    {
     "data": {
      "image/png": "[encoded data removed]",
      "text/plain": [
       "<Figure size 720x720 with 1 Axes>"
      ]
     },
     "metadata": {
      "needs_background": "light"
     },
     "output_type": "display_data"
    }
   ],
   "source": [
    "for parameter in parameters_spb_price_check:\n",
    "    # The center of St. Petersburg\n",
    "    fig, ax = plt.subplots(figsize=(10,10))\n",
    "        \n",
    "    \n",
    "    spb_center.plot(\n",
    "        x=parameter[0],\n",
    "        alpha=0.05,\n",
    "        y='last_price',\n",
    "        kind='scatter',\n",
    "        color=['red'],\n",
    "        label=('The center of St. Petersburg - red'),\n",
    "        ax = ax\n",
    "    )\n",
    "\n",
    "    \n",
    "    spb_all.plot(\n",
    "        x=parameter[0], \n",
    "        alpha=0.007, \n",
    "        y='last_price', \n",
    "        kind='scatter',\n",
    "        label=('The whole St. Petersburg - blue'),\n",
    "        ax = ax\n",
    "    )\n",
    "    \n",
    "    plt.title('Dependence of the cost of the apartment on the parameter: {}'.format(parameter[1]))\n",
    "    plt.xlabel(parameter[1])\n",
    "    plt.ylabel('Price of an apartment')\n",
    "    plt.show()\n",
    "    "
   ]
  },
  {
   "cell_type": "markdown",
   "metadata": {},
   "source": [
    "General analysis of parameters:\n",
    "\n",
    "*Area:* \n",
    "\n",
    "In the center of St. Petersburg, they mainly have an area of 60-80 m2 with a pronounced surge at the level of 45 m2. For the whole city, this spike of 45 m2 remains, but the distribution is evenly reduced from 30 to 120 m2.\n",
    "\n",
    "*Price:* \n",
    "\n",
    "The maximum price for the center of St. Petersburg is in the amount of 6 million rubles, while for the whole of St. Petersburg, the peak of real estate prices is 4 million rubles.\n",
    "\n",
    "\n",
    "*Number of rooms:*\n",
    "\n",
    "There are most two- and three-bedroom apartments in the center of St. Petersburg, and one-bedroom apartments are the leaders for the whole city.\n",
    "\n",
    "\n",
    "*Ceiling height:*\n",
    "\n",
    "The entire property has an average ceiling height of 2.6-2.7 m. However, it should be noted that in the center of St. Petersburg there are quite a lot of ceilings with a height of 3 m, although throughout the city as a whole there are mainly apartments with a height of 2.5 m.\n",
    "\n",
    "\n",
    "*The influence of parameters on the value of real estate:*\n",
    "\n",
    "1) Number of rooms: the center of St. Petersburg is characterized by a small spread of prices depending on the number of rooms, in comparison with the whole city.\n",
    "\n",
    "2) Floor: there is less high-rise construction in the center of St. Petersburg than in the whole city — there are fewer ads, but with the growth of the floor, the cost spread in the center of St. Petersburg does not decrease as much as in the whole city.\n",
    "\n",
    "3) Distance from the center: the trend is the same for the center and the whole of St. Petersburg — the farther the apartment is from the center, the cheaper it is.\n",
    "\n",
    "4) Ad placement date: a slight decrease in the cost of apartments is typical for the center and the whole of St. Petersburg, starting from 2017."
   ]
  },
  {
   "cell_type": "code",
   "execution_count": 120,
   "metadata": {},
   "outputs": [
    {
     "data": {
      "text/html": [
       "<style  type=\"text/css\" >\n",
       "</style><table id=\"T_d995e_\" ><thead>    <tr>        <th class=\"blank level0\" ></th>        <th class=\"col_heading level0 col0\" >last_price</th>        <th class=\"col_heading level0 col1\" >total_area_m2</th>        <th class=\"col_heading level0 col2\" >total_rooms</th>        <th class=\"col_heading level0 col3\" >floor</th>        <th class=\"col_heading level0 col4\" >ceiling_height_m</th>        <th class=\"col_heading level0 col5\" >city_center_distance_km</th>        <th class=\"col_heading level0 col6\" >year_exposition</th>    </tr></thead><tbody>\n",
       "                <tr>\n",
       "                        <th id=\"T_d995e_level0_row0\" class=\"row_heading level0 row0\" >last_price</th>\n",
       "                        <td id=\"T_d995e_row0_col0\" class=\"data row0 col0\" >100.0%</td>\n",
       "                        <td id=\"T_d995e_row0_col1\" class=\"data row0 col1\" >63.6%</td>\n",
       "                        <td id=\"T_d995e_row0_col2\" class=\"data row0 col2\" >33.3%</td>\n",
       "                        <td id=\"T_d995e_row0_col3\" class=\"data row0 col3\" >12.6%</td>\n",
       "                        <td id=\"T_d995e_row0_col4\" class=\"data row0 col4\" >10.2%</td>\n",
       "                        <td id=\"T_d995e_row0_col5\" class=\"data row0 col5\" >-4.8%</td>\n",
       "                        <td id=\"T_d995e_row0_col6\" class=\"data row0 col6\" >-4.3%</td>\n",
       "            </tr>\n",
       "            <tr>\n",
       "                        <th id=\"T_d995e_level0_row1\" class=\"row_heading level0 row1\" >total_area_m2</th>\n",
       "                        <td id=\"T_d995e_row1_col0\" class=\"data row1 col0\" >63.6%</td>\n",
       "                        <td id=\"T_d995e_row1_col1\" class=\"data row1 col1\" >100.0%</td>\n",
       "                        <td id=\"T_d995e_row1_col2\" class=\"data row1 col2\" >73.7%</td>\n",
       "                        <td id=\"T_d995e_row1_col3\" class=\"data row1 col3\" >10.4%</td>\n",
       "                        <td id=\"T_d995e_row1_col4\" class=\"data row1 col4\" >14.7%</td>\n",
       "                        <td id=\"T_d995e_row1_col5\" class=\"data row1 col5\" >-10.5%</td>\n",
       "                        <td id=\"T_d995e_row1_col6\" class=\"data row1 col6\" >-7.6%</td>\n",
       "            </tr>\n",
       "            <tr>\n",
       "                        <th id=\"T_d995e_level0_row2\" class=\"row_heading level0 row2\" >total_rooms</th>\n",
       "                        <td id=\"T_d995e_row2_col0\" class=\"data row2 col0\" >33.3%</td>\n",
       "                        <td id=\"T_d995e_row2_col1\" class=\"data row2 col1\" >73.7%</td>\n",
       "                        <td id=\"T_d995e_row2_col2\" class=\"data row2 col2\" >100.0%</td>\n",
       "                        <td id=\"T_d995e_row2_col3\" class=\"data row2 col3\" >-3.9%</td>\n",
       "                        <td id=\"T_d995e_row2_col4\" class=\"data row2 col4\" >10.4%</td>\n",
       "                        <td id=\"T_d995e_row2_col5\" class=\"data row2 col5\" >-17.6%</td>\n",
       "                        <td id=\"T_d995e_row2_col6\" class=\"data row2 col6\" >-6.1%</td>\n",
       "            </tr>\n",
       "            <tr>\n",
       "                        <th id=\"T_d995e_level0_row3\" class=\"row_heading level0 row3\" >floor</th>\n",
       "                        <td id=\"T_d995e_row3_col0\" class=\"data row3 col0\" >12.6%</td>\n",
       "                        <td id=\"T_d995e_row3_col1\" class=\"data row3 col1\" >10.4%</td>\n",
       "                        <td id=\"T_d995e_row3_col2\" class=\"data row3 col2\" >-3.9%</td>\n",
       "                        <td id=\"T_d995e_row3_col3\" class=\"data row3 col3\" >100.0%</td>\n",
       "                        <td id=\"T_d995e_row3_col4\" class=\"data row3 col4\" >-7.9%</td>\n",
       "                        <td id=\"T_d995e_row3_col5\" class=\"data row3 col5\" >24.9%</td>\n",
       "                        <td id=\"T_d995e_row3_col6\" class=\"data row3 col6\" >-3.2%</td>\n",
       "            </tr>\n",
       "            <tr>\n",
       "                        <th id=\"T_d995e_level0_row4\" class=\"row_heading level0 row4\" >ceiling_height_m</th>\n",
       "                        <td id=\"T_d995e_row4_col0\" class=\"data row4 col0\" >10.2%</td>\n",
       "                        <td id=\"T_d995e_row4_col1\" class=\"data row4 col1\" >14.7%</td>\n",
       "                        <td id=\"T_d995e_row4_col2\" class=\"data row4 col2\" >10.4%</td>\n",
       "                        <td id=\"T_d995e_row4_col3\" class=\"data row4 col3\" >-7.9%</td>\n",
       "                        <td id=\"T_d995e_row4_col4\" class=\"data row4 col4\" >100.0%</td>\n",
       "                        <td id=\"T_d995e_row4_col5\" class=\"data row4 col5\" >-15.3%</td>\n",
       "                        <td id=\"T_d995e_row4_col6\" class=\"data row4 col6\" >-1.9%</td>\n",
       "            </tr>\n",
       "            <tr>\n",
       "                        <th id=\"T_d995e_level0_row5\" class=\"row_heading level0 row5\" >city_center_distance_km</th>\n",
       "                        <td id=\"T_d995e_row5_col0\" class=\"data row5 col0\" >-4.8%</td>\n",
       "                        <td id=\"T_d995e_row5_col1\" class=\"data row5 col1\" >-10.5%</td>\n",
       "                        <td id=\"T_d995e_row5_col2\" class=\"data row5 col2\" >-17.6%</td>\n",
       "                        <td id=\"T_d995e_row5_col3\" class=\"data row5 col3\" >24.9%</td>\n",
       "                        <td id=\"T_d995e_row5_col4\" class=\"data row5 col4\" >-15.3%</td>\n",
       "                        <td id=\"T_d995e_row5_col5\" class=\"data row5 col5\" >100.0%</td>\n",
       "                        <td id=\"T_d995e_row5_col6\" class=\"data row5 col6\" >3.2%</td>\n",
       "            </tr>\n",
       "            <tr>\n",
       "                        <th id=\"T_d995e_level0_row6\" class=\"row_heading level0 row6\" >year_exposition</th>\n",
       "                        <td id=\"T_d995e_row6_col0\" class=\"data row6 col0\" >-4.3%</td>\n",
       "                        <td id=\"T_d995e_row6_col1\" class=\"data row6 col1\" >-7.6%</td>\n",
       "                        <td id=\"T_d995e_row6_col2\" class=\"data row6 col2\" >-6.1%</td>\n",
       "                        <td id=\"T_d995e_row6_col3\" class=\"data row6 col3\" >-3.2%</td>\n",
       "                        <td id=\"T_d995e_row6_col4\" class=\"data row6 col4\" >-1.9%</td>\n",
       "                        <td id=\"T_d995e_row6_col5\" class=\"data row6 col5\" >3.2%</td>\n",
       "                        <td id=\"T_d995e_row6_col6\" class=\"data row6 col6\" >100.0%</td>\n",
       "            </tr>\n",
       "    </tbody></table>"
      ],
      "text/plain": [
       "<pandas.io.formats.style.Styler at 0x2805f0de610>"
      ]
     },
     "execution_count": 120,
     "metadata": {},
     "output_type": "execute_result"
    }
   ],
   "source": [
    "# the general correlation of the cost of the apartment from the parameters for the center of St. Petersburg\n",
    "(spb_center[['last_price',\n",
    "     'total_area_m2',\n",
    "     'total_rooms',\n",
    "     'floor',\n",
    "     'ceiling_height_m',\n",
    "     'city_center_distance_km',\n",
    "     'year_exposition']].copy()).corr().style.format(\"{:.1%}\")"
   ]
  },
  {
   "cell_type": "code",
   "execution_count": 121,
   "metadata": {},
   "outputs": [
    {
     "data": {
      "text/html": [
       "<style  type=\"text/css\" >\n",
       "</style><table id=\"T_253f6_\" ><thead>    <tr>        <th class=\"blank level0\" ></th>        <th class=\"col_heading level0 col0\" >last_price</th>        <th class=\"col_heading level0 col1\" >total_area_m2</th>        <th class=\"col_heading level0 col2\" >total_rooms</th>        <th class=\"col_heading level0 col3\" >floor</th>        <th class=\"col_heading level0 col4\" >ceiling_height_m</th>        <th class=\"col_heading level0 col5\" >city_center_distance_km</th>        <th class=\"col_heading level0 col6\" >year_exposition</th>    </tr></thead><tbody>\n",
       "                <tr>\n",
       "                        <th id=\"T_253f6_level0_row0\" class=\"row_heading level0 row0\" >last_price</th>\n",
       "                        <td id=\"T_253f6_row0_col0\" class=\"data row0 col0\" >100.0%</td>\n",
       "                        <td id=\"T_253f6_row0_col1\" class=\"data row0 col1\" >65.7%</td>\n",
       "                        <td id=\"T_253f6_row0_col2\" class=\"data row0 col2\" >37.2%</td>\n",
       "                        <td id=\"T_253f6_row0_col3\" class=\"data row0 col3\" >-0.1%</td>\n",
       "                        <td id=\"T_253f6_row0_col4\" class=\"data row0 col4\" >9.0%</td>\n",
       "                        <td id=\"T_253f6_row0_col5\" class=\"data row0 col5\" >-26.0%</td>\n",
       "                        <td id=\"T_253f6_row0_col6\" class=\"data row0 col6\" >-4.5%</td>\n",
       "            </tr>\n",
       "            <tr>\n",
       "                        <th id=\"T_253f6_level0_row1\" class=\"row_heading level0 row1\" >total_area_m2</th>\n",
       "                        <td id=\"T_253f6_row1_col0\" class=\"data row1 col0\" >65.7%</td>\n",
       "                        <td id=\"T_253f6_row1_col1\" class=\"data row1 col1\" >100.0%</td>\n",
       "                        <td id=\"T_253f6_row1_col2\" class=\"data row1 col2\" >75.9%</td>\n",
       "                        <td id=\"T_253f6_row1_col3\" class=\"data row1 col3\" >-3.7%</td>\n",
       "                        <td id=\"T_253f6_row1_col4\" class=\"data row1 col4\" >10.2%</td>\n",
       "                        <td id=\"T_253f6_row1_col5\" class=\"data row1 col5\" >-33.8%</td>\n",
       "                        <td id=\"T_253f6_row1_col6\" class=\"data row1 col6\" >-8.6%</td>\n",
       "            </tr>\n",
       "            <tr>\n",
       "                        <th id=\"T_253f6_level0_row2\" class=\"row_heading level0 row2\" >total_rooms</th>\n",
       "                        <td id=\"T_253f6_row2_col0\" class=\"data row2 col0\" >37.2%</td>\n",
       "                        <td id=\"T_253f6_row2_col1\" class=\"data row2 col1\" >75.9%</td>\n",
       "                        <td id=\"T_253f6_row2_col2\" class=\"data row2 col2\" >100.0%</td>\n",
       "                        <td id=\"T_253f6_row2_col3\" class=\"data row2 col3\" >-16.0%</td>\n",
       "                        <td id=\"T_253f6_row2_col4\" class=\"data row2 col4\" >6.3%</td>\n",
       "                        <td id=\"T_253f6_row2_col5\" class=\"data row2 col5\" >-29.4%</td>\n",
       "                        <td id=\"T_253f6_row2_col6\" class=\"data row2 col6\" >-6.1%</td>\n",
       "            </tr>\n",
       "            <tr>\n",
       "                        <th id=\"T_253f6_level0_row3\" class=\"row_heading level0 row3\" >floor</th>\n",
       "                        <td id=\"T_253f6_row3_col0\" class=\"data row3 col0\" >-0.1%</td>\n",
       "                        <td id=\"T_253f6_row3_col1\" class=\"data row3 col1\" >-3.7%</td>\n",
       "                        <td id=\"T_253f6_row3_col2\" class=\"data row3 col2\" >-16.0%</td>\n",
       "                        <td id=\"T_253f6_row3_col3\" class=\"data row3 col3\" >100.0%</td>\n",
       "                        <td id=\"T_253f6_row3_col4\" class=\"data row3 col4\" >-2.2%</td>\n",
       "                        <td id=\"T_253f6_row3_col5\" class=\"data row3 col5\" >22.8%</td>\n",
       "                        <td id=\"T_253f6_row3_col6\" class=\"data row3 col6\" >1.2%</td>\n",
       "            </tr>\n",
       "            <tr>\n",
       "                        <th id=\"T_253f6_level0_row4\" class=\"row_heading level0 row4\" >ceiling_height_m</th>\n",
       "                        <td id=\"T_253f6_row4_col0\" class=\"data row4 col0\" >9.0%</td>\n",
       "                        <td id=\"T_253f6_row4_col1\" class=\"data row4 col1\" >10.2%</td>\n",
       "                        <td id=\"T_253f6_row4_col2\" class=\"data row4 col2\" >6.3%</td>\n",
       "                        <td id=\"T_253f6_row4_col3\" class=\"data row4 col3\" >-2.2%</td>\n",
       "                        <td id=\"T_253f6_row4_col4\" class=\"data row4 col4\" >100.0%</td>\n",
       "                        <td id=\"T_253f6_row4_col5\" class=\"data row4 col5\" >-13.5%</td>\n",
       "                        <td id=\"T_253f6_row4_col6\" class=\"data row4 col6\" >-1.9%</td>\n",
       "            </tr>\n",
       "            <tr>\n",
       "                        <th id=\"T_253f6_level0_row5\" class=\"row_heading level0 row5\" >city_center_distance_km</th>\n",
       "                        <td id=\"T_253f6_row5_col0\" class=\"data row5 col0\" >-26.0%</td>\n",
       "                        <td id=\"T_253f6_row5_col1\" class=\"data row5 col1\" >-33.8%</td>\n",
       "                        <td id=\"T_253f6_row5_col2\" class=\"data row5 col2\" >-29.4%</td>\n",
       "                        <td id=\"T_253f6_row5_col3\" class=\"data row5 col3\" >22.8%</td>\n",
       "                        <td id=\"T_253f6_row5_col4\" class=\"data row5 col4\" >-13.5%</td>\n",
       "                        <td id=\"T_253f6_row5_col5\" class=\"data row5 col5\" >100.0%</td>\n",
       "                        <td id=\"T_253f6_row5_col6\" class=\"data row5 col6\" >8.5%</td>\n",
       "            </tr>\n",
       "            <tr>\n",
       "                        <th id=\"T_253f6_level0_row6\" class=\"row_heading level0 row6\" >year_exposition</th>\n",
       "                        <td id=\"T_253f6_row6_col0\" class=\"data row6 col0\" >-4.5%</td>\n",
       "                        <td id=\"T_253f6_row6_col1\" class=\"data row6 col1\" >-8.6%</td>\n",
       "                        <td id=\"T_253f6_row6_col2\" class=\"data row6 col2\" >-6.1%</td>\n",
       "                        <td id=\"T_253f6_row6_col3\" class=\"data row6 col3\" >1.2%</td>\n",
       "                        <td id=\"T_253f6_row6_col4\" class=\"data row6 col4\" >-1.9%</td>\n",
       "                        <td id=\"T_253f6_row6_col5\" class=\"data row6 col5\" >8.5%</td>\n",
       "                        <td id=\"T_253f6_row6_col6\" class=\"data row6 col6\" >100.0%</td>\n",
       "            </tr>\n",
       "    </tbody></table>"
      ],
      "text/plain": [
       "<pandas.io.formats.style.Styler at 0x2805eae4640>"
      ]
     },
     "execution_count": 121,
     "metadata": {},
     "output_type": "execute_result"
    }
   ],
   "source": [
    "# the general correlation of the cost of the apartment from the parameters for the whole of St. Petersburg\n",
    "(spb_all[['last_price',\n",
    "     'total_area_m2',\n",
    "     'total_rooms',\n",
    "     'floor',\n",
    "     'ceiling_height_m',\n",
    "     'city_center_distance_km',\n",
    "     'year_exposition']].copy()).corr().style.format(\"{:.1%}\")"
   ]
  },
  {
   "cell_type": "markdown",
   "metadata": {},
   "source": [
    "## Final conclusion"
   ]
  },
  {
   "cell_type": "markdown",
   "metadata": {},
   "source": [
    "1) The cost of apartments is lower than that of all other types of real estate.\n",
    "\n",
    "2) With the approach to the center of St. Petersburg, the cost of real estate usually usually increases, but the correlation coefficient is small, perhaps this is due to expensive real estate outside of St. Petersburg.\n",
    "\n",
    "3) The results of calculations based on data with and without emissions give approximately the same indicators\n",
    "\n",
    "4) For the sale of real estate in the center, first of all, important:\n",
    "\n",
    "-Price per square meter\n",
    "\n",
    "-All types of squares\n",
    "\n",
    "-Number of rooms\n",
    "\n",
    "-Proximity of parks and reservoirs\n",
    "\n",
    "-Floor\n",
    "\n",
    "Outside the center:\n",
    "\n",
    "-Squares\n",
    "\n",
    "-Number of rooms\n",
    "\n",
    "-Price per square meter\n",
    "\n",
    "-Balconies\n",
    "\n",
    "-Floor"
   ]
  }
 ],
 "metadata": {
  "ExecuteTimeLog": [
   {
    "duration": 1091,
    "start_time": "2021-12-02T07:48:11.915Z"
   },
   {
    "duration": 8,
    "start_time": "2021-12-02T07:48:21.585Z"
   },
   {
    "duration": 73,
    "start_time": "2021-12-02T07:49:01.055Z"
   },
   {
    "duration": 389,
    "start_time": "2021-12-02T07:49:11.365Z"
   },
   {
    "duration": 91,
    "start_time": "2021-12-02T07:49:51.160Z"
   },
   {
    "duration": 23,
    "start_time": "2021-12-02T07:53:45.312Z"
   },
   {
    "duration": 22,
    "start_time": "2021-12-02T07:53:55.511Z"
   },
   {
    "duration": 12,
    "start_time": "2021-12-02T07:54:34.440Z"
   },
   {
    "duration": 77,
    "start_time": "2021-12-02T07:54:54.316Z"
   },
   {
    "duration": 258,
    "start_time": "2021-12-02T09:01:16.909Z"
   },
   {
    "duration": 4,
    "start_time": "2021-12-02T09:01:20.686Z"
   },
   {
    "duration": 6,
    "start_time": "2021-12-02T09:01:27.773Z"
   },
   {
    "duration": 5,
    "start_time": "2021-12-02T09:24:19.681Z"
   },
   {
    "duration": 4,
    "start_time": "2021-12-02T09:25:19.497Z"
   },
   {
    "duration": 7,
    "start_time": "2021-12-02T09:25:34.664Z"
   },
   {
    "duration": 7,
    "start_time": "2021-12-02T09:25:37.166Z"
   },
   {
    "duration": 16,
    "start_time": "2021-12-02T09:27:09.363Z"
   },
   {
    "duration": 10,
    "start_time": "2021-12-02T09:29:19.096Z"
   },
   {
    "duration": 9,
    "start_time": "2021-12-02T09:29:40.727Z"
   },
   {
    "duration": 15,
    "start_time": "2021-12-02T09:30:52.395Z"
   },
   {
    "duration": 10,
    "start_time": "2021-12-02T09:31:19.839Z"
   },
   {
    "duration": 11,
    "start_time": "2021-12-02T09:31:31.250Z"
   },
   {
    "duration": 8,
    "start_time": "2021-12-02T09:35:55.066Z"
   },
   {
    "duration": 7,
    "start_time": "2021-12-02T10:07:46.109Z"
   },
   {
    "duration": 32,
    "start_time": "2021-12-02T10:07:53.858Z"
   },
   {
    "duration": 265,
    "start_time": "2021-12-02T10:16:07.748Z"
   },
   {
    "duration": 258,
    "start_time": "2021-12-02T10:16:14.737Z"
   },
   {
    "duration": 6,
    "start_time": "2021-12-02T10:16:27.834Z"
   },
   {
    "duration": 6,
    "start_time": "2021-12-02T10:16:54.483Z"
   },
   {
    "duration": 269,
    "start_time": "2021-12-02T10:19:04.819Z"
   },
   {
    "duration": 268,
    "start_time": "2021-12-02T10:19:17.206Z"
   },
   {
    "duration": 258,
    "start_time": "2021-12-02T10:19:55.117Z"
   },
   {
    "duration": 366,
    "start_time": "2021-12-02T10:20:01.668Z"
   },
   {
    "duration": 10,
    "start_time": "2021-12-02T10:20:13.594Z"
   },
   {
    "duration": 255,
    "start_time": "2021-12-02T10:22:35.902Z"
   },
   {
    "duration": 302,
    "start_time": "2021-12-02T10:22:43.671Z"
   },
   {
    "duration": 253,
    "start_time": "2021-12-02T10:22:49.299Z"
   },
   {
    "duration": 15,
    "start_time": "2021-12-02T10:24:41.099Z"
   },
   {
    "duration": 6,
    "start_time": "2021-12-02T10:26:06.581Z"
   },
   {
    "duration": 12,
    "start_time": "2021-12-02T11:20:50.986Z"
   },
   {
    "duration": 6,
    "start_time": "2021-12-02T11:22:04.908Z"
   },
   {
    "duration": 12,
    "start_time": "2021-12-02T11:23:25.393Z"
   },
   {
    "duration": 7,
    "start_time": "2021-12-02T11:23:55.465Z"
   },
   {
    "duration": 16,
    "start_time": "2021-12-02T11:26:52.783Z"
   },
   {
    "duration": 8,
    "start_time": "2021-12-02T11:27:45.392Z"
   },
   {
    "duration": 16,
    "start_time": "2021-12-02T11:28:08.585Z"
   },
   {
    "duration": 5,
    "start_time": "2021-12-02T11:30:21.786Z"
   },
   {
    "duration": 282,
    "start_time": "2021-12-02T11:42:44.768Z"
   },
   {
    "duration": 7,
    "start_time": "2021-12-02T11:42:55.538Z"
   },
   {
    "duration": 5,
    "start_time": "2021-12-02T11:43:35.465Z"
   },
   {
    "duration": 253,
    "start_time": "2021-12-02T11:43:56.629Z"
   },
   {
    "duration": 244,
    "start_time": "2021-12-02T11:44:03.810Z"
   },
   {
    "duration": 4,
    "start_time": "2021-12-02T11:45:14.218Z"
   },
   {
    "duration": 5,
    "start_time": "2021-12-02T11:45:45.081Z"
   },
   {
    "duration": 4,
    "start_time": "2021-12-02T11:47:38.307Z"
   },
   {
    "duration": 12,
    "start_time": "2021-12-02T11:48:11.866Z"
   },
   {
    "duration": -747,
    "start_time": "2021-12-02T11:50:04.359Z"
   },
   {
    "duration": 5,
    "start_time": "2021-12-02T11:50:09.333Z"
   },
   {
    "duration": 6273,
    "start_time": "2021-12-02T11:52:28.753Z"
   },
   {
    "duration": 6,
    "start_time": "2021-12-02T11:52:39.384Z"
   },
   {
    "duration": 5,
    "start_time": "2021-12-02T11:53:23.604Z"
   },
   {
    "duration": 4,
    "start_time": "2021-12-02T11:54:30.908Z"
   },
   {
    "duration": 8,
    "start_time": "2021-12-02T11:55:07.127Z"
   },
   {
    "duration": 5,
    "start_time": "2021-12-02T11:56:54.810Z"
   },
   {
    "duration": 5,
    "start_time": "2021-12-02T11:59:51.693Z"
   },
   {
    "duration": 7,
    "start_time": "2021-12-02T11:59:53.086Z"
   },
   {
    "duration": 6,
    "start_time": "2021-12-02T11:59:54.746Z"
   },
   {
    "duration": 5,
    "start_time": "2021-12-02T12:00:14.068Z"
   },
   {
    "duration": 6,
    "start_time": "2021-12-02T12:00:26.431Z"
   },
   {
    "duration": 5,
    "start_time": "2021-12-02T12:00:30.757Z"
   },
   {
    "duration": 5,
    "start_time": "2021-12-02T12:00:41.184Z"
   },
   {
    "duration": 283,
    "start_time": "2021-12-02T12:01:27.108Z"
   },
   {
    "duration": 47,
    "start_time": "2021-12-02T12:01:55.119Z"
   },
   {
    "duration": 5,
    "start_time": "2021-12-02T12:02:12.570Z"
   },
   {
    "duration": 297,
    "start_time": "2021-12-02T12:02:28.157Z"
   },
   {
    "duration": 13,
    "start_time": "2021-12-02T12:02:38.642Z"
   },
   {
    "duration": 5,
    "start_time": "2021-12-02T12:03:01.670Z"
   },
   {
    "duration": 7,
    "start_time": "2021-12-02T12:03:01.773Z"
   },
   {
    "duration": 13,
    "start_time": "2021-12-02T12:03:03.759Z"
   },
   {
    "duration": 5,
    "start_time": "2021-12-02T12:04:10.368Z"
   },
   {
    "duration": 13,
    "start_time": "2021-12-02T12:04:12.881Z"
   },
   {
    "duration": 52,
    "start_time": "2021-12-02T12:04:23.500Z"
   },
   {
    "duration": 39,
    "start_time": "2021-12-02T12:05:08.822Z"
   },
   {
    "duration": 6,
    "start_time": "2021-12-02T12:06:24.765Z"
   },
   {
    "duration": 5,
    "start_time": "2021-12-02T12:07:26.534Z"
   },
   {
    "duration": 5,
    "start_time": "2021-12-02T12:07:35.208Z"
   },
   {
    "duration": 5,
    "start_time": "2021-12-02T12:07:46.591Z"
   },
   {
    "duration": 6,
    "start_time": "2021-12-02T12:17:11.764Z"
   },
   {
    "duration": 317,
    "start_time": "2021-12-02T12:32:26.936Z"
   },
   {
    "duration": 9,
    "start_time": "2021-12-02T12:32:35.217Z"
   },
   {
    "duration": 24,
    "start_time": "2021-12-02T12:32:58.352Z"
   },
   {
    "duration": 25,
    "start_time": "2021-12-02T13:03:32.968Z"
   },
   {
    "duration": 21,
    "start_time": "2021-12-02T13:03:40.062Z"
   },
   {
    "duration": 633,
    "start_time": "2021-12-02T18:20:21.290Z"
   },
   {
    "duration": 90,
    "start_time": "2021-12-02T18:20:21.925Z"
   },
   {
    "duration": 21,
    "start_time": "2021-12-02T18:20:22.017Z"
   },
   {
    "duration": 25,
    "start_time": "2021-12-02T18:20:22.040Z"
   },
   {
    "duration": 24,
    "start_time": "2021-12-02T18:20:22.067Z"
   },
   {
    "duration": 69,
    "start_time": "2021-12-02T18:20:22.093Z"
   },
   {
    "duration": 4,
    "start_time": "2021-12-02T18:20:22.164Z"
   },
   {
    "duration": 4,
    "start_time": "2021-12-02T18:20:22.170Z"
   },
   {
    "duration": 4,
    "start_time": "2021-12-02T18:20:22.192Z"
   },
   {
    "duration": 13,
    "start_time": "2021-12-02T18:20:22.197Z"
   },
   {
    "duration": 8,
    "start_time": "2021-12-02T18:20:22.211Z"
   },
   {
    "duration": 26,
    "start_time": "2021-12-02T18:20:22.220Z"
   },
   {
    "duration": 4,
    "start_time": "2021-12-02T18:20:22.248Z"
   },
   {
    "duration": 40,
    "start_time": "2021-12-02T18:20:22.253Z"
   },
   {
    "duration": 15,
    "start_time": "2021-12-02T18:20:22.294Z"
   },
   {
    "duration": 6,
    "start_time": "2021-12-02T18:20:22.310Z"
   },
   {
    "duration": 13,
    "start_time": "2021-12-02T18:20:22.317Z"
   },
   {
    "duration": 4,
    "start_time": "2021-12-02T18:20:22.331Z"
   },
   {
    "duration": 6,
    "start_time": "2021-12-02T18:20:22.337Z"
   },
   {
    "duration": 13,
    "start_time": "2021-12-02T18:20:22.345Z"
   },
   {
    "duration": 6,
    "start_time": "2021-12-02T18:20:22.359Z"
   },
   {
    "duration": 12,
    "start_time": "2021-12-02T18:20:22.392Z"
   },
   {
    "duration": 5,
    "start_time": "2021-12-02T18:20:22.407Z"
   },
   {
    "duration": 8,
    "start_time": "2021-12-02T18:20:22.414Z"
   },
   {
    "duration": 7,
    "start_time": "2021-12-02T18:20:22.423Z"
   },
   {
    "duration": 6,
    "start_time": "2021-12-02T18:20:22.431Z"
   },
   {
    "duration": 5,
    "start_time": "2021-12-02T18:20:22.438Z"
   },
   {
    "duration": 12,
    "start_time": "2021-12-02T18:20:22.444Z"
   },
   {
    "duration": 36,
    "start_time": "2021-12-02T18:20:22.458Z"
   },
   {
    "duration": 4,
    "start_time": "2021-12-02T18:20:22.496Z"
   },
   {
    "duration": 5,
    "start_time": "2021-12-02T18:20:22.501Z"
   },
   {
    "duration": 6,
    "start_time": "2021-12-02T18:20:22.508Z"
   },
   {
    "duration": 11,
    "start_time": "2021-12-02T18:20:22.515Z"
   },
   {
    "duration": 5,
    "start_time": "2021-12-02T18:20:22.528Z"
   },
   {
    "duration": 4,
    "start_time": "2021-12-02T18:20:22.534Z"
   },
   {
    "duration": 7,
    "start_time": "2021-12-02T18:20:22.540Z"
   },
   {
    "duration": 49,
    "start_time": "2021-12-02T18:20:22.549Z"
   },
   {
    "duration": 23,
    "start_time": "2021-12-02T18:20:22.600Z"
   },
   {
    "duration": 23,
    "start_time": "2021-12-02T18:20:22.624Z"
   },
   {
    "duration": 45,
    "start_time": "2021-12-02T18:20:22.648Z"
   },
   {
    "duration": 3,
    "start_time": "2021-12-02T18:20:35.499Z"
   },
   {
    "duration": 88,
    "start_time": "2021-12-02T18:20:36.062Z"
   },
   {
    "duration": 23,
    "start_time": "2021-12-02T18:20:39.820Z"
   },
   {
    "duration": 24,
    "start_time": "2021-12-02T18:20:40.687Z"
   },
   {
    "duration": 12,
    "start_time": "2021-12-02T18:20:41.435Z"
   },
   {
    "duration": 72,
    "start_time": "2021-12-02T18:20:41.976Z"
   },
   {
    "duration": 5,
    "start_time": "2021-12-02T18:20:44.859Z"
   },
   {
    "duration": 4,
    "start_time": "2021-12-02T18:20:45.534Z"
   },
   {
    "duration": 4,
    "start_time": "2021-12-02T18:20:46.070Z"
   },
   {
    "duration": 10,
    "start_time": "2021-12-02T18:20:46.634Z"
   },
   {
    "duration": 6,
    "start_time": "2021-12-02T18:20:47.734Z"
   },
   {
    "duration": 24,
    "start_time": "2021-12-02T18:20:48.287Z"
   },
   {
    "duration": 5,
    "start_time": "2021-12-02T18:20:53.442Z"
   },
   {
    "duration": 10,
    "start_time": "2021-12-02T18:20:53.999Z"
   },
   {
    "duration": 15,
    "start_time": "2021-12-02T18:20:57.492Z"
   },
   {
    "duration": 6,
    "start_time": "2021-12-02T18:20:58.156Z"
   },
   {
    "duration": 11,
    "start_time": "2021-12-02T18:20:58.737Z"
   },
   {
    "duration": 5,
    "start_time": "2021-12-02T18:20:59.158Z"
   },
   {
    "duration": 6,
    "start_time": "2021-12-02T18:20:59.683Z"
   },
   {
    "duration": 12,
    "start_time": "2021-12-02T18:21:00.275Z"
   },
   {
    "duration": 5,
    "start_time": "2021-12-02T18:21:00.962Z"
   },
   {
    "duration": 14,
    "start_time": "2021-12-02T18:21:04.583Z"
   },
   {
    "duration": 6,
    "start_time": "2021-12-02T18:21:06.514Z"
   },
   {
    "duration": 6,
    "start_time": "2021-12-02T18:21:07.795Z"
   },
   {
    "duration": 4,
    "start_time": "2021-12-02T18:21:08.411Z"
   },
   {
    "duration": 4,
    "start_time": "2021-12-02T18:21:09.087Z"
   },
   {
    "duration": 4,
    "start_time": "2021-12-02T18:21:11.619Z"
   },
   {
    "duration": 12,
    "start_time": "2021-12-02T18:21:12.112Z"
   },
   {
    "duration": 5,
    "start_time": "2021-12-02T18:21:14.342Z"
   },
   {
    "duration": 5,
    "start_time": "2021-12-02T18:21:15.198Z"
   },
   {
    "duration": 3,
    "start_time": "2021-12-02T18:21:15.861Z"
   },
   {
    "duration": 6,
    "start_time": "2021-12-02T18:21:17.466Z"
   },
   {
    "duration": 11,
    "start_time": "2021-12-02T18:21:18.117Z"
   },
   {
    "duration": 7,
    "start_time": "2021-12-02T18:21:20.137Z"
   },
   {
    "duration": 5,
    "start_time": "2021-12-02T18:21:21.714Z"
   },
   {
    "duration": 6,
    "start_time": "2021-12-02T18:21:22.662Z"
   },
   {
    "duration": 9,
    "start_time": "2021-12-02T18:21:25.168Z"
   },
   {
    "duration": 25,
    "start_time": "2021-12-02T18:21:25.609Z"
   },
   {
    "duration": 24,
    "start_time": "2021-12-02T18:21:26.258Z"
   },
   {
    "duration": 23,
    "start_time": "2021-12-02T18:21:27.960Z"
   },
   {
    "duration": 78,
    "start_time": "2021-12-02T18:44:27.694Z"
   },
   {
    "duration": 431,
    "start_time": "2021-12-02T18:44:38.044Z"
   },
   {
    "duration": 5006,
    "start_time": "2021-12-02T18:47:15.025Z"
   },
   {
    "duration": 4409,
    "start_time": "2021-12-02T18:47:40.334Z"
   },
   {
    "duration": 681,
    "start_time": "2021-12-02T18:48:50.918Z"
   },
   {
    "duration": 4205,
    "start_time": "2021-12-02T18:49:01.597Z"
   },
   {
    "duration": 4217,
    "start_time": "2021-12-02T18:54:08.760Z"
   },
   {
    "duration": 5014,
    "start_time": "2021-12-02T18:54:26.598Z"
   },
   {
    "duration": 7,
    "start_time": "2021-12-02T18:55:26.340Z"
   },
   {
    "duration": 23,
    "start_time": "2021-12-02T18:55:32.053Z"
   },
   {
    "duration": 8,
    "start_time": "2021-12-02T18:57:20.758Z"
   },
   {
    "duration": 4,
    "start_time": "2021-12-02T18:57:50.220Z"
   },
   {
    "duration": 80,
    "start_time": "2021-12-02T18:58:28.660Z"
   },
   {
    "duration": 3,
    "start_time": "2021-12-02T19:02:12.476Z"
   },
   {
    "duration": 553,
    "start_time": "2021-12-02T19:03:13.111Z"
   },
   {
    "duration": 4,
    "start_time": "2021-12-02T19:05:08.989Z"
   },
   {
    "duration": 25,
    "start_time": "2021-12-02T19:05:23.158Z"
   },
   {
    "duration": 6,
    "start_time": "2021-12-02T19:09:39.663Z"
   },
   {
    "duration": 23,
    "start_time": "2021-12-02T19:09:49.390Z"
   },
   {
    "duration": 14,
    "start_time": "2021-12-02T19:11:23.188Z"
   },
   {
    "duration": 12,
    "start_time": "2021-12-02T19:43:21.451Z"
   },
   {
    "duration": 22,
    "start_time": "2021-12-02T19:43:32.295Z"
   },
   {
    "duration": 18,
    "start_time": "2021-12-02T19:53:28.989Z"
   },
   {
    "duration": 178,
    "start_time": "2021-12-02T19:57:34.721Z"
   },
   {
    "duration": 5,
    "start_time": "2021-12-02T19:57:57.756Z"
   },
   {
    "duration": 10,
    "start_time": "2021-12-02T19:58:53.926Z"
   },
   {
    "duration": 10,
    "start_time": "2021-12-02T20:08:32.006Z"
   },
   {
    "duration": 225,
    "start_time": "2021-12-02T20:13:07.448Z"
   },
   {
    "duration": 232,
    "start_time": "2021-12-02T20:13:14.690Z"
   },
   {
    "duration": 347,
    "start_time": "2021-12-02T20:13:23.272Z"
   },
   {
    "duration": 1611,
    "start_time": "2021-12-02T20:13:34.698Z"
   },
   {
    "duration": 341,
    "start_time": "2021-12-02T20:13:40.680Z"
   },
   {
    "duration": 185,
    "start_time": "2021-12-02T20:14:11.733Z"
   },
   {
    "duration": 334,
    "start_time": "2021-12-02T20:14:20.187Z"
   },
   {
    "duration": 338,
    "start_time": "2021-12-02T20:14:30.979Z"
   },
   {
    "duration": 302,
    "start_time": "2021-12-02T20:14:39.080Z"
   },
   {
    "duration": 370,
    "start_time": "2021-12-02T20:14:47.029Z"
   },
   {
    "duration": 459,
    "start_time": "2021-12-02T20:14:55.421Z"
   },
   {
    "duration": 363,
    "start_time": "2021-12-02T20:15:09.492Z"
   },
   {
    "duration": 224,
    "start_time": "2021-12-02T20:15:50.040Z"
   },
   {
    "duration": 375,
    "start_time": "2021-12-02T20:15:57.325Z"
   },
   {
    "duration": 399,
    "start_time": "2021-12-02T20:16:27.380Z"
   },
   {
    "duration": 383,
    "start_time": "2021-12-02T20:17:24.216Z"
   },
   {
    "duration": 395,
    "start_time": "2021-12-02T20:17:33.807Z"
   },
   {
    "duration": 241,
    "start_time": "2021-12-02T20:17:40.352Z"
   },
   {
    "duration": 229,
    "start_time": "2021-12-02T20:17:53.887Z"
   },
   {
    "duration": 229,
    "start_time": "2021-12-02T20:19:11.456Z"
   },
   {
    "duration": 242,
    "start_time": "2021-12-02T20:19:19.437Z"
   },
   {
    "duration": 746,
    "start_time": "2021-12-02T20:19:25.804Z"
   },
   {
    "duration": 271,
    "start_time": "2021-12-02T20:19:33.244Z"
   },
   {
    "duration": 512,
    "start_time": "2021-12-02T20:19:47.255Z"
   },
   {
    "duration": 466,
    "start_time": "2021-12-02T20:19:53.581Z"
   },
   {
    "duration": 445,
    "start_time": "2021-12-02T20:20:05.390Z"
   },
   {
    "duration": 482,
    "start_time": "2021-12-02T20:20:10.317Z"
   },
   {
    "duration": 476,
    "start_time": "2021-12-02T20:20:24.324Z"
   },
   {
    "duration": 842,
    "start_time": "2021-12-02T20:20:34.165Z"
   },
   {
    "duration": 622,
    "start_time": "2021-12-02T20:20:39.732Z"
   },
   {
    "duration": 221,
    "start_time": "2021-12-02T20:22:07.844Z"
   },
   {
    "duration": 232,
    "start_time": "2021-12-02T20:22:15.381Z"
   },
   {
    "duration": 227,
    "start_time": "2021-12-02T20:22:23.396Z"
   },
   {
    "duration": 244,
    "start_time": "2021-12-02T20:22:29.990Z"
   },
   {
    "duration": 227,
    "start_time": "2021-12-02T20:22:36.953Z"
   },
   {
    "duration": 205,
    "start_time": "2021-12-02T20:22:52.156Z"
   },
   {
    "duration": 262,
    "start_time": "2021-12-02T20:23:10.996Z"
   },
   {
    "duration": -575,
    "start_time": "2021-12-02T20:25:05.942Z"
   },
   {
    "duration": 10,
    "start_time": "2021-12-02T20:25:08.230Z"
   },
   {
    "duration": 229,
    "start_time": "2021-12-02T20:25:55.373Z"
   },
   {
    "duration": 221,
    "start_time": "2021-12-02T20:26:53.614Z"
   },
   {
    "duration": 250,
    "start_time": "2021-12-02T20:27:21.133Z"
   },
   {
    "duration": 14,
    "start_time": "2021-12-02T20:27:21.385Z"
   },
   {
    "duration": 247,
    "start_time": "2021-12-02T20:27:21.401Z"
   },
   {
    "duration": 168,
    "start_time": "2021-12-02T20:28:01.154Z"
   },
   {
    "duration": 190,
    "start_time": "2021-12-02T20:29:59.694Z"
   },
   {
    "duration": 442,
    "start_time": "2021-12-02T20:32:13.264Z"
   },
   {
    "duration": 150,
    "start_time": "2021-12-02T20:33:28.300Z"
   },
   {
    "duration": 5,
    "start_time": "2021-12-02T20:52:12.215Z"
   },
   {
    "duration": 457,
    "start_time": "2021-12-02T20:53:19.383Z"
   },
   {
    "duration": 5,
    "start_time": "2021-12-02T20:55:17.465Z"
   },
   {
    "duration": 475,
    "start_time": "2021-12-02T20:55:19.369Z"
   },
   {
    "duration": 5,
    "start_time": "2021-12-02T20:56:14.446Z"
   },
   {
    "duration": 485,
    "start_time": "2021-12-02T20:56:15.636Z"
   },
   {
    "duration": 5,
    "start_time": "2021-12-02T20:57:20.418Z"
   },
   {
    "duration": 521,
    "start_time": "2021-12-02T20:57:23.277Z"
   },
   {
    "duration": 522,
    "start_time": "2021-12-02T20:59:15.843Z"
   },
   {
    "duration": 456,
    "start_time": "2021-12-02T20:59:43.291Z"
   },
   {
    "duration": 4,
    "start_time": "2021-12-02T21:00:34.734Z"
   },
   {
    "duration": 454,
    "start_time": "2021-12-02T21:00:35.526Z"
   },
   {
    "duration": 516,
    "start_time": "2021-12-02T21:00:52.333Z"
   },
   {
    "duration": 4,
    "start_time": "2021-12-02T21:01:21.695Z"
   },
   {
    "duration": 240,
    "start_time": "2021-12-02T21:01:22.451Z"
   },
   {
    "duration": 819,
    "start_time": "2021-12-02T21:02:49.316Z"
   },
   {
    "duration": 227,
    "start_time": "2021-12-02T21:03:00.906Z"
   },
   {
    "duration": 270,
    "start_time": "2021-12-02T21:03:10.828Z"
   },
   {
    "duration": 225,
    "start_time": "2021-12-02T21:03:21.734Z"
   },
   {
    "duration": 219,
    "start_time": "2021-12-02T21:03:28.151Z"
   },
   {
    "duration": 222,
    "start_time": "2021-12-02T21:03:39.441Z"
   },
   {
    "duration": 219,
    "start_time": "2021-12-02T21:03:42.017Z"
   },
   {
    "duration": 176,
    "start_time": "2021-12-02T21:05:25.390Z"
   },
   {
    "duration": 15,
    "start_time": "2021-12-02T21:05:38.702Z"
   },
   {
    "duration": 14,
    "start_time": "2021-12-02T21:05:57.292Z"
   },
   {
    "duration": 709,
    "start_time": "2021-12-03T08:25:09.020Z"
   },
   {
    "duration": 94,
    "start_time": "2021-12-03T08:25:09.731Z"
   },
   {
    "duration": 23,
    "start_time": "2021-12-03T08:25:09.952Z"
   },
   {
    "duration": 26,
    "start_time": "2021-12-03T08:25:10.686Z"
   },
   {
    "duration": 12,
    "start_time": "2021-12-03T08:25:11.255Z"
   },
   {
    "duration": 69,
    "start_time": "2021-12-03T08:25:11.841Z"
   },
   {
    "duration": 5,
    "start_time": "2021-12-03T08:25:15.072Z"
   },
   {
    "duration": 4,
    "start_time": "2021-12-03T08:25:15.889Z"
   },
   {
    "duration": 4,
    "start_time": "2021-12-03T08:25:16.710Z"
   },
   {
    "duration": 21,
    "start_time": "2021-12-03T08:25:18.372Z"
   },
   {
    "duration": 7,
    "start_time": "2021-12-03T08:25:25.815Z"
   },
   {
    "duration": 24,
    "start_time": "2021-12-03T08:25:26.520Z"
   },
   {
    "duration": 5,
    "start_time": "2021-12-03T08:25:28.626Z"
   },
   {
    "duration": 11,
    "start_time": "2021-12-03T08:25:29.356Z"
   },
   {
    "duration": 15,
    "start_time": "2021-12-03T08:25:30.024Z"
   },
   {
    "duration": 5,
    "start_time": "2021-12-03T08:25:32.528Z"
   },
   {
    "duration": 12,
    "start_time": "2021-12-03T08:25:33.386Z"
   },
   {
    "duration": 6,
    "start_time": "2021-12-03T08:25:34.025Z"
   },
   {
    "duration": 5,
    "start_time": "2021-12-03T08:25:34.645Z"
   },
   {
    "duration": 14,
    "start_time": "2021-12-03T08:25:35.214Z"
   },
   {
    "duration": 6,
    "start_time": "2021-12-03T08:25:35.889Z"
   },
   {
    "duration": 12,
    "start_time": "2021-12-03T08:25:36.905Z"
   },
   {
    "duration": 5,
    "start_time": "2021-12-03T08:25:38.886Z"
   },
   {
    "duration": 7,
    "start_time": "2021-12-03T08:25:40.820Z"
   },
   {
    "duration": 4,
    "start_time": "2021-12-03T08:25:41.887Z"
   },
   {
    "duration": 5,
    "start_time": "2021-12-03T08:25:42.095Z"
   },
   {
    "duration": 5,
    "start_time": "2021-12-03T08:25:42.703Z"
   },
   {
    "duration": 12,
    "start_time": "2021-12-03T08:25:43.548Z"
   },
   {
    "duration": 4,
    "start_time": "2021-12-03T08:25:44.987Z"
   },
   {
    "duration": 4,
    "start_time": "2021-12-03T08:25:46.540Z"
   },
   {
    "duration": 4,
    "start_time": "2021-12-03T08:25:47.215Z"
   },
   {
    "duration": 6,
    "start_time": "2021-12-03T08:25:47.686Z"
   },
   {
    "duration": 13,
    "start_time": "2021-12-03T08:25:48.370Z"
   },
   {
    "duration": 6,
    "start_time": "2021-12-03T08:25:49.025Z"
   },
   {
    "duration": 5,
    "start_time": "2021-12-03T08:25:49.835Z"
   },
   {
    "duration": 5,
    "start_time": "2021-12-03T08:25:51.701Z"
   },
   {
    "duration": 9,
    "start_time": "2021-12-03T08:25:52.362Z"
   },
   {
    "duration": 21,
    "start_time": "2021-12-03T08:25:54.287Z"
   },
   {
    "duration": 23,
    "start_time": "2021-12-03T08:25:54.836Z"
   },
   {
    "duration": 20,
    "start_time": "2021-12-03T08:25:55.529Z"
   },
   {
    "duration": 6,
    "start_time": "2021-12-03T08:25:56.367Z"
   },
   {
    "duration": 23,
    "start_time": "2021-12-03T08:25:57.139Z"
   },
   {
    "duration": 9,
    "start_time": "2021-12-03T08:25:57.755Z"
   },
   {
    "duration": 4,
    "start_time": "2021-12-03T08:25:58.403Z"
   },
   {
    "duration": 78,
    "start_time": "2021-12-03T08:25:59.075Z"
   },
   {
    "duration": 565,
    "start_time": "2021-12-03T08:25:59.605Z"
   },
   {
    "duration": 5,
    "start_time": "2021-12-03T08:26:00.350Z"
   },
   {
    "duration": 23,
    "start_time": "2021-12-03T08:26:01.973Z"
   },
   {
    "duration": 6,
    "start_time": "2021-12-03T08:26:02.779Z"
   },
   {
    "duration": 23,
    "start_time": "2021-12-03T08:26:03.578Z"
   },
   {
    "duration": 14,
    "start_time": "2021-12-03T08:26:04.603Z"
   },
   {
    "duration": 22,
    "start_time": "2021-12-03T08:26:07.041Z"
   },
   {
    "duration": 18,
    "start_time": "2021-12-03T08:26:07.762Z"
   },
   {
    "duration": 8,
    "start_time": "2021-12-03T08:26:08.727Z"
   },
   {
    "duration": 9,
    "start_time": "2021-12-03T08:26:09.439Z"
   },
   {
    "duration": 388,
    "start_time": "2021-12-03T08:26:10.933Z"
   },
   {
    "duration": 373,
    "start_time": "2021-12-03T08:26:12.489Z"
   },
   {
    "duration": 231,
    "start_time": "2021-12-03T08:26:14.422Z"
   },
   {
    "duration": 214,
    "start_time": "2021-12-03T08:26:15.872Z"
   },
   {
    "duration": 9,
    "start_time": "2021-12-03T08:26:16.678Z"
   },
   {
    "duration": 214,
    "start_time": "2021-12-03T08:26:17.598Z"
   },
   {
    "duration": 4,
    "start_time": "2021-12-03T08:26:18.766Z"
   },
   {
    "duration": 212,
    "start_time": "2021-12-03T08:26:19.810Z"
   },
   {
    "duration": 14,
    "start_time": "2021-12-03T08:26:21.183Z"
   },
   {
    "duration": 13,
    "start_time": "2021-12-03T08:26:22.293Z"
   },
   {
    "duration": 246,
    "start_time": "2021-12-03T08:39:57.471Z"
   },
   {
    "duration": 14,
    "start_time": "2021-12-03T08:41:24.368Z"
   },
   {
    "duration": 13,
    "start_time": "2021-12-03T08:41:50.275Z"
   },
   {
    "duration": 12,
    "start_time": "2021-12-03T08:41:58.323Z"
   },
   {
    "duration": 14,
    "start_time": "2021-12-03T08:42:05.358Z"
   },
   {
    "duration": 221,
    "start_time": "2021-12-03T08:43:27.784Z"
   },
   {
    "duration": 210,
    "start_time": "2021-12-03T08:43:37.162Z"
   },
   {
    "duration": 218,
    "start_time": "2021-12-03T08:43:41.808Z"
   },
   {
    "duration": 272,
    "start_time": "2021-12-03T08:43:49.579Z"
   },
   {
    "duration": 11,
    "start_time": "2021-12-03T08:44:43.884Z"
   },
   {
    "duration": 217,
    "start_time": "2021-12-03T08:47:13.229Z"
   },
   {
    "duration": 13,
    "start_time": "2021-12-03T08:47:59.902Z"
   },
   {
    "duration": 14,
    "start_time": "2021-12-03T08:48:13.991Z"
   },
   {
    "duration": 346,
    "start_time": "2021-12-03T08:52:21.452Z"
   },
   {
    "duration": 335,
    "start_time": "2021-12-03T08:52:28.217Z"
   },
   {
    "duration": 339,
    "start_time": "2021-12-03T08:52:33.923Z"
   },
   {
    "duration": 378,
    "start_time": "2021-12-03T08:52:44.381Z"
   },
   {
    "duration": 979,
    "start_time": "2021-12-03T08:53:03.360Z"
   },
   {
    "duration": 400,
    "start_time": "2021-12-03T08:53:12.308Z"
   },
   {
    "duration": 336,
    "start_time": "2021-12-03T08:53:18.395Z"
   },
   {
    "duration": 320,
    "start_time": "2021-12-03T08:53:31.877Z"
   },
   {
    "duration": 8874,
    "start_time": "2021-12-03T09:05:35.829Z"
   },
   {
    "duration": 8992,
    "start_time": "2021-12-03T09:06:19.916Z"
   },
   {
    "duration": 23,
    "start_time": "2021-12-03T09:07:28.422Z"
   },
   {
    "duration": 345,
    "start_time": "2021-12-03T09:10:52.122Z"
   },
   {
    "duration": 794,
    "start_time": "2021-12-03T09:11:42.083Z"
   },
   {
    "duration": 28,
    "start_time": "2021-12-03T09:11:59.270Z"
   },
   {
    "duration": 25,
    "start_time": "2021-12-03T09:12:05.282Z"
   },
   {
    "duration": 23,
    "start_time": "2021-12-03T09:12:15.129Z"
   },
   {
    "duration": 24,
    "start_time": "2021-12-03T09:12:22.966Z"
   },
   {
    "duration": 353,
    "start_time": "2021-12-03T09:15:50.162Z"
   },
   {
    "duration": 27,
    "start_time": "2021-12-03T09:16:09.051Z"
   },
   {
    "duration": 35,
    "start_time": "2021-12-03T09:17:07.500Z"
   },
   {
    "duration": 304,
    "start_time": "2021-12-03T09:26:21.940Z"
   },
   {
    "duration": 400,
    "start_time": "2021-12-03T09:27:15.072Z"
   },
   {
    "duration": 361,
    "start_time": "2021-12-03T09:28:05.636Z"
   },
   {
    "duration": 440,
    "start_time": "2021-12-03T09:30:07.437Z"
   },
   {
    "duration": 322,
    "start_time": "2021-12-03T09:31:22.889Z"
   },
   {
    "duration": 288,
    "start_time": "2021-12-03T09:32:10.594Z"
   },
   {
    "duration": 284,
    "start_time": "2021-12-03T09:32:56.368Z"
   },
   {
    "duration": 9,
    "start_time": "2021-12-03T09:37:22.927Z"
   },
   {
    "duration": 111,
    "start_time": "2021-12-03T09:42:04.019Z"
   },
   {
    "duration": 12,
    "start_time": "2021-12-03T09:42:29.010Z"
   },
   {
    "duration": 12,
    "start_time": "2021-12-03T09:43:02.523Z"
   },
   {
    "duration": 16,
    "start_time": "2021-12-03T09:48:57.801Z"
   },
   {
    "duration": 9,
    "start_time": "2021-12-03T09:49:20.359Z"
   },
   {
    "duration": 12,
    "start_time": "2021-12-03T09:49:28.130Z"
   },
   {
    "duration": 337,
    "start_time": "2021-12-03T09:51:41.849Z"
   },
   {
    "duration": 1829,
    "start_time": "2021-12-03T09:55:06.172Z"
   },
   {
    "duration": 6979,
    "start_time": "2021-12-03T09:55:43.848Z"
   },
   {
    "duration": 17,
    "start_time": "2021-12-03T09:55:56.573Z"
   },
   {
    "duration": 379,
    "start_time": "2021-12-03T09:56:21.262Z"
   },
   {
    "duration": 23,
    "start_time": "2021-12-03T09:56:37.488Z"
   },
   {
    "duration": 12,
    "start_time": "2021-12-03T09:57:52.935Z"
   },
   {
    "duration": 3303,
    "start_time": "2021-12-03T09:58:01.598Z"
   },
   {
    "duration": 381,
    "start_time": "2021-12-03T09:58:07.015Z"
   },
   {
    "duration": 11,
    "start_time": "2021-12-03T09:58:21.576Z"
   },
   {
    "duration": 14,
    "start_time": "2021-12-03T09:58:47.053Z"
   },
   {
    "duration": 16,
    "start_time": "2021-12-03T09:59:11.350Z"
   },
   {
    "duration": 331,
    "start_time": "2021-12-03T10:01:09.488Z"
   },
   {
    "duration": 114,
    "start_time": "2021-12-03T10:01:13.024Z"
   },
   {
    "duration": 914,
    "start_time": "2021-12-03T10:01:30.996Z"
   },
   {
    "duration": 318,
    "start_time": "2021-12-03T10:01:44.339Z"
   },
   {
    "duration": 9,
    "start_time": "2021-12-03T10:01:59.054Z"
   },
   {
    "duration": 10,
    "start_time": "2021-12-03T10:02:13.478Z"
   },
   {
    "duration": 327,
    "start_time": "2021-12-03T10:03:25.475Z"
   },
   {
    "duration": 388,
    "start_time": "2021-12-03T10:06:22.016Z"
   },
   {
    "duration": 339,
    "start_time": "2021-12-03T10:10:07.702Z"
   },
   {
    "duration": 10,
    "start_time": "2021-12-03T10:10:54.189Z"
   },
   {
    "duration": 106,
    "start_time": "2021-12-03T10:11:05.217Z"
   },
   {
    "duration": 11,
    "start_time": "2021-12-03T10:11:19.308Z"
   },
   {
    "duration": 328,
    "start_time": "2021-12-03T10:12:17.491Z"
   },
   {
    "duration": 110,
    "start_time": "2021-12-03T10:15:23.274Z"
   },
   {
    "duration": 104,
    "start_time": "2021-12-03T10:15:32.289Z"
   },
   {
    "duration": 342,
    "start_time": "2021-12-03T10:15:48.163Z"
   },
   {
    "duration": 341,
    "start_time": "2021-12-03T10:15:59.052Z"
   },
   {
    "duration": 479,
    "start_time": "2021-12-03T10:19:03.062Z"
   },
   {
    "duration": 897,
    "start_time": "2021-12-03T10:20:05.320Z"
   },
   {
    "duration": 10884,
    "start_time": "2021-12-03T10:20:19.163Z"
   },
   {
    "duration": 261,
    "start_time": "2021-12-03T10:20:50.453Z"
   },
   {
    "duration": 9,
    "start_time": "2021-12-03T10:23:08.503Z"
   },
   {
    "duration": 8,
    "start_time": "2021-12-03T10:23:36.546Z"
   },
   {
    "duration": 189,
    "start_time": "2021-12-03T10:24:37.918Z"
   },
   {
    "duration": 4,
    "start_time": "2021-12-03T10:30:45.138Z"
   },
   {
    "duration": 4,
    "start_time": "2021-12-03T10:30:56.327Z"
   },
   {
    "duration": 620,
    "start_time": "2021-12-03T10:31:38.921Z"
   },
   {
    "duration": 5,
    "start_time": "2021-12-03T10:36:01.642Z"
   },
   {
    "duration": 5,
    "start_time": "2021-12-03T10:36:17.776Z"
   },
   {
    "duration": 6,
    "start_time": "2021-12-03T10:36:31.244Z"
   },
   {
    "duration": 5,
    "start_time": "2021-12-03T10:36:40.939Z"
   },
   {
    "duration": 10,
    "start_time": "2021-12-03T10:40:45.629Z"
   },
   {
    "duration": 14,
    "start_time": "2021-12-03T10:41:02.378Z"
   },
   {
    "duration": 329,
    "start_time": "2021-12-03T10:44:23.348Z"
   },
   {
    "duration": 77,
    "start_time": "2021-12-03T10:44:28.513Z"
   },
   {
    "duration": 9,
    "start_time": "2021-12-03T10:44:58.744Z"
   },
   {
    "duration": 9,
    "start_time": "2021-12-03T10:45:25.087Z"
   },
   {
    "duration": 11,
    "start_time": "2021-12-03T10:45:42.540Z"
   },
   {
    "duration": 337,
    "start_time": "2021-12-03T10:56:23.775Z"
   },
   {
    "duration": 341,
    "start_time": "2021-12-03T10:57:17.911Z"
   },
   {
    "duration": 12,
    "start_time": "2021-12-03T10:58:31.091Z"
   },
   {
    "duration": 348,
    "start_time": "2021-12-03T10:58:34.484Z"
   },
   {
    "duration": 12,
    "start_time": "2021-12-03T11:00:22.956Z"
   },
   {
    "duration": 92,
    "start_time": "2021-12-03T11:00:24.739Z"
   },
   {
    "duration": 84,
    "start_time": "2021-12-03T11:00:33.122Z"
   },
   {
    "duration": 93,
    "start_time": "2021-12-03T11:00:47.165Z"
   },
   {
    "duration": 7,
    "start_time": "2021-12-03T11:12:54.488Z"
   },
   {
    "duration": 6,
    "start_time": "2021-12-03T11:13:07.935Z"
   },
   {
    "duration": 6,
    "start_time": "2021-12-03T11:13:18.507Z"
   },
   {
    "duration": 18,
    "start_time": "2021-12-03T11:13:52.480Z"
   },
   {
    "duration": 7,
    "start_time": "2021-12-03T11:14:06.461Z"
   },
   {
    "duration": 8,
    "start_time": "2021-12-03T11:14:24.510Z"
   },
   {
    "duration": 8,
    "start_time": "2021-12-03T11:14:35.800Z"
   },
   {
    "duration": 90,
    "start_time": "2021-12-03T11:15:02.931Z"
   },
   {
    "duration": 20,
    "start_time": "2021-12-03T11:15:15.136Z"
   },
   {
    "duration": 4,
    "start_time": "2021-12-03T11:41:30.023Z"
   },
   {
    "duration": 85,
    "start_time": "2021-12-03T11:41:30.374Z"
   },
   {
    "duration": 23,
    "start_time": "2021-12-03T11:41:30.746Z"
   },
   {
    "duration": 27,
    "start_time": "2021-12-03T11:41:31.284Z"
   },
   {
    "duration": 12,
    "start_time": "2021-12-03T11:41:31.485Z"
   },
   {
    "duration": 68,
    "start_time": "2021-12-03T11:41:31.851Z"
   },
   {
    "duration": 4,
    "start_time": "2021-12-03T11:41:33.390Z"
   },
   {
    "duration": 4,
    "start_time": "2021-12-03T11:41:33.698Z"
   },
   {
    "duration": 4,
    "start_time": "2021-12-03T11:41:33.981Z"
   },
   {
    "duration": 11,
    "start_time": "2021-12-03T11:41:34.300Z"
   },
   {
    "duration": 6,
    "start_time": "2021-12-03T11:41:34.966Z"
   },
   {
    "duration": 21,
    "start_time": "2021-12-03T11:41:35.323Z"
   },
   {
    "duration": 5,
    "start_time": "2021-12-03T11:41:35.985Z"
   },
   {
    "duration": 9,
    "start_time": "2021-12-03T11:41:36.336Z"
   },
   {
    "duration": 12,
    "start_time": "2021-12-03T11:41:36.841Z"
   },
   {
    "duration": 5,
    "start_time": "2021-12-03T11:41:37.500Z"
   },
   {
    "duration": 11,
    "start_time": "2021-12-03T11:41:37.885Z"
   },
   {
    "duration": 5,
    "start_time": "2021-12-03T11:41:38.302Z"
   },
   {
    "duration": 5,
    "start_time": "2021-12-03T11:41:38.762Z"
   },
   {
    "duration": 12,
    "start_time": "2021-12-03T11:41:39.156Z"
   },
   {
    "duration": 6,
    "start_time": "2021-12-03T11:41:39.539Z"
   },
   {
    "duration": 16,
    "start_time": "2021-12-03T11:41:40.042Z"
   },
   {
    "duration": 12,
    "start_time": "2021-12-03T11:41:40.470Z"
   },
   {
    "duration": 6,
    "start_time": "2021-12-03T11:41:41.597Z"
   },
   {
    "duration": 6,
    "start_time": "2021-12-03T11:41:42.426Z"
   },
   {
    "duration": 4,
    "start_time": "2021-12-03T11:41:42.829Z"
   },
   {
    "duration": 5,
    "start_time": "2021-12-03T11:41:43.141Z"
   },
   {
    "duration": 5,
    "start_time": "2021-12-03T11:41:43.497Z"
   },
   {
    "duration": 14,
    "start_time": "2021-12-03T11:41:43.804Z"
   },
   {
    "duration": 5,
    "start_time": "2021-12-03T11:41:44.283Z"
   },
   {
    "duration": 4,
    "start_time": "2021-12-03T11:41:44.511Z"
   },
   {
    "duration": 4,
    "start_time": "2021-12-03T11:41:44.730Z"
   },
   {
    "duration": 5,
    "start_time": "2021-12-03T11:41:44.938Z"
   },
   {
    "duration": 12,
    "start_time": "2021-12-03T11:41:45.146Z"
   },
   {
    "duration": 6,
    "start_time": "2021-12-03T11:41:45.350Z"
   },
   {
    "duration": 4,
    "start_time": "2021-12-03T11:41:45.536Z"
   },
   {
    "duration": 5,
    "start_time": "2021-12-03T11:41:46.485Z"
   },
   {
    "duration": 25,
    "start_time": "2021-12-03T11:41:46.492Z"
   },
   {
    "duration": 30,
    "start_time": "2021-12-03T11:41:46.519Z"
   },
   {
    "duration": 23,
    "start_time": "2021-12-03T11:41:46.717Z"
   },
   {
    "duration": 21,
    "start_time": "2021-12-03T11:41:46.927Z"
   },
   {
    "duration": 8,
    "start_time": "2021-12-03T11:41:47.135Z"
   },
   {
    "duration": 21,
    "start_time": "2021-12-03T11:41:47.351Z"
   },
   {
    "duration": 8,
    "start_time": "2021-12-03T11:41:47.577Z"
   },
   {
    "duration": 5,
    "start_time": "2021-12-03T11:41:47.790Z"
   },
   {
    "duration": 76,
    "start_time": "2021-12-03T11:41:48.002Z"
   },
   {
    "duration": 573,
    "start_time": "2021-12-03T11:41:48.206Z"
   },
   {
    "duration": 4,
    "start_time": "2021-12-03T11:41:48.781Z"
   },
   {
    "duration": 29,
    "start_time": "2021-12-03T11:41:48.786Z"
   },
   {
    "duration": 5,
    "start_time": "2021-12-03T11:41:48.830Z"
   },
   {
    "duration": 23,
    "start_time": "2021-12-03T11:41:49.033Z"
   },
   {
    "duration": 11,
    "start_time": "2021-12-03T11:41:49.241Z"
   },
   {
    "duration": 19,
    "start_time": "2021-12-03T11:41:49.860Z"
   },
   {
    "duration": 16,
    "start_time": "2021-12-03T11:41:50.079Z"
   },
   {
    "duration": 8,
    "start_time": "2021-12-03T11:41:50.268Z"
   },
   {
    "duration": 9,
    "start_time": "2021-12-03T11:41:50.480Z"
   },
   {
    "duration": 359,
    "start_time": "2021-12-03T11:41:50.907Z"
   },
   {
    "duration": 584,
    "start_time": "2021-12-03T11:41:51.525Z"
   },
   {
    "duration": 233,
    "start_time": "2021-12-03T11:41:52.111Z"
   },
   {
    "duration": 232,
    "start_time": "2021-12-03T11:41:52.346Z"
   },
   {
    "duration": 10,
    "start_time": "2021-12-03T11:41:52.757Z"
   },
   {
    "duration": 207,
    "start_time": "2021-12-03T11:41:53.201Z"
   },
   {
    "duration": 5,
    "start_time": "2021-12-03T11:41:53.612Z"
   },
   {
    "duration": 221,
    "start_time": "2021-12-03T11:41:54.076Z"
   },
   {
    "duration": 14,
    "start_time": "2021-12-03T11:41:54.510Z"
   },
   {
    "duration": 13,
    "start_time": "2021-12-03T11:41:54.864Z"
   },
   {
    "duration": 219,
    "start_time": "2021-12-03T11:41:55.206Z"
   },
   {
    "duration": 14,
    "start_time": "2021-12-03T11:41:55.507Z"
   },
   {
    "duration": 14,
    "start_time": "2021-12-03T11:41:55.786Z"
   },
   {
    "duration": 228,
    "start_time": "2021-12-03T11:41:56.485Z"
   },
   {
    "duration": 13,
    "start_time": "2021-12-03T11:41:56.715Z"
   },
   {
    "duration": 251,
    "start_time": "2021-12-03T11:41:56.730Z"
   },
   {
    "duration": 13,
    "start_time": "2021-12-03T11:41:57.027Z"
   },
   {
    "duration": 14,
    "start_time": "2021-12-03T11:41:57.310Z"
   },
   {
    "duration": 23,
    "start_time": "2021-12-03T11:41:57.605Z"
   },
   {
    "duration": 24,
    "start_time": "2021-12-03T11:41:57.894Z"
   },
   {
    "duration": 547,
    "start_time": "2021-12-03T11:41:58.405Z"
   },
   {
    "duration": 526,
    "start_time": "2021-12-03T11:41:58.955Z"
   },
   {
    "duration": 348,
    "start_time": "2021-12-03T11:41:59.483Z"
   },
   {
    "duration": 284,
    "start_time": "2021-12-03T11:41:59.832Z"
   },
   {
    "duration": 298,
    "start_time": "2021-12-03T11:42:00.118Z"
   },
   {
    "duration": 10,
    "start_time": "2021-12-03T11:42:00.419Z"
   },
   {
    "duration": 52,
    "start_time": "2021-12-03T11:42:00.430Z"
   },
   {
    "duration": 340,
    "start_time": "2021-12-03T11:42:00.811Z"
   },
   {
    "duration": 14,
    "start_time": "2021-12-03T11:42:01.322Z"
   },
   {
    "duration": 11,
    "start_time": "2021-12-03T11:42:01.577Z"
   },
   {
    "duration": 267,
    "start_time": "2021-12-03T11:42:01.839Z"
   },
   {
    "duration": 8,
    "start_time": "2021-12-03T11:42:02.156Z"
   },
   {
    "duration": 9,
    "start_time": "2021-12-03T11:42:02.747Z"
   },
   {
    "duration": 201,
    "start_time": "2021-12-03T11:42:03.169Z"
   },
   {
    "duration": 5,
    "start_time": "2021-12-03T11:42:03.602Z"
   },
   {
    "duration": 4,
    "start_time": "2021-12-03T11:42:04.083Z"
   },
   {
    "duration": 620,
    "start_time": "2021-12-03T11:42:04.631Z"
   },
   {
    "duration": 5,
    "start_time": "2021-12-03T11:42:06.148Z"
   },
   {
    "duration": 10,
    "start_time": "2021-12-03T11:42:06.991Z"
   },
   {
    "duration": 13,
    "start_time": "2021-12-03T11:42:07.244Z"
   },
   {
    "duration": 9,
    "start_time": "2021-12-03T11:42:07.604Z"
   },
   {
    "duration": 202,
    "start_time": "2021-12-03T11:42:08.272Z"
   },
   {
    "duration": 6,
    "start_time": "2021-12-03T11:42:09.479Z"
   },
   {
    "duration": 6,
    "start_time": "2021-12-03T11:42:09.841Z"
   },
   {
    "duration": 6,
    "start_time": "2021-12-03T11:42:10.485Z"
   },
   {
    "duration": 35,
    "start_time": "2021-12-03T11:42:10.493Z"
   },
   {
    "duration": 7,
    "start_time": "2021-12-03T11:42:10.615Z"
   },
   {
    "duration": 7,
    "start_time": "2021-12-03T11:42:10.848Z"
   },
   {
    "duration": 7,
    "start_time": "2021-12-03T11:42:11.087Z"
   },
   {
    "duration": 77,
    "start_time": "2021-12-03T11:42:11.323Z"
   },
   {
    "duration": 22,
    "start_time": "2021-12-03T11:42:11.582Z"
   },
   {
    "duration": 698,
    "start_time": "2021-12-03T20:29:46.854Z"
   },
   {
    "duration": 126,
    "start_time": "2021-12-03T20:29:47.553Z"
   },
   {
    "duration": 25,
    "start_time": "2021-12-03T20:29:47.681Z"
   },
   {
    "duration": 25,
    "start_time": "2021-12-03T20:29:47.709Z"
   },
   {
    "duration": 12,
    "start_time": "2021-12-03T20:29:47.867Z"
   },
   {
    "duration": 73,
    "start_time": "2021-12-03T20:29:48.103Z"
   },
   {
    "duration": 5,
    "start_time": "2021-12-03T20:29:49.271Z"
   },
   {
    "duration": 4,
    "start_time": "2021-12-03T20:29:49.507Z"
   },
   {
    "duration": 5,
    "start_time": "2021-12-03T20:29:49.739Z"
   },
   {
    "duration": 19,
    "start_time": "2021-12-03T20:29:49.960Z"
   },
   {
    "duration": 10,
    "start_time": "2021-12-03T20:29:50.422Z"
   },
   {
    "duration": 22,
    "start_time": "2021-12-03T20:29:50.647Z"
   },
   {
    "duration": 5,
    "start_time": "2021-12-03T20:29:51.180Z"
   },
   {
    "duration": 13,
    "start_time": "2021-12-03T20:29:51.534Z"
   },
   {
    "duration": 15,
    "start_time": "2021-12-03T20:29:51.716Z"
   },
   {
    "duration": 6,
    "start_time": "2021-12-03T20:29:51.974Z"
   },
   {
    "duration": 12,
    "start_time": "2021-12-03T20:29:52.233Z"
   },
   {
    "duration": 6,
    "start_time": "2021-12-03T20:29:52.481Z"
   },
   {
    "duration": 6,
    "start_time": "2021-12-03T20:29:52.719Z"
   },
   {
    "duration": 15,
    "start_time": "2021-12-03T20:29:52.955Z"
   },
   {
    "duration": 6,
    "start_time": "2021-12-03T20:29:53.172Z"
   },
   {
    "duration": 17,
    "start_time": "2021-12-03T20:29:53.387Z"
   },
   {
    "duration": 15,
    "start_time": "2021-12-03T20:29:53.622Z"
   },
   {
    "duration": 5,
    "start_time": "2021-12-03T20:29:54.083Z"
   },
   {
    "duration": 7,
    "start_time": "2021-12-03T20:29:54.490Z"
   },
   {
    "duration": 4,
    "start_time": "2021-12-03T20:29:54.712Z"
   },
   {
    "duration": 5,
    "start_time": "2021-12-03T20:29:54.916Z"
   },
   {
    "duration": 4,
    "start_time": "2021-12-03T20:29:55.149Z"
   },
   {
    "duration": 13,
    "start_time": "2021-12-03T20:29:55.378Z"
   },
   {
    "duration": 5,
    "start_time": "2021-12-03T20:29:55.827Z"
   },
   {
    "duration": 6,
    "start_time": "2021-12-03T20:29:56.051Z"
   },
   {
    "duration": 6,
    "start_time": "2021-12-03T20:29:56.269Z"
   },
   {
    "duration": 6,
    "start_time": "2021-12-03T20:29:56.491Z"
   },
   {
    "duration": 12,
    "start_time": "2021-12-03T20:29:56.717Z"
   },
   {
    "duration": 9,
    "start_time": "2021-12-03T20:29:56.913Z"
   },
   {
    "duration": 6,
    "start_time": "2021-12-03T20:29:57.150Z"
   },
   {
    "duration": 5,
    "start_time": "2021-12-03T20:29:57.888Z"
   },
   {
    "duration": 10,
    "start_time": "2021-12-03T20:29:58.113Z"
   },
   {
    "duration": 23,
    "start_time": "2021-12-03T20:29:58.377Z"
   },
   {
    "duration": 23,
    "start_time": "2021-12-03T20:29:58.616Z"
   },
   {
    "duration": 21,
    "start_time": "2021-12-03T20:29:58.848Z"
   },
   {
    "duration": 7,
    "start_time": "2021-12-03T20:29:59.085Z"
   },
   {
    "duration": 22,
    "start_time": "2021-12-03T20:29:59.338Z"
   },
   {
    "duration": 10,
    "start_time": "2021-12-03T20:29:59.544Z"
   },
   {
    "duration": 5,
    "start_time": "2021-12-03T20:29:59.785Z"
   },
   {
    "duration": 114,
    "start_time": "2021-12-03T20:29:59.995Z"
   },
   {
    "duration": 560,
    "start_time": "2021-12-03T20:30:00.258Z"
   },
   {
    "duration": 5,
    "start_time": "2021-12-03T20:30:00.820Z"
   },
   {
    "duration": 100,
    "start_time": "2021-12-03T20:30:00.828Z"
   },
   {
    "duration": 5,
    "start_time": "2021-12-03T20:30:00.997Z"
   },
   {
    "duration": 23,
    "start_time": "2021-12-03T20:30:01.211Z"
   },
   {
    "duration": 16,
    "start_time": "2021-12-03T20:30:01.478Z"
   },
   {
    "duration": 20,
    "start_time": "2021-12-03T20:30:02.172Z"
   },
   {
    "duration": 18,
    "start_time": "2021-12-03T20:30:02.417Z"
   },
   {
    "duration": 9,
    "start_time": "2021-12-03T20:30:02.667Z"
   },
   {
    "duration": 9,
    "start_time": "2021-12-03T20:30:02.907Z"
   },
   {
    "duration": 448,
    "start_time": "2021-12-03T20:30:03.385Z"
   },
   {
    "duration": 544,
    "start_time": "2021-12-03T20:30:03.836Z"
   },
   {
    "duration": 233,
    "start_time": "2021-12-03T20:30:04.382Z"
   },
   {
    "duration": 236,
    "start_time": "2021-12-03T20:30:04.617Z"
   },
   {
    "duration": 14,
    "start_time": "2021-12-03T20:30:04.854Z"
   },
   {
    "duration": 223,
    "start_time": "2021-12-03T20:30:04.870Z"
   },
   {
    "duration": 4,
    "start_time": "2021-12-03T20:30:05.095Z"
   },
   {
    "duration": 318,
    "start_time": "2021-12-03T20:30:05.306Z"
   },
   {
    "duration": 17,
    "start_time": "2021-12-03T20:30:05.626Z"
   },
   {
    "duration": 17,
    "start_time": "2021-12-03T20:30:05.757Z"
   },
   {
    "duration": 252,
    "start_time": "2021-12-03T20:30:05.970Z"
   },
   {
    "duration": 14,
    "start_time": "2021-12-03T20:30:06.224Z"
   },
   {
    "duration": 14,
    "start_time": "2021-12-03T20:30:06.438Z"
   },
   {
    "duration": 290,
    "start_time": "2021-12-03T20:30:06.678Z"
   },
   {
    "duration": 19,
    "start_time": "2021-12-03T20:30:06.971Z"
   },
   {
    "duration": 342,
    "start_time": "2021-12-03T20:30:07.133Z"
   },
   {
    "duration": 19,
    "start_time": "2021-12-03T20:30:07.478Z"
   },
   {
    "duration": 20,
    "start_time": "2021-12-03T20:30:07.583Z"
   },
   {
    "duration": 27,
    "start_time": "2021-12-03T20:30:07.878Z"
   },
   {
    "duration": 597,
    "start_time": "2021-12-03T20:30:08.125Z"
   },
   {
    "duration": 362,
    "start_time": "2021-12-03T20:30:08.725Z"
   },
   {
    "duration": 448,
    "start_time": "2021-12-03T20:30:09.090Z"
   },
   {
    "duration": 369,
    "start_time": "2021-12-03T20:30:09.540Z"
   },
   {
    "duration": 300,
    "start_time": "2021-12-03T20:30:09.911Z"
   },
   {
    "duration": 335,
    "start_time": "2021-12-03T20:30:10.213Z"
   },
   {
    "duration": 20,
    "start_time": "2021-12-03T20:30:10.550Z"
   },
   {
    "duration": 53,
    "start_time": "2021-12-03T20:30:10.573Z"
   },
   {
    "duration": 468,
    "start_time": "2021-12-03T20:30:10.628Z"
   },
   {
    "duration": 15,
    "start_time": "2021-12-03T20:30:11.099Z"
   },
   {
    "duration": 15,
    "start_time": "2021-12-03T20:30:11.680Z"
   },
   {
    "duration": 503,
    "start_time": "2021-12-03T20:30:12.096Z"
   },
   {
    "duration": 12,
    "start_time": "2021-12-03T20:30:12.602Z"
   },
   {
    "duration": 20,
    "start_time": "2021-12-03T20:30:12.617Z"
   },
   {
    "duration": 195,
    "start_time": "2021-12-03T20:30:12.873Z"
   },
   {
    "duration": 8,
    "start_time": "2021-12-03T20:30:13.096Z"
   },
   {
    "duration": 6,
    "start_time": "2021-12-03T20:30:13.361Z"
   },
   {
    "duration": 625,
    "start_time": "2021-12-03T20:30:13.611Z"
   },
   {
    "duration": 5,
    "start_time": "2021-12-03T20:30:15.129Z"
   },
   {
    "duration": 10,
    "start_time": "2021-12-03T20:30:15.827Z"
   },
   {
    "duration": 13,
    "start_time": "2021-12-03T20:30:16.169Z"
   },
   {
    "duration": 9,
    "start_time": "2021-12-03T20:30:16.543Z"
   },
   {
    "duration": 151,
    "start_time": "2021-12-03T20:30:17.193Z"
   },
   {
    "duration": 7,
    "start_time": "2021-12-03T20:30:18.098Z"
   },
   {
    "duration": 7,
    "start_time": "2021-12-03T20:30:18.354Z"
   },
   {
    "duration": 7,
    "start_time": "2021-12-03T20:30:18.710Z"
   },
   {
    "duration": 24,
    "start_time": "2021-12-03T20:30:19.180Z"
   },
   {
    "duration": 10,
    "start_time": "2021-12-03T20:30:20.122Z"
   },
   {
    "duration": 11,
    "start_time": "2021-12-03T20:30:20.536Z"
   },
   {
    "duration": 9,
    "start_time": "2021-12-03T20:30:21.008Z"
   },
   {
    "duration": 91,
    "start_time": "2021-12-03T20:30:21.823Z"
   },
   {
    "duration": 20,
    "start_time": "2021-12-03T20:30:22.514Z"
   },
   {
    "duration": 3,
    "start_time": "2021-12-03T20:43:24.089Z"
   },
   {
    "duration": 85,
    "start_time": "2021-12-03T20:44:12.206Z"
   },
   {
    "duration": 6831,
    "start_time": "2021-12-03T20:59:21.508Z"
   },
   {
    "duration": 254,
    "start_time": "2021-12-03T21:00:35.745Z"
   },
   {
    "duration": 3,
    "start_time": "2021-12-03T21:00:57.277Z"
   },
   {
    "duration": 101,
    "start_time": "2021-12-03T21:00:58.095Z"
   },
   {
    "duration": 23,
    "start_time": "2021-12-03T21:00:59.198Z"
   },
   {
    "duration": 24,
    "start_time": "2021-12-03T21:01:00.072Z"
   },
   {
    "duration": 11,
    "start_time": "2021-12-03T21:01:01.169Z"
   },
   {
    "duration": 73,
    "start_time": "2021-12-03T21:01:02.280Z"
   },
   {
    "duration": 4,
    "start_time": "2021-12-03T21:01:05.568Z"
   },
   {
    "duration": 4,
    "start_time": "2021-12-03T21:01:07.161Z"
   },
   {
    "duration": 4,
    "start_time": "2021-12-03T21:01:08.842Z"
   },
   {
    "duration": 10,
    "start_time": "2021-12-03T21:01:10.609Z"
   },
   {
    "duration": 250,
    "start_time": "2021-12-03T21:01:14.120Z"
   },
   {
    "duration": 4,
    "start_time": "2021-12-03T21:01:46.439Z"
   },
   {
    "duration": 4,
    "start_time": "2021-12-03T21:01:47.261Z"
   },
   {
    "duration": 10,
    "start_time": "2021-12-03T21:01:48.281Z"
   },
   {
    "duration": 6,
    "start_time": "2021-12-03T21:01:51.678Z"
   },
   {
    "duration": 8,
    "start_time": "2021-12-03T21:01:55.472Z"
   },
   {
    "duration": 21,
    "start_time": "2021-12-03T21:01:56.347Z"
   },
   {
    "duration": 7,
    "start_time": "2021-12-03T21:02:33.144Z"
   },
   {
    "duration": 12,
    "start_time": "2021-12-03T21:02:33.894Z"
   },
   {
    "duration": 14,
    "start_time": "2021-12-03T21:02:34.662Z"
   },
   {
    "duration": 5,
    "start_time": "2021-12-03T21:02:36.071Z"
   },
   {
    "duration": 11,
    "start_time": "2021-12-03T21:02:38.734Z"
   },
   {
    "duration": 6,
    "start_time": "2021-12-03T21:02:42.381Z"
   },
   {
    "duration": 6,
    "start_time": "2021-12-03T21:02:43.743Z"
   },
   {
    "duration": 11,
    "start_time": "2021-12-03T21:03:21.759Z"
   },
   {
    "duration": 7,
    "start_time": "2021-12-03T21:03:22.704Z"
   },
   {
    "duration": 17,
    "start_time": "2021-12-03T21:03:24.082Z"
   },
   {
    "duration": 18,
    "start_time": "2021-12-03T21:03:26.941Z"
   },
   {
    "duration": 5,
    "start_time": "2021-12-03T21:03:50.542Z"
   },
   {
    "duration": 7,
    "start_time": "2021-12-03T21:03:51.976Z"
   },
   {
    "duration": 4,
    "start_time": "2021-12-03T21:03:52.860Z"
   },
   {
    "duration": 5,
    "start_time": "2021-12-03T21:03:53.835Z"
   },
   {
    "duration": 5,
    "start_time": "2021-12-03T21:03:54.587Z"
   },
   {
    "duration": 13,
    "start_time": "2021-12-03T21:03:56.354Z"
   },
   {
    "duration": 5,
    "start_time": "2021-12-03T21:04:22.992Z"
   },
   {
    "duration": 5,
    "start_time": "2021-12-03T21:04:24.126Z"
   },
   {
    "duration": 5,
    "start_time": "2021-12-03T21:04:27.481Z"
   },
   {
    "duration": 7,
    "start_time": "2021-12-03T21:04:28.309Z"
   },
   {
    "duration": 14,
    "start_time": "2021-12-03T21:04:29.152Z"
   },
   {
    "duration": 6,
    "start_time": "2021-12-03T21:04:30.375Z"
   },
   {
    "duration": 5,
    "start_time": "2021-12-03T21:04:31.252Z"
   },
   {
    "duration": 5,
    "start_time": "2021-12-03T21:12:21.991Z"
   },
   {
    "duration": 9,
    "start_time": "2021-12-03T21:12:22.926Z"
   },
   {
    "duration": 22,
    "start_time": "2021-12-03T21:12:23.583Z"
   },
   {
    "duration": 24,
    "start_time": "2021-12-03T21:12:24.582Z"
   },
   {
    "duration": 23,
    "start_time": "2021-12-03T21:12:25.428Z"
   },
   {
    "duration": 6527,
    "start_time": "2021-12-03T21:12:26.203Z"
   },
   {
    "duration": -1143,
    "start_time": "2021-12-03T21:12:33.875Z"
   },
   {
    "duration": -1146,
    "start_time": "2021-12-03T21:12:33.879Z"
   },
   {
    "duration": -1149,
    "start_time": "2021-12-03T21:12:33.883Z"
   },
   {
    "duration": -1152,
    "start_time": "2021-12-03T21:12:33.887Z"
   },
   {
    "duration": -1154,
    "start_time": "2021-12-03T21:12:33.890Z"
   },
   {
    "duration": 5,
    "start_time": "2021-12-03T21:12:33.059Z"
   },
   {
    "duration": 21,
    "start_time": "2021-12-03T21:12:34.125Z"
   },
   {
    "duration": 6,
    "start_time": "2021-12-03T21:12:36.775Z"
   },
   {
    "duration": 27,
    "start_time": "2021-12-03T21:12:37.516Z"
   },
   {
    "duration": 16,
    "start_time": "2021-12-03T21:12:38.369Z"
   },
   {
    "duration": 22,
    "start_time": "2021-12-03T21:15:35.457Z"
   },
   {
    "duration": 20,
    "start_time": "2021-12-03T21:15:38.421Z"
   },
   {
    "duration": 9,
    "start_time": "2021-12-03T21:15:50.411Z"
   },
   {
    "duration": 9,
    "start_time": "2021-12-03T21:15:53.106Z"
   },
   {
    "duration": 321,
    "start_time": "2021-12-03T21:16:27.172Z"
   },
   {
    "duration": 337,
    "start_time": "2021-12-03T21:17:14.440Z"
   },
   {
    "duration": 222,
    "start_time": "2021-12-03T21:17:16.070Z"
   },
   {
    "duration": 206,
    "start_time": "2021-12-03T21:17:17.036Z"
   },
   {
    "duration": 10,
    "start_time": "2021-12-03T21:17:17.985Z"
   },
   {
    "duration": 205,
    "start_time": "2021-12-03T21:17:19.011Z"
   },
   {
    "duration": 4,
    "start_time": "2021-12-03T21:17:20.028Z"
   },
   {
    "duration": 313,
    "start_time": "2021-12-03T21:17:20.770Z"
   },
   {
    "duration": 13,
    "start_time": "2021-12-03T21:17:21.841Z"
   },
   {
    "duration": 13,
    "start_time": "2021-12-03T21:17:22.697Z"
   },
   {
    "duration": 213,
    "start_time": "2021-12-03T21:17:24.139Z"
   },
   {
    "duration": 12,
    "start_time": "2021-12-03T21:17:24.354Z"
   },
   {
    "duration": 14,
    "start_time": "2021-12-03T21:17:24.613Z"
   },
   {
    "duration": 202,
    "start_time": "2021-12-03T21:17:25.221Z"
   },
   {
    "duration": 13,
    "start_time": "2021-12-03T21:17:25.924Z"
   },
   {
    "duration": 208,
    "start_time": "2021-12-03T21:17:26.492Z"
   },
   {
    "duration": 13,
    "start_time": "2021-12-03T21:17:27.348Z"
   },
   {
    "duration": 16,
    "start_time": "2021-12-03T21:17:28.100Z"
   },
   {
    "duration": 21,
    "start_time": "2021-12-03T21:17:28.711Z"
   },
   {
    "duration": 24,
    "start_time": "2021-12-03T21:17:29.416Z"
   },
   {
    "duration": 340,
    "start_time": "2021-12-03T21:18:32.253Z"
   },
   {
    "duration": 413,
    "start_time": "2021-12-03T21:18:32.876Z"
   },
   {
    "duration": 300,
    "start_time": "2021-12-03T21:18:33.604Z"
   },
   {
    "duration": 240,
    "start_time": "2021-12-03T21:18:34.241Z"
   },
   {
    "duration": 268,
    "start_time": "2021-12-03T21:18:34.857Z"
   },
   {
    "duration": 258,
    "start_time": "2021-12-03T21:18:52.820Z"
   },
   {
    "duration": 263,
    "start_time": "2021-12-03T21:19:38.066Z"
   },
   {
    "duration": 10,
    "start_time": "2021-12-03T21:20:09.863Z"
   },
   {
    "duration": 207,
    "start_time": "2021-12-03T21:20:10.512Z"
   },
   {
    "duration": 6,
    "start_time": "2021-12-03T21:20:11.236Z"
   },
   {
    "duration": 217,
    "start_time": "2021-12-03T21:20:11.863Z"
   },
   {
    "duration": 14,
    "start_time": "2021-12-03T21:20:12.600Z"
   },
   {
    "duration": 12,
    "start_time": "2021-12-03T21:20:13.501Z"
   },
   {
    "duration": 212,
    "start_time": "2021-12-03T21:20:14.241Z"
   },
   {
    "duration": 15,
    "start_time": "2021-12-03T21:20:14.964Z"
   },
   {
    "duration": 13,
    "start_time": "2021-12-03T21:20:15.798Z"
   },
   {
    "duration": 315,
    "start_time": "2021-12-03T21:20:16.474Z"
   },
   {
    "duration": 13,
    "start_time": "2021-12-03T21:20:17.436Z"
   },
   {
    "duration": 212,
    "start_time": "2021-12-03T21:20:18.235Z"
   },
   {
    "duration": 13,
    "start_time": "2021-12-03T21:20:19.091Z"
   },
   {
    "duration": 14,
    "start_time": "2021-12-03T21:20:19.803Z"
   },
   {
    "duration": 26,
    "start_time": "2021-12-03T21:20:20.711Z"
   },
   {
    "duration": 24,
    "start_time": "2021-12-03T21:20:21.492Z"
   },
   {
    "duration": 356,
    "start_time": "2021-12-03T21:20:23.710Z"
   },
   {
    "duration": 433,
    "start_time": "2021-12-03T21:20:24.836Z"
   },
   {
    "duration": 294,
    "start_time": "2021-12-03T21:20:25.836Z"
   },
   {
    "duration": 579,
    "start_time": "2021-12-03T21:21:06.796Z"
   },
   {
    "duration": 4,
    "start_time": "2021-12-03T21:21:08.081Z"
   },
   {
    "duration": 22,
    "start_time": "2021-12-03T21:21:16.153Z"
   },
   {
    "duration": 5,
    "start_time": "2021-12-03T21:21:17.148Z"
   },
   {
    "duration": 24,
    "start_time": "2021-12-03T21:21:17.833Z"
   },
   {
    "duration": 12,
    "start_time": "2021-12-03T21:21:18.604Z"
   },
   {
    "duration": 22,
    "start_time": "2021-12-03T21:21:20.560Z"
   },
   {
    "duration": 21,
    "start_time": "2021-12-03T21:21:21.237Z"
   },
   {
    "duration": 8,
    "start_time": "2021-12-03T21:21:21.892Z"
   },
   {
    "duration": 11,
    "start_time": "2021-12-03T21:21:24.023Z"
   },
   {
    "duration": 325,
    "start_time": "2021-12-03T21:21:24.300Z"
   },
   {
    "duration": 468,
    "start_time": "2021-12-03T21:21:24.980Z"
   },
   {
    "duration": 263,
    "start_time": "2021-12-03T21:21:26.039Z"
   },
   {
    "duration": 198,
    "start_time": "2021-12-03T21:21:27.085Z"
   },
   {
    "duration": 8,
    "start_time": "2021-12-03T21:21:27.931Z"
   },
   {
    "duration": 207,
    "start_time": "2021-12-03T21:21:28.733Z"
   },
   {
    "duration": 4,
    "start_time": "2021-12-03T21:21:29.576Z"
   },
   {
    "duration": 226,
    "start_time": "2021-12-03T21:21:30.486Z"
   },
   {
    "duration": 16,
    "start_time": "2021-12-03T21:21:31.336Z"
   },
   {
    "duration": 14,
    "start_time": "2021-12-03T21:21:32.292Z"
   },
   {
    "duration": 201,
    "start_time": "2021-12-03T21:21:32.973Z"
   },
   {
    "duration": 14,
    "start_time": "2021-12-03T21:21:33.664Z"
   },
   {
    "duration": 14,
    "start_time": "2021-12-03T21:21:34.300Z"
   },
   {
    "duration": 202,
    "start_time": "2021-12-03T21:21:34.946Z"
   },
   {
    "duration": 14,
    "start_time": "2021-12-03T21:21:35.664Z"
   },
   {
    "duration": 217,
    "start_time": "2021-12-03T21:21:36.414Z"
   },
   {
    "duration": 15,
    "start_time": "2021-12-03T21:21:37.677Z"
   },
   {
    "duration": 15,
    "start_time": "2021-12-03T21:21:39.309Z"
   },
   {
    "duration": 23,
    "start_time": "2021-12-03T21:21:40.085Z"
   },
   {
    "duration": 23,
    "start_time": "2021-12-03T21:21:41.152Z"
   },
   {
    "duration": 357,
    "start_time": "2021-12-03T21:21:43.047Z"
   },
   {
    "duration": 521,
    "start_time": "2021-12-03T21:21:43.881Z"
   },
   {
    "duration": 326,
    "start_time": "2021-12-03T21:21:45.166Z"
   },
   {
    "duration": 318,
    "start_time": "2021-12-03T21:22:34.463Z"
   },
   {
    "duration": 290,
    "start_time": "2021-12-03T21:22:35.173Z"
   },
   {
    "duration": 323,
    "start_time": "2021-12-03T21:22:35.494Z"
   },
   {
    "duration": 11,
    "start_time": "2021-12-03T21:22:36.329Z"
   },
   {
    "duration": 14,
    "start_time": "2021-12-03T21:22:36.719Z"
   },
   {
    "duration": 346,
    "start_time": "2021-12-03T21:22:37.311Z"
   },
   {
    "duration": 12,
    "start_time": "2021-12-03T21:22:37.663Z"
   },
   {
    "duration": 11,
    "start_time": "2021-12-03T21:22:38.068Z"
   },
   {
    "duration": 295,
    "start_time": "2021-12-03T21:22:38.328Z"
   },
   {
    "duration": 8,
    "start_time": "2021-12-03T21:22:38.625Z"
   },
   {
    "duration": 9,
    "start_time": "2021-12-03T21:22:38.818Z"
   },
   {
    "duration": 190,
    "start_time": "2021-12-03T21:22:39.085Z"
   },
   {
    "duration": 4,
    "start_time": "2021-12-03T21:22:39.365Z"
   },
   {
    "duration": 4,
    "start_time": "2021-12-03T21:22:39.605Z"
   },
   {
    "duration": 738,
    "start_time": "2021-12-03T21:22:39.853Z"
   },
   {
    "duration": 6,
    "start_time": "2021-12-03T21:22:40.634Z"
   },
   {
    "duration": 11,
    "start_time": "2021-12-03T21:22:41.224Z"
   },
   {
    "duration": 14,
    "start_time": "2021-12-03T21:22:41.593Z"
   },
   {
    "duration": 8,
    "start_time": "2021-12-03T21:22:42.130Z"
   },
   {
    "duration": 92,
    "start_time": "2021-12-03T21:22:42.894Z"
   },
   {
    "duration": 8,
    "start_time": "2021-12-03T21:22:44.186Z"
   },
   {
    "duration": 6,
    "start_time": "2021-12-03T21:22:44.579Z"
   },
   {
    "duration": 6,
    "start_time": "2021-12-03T21:22:44.904Z"
   },
   {
    "duration": 23,
    "start_time": "2021-12-03T21:22:45.255Z"
   },
   {
    "duration": 9,
    "start_time": "2021-12-03T21:22:45.554Z"
   },
   {
    "duration": 7,
    "start_time": "2021-12-03T21:23:22.821Z"
   },
   {
    "duration": 7,
    "start_time": "2021-12-03T21:23:24.209Z"
   },
   {
    "duration": 7,
    "start_time": "2021-12-03T21:23:24.334Z"
   },
   {
    "duration": 19,
    "start_time": "2021-12-03T21:23:24.870Z"
   },
   {
    "duration": 9,
    "start_time": "2021-12-03T21:23:25.683Z"
   },
   {
    "duration": 9,
    "start_time": "2021-12-03T21:23:26.286Z"
   },
   {
    "duration": 7,
    "start_time": "2021-12-03T21:23:26.828Z"
   },
   {
    "duration": 88,
    "start_time": "2021-12-03T21:23:27.434Z"
   },
   {
    "duration": 22,
    "start_time": "2021-12-03T21:23:28.369Z"
   },
   {
    "duration": 7,
    "start_time": "2021-12-03T21:24:16.945Z"
   },
   {
    "duration": 23,
    "start_time": "2021-12-03T21:24:21.215Z"
   },
   {
    "duration": 5763,
    "start_time": "2021-12-03T21:24:21.947Z"
   },
   {
    "duration": -1191,
    "start_time": "2021-12-03T21:24:28.903Z"
   },
   {
    "duration": -1202,
    "start_time": "2021-12-03T21:24:28.915Z"
   },
   {
    "duration": -1234,
    "start_time": "2021-12-03T21:24:28.947Z"
   },
   {
    "duration": 6473,
    "start_time": "2021-12-03T21:24:53.472Z"
   },
   {
    "duration": -1154,
    "start_time": "2021-12-03T21:25:01.102Z"
   },
   {
    "duration": 6339,
    "start_time": "2021-12-03T21:25:12.054Z"
   },
   {
    "duration": -1157,
    "start_time": "2021-12-03T21:25:19.552Z"
   },
   {
    "duration": -1165,
    "start_time": "2021-12-03T21:25:19.561Z"
   },
   {
    "duration": 4,
    "start_time": "2021-12-03T21:25:25.470Z"
   },
   {
    "duration": 93,
    "start_time": "2021-12-03T21:25:26.851Z"
   },
   {
    "duration": 672,
    "start_time": "2021-12-03T21:25:27.917Z"
   },
   {
    "duration": 5,
    "start_time": "2021-12-03T21:25:28.701Z"
   },
   {
    "duration": 20,
    "start_time": "2021-12-03T21:25:29.928Z"
   },
   {
    "duration": 6,
    "start_time": "2021-12-03T21:25:30.704Z"
   },
   {
    "duration": 21,
    "start_time": "2021-12-03T21:25:31.404Z"
   },
   {
    "duration": 7,
    "start_time": "2021-12-03T21:25:32.058Z"
   },
   {
    "duration": 21,
    "start_time": "2021-12-03T21:25:36.709Z"
   },
   {
    "duration": 17,
    "start_time": "2021-12-03T21:25:37.227Z"
   },
   {
    "duration": 9,
    "start_time": "2021-12-03T21:25:37.780Z"
   },
   {
    "duration": 11,
    "start_time": "2021-12-03T21:25:38.387Z"
   },
   {
    "duration": 328,
    "start_time": "2021-12-03T21:25:40.453Z"
   },
   {
    "duration": 357,
    "start_time": "2021-12-03T21:25:40.977Z"
   },
   {
    "duration": 220,
    "start_time": "2021-12-03T21:25:41.460Z"
   },
   {
    "duration": 208,
    "start_time": "2021-12-03T21:25:41.948Z"
   },
   {
    "duration": 9,
    "start_time": "2021-12-03T21:25:42.360Z"
   },
   {
    "duration": 204,
    "start_time": "2021-12-03T21:25:42.794Z"
   },
   {
    "duration": 4,
    "start_time": "2021-12-03T21:25:43.255Z"
   },
   {
    "duration": 358,
    "start_time": "2021-12-03T21:25:43.778Z"
   },
   {
    "duration": 14,
    "start_time": "2021-12-03T21:25:44.307Z"
   },
   {
    "duration": 13,
    "start_time": "2021-12-03T21:25:44.738Z"
   },
   {
    "duration": 207,
    "start_time": "2021-12-03T21:25:45.129Z"
   },
   {
    "duration": 14,
    "start_time": "2021-12-03T21:25:45.527Z"
   },
   {
    "duration": 13,
    "start_time": "2021-12-03T21:25:46.036Z"
   },
   {
    "duration": 203,
    "start_time": "2021-12-03T21:25:46.397Z"
   },
   {
    "duration": 13,
    "start_time": "2021-12-03T21:25:46.738Z"
   },
   {
    "duration": 219,
    "start_time": "2021-12-03T21:25:47.079Z"
   },
   {
    "duration": 14,
    "start_time": "2021-12-03T21:25:47.377Z"
   },
   {
    "duration": 14,
    "start_time": "2021-12-03T21:25:47.778Z"
   },
   {
    "duration": 26,
    "start_time": "2021-12-03T21:25:48.383Z"
   },
   {
    "duration": 26,
    "start_time": "2021-12-03T21:25:48.960Z"
   },
   {
    "duration": 407,
    "start_time": "2021-12-03T21:25:50.069Z"
   },
   {
    "duration": 506,
    "start_time": "2021-12-03T21:25:50.581Z"
   },
   {
    "duration": 324,
    "start_time": "2021-12-03T21:25:51.090Z"
   },
   {
    "duration": 262,
    "start_time": "2021-12-03T21:25:51.509Z"
   },
   {
    "duration": 281,
    "start_time": "2021-12-03T21:25:51.999Z"
   },
   {
    "duration": 11,
    "start_time": "2021-12-03T21:25:53.179Z"
   },
   {
    "duration": 13,
    "start_time": "2021-12-03T21:25:53.888Z"
   },
   {
    "duration": 589,
    "start_time": "2021-12-03T21:25:54.984Z"
   },
   {
    "duration": 12,
    "start_time": "2021-12-03T21:25:55.575Z"
   },
   {
    "duration": 11,
    "start_time": "2021-12-03T21:25:56.545Z"
   },
   {
    "duration": 242,
    "start_time": "2021-12-03T21:25:57.080Z"
   },
   {
    "duration": 9,
    "start_time": "2021-12-03T21:25:57.578Z"
   },
   {
    "duration": 10,
    "start_time": "2021-12-03T21:25:58.067Z"
   },
   {
    "duration": 181,
    "start_time": "2021-12-03T21:25:58.892Z"
   },
   {
    "duration": 4,
    "start_time": "2021-12-03T21:25:59.844Z"
   },
   {
    "duration": 4,
    "start_time": "2021-12-03T21:26:00.626Z"
   },
   {
    "duration": 713,
    "start_time": "2021-12-03T21:26:01.256Z"
   },
   {
    "duration": 5,
    "start_time": "2021-12-03T21:26:24.897Z"
   },
   {
    "duration": 11,
    "start_time": "2021-12-03T21:26:25.886Z"
   },
   {
    "duration": 14,
    "start_time": "2021-12-03T21:26:26.510Z"
   },
   {
    "duration": 9,
    "start_time": "2021-12-03T21:26:27.233Z"
   },
   {
    "duration": 136,
    "start_time": "2021-12-03T21:26:28.721Z"
   },
   {
    "duration": 7,
    "start_time": "2021-12-03T21:26:30.805Z"
   },
   {
    "duration": 7,
    "start_time": "2021-12-03T21:26:31.826Z"
   },
   {
    "duration": 7,
    "start_time": "2021-12-03T21:26:32.380Z"
   },
   {
    "duration": 23,
    "start_time": "2021-12-03T21:26:36.447Z"
   },
   {
    "duration": 8,
    "start_time": "2021-12-03T21:26:37.008Z"
   },
   {
    "duration": 8,
    "start_time": "2021-12-03T21:26:37.706Z"
   },
   {
    "duration": 8,
    "start_time": "2021-12-03T21:26:38.368Z"
   },
   {
    "duration": 104,
    "start_time": "2021-12-03T21:26:39.019Z"
   },
   {
    "duration": 27,
    "start_time": "2021-12-03T21:26:40.058Z"
   },
   {
    "duration": 962,
    "start_time": "2021-12-04T10:22:19.948Z"
   },
   {
    "duration": 147,
    "start_time": "2021-12-04T10:22:20.914Z"
   },
   {
    "duration": 34,
    "start_time": "2021-12-04T10:22:21.064Z"
   },
   {
    "duration": 80,
    "start_time": "2021-12-04T10:22:21.101Z"
   },
   {
    "duration": 22,
    "start_time": "2021-12-04T10:22:21.184Z"
   },
   {
    "duration": 134,
    "start_time": "2021-12-04T10:22:21.208Z"
   },
   {
    "duration": 18,
    "start_time": "2021-12-04T10:22:21.344Z"
   },
   {
    "duration": 6,
    "start_time": "2021-12-04T10:22:21.365Z"
   },
   {
    "duration": 6,
    "start_time": "2021-12-04T10:22:21.375Z"
   },
   {
    "duration": 18,
    "start_time": "2021-12-04T10:22:21.384Z"
   },
   {
    "duration": 62,
    "start_time": "2021-12-04T10:22:21.405Z"
   },
   {
    "duration": 47,
    "start_time": "2021-12-04T10:22:21.469Z"
   },
   {
    "duration": 8,
    "start_time": "2021-12-04T10:22:21.518Z"
   },
   {
    "duration": 37,
    "start_time": "2021-12-04T10:22:21.528Z"
   },
   {
    "duration": 20,
    "start_time": "2021-12-04T10:22:21.567Z"
   },
   {
    "duration": 6,
    "start_time": "2021-12-04T10:22:21.590Z"
   },
   {
    "duration": 61,
    "start_time": "2021-12-04T10:22:21.599Z"
   },
   {
    "duration": 12,
    "start_time": "2021-12-04T10:22:21.662Z"
   },
   {
    "duration": 9,
    "start_time": "2021-12-04T10:22:21.677Z"
   },
   {
    "duration": 26,
    "start_time": "2021-12-04T10:22:21.689Z"
   },
   {
    "duration": 9,
    "start_time": "2021-12-04T10:22:21.718Z"
   },
   {
    "duration": 67,
    "start_time": "2021-12-04T10:22:21.730Z"
   },
   {
    "duration": 16,
    "start_time": "2021-12-04T10:22:21.799Z"
   },
   {
    "duration": 8,
    "start_time": "2021-12-04T10:22:21.817Z"
   },
   {
    "duration": 33,
    "start_time": "2021-12-04T10:22:21.827Z"
   },
   {
    "duration": 7,
    "start_time": "2021-12-04T10:22:21.862Z"
   },
   {
    "duration": 7,
    "start_time": "2021-12-04T10:22:21.876Z"
   },
   {
    "duration": 7,
    "start_time": "2021-12-04T10:22:21.890Z"
   },
   {
    "duration": 63,
    "start_time": "2021-12-04T10:22:21.900Z"
   },
   {
    "duration": 8,
    "start_time": "2021-12-04T10:22:21.966Z"
   },
   {
    "duration": 7,
    "start_time": "2021-12-04T10:22:21.977Z"
   },
   {
    "duration": 7,
    "start_time": "2021-12-04T10:22:21.987Z"
   },
   {
    "duration": 11,
    "start_time": "2021-12-04T10:22:21.997Z"
   },
   {
    "duration": 67,
    "start_time": "2021-12-04T10:22:22.011Z"
   },
   {
    "duration": 11,
    "start_time": "2021-12-04T10:22:22.082Z"
   },
   {
    "duration": 13,
    "start_time": "2021-12-04T10:22:22.096Z"
   },
   {
    "duration": 12,
    "start_time": "2021-12-04T10:22:22.112Z"
   },
   {
    "duration": 48,
    "start_time": "2021-12-04T10:22:22.127Z"
   },
   {
    "duration": 62,
    "start_time": "2021-12-04T10:22:22.178Z"
   },
   {
    "duration": 49,
    "start_time": "2021-12-04T10:22:22.259Z"
   },
   {
    "duration": 79,
    "start_time": "2021-12-04T10:22:22.312Z"
   },
   {
    "duration": 13,
    "start_time": "2021-12-04T10:22:22.395Z"
   },
   {
    "duration": 71,
    "start_time": "2021-12-04T10:22:22.412Z"
   },
   {
    "duration": 15,
    "start_time": "2021-12-04T10:22:22.486Z"
   },
   {
    "duration": 7,
    "start_time": "2021-12-04T10:22:22.504Z"
   },
   {
    "duration": 216,
    "start_time": "2021-12-04T10:22:22.514Z"
   },
   {
    "duration": 1906,
    "start_time": "2021-12-04T10:22:22.734Z"
   },
   {
    "duration": 16,
    "start_time": "2021-12-04T10:22:24.643Z"
   },
   {
    "duration": 55,
    "start_time": "2021-12-04T10:22:24.662Z"
   },
   {
    "duration": 9,
    "start_time": "2021-12-04T10:22:24.721Z"
   },
   {
    "duration": 82,
    "start_time": "2021-12-04T10:22:24.734Z"
   },
   {
    "duration": 43,
    "start_time": "2021-12-04T10:22:24.820Z"
   },
   {
    "duration": 33,
    "start_time": "2021-12-04T10:22:24.866Z"
   },
   {
    "duration": 23,
    "start_time": "2021-12-04T10:22:24.902Z"
   },
   {
    "duration": 11,
    "start_time": "2021-12-04T10:22:24.960Z"
   },
   {
    "duration": 11,
    "start_time": "2021-12-04T10:22:24.973Z"
   },
   {
    "duration": 643,
    "start_time": "2021-12-04T10:22:24.987Z"
   },
   {
    "duration": 626,
    "start_time": "2021-12-04T10:22:25.633Z"
   },
   {
    "duration": 402,
    "start_time": "2021-12-04T10:22:26.262Z"
   },
   {
    "duration": 371,
    "start_time": "2021-12-04T10:22:26.667Z"
   },
   {
    "duration": 20,
    "start_time": "2021-12-04T10:22:27.040Z"
   },
   {
    "duration": 368,
    "start_time": "2021-12-04T10:22:27.063Z"
   },
   {
    "duration": 6,
    "start_time": "2021-12-04T10:22:27.433Z"
   },
   {
    "duration": 391,
    "start_time": "2021-12-04T10:22:27.442Z"
   },
   {
    "duration": 32,
    "start_time": "2021-12-04T10:22:27.835Z"
   },
   {
    "duration": 18,
    "start_time": "2021-12-04T10:22:27.870Z"
   },
   {
    "duration": 374,
    "start_time": "2021-12-04T10:22:27.891Z"
   },
   {
    "duration": 17,
    "start_time": "2021-12-04T10:22:28.267Z"
   },
   {
    "duration": 17,
    "start_time": "2021-12-04T10:22:28.286Z"
   },
   {
    "duration": 376,
    "start_time": "2021-12-04T10:22:28.305Z"
   },
   {
    "duration": 18,
    "start_time": "2021-12-04T10:22:28.683Z"
   },
   {
    "duration": 545,
    "start_time": "2021-12-04T10:22:28.704Z"
   },
   {
    "duration": 21,
    "start_time": "2021-12-04T10:22:29.252Z"
   },
   {
    "duration": 16,
    "start_time": "2021-12-04T10:22:29.276Z"
   },
   {
    "duration": 67,
    "start_time": "2021-12-04T10:22:29.294Z"
   },
   {
    "duration": 237772,
    "start_time": "2021-12-04T10:22:29.363Z"
   },
   {
    "duration": 615,
    "start_time": "2021-12-04T10:26:27.137Z"
   },
   {
    "duration": 917,
    "start_time": "2021-12-04T10:26:27.760Z"
   },
   {
    "duration": 645,
    "start_time": "2021-12-04T10:26:28.680Z"
   },
   {
    "duration": 458,
    "start_time": "2021-12-04T10:26:29.327Z"
   },
   {
    "duration": 479,
    "start_time": "2021-12-04T10:26:29.795Z"
   },
   {
    "duration": 12,
    "start_time": "2021-12-04T10:26:30.278Z"
   },
   {
    "duration": 26,
    "start_time": "2021-12-04T10:26:30.293Z"
   },
   {
    "duration": 740,
    "start_time": "2021-12-04T10:26:30.322Z"
   },
   {
    "duration": 21,
    "start_time": "2021-12-04T10:26:31.065Z"
   },
   {
    "duration": 20,
    "start_time": "2021-12-04T10:26:31.089Z"
   },
   {
    "duration": 508,
    "start_time": "2021-12-04T10:26:31.112Z"
   },
   {
    "duration": 12,
    "start_time": "2021-12-04T10:26:31.622Z"
   },
   {
    "duration": 25,
    "start_time": "2021-12-04T10:26:31.637Z"
   },
   {
    "duration": 351,
    "start_time": "2021-12-04T10:26:31.665Z"
   },
   {
    "duration": 6,
    "start_time": "2021-12-04T10:26:32.019Z"
   },
   {
    "duration": 11,
    "start_time": "2021-12-04T10:26:32.028Z"
   },
   {
    "duration": 1028,
    "start_time": "2021-12-04T10:26:32.060Z"
   },
   {
    "duration": 9,
    "start_time": "2021-12-04T10:26:33.090Z"
   },
   {
    "duration": 16,
    "start_time": "2021-12-04T10:26:33.102Z"
   },
   {
    "duration": 53,
    "start_time": "2021-12-04T10:26:33.121Z"
   },
   {
    "duration": 12,
    "start_time": "2021-12-04T10:26:33.177Z"
   },
   {
    "duration": 168,
    "start_time": "2021-12-04T10:26:33.192Z"
   },
   {
    "duration": 11,
    "start_time": "2021-12-04T10:26:33.363Z"
   },
   {
    "duration": 10,
    "start_time": "2021-12-04T10:26:33.377Z"
   },
   {
    "duration": 10,
    "start_time": "2021-12-04T10:26:33.389Z"
   },
   {
    "duration": 73,
    "start_time": "2021-12-04T10:26:33.401Z"
   },
   {
    "duration": 9,
    "start_time": "2021-12-04T10:26:33.476Z"
   },
   {
    "duration": 21,
    "start_time": "2021-12-04T10:26:33.488Z"
   },
   {
    "duration": 25,
    "start_time": "2021-12-04T10:26:33.511Z"
   },
   {
    "duration": 215,
    "start_time": "2021-12-04T10:26:33.539Z"
   },
   {
    "duration": 51,
    "start_time": "2021-12-04T10:26:33.760Z"
   },
   {
    "duration": 57,
    "start_time": "2021-12-04T10:26:33.820Z"
   },
   {
    "duration": 850,
    "start_time": "2021-12-05T07:17:10.109Z"
   },
   {
    "duration": 123,
    "start_time": "2021-12-05T07:17:10.961Z"
   },
   {
    "duration": 35,
    "start_time": "2021-12-05T07:17:11.484Z"
   },
   {
    "duration": 37,
    "start_time": "2021-12-05T07:17:12.304Z"
   },
   {
    "duration": 16,
    "start_time": "2021-12-05T07:17:13.058Z"
   },
   {
    "duration": 104,
    "start_time": "2021-12-05T07:17:13.784Z"
   },
   {
    "duration": 6,
    "start_time": "2021-12-05T07:17:19.333Z"
   },
   {
    "duration": 6,
    "start_time": "2021-12-05T07:17:20.536Z"
   },
   {
    "duration": 5,
    "start_time": "2021-12-05T07:17:22.012Z"
   },
   {
    "duration": 20,
    "start_time": "2021-12-05T07:17:23.191Z"
   },
   {
    "duration": 12,
    "start_time": "2021-12-05T07:17:24.752Z"
   },
   {
    "duration": 10,
    "start_time": "2021-12-05T07:17:26.239Z"
   },
   {
    "duration": 36,
    "start_time": "2021-12-05T07:17:27.053Z"
   },
   {
    "duration": 7,
    "start_time": "2021-12-05T07:17:28.765Z"
   },
   {
    "duration": 13,
    "start_time": "2021-12-05T07:17:29.597Z"
   },
   {
    "duration": 18,
    "start_time": "2021-12-05T07:17:30.510Z"
   },
   {
    "duration": 6,
    "start_time": "2021-12-05T07:17:31.274Z"
   },
   {
    "duration": 18,
    "start_time": "2021-12-05T07:17:31.956Z"
   },
   {
    "duration": 7,
    "start_time": "2021-12-05T07:17:32.694Z"
   },
   {
    "duration": 7,
    "start_time": "2021-12-05T07:17:33.337Z"
   },
   {
    "duration": 17,
    "start_time": "2021-12-05T07:17:34.002Z"
   },
   {
    "duration": 7,
    "start_time": "2021-12-05T07:17:34.613Z"
   },
   {
    "duration": 21,
    "start_time": "2021-12-05T07:17:35.331Z"
   },
   {
    "duration": 19,
    "start_time": "2021-12-05T07:17:36.046Z"
   },
   {
    "duration": 7,
    "start_time": "2021-12-05T07:17:37.473Z"
   },
   {
    "duration": 8,
    "start_time": "2021-12-05T07:17:39.123Z"
   },
   {
    "duration": 6,
    "start_time": "2021-12-05T07:17:39.829Z"
   },
   {
    "duration": 7,
    "start_time": "2021-12-05T07:17:40.494Z"
   },
   {
    "duration": 6,
    "start_time": "2021-12-05T07:17:41.059Z"
   },
   {
    "duration": 16,
    "start_time": "2021-12-05T07:17:41.870Z"
   },
   {
    "duration": 6,
    "start_time": "2021-12-05T07:17:43.249Z"
   },
   {
    "duration": 7,
    "start_time": "2021-12-05T07:17:43.875Z"
   },
   {
    "duration": 6,
    "start_time": "2021-12-05T07:17:44.761Z"
   },
   {
    "duration": 7,
    "start_time": "2021-12-05T07:17:45.628Z"
   },
   {
    "duration": 17,
    "start_time": "2021-12-05T07:17:46.977Z"
   },
   {
    "duration": 9,
    "start_time": "2021-12-05T07:17:47.539Z"
   },
   {
    "duration": 6,
    "start_time": "2021-12-05T07:17:48.247Z"
   },
   {
    "duration": 7,
    "start_time": "2021-12-05T07:17:50.680Z"
   },
   {
    "duration": 12,
    "start_time": "2021-12-05T07:17:51.356Z"
   },
   {
    "duration": 35,
    "start_time": "2021-12-05T07:17:51.958Z"
   },
   {
    "duration": 32,
    "start_time": "2021-12-05T07:17:52.572Z"
   },
   {
    "duration": 35,
    "start_time": "2021-12-05T07:17:54.634Z"
   },
   {
    "duration": 9,
    "start_time": "2021-12-05T07:17:54.672Z"
   },
   {
    "duration": 36,
    "start_time": "2021-12-05T07:17:56.755Z"
   },
   {
    "duration": 11,
    "start_time": "2021-12-05T07:17:56.794Z"
   },
   {
    "duration": 6,
    "start_time": "2021-12-05T07:17:56.808Z"
   },
   {
    "duration": 111,
    "start_time": "2021-12-05T07:17:57.739Z"
   },
   {
    "duration": 951,
    "start_time": "2021-12-05T07:17:58.847Z"
   },
   {
    "duration": 5,
    "start_time": "2021-12-05T07:17:59.801Z"
   },
   {
    "duration": 47,
    "start_time": "2021-12-05T07:18:01.003Z"
   },
   {
    "duration": 7,
    "start_time": "2021-12-05T07:18:01.938Z"
   },
   {
    "duration": 33,
    "start_time": "2021-12-05T07:18:02.723Z"
   },
   {
    "duration": 17,
    "start_time": "2021-12-05T07:18:03.580Z"
   },
   {
    "duration": 29,
    "start_time": "2021-12-05T07:18:07.209Z"
   },
   {
    "duration": 25,
    "start_time": "2021-12-05T07:18:07.896Z"
   },
   {
    "duration": 11,
    "start_time": "2021-12-05T07:18:08.702Z"
   },
   {
    "duration": 12,
    "start_time": "2021-12-05T07:18:09.773Z"
   },
   {
    "duration": 594,
    "start_time": "2021-12-05T07:18:12.996Z"
   },
   {
    "duration": 650,
    "start_time": "2021-12-05T07:19:45.920Z"
   },
   {
    "duration": 588,
    "start_time": "2021-12-05T07:20:23.808Z"
   },
   {
    "duration": 372,
    "start_time": "2021-12-05T07:20:52.961Z"
   },
   {
    "duration": 348,
    "start_time": "2021-12-05T07:21:48.033Z"
   },
   {
    "duration": 519,
    "start_time": "2021-12-05T07:25:10.809Z"
   },
   {
    "duration": 11,
    "start_time": "2021-12-05T07:25:22.102Z"
   },
   {
    "duration": 340,
    "start_time": "2021-12-05T07:25:23.073Z"
   },
   {
    "duration": 6,
    "start_time": "2021-12-05T07:25:25.207Z"
   },
   {
    "duration": 368,
    "start_time": "2021-12-05T07:25:29.059Z"
   },
   {
    "duration": 17,
    "start_time": "2021-12-05T07:25:39.541Z"
   },
   {
    "duration": 19,
    "start_time": "2021-12-05T07:25:40.079Z"
   },
   {
    "duration": 339,
    "start_time": "2021-12-05T07:25:40.698Z"
   },
   {
    "duration": 17,
    "start_time": "2021-12-05T07:25:51.078Z"
   },
   {
    "duration": 19,
    "start_time": "2021-12-05T07:25:51.905Z"
   },
   {
    "duration": 396,
    "start_time": "2021-12-05T07:25:52.918Z"
   },
   {
    "duration": 18,
    "start_time": "2021-12-05T07:25:56.080Z"
   },
   {
    "duration": 355,
    "start_time": "2021-12-05T07:25:57.031Z"
   },
   {
    "duration": 5,
    "start_time": "2021-12-05T07:33:18.578Z"
   },
   {
    "duration": 17,
    "start_time": "2021-12-05T07:33:55.571Z"
   },
   {
    "duration": 17,
    "start_time": "2021-12-05T07:33:55.794Z"
   },
   {
    "duration": 33,
    "start_time": "2021-12-05T07:33:56.877Z"
   },
   {
    "duration": 692,
    "start_time": "2021-12-05T07:33:57.946Z"
   },
   {
    "duration": 546,
    "start_time": "2021-12-05T07:34:01.720Z"
   },
   {
    "duration": 666,
    "start_time": "2021-12-05T07:34:05.791Z"
   },
   {
    "duration": 513,
    "start_time": "2021-12-05T07:34:07.158Z"
   },
   {
    "duration": 423,
    "start_time": "2021-12-05T07:34:12.085Z"
   },
   {
    "duration": 448,
    "start_time": "2021-12-05T07:34:14.553Z"
   },
   {
    "duration": 13,
    "start_time": "2021-12-05T07:34:27.913Z"
   },
   {
    "duration": 651,
    "start_time": "2021-12-05T07:36:01.357Z"
   },
   {
    "duration": 689,
    "start_time": "2021-12-05T07:36:02.011Z"
   },
   {
    "duration": 510,
    "start_time": "2021-12-05T07:36:02.759Z"
   },
   {
    "duration": 430,
    "start_time": "2021-12-05T07:36:04.265Z"
   },
   {
    "duration": 438,
    "start_time": "2021-12-05T07:36:04.785Z"
   },
   {
    "duration": 12,
    "start_time": "2021-12-05T07:36:06.289Z"
   },
   {
    "duration": 18,
    "start_time": "2021-12-05T07:36:06.992Z"
   },
   {
    "duration": 535,
    "start_time": "2021-12-05T07:36:08.324Z"
   },
   {
    "duration": 16,
    "start_time": "2021-12-05T07:36:09.084Z"
   },
   {
    "duration": 15,
    "start_time": "2021-12-05T07:36:10.628Z"
   },
   {
    "duration": 411,
    "start_time": "2021-12-05T07:36:11.831Z"
   },
   {
    "duration": 14,
    "start_time": "2021-12-05T07:36:13.112Z"
   },
   {
    "duration": 12,
    "start_time": "2021-12-05T07:36:13.901Z"
   },
   {
    "duration": 308,
    "start_time": "2021-12-05T07:36:14.720Z"
   },
   {
    "duration": 6,
    "start_time": "2021-12-05T07:36:19.211Z"
   },
   {
    "duration": 5,
    "start_time": "2021-12-05T07:36:19.696Z"
   },
   {
    "duration": 1035,
    "start_time": "2021-12-05T07:36:20.328Z"
   },
   {
    "duration": 424,
    "start_time": "2021-12-05T07:37:18.716Z"
   },
   {
    "duration": 537,
    "start_time": "2021-12-05T07:37:19.675Z"
   },
   {
    "duration": 12,
    "start_time": "2021-12-05T07:37:21.095Z"
   },
   {
    "duration": 18,
    "start_time": "2021-12-05T07:37:21.657Z"
   },
   {
    "duration": 534,
    "start_time": "2021-12-05T07:37:22.892Z"
   },
   {
    "duration": 17,
    "start_time": "2021-12-05T07:37:23.577Z"
   },
   {
    "duration": 14,
    "start_time": "2021-12-05T07:37:24.866Z"
   },
   {
    "duration": 398,
    "start_time": "2021-12-05T07:37:25.586Z"
   },
   {
    "duration": 12,
    "start_time": "2021-12-05T07:37:26.312Z"
   },
   {
    "duration": 11,
    "start_time": "2021-12-05T07:37:26.883Z"
   },
   {
    "duration": 313,
    "start_time": "2021-12-05T07:37:27.663Z"
   },
   {
    "duration": 6,
    "start_time": "2021-12-05T07:37:31.131Z"
   },
   {
    "duration": 5,
    "start_time": "2021-12-05T07:37:31.632Z"
   },
   {
    "duration": 965,
    "start_time": "2021-12-05T07:37:32.483Z"
   },
   {
    "duration": 7,
    "start_time": "2021-12-05T07:37:43.227Z"
   },
   {
    "duration": 13,
    "start_time": "2021-12-05T07:37:44.811Z"
   },
   {
    "duration": 21,
    "start_time": "2021-12-05T07:37:45.555Z"
   },
   {
    "duration": 12,
    "start_time": "2021-12-05T07:37:46.366Z"
   },
   {
    "duration": 198,
    "start_time": "2021-12-05T07:37:48.088Z"
   },
   {
    "duration": 8,
    "start_time": "2021-12-05T07:37:51.108Z"
   },
   {
    "duration": 8,
    "start_time": "2021-12-05T07:37:51.651Z"
   },
   {
    "duration": 9,
    "start_time": "2021-12-05T07:37:52.239Z"
   },
   {
    "duration": 24,
    "start_time": "2021-12-05T07:37:52.813Z"
   },
   {
    "duration": 11,
    "start_time": "2021-12-05T07:37:55.256Z"
   },
   {
    "duration": 12,
    "start_time": "2021-12-05T07:37:55.270Z"
   },
   {
    "duration": 11,
    "start_time": "2021-12-05T07:37:55.285Z"
   },
   {
    "duration": 128,
    "start_time": "2021-12-05T07:37:55.316Z"
   },
   {
    "duration": 30,
    "start_time": "2021-12-05T07:37:56.772Z"
   },
   {
    "duration": 483,
    "start_time": "2021-12-05T07:47:01.753Z"
   },
   {
    "duration": 428,
    "start_time": "2021-12-05T07:48:48.381Z"
   },
   {
    "duration": 735,
    "start_time": "2021-12-05T07:48:59.425Z"
   },
   {
    "duration": 1360,
    "start_time": "2021-12-05T07:49:07.022Z"
   },
   {
    "duration": 1489,
    "start_time": "2021-12-05T07:52:40.098Z"
   },
   {
    "duration": 1554,
    "start_time": "2021-12-05T07:53:03.470Z"
   },
   {
    "duration": 1581,
    "start_time": "2021-12-05T07:53:48.882Z"
   },
   {
    "duration": 6,
    "start_time": "2021-12-05T08:10:38.060Z"
   },
   {
    "duration": 8,
    "start_time": "2021-12-05T08:12:35.064Z"
   },
   {
    "duration": 418,
    "start_time": "2021-12-05T08:15:21.747Z"
   },
   {
    "duration": 6,
    "start_time": "2021-12-05T08:16:04.712Z"
   },
   {
    "duration": 477,
    "start_time": "2021-12-05T08:16:05.975Z"
   },
   {
    "duration": 15,
    "start_time": "2021-12-05T08:17:06.893Z"
   },
   {
    "duration": 411,
    "start_time": "2021-12-05T08:17:22.101Z"
   },
   {
    "duration": 6,
    "start_time": "2021-12-05T08:17:33.651Z"
   },
   {
    "duration": 10,
    "start_time": "2021-12-05T08:17:51.280Z"
   },
   {
    "duration": 1684,
    "start_time": "2021-12-05T08:17:59.689Z"
   },
   {
    "duration": 379,
    "start_time": "2021-12-05T08:18:44.672Z"
   },
   {
    "duration": 392,
    "start_time": "2021-12-05T08:18:53.072Z"
   },
   {
    "duration": 10,
    "start_time": "2021-12-05T08:19:58.424Z"
   },
   {
    "duration": 17,
    "start_time": "2021-12-05T08:20:26.064Z"
   },
   {
    "duration": 659,
    "start_time": "2021-12-05T08:21:26.583Z"
   },
   {
    "duration": 23,
    "start_time": "2021-12-05T08:21:36.060Z"
   },
   {
    "duration": 30,
    "start_time": "2021-12-05T08:22:22.576Z"
   },
   {
    "duration": 29,
    "start_time": "2021-12-05T08:22:41.022Z"
   },
   {
    "duration": 340,
    "start_time": "2021-12-05T08:23:59.923Z"
   },
   {
    "duration": 453,
    "start_time": "2021-12-05T08:25:26.809Z"
   },
   {
    "duration": 4,
    "start_time": "2021-12-05T08:32:34.375Z"
   },
   {
    "duration": 13115,
    "start_time": "2021-12-05T08:36:44.759Z"
   },
   {
    "duration": 26,
    "start_time": "2021-12-05T08:37:15.773Z"
   },
   {
    "duration": 34,
    "start_time": "2021-12-05T08:38:59.754Z"
   },
   {
    "duration": 28,
    "start_time": "2021-12-05T08:39:26.407Z"
   },
   {
    "duration": 3,
    "start_time": "2021-12-05T08:39:55.976Z"
   },
   {
    "duration": 27,
    "start_time": "2021-12-05T08:39:57.937Z"
   },
   {
    "duration": 26,
    "start_time": "2021-12-05T08:40:56.148Z"
   },
   {
    "duration": 4,
    "start_time": "2021-12-05T09:37:43.386Z"
   },
   {
    "duration": 143,
    "start_time": "2021-12-05T09:37:43.918Z"
   },
   {
    "duration": 36,
    "start_time": "2021-12-05T09:37:44.413Z"
   },
   {
    "duration": 37,
    "start_time": "2021-12-05T09:37:44.965Z"
   },
   {
    "duration": 16,
    "start_time": "2021-12-05T09:37:45.695Z"
   },
   {
    "duration": 132,
    "start_time": "2021-12-05T09:37:46.245Z"
   },
   {
    "duration": 6,
    "start_time": "2021-12-05T09:37:49.897Z"
   },
   {
    "duration": 6,
    "start_time": "2021-12-05T09:37:50.430Z"
   },
   {
    "duration": 6,
    "start_time": "2021-12-05T09:37:54.796Z"
   },
   {
    "duration": 18,
    "start_time": "2021-12-05T09:37:54.804Z"
   },
   {
    "duration": 18,
    "start_time": "2021-12-05T09:37:55.125Z"
   },
   {
    "duration": 9,
    "start_time": "2021-12-05T09:37:58.011Z"
   },
   {
    "duration": 38,
    "start_time": "2021-12-05T09:37:58.023Z"
   },
   {
    "duration": 12,
    "start_time": "2021-12-05T09:37:58.064Z"
   },
   {
    "duration": 22,
    "start_time": "2021-12-05T09:37:58.447Z"
   },
   {
    "duration": 22,
    "start_time": "2021-12-05T09:37:58.953Z"
   },
   {
    "duration": 9,
    "start_time": "2021-12-05T09:37:59.468Z"
   },
   {
    "duration": 26,
    "start_time": "2021-12-05T09:37:59.942Z"
   },
   {
    "duration": 9,
    "start_time": "2021-12-05T09:38:00.499Z"
   },
   {
    "duration": 10,
    "start_time": "2021-12-05T09:38:00.969Z"
   },
   {
    "duration": 16,
    "start_time": "2021-12-05T09:38:01.553Z"
   },
   {
    "duration": 7,
    "start_time": "2021-12-05T09:38:04.772Z"
   },
   {
    "duration": 25,
    "start_time": "2021-12-05T09:38:05.256Z"
   },
   {
    "duration": 24,
    "start_time": "2021-12-05T09:38:05.822Z"
   },
   {
    "duration": 7,
    "start_time": "2021-12-05T09:38:06.916Z"
   },
   {
    "duration": 10,
    "start_time": "2021-12-05T09:38:08.151Z"
   },
   {
    "duration": 6,
    "start_time": "2021-12-05T09:38:08.689Z"
   },
   {
    "duration": 6,
    "start_time": "2021-12-05T09:38:09.271Z"
   },
   {
    "duration": 7,
    "start_time": "2021-12-05T09:38:10.129Z"
   },
   {
    "duration": 23,
    "start_time": "2021-12-05T09:38:10.802Z"
   },
   {
    "duration": 7,
    "start_time": "2021-12-05T09:38:11.985Z"
   },
   {
    "duration": 7,
    "start_time": "2021-12-05T09:38:12.507Z"
   },
   {
    "duration": 6,
    "start_time": "2021-12-05T09:38:12.990Z"
   },
   {
    "duration": 5,
    "start_time": "2021-12-05T09:38:13.502Z"
   },
   {
    "duration": 19,
    "start_time": "2021-12-05T09:38:14.727Z"
   },
   {
    "duration": 8,
    "start_time": "2021-12-05T09:38:15.250Z"
   },
   {
    "duration": 7,
    "start_time": "2021-12-05T09:38:15.775Z"
   },
   {
    "duration": 8,
    "start_time": "2021-12-05T09:38:18.799Z"
   },
   {
    "duration": 12,
    "start_time": "2021-12-05T09:38:19.292Z"
   },
   {
    "duration": 39,
    "start_time": "2021-12-05T09:38:19.814Z"
   },
   {
    "duration": 35,
    "start_time": "2021-12-05T09:38:20.320Z"
   },
   {
    "duration": 39,
    "start_time": "2021-12-05T09:38:20.962Z"
   },
   {
    "duration": 9,
    "start_time": "2021-12-05T09:38:21.650Z"
   },
   {
    "duration": 47,
    "start_time": "2021-12-05T09:38:22.282Z"
   },
   {
    "duration": 11,
    "start_time": "2021-12-05T09:38:23.111Z"
   },
   {
    "duration": 5,
    "start_time": "2021-12-05T09:38:23.829Z"
   },
   {
    "duration": 118,
    "start_time": "2021-12-05T09:38:24.883Z"
   },
   {
    "duration": 1061,
    "start_time": "2021-12-05T09:38:26.353Z"
   },
   {
    "duration": 5,
    "start_time": "2021-12-05T09:38:27.417Z"
   },
   {
    "duration": 50,
    "start_time": "2021-12-05T09:38:28.968Z"
   },
   {
    "duration": 8,
    "start_time": "2021-12-05T09:38:29.578Z"
   },
   {
    "duration": 37,
    "start_time": "2021-12-05T09:38:30.662Z"
   },
   {
    "duration": 15,
    "start_time": "2021-12-05T09:38:33.386Z"
   },
   {
    "duration": 39,
    "start_time": "2021-12-05T09:38:36.999Z"
   },
   {
    "duration": 25,
    "start_time": "2021-12-05T09:38:37.829Z"
   },
   {
    "duration": 10,
    "start_time": "2021-12-05T09:38:38.691Z"
   },
   {
    "duration": 12,
    "start_time": "2021-12-05T09:38:39.526Z"
   },
   {
    "duration": 599,
    "start_time": "2021-12-05T09:38:41.662Z"
   },
   {
    "duration": 594,
    "start_time": "2021-12-05T09:38:43.067Z"
   },
   {
    "duration": 409,
    "start_time": "2021-12-05T09:38:44.616Z"
   },
   {
    "duration": 357,
    "start_time": "2021-12-05T09:38:45.796Z"
   },
   {
    "duration": 12,
    "start_time": "2021-12-05T09:38:51.004Z"
   },
   {
    "duration": 355,
    "start_time": "2021-12-05T09:38:52.228Z"
   },
   {
    "duration": 6,
    "start_time": "2021-12-05T09:38:54.280Z"
   },
   {
    "duration": 356,
    "start_time": "2021-12-05T09:38:56.770Z"
   },
   {
    "duration": 16,
    "start_time": "2021-12-05T09:38:57.628Z"
   },
   {
    "duration": 18,
    "start_time": "2021-12-05T09:38:58.383Z"
   },
   {
    "duration": 346,
    "start_time": "2021-12-05T09:38:59.146Z"
   },
   {
    "duration": 18,
    "start_time": "2021-12-05T09:39:00.780Z"
   },
   {
    "duration": 18,
    "start_time": "2021-12-05T09:39:01.338Z"
   },
   {
    "duration": 348,
    "start_time": "2021-12-05T09:39:02.032Z"
   },
   {
    "duration": 19,
    "start_time": "2021-12-05T09:39:02.905Z"
   },
   {
    "duration": 382,
    "start_time": "2021-12-05T09:39:03.907Z"
   },
   {
    "duration": 1627,
    "start_time": "2021-12-05T09:39:06.780Z"
   },
   {
    "duration": 17,
    "start_time": "2021-12-05T09:39:09.291Z"
   },
   {
    "duration": 20,
    "start_time": "2021-12-05T09:39:10.997Z"
   },
   {
    "duration": 36,
    "start_time": "2021-12-05T09:39:11.851Z"
   },
   {
    "duration": 37,
    "start_time": "2021-12-05T09:39:12.766Z"
   },
   {
    "duration": 553,
    "start_time": "2021-12-05T09:39:16.023Z"
   },
   {
    "duration": 676,
    "start_time": "2021-12-05T09:39:16.793Z"
   },
   {
    "duration": 517,
    "start_time": "2021-12-05T09:39:17.532Z"
   },
   {
    "duration": 454,
    "start_time": "2021-12-05T09:39:19.303Z"
   },
   {
    "duration": 453,
    "start_time": "2021-12-05T09:39:20.069Z"
   },
   {
    "duration": 12,
    "start_time": "2021-12-05T09:39:22.506Z"
   },
   {
    "duration": 19,
    "start_time": "2021-12-05T09:39:23.409Z"
   },
   {
    "duration": 629,
    "start_time": "2021-12-05T09:39:25.371Z"
   },
   {
    "duration": 16,
    "start_time": "2021-12-05T09:39:26.106Z"
   },
   {
    "duration": 15,
    "start_time": "2021-12-05T09:39:27.871Z"
   },
   {
    "duration": 423,
    "start_time": "2021-12-05T09:39:28.968Z"
   },
   {
    "duration": 16,
    "start_time": "2021-12-05T09:39:30.079Z"
   },
   {
    "duration": 13,
    "start_time": "2021-12-05T09:39:30.955Z"
   },
   {
    "duration": 320,
    "start_time": "2021-12-05T09:39:31.868Z"
   },
   {
    "duration": 6,
    "start_time": "2021-12-05T09:39:33.567Z"
   },
   {
    "duration": 5,
    "start_time": "2021-12-05T09:39:34.353Z"
   },
   {
    "duration": 1034,
    "start_time": "2021-12-05T09:39:35.715Z"
   },
   {
    "duration": 7,
    "start_time": "2021-12-05T09:39:39.546Z"
   },
   {
    "duration": 15,
    "start_time": "2021-12-05T09:39:40.913Z"
   },
   {
    "duration": 18,
    "start_time": "2021-12-05T09:39:41.649Z"
   },
   {
    "duration": 13,
    "start_time": "2021-12-05T09:39:42.537Z"
   },
   {
    "duration": 136,
    "start_time": "2021-12-05T09:39:44.345Z"
   },
   {
    "duration": 9,
    "start_time": "2021-12-05T09:39:46.893Z"
   },
   {
    "duration": 11,
    "start_time": "2021-12-05T09:39:47.609Z"
   },
   {
    "duration": 9,
    "start_time": "2021-12-05T09:39:48.482Z"
   },
   {
    "duration": 27,
    "start_time": "2021-12-05T09:39:49.252Z"
   },
   {
    "duration": 11,
    "start_time": "2021-12-05T09:39:50.001Z"
   },
   {
    "duration": 13,
    "start_time": "2021-12-05T09:39:50.899Z"
   },
   {
    "duration": 9,
    "start_time": "2021-12-05T09:39:51.516Z"
   },
   {
    "duration": 110,
    "start_time": "2021-12-05T09:39:52.465Z"
   },
   {
    "duration": 31,
    "start_time": "2021-12-05T09:39:55.741Z"
   },
   {
    "duration": 6,
    "start_time": "2021-12-05T09:40:01.012Z"
   },
   {
    "duration": 16,
    "start_time": "2021-12-05T09:40:01.813Z"
   },
   {
    "duration": 30,
    "start_time": "2021-12-05T09:40:02.733Z"
   },
   {
    "duration": 466,
    "start_time": "2021-12-05T09:40:03.661Z"
   },
   {
    "duration": 3,
    "start_time": "2021-12-05T09:40:08.936Z"
   },
   {
    "duration": 29,
    "start_time": "2021-12-05T09:40:10.629Z"
   },
   {
    "duration": 81,
    "start_time": "2021-12-05T09:43:58.388Z"
   },
   {
    "duration": 124,
    "start_time": "2021-12-05T09:45:25.707Z"
   },
   {
    "duration": 46,
    "start_time": "2021-12-05T09:45:41.475Z"
   },
   {
    "duration": 81,
    "start_time": "2021-12-05T09:46:03.837Z"
   },
   {
    "duration": 78,
    "start_time": "2021-12-05T09:46:33.987Z"
   },
   {
    "duration": 27,
    "start_time": "2021-12-05T09:47:08.803Z"
   },
   {
    "duration": 29,
    "start_time": "2021-12-05T09:48:00.676Z"
   },
   {
    "duration": 4,
    "start_time": "2021-12-05T09:50:21.657Z"
   },
   {
    "duration": 973,
    "start_time": "2021-12-05T09:50:59.370Z"
   },
   {
    "duration": 2357,
    "start_time": "2021-12-05T09:51:13.048Z"
   },
   {
    "duration": 1233,
    "start_time": "2021-12-05T09:52:50.308Z"
   },
   {
    "duration": 777,
    "start_time": "2021-12-05T09:53:02.650Z"
   },
   {
    "duration": 2543,
    "start_time": "2021-12-05T09:53:15.866Z"
   },
   {
    "duration": 835,
    "start_time": "2021-12-05T09:53:56.248Z"
   },
   {
    "duration": 2363,
    "start_time": "2021-12-05T09:54:15.432Z"
   },
   {
    "duration": 2217,
    "start_time": "2021-12-05T09:54:18.865Z"
   },
   {
    "duration": 4,
    "start_time": "2021-12-05T09:57:47.208Z"
   },
   {
    "duration": 12717,
    "start_time": "2021-12-05T09:58:47.995Z"
   },
   {
    "duration": 4,
    "start_time": "2021-12-05T10:00:34.510Z"
   },
   {
    "duration": 4035,
    "start_time": "2021-12-05T10:00:35.836Z"
   },
   {
    "duration": 768,
    "start_time": "2021-12-05T10:03:50.713Z"
   },
   {
    "duration": 2285,
    "start_time": "2021-12-05T10:04:09.665Z"
   },
   {
    "duration": 1503,
    "start_time": "2021-12-05T10:07:23.998Z"
   },
   {
    "duration": 1268,
    "start_time": "2021-12-05T10:07:34.431Z"
   },
   {
    "duration": 4039,
    "start_time": "2021-12-05T10:09:27.064Z"
   },
   {
    "duration": 4094,
    "start_time": "2021-12-05T10:09:54.715Z"
   },
   {
    "duration": 4145,
    "start_time": "2021-12-05T10:10:28.207Z"
   },
   {
    "duration": 1220,
    "start_time": "2021-12-05T10:11:16.386Z"
   },
   {
    "duration": 1286,
    "start_time": "2021-12-05T10:11:27.082Z"
   },
   {
    "duration": 4173,
    "start_time": "2021-12-05T10:11:39.517Z"
   },
   {
    "duration": 4021,
    "start_time": "2021-12-05T10:12:18.125Z"
   },
   {
    "duration": 4192,
    "start_time": "2021-12-05T10:12:56.826Z"
   },
   {
    "duration": 851,
    "start_time": "2021-12-05T10:15:15.444Z"
   },
   {
    "duration": 1068,
    "start_time": "2021-12-05T10:15:26.810Z"
   },
   {
    "duration": 750,
    "start_time": "2021-12-05T10:16:11.063Z"
   },
   {
    "duration": 2205,
    "start_time": "2021-12-05T10:16:39.016Z"
   },
   {
    "duration": 564,
    "start_time": "2021-12-05T10:19:07.317Z"
   },
   {
    "duration": 1062,
    "start_time": "2021-12-05T10:19:58.757Z"
   },
   {
    "duration": 4134,
    "start_time": "2021-12-05T10:20:39.320Z"
   },
   {
    "duration": 469,
    "start_time": "2021-12-05T10:23:36.975Z"
   },
   {
    "duration": 4228,
    "start_time": "2021-12-05T10:23:57.734Z"
   },
   {
    "duration": 4575,
    "start_time": "2021-12-05T10:24:11.572Z"
   },
   {
    "duration": 4392,
    "start_time": "2021-12-05T10:25:08.948Z"
   },
   {
    "duration": 384,
    "start_time": "2021-12-05T10:46:53.344Z"
   },
   {
    "duration": 397,
    "start_time": "2021-12-05T10:47:08.013Z"
   },
   {
    "duration": 16,
    "start_time": "2021-12-05T10:47:22.331Z"
   },
   {
    "duration": 21,
    "start_time": "2021-12-05T10:49:06.654Z"
   }
  ],
  "kernelspec": {
   "display_name": "Python 3",
   "language": "python",
   "name": "python3"
  },
  "language_info": {
   "codemirror_mode": {
    "name": "ipython",
    "version": 3
   },
   "file_extension": ".py",
   "mimetype": "text/x-python",
   "name": "python",
   "nbconvert_exporter": "python",
   "pygments_lexer": "ipython3",
   "version": "3.8.8"
  },
  "toc": {
   "base_numbering": 1,
   "nav_menu": {},
   "number_sections": true,
   "sideBar": true,
   "skip_h1_title": true,
   "title_cell": "Содержание",
   "title_sidebar": "Contents",
   "toc_cell": true,
   "toc_position": {
    "height": "calc(100% - 180px)",
    "left": "10px",
    "top": "150px",
    "width": "165px"
   },
   "toc_section_display": true,
   "toc_window_display": true
  }
 },
 "nbformat": 4,
 "nbformat_minor": 2
}
