{
 "cells": [
  {
   "cell_type": "markdown",
   "metadata": {},
   "source": [
    "<div style=\"font-size: 30px\">\n",
    "    \n",
    "**Tariff plan prediction**"
   ]
  },
  {
   "cell_type": "markdown",
   "metadata": {},
   "source": [
    "**Project Description**\n",
    "\n",
    "It is necessary to conduct a preliminary analysis of the data of 500 customers of the tariff plans of Megaline, a federal mobile operator. Customers are offered two tariff plans: \"Smart\" and \"Ultra\". The analysis is carried out in order to adjust the advertising budget, the commercial department wants to understand which tariff brings more money.\n",
    "\n",
    "**Description of tariffs:**\n",
    "\n",
    "*Smart tariff:*\n",
    "\n",
    "Monthly fee: 550 rubles\n",
    "Included 500 minutes of conversation, 50 messages and 15 GB of Internet traffic\n",
    "The cost of services in excess of the tariff package: 1. Minute of conversation: 3 rubles (Megaline always rounds up the values of minutes and megabytes. If the user spoke for only 1 second, the whole minute is counted in the tariff); 2. message: 3 rubles; 3. 1 GB of Internet traffic: 200 rubles.\n",
    "\n",
    "\n",
    "*The \"Ultra\" tariff:*\n",
    "\n",
    "Monthly fee: 1950 rubles\n",
    "3000 minutes of conversation, 1000 messages and 30 GB of Internet traffic are included\n",
    "The cost of services in excess of the tariff package: 1. minute of conversation: 1 ruble; 2. Message: 1 ruble; 3. 1 GB of Internet traffic: 150 rubles."
   ]
  },
  {
   "cell_type": "markdown",
   "metadata": {},
   "source": [
    "<h1>Table of contents<span class=\"tocSkip\"></span></h1>\n",
    "\n",
    "<div class=\"toc\"><ul class=\"toc-item\">\n",
    "<li><span><a href=\"#Data uploading and initial examination\">\n",
    "    <span class=\"toc-item-num\">1.&nbsp;&nbsp;</span>Data uploading and initial examination</a></span></li>\n",
    "<li><span><a href=\"#Data preprocessing\">\n",
    "    <span class=\"toc-item-num\">2.&nbsp;&nbsp;</span>Data preprocessing</a></span></li>\n",
    "<li><span><a href=\"#Data analysis\">\n",
    "    <span class=\"toc-item-num\">3.&nbsp;&nbsp;</span>Data analysis</a></span></li>\n",
    "<li><span><a href=\"#Hypothesis testing\">\n",
    "    <span class=\"toc-item-num\">4.&nbsp;&nbsp;</span>Hypothesis testing</a></span></li>\n",
    "<li><span><a href=\"#Final conclusion\">\n",
    "    <span class=\"toc-item-num\">5.&nbsp;&nbsp;</span>Final conclusion</a></span></li>\n",
    "</ul></div>\n",
    "\n"
   ]
  },
  {
   "cell_type": "code",
   "execution_count": 1,
   "metadata": {},
   "outputs": [],
   "source": [
    "import pandas as pd\n",
    "import numpy as np\n",
    "import matplotlib.pyplot as plt\n",
    "from scipy import stats as st\n",
    "import seaborn as sns\n",
    "\n",
    "import warnings"
   ]
  },
  {
   "cell_type": "code",
   "execution_count": 2,
   "metadata": {},
   "outputs": [],
   "source": [
    "# Disable Anaconda warnings\n",
    "warnings.simplefilter('ignore')\n",
    "\n",
    "# Default chart size\n",
    "from pylab import rcParams\n",
    "rcParams['figure.figsize'] = 16, 9\n",
    "\n",
    "# Setting the maximum number of columns in the dateframe to be displayed\n",
    "pd.set_option('display.max_columns',None)"
   ]
  },
  {
   "cell_type": "markdown",
   "metadata": {},
   "source": [
    "# 1. Data uploading and initial examination"
   ]
  },
  {
   "cell_type": "code",
   "execution_count": 3,
   "metadata": {},
   "outputs": [],
   "source": [
    "df_calls = pd.read_csv('calls.csv',sep=',')\n",
    "df_internet = pd.read_csv('internet.csv',sep=',')\n",
    "df_messages = pd.read_csv('messages.csv',sep=',')\n",
    "df_tariffs = pd.read_csv('tariffs.csv',sep=',')\n",
    "df_users = pd.read_csv('users.csv',sep=',')"
   ]
  },
  {
   "cell_type": "code",
   "execution_count": 4,
   "metadata": {
    "scrolled": true
   },
   "outputs": [
    {
     "name": "stdout",
     "output_type": "stream",
     "text": [
      "<class 'pandas.core.frame.DataFrame'>\n",
      "RangeIndex: 202607 entries, 0 to 202606\n",
      "Data columns (total 4 columns):\n",
      " #   Column     Non-Null Count   Dtype  \n",
      "---  ------     --------------   -----  \n",
      " 0   id         202607 non-null  object \n",
      " 1   call_date  202607 non-null  object \n",
      " 2   duration   202607 non-null  float64\n",
      " 3   user_id    202607 non-null  int64  \n",
      "dtypes: float64(1), int64(1), object(2)\n",
      "memory usage: 6.2+ MB\n"
     ]
    }
   ],
   "source": [
    "df_calls.info()"
   ]
  },
  {
   "cell_type": "markdown",
   "metadata": {},
   "source": [
    "**Calls table (information about calls):**\n",
    "\n",
    "id — unique call number\n",
    "\n",
    "call_date — date of the call\n",
    "\n",
    "duration — the duration of the call in minutes\n",
    "\n",
    "user_id — ID of the user who made the call"
   ]
  },
  {
   "cell_type": "code",
   "execution_count": 5,
   "metadata": {},
   "outputs": [
    {
     "data": {
      "text/html": [
       "<div>\n",
       "<style scoped>\n",
       "    .dataframe tbody tr th:only-of-type {\n",
       "        vertical-align: middle;\n",
       "    }\n",
       "\n",
       "    .dataframe tbody tr th {\n",
       "        vertical-align: top;\n",
       "    }\n",
       "\n",
       "    .dataframe thead th {\n",
       "        text-align: right;\n",
       "    }\n",
       "</style>\n",
       "<table border=\"1\" class=\"dataframe\">\n",
       "  <thead>\n",
       "    <tr style=\"text-align: right;\">\n",
       "      <th></th>\n",
       "      <th>id</th>\n",
       "      <th>call_date</th>\n",
       "      <th>duration</th>\n",
       "      <th>user_id</th>\n",
       "    </tr>\n",
       "  </thead>\n",
       "  <tbody>\n",
       "    <tr>\n",
       "      <th>0</th>\n",
       "      <td>1000_0</td>\n",
       "      <td>2018-07-25</td>\n",
       "      <td>0.00</td>\n",
       "      <td>1000</td>\n",
       "    </tr>\n",
       "    <tr>\n",
       "      <th>1</th>\n",
       "      <td>1000_1</td>\n",
       "      <td>2018-08-17</td>\n",
       "      <td>0.00</td>\n",
       "      <td>1000</td>\n",
       "    </tr>\n",
       "    <tr>\n",
       "      <th>2</th>\n",
       "      <td>1000_2</td>\n",
       "      <td>2018-06-11</td>\n",
       "      <td>2.85</td>\n",
       "      <td>1000</td>\n",
       "    </tr>\n",
       "    <tr>\n",
       "      <th>3</th>\n",
       "      <td>1000_3</td>\n",
       "      <td>2018-09-21</td>\n",
       "      <td>13.80</td>\n",
       "      <td>1000</td>\n",
       "    </tr>\n",
       "    <tr>\n",
       "      <th>4</th>\n",
       "      <td>1000_4</td>\n",
       "      <td>2018-12-15</td>\n",
       "      <td>5.18</td>\n",
       "      <td>1000</td>\n",
       "    </tr>\n",
       "  </tbody>\n",
       "</table>\n",
       "</div>"
      ],
      "text/plain": [
       "       id   call_date  duration  user_id\n",
       "0  1000_0  2018-07-25      0.00     1000\n",
       "1  1000_1  2018-08-17      0.00     1000\n",
       "2  1000_2  2018-06-11      2.85     1000\n",
       "3  1000_3  2018-09-21     13.80     1000\n",
       "4  1000_4  2018-12-15      5.18     1000"
      ]
     },
     "execution_count": 5,
     "metadata": {},
     "output_type": "execute_result"
    }
   ],
   "source": [
    "df_calls.head()"
   ]
  },
  {
   "cell_type": "code",
   "execution_count": 6,
   "metadata": {},
   "outputs": [
    {
     "data": {
      "text/html": [
       "<div>\n",
       "<style scoped>\n",
       "    .dataframe tbody tr th:only-of-type {\n",
       "        vertical-align: middle;\n",
       "    }\n",
       "\n",
       "    .dataframe tbody tr th {\n",
       "        vertical-align: top;\n",
       "    }\n",
       "\n",
       "    .dataframe thead th {\n",
       "        text-align: right;\n",
       "    }\n",
       "</style>\n",
       "<table border=\"1\" class=\"dataframe\">\n",
       "  <thead>\n",
       "    <tr style=\"text-align: right;\">\n",
       "      <th></th>\n",
       "      <th>id</th>\n",
       "      <th>call_date</th>\n",
       "      <th>duration</th>\n",
       "      <th>user_id</th>\n",
       "    </tr>\n",
       "  </thead>\n",
       "  <tbody>\n",
       "    <tr>\n",
       "      <th>202602</th>\n",
       "      <td>1499_215</td>\n",
       "      <td>2018-12-26</td>\n",
       "      <td>0.76</td>\n",
       "      <td>1499</td>\n",
       "    </tr>\n",
       "    <tr>\n",
       "      <th>202603</th>\n",
       "      <td>1499_216</td>\n",
       "      <td>2018-10-18</td>\n",
       "      <td>18.83</td>\n",
       "      <td>1499</td>\n",
       "    </tr>\n",
       "    <tr>\n",
       "      <th>202604</th>\n",
       "      <td>1499_217</td>\n",
       "      <td>2018-11-10</td>\n",
       "      <td>10.81</td>\n",
       "      <td>1499</td>\n",
       "    </tr>\n",
       "    <tr>\n",
       "      <th>202605</th>\n",
       "      <td>1499_218</td>\n",
       "      <td>2018-10-06</td>\n",
       "      <td>4.27</td>\n",
       "      <td>1499</td>\n",
       "    </tr>\n",
       "    <tr>\n",
       "      <th>202606</th>\n",
       "      <td>1499_219</td>\n",
       "      <td>2018-12-14</td>\n",
       "      <td>19.62</td>\n",
       "      <td>1499</td>\n",
       "    </tr>\n",
       "  </tbody>\n",
       "</table>\n",
       "</div>"
      ],
      "text/plain": [
       "              id   call_date  duration  user_id\n",
       "202602  1499_215  2018-12-26      0.76     1499\n",
       "202603  1499_216  2018-10-18     18.83     1499\n",
       "202604  1499_217  2018-11-10     10.81     1499\n",
       "202605  1499_218  2018-10-06      4.27     1499\n",
       "202606  1499_219  2018-12-14     19.62     1499"
      ]
     },
     "execution_count": 6,
     "metadata": {},
     "output_type": "execute_result"
    }
   ],
   "source": [
    "df_calls.tail()"
   ]
  },
  {
   "cell_type": "code",
   "execution_count": 7,
   "metadata": {},
   "outputs": [
    {
     "data": {
      "text/html": [
       "<div>\n",
       "<style scoped>\n",
       "    .dataframe tbody tr th:only-of-type {\n",
       "        vertical-align: middle;\n",
       "    }\n",
       "\n",
       "    .dataframe tbody tr th {\n",
       "        vertical-align: top;\n",
       "    }\n",
       "\n",
       "    .dataframe thead th {\n",
       "        text-align: right;\n",
       "    }\n",
       "</style>\n",
       "<table border=\"1\" class=\"dataframe\">\n",
       "  <thead>\n",
       "    <tr style=\"text-align: right;\">\n",
       "      <th></th>\n",
       "      <th>id</th>\n",
       "      <th>call_date</th>\n",
       "      <th>duration</th>\n",
       "      <th>user_id</th>\n",
       "    </tr>\n",
       "  </thead>\n",
       "  <tbody>\n",
       "    <tr>\n",
       "      <th>62645</th>\n",
       "      <td>1158_203</td>\n",
       "      <td>2018-06-12</td>\n",
       "      <td>18.89</td>\n",
       "      <td>1158</td>\n",
       "    </tr>\n",
       "    <tr>\n",
       "      <th>131083</th>\n",
       "      <td>1335_560</td>\n",
       "      <td>2018-09-08</td>\n",
       "      <td>0.00</td>\n",
       "      <td>1335</td>\n",
       "    </tr>\n",
       "    <tr>\n",
       "      <th>47309</th>\n",
       "      <td>1118_598</td>\n",
       "      <td>2018-10-20</td>\n",
       "      <td>8.44</td>\n",
       "      <td>1118</td>\n",
       "    </tr>\n",
       "    <tr>\n",
       "      <th>131808</th>\n",
       "      <td>1339_137</td>\n",
       "      <td>2018-11-26</td>\n",
       "      <td>0.00</td>\n",
       "      <td>1339</td>\n",
       "    </tr>\n",
       "    <tr>\n",
       "      <th>97112</th>\n",
       "      <td>1247_435</td>\n",
       "      <td>2018-07-06</td>\n",
       "      <td>0.40</td>\n",
       "      <td>1247</td>\n",
       "    </tr>\n",
       "  </tbody>\n",
       "</table>\n",
       "</div>"
      ],
      "text/plain": [
       "              id   call_date  duration  user_id\n",
       "62645   1158_203  2018-06-12     18.89     1158\n",
       "131083  1335_560  2018-09-08      0.00     1335\n",
       "47309   1118_598  2018-10-20      8.44     1118\n",
       "131808  1339_137  2018-11-26      0.00     1339\n",
       "97112   1247_435  2018-07-06      0.40     1247"
      ]
     },
     "execution_count": 7,
     "metadata": {},
     "output_type": "execute_result"
    }
   ],
   "source": [
    "df_calls.sample(5)"
   ]
  },
  {
   "cell_type": "markdown",
   "metadata": {},
   "source": [
    "**Conclusions on dataframe calls:**\n",
    "\n",
    "1) The source data in the CSV file is initially separated by the sign ','.\n",
    "\n",
    "2) There are no missing values\n",
    "\n",
    "3) Changing the data type:\n",
    "\n",
    "- call_date must be converted to datetime type\n",
    "    "
   ]
  },
  {
   "cell_type": "code",
   "execution_count": 8,
   "metadata": {},
   "outputs": [
    {
     "name": "stdout",
     "output_type": "stream",
     "text": [
      "<class 'pandas.core.frame.DataFrame'>\n",
      "RangeIndex: 149396 entries, 0 to 149395\n",
      "Data columns (total 5 columns):\n",
      " #   Column        Non-Null Count   Dtype  \n",
      "---  ------        --------------   -----  \n",
      " 0   Unnamed: 0    149396 non-null  int64  \n",
      " 1   id            149396 non-null  object \n",
      " 2   mb_used       149396 non-null  float64\n",
      " 3   session_date  149396 non-null  object \n",
      " 4   user_id       149396 non-null  int64  \n",
      "dtypes: float64(1), int64(2), object(2)\n",
      "memory usage: 5.7+ MB\n"
     ]
    }
   ],
   "source": [
    "df_internet.info()"
   ]
  },
  {
   "cell_type": "markdown",
   "metadata": {},
   "source": [
    "**Internet table (information about internet sessions):**\n",
    "\n",
    "id — unique session number\n",
    "\n",
    "mb_used — the amount of Internet traffic spent per session (in megabytes)\n",
    "\n",
    "session_date — date of the internet session\n",
    "\n",
    "user_id — user ID"
   ]
  },
  {
   "cell_type": "code",
   "execution_count": 9,
   "metadata": {},
   "outputs": [
    {
     "data": {
      "text/html": [
       "<div>\n",
       "<style scoped>\n",
       "    .dataframe tbody tr th:only-of-type {\n",
       "        vertical-align: middle;\n",
       "    }\n",
       "\n",
       "    .dataframe tbody tr th {\n",
       "        vertical-align: top;\n",
       "    }\n",
       "\n",
       "    .dataframe thead th {\n",
       "        text-align: right;\n",
       "    }\n",
       "</style>\n",
       "<table border=\"1\" class=\"dataframe\">\n",
       "  <thead>\n",
       "    <tr style=\"text-align: right;\">\n",
       "      <th></th>\n",
       "      <th>Unnamed: 0</th>\n",
       "      <th>id</th>\n",
       "      <th>mb_used</th>\n",
       "      <th>session_date</th>\n",
       "      <th>user_id</th>\n",
       "    </tr>\n",
       "  </thead>\n",
       "  <tbody>\n",
       "    <tr>\n",
       "      <th>0</th>\n",
       "      <td>0</td>\n",
       "      <td>1000_0</td>\n",
       "      <td>112.95</td>\n",
       "      <td>2018-11-25</td>\n",
       "      <td>1000</td>\n",
       "    </tr>\n",
       "    <tr>\n",
       "      <th>1</th>\n",
       "      <td>1</td>\n",
       "      <td>1000_1</td>\n",
       "      <td>1052.81</td>\n",
       "      <td>2018-09-07</td>\n",
       "      <td>1000</td>\n",
       "    </tr>\n",
       "    <tr>\n",
       "      <th>2</th>\n",
       "      <td>2</td>\n",
       "      <td>1000_2</td>\n",
       "      <td>1197.26</td>\n",
       "      <td>2018-06-25</td>\n",
       "      <td>1000</td>\n",
       "    </tr>\n",
       "    <tr>\n",
       "      <th>3</th>\n",
       "      <td>3</td>\n",
       "      <td>1000_3</td>\n",
       "      <td>550.27</td>\n",
       "      <td>2018-08-22</td>\n",
       "      <td>1000</td>\n",
       "    </tr>\n",
       "    <tr>\n",
       "      <th>4</th>\n",
       "      <td>4</td>\n",
       "      <td>1000_4</td>\n",
       "      <td>302.56</td>\n",
       "      <td>2018-09-24</td>\n",
       "      <td>1000</td>\n",
       "    </tr>\n",
       "  </tbody>\n",
       "</table>\n",
       "</div>"
      ],
      "text/plain": [
       "   Unnamed: 0      id  mb_used session_date  user_id\n",
       "0           0  1000_0   112.95   2018-11-25     1000\n",
       "1           1  1000_1  1052.81   2018-09-07     1000\n",
       "2           2  1000_2  1197.26   2018-06-25     1000\n",
       "3           3  1000_3   550.27   2018-08-22     1000\n",
       "4           4  1000_4   302.56   2018-09-24     1000"
      ]
     },
     "execution_count": 9,
     "metadata": {},
     "output_type": "execute_result"
    }
   ],
   "source": [
    "df_internet.head()"
   ]
  },
  {
   "cell_type": "code",
   "execution_count": 10,
   "metadata": {},
   "outputs": [
    {
     "data": {
      "text/html": [
       "<div>\n",
       "<style scoped>\n",
       "    .dataframe tbody tr th:only-of-type {\n",
       "        vertical-align: middle;\n",
       "    }\n",
       "\n",
       "    .dataframe tbody tr th {\n",
       "        vertical-align: top;\n",
       "    }\n",
       "\n",
       "    .dataframe thead th {\n",
       "        text-align: right;\n",
       "    }\n",
       "</style>\n",
       "<table border=\"1\" class=\"dataframe\">\n",
       "  <thead>\n",
       "    <tr style=\"text-align: right;\">\n",
       "      <th></th>\n",
       "      <th>Unnamed: 0</th>\n",
       "      <th>id</th>\n",
       "      <th>mb_used</th>\n",
       "      <th>session_date</th>\n",
       "      <th>user_id</th>\n",
       "    </tr>\n",
       "  </thead>\n",
       "  <tbody>\n",
       "    <tr>\n",
       "      <th>149391</th>\n",
       "      <td>149391</td>\n",
       "      <td>1499_152</td>\n",
       "      <td>318.90</td>\n",
       "      <td>2018-10-03</td>\n",
       "      <td>1499</td>\n",
       "    </tr>\n",
       "    <tr>\n",
       "      <th>149392</th>\n",
       "      <td>149392</td>\n",
       "      <td>1499_153</td>\n",
       "      <td>490.13</td>\n",
       "      <td>2018-12-14</td>\n",
       "      <td>1499</td>\n",
       "    </tr>\n",
       "    <tr>\n",
       "      <th>149393</th>\n",
       "      <td>149393</td>\n",
       "      <td>1499_154</td>\n",
       "      <td>0.00</td>\n",
       "      <td>2018-10-27</td>\n",
       "      <td>1499</td>\n",
       "    </tr>\n",
       "    <tr>\n",
       "      <th>149394</th>\n",
       "      <td>149394</td>\n",
       "      <td>1499_155</td>\n",
       "      <td>1246.32</td>\n",
       "      <td>2018-11-26</td>\n",
       "      <td>1499</td>\n",
       "    </tr>\n",
       "    <tr>\n",
       "      <th>149395</th>\n",
       "      <td>149395</td>\n",
       "      <td>1499_156</td>\n",
       "      <td>544.37</td>\n",
       "      <td>2018-10-26</td>\n",
       "      <td>1499</td>\n",
       "    </tr>\n",
       "  </tbody>\n",
       "</table>\n",
       "</div>"
      ],
      "text/plain": [
       "        Unnamed: 0        id  mb_used session_date  user_id\n",
       "149391      149391  1499_152   318.90   2018-10-03     1499\n",
       "149392      149392  1499_153   490.13   2018-12-14     1499\n",
       "149393      149393  1499_154     0.00   2018-10-27     1499\n",
       "149394      149394  1499_155  1246.32   2018-11-26     1499\n",
       "149395      149395  1499_156   544.37   2018-10-26     1499"
      ]
     },
     "execution_count": 10,
     "metadata": {},
     "output_type": "execute_result"
    }
   ],
   "source": [
    "df_internet.tail()"
   ]
  },
  {
   "cell_type": "code",
   "execution_count": 11,
   "metadata": {},
   "outputs": [
    {
     "data": {
      "text/html": [
       "<div>\n",
       "<style scoped>\n",
       "    .dataframe tbody tr th:only-of-type {\n",
       "        vertical-align: middle;\n",
       "    }\n",
       "\n",
       "    .dataframe tbody tr th {\n",
       "        vertical-align: top;\n",
       "    }\n",
       "\n",
       "    .dataframe thead th {\n",
       "        text-align: right;\n",
       "    }\n",
       "</style>\n",
       "<table border=\"1\" class=\"dataframe\">\n",
       "  <thead>\n",
       "    <tr style=\"text-align: right;\">\n",
       "      <th></th>\n",
       "      <th>Unnamed: 0</th>\n",
       "      <th>id</th>\n",
       "      <th>mb_used</th>\n",
       "      <th>session_date</th>\n",
       "      <th>user_id</th>\n",
       "    </tr>\n",
       "  </thead>\n",
       "  <tbody>\n",
       "    <tr>\n",
       "      <th>109607</th>\n",
       "      <td>109607</td>\n",
       "      <td>1373_529</td>\n",
       "      <td>387.21</td>\n",
       "      <td>2018-12-14</td>\n",
       "      <td>1373</td>\n",
       "    </tr>\n",
       "    <tr>\n",
       "      <th>80641</th>\n",
       "      <td>80641</td>\n",
       "      <td>1272_33</td>\n",
       "      <td>234.32</td>\n",
       "      <td>2018-09-16</td>\n",
       "      <td>1272</td>\n",
       "    </tr>\n",
       "    <tr>\n",
       "      <th>3524</th>\n",
       "      <td>3524</td>\n",
       "      <td>1011_391</td>\n",
       "      <td>586.45</td>\n",
       "      <td>2018-09-20</td>\n",
       "      <td>1011</td>\n",
       "    </tr>\n",
       "    <tr>\n",
       "      <th>84814</th>\n",
       "      <td>84814</td>\n",
       "      <td>1288_127</td>\n",
       "      <td>0.00</td>\n",
       "      <td>2018-11-20</td>\n",
       "      <td>1288</td>\n",
       "    </tr>\n",
       "    <tr>\n",
       "      <th>90480</th>\n",
       "      <td>90480</td>\n",
       "      <td>1307_97</td>\n",
       "      <td>377.35</td>\n",
       "      <td>2018-11-11</td>\n",
       "      <td>1307</td>\n",
       "    </tr>\n",
       "  </tbody>\n",
       "</table>\n",
       "</div>"
      ],
      "text/plain": [
       "        Unnamed: 0        id  mb_used session_date  user_id\n",
       "109607      109607  1373_529   387.21   2018-12-14     1373\n",
       "80641        80641   1272_33   234.32   2018-09-16     1272\n",
       "3524          3524  1011_391   586.45   2018-09-20     1011\n",
       "84814        84814  1288_127     0.00   2018-11-20     1288\n",
       "90480        90480   1307_97   377.35   2018-11-11     1307"
      ]
     },
     "execution_count": 11,
     "metadata": {},
     "output_type": "execute_result"
    }
   ],
   "source": [
    "df_internet.sample(5)"
   ]
  },
  {
   "cell_type": "markdown",
   "metadata": {},
   "source": [
    "**Conclusions on internet dataframe:**\n",
    "\n",
    "1) The source data in the CSV file is initially separated by the sign ','.\n",
    "\n",
    "2) There are no missing values\n",
    "\n",
    "3) Changing the data type:\n",
    "\n",
    "- session_date must be converted to datetime type\n",
    "\n",
    "4) Unnamed:0 the column must be deleted"
   ]
  },
  {
   "cell_type": "code",
   "execution_count": 12,
   "metadata": {},
   "outputs": [
    {
     "name": "stdout",
     "output_type": "stream",
     "text": [
      "<class 'pandas.core.frame.DataFrame'>\n",
      "RangeIndex: 123036 entries, 0 to 123035\n",
      "Data columns (total 3 columns):\n",
      " #   Column        Non-Null Count   Dtype \n",
      "---  ------        --------------   ----- \n",
      " 0   id            123036 non-null  object\n",
      " 1   message_date  123036 non-null  object\n",
      " 2   user_id       123036 non-null  int64 \n",
      "dtypes: int64(1), object(2)\n",
      "memory usage: 2.8+ MB\n"
     ]
    }
   ],
   "source": [
    "df_messages.info()"
   ]
  },
  {
   "cell_type": "markdown",
   "metadata": {},
   "source": [
    "**Messages table (information about messages):**\n",
    "\n",
    "id — unique message number\n",
    "\n",
    "message_date — date of the message\n",
    "\n",
    "user_id — ID of the user who sent the message"
   ]
  },
  {
   "cell_type": "code",
   "execution_count": 13,
   "metadata": {},
   "outputs": [
    {
     "data": {
      "text/html": [
       "<div>\n",
       "<style scoped>\n",
       "    .dataframe tbody tr th:only-of-type {\n",
       "        vertical-align: middle;\n",
       "    }\n",
       "\n",
       "    .dataframe tbody tr th {\n",
       "        vertical-align: top;\n",
       "    }\n",
       "\n",
       "    .dataframe thead th {\n",
       "        text-align: right;\n",
       "    }\n",
       "</style>\n",
       "<table border=\"1\" class=\"dataframe\">\n",
       "  <thead>\n",
       "    <tr style=\"text-align: right;\">\n",
       "      <th></th>\n",
       "      <th>id</th>\n",
       "      <th>message_date</th>\n",
       "      <th>user_id</th>\n",
       "    </tr>\n",
       "  </thead>\n",
       "  <tbody>\n",
       "    <tr>\n",
       "      <th>0</th>\n",
       "      <td>1000_0</td>\n",
       "      <td>2018-06-27</td>\n",
       "      <td>1000</td>\n",
       "    </tr>\n",
       "    <tr>\n",
       "      <th>1</th>\n",
       "      <td>1000_1</td>\n",
       "      <td>2018-10-08</td>\n",
       "      <td>1000</td>\n",
       "    </tr>\n",
       "    <tr>\n",
       "      <th>2</th>\n",
       "      <td>1000_2</td>\n",
       "      <td>2018-08-04</td>\n",
       "      <td>1000</td>\n",
       "    </tr>\n",
       "    <tr>\n",
       "      <th>3</th>\n",
       "      <td>1000_3</td>\n",
       "      <td>2018-06-16</td>\n",
       "      <td>1000</td>\n",
       "    </tr>\n",
       "    <tr>\n",
       "      <th>4</th>\n",
       "      <td>1000_4</td>\n",
       "      <td>2018-12-05</td>\n",
       "      <td>1000</td>\n",
       "    </tr>\n",
       "  </tbody>\n",
       "</table>\n",
       "</div>"
      ],
      "text/plain": [
       "       id message_date  user_id\n",
       "0  1000_0   2018-06-27     1000\n",
       "1  1000_1   2018-10-08     1000\n",
       "2  1000_2   2018-08-04     1000\n",
       "3  1000_3   2018-06-16     1000\n",
       "4  1000_4   2018-12-05     1000"
      ]
     },
     "execution_count": 13,
     "metadata": {},
     "output_type": "execute_result"
    }
   ],
   "source": [
    "df_messages.head()"
   ]
  },
  {
   "cell_type": "code",
   "execution_count": 14,
   "metadata": {},
   "outputs": [
    {
     "data": {
      "text/html": [
       "<div>\n",
       "<style scoped>\n",
       "    .dataframe tbody tr th:only-of-type {\n",
       "        vertical-align: middle;\n",
       "    }\n",
       "\n",
       "    .dataframe tbody tr th {\n",
       "        vertical-align: top;\n",
       "    }\n",
       "\n",
       "    .dataframe thead th {\n",
       "        text-align: right;\n",
       "    }\n",
       "</style>\n",
       "<table border=\"1\" class=\"dataframe\">\n",
       "  <thead>\n",
       "    <tr style=\"text-align: right;\">\n",
       "      <th></th>\n",
       "      <th>id</th>\n",
       "      <th>message_date</th>\n",
       "      <th>user_id</th>\n",
       "    </tr>\n",
       "  </thead>\n",
       "  <tbody>\n",
       "    <tr>\n",
       "      <th>123031</th>\n",
       "      <td>1499_179</td>\n",
       "      <td>2018-12-12</td>\n",
       "      <td>1499</td>\n",
       "    </tr>\n",
       "    <tr>\n",
       "      <th>123032</th>\n",
       "      <td>1499_180</td>\n",
       "      <td>2018-09-28</td>\n",
       "      <td>1499</td>\n",
       "    </tr>\n",
       "    <tr>\n",
       "      <th>123033</th>\n",
       "      <td>1499_181</td>\n",
       "      <td>2018-09-27</td>\n",
       "      <td>1499</td>\n",
       "    </tr>\n",
       "    <tr>\n",
       "      <th>123034</th>\n",
       "      <td>1499_182</td>\n",
       "      <td>2018-11-15</td>\n",
       "      <td>1499</td>\n",
       "    </tr>\n",
       "    <tr>\n",
       "      <th>123035</th>\n",
       "      <td>1499_183</td>\n",
       "      <td>2018-11-16</td>\n",
       "      <td>1499</td>\n",
       "    </tr>\n",
       "  </tbody>\n",
       "</table>\n",
       "</div>"
      ],
      "text/plain": [
       "              id message_date  user_id\n",
       "123031  1499_179   2018-12-12     1499\n",
       "123032  1499_180   2018-09-28     1499\n",
       "123033  1499_181   2018-09-27     1499\n",
       "123034  1499_182   2018-11-15     1499\n",
       "123035  1499_183   2018-11-16     1499"
      ]
     },
     "execution_count": 14,
     "metadata": {},
     "output_type": "execute_result"
    }
   ],
   "source": [
    "df_messages.tail()"
   ]
  },
  {
   "cell_type": "code",
   "execution_count": 15,
   "metadata": {},
   "outputs": [
    {
     "data": {
      "text/html": [
       "<div>\n",
       "<style scoped>\n",
       "    .dataframe tbody tr th:only-of-type {\n",
       "        vertical-align: middle;\n",
       "    }\n",
       "\n",
       "    .dataframe tbody tr th {\n",
       "        vertical-align: top;\n",
       "    }\n",
       "\n",
       "    .dataframe thead th {\n",
       "        text-align: right;\n",
       "    }\n",
       "</style>\n",
       "<table border=\"1\" class=\"dataframe\">\n",
       "  <thead>\n",
       "    <tr style=\"text-align: right;\">\n",
       "      <th></th>\n",
       "      <th>id</th>\n",
       "      <th>message_date</th>\n",
       "      <th>user_id</th>\n",
       "    </tr>\n",
       "  </thead>\n",
       "  <tbody>\n",
       "    <tr>\n",
       "      <th>71747</th>\n",
       "      <td>1302_575</td>\n",
       "      <td>2018-11-22</td>\n",
       "      <td>1302</td>\n",
       "    </tr>\n",
       "    <tr>\n",
       "      <th>11443</th>\n",
       "      <td>1048_89</td>\n",
       "      <td>2018-11-01</td>\n",
       "      <td>1048</td>\n",
       "    </tr>\n",
       "    <tr>\n",
       "      <th>63342</th>\n",
       "      <td>1277_19</td>\n",
       "      <td>2018-05-26</td>\n",
       "      <td>1277</td>\n",
       "    </tr>\n",
       "    <tr>\n",
       "      <th>94440</th>\n",
       "      <td>1385_1149</td>\n",
       "      <td>2018-12-12</td>\n",
       "      <td>1385</td>\n",
       "    </tr>\n",
       "    <tr>\n",
       "      <th>76359</th>\n",
       "      <td>1324_42</td>\n",
       "      <td>2018-11-05</td>\n",
       "      <td>1324</td>\n",
       "    </tr>\n",
       "  </tbody>\n",
       "</table>\n",
       "</div>"
      ],
      "text/plain": [
       "              id message_date  user_id\n",
       "71747   1302_575   2018-11-22     1302\n",
       "11443    1048_89   2018-11-01     1048\n",
       "63342    1277_19   2018-05-26     1277\n",
       "94440  1385_1149   2018-12-12     1385\n",
       "76359    1324_42   2018-11-05     1324"
      ]
     },
     "execution_count": 15,
     "metadata": {},
     "output_type": "execute_result"
    }
   ],
   "source": [
    "df_messages.sample(5)"
   ]
  },
  {
   "cell_type": "markdown",
   "metadata": {},
   "source": [
    "**Conclusions on dataframe messages:**\n",
    "\n",
    "1) The source data in the CSV file is initially separated by the sign ','.\n",
    "\n",
    "2) There are no missing values\n",
    "\n",
    "3) Changing the data type:\n",
    "\n",
    "- message_date must be converted to datetime type"
   ]
  },
  {
   "cell_type": "code",
   "execution_count": 16,
   "metadata": {},
   "outputs": [
    {
     "name": "stdout",
     "output_type": "stream",
     "text": [
      "<class 'pandas.core.frame.DataFrame'>\n",
      "RangeIndex: 2 entries, 0 to 1\n",
      "Data columns (total 8 columns):\n",
      " #   Column                 Non-Null Count  Dtype \n",
      "---  ------                 --------------  ----- \n",
      " 0   messages_included      2 non-null      int64 \n",
      " 1   mb_per_month_included  2 non-null      int64 \n",
      " 2   minutes_included       2 non-null      int64 \n",
      " 3   rub_monthly_fee        2 non-null      int64 \n",
      " 4   rub_per_gb             2 non-null      int64 \n",
      " 5   rub_per_message        2 non-null      int64 \n",
      " 6   rub_per_minute         2 non-null      int64 \n",
      " 7   tariff_name            2 non-null      object\n",
      "dtypes: int64(7), object(1)\n",
      "memory usage: 256.0+ bytes\n"
     ]
    }
   ],
   "source": [
    "df_tariffs.info()"
   ]
  },
  {
   "cell_type": "markdown",
   "metadata": {},
   "source": [
    "**Tariffs table (information about tariffs):**\n",
    "\n",
    "tariff_name — name of the tariff\n",
    "\n",
    "rub_monthly_fee — monthly subscription fee in rubles\n",
    "\n",
    "minutes_included — the number of minutes of conversation per month included in the subscription fee\n",
    "\n",
    "messages_included — the number of messages per month included in the subscription fee\n",
    "\n",
    "mb_per_month_included — the amount of Internet traffic included in the subscription fee (in megabytes)\n",
    "\n",
    "rub_per_minute — the cost of a minute of conversation over the tariff package (for example, if the tariff has 100 minutes of conversation per month, then\n",
    "a fee will be charged from 101 minutes)\n",
    "\n",
    "rub_per_message — the cost of sending a message over the tariff package\n",
    "\n",
    "rub_per_gb — the cost of an additional gigabyte of Internet traffic over the tariff package (1 gigabyte = 1024 megabytes)\n"
   ]
  },
  {
   "cell_type": "code",
   "execution_count": 17,
   "metadata": {},
   "outputs": [
    {
     "data": {
      "text/html": [
       "<div>\n",
       "<style scoped>\n",
       "    .dataframe tbody tr th:only-of-type {\n",
       "        vertical-align: middle;\n",
       "    }\n",
       "\n",
       "    .dataframe tbody tr th {\n",
       "        vertical-align: top;\n",
       "    }\n",
       "\n",
       "    .dataframe thead th {\n",
       "        text-align: right;\n",
       "    }\n",
       "</style>\n",
       "<table border=\"1\" class=\"dataframe\">\n",
       "  <thead>\n",
       "    <tr style=\"text-align: right;\">\n",
       "      <th></th>\n",
       "      <th>messages_included</th>\n",
       "      <th>mb_per_month_included</th>\n",
       "      <th>minutes_included</th>\n",
       "      <th>rub_monthly_fee</th>\n",
       "      <th>rub_per_gb</th>\n",
       "      <th>rub_per_message</th>\n",
       "      <th>rub_per_minute</th>\n",
       "      <th>tariff_name</th>\n",
       "    </tr>\n",
       "  </thead>\n",
       "  <tbody>\n",
       "    <tr>\n",
       "      <th>0</th>\n",
       "      <td>50</td>\n",
       "      <td>15360</td>\n",
       "      <td>500</td>\n",
       "      <td>550</td>\n",
       "      <td>200</td>\n",
       "      <td>3</td>\n",
       "      <td>3</td>\n",
       "      <td>smart</td>\n",
       "    </tr>\n",
       "    <tr>\n",
       "      <th>1</th>\n",
       "      <td>1000</td>\n",
       "      <td>30720</td>\n",
       "      <td>3000</td>\n",
       "      <td>1950</td>\n",
       "      <td>150</td>\n",
       "      <td>1</td>\n",
       "      <td>1</td>\n",
       "      <td>ultra</td>\n",
       "    </tr>\n",
       "  </tbody>\n",
       "</table>\n",
       "</div>"
      ],
      "text/plain": [
       "   messages_included  mb_per_month_included  minutes_included  \\\n",
       "0                 50                  15360               500   \n",
       "1               1000                  30720              3000   \n",
       "\n",
       "   rub_monthly_fee  rub_per_gb  rub_per_message  rub_per_minute tariff_name  \n",
       "0              550         200                3               3       smart  \n",
       "1             1950         150                1               1       ultra  "
      ]
     },
     "execution_count": 17,
     "metadata": {},
     "output_type": "execute_result"
    }
   ],
   "source": [
    "df_tariffs.head()"
   ]
  },
  {
   "cell_type": "markdown",
   "metadata": {},
   "source": [
    "**Conclusions on tariffs dataframe:**\n",
    "\n",
    "1) The source data in the CSV file is initially separated by the sign ','.\n",
    "\n",
    "2) There are no missing values. There is no need to make additional changes"
   ]
  },
  {
   "cell_type": "code",
   "execution_count": 18,
   "metadata": {},
   "outputs": [
    {
     "name": "stdout",
     "output_type": "stream",
     "text": [
      "<class 'pandas.core.frame.DataFrame'>\n",
      "RangeIndex: 500 entries, 0 to 499\n",
      "Data columns (total 8 columns):\n",
      " #   Column      Non-Null Count  Dtype \n",
      "---  ------      --------------  ----- \n",
      " 0   user_id     500 non-null    int64 \n",
      " 1   age         500 non-null    int64 \n",
      " 2   churn_date  38 non-null     object\n",
      " 3   city        500 non-null    object\n",
      " 4   first_name  500 non-null    object\n",
      " 5   last_name   500 non-null    object\n",
      " 6   reg_date    500 non-null    object\n",
      " 7   tariff      500 non-null    object\n",
      "dtypes: int64(2), object(6)\n",
      "memory usage: 31.4+ KB\n"
     ]
    }
   ],
   "source": [
    "df_users.info()"
   ]
  },
  {
   "cell_type": "markdown",
   "metadata": {},
   "source": [
    "**Users table (user information):**\n",
    "\n",
    "user_id — unique user ID\n",
    "\n",
    "first_name — user name\n",
    "\n",
    "last_name — last name of the user\n",
    "\n",
    "age — user's age (years)\n",
    "\n",
    "reg_date — tariff activation date (day, month, year)\n",
    "\n",
    "churn_date — date of termination of use of the tariff (if the value is omitted, the tariff was still valid at the time of data upload)\n",
    "\n",
    "city — the user's city of residence\n",
    "\n",
    "tarif — name of the tariff plan"
   ]
  },
  {
   "cell_type": "code",
   "execution_count": 19,
   "metadata": {},
   "outputs": [
    {
     "data": {
      "text/html": [
       "<div>\n",
       "<style scoped>\n",
       "    .dataframe tbody tr th:only-of-type {\n",
       "        vertical-align: middle;\n",
       "    }\n",
       "\n",
       "    .dataframe tbody tr th {\n",
       "        vertical-align: top;\n",
       "    }\n",
       "\n",
       "    .dataframe thead th {\n",
       "        text-align: right;\n",
       "    }\n",
       "</style>\n",
       "<table border=\"1\" class=\"dataframe\">\n",
       "  <thead>\n",
       "    <tr style=\"text-align: right;\">\n",
       "      <th></th>\n",
       "      <th>user_id</th>\n",
       "      <th>age</th>\n",
       "      <th>churn_date</th>\n",
       "      <th>city</th>\n",
       "      <th>first_name</th>\n",
       "      <th>last_name</th>\n",
       "      <th>reg_date</th>\n",
       "      <th>tariff</th>\n",
       "    </tr>\n",
       "  </thead>\n",
       "  <tbody>\n",
       "    <tr>\n",
       "      <th>0</th>\n",
       "      <td>1000</td>\n",
       "      <td>52</td>\n",
       "      <td>NaN</td>\n",
       "      <td>Краснодар</td>\n",
       "      <td>Рафаил</td>\n",
       "      <td>Верещагин</td>\n",
       "      <td>2018-05-25</td>\n",
       "      <td>ultra</td>\n",
       "    </tr>\n",
       "    <tr>\n",
       "      <th>1</th>\n",
       "      <td>1001</td>\n",
       "      <td>41</td>\n",
       "      <td>NaN</td>\n",
       "      <td>Москва</td>\n",
       "      <td>Иван</td>\n",
       "      <td>Ежов</td>\n",
       "      <td>2018-11-01</td>\n",
       "      <td>smart</td>\n",
       "    </tr>\n",
       "    <tr>\n",
       "      <th>2</th>\n",
       "      <td>1002</td>\n",
       "      <td>59</td>\n",
       "      <td>NaN</td>\n",
       "      <td>Стерлитамак</td>\n",
       "      <td>Евгений</td>\n",
       "      <td>Абрамович</td>\n",
       "      <td>2018-06-17</td>\n",
       "      <td>smart</td>\n",
       "    </tr>\n",
       "    <tr>\n",
       "      <th>3</th>\n",
       "      <td>1003</td>\n",
       "      <td>23</td>\n",
       "      <td>NaN</td>\n",
       "      <td>Москва</td>\n",
       "      <td>Белла</td>\n",
       "      <td>Белякова</td>\n",
       "      <td>2018-08-17</td>\n",
       "      <td>ultra</td>\n",
       "    </tr>\n",
       "    <tr>\n",
       "      <th>4</th>\n",
       "      <td>1004</td>\n",
       "      <td>68</td>\n",
       "      <td>NaN</td>\n",
       "      <td>Новокузнецк</td>\n",
       "      <td>Татьяна</td>\n",
       "      <td>Авдеенко</td>\n",
       "      <td>2018-05-14</td>\n",
       "      <td>ultra</td>\n",
       "    </tr>\n",
       "  </tbody>\n",
       "</table>\n",
       "</div>"
      ],
      "text/plain": [
       "   user_id  age churn_date         city first_name  last_name    reg_date  \\\n",
       "0     1000   52        NaN    Краснодар     Рафаил  Верещагин  2018-05-25   \n",
       "1     1001   41        NaN       Москва       Иван       Ежов  2018-11-01   \n",
       "2     1002   59        NaN  Стерлитамак    Евгений  Абрамович  2018-06-17   \n",
       "3     1003   23        NaN       Москва      Белла   Белякова  2018-08-17   \n",
       "4     1004   68        NaN  Новокузнецк    Татьяна   Авдеенко  2018-05-14   \n",
       "\n",
       "  tariff  \n",
       "0  ultra  \n",
       "1  smart  \n",
       "2  smart  \n",
       "3  ultra  \n",
       "4  ultra  "
      ]
     },
     "execution_count": 19,
     "metadata": {},
     "output_type": "execute_result"
    }
   ],
   "source": [
    "df_users.head()"
   ]
  },
  {
   "cell_type": "code",
   "execution_count": 20,
   "metadata": {},
   "outputs": [
    {
     "data": {
      "text/html": [
       "<div>\n",
       "<style scoped>\n",
       "    .dataframe tbody tr th:only-of-type {\n",
       "        vertical-align: middle;\n",
       "    }\n",
       "\n",
       "    .dataframe tbody tr th {\n",
       "        vertical-align: top;\n",
       "    }\n",
       "\n",
       "    .dataframe thead th {\n",
       "        text-align: right;\n",
       "    }\n",
       "</style>\n",
       "<table border=\"1\" class=\"dataframe\">\n",
       "  <thead>\n",
       "    <tr style=\"text-align: right;\">\n",
       "      <th></th>\n",
       "      <th>user_id</th>\n",
       "      <th>age</th>\n",
       "      <th>churn_date</th>\n",
       "      <th>city</th>\n",
       "      <th>first_name</th>\n",
       "      <th>last_name</th>\n",
       "      <th>reg_date</th>\n",
       "      <th>tariff</th>\n",
       "    </tr>\n",
       "  </thead>\n",
       "  <tbody>\n",
       "    <tr>\n",
       "      <th>0</th>\n",
       "      <td>1000</td>\n",
       "      <td>52</td>\n",
       "      <td>NaN</td>\n",
       "      <td>Краснодар</td>\n",
       "      <td>Рафаил</td>\n",
       "      <td>Верещагин</td>\n",
       "      <td>2018-05-25</td>\n",
       "      <td>ultra</td>\n",
       "    </tr>\n",
       "    <tr>\n",
       "      <th>1</th>\n",
       "      <td>1001</td>\n",
       "      <td>41</td>\n",
       "      <td>NaN</td>\n",
       "      <td>Москва</td>\n",
       "      <td>Иван</td>\n",
       "      <td>Ежов</td>\n",
       "      <td>2018-11-01</td>\n",
       "      <td>smart</td>\n",
       "    </tr>\n",
       "    <tr>\n",
       "      <th>2</th>\n",
       "      <td>1002</td>\n",
       "      <td>59</td>\n",
       "      <td>NaN</td>\n",
       "      <td>Стерлитамак</td>\n",
       "      <td>Евгений</td>\n",
       "      <td>Абрамович</td>\n",
       "      <td>2018-06-17</td>\n",
       "      <td>smart</td>\n",
       "    </tr>\n",
       "    <tr>\n",
       "      <th>3</th>\n",
       "      <td>1003</td>\n",
       "      <td>23</td>\n",
       "      <td>NaN</td>\n",
       "      <td>Москва</td>\n",
       "      <td>Белла</td>\n",
       "      <td>Белякова</td>\n",
       "      <td>2018-08-17</td>\n",
       "      <td>ultra</td>\n",
       "    </tr>\n",
       "    <tr>\n",
       "      <th>4</th>\n",
       "      <td>1004</td>\n",
       "      <td>68</td>\n",
       "      <td>NaN</td>\n",
       "      <td>Новокузнецк</td>\n",
       "      <td>Татьяна</td>\n",
       "      <td>Авдеенко</td>\n",
       "      <td>2018-05-14</td>\n",
       "      <td>ultra</td>\n",
       "    </tr>\n",
       "  </tbody>\n",
       "</table>\n",
       "</div>"
      ],
      "text/plain": [
       "   user_id  age churn_date         city first_name  last_name    reg_date  \\\n",
       "0     1000   52        NaN    Краснодар     Рафаил  Верещагин  2018-05-25   \n",
       "1     1001   41        NaN       Москва       Иван       Ежов  2018-11-01   \n",
       "2     1002   59        NaN  Стерлитамак    Евгений  Абрамович  2018-06-17   \n",
       "3     1003   23        NaN       Москва      Белла   Белякова  2018-08-17   \n",
       "4     1004   68        NaN  Новокузнецк    Татьяна   Авдеенко  2018-05-14   \n",
       "\n",
       "  tariff  \n",
       "0  ultra  \n",
       "1  smart  \n",
       "2  smart  \n",
       "3  ultra  \n",
       "4  ultra  "
      ]
     },
     "execution_count": 20,
     "metadata": {},
     "output_type": "execute_result"
    }
   ],
   "source": [
    "df_users.head()"
   ]
  },
  {
   "cell_type": "code",
   "execution_count": 21,
   "metadata": {},
   "outputs": [
    {
     "data": {
      "text/html": [
       "<div>\n",
       "<style scoped>\n",
       "    .dataframe tbody tr th:only-of-type {\n",
       "        vertical-align: middle;\n",
       "    }\n",
       "\n",
       "    .dataframe tbody tr th {\n",
       "        vertical-align: top;\n",
       "    }\n",
       "\n",
       "    .dataframe thead th {\n",
       "        text-align: right;\n",
       "    }\n",
       "</style>\n",
       "<table border=\"1\" class=\"dataframe\">\n",
       "  <thead>\n",
       "    <tr style=\"text-align: right;\">\n",
       "      <th></th>\n",
       "      <th>user_id</th>\n",
       "      <th>age</th>\n",
       "      <th>churn_date</th>\n",
       "      <th>city</th>\n",
       "      <th>first_name</th>\n",
       "      <th>last_name</th>\n",
       "      <th>reg_date</th>\n",
       "      <th>tariff</th>\n",
       "    </tr>\n",
       "  </thead>\n",
       "  <tbody>\n",
       "    <tr>\n",
       "      <th>369</th>\n",
       "      <td>1369</td>\n",
       "      <td>31</td>\n",
       "      <td>NaN</td>\n",
       "      <td>Краснодар</td>\n",
       "      <td>Валерий</td>\n",
       "      <td>Соловьев</td>\n",
       "      <td>2018-08-18</td>\n",
       "      <td>ultra</td>\n",
       "    </tr>\n",
       "    <tr>\n",
       "      <th>38</th>\n",
       "      <td>1038</td>\n",
       "      <td>31</td>\n",
       "      <td>NaN</td>\n",
       "      <td>Москва</td>\n",
       "      <td>Мария</td>\n",
       "      <td>Денисова</td>\n",
       "      <td>2018-10-07</td>\n",
       "      <td>smart</td>\n",
       "    </tr>\n",
       "    <tr>\n",
       "      <th>75</th>\n",
       "      <td>1075</td>\n",
       "      <td>25</td>\n",
       "      <td>NaN</td>\n",
       "      <td>Екатеринбург</td>\n",
       "      <td>Рафаэль</td>\n",
       "      <td>Никулин</td>\n",
       "      <td>2018-11-02</td>\n",
       "      <td>smart</td>\n",
       "    </tr>\n",
       "    <tr>\n",
       "      <th>411</th>\n",
       "      <td>1411</td>\n",
       "      <td>36</td>\n",
       "      <td>NaN</td>\n",
       "      <td>Грозный</td>\n",
       "      <td>Берта</td>\n",
       "      <td>Прокофьева</td>\n",
       "      <td>2018-07-13</td>\n",
       "      <td>smart</td>\n",
       "    </tr>\n",
       "    <tr>\n",
       "      <th>7</th>\n",
       "      <td>1007</td>\n",
       "      <td>65</td>\n",
       "      <td>NaN</td>\n",
       "      <td>Москва</td>\n",
       "      <td>Юна</td>\n",
       "      <td>Березина</td>\n",
       "      <td>2018-04-19</td>\n",
       "      <td>smart</td>\n",
       "    </tr>\n",
       "  </tbody>\n",
       "</table>\n",
       "</div>"
      ],
      "text/plain": [
       "     user_id  age churn_date          city first_name   last_name    reg_date  \\\n",
       "369     1369   31        NaN     Краснодар    Валерий    Соловьев  2018-08-18   \n",
       "38      1038   31        NaN        Москва      Мария    Денисова  2018-10-07   \n",
       "75      1075   25        NaN  Екатеринбург    Рафаэль     Никулин  2018-11-02   \n",
       "411     1411   36        NaN       Грозный      Берта  Прокофьева  2018-07-13   \n",
       "7       1007   65        NaN        Москва        Юна    Березина  2018-04-19   \n",
       "\n",
       "    tariff  \n",
       "369  ultra  \n",
       "38   smart  \n",
       "75   smart  \n",
       "411  smart  \n",
       "7    smart  "
      ]
     },
     "execution_count": 21,
     "metadata": {},
     "output_type": "execute_result"
    }
   ],
   "source": [
    "df_users.sample(5)"
   ]
  },
  {
   "cell_type": "markdown",
   "metadata": {},
   "source": [
    "**Conclusions on users dataframe:**\n",
    "\n",
    "1) The source data in the CSV file is initially separated by the sign ','.\n",
    "\n",
    "2) There are a lot of missing values in the churn_rate column (due to the fact that users continued to use the tariff at the time of data upload)\n",
    "\n",
    "3) Changing the data type:\n",
    "\n",
    "- reg_date must be converted to datetime type"
   ]
  },
  {
   "cell_type": "markdown",
   "metadata": {},
   "source": [
    "<div style=\"font-size: 20px\">\n",
    "    \n",
    "**Intermediate conclusion:**"
   ]
  },
  {
   "cell_type": "markdown",
   "metadata": {},
   "source": [
    "1) The source data in the CSV file is initially separated by the sign ','.\n",
    "    \n",
    "2) There are practically no missing values. Most dataframes require grouping by user_id\n",
    "\n",
    "3) Some columns require changing the data type to datetime\n",
    "\n",
    "4) To calculate revenue, it will be necessary to round up the duration of calls and Internet traffic\n",
    "\n",
    "5) id columns are redundant (can be deleted)"
   ]
  },
  {
   "cell_type": "markdown",
   "metadata": {},
   "source": [
    "# 2. Data preprocessing"
   ]
  },
  {
   "cell_type": "markdown",
   "metadata": {},
   "source": [
    "<div style=\"font-size: 20px\">\n",
    "\n",
    "**Converting dates and forming columns with months**"
   ]
  },
  {
   "cell_type": "code",
   "execution_count": 22,
   "metadata": {},
   "outputs": [],
   "source": [
    "# Converting columns with dates to the datetime type\n",
    "\n",
    "df_calls['call_date'] = pd.to_datetime(df_calls['call_date'], format = '%Y-%m-%d')\n",
    "df_internet['session_date'] = pd.to_datetime(df_internet['session_date'], format = '%Y-%m-%d')\n",
    "df_messages['message_date'] = pd.to_datetime(df_messages['message_date'], format = '%Y-%m-%d')\n",
    "df_users[['reg_date','churn_date']] = df_users[['reg_date','churn_date']].apply(pd.to_datetime, format = '%Y-%m-%d')"
   ]
  },
  {
   "cell_type": "code",
   "execution_count": 23,
   "metadata": {},
   "outputs": [],
   "source": [
    "# Allocating a month to a separate column in df_calls, df_internet, df_messages\n",
    "df_calls['month'] = df_calls['call_date'].values.astype('datetime64[M]')\n",
    "df_internet['month'] = df_internet['session_date'].values.astype('datetime64[M]')\n",
    "df_messages['month'] = df_messages['message_date'].values.astype('datetime64[M]')"
   ]
  },
  {
   "cell_type": "markdown",
   "metadata": {},
   "source": [
    "<div style=\"font-size: 20px\">\n",
    "\n",
    "**Checking data for errors**"
   ]
  },
  {
   "cell_type": "markdown",
   "metadata": {},
   "source": [
    "<div style=\"font-size: 18px\">\n",
    "\n",
    "Zero call duration"
   ]
  },
  {
   "cell_type": "code",
   "execution_count": 24,
   "metadata": {},
   "outputs": [
    {
     "data": {
      "text/plain": [
       "count    202607.00\n",
       "mean          6.76\n",
       "std           5.84\n",
       "min           0.00\n",
       "25%           1.30\n",
       "50%           6.00\n",
       "75%          10.70\n",
       "max          38.00\n",
       "Name: duration, dtype: float64"
      ]
     },
     "execution_count": 24,
     "metadata": {},
     "output_type": "execute_result"
    }
   ],
   "source": [
    "round(df_calls['duration'].describe(),2)"
   ]
  },
  {
   "cell_type": "code",
   "execution_count": 25,
   "metadata": {},
   "outputs": [
    {
     "name": "stdout",
     "output_type": "stream",
     "text": [
      "Percentage of zero-duration calls is 19.6 %\n"
     ]
    }
   ],
   "source": [
    "# Percentage of zero-duration calls\n",
    "part = round(len(df_calls.query('duration == 0')) / len(df_calls['duration']),3)\n",
    "print(f'Percentage of zero-duration calls is {part * 100} %')"
   ]
  },
  {
   "cell_type": "markdown",
   "metadata": {},
   "source": [
    "Based on the fact that the proportion of rows with zeros is significant, it is necessary to check whether there is a relationship between all calls in the corresponding months and calls with zero values. If there is no dependency: filling in with average values or deleting rows is possible, otherwise it is impossible"
   ]
  },
  {
   "cell_type": "code",
   "execution_count": 26,
   "metadata": {},
   "outputs": [
    {
     "name": "stdout",
     "output_type": "stream",
     "text": [
      "The correlation coefficient of lines (calls) with zero values by month to all is 0.99966\n"
     ]
    }
   ],
   "source": [
    "df_calls_null = df_calls.query('duration == 0').groupby(by='month')['month'].count()\n",
    "df_calls_all = df_calls.groupby(by='month')['duration'].count()\n",
    "correlation = round(df_calls_null.corr(df_calls_all),5)\n",
    "print(f'The correlation coefficient of lines (calls) with zero values by month to all is {correlation}')\n"
   ]
  },
  {
   "cell_type": "markdown",
   "metadata": {},
   "source": [
    "Since the correlation coefficient is almost 1, the dependence is traced, therefore, it is impossible to delete rows with zero values, as well as replace them with average values "
   ]
  },
  {
   "cell_type": "markdown",
   "metadata": {},
   "source": [
    "<div style=\"font-size: 18px\">\n",
    "\n",
    "Zero size of Internet traffic\n"
   ]
  },
  {
   "cell_type": "code",
   "execution_count": 27,
   "metadata": {},
   "outputs": [
    {
     "data": {
      "text/plain": [
       "count    149396.00\n",
       "mean        370.19\n",
       "std         278.30\n",
       "min           0.00\n",
       "25%         138.19\n",
       "50%         348.02\n",
       "75%         559.55\n",
       "max        1724.83\n",
       "Name: mb_used, dtype: float64"
      ]
     },
     "execution_count": 27,
     "metadata": {},
     "output_type": "execute_result"
    }
   ],
   "source": [
    "round(df_internet['mb_used'].describe(),2)"
   ]
  },
  {
   "cell_type": "code",
   "execution_count": 28,
   "metadata": {},
   "outputs": [
    {
     "name": "stdout",
     "output_type": "stream",
     "text": [
      "The share of zero-size Internet traffic is 13.0 %\n"
     ]
    }
   ],
   "source": [
    "# The share of zero-size Internet traffic\n",
    "part = round(len(df_internet.query('mb_used == 0.0')) / len(df_internet['mb_used']),2)\n",
    "print(f'The share of zero-size Internet traffic is {part * 100} %')"
   ]
  },
  {
   "cell_type": "code",
   "execution_count": 29,
   "metadata": {},
   "outputs": [
    {
     "name": "stdout",
     "output_type": "stream",
     "text": [
      "The correlation coefficient of rows (Internet traffic) with zero values by month to all is 0.99953\n"
     ]
    }
   ],
   "source": [
    "df_internet_null = df_internet.query('mb_used == 0.0').groupby(by='month')['month'].count()\n",
    "df_internet_all = df_internet.groupby(by='month')['mb_used'].count()\n",
    "correlation = round(df_internet_null.corr(df_internet_all),5)\n",
    "print(f'The correlation coefficient of rows (Internet traffic) with zero values by month to all is {correlation}')"
   ]
  },
  {
   "cell_type": "markdown",
   "metadata": {},
   "source": [
    "Since the correlation coefficient is almost 1, the dependence is traced, therefore, it is impossible to delete rows with zero values, as well as replace them with average values  "
   ]
  },
  {
   "cell_type": "markdown",
   "metadata": {},
   "source": [
    "<div style=\"font-size: 20px\">\n",
    "\n",
    "**Rounding up the duration of calls and Internet traffic (in accordance with the terms of the Megaline tariff)**"
   ]
  },
  {
   "cell_type": "markdown",
   "metadata": {},
   "source": [
    "Since the billing of calls, as well as Internet traffic, involves rounding up (up to a minute and a megabyte, respectively), we will round these values, assuming that:\n",
    "\n",
    "1) zero calls - unanswered calls or calls with a duration of several seconds (rounded up to 1 min.)\n",
    "\n",
    "2) zero internet traffic - unused internet traffic or slightly used (rounded up to 1 MB)"
   ]
  },
  {
   "cell_type": "code",
   "execution_count": 30,
   "metadata": {},
   "outputs": [],
   "source": [
    "# Let's round up the calls\n",
    "df_calls['duration_adjusted'] = df_calls['duration'].apply(lambda x: 1 if x == 0 else np.ceil(x)).astype('int64')"
   ]
  },
  {
   "cell_type": "code",
   "execution_count": 31,
   "metadata": {},
   "outputs": [],
   "source": [
    "# Let's round up internet traffic\n",
    "df_internet['mb_used_adjusted'] = df_internet['mb_used'].apply(lambda x: 1 if x == 0.0 else np.ceil(x)).astype('int64')"
   ]
  },
  {
   "cell_type": "markdown",
   "metadata": {},
   "source": [
    "<div style=\"font-size: 20px\">\n",
    "\n",
    "**Formation of a dataframe for further calculations**"
   ]
  },
  {
   "cell_type": "code",
   "execution_count": 32,
   "metadata": {},
   "outputs": [
    {
     "data": {
      "text/html": [
       "<div>\n",
       "<style scoped>\n",
       "    .dataframe tbody tr th:only-of-type {\n",
       "        vertical-align: middle;\n",
       "    }\n",
       "\n",
       "    .dataframe tbody tr th {\n",
       "        vertical-align: top;\n",
       "    }\n",
       "\n",
       "    .dataframe thead th {\n",
       "        text-align: right;\n",
       "    }\n",
       "</style>\n",
       "<table border=\"1\" class=\"dataframe\">\n",
       "  <thead>\n",
       "    <tr style=\"text-align: right;\">\n",
       "      <th></th>\n",
       "      <th>month</th>\n",
       "      <th>key</th>\n",
       "    </tr>\n",
       "  </thead>\n",
       "  <tbody>\n",
       "    <tr>\n",
       "      <th>0</th>\n",
       "      <td>2018-01-01</td>\n",
       "      <td>1</td>\n",
       "    </tr>\n",
       "    <tr>\n",
       "      <th>1</th>\n",
       "      <td>2018-02-01</td>\n",
       "      <td>1</td>\n",
       "    </tr>\n",
       "    <tr>\n",
       "      <th>2</th>\n",
       "      <td>2018-03-01</td>\n",
       "      <td>1</td>\n",
       "    </tr>\n",
       "    <tr>\n",
       "      <th>3</th>\n",
       "      <td>2018-04-01</td>\n",
       "      <td>1</td>\n",
       "    </tr>\n",
       "    <tr>\n",
       "      <th>4</th>\n",
       "      <td>2018-05-01</td>\n",
       "      <td>1</td>\n",
       "    </tr>\n",
       "  </tbody>\n",
       "</table>\n",
       "</div>"
      ],
      "text/plain": [
       "       month  key\n",
       "0 2018-01-01    1\n",
       "1 2018-02-01    1\n",
       "2 2018-03-01    1\n",
       "3 2018-04-01    1\n",
       "4 2018-05-01    1"
      ]
     },
     "execution_count": 32,
     "metadata": {},
     "output_type": "execute_result"
    }
   ],
   "source": [
    "# let's define the range of the months spread\n",
    "min_month = df_users['reg_date'].min()\n",
    "max_month = df_users['reg_date'].max()\n",
    "\n",
    "# let's create a temporary table of the range of months for later merging\n",
    "temp_month = pd.DataFrame(pd.date_range(min_month,max_month,freq='MS'))\n",
    "temp_month.columns = ['month']\n",
    "temp_month['key'] = 1\n",
    "temp_month.head()"
   ]
  },
  {
   "cell_type": "code",
   "execution_count": 33,
   "metadata": {},
   "outputs": [
    {
     "data": {
      "text/html": [
       "<div>\n",
       "<style scoped>\n",
       "    .dataframe tbody tr th:only-of-type {\n",
       "        vertical-align: middle;\n",
       "    }\n",
       "\n",
       "    .dataframe tbody tr th {\n",
       "        vertical-align: top;\n",
       "    }\n",
       "\n",
       "    .dataframe thead th {\n",
       "        text-align: right;\n",
       "    }\n",
       "</style>\n",
       "<table border=\"1\" class=\"dataframe\">\n",
       "  <thead>\n",
       "    <tr style=\"text-align: right;\">\n",
       "      <th></th>\n",
       "      <th>user_id</th>\n",
       "      <th>city</th>\n",
       "      <th>tariff</th>\n",
       "      <th>region</th>\n",
       "      <th>key</th>\n",
       "    </tr>\n",
       "  </thead>\n",
       "  <tbody>\n",
       "    <tr>\n",
       "      <th>0</th>\n",
       "      <td>1000</td>\n",
       "      <td>Краснодар</td>\n",
       "      <td>ultra</td>\n",
       "      <td>не-Москва</td>\n",
       "      <td>1</td>\n",
       "    </tr>\n",
       "    <tr>\n",
       "      <th>1</th>\n",
       "      <td>1001</td>\n",
       "      <td>Москва</td>\n",
       "      <td>smart</td>\n",
       "      <td>Москва</td>\n",
       "      <td>1</td>\n",
       "    </tr>\n",
       "    <tr>\n",
       "      <th>2</th>\n",
       "      <td>1002</td>\n",
       "      <td>Стерлитамак</td>\n",
       "      <td>smart</td>\n",
       "      <td>не-Москва</td>\n",
       "      <td>1</td>\n",
       "    </tr>\n",
       "    <tr>\n",
       "      <th>3</th>\n",
       "      <td>1003</td>\n",
       "      <td>Москва</td>\n",
       "      <td>ultra</td>\n",
       "      <td>Москва</td>\n",
       "      <td>1</td>\n",
       "    </tr>\n",
       "    <tr>\n",
       "      <th>4</th>\n",
       "      <td>1004</td>\n",
       "      <td>Новокузнецк</td>\n",
       "      <td>ultra</td>\n",
       "      <td>не-Москва</td>\n",
       "      <td>1</td>\n",
       "    </tr>\n",
       "  </tbody>\n",
       "</table>\n",
       "</div>"
      ],
      "text/plain": [
       "   user_id         city tariff     region  key\n",
       "0     1000    Краснодар  ultra  не-Москва    1\n",
       "1     1001       Москва  smart     Москва    1\n",
       "2     1002  Стерлитамак  smart  не-Москва    1\n",
       "3     1003       Москва  ultra     Москва    1\n",
       "4     1004  Новокузнецк  ultra  не-Москва    1"
      ]
     },
     "execution_count": 33,
     "metadata": {},
     "output_type": "execute_result"
    }
   ],
   "source": [
    "# creating a temporary customer table for later merging\n",
    "temp_users = pd.DataFrame(df_users[['user_id', 'city', 'tariff']])\n",
    "# adding a region attribute\n",
    "temp_users['region'] = temp_users['city'].where(temp_users['city'] == 'Москва', 'не-Москва')\n",
    "temp_users['key'] = 1\n",
    "temp_users.head()"
   ]
  },
  {
   "cell_type": "code",
   "execution_count": 34,
   "metadata": {},
   "outputs": [
    {
     "data": {
      "text/html": [
       "<div>\n",
       "<style scoped>\n",
       "    .dataframe tbody tr th:only-of-type {\n",
       "        vertical-align: middle;\n",
       "    }\n",
       "\n",
       "    .dataframe tbody tr th {\n",
       "        vertical-align: top;\n",
       "    }\n",
       "\n",
       "    .dataframe thead th {\n",
       "        text-align: right;\n",
       "    }\n",
       "</style>\n",
       "<table border=\"1\" class=\"dataframe\">\n",
       "  <thead>\n",
       "    <tr style=\"text-align: right;\">\n",
       "      <th></th>\n",
       "      <th>user_id</th>\n",
       "      <th>city</th>\n",
       "      <th>tariff</th>\n",
       "      <th>region</th>\n",
       "      <th>month</th>\n",
       "    </tr>\n",
       "  </thead>\n",
       "  <tbody>\n",
       "    <tr>\n",
       "      <th>0</th>\n",
       "      <td>1000</td>\n",
       "      <td>Краснодар</td>\n",
       "      <td>ultra</td>\n",
       "      <td>не-Москва</td>\n",
       "      <td>2018-01-01</td>\n",
       "    </tr>\n",
       "    <tr>\n",
       "      <th>1</th>\n",
       "      <td>1000</td>\n",
       "      <td>Краснодар</td>\n",
       "      <td>ultra</td>\n",
       "      <td>не-Москва</td>\n",
       "      <td>2018-02-01</td>\n",
       "    </tr>\n",
       "    <tr>\n",
       "      <th>2</th>\n",
       "      <td>1000</td>\n",
       "      <td>Краснодар</td>\n",
       "      <td>ultra</td>\n",
       "      <td>не-Москва</td>\n",
       "      <td>2018-03-01</td>\n",
       "    </tr>\n",
       "    <tr>\n",
       "      <th>3</th>\n",
       "      <td>1000</td>\n",
       "      <td>Краснодар</td>\n",
       "      <td>ultra</td>\n",
       "      <td>не-Москва</td>\n",
       "      <td>2018-04-01</td>\n",
       "    </tr>\n",
       "    <tr>\n",
       "      <th>4</th>\n",
       "      <td>1000</td>\n",
       "      <td>Краснодар</td>\n",
       "      <td>ultra</td>\n",
       "      <td>не-Москва</td>\n",
       "      <td>2018-05-01</td>\n",
       "    </tr>\n",
       "  </tbody>\n",
       "</table>\n",
       "</div>"
      ],
      "text/plain": [
       "   user_id       city tariff     region      month\n",
       "0     1000  Краснодар  ultra  не-Москва 2018-01-01\n",
       "1     1000  Краснодар  ultra  не-Москва 2018-02-01\n",
       "2     1000  Краснодар  ultra  не-Москва 2018-03-01\n",
       "3     1000  Краснодар  ultra  не-Москва 2018-04-01\n",
       "4     1000  Краснодар  ultra  не-Москва 2018-05-01"
      ]
     },
     "execution_count": 34,
     "metadata": {},
     "output_type": "execute_result"
    }
   ],
   "source": [
    "# merging tables\n",
    "work_report = temp_users.merge(temp_month,on='key')\n",
    "# deleting of the temporary column\n",
    "work_report = work_report.drop(['key'], axis=1)\n",
    "work_report.head()"
   ]
  },
  {
   "cell_type": "code",
   "execution_count": 35,
   "metadata": {},
   "outputs": [
    {
     "data": {
      "text/html": [
       "<div>\n",
       "<style scoped>\n",
       "    .dataframe tbody tr th:only-of-type {\n",
       "        vertical-align: middle;\n",
       "    }\n",
       "\n",
       "    .dataframe tbody tr th {\n",
       "        vertical-align: top;\n",
       "    }\n",
       "\n",
       "    .dataframe thead th {\n",
       "        text-align: right;\n",
       "    }\n",
       "</style>\n",
       "<table border=\"1\" class=\"dataframe\">\n",
       "  <thead>\n",
       "    <tr style=\"text-align: right;\">\n",
       "      <th></th>\n",
       "      <th>user_id</th>\n",
       "      <th>month</th>\n",
       "      <th>calls_per_month</th>\n",
       "      <th>calls_month_duration_minutes</th>\n",
       "    </tr>\n",
       "  </thead>\n",
       "  <tbody>\n",
       "    <tr>\n",
       "      <th>0</th>\n",
       "      <td>1000</td>\n",
       "      <td>2018-05-01</td>\n",
       "      <td>22</td>\n",
       "      <td>164</td>\n",
       "    </tr>\n",
       "    <tr>\n",
       "      <th>1</th>\n",
       "      <td>1000</td>\n",
       "      <td>2018-06-01</td>\n",
       "      <td>43</td>\n",
       "      <td>187</td>\n",
       "    </tr>\n",
       "    <tr>\n",
       "      <th>2</th>\n",
       "      <td>1000</td>\n",
       "      <td>2018-07-01</td>\n",
       "      <td>47</td>\n",
       "      <td>346</td>\n",
       "    </tr>\n",
       "    <tr>\n",
       "      <th>3</th>\n",
       "      <td>1000</td>\n",
       "      <td>2018-08-01</td>\n",
       "      <td>52</td>\n",
       "      <td>418</td>\n",
       "    </tr>\n",
       "    <tr>\n",
       "      <th>4</th>\n",
       "      <td>1000</td>\n",
       "      <td>2018-09-01</td>\n",
       "      <td>58</td>\n",
       "      <td>478</td>\n",
       "    </tr>\n",
       "  </tbody>\n",
       "</table>\n",
       "</div>"
      ],
      "text/plain": [
       "   user_id      month  calls_per_month  calls_month_duration_minutes\n",
       "0     1000 2018-05-01               22                           164\n",
       "1     1000 2018-06-01               43                           187\n",
       "2     1000 2018-07-01               47                           346\n",
       "3     1000 2018-08-01               52                           418\n",
       "4     1000 2018-09-01               58                           478"
      ]
     },
     "execution_count": 35,
     "metadata": {},
     "output_type": "execute_result"
    }
   ],
   "source": [
    "# number of calls made and minutes of conversation spent by month\n",
    "calls_per_month = df_calls.groupby(['user_id','month'])['duration_adjusted'].agg(['count', 'sum']).reset_index()\n",
    "calls_per_month.columns = ['user_id','month', 'calls_per_month', 'calls_month_duration_minutes']\n",
    "calls_per_month.head()"
   ]
  },
  {
   "cell_type": "code",
   "execution_count": 36,
   "metadata": {},
   "outputs": [
    {
     "data": {
      "text/html": [
       "<div>\n",
       "<style scoped>\n",
       "    .dataframe tbody tr th:only-of-type {\n",
       "        vertical-align: middle;\n",
       "    }\n",
       "\n",
       "    .dataframe tbody tr th {\n",
       "        vertical-align: top;\n",
       "    }\n",
       "\n",
       "    .dataframe thead th {\n",
       "        text-align: right;\n",
       "    }\n",
       "</style>\n",
       "<table border=\"1\" class=\"dataframe\">\n",
       "  <thead>\n",
       "    <tr style=\"text-align: right;\">\n",
       "      <th></th>\n",
       "      <th>user_id</th>\n",
       "      <th>city</th>\n",
       "      <th>tariff</th>\n",
       "      <th>region</th>\n",
       "      <th>month</th>\n",
       "      <th>calls_per_month</th>\n",
       "      <th>calls_month_duration_minutes</th>\n",
       "    </tr>\n",
       "  </thead>\n",
       "  <tbody>\n",
       "    <tr>\n",
       "      <th>0</th>\n",
       "      <td>1000</td>\n",
       "      <td>Краснодар</td>\n",
       "      <td>ultra</td>\n",
       "      <td>не-Москва</td>\n",
       "      <td>2018-01-01</td>\n",
       "      <td>NaN</td>\n",
       "      <td>NaN</td>\n",
       "    </tr>\n",
       "    <tr>\n",
       "      <th>1</th>\n",
       "      <td>1000</td>\n",
       "      <td>Краснодар</td>\n",
       "      <td>ultra</td>\n",
       "      <td>не-Москва</td>\n",
       "      <td>2018-02-01</td>\n",
       "      <td>NaN</td>\n",
       "      <td>NaN</td>\n",
       "    </tr>\n",
       "    <tr>\n",
       "      <th>2</th>\n",
       "      <td>1000</td>\n",
       "      <td>Краснодар</td>\n",
       "      <td>ultra</td>\n",
       "      <td>не-Москва</td>\n",
       "      <td>2018-03-01</td>\n",
       "      <td>NaN</td>\n",
       "      <td>NaN</td>\n",
       "    </tr>\n",
       "    <tr>\n",
       "      <th>3</th>\n",
       "      <td>1000</td>\n",
       "      <td>Краснодар</td>\n",
       "      <td>ultra</td>\n",
       "      <td>не-Москва</td>\n",
       "      <td>2018-04-01</td>\n",
       "      <td>NaN</td>\n",
       "      <td>NaN</td>\n",
       "    </tr>\n",
       "    <tr>\n",
       "      <th>4</th>\n",
       "      <td>1000</td>\n",
       "      <td>Краснодар</td>\n",
       "      <td>ultra</td>\n",
       "      <td>не-Москва</td>\n",
       "      <td>2018-05-01</td>\n",
       "      <td>22.0</td>\n",
       "      <td>164.0</td>\n",
       "    </tr>\n",
       "  </tbody>\n",
       "</table>\n",
       "</div>"
      ],
      "text/plain": [
       "   user_id       city tariff     region      month  calls_per_month  \\\n",
       "0     1000  Краснодар  ultra  не-Москва 2018-01-01              NaN   \n",
       "1     1000  Краснодар  ultra  не-Москва 2018-02-01              NaN   \n",
       "2     1000  Краснодар  ultra  не-Москва 2018-03-01              NaN   \n",
       "3     1000  Краснодар  ultra  не-Москва 2018-04-01              NaN   \n",
       "4     1000  Краснодар  ultra  не-Москва 2018-05-01             22.0   \n",
       "\n",
       "   calls_month_duration_minutes  \n",
       "0                           NaN  \n",
       "1                           NaN  \n",
       "2                           NaN  \n",
       "3                           NaN  \n",
       "4                         164.0  "
      ]
     },
     "execution_count": 36,
     "metadata": {},
     "output_type": "execute_result"
    }
   ],
   "source": [
    "# merging tables \n",
    "work_report = work_report.merge(calls_per_month,how='left',on=['user_id','month'])\n",
    "work_report.head()"
   ]
  },
  {
   "cell_type": "code",
   "execution_count": 37,
   "metadata": {},
   "outputs": [],
   "source": [
    "# calculation of the number of messages sent (by month)\n",
    "messages_per_month = df_messages.groupby(['user_id','month'])['id'].count().reset_index()\n",
    "messages_per_month.columns = ['user_id','month', 'messages_per_month']"
   ]
  },
  {
   "cell_type": "code",
   "execution_count": 38,
   "metadata": {},
   "outputs": [],
   "source": [
    "# merging tables\n",
    "work_report = work_report.merge(messages_per_month,how='left',on=['user_id','month'])"
   ]
  },
  {
   "cell_type": "code",
   "execution_count": 39,
   "metadata": {},
   "outputs": [],
   "source": [
    "# the amount of internet traffic consumed by month\n",
    "internet_per_month = df_internet.groupby(['user_id','month'])['mb_used_adjusted'].sum().reset_index()\n",
    "internet_per_month.columns = ['user_id','month', 'internet_per_month_mb']"
   ]
  },
  {
   "cell_type": "code",
   "execution_count": 40,
   "metadata": {},
   "outputs": [],
   "source": [
    "# merging tables\n",
    "work_report = work_report.merge(internet_per_month,how='left',on=['user_id','month'])"
   ]
  },
  {
   "cell_type": "code",
   "execution_count": 56,
   "metadata": {
    "scrolled": true
   },
   "outputs": [
    {
     "data": {
      "text/html": [
       "<div>\n",
       "<style scoped>\n",
       "    .dataframe tbody tr th:only-of-type {\n",
       "        vertical-align: middle;\n",
       "    }\n",
       "\n",
       "    .dataframe tbody tr th {\n",
       "        vertical-align: top;\n",
       "    }\n",
       "\n",
       "    .dataframe thead th {\n",
       "        text-align: right;\n",
       "    }\n",
       "</style>\n",
       "<table border=\"1\" class=\"dataframe\">\n",
       "  <thead>\n",
       "    <tr style=\"text-align: right;\">\n",
       "      <th></th>\n",
       "      <th>user_id</th>\n",
       "      <th>city</th>\n",
       "      <th>tariff</th>\n",
       "      <th>region</th>\n",
       "      <th>month</th>\n",
       "      <th>calls_per_month</th>\n",
       "      <th>calls_month_duration_minutes</th>\n",
       "      <th>messages_per_month</th>\n",
       "      <th>internet_per_month_mb</th>\n",
       "    </tr>\n",
       "  </thead>\n",
       "  <tbody>\n",
       "    <tr>\n",
       "      <th>4</th>\n",
       "      <td>1000</td>\n",
       "      <td>Краснодар</td>\n",
       "      <td>ultra</td>\n",
       "      <td>не-Москва</td>\n",
       "      <td>2018-05-01</td>\n",
       "      <td>22.0</td>\n",
       "      <td>164.0</td>\n",
       "      <td>22.0</td>\n",
       "      <td>2257.0</td>\n",
       "    </tr>\n",
       "    <tr>\n",
       "      <th>5</th>\n",
       "      <td>1000</td>\n",
       "      <td>Краснодар</td>\n",
       "      <td>ultra</td>\n",
       "      <td>не-Москва</td>\n",
       "      <td>2018-06-01</td>\n",
       "      <td>43.0</td>\n",
       "      <td>187.0</td>\n",
       "      <td>60.0</td>\n",
       "      <td>23262.0</td>\n",
       "    </tr>\n",
       "    <tr>\n",
       "      <th>6</th>\n",
       "      <td>1000</td>\n",
       "      <td>Краснодар</td>\n",
       "      <td>ultra</td>\n",
       "      <td>не-Москва</td>\n",
       "      <td>2018-07-01</td>\n",
       "      <td>47.0</td>\n",
       "      <td>346.0</td>\n",
       "      <td>75.0</td>\n",
       "      <td>14017.0</td>\n",
       "    </tr>\n",
       "    <tr>\n",
       "      <th>7</th>\n",
       "      <td>1000</td>\n",
       "      <td>Краснодар</td>\n",
       "      <td>ultra</td>\n",
       "      <td>не-Москва</td>\n",
       "      <td>2018-08-01</td>\n",
       "      <td>52.0</td>\n",
       "      <td>418.0</td>\n",
       "      <td>81.0</td>\n",
       "      <td>14072.0</td>\n",
       "    </tr>\n",
       "    <tr>\n",
       "      <th>8</th>\n",
       "      <td>1000</td>\n",
       "      <td>Краснодар</td>\n",
       "      <td>ultra</td>\n",
       "      <td>не-Москва</td>\n",
       "      <td>2018-09-01</td>\n",
       "      <td>58.0</td>\n",
       "      <td>478.0</td>\n",
       "      <td>57.0</td>\n",
       "      <td>14583.0</td>\n",
       "    </tr>\n",
       "  </tbody>\n",
       "</table>\n",
       "</div>"
      ],
      "text/plain": [
       "   user_id       city tariff     region      month  calls_per_month  \\\n",
       "4     1000  Краснодар  ultra  не-Москва 2018-05-01             22.0   \n",
       "5     1000  Краснодар  ultra  не-Москва 2018-06-01             43.0   \n",
       "6     1000  Краснодар  ultra  не-Москва 2018-07-01             47.0   \n",
       "7     1000  Краснодар  ultra  не-Москва 2018-08-01             52.0   \n",
       "8     1000  Краснодар  ultra  не-Москва 2018-09-01             58.0   \n",
       "\n",
       "   calls_month_duration_minutes  messages_per_month  internet_per_month_mb  \n",
       "4                         164.0                22.0                 2257.0  \n",
       "5                         187.0                60.0                23262.0  \n",
       "6                         346.0                75.0                14017.0  \n",
       "7                         418.0                81.0                14072.0  \n",
       "8                         478.0                57.0                14583.0  "
      ]
     },
     "execution_count": 56,
     "metadata": {},
     "output_type": "execute_result"
    }
   ],
   "source": [
    "# deleting zero rows for months when customers were not subscribers\n",
    "work_report = work_report.loc[(work_report['calls_month_duration_minutes'].notna() == True) | (work_report['messages_per_month'].notna() == True) | (work_report['internet_per_month_mb'].notna() == True)]\n",
    "work_report.head()"
   ]
  },
  {
   "cell_type": "markdown",
   "metadata": {},
   "source": [
    "<div style=\"font-size: 20px\">\n",
    "\n",
    "**Calculation of monthly revenue from each user**"
   ]
  },
  {
   "cell_type": "markdown",
   "metadata": {},
   "source": [
    "**Smart tariff**\n",
    "\n",
    "Monthly fee: 550 rubles Includes 500 minutes of conversation, 50 messages and 15 GB of Internet traffic The cost of services in excess of the tariff package: 1. Minute of conversation: 3 rubles (Megaline always rounds up the values of minutes and megabytes. If the user spoke for only 1 second, the whole minute is counted in the tariff); 2. message: 3 rubles; 3. 1 GB of Internet traffic: 200 rubles.\n",
    "\n",
    "**The \"Ultra\" tariff**\n",
    "\n",
    "Monthly fee: 1950 rubles Includes 3000 minutes of conversation, 1000 messages and 30 GB of Internet traffic The cost of services over the tariff package: 1. minute of conversation: 1 ruble; 2. Message: 1 ruble; 3. 1 GB of Internet traffic: 150 rubles."
   ]
  },
  {
   "cell_type": "markdown",
   "metadata": {},
   "source": [
    "To calculate the monthly revenue, it is necessary:\n",
    "\n",
    "1) deduct from the number of calls, messages and Internet traffic of each user the free limit provided by the tariff\n",
    "\n",
    "2) the resulting balance should be multiplied by the corresponding tariff indicator\n",
    "\n",
    "3) add a monthly fee for the corresponding tariff"
   ]
  },
  {
   "cell_type": "code",
   "execution_count": 57,
   "metadata": {},
   "outputs": [],
   "source": [
    "# Let's create a function for calculating monthly revenue from calls\n",
    "def revenue_internet(tariff, internet_per_month_mb):\n",
    "    \n",
    "    # the amount of Internet traffic to be paid (1 GB = 1024 MB)\n",
    "    gb_to_pay = max(0,\n",
    "                    np.ceil((internet_per_month_mb - \n",
    "                     df_tariffs.loc[df_tariffs['tariff_name'] == tariff, 'mb_per_month_included'].values[0]) / 1024)\n",
    "                   )\n",
    "    \n",
    "    # tariff for internet traffic\n",
    "    rub_per_gb = df_tariffs.loc[df_tariffs['tariff_name'] == tariff, 'rub_per_gb'].values[0]  \n",
    "    \n",
    "    return gb_to_pay * rub_per_gb  \n",
    "\n",
    "\n",
    "# calculation of monthly revenue from messages\n",
    "work_report['revenue_internet'] = work_report.apply(lambda x: revenue_internet(x.tariff,\n",
    "                                                                                 x.internet_per_month_mb),\n",
    "                                                axis=1)\n"
   ]
  },
  {
   "cell_type": "code",
   "execution_count": 58,
   "metadata": {},
   "outputs": [],
   "source": [
    "# creating a function for calculating monthly revenue from calls\n",
    "def revenue_calls(tariff, calls_month_duration_minutes):\n",
    "    \n",
    "    # minutes of calls to be paid\n",
    "    minutes_to_pay = max(0,\n",
    "                         (calls_month_duration_minutes - \n",
    "                          df_tariffs.loc[df_tariffs['tariff_name'] == tariff, 'minutes_included'].values[0])\n",
    "                        )\n",
    "    \n",
    "    # tariff for calls\n",
    "    rub_per_minute = df_tariffs.loc[df_tariffs['tariff_name'] == tariff, 'rub_per_minute'].values[0]      \n",
    "    \n",
    "    return minutes_to_pay * rub_per_minute  \n",
    "\n",
    "\n",
    "# calculation of monthly revenue from calls\n",
    "work_report['revenue_calls'] = work_report.apply(lambda x: revenue_calls(x.tariff,\n",
    "                                                        x.calls_month_duration_minutes), \n",
    "                                 axis=1)"
   ]
  },
  {
   "cell_type": "code",
   "execution_count": 59,
   "metadata": {},
   "outputs": [],
   "source": [
    "# creating a function for calculating monthly revenue from messages\n",
    "def revenue_messages(tariff, messages_per_month):\n",
    "    \n",
    "    # number of messages to be paid\n",
    "    messages_to_pay = max(0,\n",
    "                          (messages_per_month - \n",
    "                           df_tariffs.loc[df_tariffs['tariff_name'] == tariff, 'messages_included'].values[0])\n",
    "                         )\n",
    "    \n",
    "    # tariff for messages\n",
    "    rub_per_message = df_tariffs.loc[df_tariffs['tariff_name'] == tariff, 'rub_per_message'].values[0]    \n",
    "    \n",
    "    return messages_to_pay * rub_per_message  \n",
    "\n",
    "\n",
    "# calculation of monthly revenue from messages\n",
    "work_report['revenue_messages'] = work_report.apply(lambda x: revenue_messages(x.tariff,\n",
    "                                                                     x.messages_per_month),\n",
    "                                          axis=1)"
   ]
  },
  {
   "cell_type": "code",
   "execution_count": 60,
   "metadata": {},
   "outputs": [],
   "source": [
    "# creating a function for calculating monthly revenue from the subscription fee\n",
    "def revenue_month_fee(tariff, \n",
    "                 calls_month_duration_minutes,\n",
    "                 messages_per_month,\n",
    "                 internet_per_month_mb):\n",
    "\n",
    "    if pd.notna(calls_month_duration_minutes) or pd.notna(messages_per_month) or pd.notna(internet_per_month_mb):\n",
    "        rub_monthly_fee = df_tariffs.loc[df_tariffs['tariff_name'] == tariff, 'rub_monthly_fee'].values[0]\n",
    "    else:\n",
    "        rub_monthly_fee = 0\n",
    "    \n",
    "    return rub_monthly_fee * 1.0  \n",
    "\n",
    "\n",
    "# calculation of monthly revenue from the subscription fee\n",
    "work_report['revenue_month_fee'] = work_report.apply(lambda x: revenue_month_fee(x.tariff,\n",
    "                                                        x.calls_month_duration_minutes,\n",
    "                                                        x.messages_per_month, \n",
    "                                                        x.internet_per_month_mb), \n",
    "                                 axis=1)"
   ]
  },
  {
   "cell_type": "code",
   "execution_count": 61,
   "metadata": {},
   "outputs": [],
   "source": [
    "# calculation of monthly revenue\n",
    "work_report['revenue'] = (work_report['revenue_calls']+\n",
    "                     work_report['revenue_messages']+\n",
    "                     work_report['revenue_internet']+\n",
    "                     work_report['revenue_month_fee']) * 1.0"
   ]
  },
  {
   "cell_type": "code",
   "execution_count": 62,
   "metadata": {
    "scrolled": true
   },
   "outputs": [
    {
     "data": {
      "text/html": [
       "<div>\n",
       "<style scoped>\n",
       "    .dataframe tbody tr th:only-of-type {\n",
       "        vertical-align: middle;\n",
       "    }\n",
       "\n",
       "    .dataframe tbody tr th {\n",
       "        vertical-align: top;\n",
       "    }\n",
       "\n",
       "    .dataframe thead th {\n",
       "        text-align: right;\n",
       "    }\n",
       "</style>\n",
       "<table border=\"1\" class=\"dataframe\">\n",
       "  <thead>\n",
       "    <tr style=\"text-align: right;\">\n",
       "      <th></th>\n",
       "      <th>user_id</th>\n",
       "      <th>city</th>\n",
       "      <th>tariff</th>\n",
       "      <th>region</th>\n",
       "      <th>month</th>\n",
       "      <th>calls_per_month</th>\n",
       "      <th>calls_month_duration_minutes</th>\n",
       "      <th>messages_per_month</th>\n",
       "      <th>internet_per_month_mb</th>\n",
       "      <th>revenue_internet</th>\n",
       "      <th>revenue_calls</th>\n",
       "      <th>revenue_messages</th>\n",
       "      <th>revenue_month_fee</th>\n",
       "      <th>revenue</th>\n",
       "    </tr>\n",
       "  </thead>\n",
       "  <tbody>\n",
       "    <tr>\n",
       "      <th>4</th>\n",
       "      <td>1000</td>\n",
       "      <td>Краснодар</td>\n",
       "      <td>ultra</td>\n",
       "      <td>не-Москва</td>\n",
       "      <td>2018-05-01</td>\n",
       "      <td>22.0</td>\n",
       "      <td>164.0</td>\n",
       "      <td>22.0</td>\n",
       "      <td>2257.0</td>\n",
       "      <td>0.0</td>\n",
       "      <td>0.0</td>\n",
       "      <td>0.0</td>\n",
       "      <td>1950.0</td>\n",
       "      <td>1950.0</td>\n",
       "    </tr>\n",
       "    <tr>\n",
       "      <th>5</th>\n",
       "      <td>1000</td>\n",
       "      <td>Краснодар</td>\n",
       "      <td>ultra</td>\n",
       "      <td>не-Москва</td>\n",
       "      <td>2018-06-01</td>\n",
       "      <td>43.0</td>\n",
       "      <td>187.0</td>\n",
       "      <td>60.0</td>\n",
       "      <td>23262.0</td>\n",
       "      <td>0.0</td>\n",
       "      <td>0.0</td>\n",
       "      <td>0.0</td>\n",
       "      <td>1950.0</td>\n",
       "      <td>1950.0</td>\n",
       "    </tr>\n",
       "    <tr>\n",
       "      <th>6</th>\n",
       "      <td>1000</td>\n",
       "      <td>Краснодар</td>\n",
       "      <td>ultra</td>\n",
       "      <td>не-Москва</td>\n",
       "      <td>2018-07-01</td>\n",
       "      <td>47.0</td>\n",
       "      <td>346.0</td>\n",
       "      <td>75.0</td>\n",
       "      <td>14017.0</td>\n",
       "      <td>0.0</td>\n",
       "      <td>0.0</td>\n",
       "      <td>0.0</td>\n",
       "      <td>1950.0</td>\n",
       "      <td>1950.0</td>\n",
       "    </tr>\n",
       "    <tr>\n",
       "      <th>7</th>\n",
       "      <td>1000</td>\n",
       "      <td>Краснодар</td>\n",
       "      <td>ultra</td>\n",
       "      <td>не-Москва</td>\n",
       "      <td>2018-08-01</td>\n",
       "      <td>52.0</td>\n",
       "      <td>418.0</td>\n",
       "      <td>81.0</td>\n",
       "      <td>14072.0</td>\n",
       "      <td>0.0</td>\n",
       "      <td>0.0</td>\n",
       "      <td>0.0</td>\n",
       "      <td>1950.0</td>\n",
       "      <td>1950.0</td>\n",
       "    </tr>\n",
       "    <tr>\n",
       "      <th>8</th>\n",
       "      <td>1000</td>\n",
       "      <td>Краснодар</td>\n",
       "      <td>ultra</td>\n",
       "      <td>не-Москва</td>\n",
       "      <td>2018-09-01</td>\n",
       "      <td>58.0</td>\n",
       "      <td>478.0</td>\n",
       "      <td>57.0</td>\n",
       "      <td>14583.0</td>\n",
       "      <td>0.0</td>\n",
       "      <td>0.0</td>\n",
       "      <td>0.0</td>\n",
       "      <td>1950.0</td>\n",
       "      <td>1950.0</td>\n",
       "    </tr>\n",
       "    <tr>\n",
       "      <th>9</th>\n",
       "      <td>1000</td>\n",
       "      <td>Краснодар</td>\n",
       "      <td>ultra</td>\n",
       "      <td>не-Москва</td>\n",
       "      <td>2018-10-01</td>\n",
       "      <td>57.0</td>\n",
       "      <td>363.0</td>\n",
       "      <td>73.0</td>\n",
       "      <td>14717.0</td>\n",
       "      <td>0.0</td>\n",
       "      <td>0.0</td>\n",
       "      <td>0.0</td>\n",
       "      <td>1950.0</td>\n",
       "      <td>1950.0</td>\n",
       "    </tr>\n",
       "    <tr>\n",
       "      <th>10</th>\n",
       "      <td>1000</td>\n",
       "      <td>Краснодар</td>\n",
       "      <td>ultra</td>\n",
       "      <td>не-Москва</td>\n",
       "      <td>2018-11-01</td>\n",
       "      <td>43.0</td>\n",
       "      <td>344.0</td>\n",
       "      <td>58.0</td>\n",
       "      <td>14769.0</td>\n",
       "      <td>0.0</td>\n",
       "      <td>0.0</td>\n",
       "      <td>0.0</td>\n",
       "      <td>1950.0</td>\n",
       "      <td>1950.0</td>\n",
       "    </tr>\n",
       "    <tr>\n",
       "      <th>11</th>\n",
       "      <td>1000</td>\n",
       "      <td>Краснодар</td>\n",
       "      <td>ultra</td>\n",
       "      <td>не-Москва</td>\n",
       "      <td>2018-12-01</td>\n",
       "      <td>46.0</td>\n",
       "      <td>341.0</td>\n",
       "      <td>70.0</td>\n",
       "      <td>9829.0</td>\n",
       "      <td>0.0</td>\n",
       "      <td>0.0</td>\n",
       "      <td>0.0</td>\n",
       "      <td>1950.0</td>\n",
       "      <td>1950.0</td>\n",
       "    </tr>\n",
       "    <tr>\n",
       "      <th>22</th>\n",
       "      <td>1001</td>\n",
       "      <td>Москва</td>\n",
       "      <td>smart</td>\n",
       "      <td>Москва</td>\n",
       "      <td>2018-11-01</td>\n",
       "      <td>59.0</td>\n",
       "      <td>444.0</td>\n",
       "      <td>NaN</td>\n",
       "      <td>18460.0</td>\n",
       "      <td>800.0</td>\n",
       "      <td>0.0</td>\n",
       "      <td>0.0</td>\n",
       "      <td>550.0</td>\n",
       "      <td>1350.0</td>\n",
       "    </tr>\n",
       "    <tr>\n",
       "      <th>23</th>\n",
       "      <td>1001</td>\n",
       "      <td>Москва</td>\n",
       "      <td>smart</td>\n",
       "      <td>Москва</td>\n",
       "      <td>2018-12-01</td>\n",
       "      <td>63.0</td>\n",
       "      <td>430.0</td>\n",
       "      <td>NaN</td>\n",
       "      <td>14059.0</td>\n",
       "      <td>0.0</td>\n",
       "      <td>0.0</td>\n",
       "      <td>0.0</td>\n",
       "      <td>550.0</td>\n",
       "      <td>550.0</td>\n",
       "    </tr>\n",
       "  </tbody>\n",
       "</table>\n",
       "</div>"
      ],
      "text/plain": [
       "    user_id       city tariff     region      month  calls_per_month  \\\n",
       "4      1000  Краснодар  ultra  не-Москва 2018-05-01             22.0   \n",
       "5      1000  Краснодар  ultra  не-Москва 2018-06-01             43.0   \n",
       "6      1000  Краснодар  ultra  не-Москва 2018-07-01             47.0   \n",
       "7      1000  Краснодар  ultra  не-Москва 2018-08-01             52.0   \n",
       "8      1000  Краснодар  ultra  не-Москва 2018-09-01             58.0   \n",
       "9      1000  Краснодар  ultra  не-Москва 2018-10-01             57.0   \n",
       "10     1000  Краснодар  ultra  не-Москва 2018-11-01             43.0   \n",
       "11     1000  Краснодар  ultra  не-Москва 2018-12-01             46.0   \n",
       "22     1001     Москва  smart     Москва 2018-11-01             59.0   \n",
       "23     1001     Москва  smart     Москва 2018-12-01             63.0   \n",
       "\n",
       "    calls_month_duration_minutes  messages_per_month  internet_per_month_mb  \\\n",
       "4                          164.0                22.0                 2257.0   \n",
       "5                          187.0                60.0                23262.0   \n",
       "6                          346.0                75.0                14017.0   \n",
       "7                          418.0                81.0                14072.0   \n",
       "8                          478.0                57.0                14583.0   \n",
       "9                          363.0                73.0                14717.0   \n",
       "10                         344.0                58.0                14769.0   \n",
       "11                         341.0                70.0                 9829.0   \n",
       "22                         444.0                 NaN                18460.0   \n",
       "23                         430.0                 NaN                14059.0   \n",
       "\n",
       "    revenue_internet  revenue_calls  revenue_messages  revenue_month_fee  \\\n",
       "4                0.0            0.0               0.0             1950.0   \n",
       "5                0.0            0.0               0.0             1950.0   \n",
       "6                0.0            0.0               0.0             1950.0   \n",
       "7                0.0            0.0               0.0             1950.0   \n",
       "8                0.0            0.0               0.0             1950.0   \n",
       "9                0.0            0.0               0.0             1950.0   \n",
       "10               0.0            0.0               0.0             1950.0   \n",
       "11               0.0            0.0               0.0             1950.0   \n",
       "22             800.0            0.0               0.0              550.0   \n",
       "23               0.0            0.0               0.0              550.0   \n",
       "\n",
       "    revenue  \n",
       "4    1950.0  \n",
       "5    1950.0  \n",
       "6    1950.0  \n",
       "7    1950.0  \n",
       "8    1950.0  \n",
       "9    1950.0  \n",
       "10   1950.0  \n",
       "11   1950.0  \n",
       "22   1350.0  \n",
       "23    550.0  "
      ]
     },
     "execution_count": 62,
     "metadata": {},
     "output_type": "execute_result"
    }
   ],
   "source": [
    "work_report.head(10)"
   ]
  },
  {
   "cell_type": "markdown",
   "metadata": {},
   "source": [
    "# 3. Data analysis"
   ]
  },
  {
   "cell_type": "code",
   "execution_count": 63,
   "metadata": {},
   "outputs": [],
   "source": [
    "# distribution of customers by tariffs\n",
    "users_number = df_users.groupby(by='tariff')['tariff'].count()"
   ]
  },
  {
   "cell_type": "code",
   "execution_count": 64,
   "metadata": {},
   "outputs": [
    {
     "data": {
      "image/png": "[encoded data removed]",
      "text/plain": [
       "<Figure size 1152x648 with 1 Axes>"
      ]
     },
     "metadata": {},
     "output_type": "display_data"
    }
   ],
   "source": [
    "# graph of the distribution of customers by tariffs\n",
    "fig1, ax1 = plt.subplots()\n",
    "patches, texts, autotexts = ax1.pie(users_number, autopct='%1.0f%%', startangle=90)\n",
    "for autotext in autotexts:\n",
    "    autotext.set_color('white')\n",
    "plt.tight_layout()\n",
    "plt.title('Distribution of customers by tariffs')\n",
    "plt.legend(users_number.index, loc='upper right')\n",
    "plt.show()"
   ]
  },
  {
   "cell_type": "code",
   "execution_count": 65,
   "metadata": {},
   "outputs": [],
   "source": [
    "# parameters for analyzing the behavior of the operator's clients\n",
    "parameters = [['calls_per_month', 'Number of outgoing calls per month', 'Calls, number'],\n",
    "              ['calls_month_duration_minutes','Duration of outgoing calls per month', 'Duration, minutes.'],\n",
    "              ['messages_per_month', 'Number of messages sent per month', 'Messages, number'],\n",
    "              ['internet_per_month_mb','The volume of Internet traffic per month', 'Volume, Gigabyte']\n",
    "             ]\n",
    "\n",
    "# the procedure for analyzing tariffs\n",
    "tariffs_order = ['smart','ultra']"
   ]
  },
  {
   "cell_type": "code",
   "execution_count": 66,
   "metadata": {
    "scrolled": false
   },
   "outputs": [
    {
     "name": "stdout",
     "output_type": "stream",
     "text": [
      "Parameter: Number of outgoing calls per month\n"
     ]
    },
    {
     "data": {
      "image/png": "[encoded data removed]",
      "text/plain": [
       "<Figure size 1152x648 with 1 Axes>"
      ]
     },
     "metadata": {
      "needs_background": "light"
     },
     "output_type": "display_data"
    },
    {
     "name": "stdout",
     "output_type": "stream",
     "text": [
      "\n"
     ]
    },
    {
     "data": {
      "image/png": "[encoded data removed]",
      "text/plain": [
       "<Figure size 1152x648 with 1 Axes>"
      ]
     },
     "metadata": {
      "needs_background": "light"
     },
     "output_type": "display_data"
    },
    {
     "name": "stdout",
     "output_type": "stream",
     "text": [
      "\n",
      "Tariff: \"smart\"\n",
      "Parameter: Number of outgoing calls per month\n",
      "\n",
      "Average: 58.6\n",
      "Variance: 665.1\n",
      "Standard deviation: 25.8\n",
      "\n",
      "count    2223.000000\n",
      "mean       58.621233\n",
      "std        25.796101\n",
      "min         1.000000\n",
      "25%        40.000000\n",
      "50%        60.000000\n",
      "75%        76.000000\n",
      "max       198.000000\n",
      "Name: calls_per_month, dtype: float64\n",
      "\n",
      "\n",
      "Tariff: \"ultra\"\n",
      "Parameter: Number of outgoing calls per month\n",
      "\n",
      "Average: 76.0\n",
      "Variance: 1796.2\n",
      "Standard deviation: 42.4\n",
      "\n",
      "count    951.000000\n",
      "mean      76.016824\n",
      "std       42.403348\n",
      "min        1.000000\n",
      "25%       43.000000\n",
      "50%       75.000000\n",
      "75%      105.000000\n",
      "max      244.000000\n",
      "Name: calls_per_month, dtype: float64\n",
      "\n",
      "\n",
      "--------------------\n",
      "\n",
      "\n",
      "Parameter: Duration of outgoing calls per month\n"
     ]
    },
    {
     "data": {
      "image/png": "[encoded data removed]",
      "text/plain": [
       "<Figure size 1152x648 with 1 Axes>"
      ]
     },
     "metadata": {
      "needs_background": "light"
     },
     "output_type": "display_data"
    },
    {
     "name": "stdout",
     "output_type": "stream",
     "text": [
      "\n"
     ]
    },
    {
     "data": {
      "image/png": "[encoded data removed]",
      "text/plain": [
       "<Figure size 1152x648 with 1 Axes>"
      ]
     },
     "metadata": {
      "needs_background": "light"
     },
     "output_type": "display_data"
    },
    {
     "name": "stdout",
     "output_type": "stream",
     "text": [
      "\n",
      "Tariff: \"smart\"\n",
      "Parameter: Duration of outgoing calls per month\n",
      "\n",
      "Average: 430.6\n",
      "Variance: 37561.1\n",
      "Standard deviation: 193.8\n",
      "\n",
      "count    2223.000000\n",
      "mean      430.609987\n",
      "std       193.850373\n",
      "min         1.000000\n",
      "25%       292.000000\n",
      "50%       435.000000\n",
      "75%       561.000000\n",
      "max      1471.000000\n",
      "Name: calls_month_duration_minutes, dtype: float64\n",
      "\n",
      "\n",
      "Tariff: \"ultra\"\n",
      "Parameter: Duration of outgoing calls per month\n",
      "\n",
      "Average: 560.1\n",
      "Variance: 98958.5\n",
      "Standard deviation: 314.6\n",
      "\n",
      "count     951.000000\n",
      "mean      560.113565\n",
      "std       314.742170\n",
      "min         1.000000\n",
      "25%       318.000000\n",
      "50%       544.000000\n",
      "75%       776.500000\n",
      "max      1727.000000\n",
      "Name: calls_month_duration_minutes, dtype: float64\n",
      "\n",
      "\n",
      "--------------------\n",
      "\n",
      "\n",
      "Parameter: Number of messages sent per month\n"
     ]
    },
    {
     "data": {
      "image/png": "[encoded data removed]",
      "text/plain": [
       "<Figure size 1152x648 with 1 Axes>"
      ]
     },
     "metadata": {
      "needs_background": "light"
     },
     "output_type": "display_data"
    },
    {
     "name": "stdout",
     "output_type": "stream",
     "text": [
      "\n"
     ]
    },
    {
     "data": {
      "image/png": "[encoded data removed]",
      "text/plain": [
       "<Figure size 1152x648 with 1 Axes>"
      ]
     },
     "metadata": {
      "needs_background": "light"
     },
     "output_type": "display_data"
    },
    {
     "name": "stdout",
     "output_type": "stream",
     "text": [
      "\n",
      "Tariff: \"smart\"\n",
      "Parameter: Number of messages sent per month\n",
      "\n",
      "Average: 38.7\n",
      "Variance: 717.2\n",
      "Standard deviation: 26.8\n",
      "\n",
      "count    1922.000000\n",
      "mean       38.716441\n",
      "std        26.787949\n",
      "min         1.000000\n",
      "25%        17.000000\n",
      "50%        34.000000\n",
      "75%        55.000000\n",
      "max       143.000000\n",
      "Name: messages_per_month, dtype: float64\n",
      "\n",
      "\n",
      "Tariff: \"ultra\"\n",
      "Parameter: Number of messages sent per month\n",
      "\n",
      "Average: 61.2\n",
      "Variance: 2107.0\n",
      "Standard deviation: 45.9\n",
      "\n",
      "count    795.000000\n",
      "mean      61.161006\n",
      "std       45.931026\n",
      "min        1.000000\n",
      "25%       24.000000\n",
      "50%       51.000000\n",
      "75%       87.500000\n",
      "max      224.000000\n",
      "Name: messages_per_month, dtype: float64\n",
      "\n",
      "\n",
      "--------------------\n",
      "\n",
      "\n",
      "Parameter: The volume of Internet traffic per month\n"
     ]
    },
    {
     "data": {
      "image/png": "[encoded data removed]",
      "text/plain": [
       "<Figure size 1152x648 with 1 Axes>"
      ]
     },
     "metadata": {
      "needs_background": "light"
     },
     "output_type": "display_data"
    },
    {
     "name": "stdout",
     "output_type": "stream",
     "text": [
      "\n"
     ]
    },
    {
     "data": {
      "image/png": "[encoded data removed]",
      "text/plain": [
       "<Figure size 1152x648 with 1 Axes>"
      ]
     },
     "metadata": {
      "needs_background": "light"
     },
     "output_type": "display_data"
    },
    {
     "name": "stdout",
     "output_type": "stream",
     "text": [
      "\n",
      "Tariff: \"smart\"\n",
      "Parameter: The volume of Internet traffic per month\n",
      "\n",
      "Average: 16244.5\n",
      "Variance: 34453604.9\n",
      "Standard deviation: 5869.7\n",
      "\n",
      "count     2228.000000\n",
      "mean     16244.472172\n",
      "std       5871.037024\n",
      "min          1.000000\n",
      "25%      12673.250000\n",
      "50%      16541.500000\n",
      "75%      20078.750000\n",
      "max      38627.000000\n",
      "Name: internet_per_month_mb, dtype: float64\n",
      "\n",
      "\n",
      "Tariff: \"ultra\"\n",
      "Parameter: The volume of Internet traffic per month\n",
      "\n",
      "Average: 19688.6\n",
      "Variance: 98957235.8\n",
      "Standard deviation: 9947.7\n",
      "\n",
      "count      975.000000\n",
      "mean     19688.587692\n",
      "std       9952.830482\n",
      "min          1.000000\n",
      "25%      12022.000000\n",
      "50%      19416.000000\n",
      "75%      26921.500000\n",
      "max      49793.000000\n",
      "Name: internet_per_month_mb, dtype: float64\n",
      "\n",
      "\n",
      "--------------------\n",
      "\n",
      "\n"
     ]
    }
   ],
   "source": [
    "# analysis of the behavior of the operator's clients\n",
    "for parameter in parameters:\n",
    "    print('Parameter: {}'.format(parameter[1]))\n",
    "\n",
    "    # boxplot drawing\n",
    "    sns.boxplot(x=\"tariff\", \n",
    "                y=parameter[0],\n",
    "                data=work_report,\n",
    "                order = tariffs_order\n",
    "               )\n",
    "    plt.title(parameter[1])\n",
    "    plt.xlabel('Tariff')\n",
    "    plt.ylabel(parameter[2])\n",
    "    plt.tight_layout()\n",
    "    plt.show()\n",
    "    print()\n",
    "    \n",
    "\n",
    "    # histogram drawing\n",
    "    bins = 50\n",
    "    plt.hist(\n",
    "        work_report.query('tariff == \"smart\"')[parameter[0]],\n",
    "        bins,\n",
    "        alpha=0.8,\n",
    "        label=('smart'),\n",
    "            )\n",
    "    plt.hist(\n",
    "        work_report.query('tariff == \"ultra\"')[parameter[0]],\n",
    "        bins,\n",
    "        alpha=0.8,\n",
    "        label=('ultra'),\n",
    "    )\n",
    "    plt.title(parameter[1])\n",
    "    plt.ylabel(parameter[2])\n",
    "    plt.tight_layout()\n",
    "    plt.legend(loc='upper right')\n",
    "    plt.show()  \n",
    "    print()\n",
    "    \n",
    "    # calculation of the average quantity, variance and standard deviation\n",
    "    for tariff_temp in tariffs_order:\n",
    "        print('Tariff: \"{}\"'.format(tariff_temp))\n",
    "        print('Parameter: {}'.format(parameter[1]))\n",
    "        print() \n",
    "        \n",
    "\n",
    "        # Average \n",
    "        mean_temp = np.mean(work_report.query('tariff == @tariff_temp')[parameter[0]])\n",
    "        print('Average: {:.1f}'.format(mean_temp))\n",
    "        # variance\n",
    "        variance_temp = np.var(work_report.query('tariff == @tariff_temp')[parameter[0]])\n",
    "        print('Variance: {:.1f}'.format(variance_temp))\n",
    "        # standard deviation\n",
    "        standard_deviation_temp = np.std(work_report.query('tariff == @tariff_temp')[parameter[0]])\n",
    "        print('Standard deviation: {:.1f}'.format(standard_deviation_temp))\n",
    "        \n",
    "        \n",
    "        print()      \n",
    "        print(work_report.query('tariff == @tariff_temp')[parameter[0]].describe())\n",
    "        print()\n",
    "        print() \n",
    "    print('--------------------')\n",
    "    print()\n",
    "    print() "
   ]
  },
  {
   "cell_type": "code",
   "execution_count": 68,
   "metadata": {},
   "outputs": [
    {
     "data": {
      "text/html": [
       "<div>\n",
       "<style scoped>\n",
       "    .dataframe tbody tr th:only-of-type {\n",
       "        vertical-align: middle;\n",
       "    }\n",
       "\n",
       "    .dataframe tbody tr th {\n",
       "        vertical-align: top;\n",
       "    }\n",
       "\n",
       "    .dataframe thead th {\n",
       "        text-align: right;\n",
       "    }\n",
       "</style>\n",
       "<table border=\"1\" class=\"dataframe\">\n",
       "  <thead>\n",
       "    <tr style=\"text-align: right;\">\n",
       "      <th></th>\n",
       "      <th>tariff</th>\n",
       "      <th>smart</th>\n",
       "      <th>ultra</th>\n",
       "    </tr>\n",
       "  </thead>\n",
       "  <tbody>\n",
       "    <tr>\n",
       "      <th rowspan=\"3\" valign=\"top\">calls_month_duration_minutes</th>\n",
       "      <th>mean</th>\n",
       "      <td>430</td>\n",
       "      <td>560</td>\n",
       "    </tr>\n",
       "    <tr>\n",
       "      <th>std</th>\n",
       "      <td>193</td>\n",
       "      <td>314</td>\n",
       "    </tr>\n",
       "    <tr>\n",
       "      <th>var</th>\n",
       "      <td>37577</td>\n",
       "      <td>99062</td>\n",
       "    </tr>\n",
       "    <tr>\n",
       "      <th rowspan=\"3\" valign=\"top\">calls_per_month</th>\n",
       "      <th>mean</th>\n",
       "      <td>58</td>\n",
       "      <td>76</td>\n",
       "    </tr>\n",
       "    <tr>\n",
       "      <th>std</th>\n",
       "      <td>25</td>\n",
       "      <td>42</td>\n",
       "    </tr>\n",
       "    <tr>\n",
       "      <th>var</th>\n",
       "      <td>665</td>\n",
       "      <td>1798</td>\n",
       "    </tr>\n",
       "    <tr>\n",
       "      <th rowspan=\"3\" valign=\"top\">internet_per_month_mb</th>\n",
       "      <th>mean</th>\n",
       "      <td>16244</td>\n",
       "      <td>19688</td>\n",
       "    </tr>\n",
       "    <tr>\n",
       "      <th>std</th>\n",
       "      <td>5871</td>\n",
       "      <td>9952</td>\n",
       "    </tr>\n",
       "    <tr>\n",
       "      <th>var</th>\n",
       "      <td>34469075</td>\n",
       "      <td>99058834</td>\n",
       "    </tr>\n",
       "    <tr>\n",
       "      <th rowspan=\"3\" valign=\"top\">messages_per_month</th>\n",
       "      <th>mean</th>\n",
       "      <td>38</td>\n",
       "      <td>61</td>\n",
       "    </tr>\n",
       "    <tr>\n",
       "      <th>std</th>\n",
       "      <td>26</td>\n",
       "      <td>45</td>\n",
       "    </tr>\n",
       "    <tr>\n",
       "      <th>var</th>\n",
       "      <td>717</td>\n",
       "      <td>2109</td>\n",
       "    </tr>\n",
       "  </tbody>\n",
       "</table>\n",
       "</div>"
      ],
      "text/plain": [
       "tariff                                smart     ultra\n",
       "calls_month_duration_minutes mean       430       560\n",
       "                             std        193       314\n",
       "                             var      37577     99062\n",
       "calls_per_month              mean        58        76\n",
       "                             std         25        42\n",
       "                             var        665      1798\n",
       "internet_per_month_mb        mean     16244     19688\n",
       "                             std       5871      9952\n",
       "                             var   34469075  99058834\n",
       "messages_per_month           mean        38        61\n",
       "                             std         26        45\n",
       "                             var        717      2109"
      ]
     },
     "execution_count": 68,
     "metadata": {},
     "output_type": "execute_result"
    }
   ],
   "source": [
    "statistics = work_report.pivot_table(index=['tariff'],\n",
    "                                values=['calls_per_month',\n",
    "                                        'calls_month_duration_minutes',\n",
    "                                        'messages_per_month',\n",
    "                                        'internet_per_month_mb'],\n",
    "                                \n",
    "                                aggfunc={'calls_per_month': [np.mean, np.var, np.std],\n",
    "                                        'calls_month_duration_minutes': [np.mean, np.var, np.std],\n",
    "                                        'messages_per_month': [np.mean, np.var, np.std],\n",
    "                                        'internet_per_month_mb': [np.mean, np.var, np.std]}\n",
    "                               )\n",
    "statistics.T.astype('int')"
   ]
  },
  {
   "cell_type": "code",
   "execution_count": 69,
   "metadata": {},
   "outputs": [],
   "source": [
    "# distribution of revenue by tariffs\n",
    "revenue_total = work_report.groupby(by='tariff')['revenue'].sum()"
   ]
  },
  {
   "cell_type": "code",
   "execution_count": 70,
   "metadata": {},
   "outputs": [
    {
     "data": {
      "image/png": "[encoded data removed]",
      "text/plain": [
       "<Figure size 1152x648 with 1 Axes>"
      ]
     },
     "metadata": {},
     "output_type": "display_data"
    }
   ],
   "source": [
    "# graph of revenue distribution by tariffs\n",
    "fig1, ax1 = plt.subplots()\n",
    "patches, texts, autotexts = ax1.pie(revenue_total, autopct='%1.0f%%', startangle=90)\n",
    "for autotext in autotexts:\n",
    "    autotext.set_color('white')\n",
    "plt.tight_layout()\n",
    "plt.title('distribution of revenue by tariffs')\n",
    "plt.legend(revenue_total.index, loc='upper right')\n",
    "plt.show()"
   ]
  },
  {
   "cell_type": "code",
   "execution_count": 71,
   "metadata": {},
   "outputs": [],
   "source": [
    "revenue = work_report.groupby(by='tariff')[['revenue_calls',\n",
    "                                       'revenue_messages',\n",
    "                                       'revenue_internet',\n",
    "                                       'revenue_month_fee']].sum()\n"
   ]
  },
  {
   "cell_type": "code",
   "execution_count": 72,
   "metadata": {},
   "outputs": [
    {
     "data": {
      "image/png": "[encoded data removed]",
      "text/plain": [
       "<Figure size 1152x648 with 1 Axes>"
      ]
     },
     "metadata": {
      "needs_background": "light"
     },
     "output_type": "display_data"
    }
   ],
   "source": [
    "# formation of the X-axis\n",
    "xticks=tariffs_order\n",
    "x=range(len(xticks))\n",
    "\n",
    "ax = revenue.plot(kind=\"bar\", \n",
    "                  stacked=True\n",
    "                                          )\n",
    "plt.tight_layout()\n",
    "plt.legend(loc='upper right')\n",
    "plt.title('Sources of the revenue')\n",
    "\n",
    "#plt.axis('off')\n",
    "plt.xticks(x, xticks, rotation = 0)\n",
    "plt.show()"
   ]
  },
  {
   "cell_type": "code",
   "execution_count": 73,
   "metadata": {},
   "outputs": [
    {
     "name": "stdout",
     "output_type": "stream",
     "text": [
      "The percentage of customers on the tariff smart who consume services over the package 75%\n",
      "The percentage of customers on the tariff ultra who consume services over the package 14%\n"
     ]
    }
   ],
   "source": [
    "# share of customers who consume services in excess of the package\n",
    "for tariff in tariffs_order:\n",
    "    extra_count = work_report.query('tariff == @tariff and (revenue_calls > 0 or revenue_messages > 0 or revenue_internet > 0)')['tariff'].count()\n",
    "    tariff_count = work_report.query('tariff == @tariff')['tariff'].count()\n",
    "    print('The percentage of customers on the tariff {} who consume services over the package {:.0%}'. format(tariff, extra_count / tariff_count))"
   ]
  },
  {
   "cell_type": "markdown",
   "metadata": {},
   "source": [
    "**Intermediate conclusion**\n",
    "\n",
    "Distribution of customers by tariffs:\n",
    "\n",
    "smart — 70 %;\n",
    "\n",
    "ultra — 30 %.\n",
    "\n",
    "On average, customers on the smart tariff call 59 times a month, and on the ultra tariff — 76.\n",
    "\n",
    "The average duration of calls on the smart tariff is 431 minutes. per month, and on the ultra tariff — 560.\n",
    "\n",
    "On average, customers on the smart tariff send 39 messages per month, and on the ultra tariff — 61.\n",
    "\n",
    "On average, customers on the smart tariff consume 16 GB per month, and on the ultra tariff — 19.\n",
    "\n",
    "Distribution of sample revenue by tariffs:\n",
    "\n",
    "smart — 59 %,\n",
    "\n",
    "ultra — 41 %.\n",
    "\n",
    "The main volume of revenue is generated:\n",
    "\n",
    "on the smart tariff, it is formed from paying for the Internet in excess of the package and the subscription fee.\n",
    "\n",
    "on the ultra tariff, it is formed from the subscription fee."
   ]
  },
  {
   "cell_type": "markdown",
   "metadata": {},
   "source": [
    "# 4. Hypothesis testing"
   ]
  },
  {
   "cell_type": "markdown",
   "metadata": {},
   "source": [
    "<div style=\"font-size: 20px\">\n",
    "\n",
    "**Calculation of monthly revenue from each user**"
   ]
  },
  {
   "cell_type": "markdown",
   "metadata": {},
   "source": [
    "Formulation according to the task:\n",
    "\n",
    "Check the hypotheses:\n",
    "the average revenue of users of the \"Ultra\" and \"Smart\" tariffs differs\n",
    "\n",
    "Since the task suggests comparing the average values of two samples, it is necessary to formulate and test the hypothesis about the equality of the averages of the two general aggregates.\n",
    "\n",
    "Null hypothesis: the average revenue of customers of the \"Ultra\" and \"Smart\" tariffs are equal.\n",
    "Alternative hypothesis: the average revenue of customers of the \"Ultra\" and \"Smart\" tariffs differ.\n",
    "The critical level of statistical significance is 1%. The high threshold of statistical significance is set taking into account the importance and cost of the task."
   ]
  },
  {
   "cell_type": "code",
   "execution_count": 74,
   "metadata": {},
   "outputs": [
    {
     "name": "stdout",
     "output_type": "stream",
     "text": [
      "p-value: 1.2496710269965528e-233\n",
      "We reject the null hypothesis\n"
     ]
    }
   ],
   "source": [
    "# critical level of statistical significance\n",
    "alpha = .01\n",
    "\n",
    "results = st.ttest_ind(\n",
    "    work_report.query('tariff == \"smart\"')['revenue'], \n",
    "    work_report.query('tariff == \"ultra\"')['revenue'], \n",
    "    equal_var=False)\n",
    "\n",
    "print('p-value:', results.pvalue)\n",
    "\n",
    "if (results.pvalue < alpha):\n",
    "    print(\"We reject the null hypothesis\")\n",
    "else:\n",
    "    print(\"It was not possible to reject the null hypothesis\")"
   ]
  },
  {
   "cell_type": "markdown",
   "metadata": {},
   "source": [
    "The resulting p-value indicates that with a probability close to 100%, the average revenue of customers of the \"Ultra\" and \"Smart\" tariffs are not equal."
   ]
  },
  {
   "cell_type": "code",
   "execution_count": 75,
   "metadata": {},
   "outputs": [
    {
     "data": {
      "text/html": [
       "<div>\n",
       "<style scoped>\n",
       "    .dataframe tbody tr th:only-of-type {\n",
       "        vertical-align: middle;\n",
       "    }\n",
       "\n",
       "    .dataframe tbody tr th {\n",
       "        vertical-align: top;\n",
       "    }\n",
       "\n",
       "    .dataframe thead tr th {\n",
       "        text-align: left;\n",
       "    }\n",
       "\n",
       "    .dataframe thead tr:last-of-type th {\n",
       "        text-align: right;\n",
       "    }\n",
       "</style>\n",
       "<table border=\"1\" class=\"dataframe\">\n",
       "  <thead>\n",
       "    <tr>\n",
       "      <th></th>\n",
       "      <th colspan=\"3\" halign=\"left\">revenue</th>\n",
       "      <th colspan=\"3\" halign=\"left\">revenue_calls</th>\n",
       "      <th colspan=\"3\" halign=\"left\">revenue_internet</th>\n",
       "      <th colspan=\"3\" halign=\"left\">revenue_messages</th>\n",
       "    </tr>\n",
       "    <tr>\n",
       "      <th></th>\n",
       "      <th>mean</th>\n",
       "      <th>std</th>\n",
       "      <th>var</th>\n",
       "      <th>mean</th>\n",
       "      <th>std</th>\n",
       "      <th>var</th>\n",
       "      <th>mean</th>\n",
       "      <th>std</th>\n",
       "      <th>var</th>\n",
       "      <th>mean</th>\n",
       "      <th>std</th>\n",
       "      <th>var</th>\n",
       "    </tr>\n",
       "    <tr>\n",
       "      <th>tariff</th>\n",
       "      <th></th>\n",
       "      <th></th>\n",
       "      <th></th>\n",
       "      <th></th>\n",
       "      <th></th>\n",
       "      <th></th>\n",
       "      <th></th>\n",
       "      <th></th>\n",
       "      <th></th>\n",
       "      <th></th>\n",
       "      <th></th>\n",
       "      <th></th>\n",
       "    </tr>\n",
       "  </thead>\n",
       "  <tbody>\n",
       "    <tr>\n",
       "      <th>smart</th>\n",
       "      <td>1312.512337</td>\n",
       "      <td>830.938122</td>\n",
       "      <td>690458.161989</td>\n",
       "      <td>141.792732</td>\n",
       "      <td>272.753978</td>\n",
       "      <td>74394.732604</td>\n",
       "      <td>603.319874</td>\n",
       "      <td>740.522231</td>\n",
       "      <td>548373.174564</td>\n",
       "      <td>17.399731</td>\n",
       "      <td>40.327368</td>\n",
       "      <td>1626.296607</td>\n",
       "    </tr>\n",
       "    <tr>\n",
       "      <th>ultra</th>\n",
       "      <td>2071.065990</td>\n",
       "      <td>378.802377</td>\n",
       "      <td>143491.240560</td>\n",
       "      <td>0.000000</td>\n",
       "      <td>0.000000</td>\n",
       "      <td>0.000000</td>\n",
       "      <td>121.065990</td>\n",
       "      <td>378.802377</td>\n",
       "      <td>143491.240560</td>\n",
       "      <td>0.000000</td>\n",
       "      <td>0.000000</td>\n",
       "      <td>0.000000</td>\n",
       "    </tr>\n",
       "  </tbody>\n",
       "</table>\n",
       "</div>"
      ],
      "text/plain": [
       "            revenue                            revenue_calls              \\\n",
       "               mean         std            var          mean         std   \n",
       "tariff                                                                     \n",
       "smart   1312.512337  830.938122  690458.161989    141.792732  272.753978   \n",
       "ultra   2071.065990  378.802377  143491.240560      0.000000    0.000000   \n",
       "\n",
       "                     revenue_internet                             \\\n",
       "                 var             mean         std            var   \n",
       "tariff                                                             \n",
       "smart   74394.732604       603.319874  740.522231  548373.174564   \n",
       "ultra       0.000000       121.065990  378.802377  143491.240560   \n",
       "\n",
       "       revenue_messages                          \n",
       "                   mean        std          var  \n",
       "tariff                                           \n",
       "smart         17.399731  40.327368  1626.296607  \n",
       "ultra          0.000000   0.000000     0.000000  "
      ]
     },
     "execution_count": 75,
     "metadata": {},
     "output_type": "execute_result"
    }
   ],
   "source": [
    "# checking the conclusions\n",
    "revenue_stat_general = work_report.query('revenue > 0').pivot_table(index=['tariff'],\n",
    "                                values=['revenue_calls',\n",
    "                                        'revenue_messages',\n",
    "                                        'revenue_internet',\n",
    "                                        'revenue'],\n",
    "                                \n",
    "                                aggfunc={'revenue_calls': [np.mean, np.var, np.std],\n",
    "                                        'revenue_messages': [np.mean, np.var, np.std],\n",
    "                                        'revenue_internet': [np.mean, np.var, np.std],\n",
    "                                        'revenue': [np.mean, np.var, np.std]}\n",
    "                               )\n",
    "revenue_stat_general"
   ]
  },
  {
   "cell_type": "markdown",
   "metadata": {},
   "source": [
    "<div style=\"font-size: 20px\">\n",
    "\n",
    "**Calculation of monthly revenue from each user**"
   ]
  },
  {
   "cell_type": "markdown",
   "metadata": {},
   "source": [
    "Formulation according to the task:\n",
    "\n",
    "Check the hypotheses:\n",
    "the average revenue of users from Moscow differs from the revenue of users from other regions;\n",
    "\n",
    "Since the task suggests comparing the average values of two samples, it is necessary to formulate and test the hypothesis about the equality of the averages of the two general aggregates.\n",
    "\n",
    "Null hypothesis: the average revenue of customers from Moscow and other regions are equal.\n",
    "Alternative hypothesis: the average revenue of customers from Moscow and other regions differ. The critical level of statistical significance is 1%. The high threshold of statistical significance is set taking into account the importance and cost of the task."
   ]
  },
  {
   "cell_type": "code",
   "execution_count": 76,
   "metadata": {},
   "outputs": [
    {
     "name": "stdout",
     "output_type": "stream",
     "text": [
      "p-value: 0.560259602740345\n",
      "It was not possible to reject the null hypothesis\n"
     ]
    }
   ],
   "source": [
    "# critical level of statistical significance\n",
    "alpha = .01\n",
    "\n",
    "results = st.ttest_ind(\n",
    "    work_report.query('region == \"Москва\"')['revenue'], \n",
    "    work_report.query('region != \"Москва\"')['revenue'], \n",
    "    equal_var=False)\n",
    "\n",
    "print('p-value:', results.pvalue)\n",
    "\n",
    "if (results.pvalue < alpha):\n",
    "    print(\"We reject the null hypothesis\")\n",
    "else:\n",
    "    print(\"It was not possible to reject the null hypothesis\")"
   ]
  },
  {
   "cell_type": "markdown",
   "metadata": {},
   "source": [
    "The resulting p-value indicates that, with a probability of 56%, the average revenue of customers from Moscow and other regions is equal."
   ]
  },
  {
   "cell_type": "code",
   "execution_count": 78,
   "metadata": {
    "scrolled": true
   },
   "outputs": [
    {
     "data": {
      "text/html": [
       "<div>\n",
       "<style scoped>\n",
       "    .dataframe tbody tr th:only-of-type {\n",
       "        vertical-align: middle;\n",
       "    }\n",
       "\n",
       "    .dataframe tbody tr th {\n",
       "        vertical-align: top;\n",
       "    }\n",
       "\n",
       "    .dataframe thead th {\n",
       "        text-align: right;\n",
       "    }\n",
       "</style>\n",
       "<table border=\"1\" class=\"dataframe\">\n",
       "  <thead>\n",
       "    <tr style=\"text-align: right;\">\n",
       "      <th></th>\n",
       "      <th>region</th>\n",
       "      <th>Москва</th>\n",
       "      <th>не-Москва</th>\n",
       "    </tr>\n",
       "  </thead>\n",
       "  <tbody>\n",
       "    <tr>\n",
       "      <th rowspan=\"3\" valign=\"top\">revenue</th>\n",
       "      <th>mean</th>\n",
       "      <td>1561</td>\n",
       "      <td>1541</td>\n",
       "    </tr>\n",
       "    <tr>\n",
       "      <th>std</th>\n",
       "      <td>753</td>\n",
       "      <td>814</td>\n",
       "    </tr>\n",
       "    <tr>\n",
       "      <th>var</th>\n",
       "      <td>567332</td>\n",
       "      <td>663465</td>\n",
       "    </tr>\n",
       "    <tr>\n",
       "      <th rowspan=\"3\" valign=\"top\">revenue_calls</th>\n",
       "      <th>mean</th>\n",
       "      <td>84</td>\n",
       "      <td>101</td>\n",
       "    </tr>\n",
       "    <tr>\n",
       "      <th>std</th>\n",
       "      <td>208</td>\n",
       "      <td>242</td>\n",
       "    </tr>\n",
       "    <tr>\n",
       "      <th>var</th>\n",
       "      <td>43545</td>\n",
       "      <td>58716</td>\n",
       "    </tr>\n",
       "    <tr>\n",
       "      <th rowspan=\"3\" valign=\"top\">revenue_internet</th>\n",
       "      <th>mean</th>\n",
       "      <td>403</td>\n",
       "      <td>467</td>\n",
       "    </tr>\n",
       "    <tr>\n",
       "      <th>std</th>\n",
       "      <td>627</td>\n",
       "      <td>701</td>\n",
       "    </tr>\n",
       "    <tr>\n",
       "      <th>var</th>\n",
       "      <td>393847</td>\n",
       "      <td>491761</td>\n",
       "    </tr>\n",
       "    <tr>\n",
       "      <th rowspan=\"3\" valign=\"top\">revenue_messages</th>\n",
       "      <th>mean</th>\n",
       "      <td>7</td>\n",
       "      <td>13</td>\n",
       "    </tr>\n",
       "    <tr>\n",
       "      <th>std</th>\n",
       "      <td>25</td>\n",
       "      <td>36</td>\n",
       "    </tr>\n",
       "    <tr>\n",
       "      <th>var</th>\n",
       "      <td>668</td>\n",
       "      <td>1309</td>\n",
       "    </tr>\n",
       "  </tbody>\n",
       "</table>\n",
       "</div>"
      ],
      "text/plain": [
       "region                 Москва  не-Москва\n",
       "revenue          mean    1561       1541\n",
       "                 std      753        814\n",
       "                 var   567332     663465\n",
       "revenue_calls    mean      84        101\n",
       "                 std      208        242\n",
       "                 var    43545      58716\n",
       "revenue_internet mean     403        467\n",
       "                 std      627        701\n",
       "                 var   393847     491761\n",
       "revenue_messages mean       7         13\n",
       "                 std       25         36\n",
       "                 var      668       1309"
      ]
     },
     "execution_count": 78,
     "metadata": {},
     "output_type": "execute_result"
    }
   ],
   "source": [
    "revenue_stat_region = work_report.query('revenue > 0').pivot_table(index=['region'],\n",
    "                                values=['revenue_calls',\n",
    "                                        'revenue_messages',\n",
    "                                        'revenue_internet',\n",
    "                                        'revenue'],\n",
    "                                \n",
    "                                aggfunc={'revenue_calls': [np.mean, np.var, np.std],\n",
    "                                        'revenue_messages': [np.mean, np.var, np.std],\n",
    "                                        'revenue_internet': [np.mean, np.var, np.std],\n",
    "                                        'revenue': [np.mean, np.var, np.std]}\n",
    "                               )\n",
    "revenue_stat_region.T.astype('int')"
   ]
  },
  {
   "cell_type": "markdown",
   "metadata": {},
   "source": [
    "# 5. Final conclusion"
   ]
  },
  {
   "cell_type": "markdown",
   "metadata": {},
   "source": [
    "**The most promising tariff is \"Smart\":**\n",
    "\n",
    "59% of revenue is generated from the Smart tariff.\n",
    "\n",
    "The average revenue from the Smart tariff is 1,313 rubles/month from the client.\n",
    "\n",
    "The Smart tariff is used by 70% of customers.\n",
    "\n",
    "On the \"Smart\" tariff, 75% of customers consume services over the package.\n",
    "\n",
    "The consumption of services in excess of the package generates 54% of revenue on the \"Smart\" tariff.\n",
    "\n",
    "In addition to the package, all services are consumed on the \"Smart\" tariff. 46% of the revenue on the tariff comes from the Internet and 10% from calls.\n",
    "\n",
    "The \"Ultra\" tariff is less promising:\n",
    "\n",
    "41% of revenue is generated from the \"Ultra\" tariff.\n",
    "\n",
    "The average revenue from the \"Ultra\" tariff is 2,071 rubles/month from the client.\n",
    "\n",
    "The \"Ultra\" tariff is used by 30% of customers.\n",
    "\n",
    "Only 14% of customers on the \"Ultra\" tariff consume services in excess of the 14% package (Internet only) and this generates only 5% of the revenue from the tariff.\n",
    "\n",
    "The average revenue from tariffs differs with a probability (p-value) of about <99.99%.\n",
    "\n",
    "Average revenue by city is almost equal with a probability (p-value) of about 56 %:\n",
    "\n",
    "Moscow 1,561 rubles/month from the client,\n",
    "\n",
    "non-Moscow 1,541 rubles/month from the client.\n",
    "\n",
    "Quantitative indicators:\n",
    "\n",
    "Number of calls, pcs./month.:\n",
    "\n",
    "\"Smart\" — 59,\n",
    "\n",
    "\"Ultra\" — 76.\n",
    "\n",
    "Average duration of calls, min. per month:\n",
    "\n",
    "Smart — 431,\n",
    "\n",
    "\"Ultra\" — 560.\n",
    "\n",
    "Sent messages, pcs./month.:\n",
    "\n",
    "\"Smart\" — 39,\n",
    "\n",
    "\"Ultra\" — 61.\n",
    "\n",
    "Internet traffic consumption, Gb/month:\n",
    "\n",
    "\"Smart\" — 16,\n",
    "\n",
    "\"Ultra\" — 19."
   ]
  }
 ],
 "metadata": {
  "ExecuteTimeLog": [
   {
    "duration": 1213,
    "start_time": "2021-12-16T19:06:03.920Z"
   },
   {
    "duration": 3,
    "start_time": "2021-12-16T19:19:54.647Z"
   },
   {
    "duration": 1553,
    "start_time": "2021-12-17T09:05:26.696Z"
   },
   {
    "duration": 535,
    "start_time": "2021-12-17T09:07:56.581Z"
   },
   {
    "duration": 16,
    "start_time": "2021-12-17T09:08:07.168Z"
   },
   {
    "duration": 154,
    "start_time": "2021-12-17T09:17:21.743Z"
   },
   {
    "duration": 159,
    "start_time": "2021-12-17T09:17:30.430Z"
   },
   {
    "duration": 206,
    "start_time": "2021-12-17T09:20:13.130Z"
   },
   {
    "duration": 4,
    "start_time": "2021-12-17T09:29:10.361Z"
   },
   {
    "duration": 554,
    "start_time": "2021-12-17T09:29:21.123Z"
   },
   {
    "duration": 209,
    "start_time": "2021-12-17T09:29:22.881Z"
   },
   {
    "duration": 5,
    "start_time": "2021-12-17T09:34:36.671Z"
   },
   {
    "duration": 9,
    "start_time": "2021-12-17T09:42:09.621Z"
   },
   {
    "duration": 551,
    "start_time": "2021-12-17T09:50:16.290Z"
   },
   {
    "duration": 292,
    "start_time": "2021-12-17T09:51:15.970Z"
   },
   {
    "duration": 1245,
    "start_time": "2021-12-17T09:52:13.441Z"
   },
   {
    "duration": 192,
    "start_time": "2021-12-17T09:57:57.315Z"
   },
   {
    "duration": 11,
    "start_time": "2021-12-17T09:58:56.569Z"
   },
   {
    "duration": 16,
    "start_time": "2021-12-17T09:59:06.936Z"
   },
   {
    "duration": 25,
    "start_time": "2021-12-17T09:59:14.210Z"
   },
   {
    "duration": 18,
    "start_time": "2021-12-17T09:59:25.285Z"
   },
   {
    "duration": 21,
    "start_time": "2021-12-17T09:59:37.221Z"
   },
   {
    "duration": 7,
    "start_time": "2021-12-17T10:00:30.406Z"
   },
   {
    "duration": 575,
    "start_time": "2021-12-17T10:01:37.447Z"
   },
   {
    "duration": 692,
    "start_time": "2021-12-17T10:01:59.290Z"
   },
   {
    "duration": 53,
    "start_time": "2021-12-17T10:03:09.145Z"
   },
   {
    "duration": 16,
    "start_time": "2021-12-17T10:03:28.583Z"
   },
   {
    "duration": 8,
    "start_time": "2021-12-17T10:03:49.442Z"
   },
   {
    "duration": 504,
    "start_time": "2021-12-17T10:04:03.493Z"
   },
   {
    "duration": 28,
    "start_time": "2021-12-17T10:04:04.918Z"
   },
   {
    "duration": 11,
    "start_time": "2021-12-17T10:04:06.490Z"
   },
   {
    "duration": 17,
    "start_time": "2021-12-17T10:04:44.614Z"
   },
   {
    "duration": 17,
    "start_time": "2021-12-17T10:04:55.151Z"
   },
   {
    "duration": 18,
    "start_time": "2021-12-17T10:05:04.779Z"
   },
   {
    "duration": 72,
    "start_time": "2021-12-17T10:07:25.481Z"
   },
   {
    "duration": 140,
    "start_time": "2021-12-17T10:07:45.167Z"
   },
   {
    "duration": 86,
    "start_time": "2021-12-17T10:07:53.256Z"
   },
   {
    "duration": 83,
    "start_time": "2021-12-17T10:08:05.601Z"
   },
   {
    "duration": 107,
    "start_time": "2021-12-17T10:08:21.227Z"
   },
   {
    "duration": 83,
    "start_time": "2021-12-17T10:08:34.882Z"
   },
   {
    "duration": 5,
    "start_time": "2021-12-17T10:10:15.268Z"
   },
   {
    "duration": 6,
    "start_time": "2021-12-17T10:10:16.221Z"
   },
   {
    "duration": 504,
    "start_time": "2021-12-17T10:10:18.011Z"
   },
   {
    "duration": 26,
    "start_time": "2021-12-17T10:10:21.898Z"
   },
   {
    "duration": 11,
    "start_time": "2021-12-17T10:10:23.858Z"
   },
   {
    "duration": 16,
    "start_time": "2021-12-17T10:10:24.915Z"
   },
   {
    "duration": 17,
    "start_time": "2021-12-17T10:10:26.072Z"
   },
   {
    "duration": 4,
    "start_time": "2021-12-17T10:39:50.194Z"
   },
   {
    "duration": 4,
    "start_time": "2021-12-17T10:39:50.988Z"
   },
   {
    "duration": 533,
    "start_time": "2021-12-17T10:39:52.604Z"
   },
   {
    "duration": 27,
    "start_time": "2021-12-17T10:39:53.433Z"
   },
   {
    "duration": 11,
    "start_time": "2021-12-17T10:39:54.274Z"
   },
   {
    "duration": 11,
    "start_time": "2021-12-17T10:39:55.009Z"
   },
   {
    "duration": 17,
    "start_time": "2021-12-17T10:39:55.966Z"
   },
   {
    "duration": 17,
    "start_time": "2021-12-17T10:40:47.153Z"
   },
   {
    "duration": 544,
    "start_time": "2021-12-17T10:41:14.663Z"
   },
   {
    "duration": 23,
    "start_time": "2021-12-17T10:41:20.370Z"
   },
   {
    "duration": 12,
    "start_time": "2021-12-17T10:43:15.682Z"
   },
   {
    "duration": 17,
    "start_time": "2021-12-17T10:45:02.720Z"
   },
   {
    "duration": 26,
    "start_time": "2021-12-17T10:45:37.705Z"
   },
   {
    "duration": 14,
    "start_time": "2021-12-17T11:01:38.193Z"
   },
   {
    "duration": 547,
    "start_time": "2021-12-17T11:01:51.143Z"
   },
   {
    "duration": 27,
    "start_time": "2021-12-17T11:02:02.011Z"
   },
   {
    "duration": 9,
    "start_time": "2021-12-17T11:02:19.654Z"
   },
   {
    "duration": 549,
    "start_time": "2021-12-17T11:03:03.988Z"
   },
   {
    "duration": 27,
    "start_time": "2021-12-17T11:03:04.968Z"
   },
   {
    "duration": 11,
    "start_time": "2021-12-17T11:03:05.455Z"
   },
   {
    "duration": 11,
    "start_time": "2021-12-17T11:03:05.949Z"
   },
   {
    "duration": 26,
    "start_time": "2021-12-17T11:03:06.598Z"
   },
   {
    "duration": 23,
    "start_time": "2021-12-17T11:03:08.552Z"
   },
   {
    "duration": 16,
    "start_time": "2021-12-17T11:03:09.119Z"
   },
   {
    "duration": 16,
    "start_time": "2021-12-17T11:03:09.816Z"
   },
   {
    "duration": 28,
    "start_time": "2021-12-17T11:03:10.407Z"
   },
   {
    "duration": 20,
    "start_time": "2021-12-17T11:03:11.854Z"
   },
   {
    "duration": 8,
    "start_time": "2021-12-17T11:03:12.937Z"
   },
   {
    "duration": 8,
    "start_time": "2021-12-17T11:04:56.754Z"
   },
   {
    "duration": 530,
    "start_time": "2021-12-17T11:05:28.859Z"
   },
   {
    "duration": 15,
    "start_time": "2021-12-17T11:05:37.303Z"
   },
   {
    "duration": 9,
    "start_time": "2021-12-17T11:05:39.305Z"
   },
   {
    "duration": 9,
    "start_time": "2021-12-17T11:05:40.532Z"
   },
   {
    "duration": 541,
    "start_time": "2021-12-17T11:05:58.212Z"
   },
   {
    "duration": 27,
    "start_time": "2021-12-17T11:06:02.053Z"
   },
   {
    "duration": 15,
    "start_time": "2021-12-17T11:06:02.823Z"
   },
   {
    "duration": 11,
    "start_time": "2021-12-17T11:06:03.455Z"
   },
   {
    "duration": 22,
    "start_time": "2021-12-17T11:06:04.215Z"
   },
   {
    "duration": 23,
    "start_time": "2021-12-17T11:06:06.467Z"
   },
   {
    "duration": 12,
    "start_time": "2021-12-17T11:06:07.097Z"
   },
   {
    "duration": 12,
    "start_time": "2021-12-17T11:06:07.786Z"
   },
   {
    "duration": 16,
    "start_time": "2021-12-17T11:06:08.544Z"
   },
   {
    "duration": 19,
    "start_time": "2021-12-17T11:06:10.163Z"
   },
   {
    "duration": 8,
    "start_time": "2021-12-17T11:06:11.433Z"
   },
   {
    "duration": 9,
    "start_time": "2021-12-17T11:06:17.804Z"
   },
   {
    "duration": 10,
    "start_time": "2021-12-17T11:06:36.298Z"
   },
   {
    "duration": 9,
    "start_time": "2021-12-17T11:06:43.465Z"
   },
   {
    "duration": 882,
    "start_time": "2021-12-17T11:07:06.437Z"
   },
   {
    "duration": 18,
    "start_time": "2021-12-17T11:07:17.147Z"
   },
   {
    "duration": 9,
    "start_time": "2021-12-17T11:07:19.168Z"
   },
   {
    "duration": 11,
    "start_time": "2021-12-17T11:07:20.014Z"
   },
   {
    "duration": 575,
    "start_time": "2021-12-17T11:07:35.596Z"
   },
   {
    "duration": 581,
    "start_time": "2021-12-17T11:09:15.501Z"
   },
   {
    "duration": 25,
    "start_time": "2021-12-17T11:09:28.501Z"
   },
   {
    "duration": 12,
    "start_time": "2021-12-17T11:09:47.732Z"
   },
   {
    "duration": 10,
    "start_time": "2021-12-17T11:09:59.954Z"
   },
   {
    "duration": 266,
    "start_time": "2021-12-17T11:12:04.674Z"
   },
   {
    "duration": 14,
    "start_time": "2021-12-17T11:12:13.490Z"
   },
   {
    "duration": 9,
    "start_time": "2021-12-17T11:18:56.895Z"
   },
   {
    "duration": 16,
    "start_time": "2021-12-17T11:21:09.179Z"
   },
   {
    "duration": 9,
    "start_time": "2021-12-17T11:26:16.899Z"
   },
   {
    "duration": 22,
    "start_time": "2021-12-17T11:26:29.542Z"
   },
   {
    "duration": 19,
    "start_time": "2021-12-17T11:26:40.947Z"
   },
   {
    "duration": 15,
    "start_time": "2021-12-17T11:26:53.291Z"
   },
   {
    "duration": 51,
    "start_time": "2021-12-17T12:31:00.397Z"
   },
   {
    "duration": 40,
    "start_time": "2021-12-17T12:37:03.987Z"
   },
   {
    "duration": 44,
    "start_time": "2021-12-17T12:43:51.370Z"
   },
   {
    "duration": 28,
    "start_time": "2021-12-17T12:45:03.813Z"
   },
   {
    "duration": 40,
    "start_time": "2021-12-17T12:49:03.882Z"
   },
   {
    "duration": 78,
    "start_time": "2021-12-17T12:53:09.936Z"
   },
   {
    "duration": 42,
    "start_time": "2021-12-17T12:59:55.583Z"
   },
   {
    "duration": 29,
    "start_time": "2021-12-17T13:00:13.927Z"
   },
   {
    "duration": 309,
    "start_time": "2021-12-17T13:02:20.583Z"
   },
   {
    "duration": 16,
    "start_time": "2021-12-17T13:03:02.780Z"
   },
   {
    "duration": 14,
    "start_time": "2021-12-17T13:03:12.193Z"
   },
   {
    "duration": 83,
    "start_time": "2021-12-17T13:05:05.703Z"
   },
   {
    "duration": 84,
    "start_time": "2021-12-17T13:05:38.210Z"
   },
   {
    "duration": 79,
    "start_time": "2021-12-17T13:06:10.627Z"
   },
   {
    "duration": 15,
    "start_time": "2021-12-17T13:06:50.766Z"
   },
   {
    "duration": 268,
    "start_time": "2021-12-17T13:44:13.816Z"
   },
   {
    "duration": 33,
    "start_time": "2021-12-17T13:44:26.424Z"
   },
   {
    "duration": 29,
    "start_time": "2021-12-17T13:44:38.654Z"
   },
   {
    "duration": 22,
    "start_time": "2021-12-17T13:44:50.957Z"
   },
   {
    "duration": 27,
    "start_time": "2021-12-17T13:46:38.086Z"
   },
   {
    "duration": 23,
    "start_time": "2021-12-17T13:47:11.695Z"
   },
   {
    "duration": 5989,
    "start_time": "2021-12-17T13:55:48.411Z"
   },
   {
    "duration": 18,
    "start_time": "2021-12-17T13:56:38.251Z"
   },
   {
    "duration": 95,
    "start_time": "2021-12-17T14:10:55.807Z"
   },
   {
    "duration": 25,
    "start_time": "2021-12-17T14:13:58.569Z"
   },
   {
    "duration": 13,
    "start_time": "2021-12-17T14:14:18.347Z"
   },
   {
    "duration": 19,
    "start_time": "2021-12-17T14:16:56.235Z"
   },
   {
    "duration": 21,
    "start_time": "2021-12-17T14:17:41.042Z"
   },
   {
    "duration": 1145,
    "start_time": "2021-12-18T04:16:33.972Z"
   },
   {
    "duration": 7,
    "start_time": "2021-12-18T04:16:35.119Z"
   },
   {
    "duration": 399,
    "start_time": "2021-12-18T04:16:35.937Z"
   },
   {
    "duration": 20,
    "start_time": "2021-12-18T04:16:36.579Z"
   },
   {
    "duration": 12,
    "start_time": "2021-12-18T04:16:37.168Z"
   },
   {
    "duration": 19,
    "start_time": "2021-12-18T04:16:37.864Z"
   },
   {
    "duration": 14,
    "start_time": "2021-12-18T04:16:38.585Z"
   },
   {
    "duration": 19,
    "start_time": "2021-12-18T04:16:41.010Z"
   },
   {
    "duration": 8,
    "start_time": "2021-12-18T04:16:41.648Z"
   },
   {
    "duration": 9,
    "start_time": "2021-12-18T04:16:42.237Z"
   },
   {
    "duration": 13,
    "start_time": "2021-12-18T04:16:42.814Z"
   },
   {
    "duration": 15,
    "start_time": "2021-12-18T04:16:43.924Z"
   },
   {
    "duration": 8,
    "start_time": "2021-12-18T04:16:44.508Z"
   },
   {
    "duration": 7,
    "start_time": "2021-12-18T04:16:44.950Z"
   },
   {
    "duration": 10,
    "start_time": "2021-12-18T04:16:45.377Z"
   },
   {
    "duration": 6,
    "start_time": "2021-12-18T04:16:46.174Z"
   },
   {
    "duration": 9,
    "start_time": "2021-12-18T04:16:46.605Z"
   },
   {
    "duration": 7,
    "start_time": "2021-12-18T04:16:47.503Z"
   },
   {
    "duration": 10,
    "start_time": "2021-12-18T04:16:47.946Z"
   },
   {
    "duration": 12,
    "start_time": "2021-12-18T04:16:48.340Z"
   },
   {
    "duration": 14,
    "start_time": "2021-12-18T04:16:48.893Z"
   },
   {
    "duration": 72,
    "start_time": "2021-12-18T04:16:51.736Z"
   },
   {
    "duration": 54,
    "start_time": "2021-12-18T04:16:52.127Z"
   },
   {
    "duration": 18,
    "start_time": "2021-12-18T04:16:54.003Z"
   },
   {
    "duration": 17,
    "start_time": "2021-12-18T04:16:54.613Z"
   },
   {
    "duration": 19,
    "start_time": "2021-12-18T04:16:55.761Z"
   },
   {
    "duration": 14,
    "start_time": "2021-12-18T04:16:57.204Z"
   },
   {
    "duration": 15,
    "start_time": "2021-12-18T04:16:57.652Z"
   },
   {
    "duration": 16,
    "start_time": "2021-12-18T04:16:58.231Z"
   },
   {
    "duration": 62,
    "start_time": "2021-12-18T04:26:43.464Z"
   },
   {
    "duration": 69,
    "start_time": "2021-12-18T04:28:05.662Z"
   },
   {
    "duration": 90,
    "start_time": "2021-12-18T04:29:42.833Z"
   },
   {
    "duration": 65,
    "start_time": "2021-12-18T04:31:11.787Z"
   },
   {
    "duration": 58,
    "start_time": "2021-12-18T04:32:04.602Z"
   },
   {
    "duration": 187,
    "start_time": "2021-12-18T04:34:10.949Z"
   },
   {
    "duration": 64,
    "start_time": "2021-12-18T04:35:13.740Z"
   },
   {
    "duration": 202,
    "start_time": "2021-12-18T04:37:00.651Z"
   },
   {
    "duration": 188,
    "start_time": "2021-12-18T04:38:08.691Z"
   },
   {
    "duration": 139,
    "start_time": "2021-12-18T04:38:33.560Z"
   },
   {
    "duration": 6,
    "start_time": "2021-12-18T04:46:26.374Z"
   },
   {
    "duration": 6,
    "start_time": "2021-12-18T04:47:27.655Z"
   },
   {
    "duration": 8,
    "start_time": "2021-12-18T04:48:53.181Z"
   },
   {
    "duration": 11,
    "start_time": "2021-12-18T04:49:38.800Z"
   },
   {
    "duration": 12,
    "start_time": "2021-12-18T04:49:56.174Z"
   },
   {
    "duration": 272,
    "start_time": "2021-12-18T04:50:34.509Z"
   },
   {
    "duration": 14,
    "start_time": "2021-12-18T04:50:44.318Z"
   },
   {
    "duration": 195,
    "start_time": "2021-12-18T04:52:00.231Z"
   },
   {
    "duration": 33,
    "start_time": "2021-12-18T04:52:09.977Z"
   },
   {
    "duration": 183,
    "start_time": "2021-12-18T04:52:55.585Z"
   },
   {
    "duration": 192,
    "start_time": "2021-12-18T04:56:14.422Z"
   },
   {
    "duration": 177,
    "start_time": "2021-12-18T04:56:54.107Z"
   },
   {
    "duration": 6,
    "start_time": "2021-12-18T04:57:02.629Z"
   },
   {
    "duration": 48,
    "start_time": "2021-12-18T04:57:42.151Z"
   },
   {
    "duration": 15,
    "start_time": "2021-12-18T04:57:46.405Z"
   },
   {
    "duration": 13,
    "start_time": "2021-12-18T04:57:46.849Z"
   },
   {
    "duration": 25,
    "start_time": "2021-12-18T04:57:47.711Z"
   },
   {
    "duration": 14,
    "start_time": "2021-12-18T04:57:49.040Z"
   },
   {
    "duration": 15,
    "start_time": "2021-12-18T04:57:49.569Z"
   },
   {
    "duration": 16,
    "start_time": "2021-12-18T04:57:49.989Z"
   },
   {
    "duration": 189,
    "start_time": "2021-12-18T04:57:51.719Z"
   },
   {
    "duration": 153,
    "start_time": "2021-12-18T04:57:52.117Z"
   },
   {
    "duration": 11,
    "start_time": "2021-12-18T04:57:53.215Z"
   },
   {
    "duration": 12,
    "start_time": "2021-12-18T04:57:53.908Z"
   },
   {
    "duration": 15,
    "start_time": "2021-12-18T04:57:54.605Z"
   },
   {
    "duration": 23,
    "start_time": "2021-12-18T04:57:55.585Z"
   },
   {
    "duration": 8,
    "start_time": "2021-12-18T04:57:56.354Z"
   },
   {
    "duration": 76,
    "start_time": "2021-12-18T05:06:45.929Z"
   },
   {
    "duration": 64,
    "start_time": "2021-12-18T05:07:38.704Z"
   },
   {
    "duration": 15,
    "start_time": "2021-12-18T05:07:39.207Z"
   },
   {
    "duration": 12,
    "start_time": "2021-12-18T05:07:39.378Z"
   },
   {
    "duration": 65,
    "start_time": "2021-12-18T05:08:22.447Z"
   },
   {
    "duration": 15,
    "start_time": "2021-12-18T05:08:23.187Z"
   },
   {
    "duration": 12,
    "start_time": "2021-12-18T05:08:23.413Z"
   },
   {
    "duration": 47,
    "start_time": "2021-12-18T05:09:19.517Z"
   },
   {
    "duration": 15,
    "start_time": "2021-12-18T05:09:22.657Z"
   },
   {
    "duration": 16,
    "start_time": "2021-12-18T05:09:22.957Z"
   },
   {
    "duration": 22,
    "start_time": "2021-12-18T05:09:23.541Z"
   },
   {
    "duration": 14,
    "start_time": "2021-12-18T05:09:24.380Z"
   },
   {
    "duration": 12,
    "start_time": "2021-12-18T05:09:24.606Z"
   },
   {
    "duration": 20,
    "start_time": "2021-12-18T05:09:24.831Z"
   },
   {
    "duration": 185,
    "start_time": "2021-12-18T05:09:25.830Z"
   },
   {
    "duration": 140,
    "start_time": "2021-12-18T05:09:26.084Z"
   },
   {
    "duration": 10,
    "start_time": "2021-12-18T05:09:26.544Z"
   },
   {
    "duration": 13,
    "start_time": "2021-12-18T05:09:26.854Z"
   },
   {
    "duration": 15,
    "start_time": "2021-12-18T05:09:27.535Z"
   },
   {
    "duration": 28,
    "start_time": "2021-12-18T05:09:28.338Z"
   },
   {
    "duration": 15,
    "start_time": "2021-12-18T05:09:33.256Z"
   },
   {
    "duration": 175,
    "start_time": "2021-12-18T05:10:18.716Z"
   },
   {
    "duration": 20,
    "start_time": "2021-12-18T05:10:27.982Z"
   },
   {
    "duration": 10,
    "start_time": "2021-12-18T05:10:43.164Z"
   },
   {
    "duration": 179,
    "start_time": "2021-12-18T05:10:51.859Z"
   },
   {
    "duration": 16,
    "start_time": "2021-12-18T05:11:10.076Z"
   },
   {
    "duration": 9,
    "start_time": "2021-12-18T05:11:37.700Z"
   },
   {
    "duration": 12,
    "start_time": "2021-12-18T05:12:00.621Z"
   },
   {
    "duration": 25,
    "start_time": "2021-12-18T05:12:14.210Z"
   },
   {
    "duration": 1646,
    "start_time": "2021-12-18T14:42:32.335Z"
   },
   {
    "duration": 6,
    "start_time": "2021-12-18T14:42:33.984Z"
   },
   {
    "duration": 660,
    "start_time": "2021-12-18T14:42:33.993Z"
   },
   {
    "duration": 29,
    "start_time": "2021-12-18T14:42:34.656Z"
   },
   {
    "duration": 16,
    "start_time": "2021-12-18T14:42:35.304Z"
   },
   {
    "duration": 15,
    "start_time": "2021-12-18T14:42:36.267Z"
   },
   {
    "duration": 20,
    "start_time": "2021-12-18T14:42:37.372Z"
   },
   {
    "duration": 22,
    "start_time": "2021-12-18T14:42:40.008Z"
   },
   {
    "duration": 13,
    "start_time": "2021-12-18T14:42:40.580Z"
   },
   {
    "duration": 14,
    "start_time": "2021-12-18T14:42:41.119Z"
   },
   {
    "duration": 17,
    "start_time": "2021-12-18T14:42:41.654Z"
   },
   {
    "duration": 21,
    "start_time": "2021-12-18T14:42:42.781Z"
   },
   {
    "duration": 11,
    "start_time": "2021-12-18T14:42:43.291Z"
   },
   {
    "duration": 10,
    "start_time": "2021-12-18T14:42:43.887Z"
   },
   {
    "duration": 15,
    "start_time": "2021-12-18T14:42:45.146Z"
   },
   {
    "duration": 10,
    "start_time": "2021-12-18T14:42:48.509Z"
   },
   {
    "duration": 18,
    "start_time": "2021-12-18T14:42:48.521Z"
   },
   {
    "duration": 9,
    "start_time": "2021-12-18T14:42:50.210Z"
   },
   {
    "duration": 15,
    "start_time": "2021-12-18T14:42:50.902Z"
   },
   {
    "duration": 16,
    "start_time": "2021-12-18T14:42:51.635Z"
   },
   {
    "duration": 16,
    "start_time": "2021-12-18T14:42:52.494Z"
   },
   {
    "duration": 101,
    "start_time": "2021-12-18T14:42:57.152Z"
   },
   {
    "duration": 96,
    "start_time": "2021-12-18T14:42:57.843Z"
   },
   {
    "duration": 22,
    "start_time": "2021-12-18T14:42:59.793Z"
   },
   {
    "duration": 33,
    "start_time": "2021-12-18T14:43:00.454Z"
   },
   {
    "duration": 34,
    "start_time": "2021-12-18T14:43:02.275Z"
   },
   {
    "duration": 24,
    "start_time": "2021-12-18T14:43:06.190Z"
   },
   {
    "duration": 17,
    "start_time": "2021-12-18T14:43:06.811Z"
   },
   {
    "duration": 27,
    "start_time": "2021-12-18T14:43:07.713Z"
   },
   {
    "duration": 296,
    "start_time": "2021-12-18T14:43:09.756Z"
   },
   {
    "duration": 228,
    "start_time": "2021-12-18T14:43:10.727Z"
   },
   {
    "duration": 16,
    "start_time": "2021-12-18T14:43:12.116Z"
   },
   {
    "duration": 23,
    "start_time": "2021-12-18T14:43:12.643Z"
   },
   {
    "duration": 21,
    "start_time": "2021-12-18T14:43:13.591Z"
   },
   {
    "duration": 49,
    "start_time": "2021-12-18T14:43:14.705Z"
   },
   {
    "duration": 23,
    "start_time": "2021-12-18T14:43:15.375Z"
   },
   {
    "duration": 26,
    "start_time": "2021-12-18T14:43:15.996Z"
   },
   {
    "duration": 15,
    "start_time": "2021-12-18T14:43:16.597Z"
   },
   {
    "duration": 39,
    "start_time": "2021-12-18T14:43:17.087Z"
   },
   {
    "duration": 13,
    "start_time": "2021-12-18T14:43:17.613Z"
   },
   {
    "duration": 28,
    "start_time": "2021-12-18T14:43:18.232Z"
   },
   {
    "duration": 5569,
    "start_time": "2021-12-18T14:57:05.847Z"
   },
   {
    "duration": 3198,
    "start_time": "2021-12-18T14:59:06.848Z"
   },
   {
    "duration": 11131,
    "start_time": "2021-12-18T15:00:45.169Z"
   },
   {
    "duration": 1135,
    "start_time": "2021-12-18T15:03:18.466Z"
   },
   {
    "duration": 5227,
    "start_time": "2021-12-18T15:03:35.053Z"
   },
   {
    "duration": 4541,
    "start_time": "2021-12-18T15:05:23.119Z"
   },
   {
    "duration": 7,
    "start_time": "2021-12-18T15:05:40.876Z"
   },
   {
    "duration": 34,
    "start_time": "2021-12-18T15:05:58.119Z"
   },
   {
    "duration": 39,
    "start_time": "2021-12-18T15:06:10.796Z"
   },
   {
    "duration": 391,
    "start_time": "2021-12-18T15:10:02.052Z"
   },
   {
    "duration": 5,
    "start_time": "2021-12-18T15:10:18.369Z"
   },
   {
    "duration": 813,
    "start_time": "2021-12-18T15:10:43.595Z"
   },
   {
    "duration": 5,
    "start_time": "2021-12-18T15:16:44.436Z"
   },
   {
    "duration": 826,
    "start_time": "2021-12-18T15:16:45.306Z"
   },
   {
    "duration": 5,
    "start_time": "2021-12-18T15:17:17.239Z"
   },
   {
    "duration": 894,
    "start_time": "2021-12-18T15:18:37.306Z"
   },
   {
    "duration": 865,
    "start_time": "2021-12-18T15:28:27.075Z"
   },
   {
    "duration": 654,
    "start_time": "2021-12-18T15:29:06.412Z"
   },
   {
    "duration": 385,
    "start_time": "2021-12-18T15:32:52.699Z"
   },
   {
    "duration": 53,
    "start_time": "2021-12-18T15:33:04.125Z"
   },
   {
    "duration": 6,
    "start_time": "2021-12-18T15:33:42.599Z"
   },
   {
    "duration": 1210,
    "start_time": "2021-12-18T15:33:58.827Z"
   },
   {
    "duration": 9,
    "start_time": "2021-12-18T15:34:25.241Z"
   },
   {
    "duration": 384,
    "start_time": "2021-12-18T15:34:41.393Z"
   },
   {
    "duration": 619,
    "start_time": "2021-12-18T15:34:58.841Z"
   },
   {
    "duration": 28,
    "start_time": "2021-12-18T15:35:14.068Z"
   },
   {
    "duration": 15,
    "start_time": "2021-12-18T15:43:07.318Z"
   },
   {
    "duration": 372,
    "start_time": "2021-12-18T15:43:42.760Z"
   },
   {
    "duration": 54,
    "start_time": "2021-12-18T15:43:52.976Z"
   },
   {
    "duration": 16,
    "start_time": "2021-12-18T15:45:04.465Z"
   },
   {
    "duration": 55,
    "start_time": "2021-12-18T15:46:34.578Z"
   },
   {
    "duration": 7,
    "start_time": "2021-12-18T15:52:21.408Z"
   },
   {
    "duration": 796,
    "start_time": "2021-12-18T15:52:22.309Z"
   },
   {
    "duration": 5,
    "start_time": "2021-12-18T15:52:39.622Z"
   },
   {
    "duration": 396,
    "start_time": "2021-12-18T15:52:40.664Z"
   },
   {
    "duration": 53,
    "start_time": "2021-12-18T15:52:50.278Z"
   },
   {
    "duration": 6,
    "start_time": "2021-12-18T15:52:51.722Z"
   },
   {
    "duration": 875,
    "start_time": "2021-12-18T15:52:52.438Z"
   },
   {
    "duration": 8,
    "start_time": "2021-12-18T15:52:53.597Z"
   },
   {
    "duration": 389,
    "start_time": "2021-12-18T15:52:54.480Z"
   },
   {
    "duration": 32,
    "start_time": "2021-12-18T15:52:55.966Z"
   },
   {
    "duration": 14,
    "start_time": "2021-12-18T15:52:59.959Z"
   },
   {
    "duration": 60,
    "start_time": "2021-12-18T15:53:01.364Z"
   },
   {
    "duration": 15,
    "start_time": "2021-12-18T15:53:02.927Z"
   },
   {
    "duration": 55,
    "start_time": "2021-12-18T15:53:03.911Z"
   },
   {
    "duration": 463,
    "start_time": "2021-12-18T16:00:42.229Z"
   },
   {
    "duration": 787,
    "start_time": "2021-12-18T16:00:57.035Z"
   },
   {
    "duration": 785,
    "start_time": "2021-12-18T16:01:10.730Z"
   },
   {
    "duration": 783,
    "start_time": "2021-12-18T16:01:22.087Z"
   },
   {
    "duration": 447,
    "start_time": "2021-12-18T16:01:53.133Z"
   },
   {
    "duration": 432,
    "start_time": "2021-12-18T16:02:43.345Z"
   },
   {
    "duration": 428,
    "start_time": "2021-12-18T16:02:57.553Z"
   },
   {
    "duration": 516,
    "start_time": "2021-12-18T16:03:45.534Z"
   },
   {
    "duration": 2171,
    "start_time": "2021-12-18T16:04:20.417Z"
   },
   {
    "duration": 7541,
    "start_time": "2021-12-18T16:04:46.433Z"
   },
   {
    "duration": 669,
    "start_time": "2021-12-18T16:05:21.895Z"
   },
   {
    "duration": 690,
    "start_time": "2021-12-18T16:06:02.463Z"
   },
   {
    "duration": 1136,
    "start_time": "2021-12-19T09:13:13.055Z"
   },
   {
    "duration": 8,
    "start_time": "2021-12-19T09:13:14.193Z"
   },
   {
    "duration": 466,
    "start_time": "2021-12-19T09:13:14.203Z"
   },
   {
    "duration": 35,
    "start_time": "2021-12-19T09:13:14.671Z"
   },
   {
    "duration": 13,
    "start_time": "2021-12-19T09:13:14.708Z"
   },
   {
    "duration": 7,
    "start_time": "2021-12-19T09:13:14.723Z"
   },
   {
    "duration": 19,
    "start_time": "2021-12-19T09:13:14.732Z"
   },
   {
    "duration": 41,
    "start_time": "2021-12-19T09:13:14.753Z"
   },
   {
    "duration": 8,
    "start_time": "2021-12-19T09:13:14.796Z"
   },
   {
    "duration": 10,
    "start_time": "2021-12-19T09:13:14.806Z"
   },
   {
    "duration": 23,
    "start_time": "2021-12-19T09:13:14.817Z"
   },
   {
    "duration": 14,
    "start_time": "2021-12-19T09:13:14.841Z"
   },
   {
    "duration": 7,
    "start_time": "2021-12-19T09:13:14.857Z"
   },
   {
    "duration": 27,
    "start_time": "2021-12-19T09:13:14.866Z"
   },
   {
    "duration": 11,
    "start_time": "2021-12-19T09:13:14.894Z"
   },
   {
    "duration": 8,
    "start_time": "2021-12-19T09:13:14.907Z"
   },
   {
    "duration": 8,
    "start_time": "2021-12-19T09:13:14.916Z"
   },
   {
    "duration": 6,
    "start_time": "2021-12-19T09:13:14.926Z"
   },
   {
    "duration": 11,
    "start_time": "2021-12-19T09:13:14.934Z"
   },
   {
    "duration": 46,
    "start_time": "2021-12-19T09:13:14.946Z"
   },
   {
    "duration": 11,
    "start_time": "2021-12-19T09:13:14.993Z"
   },
   {
    "duration": 75,
    "start_time": "2021-12-19T09:13:15.006Z"
   },
   {
    "duration": 46,
    "start_time": "2021-12-19T09:13:15.090Z"
   },
   {
    "duration": 16,
    "start_time": "2021-12-19T09:13:15.138Z"
   },
   {
    "duration": 16,
    "start_time": "2021-12-19T09:13:15.155Z"
   },
   {
    "duration": 21,
    "start_time": "2021-12-19T09:13:15.188Z"
   },
   {
    "duration": 12,
    "start_time": "2021-12-19T09:13:15.210Z"
   },
   {
    "duration": 10,
    "start_time": "2021-12-19T09:13:15.224Z"
   },
   {
    "duration": 17,
    "start_time": "2021-12-19T09:13:15.235Z"
   },
   {
    "duration": 208,
    "start_time": "2021-12-19T09:13:15.253Z"
   },
   {
    "duration": 140,
    "start_time": "2021-12-19T09:13:15.462Z"
   },
   {
    "duration": 8,
    "start_time": "2021-12-19T09:13:15.604Z"
   },
   {
    "duration": 13,
    "start_time": "2021-12-19T09:13:15.614Z"
   },
   {
    "duration": 12,
    "start_time": "2021-12-19T09:13:15.628Z"
   },
   {
    "duration": 48,
    "start_time": "2021-12-19T09:13:15.641Z"
   },
   {
    "duration": 13,
    "start_time": "2021-12-19T09:13:15.690Z"
   },
   {
    "duration": 16,
    "start_time": "2021-12-19T09:13:15.705Z"
   },
   {
    "duration": 7,
    "start_time": "2021-12-19T09:13:15.723Z"
   },
   {
    "duration": 21,
    "start_time": "2021-12-19T09:13:15.731Z"
   },
   {
    "duration": 35,
    "start_time": "2021-12-19T09:13:15.754Z"
   },
   {
    "duration": 16,
    "start_time": "2021-12-19T09:13:15.791Z"
   },
   {
    "duration": 2294,
    "start_time": "2021-12-19T09:13:15.808Z"
   },
   {
    "duration": 2286,
    "start_time": "2021-12-19T09:13:18.104Z"
   },
   {
    "duration": 2238,
    "start_time": "2021-12-19T09:13:20.392Z"
   },
   {
    "duration": 1319,
    "start_time": "2021-12-19T09:13:22.632Z"
   },
   {
    "duration": 4,
    "start_time": "2021-12-19T09:13:23.952Z"
   },
   {
    "duration": 31,
    "start_time": "2021-12-19T09:13:23.957Z"
   },
   {
    "duration": 3,
    "start_time": "2021-12-19T09:13:23.990Z"
   },
   {
    "duration": 294,
    "start_time": "2021-12-19T09:13:23.995Z"
   },
   {
    "duration": 3,
    "start_time": "2021-12-19T09:13:24.291Z"
   },
   {
    "duration": 742,
    "start_time": "2021-12-19T09:13:24.295Z"
   },
   {
    "duration": -215,
    "start_time": "2021-12-19T09:13:25.253Z"
   },
   {
    "duration": -229,
    "start_time": "2021-12-19T09:13:25.268Z"
   },
   {
    "duration": -234,
    "start_time": "2021-12-19T09:13:25.274Z"
   },
   {
    "duration": -235,
    "start_time": "2021-12-19T09:13:25.276Z"
   },
   {
    "duration": -240,
    "start_time": "2021-12-19T09:13:25.282Z"
   },
   {
    "duration": -241,
    "start_time": "2021-12-19T09:13:25.284Z"
   },
   {
    "duration": -246,
    "start_time": "2021-12-19T09:13:25.290Z"
   },
   {
    "duration": -248,
    "start_time": "2021-12-19T09:13:25.293Z"
   },
   {
    "duration": -253,
    "start_time": "2021-12-19T09:13:25.299Z"
   },
   {
    "duration": -254,
    "start_time": "2021-12-19T09:13:25.301Z"
   },
   {
    "duration": 95,
    "start_time": "2021-12-19T09:35:35.281Z"
   },
   {
    "duration": 31,
    "start_time": "2021-12-19T09:35:42.026Z"
   },
   {
    "duration": 8,
    "start_time": "2021-12-19T09:36:55.236Z"
   },
   {
    "duration": 8,
    "start_time": "2021-12-19T09:37:01.190Z"
   },
   {
    "duration": 4,
    "start_time": "2021-12-19T09:37:47.071Z"
   },
   {
    "duration": 332,
    "start_time": "2021-12-19T09:37:48.368Z"
   },
   {
    "duration": 6,
    "start_time": "2021-12-19T09:37:50.662Z"
   },
   {
    "duration": 455,
    "start_time": "2021-12-19T09:37:51.848Z"
   },
   {
    "duration": 16,
    "start_time": "2021-12-19T09:37:58.599Z"
   },
   {
    "duration": 10,
    "start_time": "2021-12-19T09:39:18.833Z"
   },
   {
    "duration": 34,
    "start_time": "2021-12-19T09:39:24.415Z"
   },
   {
    "duration": 11,
    "start_time": "2021-12-19T09:39:29.910Z"
   },
   {
    "duration": 33,
    "start_time": "2021-12-19T09:39:33.052Z"
   },
   {
    "duration": 310,
    "start_time": "2021-12-19T09:59:48.009Z"
   },
   {
    "duration": 1183,
    "start_time": "2021-12-19T10:03:07.491Z"
   },
   {
    "duration": 5,
    "start_time": "2021-12-19T10:03:08.676Z"
   },
   {
    "duration": 493,
    "start_time": "2021-12-19T10:03:09.353Z"
   },
   {
    "duration": 29,
    "start_time": "2021-12-19T10:03:09.865Z"
   },
   {
    "duration": 13,
    "start_time": "2021-12-19T10:03:11.471Z"
   },
   {
    "duration": 8,
    "start_time": "2021-12-19T10:03:12.217Z"
   },
   {
    "duration": 19,
    "start_time": "2021-12-19T10:03:12.917Z"
   },
   {
    "duration": 17,
    "start_time": "2021-12-19T10:03:15.178Z"
   },
   {
    "duration": 17,
    "start_time": "2021-12-19T10:03:16.172Z"
   },
   {
    "duration": 9,
    "start_time": "2021-12-19T10:03:16.820Z"
   },
   {
    "duration": 13,
    "start_time": "2021-12-19T10:03:17.392Z"
   },
   {
    "duration": 16,
    "start_time": "2021-12-19T10:03:18.731Z"
   },
   {
    "duration": 10,
    "start_time": "2021-12-19T10:03:20.171Z"
   },
   {
    "duration": 9,
    "start_time": "2021-12-19T10:03:20.921Z"
   },
   {
    "duration": 17,
    "start_time": "2021-12-19T10:03:21.577Z"
   },
   {
    "duration": 8,
    "start_time": "2021-12-19T10:03:22.852Z"
   },
   {
    "duration": 10,
    "start_time": "2021-12-19T10:03:24.141Z"
   },
   {
    "duration": 6,
    "start_time": "2021-12-19T10:03:25.435Z"
   },
   {
    "duration": 12,
    "start_time": "2021-12-19T10:03:26.822Z"
   },
   {
    "duration": 14,
    "start_time": "2021-12-19T10:03:27.488Z"
   },
   {
    "duration": 14,
    "start_time": "2021-12-19T10:03:28.120Z"
   },
   {
    "duration": 70,
    "start_time": "2021-12-19T10:03:32.589Z"
   },
   {
    "duration": 49,
    "start_time": "2021-12-19T10:03:33.098Z"
   },
   {
    "duration": 23,
    "start_time": "2021-12-19T10:03:34.968Z"
   },
   {
    "duration": 31,
    "start_time": "2021-12-19T10:03:35.500Z"
   },
   {
    "duration": 22,
    "start_time": "2021-12-19T10:09:51.823Z"
   },
   {
    "duration": 16,
    "start_time": "2021-12-19T10:09:55.487Z"
   },
   {
    "duration": 15,
    "start_time": "2021-12-19T10:09:57.402Z"
   },
   {
    "duration": 23,
    "start_time": "2021-12-19T10:09:58.412Z"
   },
   {
    "duration": 191,
    "start_time": "2021-12-19T10:10:34.575Z"
   },
   {
    "duration": 263,
    "start_time": "2021-12-19T10:10:35.653Z"
   },
   {
    "duration": 14,
    "start_time": "2021-12-19T10:10:39.448Z"
   },
   {
    "duration": 22,
    "start_time": "2021-12-19T10:10:40.866Z"
   },
   {
    "duration": 16,
    "start_time": "2021-12-19T10:10:41.997Z"
   },
   {
    "duration": 53,
    "start_time": "2021-12-19T10:10:43.559Z"
   },
   {
    "duration": 20,
    "start_time": "2021-12-19T10:10:44.863Z"
   },
   {
    "duration": 30,
    "start_time": "2021-12-19T10:10:51.856Z"
   },
   {
    "duration": 9,
    "start_time": "2021-12-19T10:10:52.325Z"
   },
   {
    "duration": 24,
    "start_time": "2021-12-19T10:10:52.885Z"
   },
   {
    "duration": 9,
    "start_time": "2021-12-19T10:10:53.528Z"
   },
   {
    "duration": 25,
    "start_time": "2021-12-19T10:10:54.128Z"
   },
   {
    "duration": 3313,
    "start_time": "2021-12-19T10:11:01.992Z"
   },
   {
    "duration": 3196,
    "start_time": "2021-12-19T10:11:05.308Z"
   },
   {
    "duration": 3101,
    "start_time": "2021-12-19T10:11:08.507Z"
   },
   {
    "duration": 1716,
    "start_time": "2021-12-19T10:11:11.610Z"
   },
   {
    "duration": 5,
    "start_time": "2021-12-19T10:11:13.328Z"
   },
   {
    "duration": 40,
    "start_time": "2021-12-19T10:11:13.336Z"
   },
   {
    "duration": 4,
    "start_time": "2021-12-19T10:11:40.412Z"
   },
   {
    "duration": 327,
    "start_time": "2021-12-19T10:11:42.059Z"
   },
   {
    "duration": 3,
    "start_time": "2021-12-19T10:12:50.601Z"
   },
   {
    "duration": 5281,
    "start_time": "2021-12-19T10:12:51.852Z"
   }
  ],
  "kernelspec": {
   "display_name": "Python 3",
   "language": "python",
   "name": "python3"
  },
  "language_info": {
   "codemirror_mode": {
    "name": "ipython",
    "version": 3
   },
   "file_extension": ".py",
   "mimetype": "text/x-python",
   "name": "python",
   "nbconvert_exporter": "python",
   "pygments_lexer": "ipython3",
   "version": "3.8.8"
  },
  "toc": {
   "base_numbering": 1,
   "nav_menu": {},
   "number_sections": true,
   "sideBar": true,
   "skip_h1_title": true,
   "title_cell": "Table of Contents",
   "title_sidebar": "Contents",
   "toc_cell": false,
   "toc_position": {},
   "toc_section_display": true,
   "toc_window_display": false
  }
 },
 "nbformat": 4,
 "nbformat_minor": 2
}
