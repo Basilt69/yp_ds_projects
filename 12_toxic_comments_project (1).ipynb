{
  "cells": [
    {
      "cell_type": "code",
      "execution_count": null,
      "metadata": {
        "colab": {
          "base_uri": "https://localhost:8080/"
        },
        "id": "Cx5G8L5CJ6H_",
        "outputId": "b07f1965-160a-48f0-816c-c185bf8d2f39"
      },
      "outputs": [
        {
          "output_type": "stream",
          "name": "stdout",
          "text": [
            "Requirement already satisfied: spacy in /usr/local/lib/python3.7/dist-packages (2.2.4)\n",
            "Requirement already satisfied: setuptools in /usr/local/lib/python3.7/dist-packages (from spacy) (57.4.0)\n",
            "Requirement already satisfied: cymem<2.1.0,>=2.0.2 in /usr/local/lib/python3.7/dist-packages (from spacy) (2.0.6)\n",
            "Requirement already satisfied: thinc==7.4.0 in /usr/local/lib/python3.7/dist-packages (from spacy) (7.4.0)\n",
            "Requirement already satisfied: blis<0.5.0,>=0.4.0 in /usr/local/lib/python3.7/dist-packages (from spacy) (0.4.1)\n",
            "Requirement already satisfied: murmurhash<1.1.0,>=0.28.0 in /usr/local/lib/python3.7/dist-packages (from spacy) (1.0.6)\n",
            "Requirement already satisfied: srsly<1.1.0,>=1.0.2 in /usr/local/lib/python3.7/dist-packages (from spacy) (1.0.5)\n",
            "Requirement already satisfied: tqdm<5.0.0,>=4.38.0 in /usr/local/lib/python3.7/dist-packages (from spacy) (4.64.0)\n",
            "Requirement already satisfied: numpy>=1.15.0 in /usr/local/lib/python3.7/dist-packages (from spacy) (1.21.6)\n",
            "Requirement already satisfied: wasabi<1.1.0,>=0.4.0 in /usr/local/lib/python3.7/dist-packages (from spacy) (0.9.1)\n",
            "Requirement already satisfied: requests<3.0.0,>=2.13.0 in /usr/local/lib/python3.7/dist-packages (from spacy) (2.23.0)\n",
            "Requirement already satisfied: catalogue<1.1.0,>=0.0.7 in /usr/local/lib/python3.7/dist-packages (from spacy) (1.0.0)\n",
            "Requirement already satisfied: preshed<3.1.0,>=3.0.2 in /usr/local/lib/python3.7/dist-packages (from spacy) (3.0.6)\n",
            "Requirement already satisfied: plac<1.2.0,>=0.9.6 in /usr/local/lib/python3.7/dist-packages (from spacy) (1.1.3)\n",
            "Requirement already satisfied: importlib-metadata>=0.20 in /usr/local/lib/python3.7/dist-packages (from catalogue<1.1.0,>=0.0.7->spacy) (4.11.3)\n",
            "Requirement already satisfied: typing-extensions>=3.6.4 in /usr/local/lib/python3.7/dist-packages (from importlib-metadata>=0.20->catalogue<1.1.0,>=0.0.7->spacy) (4.2.0)\n",
            "Requirement already satisfied: zipp>=0.5 in /usr/local/lib/python3.7/dist-packages (from importlib-metadata>=0.20->catalogue<1.1.0,>=0.0.7->spacy) (3.8.0)\n",
            "Requirement already satisfied: chardet<4,>=3.0.2 in /usr/local/lib/python3.7/dist-packages (from requests<3.0.0,>=2.13.0->spacy) (3.0.4)\n",
            "Requirement already satisfied: certifi>=2017.4.17 in /usr/local/lib/python3.7/dist-packages (from requests<3.0.0,>=2.13.0->spacy) (2021.10.8)\n",
            "Requirement already satisfied: urllib3!=1.25.0,!=1.25.1,<1.26,>=1.21.1 in /usr/local/lib/python3.7/dist-packages (from requests<3.0.0,>=2.13.0->spacy) (1.24.3)\n",
            "Requirement already satisfied: idna<3,>=2.5 in /usr/local/lib/python3.7/dist-packages (from requests<3.0.0,>=2.13.0->spacy) (2.10)\n"
          ]
        }
      ],
      "source": [
        "pip install spacy"
      ]
    },
    {
      "cell_type": "code",
      "execution_count": null,
      "metadata": {
        "colab": {
          "base_uri": "https://localhost:8080/"
        },
        "id": "Cuvl8ZCQKHwX",
        "outputId": "58f13762-747a-49ce-f5d8-87d2c384aee8"
      },
      "outputs": [
        {
          "output_type": "stream",
          "name": "stdout",
          "text": [
            "Collecting catboost\n",
            "  Downloading catboost-1.0.5-cp37-none-manylinux1_x86_64.whl (76.6 MB)\n",
            "\u001b[K     |████████████████████████████████| 76.6 MB 1.2 MB/s \n",
            "\u001b[?25hRequirement already satisfied: matplotlib in /usr/local/lib/python3.7/dist-packages (from catboost) (3.2.2)\n",
            "Requirement already satisfied: scipy in /usr/local/lib/python3.7/dist-packages (from catboost) (1.4.1)\n",
            "Requirement already satisfied: graphviz in /usr/local/lib/python3.7/dist-packages (from catboost) (0.10.1)\n",
            "Requirement already satisfied: plotly in /usr/local/lib/python3.7/dist-packages (from catboost) (5.5.0)\n",
            "Requirement already satisfied: pandas>=0.24.0 in /usr/local/lib/python3.7/dist-packages (from catboost) (1.3.5)\n",
            "Requirement already satisfied: six in /usr/local/lib/python3.7/dist-packages (from catboost) (1.15.0)\n",
            "Requirement already satisfied: numpy>=1.16.0 in /usr/local/lib/python3.7/dist-packages (from catboost) (1.21.6)\n",
            "Requirement already satisfied: python-dateutil>=2.7.3 in /usr/local/lib/python3.7/dist-packages (from pandas>=0.24.0->catboost) (2.8.2)\n",
            "Requirement already satisfied: pytz>=2017.3 in /usr/local/lib/python3.7/dist-packages (from pandas>=0.24.0->catboost) (2022.1)\n",
            "Requirement already satisfied: kiwisolver>=1.0.1 in /usr/local/lib/python3.7/dist-packages (from matplotlib->catboost) (1.4.2)\n",
            "Requirement already satisfied: pyparsing!=2.0.4,!=2.1.2,!=2.1.6,>=2.0.1 in /usr/local/lib/python3.7/dist-packages (from matplotlib->catboost) (3.0.8)\n",
            "Requirement already satisfied: cycler>=0.10 in /usr/local/lib/python3.7/dist-packages (from matplotlib->catboost) (0.11.0)\n",
            "Requirement already satisfied: typing-extensions in /usr/local/lib/python3.7/dist-packages (from kiwisolver>=1.0.1->matplotlib->catboost) (4.2.0)\n",
            "Requirement already satisfied: tenacity>=6.2.0 in /usr/local/lib/python3.7/dist-packages (from plotly->catboost) (8.0.1)\n",
            "Installing collected packages: catboost\n",
            "Successfully installed catboost-1.0.5\n"
          ]
        }
      ],
      "source": [
        "pip install catboost"
      ]
    },
    {
      "cell_type": "markdown",
      "metadata": {
        "id": "9hKvAu6BJ6IE"
      },
      "source": [
        "# Project for \"Wikishop\""
      ]
    },
    {
      "cell_type": "markdown",
      "metadata": {
        "id": "kErdYipqJ6IG"
      },
      "source": [
        "Wikishop online store launches a new service. Now users can edit and supplement product descriptions, as in wiki communities. That is, clients offer their edits and comment on the changes of others. The store needs a tool that will search for toxic comments and send them for moderation.\n",
        "\n",
        "**Data description**\n",
        "\n",
        "The data is in the file 'toxic_comments.csv'. The *text* column in it contains the comment text, and *toxic* is the target attribute.\n",
        "\n",
        "<h1>Table of contents<span class=\"tocSkip\"></span></h1>\n",
        "\n",
        "<div class=\"toc\"><ul class=\"toc-item\"><li><span><a href=\"#Preprocessing\" data-toc-modified-id=\"Подготовка-1\"><span class=\"toc-item-num\">1&nbsp;&nbsp;</span>Preprocessing</a></span></li><li><span><a href=\"#Train\" data-toc-modified-id=\"Обучение-2\"><span class=\"toc-item-num\">2&nbsp;&nbsp;</span>Training</a></span></li><li><span><a href=\"#Conclusions\" data-toc-modified-id=\"Выводы-3\"><span class=\"toc-item-num\">3&nbsp;&nbsp;</span>Testing</a></span></li></ul></div>"
      ]
    },
    {
      "cell_type": "markdown",
      "metadata": {
        "id": "C0rxDGyEJ6IH"
      },
      "source": [
        "## 1. Preprocessing"
      ]
    },
    {
      "cell_type": "code",
      "execution_count": null,
      "metadata": {
        "id": "1Zo2j5qpJ6II"
      },
      "outputs": [],
      "source": [
        "import re\n",
        "import pandas as pd\n",
        "import numpy as np\n",
        "import nltk\n",
        "import warnings\n",
        "import spacy\n",
        "import matplotlib.pyplot as plt\n",
        "\n",
        "\n",
        "from nltk.corpus import stopwords as nltk_stopwords\n",
        "from sklearn.feature_extraction.text import TfidfVectorizer\n",
        "from sklearn.model_selection import train_test_split, cross_val_score, GridSearchCV\n",
        "from sklearn.linear_model import LogisticRegression, SGDClassifier\n",
        "from sklearn.tree import DecisionTreeClassifier\n",
        "from catboost import CatBoostClassifier\n",
        "from sklearn.metrics import f1_score, precision_score, recall_score, roc_auc_score, roc_curve, accuracy_score\n",
        "from sklearn.utils import shuffle\n",
        "\n",
        "warnings.filterwarnings('ignore')"
      ]
    },
    {
      "cell_type": "code",
      "execution_count": null,
      "metadata": {
        "colab": {
          "base_uri": "https://localhost:8080/"
        },
        "id": "gGdv4HzWJ6IJ",
        "outputId": "bee7e8b1-d22f-4219-9416-b3ce9bb490be"
      },
      "outputs": [
        {
          "output_type": "stream",
          "name": "stdout",
          "text": [
            "<class 'pandas.core.frame.DataFrame'>\n",
            "RangeIndex: 159571 entries, 0 to 159570\n",
            "Data columns (total 2 columns):\n",
            " #   Column  Non-Null Count   Dtype \n",
            "---  ------  --------------   ----- \n",
            " 0   text    159571 non-null  object\n",
            " 1   toxic   159571 non-null  int64 \n",
            "dtypes: int64(1), object(1)\n",
            "memory usage: 2.4+ MB\n"
          ]
        }
      ],
      "source": [
        "df = pd.read_csv('toxic_comments.csv')\n",
        "df.info()"
      ]
    },
    {
      "cell_type": "code",
      "execution_count": null,
      "metadata": {
        "colab": {
          "base_uri": "https://localhost:8080/",
          "height": 206
        },
        "id": "s3rNThwYJ6IK",
        "outputId": "b4e4b23e-8d69-4ac5-c02d-dd25aa48b97e"
      },
      "outputs": [
        {
          "output_type": "execute_result",
          "data": {
            "text/plain": [
              "                                                text  toxic\n",
              "0  Explanation\\nWhy the edits made under my usern...      0\n",
              "1  D'aww! He matches this background colour I'm s...      0\n",
              "2  Hey man, I'm really not trying to edit war. It...      0\n",
              "3  \"\\nMore\\nI can't make any real suggestions on ...      0\n",
              "4  You, sir, are my hero. Any chance you remember...      0"
            ],
            "text/html": [
              "\n",
              "  <div id=\"df-152e5a6c-1b03-4480-aa4a-0f570004c0ab\">\n",
              "    <div class=\"colab-df-container\">\n",
              "      <div>\n",
              "<style scoped>\n",
              "    .dataframe tbody tr th:only-of-type {\n",
              "        vertical-align: middle;\n",
              "    }\n",
              "\n",
              "    .dataframe tbody tr th {\n",
              "        vertical-align: top;\n",
              "    }\n",
              "\n",
              "    .dataframe thead th {\n",
              "        text-align: right;\n",
              "    }\n",
              "</style>\n",
              "<table border=\"1\" class=\"dataframe\">\n",
              "  <thead>\n",
              "    <tr style=\"text-align: right;\">\n",
              "      <th></th>\n",
              "      <th>text</th>\n",
              "      <th>toxic</th>\n",
              "    </tr>\n",
              "  </thead>\n",
              "  <tbody>\n",
              "    <tr>\n",
              "      <th>0</th>\n",
              "      <td>Explanation\\nWhy the edits made under my usern...</td>\n",
              "      <td>0</td>\n",
              "    </tr>\n",
              "    <tr>\n",
              "      <th>1</th>\n",
              "      <td>D'aww! He matches this background colour I'm s...</td>\n",
              "      <td>0</td>\n",
              "    </tr>\n",
              "    <tr>\n",
              "      <th>2</th>\n",
              "      <td>Hey man, I'm really not trying to edit war. It...</td>\n",
              "      <td>0</td>\n",
              "    </tr>\n",
              "    <tr>\n",
              "      <th>3</th>\n",
              "      <td>\"\\nMore\\nI can't make any real suggestions on ...</td>\n",
              "      <td>0</td>\n",
              "    </tr>\n",
              "    <tr>\n",
              "      <th>4</th>\n",
              "      <td>You, sir, are my hero. Any chance you remember...</td>\n",
              "      <td>0</td>\n",
              "    </tr>\n",
              "  </tbody>\n",
              "</table>\n",
              "</div>\n",
              "      <button class=\"colab-df-convert\" onclick=\"convertToInteractive('df-152e5a6c-1b03-4480-aa4a-0f570004c0ab')\"\n",
              "              title=\"Convert this dataframe to an interactive table.\"\n",
              "              style=\"display:none;\">\n",
              "        \n",
              "  <svg xmlns=\"http://www.w3.org/2000/svg\" height=\"24px\"viewBox=\"0 0 24 24\"\n",
              "       width=\"24px\">\n",
              "    <path d=\"M0 0h24v24H0V0z\" fill=\"none\"/>\n",
              "    <path d=\"M18.56 5.44l.94 2.06.94-2.06 2.06-.94-2.06-.94-.94-2.06-.94 2.06-2.06.94zm-11 1L8.5 8.5l.94-2.06 2.06-.94-2.06-.94L8.5 2.5l-.94 2.06-2.06.94zm10 10l.94 2.06.94-2.06 2.06-.94-2.06-.94-.94-2.06-.94 2.06-2.06.94z\"/><path d=\"M17.41 7.96l-1.37-1.37c-.4-.4-.92-.59-1.43-.59-.52 0-1.04.2-1.43.59L10.3 9.45l-7.72 7.72c-.78.78-.78 2.05 0 2.83L4 21.41c.39.39.9.59 1.41.59.51 0 1.02-.2 1.41-.59l7.78-7.78 2.81-2.81c.8-.78.8-2.07 0-2.86zM5.41 20L4 18.59l7.72-7.72 1.47 1.35L5.41 20z\"/>\n",
              "  </svg>\n",
              "      </button>\n",
              "      \n",
              "  <style>\n",
              "    .colab-df-container {\n",
              "      display:flex;\n",
              "      flex-wrap:wrap;\n",
              "      gap: 12px;\n",
              "    }\n",
              "\n",
              "    .colab-df-convert {\n",
              "      background-color: #E8F0FE;\n",
              "      border: none;\n",
              "      border-radius: 50%;\n",
              "      cursor: pointer;\n",
              "      display: none;\n",
              "      fill: #1967D2;\n",
              "      height: 32px;\n",
              "      padding: 0 0 0 0;\n",
              "      width: 32px;\n",
              "    }\n",
              "\n",
              "    .colab-df-convert:hover {\n",
              "      background-color: #E2EBFA;\n",
              "      box-shadow: 0px 1px 2px rgba(60, 64, 67, 0.3), 0px 1px 3px 1px rgba(60, 64, 67, 0.15);\n",
              "      fill: #174EA6;\n",
              "    }\n",
              "\n",
              "    [theme=dark] .colab-df-convert {\n",
              "      background-color: #3B4455;\n",
              "      fill: #D2E3FC;\n",
              "    }\n",
              "\n",
              "    [theme=dark] .colab-df-convert:hover {\n",
              "      background-color: #434B5C;\n",
              "      box-shadow: 0px 1px 3px 1px rgba(0, 0, 0, 0.15);\n",
              "      filter: drop-shadow(0px 1px 2px rgba(0, 0, 0, 0.3));\n",
              "      fill: #FFFFFF;\n",
              "    }\n",
              "  </style>\n",
              "\n",
              "      <script>\n",
              "        const buttonEl =\n",
              "          document.querySelector('#df-152e5a6c-1b03-4480-aa4a-0f570004c0ab button.colab-df-convert');\n",
              "        buttonEl.style.display =\n",
              "          google.colab.kernel.accessAllowed ? 'block' : 'none';\n",
              "\n",
              "        async function convertToInteractive(key) {\n",
              "          const element = document.querySelector('#df-152e5a6c-1b03-4480-aa4a-0f570004c0ab');\n",
              "          const dataTable =\n",
              "            await google.colab.kernel.invokeFunction('convertToInteractive',\n",
              "                                                     [key], {});\n",
              "          if (!dataTable) return;\n",
              "\n",
              "          const docLinkHtml = 'Like what you see? Visit the ' +\n",
              "            '<a target=\"_blank\" href=https://colab.research.google.com/notebooks/data_table.ipynb>data table notebook</a>'\n",
              "            + ' to learn more about interactive tables.';\n",
              "          element.innerHTML = '';\n",
              "          dataTable['output_type'] = 'display_data';\n",
              "          await google.colab.output.renderOutput(dataTable, element);\n",
              "          const docLink = document.createElement('div');\n",
              "          docLink.innerHTML = docLinkHtml;\n",
              "          element.appendChild(docLink);\n",
              "        }\n",
              "      </script>\n",
              "    </div>\n",
              "  </div>\n",
              "  "
            ]
          },
          "metadata": {},
          "execution_count": 50
        }
      ],
      "source": [
        "df.head()"
      ]
    },
    {
      "cell_type": "code",
      "execution_count": null,
      "metadata": {
        "colab": {
          "base_uri": "https://localhost:8080/"
        },
        "id": "9U6-oc3FJ6IL",
        "outputId": "0f075b3b-2b05-4f6e-8877-f27a28bcc351"
      },
      "outputs": [
        {
          "output_type": "execute_result",
          "data": {
            "text/plain": [
              "text     0\n",
              "toxic    0\n",
              "dtype: int64"
            ]
          },
          "metadata": {},
          "execution_count": 51
        }
      ],
      "source": [
        "df.isna().sum()"
      ]
    },
    {
      "cell_type": "code",
      "execution_count": null,
      "metadata": {
        "colab": {
          "base_uri": "https://localhost:8080/"
        },
        "id": "Up21-9QEK-Gv",
        "outputId": "3c6219d3-a564-4c73-b0e1-4e36035f9c6c"
      },
      "outputs": [
        {
          "output_type": "execute_result",
          "data": {
            "text/plain": [
              "0"
            ]
          },
          "metadata": {},
          "execution_count": 52
        }
      ],
      "source": [
        "df['text'].duplicated().sum()"
      ]
    },
    {
      "cell_type": "code",
      "execution_count": null,
      "metadata": {
        "colab": {
          "base_uri": "https://localhost:8080/"
        },
        "id": "_w0-SE7AJ6IN",
        "outputId": "73b7a4f8-7df5-4610-b7f6-91766bd6b7c7"
      },
      "outputs": [
        {
          "output_type": "stream",
          "name": "stdout",
          "text": [
            "Toxic comments are 10.17 %\n",
            "Non-toxic comments vs. toxic 8.83 : 1\n"
          ]
        }
      ],
      "source": [
        "df.toxic.value_counts()\n",
        "class_ratio = df['toxic'].value_counts()[0] / df['toxic'].value_counts()[1]\n",
        "print('Toxic comments are {:2.2f} %'.format(df['toxic'].value_counts()[1] / len(df) * 100))\n",
        "print('Non-toxic comments vs. toxic {:2.2f} : 1'.format(class_ratio))"
      ]
    },
    {
      "cell_type": "code",
      "execution_count": null,
      "metadata": {
        "colab": {
          "base_uri": "https://localhost:8080/"
        },
        "id": "2Gbnd7xBMkDq",
        "outputId": "82894f27-191d-4c11-831d-d0e5713c926d"
      },
      "outputs": [
        {
          "output_type": "execute_result",
          "data": {
            "text/plain": [
              "(159571, 2)"
            ]
          },
          "metadata": {},
          "execution_count": 54
        }
      ],
      "source": [
        "df.shape"
      ]
    },
    {
      "cell_type": "markdown",
      "metadata": {
        "id": "4xA7ivw2J6IO"
      },
      "source": [
        "There is an imbalance of classes. To balance classes, consider the following methods:\n",
        "\n",
        "1. Changing weights in a machine learning model;\n",
        "\n",
        "2. Resampling with class 0 reduction.\n",
        "\n",
        "Due to the large amount of data, we will refuse to resample with an increase in class 1.\n",
        "\n",
        "We will prepare the signs for further training."
      ]
    },
    {
      "cell_type": "code",
      "execution_count": null,
      "metadata": {
        "colab": {
          "base_uri": "https://localhost:8080/"
        },
        "id": "fCUnxUkONzgK",
        "outputId": "cf2fe679-3443-4d7e-9f0d-5054942e6a6f"
      },
      "outputs": [
        {
          "output_type": "stream",
          "name": "stdout",
          "text": [
            "CPU times: user 14min 49s, sys: 6.2 s, total: 14min 55s\n",
            "Wall time: 14min 56s\n"
          ]
        }
      ],
      "source": [
        "%%time\n",
        "\n",
        "nlp = spacy.load('en', disable=['parser', 'ner'])\n",
        "\n",
        "def lemmatize_text(text):\n",
        "  doc = nlp(text)\n",
        "  lemm_text = \" \".join([token.lemma_ for token in doc])\n",
        "  cleared_text = re.sub(r'[^a-zA-Z]', ' ', lemm_text)\n",
        "  return \" \".join(cleared_text.split())\n",
        "\n",
        "df['lemm_text'] = df['text'].apply(lemmatize_text)\n",
        "\n",
        "df = df.drop(['text'], axis=1)"
      ]
    },
    {
      "cell_type": "code",
      "execution_count": null,
      "metadata": {
        "colab": {
          "base_uri": "https://localhost:8080/",
          "height": 206
        },
        "id": "d3okCM0oR6-G",
        "outputId": "88a2627e-1b40-4670-c75c-ceb31e471d9c"
      },
      "outputs": [
        {
          "output_type": "execute_result",
          "data": {
            "text/plain": [
              "   toxic                                          lemm_text\n",
              "0      0  explanation why the edit make under PRON usern...\n",
              "1      0  d aww PRON match this background colour PRON b...\n",
              "2      0  hey man PRON be really not try to edit war PRO...\n",
              "3      0  More PRON can not make any real suggestion on ...\n",
              "4      0  PRON sir be PRON hero any chance PRON remember..."
            ],
            "text/html": [
              "\n",
              "  <div id=\"df-66790f19-177e-488e-b6d4-4c6a0697e70b\">\n",
              "    <div class=\"colab-df-container\">\n",
              "      <div>\n",
              "<style scoped>\n",
              "    .dataframe tbody tr th:only-of-type {\n",
              "        vertical-align: middle;\n",
              "    }\n",
              "\n",
              "    .dataframe tbody tr th {\n",
              "        vertical-align: top;\n",
              "    }\n",
              "\n",
              "    .dataframe thead th {\n",
              "        text-align: right;\n",
              "    }\n",
              "</style>\n",
              "<table border=\"1\" class=\"dataframe\">\n",
              "  <thead>\n",
              "    <tr style=\"text-align: right;\">\n",
              "      <th></th>\n",
              "      <th>toxic</th>\n",
              "      <th>lemm_text</th>\n",
              "    </tr>\n",
              "  </thead>\n",
              "  <tbody>\n",
              "    <tr>\n",
              "      <th>0</th>\n",
              "      <td>0</td>\n",
              "      <td>explanation why the edit make under PRON usern...</td>\n",
              "    </tr>\n",
              "    <tr>\n",
              "      <th>1</th>\n",
              "      <td>0</td>\n",
              "      <td>d aww PRON match this background colour PRON b...</td>\n",
              "    </tr>\n",
              "    <tr>\n",
              "      <th>2</th>\n",
              "      <td>0</td>\n",
              "      <td>hey man PRON be really not try to edit war PRO...</td>\n",
              "    </tr>\n",
              "    <tr>\n",
              "      <th>3</th>\n",
              "      <td>0</td>\n",
              "      <td>More PRON can not make any real suggestion on ...</td>\n",
              "    </tr>\n",
              "    <tr>\n",
              "      <th>4</th>\n",
              "      <td>0</td>\n",
              "      <td>PRON sir be PRON hero any chance PRON remember...</td>\n",
              "    </tr>\n",
              "  </tbody>\n",
              "</table>\n",
              "</div>\n",
              "      <button class=\"colab-df-convert\" onclick=\"convertToInteractive('df-66790f19-177e-488e-b6d4-4c6a0697e70b')\"\n",
              "              title=\"Convert this dataframe to an interactive table.\"\n",
              "              style=\"display:none;\">\n",
              "        \n",
              "  <svg xmlns=\"http://www.w3.org/2000/svg\" height=\"24px\"viewBox=\"0 0 24 24\"\n",
              "       width=\"24px\">\n",
              "    <path d=\"M0 0h24v24H0V0z\" fill=\"none\"/>\n",
              "    <path d=\"M18.56 5.44l.94 2.06.94-2.06 2.06-.94-2.06-.94-.94-2.06-.94 2.06-2.06.94zm-11 1L8.5 8.5l.94-2.06 2.06-.94-2.06-.94L8.5 2.5l-.94 2.06-2.06.94zm10 10l.94 2.06.94-2.06 2.06-.94-2.06-.94-.94-2.06-.94 2.06-2.06.94z\"/><path d=\"M17.41 7.96l-1.37-1.37c-.4-.4-.92-.59-1.43-.59-.52 0-1.04.2-1.43.59L10.3 9.45l-7.72 7.72c-.78.78-.78 2.05 0 2.83L4 21.41c.39.39.9.59 1.41.59.51 0 1.02-.2 1.41-.59l7.78-7.78 2.81-2.81c.8-.78.8-2.07 0-2.86zM5.41 20L4 18.59l7.72-7.72 1.47 1.35L5.41 20z\"/>\n",
              "  </svg>\n",
              "      </button>\n",
              "      \n",
              "  <style>\n",
              "    .colab-df-container {\n",
              "      display:flex;\n",
              "      flex-wrap:wrap;\n",
              "      gap: 12px;\n",
              "    }\n",
              "\n",
              "    .colab-df-convert {\n",
              "      background-color: #E8F0FE;\n",
              "      border: none;\n",
              "      border-radius: 50%;\n",
              "      cursor: pointer;\n",
              "      display: none;\n",
              "      fill: #1967D2;\n",
              "      height: 32px;\n",
              "      padding: 0 0 0 0;\n",
              "      width: 32px;\n",
              "    }\n",
              "\n",
              "    .colab-df-convert:hover {\n",
              "      background-color: #E2EBFA;\n",
              "      box-shadow: 0px 1px 2px rgba(60, 64, 67, 0.3), 0px 1px 3px 1px rgba(60, 64, 67, 0.15);\n",
              "      fill: #174EA6;\n",
              "    }\n",
              "\n",
              "    [theme=dark] .colab-df-convert {\n",
              "      background-color: #3B4455;\n",
              "      fill: #D2E3FC;\n",
              "    }\n",
              "\n",
              "    [theme=dark] .colab-df-convert:hover {\n",
              "      background-color: #434B5C;\n",
              "      box-shadow: 0px 1px 3px 1px rgba(0, 0, 0, 0.15);\n",
              "      filter: drop-shadow(0px 1px 2px rgba(0, 0, 0, 0.3));\n",
              "      fill: #FFFFFF;\n",
              "    }\n",
              "  </style>\n",
              "\n",
              "      <script>\n",
              "        const buttonEl =\n",
              "          document.querySelector('#df-66790f19-177e-488e-b6d4-4c6a0697e70b button.colab-df-convert');\n",
              "        buttonEl.style.display =\n",
              "          google.colab.kernel.accessAllowed ? 'block' : 'none';\n",
              "\n",
              "        async function convertToInteractive(key) {\n",
              "          const element = document.querySelector('#df-66790f19-177e-488e-b6d4-4c6a0697e70b');\n",
              "          const dataTable =\n",
              "            await google.colab.kernel.invokeFunction('convertToInteractive',\n",
              "                                                     [key], {});\n",
              "          if (!dataTable) return;\n",
              "\n",
              "          const docLinkHtml = 'Like what you see? Visit the ' +\n",
              "            '<a target=\"_blank\" href=https://colab.research.google.com/notebooks/data_table.ipynb>data table notebook</a>'\n",
              "            + ' to learn more about interactive tables.';\n",
              "          element.innerHTML = '';\n",
              "          dataTable['output_type'] = 'display_data';\n",
              "          await google.colab.output.renderOutput(dataTable, element);\n",
              "          const docLink = document.createElement('div');\n",
              "          docLink.innerHTML = docLinkHtml;\n",
              "          element.appendChild(docLink);\n",
              "        }\n",
              "      </script>\n",
              "    </div>\n",
              "  </div>\n",
              "  "
            ]
          },
          "metadata": {},
          "execution_count": 56
        }
      ],
      "source": [
        "df.head()"
      ]
    },
    {
      "cell_type": "code",
      "execution_count": null,
      "metadata": {
        "colab": {
          "base_uri": "https://localhost:8080/"
        },
        "id": "8WxwhCYTFDRU",
        "outputId": "4241489e-54ce-4d3e-d10e-3aaa06707cfa"
      },
      "outputs": [
        {
          "output_type": "execute_result",
          "data": {
            "text/plain": [
              "(159571, 2)"
            ]
          },
          "metadata": {},
          "execution_count": 57
        }
      ],
      "source": [
        "df.shape"
      ]
    },
    {
      "cell_type": "markdown",
      "metadata": {
        "id": "EsjTAbY3J6IP"
      },
      "source": [
        "Given the size of our data, we will split the sample in the proportion of 60:20:20."
      ]
    },
    {
      "cell_type": "code",
      "execution_count": null,
      "metadata": {
        "colab": {
          "base_uri": "https://localhost:8080/"
        },
        "id": "0JBrfs9mJ6IQ",
        "outputId": "592fce01-ccaf-4a26-f22a-63fd9ef63bd2"
      },
      "outputs": [
        {
          "output_type": "stream",
          "name": "stdout",
          "text": [
            "[nltk_data] Downloading package stopwords to /root/nltk_data...\n",
            "[nltk_data]   Unzipping corpora/stopwords.zip.\n",
            "(159571,)\n",
            "(159571, 158013)\n",
            "(95742, 158013)\n",
            "(31914, 158013)\n",
            "(31915, 158013)\n"
          ]
        }
      ],
      "source": [
        "# We will allocate training, validation and test samples in the proportion of 60:20:20\n",
        "target = df['toxic']\n",
        "features = df.drop(['toxic'], axis=1)\n",
        "\n",
        "# Let's check TF-IDF for sample attributes taking into account stopwords \n",
        "nltk.download('stopwords')\n",
        "stopwords = set(nltk_stopwords.words('english'))\n",
        "                                                                            \n",
        "\n",
        "count_tf_idf = TfidfVectorizer(stop_words=stopwords)\n",
        "features = count_tf_idf.fit_transform(features['lemm_text'].astype('U'))\n",
        "\n",
        "\n",
        "\n",
        "print(target.shape)\n",
        "print(features.shape)\n",
        "\n",
        "features_train, features_valid, target_train, target_valid = train_test_split(features, \n",
        "                                                                            target, \n",
        "                                                                            test_size=0.4,\n",
        "                                                                            random_state=69)\n",
        "features_valid,  features_test, target_valid, target_test = train_test_split(features_valid, target_valid, test_size=0.5,random_state=69)\n",
        " \n",
        "print(features_train.shape)\n",
        "print(features_valid.shape)\n",
        "print(features_test.shape)\n",
        "cv_counts=3"
      ]
    },
    {
      "cell_type": "code",
      "execution_count": null,
      "metadata": {
        "colab": {
          "base_uri": "https://localhost:8080/"
        },
        "id": "pfAa-9PhJ6IR",
        "outputId": "c3428f32-436e-40d2-b8ce-b9e8abaef53a"
      },
      "outputs": [
        {
          "output_type": "stream",
          "name": "stdout",
          "text": [
            "F1 on cross-validation using logistic regression: 0.6878456598692059\n",
            "CPU times: user 18.2 s, sys: 18.7 s, total: 36.9 s\n",
            "Wall time: 19.2 s\n"
          ]
        }
      ],
      "source": [
        "%%time \n",
        "\n",
        "log_model = LogisticRegression()\n",
        "train_f1 = cross_val_score(log_model,\n",
        "                           features_train,\n",
        "                           target_train,\n",
        "                           cv=cv_counts,\n",
        "                           scoring='f1').mean()\n",
        "\n",
        "print('F1 on cross-validation using logistic regression:', train_f1)"
      ]
    },
    {
      "cell_type": "markdown",
      "metadata": {
        "id": "Wdy0SW3qJ6IR"
      },
      "source": [
        "<div style=\"font-size: 20px\">\n",
        "    \n",
        "\n",
        "**1.1 Changing the balance of classes**"
      ]
    },
    {
      "cell_type": "markdown",
      "metadata": {
        "id": "J0rnWmyiJ6IS"
      },
      "source": [
        "<div style=\"font-size: 15px\">\n",
        "    \n",
        "\n",
        "**1.1.1 Changing class weights**"
      ]
    },
    {
      "cell_type": "code",
      "execution_count": null,
      "metadata": {
        "colab": {
          "base_uri": "https://localhost:8080/"
        },
        "id": "mGRcRPg0J6IS",
        "outputId": "c6e73396-e4ea-44bf-b046-2e7dc92ba60f"
      },
      "outputs": [
        {
          "output_type": "stream",
          "name": "stdout",
          "text": [
            "F1 on cross-validation with balanced classes 0.7508005183027824\n",
            "CPU times: user 20.7 s, sys: 21.9 s, total: 42.6 s\n",
            "Wall time: 22 s\n"
          ]
        }
      ],
      "source": [
        "%%time\n",
        "\n",
        "dict_classes = {0:1, 1:class_ratio}\n",
        "log_model_2 = LogisticRegression(class_weight=dict_classes)\n",
        "train_f1_balanced = cross_val_score(log_model_2,\n",
        "                                    features_train,\n",
        "                                    target_train,\n",
        "                                    cv=cv_counts,\n",
        "                                    scoring='f1').mean()\n",
        "print('F1 on cross-validation with balanced classes', train_f1_balanced)\n"
      ]
    },
    {
      "cell_type": "code",
      "execution_count": null,
      "metadata": {
        "colab": {
          "base_uri": "https://localhost:8080/"
        },
        "id": "PmQ0rfjvJ6IT",
        "outputId": "abd3a49b-3c6f-4cd2-fd3d-e3873aa428d8"
      },
      "outputs": [
        {
          "output_type": "stream",
          "name": "stdout",
          "text": [
            "F1 on cross-validation with balanced classes 0.7429775260514909\n",
            "CPU times: user 16.8 s, sys: 17.1 s, total: 33.9 s\n",
            "Wall time: 17.6 s\n"
          ]
        }
      ],
      "source": [
        "%%time\n",
        "\n",
        "log_model_3 = LogisticRegression(class_weight='balanced')\n",
        "train_f1_balanced = cross_val_score(log_model_3,\n",
        "                                    features_train,\n",
        "                                    target_train,\n",
        "                                    cv=cv_counts,\n",
        "                                    scoring='f1').mean()\n",
        "print('F1 on cross-validation with balanced classes', train_f1_balanced)"
      ]
    },
    {
      "cell_type": "markdown",
      "metadata": {
        "id": "JPFjIhb7J6IT"
      },
      "source": [
        "F1 метрика увеличилась. Встроенный метод повторяет значение F1."
      ]
    },
    {
      "cell_type": "markdown",
      "metadata": {
        "id": "BwJnbfjgJ6IU"
      },
      "source": [
        "<div style=\"font-size: 15px\">\n",
        "    \n",
        "\n",
        "**1.1.2 Resampling with class 0 reduction**"
      ]
    },
    {
      "cell_type": "markdown",
      "metadata": {
        "id": "DHDL5CLpJ6IU"
      },
      "source": [
        "Let's try to restore the balance of classes by making the number of entries with class 0 the same as with class 1."
      ]
    },
    {
      "cell_type": "code",
      "execution_count": null,
      "metadata": {
        "id": "XVx83SYiJ6IV"
      },
      "outputs": [],
      "source": [
        "toxic_comments_train = df.iloc[target_train.index]\n",
        "\n",
        "target_train_class_zero = toxic_comments_train[toxic_comments_train['toxic'] == 0]['toxic']\n",
        "target_train_class_one = toxic_comments_train[toxic_comments_train['toxic'] == 1]['toxic']"
      ]
    },
    {
      "cell_type": "code",
      "execution_count": null,
      "metadata": {
        "id": "mlBfWJ3wJ6IV"
      },
      "outputs": [],
      "source": [
        "target_train_class_zero_downsample = target_train_class_zero.sample(target_train_class_one.shape[0],\n",
        "                                                                    random_state=69)\n",
        "target_train_downsample = pd.concat([target_train_class_zero_downsample, target_train_class_one])\n",
        "\n",
        "features_train_downsample = df.iloc[target_train_downsample.index]\n",
        "features_train_downsample, target_train_downsample = shuffle(features_train_downsample, target_train_downsample, random_state=69)\n",
        "features_train_downsample = count_tf_idf.transform(features_train_downsample['lemm_text'].values.astype('U'))\n",
        "\n",
        "del count_tf_idf\n",
        "del stopwords"
      ]
    },
    {
      "cell_type": "code",
      "execution_count": null,
      "metadata": {
        "colab": {
          "base_uri": "https://localhost:8080/"
        },
        "id": "n6brTrVhJ6IV",
        "outputId": "73d82470-da82-4b26-be8d-ae11b4629a3e"
      },
      "outputs": [
        {
          "output_type": "stream",
          "name": "stdout",
          "text": [
            "F1 on cross-validation with decreasing classes 0.8783429819674095\n"
          ]
        }
      ],
      "source": [
        "log_model_4 = LogisticRegression()\n",
        "train_f1_downsampled = cross_val_score(log_model_4,\n",
        "                                       features_train_downsample,\n",
        "                                       target_train_downsample,\n",
        "                                       cv=cv_counts,\n",
        "                                       scoring='f1').mean()\n",
        "print('F1 on cross-validation with decreasing classes', train_f1_downsampled)"
      ]
    },
    {
      "cell_type": "markdown",
      "metadata": {
        "id": "-ZGpaI7IJ6IW"
      },
      "source": [
        "The increase in the metric is noticeable. Let's build ROC-AUC graphs and look at the table of balanced results."
      ]
    },
    {
      "cell_type": "code",
      "execution_count": null,
      "metadata": {
        "colab": {
          "base_uri": "https://localhost:8080/",
          "height": 567
        },
        "id": "Z_fyxtE_J6IW",
        "outputId": "5e2a46e7-925a-479f-8ad5-f1386e4158f3"
      },
      "outputs": [
        {
          "output_type": "display_data",
          "data": {
            "text/plain": [
              "<Figure size 864x648 with 1 Axes>"
            ],
            "image/png": "[encoded data removed]"
          },
          "metadata": {
            "needs_background": "light"
          }
        }
      ],
      "source": [
        "plt.figure(figsize=[12,9])\n",
        "\n",
        "plt.plot([0,1],[0,1], linestyle = '--', label='RandomModel')\n",
        "\n",
        "\n",
        "log_model_4 = LogisticRegression()\n",
        "log_model_4.fit(features_train, target_train)\n",
        "probabilities_valid = log_model_4.predict_proba(features_valid)\n",
        "probabilities_one_valid = probabilities_valid[:, 1]\n",
        "fpr, tpr, threshold = roc_curve(target_valid, probabilities_one_valid)\n",
        "auc_roc = roc_auc_score(target_valid, probabilities_one_valid)\n",
        "valid_f1 = f1_score(target_valid, log_model_4.predict(features_valid))\n",
        "plt.plot(fpr, tpr, label='LR')\n",
        "\n",
        "log_model_5 = LogisticRegression(class_weight=dict_classes)\n",
        "log_model_5.fit(features_train, target_train)\n",
        "probabilities_valid = log_model_5.predict_proba(features_valid)\n",
        "probabilities_one_valid = probabilities_valid[:, 1]\n",
        "fpr, tpr, thresholds = roc_curve(target_valid, probabilities_one_valid)\n",
        "auc_roc_balanced = roc_auc_score(target_valid, probabilities_one_valid)\n",
        "valid_f1_balanced = f1_score(target_valid, log_model_5.predict(features_valid))\n",
        "plt.plot(fpr, tpr, label='LR balanced classes')\n",
        "\n",
        "log_model_6 = LogisticRegression()\n",
        "log_model_6.fit(features_train_downsample, target_train_downsample)\n",
        "probabilities_valid = log_model_6.predict_proba(features_valid)\n",
        "probabilities_one_valid = probabilities_valid[:, 1]\n",
        "fpr, tpr, thresholds = roc_curve(target_valid, probabilities_one_valid)\n",
        "auc_roc_downsampled = roc_auc_score(target_valid, probabilities_one_valid)\n",
        "valid_f1_downsampled = f1_score(target_valid, log_model_6.predict(features_valid))\n",
        "plt.plot(fpr,tpr, label='LR downsampled classes')\n",
        "\n",
        "plt.xlim([0,1])\n",
        "plt.ylim([0,1])\n",
        "\n",
        "plt.xlabel('False Positive rate')\n",
        "plt.ylabel('True Positive rate')\n",
        "\n",
        "plt.legend(loc='lower right', fontsize='x-large')\n",
        "\n",
        "plt.title('ROC-curve')\n",
        "plt.show()"
      ]
    },
    {
      "cell_type": "code",
      "execution_count": null,
      "metadata": {
        "colab": {
          "base_uri": "https://localhost:8080/",
          "height": 144
        },
        "id": "yMYE1MdWJ6IX",
        "outputId": "adb1ca8d-40c3-4484-f761-6311ab9daa21"
      },
      "outputs": [
        {
          "output_type": "execute_result",
          "data": {
            "text/plain": [
              "                        F1 on CV  F1 on validation   AUC-ROC\n",
              "LogisticRegression      0.687846          0.709063  0.971027\n",
              "LR balanced classes     0.742978          0.757228  0.971567\n",
              "LR downsampled classes  0.878343          0.699010  0.964895"
            ],
            "text/html": [
              "\n",
              "  <div id=\"df-ed88686c-db8e-444a-b840-0911e8b5412d\">\n",
              "    <div class=\"colab-df-container\">\n",
              "      <div>\n",
              "<style scoped>\n",
              "    .dataframe tbody tr th:only-of-type {\n",
              "        vertical-align: middle;\n",
              "    }\n",
              "\n",
              "    .dataframe tbody tr th {\n",
              "        vertical-align: top;\n",
              "    }\n",
              "\n",
              "    .dataframe thead th {\n",
              "        text-align: right;\n",
              "    }\n",
              "</style>\n",
              "<table border=\"1\" class=\"dataframe\">\n",
              "  <thead>\n",
              "    <tr style=\"text-align: right;\">\n",
              "      <th></th>\n",
              "      <th>F1 on CV</th>\n",
              "      <th>F1 on validation</th>\n",
              "      <th>AUC-ROC</th>\n",
              "    </tr>\n",
              "  </thead>\n",
              "  <tbody>\n",
              "    <tr>\n",
              "      <th>LogisticRegression</th>\n",
              "      <td>0.687846</td>\n",
              "      <td>0.709063</td>\n",
              "      <td>0.971027</td>\n",
              "    </tr>\n",
              "    <tr>\n",
              "      <th>LR balanced classes</th>\n",
              "      <td>0.742978</td>\n",
              "      <td>0.757228</td>\n",
              "      <td>0.971567</td>\n",
              "    </tr>\n",
              "    <tr>\n",
              "      <th>LR downsampled classes</th>\n",
              "      <td>0.878343</td>\n",
              "      <td>0.699010</td>\n",
              "      <td>0.964895</td>\n",
              "    </tr>\n",
              "  </tbody>\n",
              "</table>\n",
              "</div>\n",
              "      <button class=\"colab-df-convert\" onclick=\"convertToInteractive('df-ed88686c-db8e-444a-b840-0911e8b5412d')\"\n",
              "              title=\"Convert this dataframe to an interactive table.\"\n",
              "              style=\"display:none;\">\n",
              "        \n",
              "  <svg xmlns=\"http://www.w3.org/2000/svg\" height=\"24px\"viewBox=\"0 0 24 24\"\n",
              "       width=\"24px\">\n",
              "    <path d=\"M0 0h24v24H0V0z\" fill=\"none\"/>\n",
              "    <path d=\"M18.56 5.44l.94 2.06.94-2.06 2.06-.94-2.06-.94-.94-2.06-.94 2.06-2.06.94zm-11 1L8.5 8.5l.94-2.06 2.06-.94-2.06-.94L8.5 2.5l-.94 2.06-2.06.94zm10 10l.94 2.06.94-2.06 2.06-.94-2.06-.94-.94-2.06-.94 2.06-2.06.94z\"/><path d=\"M17.41 7.96l-1.37-1.37c-.4-.4-.92-.59-1.43-.59-.52 0-1.04.2-1.43.59L10.3 9.45l-7.72 7.72c-.78.78-.78 2.05 0 2.83L4 21.41c.39.39.9.59 1.41.59.51 0 1.02-.2 1.41-.59l7.78-7.78 2.81-2.81c.8-.78.8-2.07 0-2.86zM5.41 20L4 18.59l7.72-7.72 1.47 1.35L5.41 20z\"/>\n",
              "  </svg>\n",
              "      </button>\n",
              "      \n",
              "  <style>\n",
              "    .colab-df-container {\n",
              "      display:flex;\n",
              "      flex-wrap:wrap;\n",
              "      gap: 12px;\n",
              "    }\n",
              "\n",
              "    .colab-df-convert {\n",
              "      background-color: #E8F0FE;\n",
              "      border: none;\n",
              "      border-radius: 50%;\n",
              "      cursor: pointer;\n",
              "      display: none;\n",
              "      fill: #1967D2;\n",
              "      height: 32px;\n",
              "      padding: 0 0 0 0;\n",
              "      width: 32px;\n",
              "    }\n",
              "\n",
              "    .colab-df-convert:hover {\n",
              "      background-color: #E2EBFA;\n",
              "      box-shadow: 0px 1px 2px rgba(60, 64, 67, 0.3), 0px 1px 3px 1px rgba(60, 64, 67, 0.15);\n",
              "      fill: #174EA6;\n",
              "    }\n",
              "\n",
              "    [theme=dark] .colab-df-convert {\n",
              "      background-color: #3B4455;\n",
              "      fill: #D2E3FC;\n",
              "    }\n",
              "\n",
              "    [theme=dark] .colab-df-convert:hover {\n",
              "      background-color: #434B5C;\n",
              "      box-shadow: 0px 1px 3px 1px rgba(0, 0, 0, 0.15);\n",
              "      filter: drop-shadow(0px 1px 2px rgba(0, 0, 0, 0.3));\n",
              "      fill: #FFFFFF;\n",
              "    }\n",
              "  </style>\n",
              "\n",
              "      <script>\n",
              "        const buttonEl =\n",
              "          document.querySelector('#df-ed88686c-db8e-444a-b840-0911e8b5412d button.colab-df-convert');\n",
              "        buttonEl.style.display =\n",
              "          google.colab.kernel.accessAllowed ? 'block' : 'none';\n",
              "\n",
              "        async function convertToInteractive(key) {\n",
              "          const element = document.querySelector('#df-ed88686c-db8e-444a-b840-0911e8b5412d');\n",
              "          const dataTable =\n",
              "            await google.colab.kernel.invokeFunction('convertToInteractive',\n",
              "                                                     [key], {});\n",
              "          if (!dataTable) return;\n",
              "\n",
              "          const docLinkHtml = 'Like what you see? Visit the ' +\n",
              "            '<a target=\"_blank\" href=https://colab.research.google.com/notebooks/data_table.ipynb>data table notebook</a>'\n",
              "            + ' to learn more about interactive tables.';\n",
              "          element.innerHTML = '';\n",
              "          dataTable['output_type'] = 'display_data';\n",
              "          await google.colab.output.renderOutput(dataTable, element);\n",
              "          const docLink = document.createElement('div');\n",
              "          docLink.innerHTML = docLinkHtml;\n",
              "          element.appendChild(docLink);\n",
              "        }\n",
              "      </script>\n",
              "    </div>\n",
              "  </div>\n",
              "  "
            ]
          },
          "metadata": {},
          "execution_count": 66
        }
      ],
      "source": [
        "index= ['LogisticRegression',\n",
        "        'LR balanced classes',\n",
        "        'LR downsampled classes']\n",
        "\n",
        "data = {'F1 on CV':[train_f1,\n",
        "                    train_f1_balanced,\n",
        "                    train_f1_downsampled],\n",
        "        'F1 on validation':[valid_f1,\n",
        "                           valid_f1_balanced,\n",
        "                           valid_f1_downsampled],\n",
        "       'AUC-ROC':[auc_roc,\n",
        "                  auc_roc_balanced,\n",
        "                  auc_roc_downsampled]}\n",
        "\n",
        "scores_data = pd.DataFrame(data=data, index=index)\n",
        "scores_data"
      ]
    },
    {
      "cell_type": "markdown",
      "metadata": {
        "id": "yvFvb8RJJ6IX"
      },
      "source": [
        "The method of balancing by weight proved to be the most effective. We will leave it for further use, and delete the rest."
      ]
    },
    {
      "cell_type": "code",
      "execution_count": null,
      "metadata": {
        "id": "cgdN5uCOJ6IX"
      },
      "outputs": [],
      "source": [
        "del toxic_comments_train\n",
        "del target_train_class_zero\n",
        "del target_train_class_one\n",
        "del target_train_class_zero_downsample\n",
        "del target_train_downsample\n",
        "del features_train_downsample"
      ]
    },
    {
      "cell_type": "markdown",
      "metadata": {
        "id": "j9cviRmQJ6IY"
      },
      "source": [
        "<div style=\"font-size: 15px\">\n",
        "    \n",
        "\n",
        "**Intermediate conclusion**"
      ]
    },
    {
      "cell_type": "markdown",
      "metadata": {
        "id": "S8huT3_hJ6IY"
      },
      "source": [
        "At the first step, the data was preprocessed and divided into the training, validation and test samples.\n",
        "\n",
        "The best metrics of F1 and AUC-ROC were shown by a classifier that takes into account the weight of classes. In training, we will use this method of balancing classes."
      ]
    },
    {
      "cell_type": "markdown",
      "metadata": {
        "id": "6K9Bd3vcJ6IY"
      },
      "source": [
        "## 2. Training"
      ]
    },
    {
      "cell_type": "markdown",
      "metadata": {
        "id": "3RM-CstaJ6IY"
      },
      "source": [
        "Let's train the following models:\n",
        "\n",
        "1. LogisticRegression;\n",
        "\n",
        "2. DecisionTreeClassifier;\n",
        "\n",
        "3. CatBoostClassifier;\n",
        "\n",
        "4. SGDClassifier.\n"
      ]
    },
    {
      "cell_type": "markdown",
      "metadata": {
        "id": "_a6-uyAkJ6IZ"
      },
      "source": [
        "<div style=\"font-size: 20px\">\n",
        "    \n",
        "\n",
        "**2.1 LogisticRegression**"
      ]
    },
    {
      "cell_type": "code",
      "execution_count": null,
      "metadata": {
        "colab": {
          "base_uri": "https://localhost:8080/"
        },
        "id": "sRf0vgInJ6IZ",
        "outputId": "3ff8463c-76a5-4f37-d0cc-d0b49e02c272"
      },
      "outputs": [
        {
          "output_type": "stream",
          "name": "stdout",
          "text": [
            "# Selection of hyperparameters for f1_score\n",
            "\n",
            "Best parameters\n",
            "\n",
            "{'C': 10, 'class_weight': {0: 1, 1: 8.834884437596301}, 'solver': 'liblinear'}\n",
            "\n",
            "Grid scores\n",
            "\n",
            "0.707389 for {'C': 0.1, 'class_weight': {0: 1, 1: 8.834884437596301}, 'solver': 'lbfgs'}\n",
            "0.707389 for {'C': 0.1, 'class_weight': {0: 1, 1: 8.834884437596301}, 'solver': 'liblinear'}\n",
            "0.750801 for {'C': 1, 'class_weight': {0: 1, 1: 8.834884437596301}, 'solver': 'lbfgs'}\n",
            "0.750378 for {'C': 1, 'class_weight': {0: 1, 1: 8.834884437596301}, 'solver': 'liblinear'}\n",
            "0.760174 for {'C': 10, 'class_weight': {0: 1, 1: 8.834884437596301}, 'solver': 'lbfgs'}\n",
            "0.760671 for {'C': 10, 'class_weight': {0: 1, 1: 8.834884437596301}, 'solver': 'liblinear'}\n",
            "\n",
            "CPU times: user 1min 20s, sys: 1min 23s, total: 2min 43s\n",
            "Wall time: 1min 25s\n"
          ]
        }
      ],
      "source": [
        "%%time\n",
        "\n",
        "log_model_7 = LogisticRegression()\n",
        "hyperparams = [{'solver':['lbfgs', 'liblinear'],\n",
        "                'C':[0.1, 1, 10],\n",
        "                'class_weight':[dict_classes]}]\n",
        "\n",
        "print('# Selection of hyperparameters for f1_score')\n",
        "print()\n",
        "clf = GridSearchCV(log_model_7, hyperparams, scoring='f1', cv=cv_counts)\n",
        "clf.fit(features_train, target_train)\n",
        "print('Best parameters')\n",
        "print()\n",
        "LR_best_params = clf.best_params_\n",
        "print(LR_best_params)\n",
        "print()\n",
        "print('Grid scores')\n",
        "print()\n",
        "means=clf.cv_results_['mean_test_score']\n",
        "stds = clf.cv_results_['std_test_score']\n",
        "for mean, std, params in zip(means, stds, clf.cv_results_['params']):\n",
        "    print(\"%0.6f for %r\"% (mean, params))\n",
        "print()\n",
        "\n",
        "cv_f1_LR = max(means)"
      ]
    },
    {
      "cell_type": "code",
      "execution_count": null,
      "metadata": {
        "colab": {
          "base_uri": "https://localhost:8080/"
        },
        "id": "J6KIkAEaJ6Ia",
        "outputId": "debff2f0-2b1f-47ce-d1b6-5f6c370c89f6"
      },
      "outputs": [
        {
          "output_type": "stream",
          "name": "stdout",
          "text": [
            "F1 on CV 0.7606711695918985\n",
            "F1 on validation 0.7638235294117648\n",
            "CPU times: user 6.3 s, sys: 4.04 s, total: 10.3 s\n",
            "Wall time: 5.36 s\n"
          ]
        }
      ],
      "source": [
        "%%time\n",
        "\n",
        "log_model_8 = LogisticRegression()\n",
        "log_model_8.set_params(**LR_best_params)\n",
        "log_model_8.fit(features_train, target_train)\n",
        "target_predict = log_model_8.predict(features_valid)\n",
        "valid_f1_LR  = f1_score(target_valid, target_predict)\n",
        "print('F1 on CV', cv_f1_LR)\n",
        "print('F1 on validation', valid_f1_LR)"
      ]
    },
    {
      "cell_type": "markdown",
      "metadata": {
        "id": "KCXHbRAhJ6Ia"
      },
      "source": [
        "<div style=\"font-size: 20px\">\n",
        "    \n",
        "\n",
        "**2.2 DecisionTreeClassifier**"
      ]
    },
    {
      "cell_type": "code",
      "execution_count": null,
      "metadata": {
        "colab": {
          "base_uri": "https://localhost:8080/"
        },
        "id": "EXpO3SK7J6Ib",
        "outputId": "3e433129-0797-4cc6-dc1d-5509b6ab08e4"
      },
      "outputs": [
        {
          "output_type": "stream",
          "name": "stdout",
          "text": [
            "# Selection of hyperparameters for f1_score\n",
            "\n",
            "Best parameters\n",
            "\n",
            "{'class_weight': {0: 1, 1: 8.834884437596301}, 'max_depth': 42, 'random_state': 69}\n",
            "\n",
            "Grid scores\n",
            "\n",
            "0.637266 for {'class_weight': {0: 1, 1: 8.834884437596301}, 'max_depth': 30, 'random_state': 69}\n",
            "0.637810 for {'class_weight': {0: 1, 1: 8.834884437596301}, 'max_depth': 32, 'random_state': 69}\n",
            "0.643783 for {'class_weight': {0: 1, 1: 8.834884437596301}, 'max_depth': 34, 'random_state': 69}\n",
            "0.650803 for {'class_weight': {0: 1, 1: 8.834884437596301}, 'max_depth': 36, 'random_state': 69}\n",
            "0.652199 for {'class_weight': {0: 1, 1: 8.834884437596301}, 'max_depth': 38, 'random_state': 69}\n",
            "0.655555 for {'class_weight': {0: 1, 1: 8.834884437596301}, 'max_depth': 40, 'random_state': 69}\n",
            "0.657132 for {'class_weight': {0: 1, 1: 8.834884437596301}, 'max_depth': 42, 'random_state': 69}\n",
            "0.640863 for {'class_weight': {0: 1, 1: 8.834884437596301}, 'max_depth': 44, 'random_state': 69}\n",
            "0.620450 for {'class_weight': {0: 1, 1: 8.834884437596301}, 'max_depth': 46, 'random_state': 69}\n",
            "0.624402 for {'class_weight': {0: 1, 1: 8.834884437596301}, 'max_depth': 48, 'random_state': 69}\n",
            "0.629040 for {'class_weight': {0: 1, 1: 8.834884437596301}, 'max_depth': 50, 'random_state': 69}\n",
            "\n",
            "CPU times: user 15min 11s, sys: 980 ms, total: 15min 12s\n",
            "Wall time: 15min 12s\n"
          ]
        }
      ],
      "source": [
        "%%time\n",
        "\n",
        "tree_model = DecisionTreeClassifier()\n",
        "hyperparams = [{'max_depth':[x for x in range(30, 51, 2)],\n",
        "                'random_state':[69],\n",
        "                'class_weight':[dict_classes]}]\n",
        "\n",
        "print('# Selection of hyperparameters for f1_score')\n",
        "print()\n",
        "clf = GridSearchCV(tree_model, hyperparams,scoring='f1', cv=cv_counts)\n",
        "clf.fit(features_train, target_train)\n",
        "print('Best parameters')\n",
        "print()\n",
        "DTC_best_params = clf.best_params_\n",
        "print(DTC_best_params)\n",
        "print()\n",
        "print('Grid scores')\n",
        "print()\n",
        "means = clf.cv_results_['mean_test_score']\n",
        "stds = clf.cv_results_['std_test_score']\n",
        "for mean, std, params in zip(means, stds, clf.cv_results_['params']):\n",
        "    print('%0.6f for %r'% (mean, params))\n",
        "print()\n",
        "\n",
        "cv_f1_DTC = max(means)"
      ]
    },
    {
      "cell_type": "code",
      "execution_count": null,
      "metadata": {
        "colab": {
          "base_uri": "https://localhost:8080/"
        },
        "id": "ionqxAHVJ6Ib",
        "outputId": "a18d9a3e-4dfe-4c55-f67c-bb6683614b64"
      },
      "outputs": [
        {
          "output_type": "stream",
          "name": "stdout",
          "text": [
            "F1 on CV 0.6571320050097254\n",
            "F1 on validation 0.6208033573141487\n",
            "CPU times: user 44.7 s, sys: 28.3 ms, total: 44.7 s\n",
            "Wall time: 44.6 s\n"
          ]
        }
      ],
      "source": [
        "%%time\n",
        "\n",
        "tree_model_2 = DecisionTreeClassifier()\n",
        "tree_model_2.set_params(**DTC_best_params)\n",
        "tree_model_2.fit(features_train, target_train)\n",
        "target_predict = tree_model_2.predict(features_valid)\n",
        "valid_f1_DTC = f1_score(target_valid, target_predict)\n",
        "print('F1 on CV', cv_f1_DTC)\n",
        "print('F1 on validation', valid_f1_DTC)"
      ]
    },
    {
      "cell_type": "markdown",
      "metadata": {
        "id": "2ycGCOvHJ6Ib"
      },
      "source": [
        "<div style=\"font-size: 20px\">\n",
        "    \n",
        "\n",
        "**2.2 CatBoostClassifier**"
      ]
    },
    {
      "cell_type": "code",
      "execution_count": null,
      "metadata": {
        "colab": {
          "base_uri": "https://localhost:8080/"
        },
        "id": "9RlLK44JJ6Ic",
        "outputId": "0c7687be-adaf-4980-da9a-da547064aede"
      },
      "outputs": [
        {
          "output_type": "stream",
          "name": "stdout",
          "text": [
            "F1 on cross-validation 0.7358458939895437\n",
            "F1 on validation 0.736247723132969\n",
            "CPU times: user 35min 7s, sys: 11.7 s, total: 35min 19s\n",
            "Wall time: 18min 57s\n"
          ]
        }
      ],
      "source": [
        "%%time\n",
        "\n",
        "cat_model = CatBoostClassifier(verbose=False, iterations=200)\n",
        "cat_model.fit(features_train, target_train)\n",
        "target_predict = cat_model.predict(features_valid)\n",
        "cv_f1_CBC = cross_val_score(cat_model,\n",
        "                            features_train,\n",
        "                            target_train,\n",
        "                            cv=cv_counts,\n",
        "                            scoring='f1').mean()\n",
        "valid_f1_CBC = f1_score(target_valid, target_predict)\n",
        "print('F1 on cross-validation', cv_f1_CBC)\n",
        "print('F1 on validation', valid_f1_CBC)"
      ]
    },
    {
      "cell_type": "markdown",
      "metadata": {
        "id": "LNj1St2nJ6Ic"
      },
      "source": [
        "<div style=\"font-size: 20px\">\n",
        "    \n",
        "\n",
        "**2.2 SGDClassifier**"
      ]
    },
    {
      "cell_type": "code",
      "execution_count": null,
      "metadata": {
        "colab": {
          "base_uri": "https://localhost:8080/"
        },
        "id": "gm1ClCBOJ6Ic",
        "outputId": "23f59668-ecad-4ad2-d3d0-b616afab54a8"
      },
      "outputs": [
        {
          "output_type": "stream",
          "name": "stdout",
          "text": [
            "# Selection of hyperparameters for f1_score\n",
            "\n",
            "Best parameters\n",
            "\n",
            "{'class_weight': {0: 1, 1: 8.834884437596301}, 'eta0': 0.01, 'learning_rate': 'adaptive', 'loss': 'modified_huber', 'random_state': 69}\n",
            "\n",
            "Grid scores\n",
            "\n",
            "0.735408 for {'class_weight': {0: 1, 1: 8.834884437596301}, 'eta0': 0.01, 'learning_rate': 'constant', 'loss': 'hinge', 'random_state': 69}\n",
            "0.715052 for {'class_weight': {0: 1, 1: 8.834884437596301}, 'eta0': 0.01, 'learning_rate': 'constant', 'loss': 'log', 'random_state': 69}\n",
            "0.753387 for {'class_weight': {0: 1, 1: 8.834884437596301}, 'eta0': 0.01, 'learning_rate': 'constant', 'loss': 'modified_huber', 'random_state': 69}\n",
            "0.737349 for {'class_weight': {0: 1, 1: 8.834884437596301}, 'eta0': 0.01, 'learning_rate': 'optimal', 'loss': 'hinge', 'random_state': 69}\n",
            "0.718462 for {'class_weight': {0: 1, 1: 8.834884437596301}, 'eta0': 0.01, 'learning_rate': 'optimal', 'loss': 'log', 'random_state': 69}\n",
            "0.747957 for {'class_weight': {0: 1, 1: 8.834884437596301}, 'eta0': 0.01, 'learning_rate': 'optimal', 'loss': 'modified_huber', 'random_state': 69}\n",
            "0.665484 for {'class_weight': {0: 1, 1: 8.834884437596301}, 'eta0': 0.01, 'learning_rate': 'invscaling', 'loss': 'hinge', 'random_state': 69}\n",
            "0.607115 for {'class_weight': {0: 1, 1: 8.834884437596301}, 'eta0': 0.01, 'learning_rate': 'invscaling', 'loss': 'log', 'random_state': 69}\n",
            "0.648406 for {'class_weight': {0: 1, 1: 8.834884437596301}, 'eta0': 0.01, 'learning_rate': 'invscaling', 'loss': 'modified_huber', 'random_state': 69}\n",
            "0.740034 for {'class_weight': {0: 1, 1: 8.834884437596301}, 'eta0': 0.01, 'learning_rate': 'adaptive', 'loss': 'hinge', 'random_state': 69}\n",
            "0.714371 for {'class_weight': {0: 1, 1: 8.834884437596301}, 'eta0': 0.01, 'learning_rate': 'adaptive', 'loss': 'log', 'random_state': 69}\n",
            "0.757352 for {'class_weight': {0: 1, 1: 8.834884437596301}, 'eta0': 0.01, 'learning_rate': 'adaptive', 'loss': 'modified_huber', 'random_state': 69}\n",
            "0.722621 for {'class_weight': {0: 1, 1: 8.834884437596301}, 'eta0': 0.05, 'learning_rate': 'constant', 'loss': 'hinge', 'random_state': 69}\n",
            "0.704082 for {'class_weight': {0: 1, 1: 8.834884437596301}, 'eta0': 0.05, 'learning_rate': 'constant', 'loss': 'log', 'random_state': 69}\n",
            "0.738257 for {'class_weight': {0: 1, 1: 8.834884437596301}, 'eta0': 0.05, 'learning_rate': 'constant', 'loss': 'modified_huber', 'random_state': 69}\n",
            "0.737349 for {'class_weight': {0: 1, 1: 8.834884437596301}, 'eta0': 0.05, 'learning_rate': 'optimal', 'loss': 'hinge', 'random_state': 69}\n",
            "0.718462 for {'class_weight': {0: 1, 1: 8.834884437596301}, 'eta0': 0.05, 'learning_rate': 'optimal', 'loss': 'log', 'random_state': 69}\n",
            "0.747957 for {'class_weight': {0: 1, 1: 8.834884437596301}, 'eta0': 0.05, 'learning_rate': 'optimal', 'loss': 'modified_huber', 'random_state': 69}\n",
            "0.675349 for {'class_weight': {0: 1, 1: 8.834884437596301}, 'eta0': 0.05, 'learning_rate': 'invscaling', 'loss': 'hinge', 'random_state': 69}\n",
            "0.645915 for {'class_weight': {0: 1, 1: 8.834884437596301}, 'eta0': 0.05, 'learning_rate': 'invscaling', 'loss': 'log', 'random_state': 69}\n",
            "0.668099 for {'class_weight': {0: 1, 1: 8.834884437596301}, 'eta0': 0.05, 'learning_rate': 'invscaling', 'loss': 'modified_huber', 'random_state': 69}\n",
            "0.740430 for {'class_weight': {0: 1, 1: 8.834884437596301}, 'eta0': 0.05, 'learning_rate': 'adaptive', 'loss': 'hinge', 'random_state': 69}\n",
            "0.716888 for {'class_weight': {0: 1, 1: 8.834884437596301}, 'eta0': 0.05, 'learning_rate': 'adaptive', 'loss': 'log', 'random_state': 69}\n",
            "0.757307 for {'class_weight': {0: 1, 1: 8.834884437596301}, 'eta0': 0.05, 'learning_rate': 'adaptive', 'loss': 'modified_huber', 'random_state': 69}\n",
            "0.733578 for {'class_weight': {0: 1, 1: 8.834884437596301}, 'eta0': 0.1, 'learning_rate': 'constant', 'loss': 'hinge', 'random_state': 69}\n",
            "0.722174 for {'class_weight': {0: 1, 1: 8.834884437596301}, 'eta0': 0.1, 'learning_rate': 'constant', 'loss': 'log', 'random_state': 69}\n",
            "0.690987 for {'class_weight': {0: 1, 1: 8.834884437596301}, 'eta0': 0.1, 'learning_rate': 'constant', 'loss': 'modified_huber', 'random_state': 69}\n",
            "0.737349 for {'class_weight': {0: 1, 1: 8.834884437596301}, 'eta0': 0.1, 'learning_rate': 'optimal', 'loss': 'hinge', 'random_state': 69}\n",
            "0.718462 for {'class_weight': {0: 1, 1: 8.834884437596301}, 'eta0': 0.1, 'learning_rate': 'optimal', 'loss': 'log', 'random_state': 69}\n",
            "0.747957 for {'class_weight': {0: 1, 1: 8.834884437596301}, 'eta0': 0.1, 'learning_rate': 'optimal', 'loss': 'modified_huber', 'random_state': 69}\n",
            "0.665403 for {'class_weight': {0: 1, 1: 8.834884437596301}, 'eta0': 0.1, 'learning_rate': 'invscaling', 'loss': 'hinge', 'random_state': 69}\n",
            "0.644560 for {'class_weight': {0: 1, 1: 8.834884437596301}, 'eta0': 0.1, 'learning_rate': 'invscaling', 'loss': 'log', 'random_state': 69}\n",
            "0.687656 for {'class_weight': {0: 1, 1: 8.834884437596301}, 'eta0': 0.1, 'learning_rate': 'invscaling', 'loss': 'modified_huber', 'random_state': 69}\n",
            "0.740610 for {'class_weight': {0: 1, 1: 8.834884437596301}, 'eta0': 0.1, 'learning_rate': 'adaptive', 'loss': 'hinge', 'random_state': 69}\n",
            "0.717025 for {'class_weight': {0: 1, 1: 8.834884437596301}, 'eta0': 0.1, 'learning_rate': 'adaptive', 'loss': 'log', 'random_state': 69}\n",
            "0.756894 for {'class_weight': {0: 1, 1: 8.834884437596301}, 'eta0': 0.1, 'learning_rate': 'adaptive', 'loss': 'modified_huber', 'random_state': 69}\n",
            "0.718099 for {'class_weight': {0: 1, 1: 8.834884437596301}, 'eta0': 0.2, 'learning_rate': 'constant', 'loss': 'hinge', 'random_state': 69}\n",
            "0.694591 for {'class_weight': {0: 1, 1: 8.834884437596301}, 'eta0': 0.2, 'learning_rate': 'constant', 'loss': 'log', 'random_state': 69}\n",
            "0.593974 for {'class_weight': {0: 1, 1: 8.834884437596301}, 'eta0': 0.2, 'learning_rate': 'constant', 'loss': 'modified_huber', 'random_state': 69}\n",
            "0.737349 for {'class_weight': {0: 1, 1: 8.834884437596301}, 'eta0': 0.2, 'learning_rate': 'optimal', 'loss': 'hinge', 'random_state': 69}\n",
            "0.718462 for {'class_weight': {0: 1, 1: 8.834884437596301}, 'eta0': 0.2, 'learning_rate': 'optimal', 'loss': 'log', 'random_state': 69}\n",
            "0.747957 for {'class_weight': {0: 1, 1: 8.834884437596301}, 'eta0': 0.2, 'learning_rate': 'optimal', 'loss': 'modified_huber', 'random_state': 69}\n",
            "0.675028 for {'class_weight': {0: 1, 1: 8.834884437596301}, 'eta0': 0.2, 'learning_rate': 'invscaling', 'loss': 'hinge', 'random_state': 69}\n",
            "0.647520 for {'class_weight': {0: 1, 1: 8.834884437596301}, 'eta0': 0.2, 'learning_rate': 'invscaling', 'loss': 'log', 'random_state': 69}\n",
            "0.712738 for {'class_weight': {0: 1, 1: 8.834884437596301}, 'eta0': 0.2, 'learning_rate': 'invscaling', 'loss': 'modified_huber', 'random_state': 69}\n",
            "0.741504 for {'class_weight': {0: 1, 1: 8.834884437596301}, 'eta0': 0.2, 'learning_rate': 'adaptive', 'loss': 'hinge', 'random_state': 69}\n",
            "0.716735 for {'class_weight': {0: 1, 1: 8.834884437596301}, 'eta0': 0.2, 'learning_rate': 'adaptive', 'loss': 'log', 'random_state': 69}\n",
            "0.756508 for {'class_weight': {0: 1, 1: 8.834884437596301}, 'eta0': 0.2, 'learning_rate': 'adaptive', 'loss': 'modified_huber', 'random_state': 69}\n",
            "0.704389 for {'class_weight': {0: 1, 1: 8.834884437596301}, 'eta0': 0.3, 'learning_rate': 'constant', 'loss': 'hinge', 'random_state': 69}\n",
            "0.700654 for {'class_weight': {0: 1, 1: 8.834884437596301}, 'eta0': 0.3, 'learning_rate': 'constant', 'loss': 'log', 'random_state': 69}\n",
            "0.521980 for {'class_weight': {0: 1, 1: 8.834884437596301}, 'eta0': 0.3, 'learning_rate': 'constant', 'loss': 'modified_huber', 'random_state': 69}\n",
            "0.737349 for {'class_weight': {0: 1, 1: 8.834884437596301}, 'eta0': 0.3, 'learning_rate': 'optimal', 'loss': 'hinge', 'random_state': 69}\n",
            "0.718462 for {'class_weight': {0: 1, 1: 8.834884437596301}, 'eta0': 0.3, 'learning_rate': 'optimal', 'loss': 'log', 'random_state': 69}\n",
            "0.747957 for {'class_weight': {0: 1, 1: 8.834884437596301}, 'eta0': 0.3, 'learning_rate': 'optimal', 'loss': 'modified_huber', 'random_state': 69}\n",
            "0.686125 for {'class_weight': {0: 1, 1: 8.834884437596301}, 'eta0': 0.3, 'learning_rate': 'invscaling', 'loss': 'hinge', 'random_state': 69}\n",
            "0.652611 for {'class_weight': {0: 1, 1: 8.834884437596301}, 'eta0': 0.3, 'learning_rate': 'invscaling', 'loss': 'log', 'random_state': 69}\n",
            "0.723215 for {'class_weight': {0: 1, 1: 8.834884437596301}, 'eta0': 0.3, 'learning_rate': 'invscaling', 'loss': 'modified_huber', 'random_state': 69}\n",
            "0.740761 for {'class_weight': {0: 1, 1: 8.834884437596301}, 'eta0': 0.3, 'learning_rate': 'adaptive', 'loss': 'hinge', 'random_state': 69}\n",
            "0.716717 for {'class_weight': {0: 1, 1: 8.834884437596301}, 'eta0': 0.3, 'learning_rate': 'adaptive', 'loss': 'log', 'random_state': 69}\n",
            "0.756750 for {'class_weight': {0: 1, 1: 8.834884437596301}, 'eta0': 0.3, 'learning_rate': 'adaptive', 'loss': 'modified_huber', 'random_state': 69}\n",
            "0.668639 for {'class_weight': {0: 1, 1: 8.834884437596301}, 'eta0': 0.5, 'learning_rate': 'constant', 'loss': 'hinge', 'random_state': 69}\n",
            "0.705701 for {'class_weight': {0: 1, 1: 8.834884437596301}, 'eta0': 0.5, 'learning_rate': 'constant', 'loss': 'log', 'random_state': 69}\n",
            "0.487138 for {'class_weight': {0: 1, 1: 8.834884437596301}, 'eta0': 0.5, 'learning_rate': 'constant', 'loss': 'modified_huber', 'random_state': 69}\n",
            "0.737349 for {'class_weight': {0: 1, 1: 8.834884437596301}, 'eta0': 0.5, 'learning_rate': 'optimal', 'loss': 'hinge', 'random_state': 69}\n",
            "0.718462 for {'class_weight': {0: 1, 1: 8.834884437596301}, 'eta0': 0.5, 'learning_rate': 'optimal', 'loss': 'log', 'random_state': 69}\n",
            "0.747957 for {'class_weight': {0: 1, 1: 8.834884437596301}, 'eta0': 0.5, 'learning_rate': 'optimal', 'loss': 'modified_huber', 'random_state': 69}\n",
            "0.705141 for {'class_weight': {0: 1, 1: 8.834884437596301}, 'eta0': 0.5, 'learning_rate': 'invscaling', 'loss': 'hinge', 'random_state': 69}\n",
            "0.662037 for {'class_weight': {0: 1, 1: 8.834884437596301}, 'eta0': 0.5, 'learning_rate': 'invscaling', 'loss': 'log', 'random_state': 69}\n",
            "0.734513 for {'class_weight': {0: 1, 1: 8.834884437596301}, 'eta0': 0.5, 'learning_rate': 'invscaling', 'loss': 'modified_huber', 'random_state': 69}\n",
            "0.740743 for {'class_weight': {0: 1, 1: 8.834884437596301}, 'eta0': 0.5, 'learning_rate': 'adaptive', 'loss': 'hinge', 'random_state': 69}\n",
            "0.716638 for {'class_weight': {0: 1, 1: 8.834884437596301}, 'eta0': 0.5, 'learning_rate': 'adaptive', 'loss': 'log', 'random_state': 69}\n",
            "0.757181 for {'class_weight': {0: 1, 1: 8.834884437596301}, 'eta0': 0.5, 'learning_rate': 'adaptive', 'loss': 'modified_huber', 'random_state': 69}\n",
            "\n",
            "CPU times: user 3min 19s, sys: 21.1 s, total: 3min 41s\n",
            "Wall time: 3min 15s\n"
          ]
        }
      ],
      "source": [
        "%%time\n",
        "\n",
        "sgd_model = SGDClassifier()\n",
        "hyperparams = [{'loss':['hinge', 'log', 'modified_huber'],\n",
        "                'learning_rate':['constant', 'optimal', 'invscaling', 'adaptive'],\n",
        "                'eta0':[0.01, 0.05, 0.1, 0.2, 0.3, 0.5],\n",
        "                'random_state':[69],\n",
        "                'class_weight':[dict_classes]}]\n",
        "\n",
        "print('# Selection of hyperparameters for f1_score')\n",
        "print()\n",
        "clf = GridSearchCV(sgd_model, hyperparams, scoring='f1', cv=cv_counts)\n",
        "clf.fit(features_train, target_train)\n",
        "print('Best parameters')\n",
        "print()\n",
        "SGDC_best_params = clf.best_params_\n",
        "print(SGDC_best_params)\n",
        "print()\n",
        "print('Grid scores')\n",
        "print()\n",
        "means = clf.cv_results_['mean_test_score']\n",
        "stds = clf.cv_results_['std_test_score']\n",
        "for mean, std, params in zip(means, stds, clf.cv_results_['params']):\n",
        "    print(\"%0.6f for %r\"% (mean, params))\n",
        "print()\n",
        "\n",
        "cv_f1_SGDC = max(means)"
      ]
    },
    {
      "cell_type": "code",
      "execution_count": null,
      "metadata": {
        "colab": {
          "base_uri": "https://localhost:8080/"
        },
        "id": "3abiTMikJ6Im",
        "outputId": "0fa72adb-161d-4b40-d46e-99a6312c6d3e"
      },
      "outputs": [
        {
          "output_type": "stream",
          "name": "stdout",
          "text": [
            "F1 on cross-validation 0.7573520471000483\n",
            "F1 on validation 0.760500695410292\n",
            "CPU times: user 2.12 s, sys: 67.3 ms, total: 2.19 s\n",
            "Wall time: 2.13 s\n"
          ]
        }
      ],
      "source": [
        "%%time\n",
        "\n",
        "sgd_model_2 = SGDClassifier()\n",
        "sgd_model_2.set_params(**SGDC_best_params)\n",
        "sgd_model_2.fit(features_train, target_train)\n",
        "target_predict = sgd_model_2.predict(features_valid)\n",
        "valid_f1_SGDC = f1_score(target_valid, target_predict)\n",
        "print('F1 on cross-validation', cv_f1_SGDC)\n",
        "print('F1 on validation', valid_f1_SGDC)"
      ]
    },
    {
      "cell_type": "markdown",
      "metadata": {
        "id": "XGy7Zhq_J6In"
      },
      "source": [
        "Let's look at the test results on the validation sample for the best models."
      ]
    },
    {
      "cell_type": "code",
      "execution_count": null,
      "metadata": {
        "colab": {
          "base_uri": "https://localhost:8080/",
          "height": 175
        },
        "id": "u5WMw9d0J6In",
        "outputId": "6a5b6ccb-fd1d-4b80-af71-9c94a7665453"
      },
      "outputs": [
        {
          "output_type": "execute_result",
          "data": {
            "text/plain": [
              "                        F1 on cross-validation  F1 on validation  \\\n",
              "LogisticRegression                    0.760671          0.763824   \n",
              "DecisionTreeClassifier                0.657132          0.620803   \n",
              "CatBoostClassifier                    0.735846          0.736248   \n",
              "SGDClassifier                         0.757352          0.760501   \n",
              "\n",
              "                        Task completion  \n",
              "LogisticRegression                 True  \n",
              "DecisionTreeClassifier            False  \n",
              "CatBoostClassifier                False  \n",
              "SGDClassifier                      True  "
            ],
            "text/html": [
              "\n",
              "  <div id=\"df-98a41ad2-2483-4238-a133-cf572ba6e25b\">\n",
              "    <div class=\"colab-df-container\">\n",
              "      <div>\n",
              "<style scoped>\n",
              "    .dataframe tbody tr th:only-of-type {\n",
              "        vertical-align: middle;\n",
              "    }\n",
              "\n",
              "    .dataframe tbody tr th {\n",
              "        vertical-align: top;\n",
              "    }\n",
              "\n",
              "    .dataframe thead th {\n",
              "        text-align: right;\n",
              "    }\n",
              "</style>\n",
              "<table border=\"1\" class=\"dataframe\">\n",
              "  <thead>\n",
              "    <tr style=\"text-align: right;\">\n",
              "      <th></th>\n",
              "      <th>F1 on cross-validation</th>\n",
              "      <th>F1 on validation</th>\n",
              "      <th>Task completion</th>\n",
              "    </tr>\n",
              "  </thead>\n",
              "  <tbody>\n",
              "    <tr>\n",
              "      <th>LogisticRegression</th>\n",
              "      <td>0.760671</td>\n",
              "      <td>0.763824</td>\n",
              "      <td>True</td>\n",
              "    </tr>\n",
              "    <tr>\n",
              "      <th>DecisionTreeClassifier</th>\n",
              "      <td>0.657132</td>\n",
              "      <td>0.620803</td>\n",
              "      <td>False</td>\n",
              "    </tr>\n",
              "    <tr>\n",
              "      <th>CatBoostClassifier</th>\n",
              "      <td>0.735846</td>\n",
              "      <td>0.736248</td>\n",
              "      <td>False</td>\n",
              "    </tr>\n",
              "    <tr>\n",
              "      <th>SGDClassifier</th>\n",
              "      <td>0.757352</td>\n",
              "      <td>0.760501</td>\n",
              "      <td>True</td>\n",
              "    </tr>\n",
              "  </tbody>\n",
              "</table>\n",
              "</div>\n",
              "      <button class=\"colab-df-convert\" onclick=\"convertToInteractive('df-98a41ad2-2483-4238-a133-cf572ba6e25b')\"\n",
              "              title=\"Convert this dataframe to an interactive table.\"\n",
              "              style=\"display:none;\">\n",
              "        \n",
              "  <svg xmlns=\"http://www.w3.org/2000/svg\" height=\"24px\"viewBox=\"0 0 24 24\"\n",
              "       width=\"24px\">\n",
              "    <path d=\"M0 0h24v24H0V0z\" fill=\"none\"/>\n",
              "    <path d=\"M18.56 5.44l.94 2.06.94-2.06 2.06-.94-2.06-.94-.94-2.06-.94 2.06-2.06.94zm-11 1L8.5 8.5l.94-2.06 2.06-.94-2.06-.94L8.5 2.5l-.94 2.06-2.06.94zm10 10l.94 2.06.94-2.06 2.06-.94-2.06-.94-.94-2.06-.94 2.06-2.06.94z\"/><path d=\"M17.41 7.96l-1.37-1.37c-.4-.4-.92-.59-1.43-.59-.52 0-1.04.2-1.43.59L10.3 9.45l-7.72 7.72c-.78.78-.78 2.05 0 2.83L4 21.41c.39.39.9.59 1.41.59.51 0 1.02-.2 1.41-.59l7.78-7.78 2.81-2.81c.8-.78.8-2.07 0-2.86zM5.41 20L4 18.59l7.72-7.72 1.47 1.35L5.41 20z\"/>\n",
              "  </svg>\n",
              "      </button>\n",
              "      \n",
              "  <style>\n",
              "    .colab-df-container {\n",
              "      display:flex;\n",
              "      flex-wrap:wrap;\n",
              "      gap: 12px;\n",
              "    }\n",
              "\n",
              "    .colab-df-convert {\n",
              "      background-color: #E8F0FE;\n",
              "      border: none;\n",
              "      border-radius: 50%;\n",
              "      cursor: pointer;\n",
              "      display: none;\n",
              "      fill: #1967D2;\n",
              "      height: 32px;\n",
              "      padding: 0 0 0 0;\n",
              "      width: 32px;\n",
              "    }\n",
              "\n",
              "    .colab-df-convert:hover {\n",
              "      background-color: #E2EBFA;\n",
              "      box-shadow: 0px 1px 2px rgba(60, 64, 67, 0.3), 0px 1px 3px 1px rgba(60, 64, 67, 0.15);\n",
              "      fill: #174EA6;\n",
              "    }\n",
              "\n",
              "    [theme=dark] .colab-df-convert {\n",
              "      background-color: #3B4455;\n",
              "      fill: #D2E3FC;\n",
              "    }\n",
              "\n",
              "    [theme=dark] .colab-df-convert:hover {\n",
              "      background-color: #434B5C;\n",
              "      box-shadow: 0px 1px 3px 1px rgba(0, 0, 0, 0.15);\n",
              "      filter: drop-shadow(0px 1px 2px rgba(0, 0, 0, 0.3));\n",
              "      fill: #FFFFFF;\n",
              "    }\n",
              "  </style>\n",
              "\n",
              "      <script>\n",
              "        const buttonEl =\n",
              "          document.querySelector('#df-98a41ad2-2483-4238-a133-cf572ba6e25b button.colab-df-convert');\n",
              "        buttonEl.style.display =\n",
              "          google.colab.kernel.accessAllowed ? 'block' : 'none';\n",
              "\n",
              "        async function convertToInteractive(key) {\n",
              "          const element = document.querySelector('#df-98a41ad2-2483-4238-a133-cf572ba6e25b');\n",
              "          const dataTable =\n",
              "            await google.colab.kernel.invokeFunction('convertToInteractive',\n",
              "                                                     [key], {});\n",
              "          if (!dataTable) return;\n",
              "\n",
              "          const docLinkHtml = 'Like what you see? Visit the ' +\n",
              "            '<a target=\"_blank\" href=https://colab.research.google.com/notebooks/data_table.ipynb>data table notebook</a>'\n",
              "            + ' to learn more about interactive tables.';\n",
              "          element.innerHTML = '';\n",
              "          dataTable['output_type'] = 'display_data';\n",
              "          await google.colab.output.renderOutput(dataTable, element);\n",
              "          const docLink = document.createElement('div');\n",
              "          docLink.innerHTML = docLinkHtml;\n",
              "          element.appendChild(docLink);\n",
              "        }\n",
              "      </script>\n",
              "    </div>\n",
              "  </div>\n",
              "  "
            ]
          },
          "metadata": {},
          "execution_count": 75
        }
      ],
      "source": [
        "index = ['LogisticRegression',\n",
        "         'DecisionTreeClassifier',\n",
        "         'CatBoostClassifier',\n",
        "         'SGDClassifier']\n",
        "data = {'F1 on cross-validation':[cv_f1_LR,\n",
        "                                 cv_f1_DTC,\n",
        "                                 cv_f1_CBC,\n",
        "                                 cv_f1_SGDC],\n",
        "        'F1 on validation':[valid_f1_LR,\n",
        "                           valid_f1_DTC,\n",
        "                           valid_f1_CBC,\n",
        "                           valid_f1_SGDC]}\n",
        "\n",
        "scores_data = pd.DataFrame(data=data, index=index)\n",
        "scores_data['Task completion'] = scores_data['F1 on validation'] > 0.75\n",
        "scores_data"
      ]
    },
    {
      "cell_type": "markdown",
      "metadata": {
        "id": "jVmai5EGJ6Io"
      },
      "source": [
        "<div style=\"font-size: 15px\">\n",
        "    \n",
        "\n",
        "**Intermediate conclusion**"
      ]
    },
    {
      "cell_type": "markdown",
      "metadata": {
        "id": "XI1TM6JkJ6Io"
      },
      "source": [
        "Since the LogisticRegression and SGDClassifier models showed the best metrics of F1 metric on the validation sample, we will use them on the test sample."
      ]
    },
    {
      "cell_type": "markdown",
      "metadata": {
        "id": "8muyufyWJ6Io"
      },
      "source": [
        "## 3. Testing"
      ]
    },
    {
      "cell_type": "markdown",
      "metadata": {
        "id": "FdxhXaOCJ6Io"
      },
      "source": [
        "Let's check the metrics F1, Precision, Recall, Accuracy and AUC-ROC."
      ]
    },
    {
      "cell_type": "code",
      "execution_count": null,
      "metadata": {
        "colab": {
          "base_uri": "https://localhost:8080/",
          "height": 821
        },
        "id": "XTMZ7LtiJ6Ip",
        "outputId": "eecada23-4baa-4278-a83a-f80804a57366"
      },
      "outputs": [
        {
          "output_type": "stream",
          "name": "stdout",
          "text": [
            "Метрики LogisticRegression\n",
            "AUC-ROC 0.9665153776738142\n",
            "F1 0.7570705567133076\n",
            "Precision 0.7220329358319136\n",
            "Recall 0.7956821026282853\n",
            "Accuracy 0.9488641704527652\n",
            "\n",
            "Метрики SGDCClassifier\n",
            "AUC-ROC 0.9705658026605473\n",
            "F1 0.753932584269663\n",
            "Precision 0.6839959225280327\n",
            "Recall 0.8397997496871089\n",
            "Accuracy 0.9451041829860567\n",
            "\n"
          ]
        },
        {
          "output_type": "display_data",
          "data": {
            "text/plain": [
              "<Figure size 864x648 with 1 Axes>"
            ],
            "image/png": "[encoded data removed]"
          },
          "metadata": {
            "needs_background": "light"
          }
        }
      ],
      "source": [
        "plt.figure(figsize=[12,9])\n",
        "\n",
        "plt.plot([0, 1], [0, 1], linestyle='--', label='RandomModel')\n",
        "\n",
        "\n",
        "log_model_final = LogisticRegression()\n",
        "log_model_final.set_params(**LR_best_params)\n",
        "log_model_final.fit(features_train, target_train)\n",
        "probabilities_test = log_model_final.predict_proba(features_test)\n",
        "probabilities_one_test = probabilities_test[:, 1]\n",
        "fpr, tpr, thresholds = roc_curve(target_test, probabilities_one_test)\n",
        "predict_test = log_model_final.predict(features_test)\n",
        "plt.plot(fpr, tpr, label='LogisticRegression')\n",
        "print('Метрики LogisticRegression')\n",
        "print('AUC-ROC', roc_auc_score(target_test, probabilities_one_test))\n",
        "print('F1', f1_score(target_test, predict_test))\n",
        "print('Precision', precision_score(target_test, predict_test))\n",
        "print('Recall', recall_score(target_test, predict_test))\n",
        "print('Accuracy', accuracy_score(target_test, predict_test))\n",
        "print()\n",
        "\n",
        "sgd_model_final = SGDClassifier()\n",
        "sgd_model_final.set_params(**SGDC_best_params)\n",
        "sgd_model_final.fit(features_train, target_train)\n",
        "probabilities_test = sgd_model_final.predict_proba(features_test)\n",
        "probabilities_one_test = probabilities_test[:, 1]\n",
        "fpr, tpr, thresholds = roc_curve(target_test, probabilities_one_test)\n",
        "predict_test = sgd_model_final.predict(features_test)\n",
        "plt.plot(fpr, tpr, label='SGDClassifier')\n",
        "print('Метрики SGDCClassifier')\n",
        "print('AUC-ROC', roc_auc_score(target_test, probabilities_one_test))\n",
        "print('F1', f1_score(target_test, predict_test))\n",
        "print('Precision', precision_score(target_test, predict_test))\n",
        "print('Recall', recall_score(target_test, predict_test))\n",
        "print('Accuracy', accuracy_score(target_test, predict_test))\n",
        "print()\n",
        "\n",
        "plt.xlim([0,1])\n",
        "plt.ylim([0,1])\n",
        "\n",
        "plt.xlabel(\"False Positive rate\")\n",
        "plt.ylabel(\"True Positive rate\")\n",
        "\n",
        "plt.legend(loc='lower right', fontsize='x-large')\n",
        "\n",
        "plt.title('ROC curve')\n",
        "plt.show()"
      ]
    },
    {
      "cell_type": "markdown",
      "metadata": {
        "id": "GQ57DOI8J6Ip"
      },
      "source": [
        "<div style=\"font-size: 20px\">\n",
        "    \n",
        "\n",
        "**Final conclusion**"
      ]
    },
    {
      "cell_type": "markdown",
      "metadata": {
        "id": "fTq2EA9JJ6Iq"
      },
      "source": [
        "Under this project, original data was preprocessed for futher training on various machine learning models, a method for balancing classes of the target indicator was selected, and training, validation, and test samples were selected on which the models were trained.\n",
        "\n",
        "The initial data have a large number of features. There are more columns created than the data records themselves.For TF-IDF, the best models were Logistic Regression and SGDClassifier.\n",
        "\n",
        "In the test sample according to the F1 metric, Logistic Regression showed itself best. This model has the best Precision, Accuracy indicators, then it finds toxic comments better.\n",
        "\n",
        "SGDClassifier showed the best indicators of AUC-ROC, Recall metrics. The model is capable of processing more records."
      ]
    }
  ],
  "metadata": {
    "ExecuteTimeLog": [
      {
        "duration": 418,
        "start_time": "2022-04-19T06:51:19.607Z"
      },
      {
        "duration": 92,
        "start_time": "2022-04-19T06:51:31.062Z"
      },
      {
        "duration": 1037,
        "start_time": "2022-04-19T06:51:57.751Z"
      },
      {
        "duration": 13,
        "start_time": "2022-04-19T06:52:04.855Z"
      }
    ],
    "colab": {
      "collapsed_sections": [],
      "name": "12_toxic_comments_project.ipynb",
      "provenance": []
    },
    "kernelspec": {
      "display_name": "Python 3",
      "language": "python",
      "name": "python3"
    },
    "language_info": {
      "codemirror_mode": {
        "name": "ipython",
        "version": 3
      },
      "file_extension": ".py",
      "mimetype": "text/x-python",
      "name": "python",
      "nbconvert_exporter": "python",
      "pygments_lexer": "ipython3",
      "version": "3.8.8"
    },
    "toc": {
      "base_numbering": 1,
      "nav_menu": {},
      "number_sections": true,
      "sideBar": true,
      "skip_h1_title": true,
      "title_cell": "Содержание",
      "title_sidebar": "Contents",
      "toc_cell": true,
      "toc_position": {
        "height": "calc(100% - 180px)",
        "left": "10px",
        "top": "150px",
        "width": "302.391px"
      },
      "toc_section_display": true,
      "toc_window_display": false
    }
  },
  "nbformat": 4,
  "nbformat_minor": 0
}