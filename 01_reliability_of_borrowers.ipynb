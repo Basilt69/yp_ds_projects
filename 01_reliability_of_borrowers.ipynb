{
 "cells": [
  {
   "cell_type": "markdown",
   "metadata": {},
   "source": [
    "# Investigation of the reliability of borrowers\n",
    "\n",
    "Based on the order of the Customer (the bank's credit department), it is necessary to understand whether the marital status and the number of children of the client affect the fact of repayment of the loan on time. Input data from the bank — statistics on the solvency of customers.\n",
    "\n",
    "The results of the study will be taken into account when building a model of **credit scoring** — a special system that evaluates the ability of a potential borrower to repay a loan to the bank."
   ]
  },
  {
   "cell_type": "markdown",
   "metadata": {},
   "source": [
    "**The purpose of the analysis**"
   ]
  },
  {
   "cell_type": "markdown",
   "metadata": {},
   "source": [
    "The purpose of the study is to answer the following questions:\n",
    "\n",
    "1) Is there a relationship between having children and repayment of the loan on time?\n",
    "\n",
    "2) Is there a relationship between marital status and repayment of the loan on time?\n",
    "\n",
    "3) Is there a relationship between the level of income and repayment of the loan on time?\n",
    "\n",
    "4) How do the different purposes of the loan affect its repayment on time?"
   ]
  },
  {
   "cell_type": "markdown",
   "metadata": {},
   "source": [
    "***Table of contents:***\n",
    "\n",
    "[1 Data overview](#chapter1)\n",
    "\n",
    "[2 Data preprocessing](#chapter2)\n",
    "\n",
    "[3 Identification of dependencies for different categories of borrowers](#chapter3)\n",
    "\n",
    "[Final conclusion](#chapter4)\n"
   ]
  },
  {
   "cell_type": "markdown",
   "metadata": {},
   "source": [
    "## 1. Data overview"
   ]
  },
  {
   "cell_type": "code",
   "execution_count": 1,
   "metadata": {},
   "outputs": [
    {
     "name": "stdout",
     "output_type": "stream",
     "text": [
      "<class 'pandas.core.frame.DataFrame'>\n",
      "RangeIndex: 21525 entries, 0 to 21524\n",
      "Data columns (total 12 columns):\n",
      " #   Column            Non-Null Count  Dtype  \n",
      "---  ------            --------------  -----  \n",
      " 0   children          21525 non-null  int64  \n",
      " 1   days_employed     19351 non-null  float64\n",
      " 2   dob_years         21525 non-null  int64  \n",
      " 3   education         21525 non-null  object \n",
      " 4   education_id      21525 non-null  int64  \n",
      " 5   family_status     21525 non-null  object \n",
      " 6   family_status_id  21525 non-null  int64  \n",
      " 7   gender            21525 non-null  object \n",
      " 8   income_type       21525 non-null  object \n",
      " 9   debt              21525 non-null  int64  \n",
      " 10  total_income      19351 non-null  float64\n",
      " 11  purpose           21525 non-null  object \n",
      "dtypes: float64(2), int64(5), object(5)\n",
      "memory usage: 2.0+ MB\n"
     ]
    }
   ],
   "source": [
    "import pandas as pd\n",
    "from pymystem3 import Mystem\n",
    "from collections import Counter\n",
    "import pprint\n",
    "\n",
    "data = pd.read_csv('data.csv')\n",
    "\n",
    "data.info()"
   ]
  },
  {
   "cell_type": "code",
   "execution_count": 2,
   "metadata": {},
   "outputs": [
    {
     "data": {
      "text/html": [
       "<div>\n",
       "<style scoped>\n",
       "    .dataframe tbody tr th:only-of-type {\n",
       "        vertical-align: middle;\n",
       "    }\n",
       "\n",
       "    .dataframe tbody tr th {\n",
       "        vertical-align: top;\n",
       "    }\n",
       "\n",
       "    .dataframe thead th {\n",
       "        text-align: right;\n",
       "    }\n",
       "</style>\n",
       "<table border=\"1\" class=\"dataframe\">\n",
       "  <thead>\n",
       "    <tr style=\"text-align: right;\">\n",
       "      <th></th>\n",
       "      <th>children</th>\n",
       "      <th>days_employed</th>\n",
       "      <th>dob_years</th>\n",
       "      <th>education</th>\n",
       "      <th>education_id</th>\n",
       "      <th>family_status</th>\n",
       "      <th>family_status_id</th>\n",
       "      <th>gender</th>\n",
       "      <th>income_type</th>\n",
       "      <th>debt</th>\n",
       "      <th>total_income</th>\n",
       "      <th>purpose</th>\n",
       "    </tr>\n",
       "  </thead>\n",
       "  <tbody>\n",
       "    <tr>\n",
       "      <th>0</th>\n",
       "      <td>1</td>\n",
       "      <td>-8437.673028</td>\n",
       "      <td>42</td>\n",
       "      <td>высшее</td>\n",
       "      <td>0</td>\n",
       "      <td>женат / замужем</td>\n",
       "      <td>0</td>\n",
       "      <td>F</td>\n",
       "      <td>сотрудник</td>\n",
       "      <td>0</td>\n",
       "      <td>253875.639453</td>\n",
       "      <td>покупка жилья</td>\n",
       "    </tr>\n",
       "    <tr>\n",
       "      <th>1</th>\n",
       "      <td>1</td>\n",
       "      <td>-4024.803754</td>\n",
       "      <td>36</td>\n",
       "      <td>среднее</td>\n",
       "      <td>1</td>\n",
       "      <td>женат / замужем</td>\n",
       "      <td>0</td>\n",
       "      <td>F</td>\n",
       "      <td>сотрудник</td>\n",
       "      <td>0</td>\n",
       "      <td>112080.014102</td>\n",
       "      <td>приобретение автомобиля</td>\n",
       "    </tr>\n",
       "    <tr>\n",
       "      <th>2</th>\n",
       "      <td>0</td>\n",
       "      <td>-5623.422610</td>\n",
       "      <td>33</td>\n",
       "      <td>Среднее</td>\n",
       "      <td>1</td>\n",
       "      <td>женат / замужем</td>\n",
       "      <td>0</td>\n",
       "      <td>M</td>\n",
       "      <td>сотрудник</td>\n",
       "      <td>0</td>\n",
       "      <td>145885.952297</td>\n",
       "      <td>покупка жилья</td>\n",
       "    </tr>\n",
       "    <tr>\n",
       "      <th>3</th>\n",
       "      <td>3</td>\n",
       "      <td>-4124.747207</td>\n",
       "      <td>32</td>\n",
       "      <td>среднее</td>\n",
       "      <td>1</td>\n",
       "      <td>женат / замужем</td>\n",
       "      <td>0</td>\n",
       "      <td>M</td>\n",
       "      <td>сотрудник</td>\n",
       "      <td>0</td>\n",
       "      <td>267628.550329</td>\n",
       "      <td>дополнительное образование</td>\n",
       "    </tr>\n",
       "    <tr>\n",
       "      <th>4</th>\n",
       "      <td>0</td>\n",
       "      <td>340266.072047</td>\n",
       "      <td>53</td>\n",
       "      <td>среднее</td>\n",
       "      <td>1</td>\n",
       "      <td>гражданский брак</td>\n",
       "      <td>1</td>\n",
       "      <td>F</td>\n",
       "      <td>пенсионер</td>\n",
       "      <td>0</td>\n",
       "      <td>158616.077870</td>\n",
       "      <td>сыграть свадьбу</td>\n",
       "    </tr>\n",
       "  </tbody>\n",
       "</table>\n",
       "</div>"
      ],
      "text/plain": [
       "   children  days_employed  dob_years education  education_id  \\\n",
       "0         1   -8437.673028         42    высшее             0   \n",
       "1         1   -4024.803754         36   среднее             1   \n",
       "2         0   -5623.422610         33   Среднее             1   \n",
       "3         3   -4124.747207         32   среднее             1   \n",
       "4         0  340266.072047         53   среднее             1   \n",
       "\n",
       "      family_status  family_status_id gender income_type  debt   total_income  \\\n",
       "0   женат / замужем                 0      F   сотрудник     0  253875.639453   \n",
       "1   женат / замужем                 0      F   сотрудник     0  112080.014102   \n",
       "2   женат / замужем                 0      M   сотрудник     0  145885.952297   \n",
       "3   женат / замужем                 0      M   сотрудник     0  267628.550329   \n",
       "4  гражданский брак                 1      F   пенсионер     0  158616.077870   \n",
       "\n",
       "                      purpose  \n",
       "0               покупка жилья  \n",
       "1     приобретение автомобиля  \n",
       "2               покупка жилья  \n",
       "3  дополнительное образование  \n",
       "4             сыграть свадьбу  "
      ]
     },
     "execution_count": 2,
     "metadata": {},
     "output_type": "execute_result"
    }
   ],
   "source": [
    "data.head()"
   ]
  },
  {
   "cell_type": "markdown",
   "metadata": {},
   "source": [
    "**Column names:**\n",
    "\n",
    "children — the number of children in the family\n",
    "\n",
    "days_employed — total work experience in days\n",
    "\n",
    "dob_years — client's age in years\n",
    "\n",
    "education — the level of education of the client\n",
    "\n",
    "education_id — identifier of the level of education\n",
    "\n",
    "family_status — marital status\n",
    "\n",
    "family_status_id — id of marital status\n",
    "\n",
    "gender — the gender of the client\n",
    "\n",
    "income_type — type of employment\n",
    "\n",
    "debt — whether there was a debt on repayment of loans\n",
    "\n",
    "total_income — monthly income\n",
    "\n",
    "purpose — the purpose of obtaining a loan"
   ]
  },
  {
   "cell_type": "markdown",
   "metadata": {},
   "source": [
    "Let's check for unique values in the columns and their number (if necessary, their share of the total number)"
   ]
  },
  {
   "cell_type": "code",
   "execution_count": 3,
   "metadata": {
    "scrolled": true
   },
   "outputs": [
    {
     "data": {
      "text/plain": [
       " 0     14149\n",
       " 1      4818\n",
       " 2      2055\n",
       " 3       330\n",
       " 20       76\n",
       "-1        47\n",
       " 4        41\n",
       " 5         9\n",
       "Name: children, dtype: int64"
      ]
     },
     "execution_count": 3,
     "metadata": {},
     "output_type": "execute_result"
    }
   ],
   "source": [
    "data['children'].value_counts()"
   ]
  },
  {
   "cell_type": "markdown",
   "metadata": {},
   "source": [
    "The \"-1\" value needs to be processed in the 'children' column"
   ]
  },
  {
   "cell_type": "code",
   "execution_count": 4,
   "metadata": {},
   "outputs": [
    {
     "data": {
      "text/html": [
       "<div>\n",
       "<style scoped>\n",
       "    .dataframe tbody tr th:only-of-type {\n",
       "        vertical-align: middle;\n",
       "    }\n",
       "\n",
       "    .dataframe tbody tr th {\n",
       "        vertical-align: top;\n",
       "    }\n",
       "\n",
       "    .dataframe thead th {\n",
       "        text-align: right;\n",
       "    }\n",
       "</style>\n",
       "<table border=\"1\" class=\"dataframe\">\n",
       "  <thead>\n",
       "    <tr style=\"text-align: right;\">\n",
       "      <th></th>\n",
       "      <th>children</th>\n",
       "      <th>days_employed</th>\n",
       "      <th>dob_years</th>\n",
       "      <th>education</th>\n",
       "      <th>education_id</th>\n",
       "      <th>family_status</th>\n",
       "      <th>family_status_id</th>\n",
       "      <th>gender</th>\n",
       "      <th>income_type</th>\n",
       "      <th>debt</th>\n",
       "      <th>total_income</th>\n",
       "      <th>purpose</th>\n",
       "    </tr>\n",
       "  </thead>\n",
       "  <tbody>\n",
       "    <tr>\n",
       "      <th>291</th>\n",
       "      <td>-1</td>\n",
       "      <td>-4417.703588</td>\n",
       "      <td>46</td>\n",
       "      <td>среднее</td>\n",
       "      <td>1</td>\n",
       "      <td>гражданский брак</td>\n",
       "      <td>1</td>\n",
       "      <td>F</td>\n",
       "      <td>сотрудник</td>\n",
       "      <td>0</td>\n",
       "      <td>102816.346412</td>\n",
       "      <td>профильное образование</td>\n",
       "    </tr>\n",
       "    <tr>\n",
       "      <th>705</th>\n",
       "      <td>-1</td>\n",
       "      <td>-902.084528</td>\n",
       "      <td>50</td>\n",
       "      <td>среднее</td>\n",
       "      <td>1</td>\n",
       "      <td>женат / замужем</td>\n",
       "      <td>0</td>\n",
       "      <td>F</td>\n",
       "      <td>госслужащий</td>\n",
       "      <td>0</td>\n",
       "      <td>137882.899271</td>\n",
       "      <td>приобретение автомобиля</td>\n",
       "    </tr>\n",
       "    <tr>\n",
       "      <th>742</th>\n",
       "      <td>-1</td>\n",
       "      <td>-3174.456205</td>\n",
       "      <td>57</td>\n",
       "      <td>среднее</td>\n",
       "      <td>1</td>\n",
       "      <td>женат / замужем</td>\n",
       "      <td>0</td>\n",
       "      <td>F</td>\n",
       "      <td>сотрудник</td>\n",
       "      <td>0</td>\n",
       "      <td>64268.044444</td>\n",
       "      <td>дополнительное образование</td>\n",
       "    </tr>\n",
       "    <tr>\n",
       "      <th>800</th>\n",
       "      <td>-1</td>\n",
       "      <td>349987.852217</td>\n",
       "      <td>54</td>\n",
       "      <td>среднее</td>\n",
       "      <td>1</td>\n",
       "      <td>Не женат / не замужем</td>\n",
       "      <td>4</td>\n",
       "      <td>F</td>\n",
       "      <td>пенсионер</td>\n",
       "      <td>0</td>\n",
       "      <td>86293.724153</td>\n",
       "      <td>дополнительное образование</td>\n",
       "    </tr>\n",
       "    <tr>\n",
       "      <th>941</th>\n",
       "      <td>-1</td>\n",
       "      <td>NaN</td>\n",
       "      <td>57</td>\n",
       "      <td>Среднее</td>\n",
       "      <td>1</td>\n",
       "      <td>женат / замужем</td>\n",
       "      <td>0</td>\n",
       "      <td>F</td>\n",
       "      <td>пенсионер</td>\n",
       "      <td>0</td>\n",
       "      <td>NaN</td>\n",
       "      <td>на покупку своего автомобиля</td>\n",
       "    </tr>\n",
       "    <tr>\n",
       "      <th>1363</th>\n",
       "      <td>-1</td>\n",
       "      <td>-1195.264956</td>\n",
       "      <td>55</td>\n",
       "      <td>СРЕДНЕЕ</td>\n",
       "      <td>1</td>\n",
       "      <td>женат / замужем</td>\n",
       "      <td>0</td>\n",
       "      <td>F</td>\n",
       "      <td>компаньон</td>\n",
       "      <td>0</td>\n",
       "      <td>69550.699692</td>\n",
       "      <td>профильное образование</td>\n",
       "    </tr>\n",
       "    <tr>\n",
       "      <th>1929</th>\n",
       "      <td>-1</td>\n",
       "      <td>-1461.303336</td>\n",
       "      <td>38</td>\n",
       "      <td>среднее</td>\n",
       "      <td>1</td>\n",
       "      <td>Не женат / не замужем</td>\n",
       "      <td>4</td>\n",
       "      <td>M</td>\n",
       "      <td>сотрудник</td>\n",
       "      <td>0</td>\n",
       "      <td>109121.569013</td>\n",
       "      <td>покупка жилья</td>\n",
       "    </tr>\n",
       "    <tr>\n",
       "      <th>2073</th>\n",
       "      <td>-1</td>\n",
       "      <td>-2539.761232</td>\n",
       "      <td>42</td>\n",
       "      <td>среднее</td>\n",
       "      <td>1</td>\n",
       "      <td>в разводе</td>\n",
       "      <td>3</td>\n",
       "      <td>F</td>\n",
       "      <td>компаньон</td>\n",
       "      <td>0</td>\n",
       "      <td>162638.609373</td>\n",
       "      <td>покупка жилья</td>\n",
       "    </tr>\n",
       "    <tr>\n",
       "      <th>3814</th>\n",
       "      <td>-1</td>\n",
       "      <td>-3045.290443</td>\n",
       "      <td>26</td>\n",
       "      <td>Среднее</td>\n",
       "      <td>1</td>\n",
       "      <td>гражданский брак</td>\n",
       "      <td>1</td>\n",
       "      <td>F</td>\n",
       "      <td>госслужащий</td>\n",
       "      <td>0</td>\n",
       "      <td>131892.785435</td>\n",
       "      <td>на проведение свадьбы</td>\n",
       "    </tr>\n",
       "    <tr>\n",
       "      <th>4201</th>\n",
       "      <td>-1</td>\n",
       "      <td>-901.101738</td>\n",
       "      <td>41</td>\n",
       "      <td>среднее</td>\n",
       "      <td>1</td>\n",
       "      <td>женат / замужем</td>\n",
       "      <td>0</td>\n",
       "      <td>F</td>\n",
       "      <td>госслужащий</td>\n",
       "      <td>0</td>\n",
       "      <td>226375.766751</td>\n",
       "      <td>операции со своей недвижимостью</td>\n",
       "    </tr>\n",
       "  </tbody>\n",
       "</table>\n",
       "</div>"
      ],
      "text/plain": [
       "      children  days_employed  dob_years education  education_id  \\\n",
       "291         -1   -4417.703588         46   среднее             1   \n",
       "705         -1    -902.084528         50   среднее             1   \n",
       "742         -1   -3174.456205         57   среднее             1   \n",
       "800         -1  349987.852217         54   среднее             1   \n",
       "941         -1            NaN         57   Среднее             1   \n",
       "1363        -1   -1195.264956         55   СРЕДНЕЕ             1   \n",
       "1929        -1   -1461.303336         38   среднее             1   \n",
       "2073        -1   -2539.761232         42   среднее             1   \n",
       "3814        -1   -3045.290443         26   Среднее             1   \n",
       "4201        -1    -901.101738         41   среднее             1   \n",
       "\n",
       "              family_status  family_status_id gender  income_type  debt  \\\n",
       "291        гражданский брак                 1      F    сотрудник     0   \n",
       "705         женат / замужем                 0      F  госслужащий     0   \n",
       "742         женат / замужем                 0      F    сотрудник     0   \n",
       "800   Не женат / не замужем                 4      F    пенсионер     0   \n",
       "941         женат / замужем                 0      F    пенсионер     0   \n",
       "1363        женат / замужем                 0      F    компаньон     0   \n",
       "1929  Не женат / не замужем                 4      M    сотрудник     0   \n",
       "2073              в разводе                 3      F    компаньон     0   \n",
       "3814       гражданский брак                 1      F  госслужащий     0   \n",
       "4201        женат / замужем                 0      F  госслужащий     0   \n",
       "\n",
       "       total_income                          purpose  \n",
       "291   102816.346412           профильное образование  \n",
       "705   137882.899271          приобретение автомобиля  \n",
       "742    64268.044444       дополнительное образование  \n",
       "800    86293.724153       дополнительное образование  \n",
       "941             NaN     на покупку своего автомобиля  \n",
       "1363   69550.699692           профильное образование  \n",
       "1929  109121.569013                    покупка жилья  \n",
       "2073  162638.609373                    покупка жилья  \n",
       "3814  131892.785435            на проведение свадьбы  \n",
       "4201  226375.766751  операции со своей недвижимостью  "
      ]
     },
     "execution_count": 4,
     "metadata": {},
     "output_type": "execute_result"
    }
   ],
   "source": [
    "data.loc[data['children'] == -1 ].head(10)"
   ]
  },
  {
   "cell_type": "code",
   "execution_count": 5,
   "metadata": {},
   "outputs": [
    {
     "data": {
      "text/plain": [
       "0.002"
      ]
     },
     "execution_count": 5,
     "metadata": {},
     "output_type": "execute_result"
    }
   ],
   "source": [
    "round((data['children'] == -1).mean(), 3)"
   ]
  },
  {
   "cell_type": "code",
   "execution_count": 6,
   "metadata": {
    "scrolled": true
   },
   "outputs": [
    {
     "data": {
      "text/plain": [
       "35    617\n",
       "40    609\n",
       "41    607\n",
       "34    603\n",
       "38    598\n",
       "42    597\n",
       "33    581\n",
       "39    573\n",
       "31    560\n",
       "36    555\n",
       "44    547\n",
       "29    545\n",
       "30    540\n",
       "48    538\n",
       "37    537\n",
       "50    514\n",
       "43    513\n",
       "32    510\n",
       "49    508\n",
       "28    503\n",
       "45    497\n",
       "27    493\n",
       "56    487\n",
       "52    484\n",
       "47    480\n",
       "54    479\n",
       "46    475\n",
       "58    461\n",
       "57    460\n",
       "53    459\n",
       "51    448\n",
       "59    444\n",
       "55    443\n",
       "26    408\n",
       "60    377\n",
       "25    357\n",
       "61    355\n",
       "62    352\n",
       "63    269\n",
       "64    265\n",
       "24    264\n",
       "23    254\n",
       "65    194\n",
       "66    183\n",
       "22    183\n",
       "67    167\n",
       "21    111\n",
       "0     101\n",
       "68     99\n",
       "69     85\n",
       "70     65\n",
       "71     58\n",
       "20     51\n",
       "72     33\n",
       "19     14\n",
       "73      8\n",
       "74      6\n",
       "75      1\n",
       "Name: dob_years, dtype: int64"
      ]
     },
     "execution_count": 6,
     "metadata": {},
     "output_type": "execute_result"
    }
   ],
   "source": [
    "data['dob_years'].value_counts()"
   ]
  },
  {
   "cell_type": "code",
   "execution_count": 7,
   "metadata": {},
   "outputs": [
    {
     "name": "stdout",
     "output_type": "stream",
     "text": [
      "0.4692218350754936\n"
     ]
    }
   ],
   "source": [
    "print(data.loc[data['dob_years'] == 0]['dob_years'].count() / data['dob_years'].count() * 100) "
   ]
  },
  {
   "cell_type": "code",
   "execution_count": 8,
   "metadata": {},
   "outputs": [
    {
     "data": {
      "text/plain": [
       "среднее                13750\n",
       "высшее                  4718\n",
       "СРЕДНЕЕ                  772\n",
       "Среднее                  711\n",
       "неоконченное высшее      668\n",
       "ВЫСШЕЕ                   274\n",
       "Высшее                   268\n",
       "начальное                250\n",
       "Неоконченное высшее       47\n",
       "НЕОКОНЧЕННОЕ ВЫСШЕЕ       29\n",
       "НАЧАЛЬНОЕ                 17\n",
       "Начальное                 15\n",
       "ученая степень             4\n",
       "Ученая степень             1\n",
       "УЧЕНАЯ СТЕПЕНЬ             1\n",
       "Name: education, dtype: int64"
      ]
     },
     "execution_count": 8,
     "metadata": {},
     "output_type": "execute_result"
    }
   ],
   "source": [
    "data['education'].value_counts()"
   ]
  },
  {
   "cell_type": "markdown",
   "metadata": {},
   "source": [
    "The 'education' column needs to be lowercased."
   ]
  },
  {
   "cell_type": "code",
   "execution_count": 9,
   "metadata": {},
   "outputs": [
    {
     "data": {
      "text/plain": [
       "1    15233\n",
       "0     5260\n",
       "2      744\n",
       "3      282\n",
       "4        6\n",
       "Name: education_id, dtype: int64"
      ]
     },
     "execution_count": 9,
     "metadata": {},
     "output_type": "execute_result"
    }
   ],
   "source": [
    "data['education_id'].value_counts()"
   ]
  },
  {
   "cell_type": "code",
   "execution_count": 10,
   "metadata": {},
   "outputs": [
    {
     "data": {
      "text/plain": [
       "женат / замужем          12380\n",
       "гражданский брак          4177\n",
       "Не женат / не замужем     2813\n",
       "в разводе                 1195\n",
       "вдовец / вдова             960\n",
       "Name: family_status, dtype: int64"
      ]
     },
     "execution_count": 10,
     "metadata": {},
     "output_type": "execute_result"
    }
   ],
   "source": [
    "data['family_status'].value_counts()"
   ]
  },
  {
   "cell_type": "markdown",
   "metadata": {},
   "source": [
    "The 'family_status' column needs to be lowercased. "
   ]
  },
  {
   "cell_type": "code",
   "execution_count": 11,
   "metadata": {},
   "outputs": [
    {
     "data": {
      "text/plain": [
       "0    12380\n",
       "1     4177\n",
       "4     2813\n",
       "3     1195\n",
       "2      960\n",
       "Name: family_status_id, dtype: int64"
      ]
     },
     "execution_count": 11,
     "metadata": {},
     "output_type": "execute_result"
    }
   ],
   "source": [
    "data['family_status_id'].value_counts()"
   ]
  },
  {
   "cell_type": "code",
   "execution_count": 12,
   "metadata": {},
   "outputs": [
    {
     "data": {
      "text/plain": [
       "F      14236\n",
       "M       7288\n",
       "XNA        1\n",
       "Name: gender, dtype: int64"
      ]
     },
     "execution_count": 12,
     "metadata": {},
     "output_type": "execute_result"
    }
   ],
   "source": [
    "data['gender'].value_counts()"
   ]
  },
  {
   "cell_type": "code",
   "execution_count": 13,
   "metadata": {},
   "outputs": [
    {
     "data": {
      "text/html": [
       "<div>\n",
       "<style scoped>\n",
       "    .dataframe tbody tr th:only-of-type {\n",
       "        vertical-align: middle;\n",
       "    }\n",
       "\n",
       "    .dataframe tbody tr th {\n",
       "        vertical-align: top;\n",
       "    }\n",
       "\n",
       "    .dataframe thead th {\n",
       "        text-align: right;\n",
       "    }\n",
       "</style>\n",
       "<table border=\"1\" class=\"dataframe\">\n",
       "  <thead>\n",
       "    <tr style=\"text-align: right;\">\n",
       "      <th></th>\n",
       "      <th>children</th>\n",
       "      <th>days_employed</th>\n",
       "      <th>dob_years</th>\n",
       "      <th>education</th>\n",
       "      <th>education_id</th>\n",
       "      <th>family_status</th>\n",
       "      <th>family_status_id</th>\n",
       "      <th>gender</th>\n",
       "      <th>income_type</th>\n",
       "      <th>debt</th>\n",
       "      <th>total_income</th>\n",
       "      <th>purpose</th>\n",
       "    </tr>\n",
       "  </thead>\n",
       "  <tbody>\n",
       "    <tr>\n",
       "      <th>10701</th>\n",
       "      <td>0</td>\n",
       "      <td>-2358.600502</td>\n",
       "      <td>24</td>\n",
       "      <td>неоконченное высшее</td>\n",
       "      <td>2</td>\n",
       "      <td>гражданский брак</td>\n",
       "      <td>1</td>\n",
       "      <td>XNA</td>\n",
       "      <td>компаньон</td>\n",
       "      <td>0</td>\n",
       "      <td>203905.157261</td>\n",
       "      <td>покупка недвижимости</td>\n",
       "    </tr>\n",
       "  </tbody>\n",
       "</table>\n",
       "</div>"
      ],
      "text/plain": [
       "       children  days_employed  dob_years            education  education_id  \\\n",
       "10701         0   -2358.600502         24  неоконченное высшее             2   \n",
       "\n",
       "          family_status  family_status_id gender income_type  debt  \\\n",
       "10701  гражданский брак                 1    XNA   компаньон     0   \n",
       "\n",
       "        total_income               purpose  \n",
       "10701  203905.157261  покупка недвижимости  "
      ]
     },
     "execution_count": 13,
     "metadata": {},
     "output_type": "execute_result"
    }
   ],
   "source": [
    "data.loc[data['gender'] == 'XNA']"
   ]
  },
  {
   "cell_type": "code",
   "execution_count": 14,
   "metadata": {},
   "outputs": [
    {
     "data": {
      "text/plain": [
       "сотрудник          11119\n",
       "компаньон           5085\n",
       "пенсионер           3856\n",
       "госслужащий         1459\n",
       "предприниматель        2\n",
       "безработный            2\n",
       "студент                1\n",
       "в декрете              1\n",
       "Name: income_type, dtype: int64"
      ]
     },
     "execution_count": 14,
     "metadata": {},
     "output_type": "execute_result"
    }
   ],
   "source": [
    "data['income_type'].value_counts()"
   ]
  },
  {
   "cell_type": "code",
   "execution_count": 15,
   "metadata": {},
   "outputs": [
    {
     "data": {
      "text/plain": [
       "свадьба                                   797\n",
       "на проведение свадьбы                     777\n",
       "сыграть свадьбу                           774\n",
       "операции с недвижимостью                  676\n",
       "покупка коммерческой недвижимости         664\n",
       "операции с жильем                         653\n",
       "покупка жилья для сдачи                   653\n",
       "операции с коммерческой недвижимостью     651\n",
       "покупка жилья                             647\n",
       "жилье                                     647\n",
       "покупка жилья для семьи                   641\n",
       "строительство собственной недвижимости    635\n",
       "недвижимость                              634\n",
       "операции со своей недвижимостью           630\n",
       "строительство жилой недвижимости          626\n",
       "покупка недвижимости                      624\n",
       "строительство недвижимости                620\n",
       "покупка своего жилья                      620\n",
       "ремонт жилью                              612\n",
       "покупка жилой недвижимости                607\n",
       "на покупку своего автомобиля              505\n",
       "заняться высшим образованием              496\n",
       "автомобиль                                495\n",
       "сделка с подержанным автомобилем          489\n",
       "свой автомобиль                           480\n",
       "на покупку подержанного автомобиля        479\n",
       "автомобили                                478\n",
       "на покупку автомобиля                     472\n",
       "приобретение автомобиля                   462\n",
       "дополнительное образование                462\n",
       "сделка с автомобилем                      455\n",
       "высшее образование                        453\n",
       "образование                               447\n",
       "получение дополнительного образования     447\n",
       "получение образования                     443\n",
       "профильное образование                    436\n",
       "получение высшего образования             426\n",
       "заняться образованием                     412\n",
       "Name: purpose, dtype: int64"
      ]
     },
     "execution_count": 15,
     "metadata": {},
     "output_type": "execute_result"
    }
   ],
   "source": [
    "data['purpose'].value_counts()"
   ]
  },
  {
   "cell_type": "markdown",
   "metadata": {},
   "source": [
    "**Intermediate conclusion**"
   ]
  },
  {
   "cell_type": "markdown",
   "metadata": {},
   "source": [
    "According to the results of the preliminary examination of the data, the following should be noted:\n",
    "\n",
    "1) Column names do not require changes, however, it is required to fill in the gaps in the columns **days_employed** and **total_income**. Since their number is the same, it is possible that they are not random;\n",
    "\n",
    "2) In general, the data types in the columns do not require changes for further analysis, with the exception of **day_employed and dob_years**, since the total length of service is measured in days, and the age of the borrower in full years (it is necessary to replace with the int type);\n",
    "\n",
    "3) In the column **children** there are 47 rows with the value \"-1\", which is 0.2% of the total. Since their number is insignificant, and it is not possible to find out the exact reasons for this filling (perhaps there was a child's death), it is proposed to delete these lines in the data preprocessing. In addition, there are 76 rows in the specified column with the value \"20\" (artifact).It is not possible to find out the exact reasons for this filling, however, given the proximity of the keys 2 and 0 on standard user keyboards, the absence of any intermediate values between 5 and 20 children, it is assumed that filling with the value \"2\" was meant.;\n",
    "\n",
    "4) There are incorrect values (artifacts) in the column **days_employed**;\n",
    "\n",
    "5) In the column **dob_years** there are 101 rows with \"0\" age of customers, which is impossible(0.5% of the total number). In the preprocessing of the data, it is proposed to group them into age groups depending on the type of employment and replace the value \"0\" with the average value / median (based on the difference between them).;\n",
    "\n",
    "6) In the column **education**, **family_status** contains a large number of repetitions due to the use of different registers in the values. In the process of preprocessing, it should be brought to the lower case;\n",
    "\n",
    "7) In the column **gender** there is an 'XNA' value that cannot be attributed to either male(M) or female(W) in the Russian Federation. Since this value is only 1, it is suggested to delete it. In addition, the values in the column are set out in Latin, in the initial columns in Russian. As part of the preprocessing, it is proposed to replace with \"M\" and \"W\", respectively;\n",
    "\n",
    "8) In the column **income_type**, you should pay attention to the two values \"companion\" and \"on maternity leave\". Companion is a profession that involves caring for people on a paid basis (close to the profession - a nurse). As a rule, representatives of this profession are employees of a specialized agency or entrepreneurs. \"On maternity leave\" - the status of a temporarily unemployed co-worker/ employee of the organization. Since both categories are actually employees, it is proposed to assign them to this category.\n",
    "\n",
    "The identified comments will be processed in the \"Data Preprocessing\" section"
   ]
  },
  {
   "cell_type": "markdown",
   "metadata": {},
   "source": [
    "## 2. Data preprocessing"
   ]
  },
  {
   "cell_type": "markdown",
   "metadata": {},
   "source": [
    "First of all, we will eliminate the comments established during Data overview stage."
   ]
  },
  {
   "cell_type": "code",
   "execution_count": 16,
   "metadata": {},
   "outputs": [],
   "source": [
    "# Delete the rows with the value \"-1\" in the children column.\n",
    "\n",
    "data.drop(data[data['children'] == -1].index, inplace = True)\n",
    "\n",
    "data['children'] = data['children'].replace(20, 2)"
   ]
  },
  {
   "cell_type": "code",
   "execution_count": 17,
   "metadata": {},
   "outputs": [
    {
     "data": {
      "text/plain": [
       "0    14149\n",
       "1     4818\n",
       "2     2131\n",
       "3      330\n",
       "4       41\n",
       "5        9\n",
       "Name: children, dtype: int64"
      ]
     },
     "execution_count": 17,
     "metadata": {},
     "output_type": "execute_result"
    }
   ],
   "source": [
    "# Checking the removal and replacement of 20 by 2\n",
    "\n",
    "data['children'].value_counts()"
   ]
  },
  {
   "cell_type": "code",
   "execution_count": 18,
   "metadata": {},
   "outputs": [],
   "source": [
    "# Lowercase 'education' column values\n",
    "\n",
    "data['education'] = data['education'].str.lower()\n",
    "\n",
    "data['family_status'] = data['family_status'].str.lower()"
   ]
  },
  {
   "cell_type": "code",
   "execution_count": 19,
   "metadata": {},
   "outputs": [
    {
     "data": {
      "text/plain": [
       "среднее                15196\n",
       "высшее                  5251\n",
       "неоконченное высшее      743\n",
       "начальное                282\n",
       "ученая степень             6\n",
       "Name: education, dtype: int64"
      ]
     },
     "execution_count": 19,
     "metadata": {},
     "output_type": "execute_result"
    }
   ],
   "source": [
    "data['education'].value_counts()"
   ]
  },
  {
   "cell_type": "code",
   "execution_count": 20,
   "metadata": {},
   "outputs": [
    {
     "data": {
      "text/plain": [
       "женат / замужем          12351\n",
       "гражданский брак          4172\n",
       "не женат / не замужем     2808\n",
       "в разводе                 1191\n",
       "вдовец / вдова             956\n",
       "Name: family_status, dtype: int64"
      ]
     },
     "execution_count": 20,
     "metadata": {},
     "output_type": "execute_result"
    }
   ],
   "source": [
    "data['family_status'].value_counts()"
   ]
  },
  {
   "cell_type": "code",
   "execution_count": 21,
   "metadata": {},
   "outputs": [],
   "source": [
    "# deleting the row with the value XNA in the gender column and replacing the Latin name of the gender with Russian\n",
    "\n",
    "data.drop(data[data['gender'] == 'XNA'].index, inplace=True)\n",
    "\n",
    "data['gender'] = data['gender'].replace('F', 'Ж')\n",
    "data['gender'] = data['gender'].replace('M', 'М')"
   ]
  },
  {
   "cell_type": "code",
   "execution_count": 22,
   "metadata": {},
   "outputs": [
    {
     "data": {
      "text/plain": [
       "Ж    14201\n",
       "М     7276\n",
       "Name: gender, dtype: int64"
      ]
     },
     "execution_count": 22,
     "metadata": {},
     "output_type": "execute_result"
    }
   ],
   "source": [
    "# Checking for deletion and replacement\n",
    "\n",
    "data['gender'].value_counts()"
   ]
  },
  {
   "cell_type": "code",
   "execution_count": 23,
   "metadata": {},
   "outputs": [],
   "source": [
    "# Changing \"компаньона\" and \"в декрете\" to employee in the 'income_type' column\n",
    "\n",
    "data['income_type'] = data['income_type'].replace('компаньон', 'сотрудник')\n",
    "\n",
    "data['income_type'] = data['income_type'].replace('в декрете','сотрудник')\n"
   ]
  },
  {
   "cell_type": "code",
   "execution_count": 24,
   "metadata": {},
   "outputs": [
    {
     "data": {
      "text/plain": [
       "сотрудник          16169\n",
       "пенсионер           3848\n",
       "госслужащий         1455\n",
       "предприниматель        2\n",
       "безработный            2\n",
       "студент                1\n",
       "Name: income_type, dtype: int64"
      ]
     },
     "execution_count": 24,
     "metadata": {},
     "output_type": "execute_result"
    }
   ],
   "source": [
    "# Checking for replacement\n",
    "\n",
    "data['income_type'].value_counts()"
   ]
  },
  {
   "cell_type": "markdown",
   "metadata": {},
   "source": [
    "Since it was decided to use the average/median value for the age group of borrowers, depending on the type of employment, to replace the zero values in the **dog_years** column, we will group the data based on the specified parameters."
   ]
  },
  {
   "cell_type": "code",
   "execution_count": 25,
   "metadata": {},
   "outputs": [
    {
     "data": {
      "text/plain": [
       "0      пенсионер\n",
       "1      сотрудник\n",
       "2    госслужащий\n",
       "Name: income_type, dtype: object"
      ]
     },
     "execution_count": 25,
     "metadata": {},
     "output_type": "execute_result"
    }
   ],
   "source": [
    "# Let's select rows with zero values in the dob_years column in a separate dictionary by the type of employment\n",
    "income_type_dict = data[data['dob_years'] == 0]['income_type']\n",
    "income_type_dict = income_type_dict.drop_duplicates().reset_index(drop = True)\n",
    "income_type_dict\n"
   ]
  },
  {
   "cell_type": "markdown",
   "metadata": {},
   "source": [
    "Replace the zero values with the median value for each category of borrowers, depending on the type of employment.\n",
    "Since the difference between the mean and median is insignificant (the values are generally evenly distributed), the choice between the latter should not be of significant importance for the results of the study. In addition, since full years were recorded in the data, the final values should be converted to the int type."
   ]
  },
  {
   "cell_type": "code",
   "execution_count": 26,
   "metadata": {},
   "outputs": [
    {
     "data": {
      "text/plain": [
       "count    21477.000000\n",
       "mean        43.295851\n",
       "std         12.576916\n",
       "min          0.000000\n",
       "25%         33.000000\n",
       "50%         42.000000\n",
       "75%         53.000000\n",
       "max         75.000000\n",
       "Name: dob_years, dtype: float64"
      ]
     },
     "execution_count": 26,
     "metadata": {},
     "output_type": "execute_result"
    }
   ],
   "source": [
    "data['dob_years'].describe()"
   ]
  },
  {
   "cell_type": "code",
   "execution_count": 27,
   "metadata": {},
   "outputs": [],
   "source": [
    "data['dob_years'] = data.groupby('income_type')['dob_years'].transform(lambda group : group.fillna(group.median()))"
   ]
  },
  {
   "cell_type": "code",
   "execution_count": 28,
   "metadata": {},
   "outputs": [
    {
     "name": "stdout",
     "output_type": "stream",
     "text": [
      "43.295851375890486\n",
      "42.0\n"
     ]
    }
   ],
   "source": [
    "print(data['dob_years'].mean())\n",
    "print(data['dob_years'].median())\n",
    "    \n",
    "data['dob_years'] = data['dob_years'].astype('int64')"
   ]
  },
  {
   "cell_type": "code",
   "execution_count": 29,
   "metadata": {},
   "outputs": [
    {
     "data": {
      "text/plain": [
       "0     101\n",
       "19     14\n",
       "20     51\n",
       "21    111\n",
       "22    183\n",
       "23    253\n",
       "24    263\n",
       "25    357\n",
       "26    407\n",
       "27    492\n",
       "Name: dob_years, dtype: int64"
      ]
     },
     "execution_count": 29,
     "metadata": {},
     "output_type": "execute_result"
    }
   ],
   "source": [
    "# Checking the filling of zero values in the dob_years column\n",
    "\n",
    "data['dob_years'].value_counts().sort_index().head(10)"
   ]
  },
  {
   "cell_type": "markdown",
   "metadata": {},
   "source": [
    "Based on the materials of the article by V.A. Tsygankov and S.L.Zharkov \"Classification and systematization of the able-bodied population by age groups\", the division of borrowers can be carried out using the function into the following categories:"
   ]
  },
  {
   "cell_type": "code",
   "execution_count": 30,
   "metadata": {},
   "outputs": [],
   "source": [
    "def borrower_age_group(age):\n",
    "    if age < 18:\n",
    "        return 'несовершеннолетний'\n",
    "    if age >= 18 and  age <= 24:\n",
    "        return 'молодой'\n",
    "    elif age > 25 and age <= 44:\n",
    "        return 'зрелый'\n",
    "    elif age >= 45 and age <= 64:\n",
    "        return 'пожилой'\n",
    "    else:\n",
    "        return 'старый'\n",
    "\n",
    "data['borrower_age_group'] = data['dob_years'].apply(borrower_age_group) "
   ]
  },
  {
   "cell_type": "code",
   "execution_count": 31,
   "metadata": {},
   "outputs": [
    {
     "data": {
      "text/plain": [
       "0                зрелый\n",
       "1               пожилой\n",
       "2                старый\n",
       "3               молодой\n",
       "4    несовершеннолетний\n",
       "Name: borrower_age_group, dtype: object"
      ]
     },
     "execution_count": 31,
     "metadata": {},
     "output_type": "execute_result"
    }
   ],
   "source": [
    "# Let's separate the values of age groups from the borrower_age_group column into a separate dictionary to further eliminate gaps in columns depending on the type of employment and age group\n",
    "borrower_age_dict = data['borrower_age_group']\n",
    "borrower_age_dict = borrower_age_dict.drop_duplicates().reset_index(drop = True)\n",
    "borrower_age_dict"
   ]
  },
  {
   "cell_type": "markdown",
   "metadata": {},
   "source": [
    "### Processing of missing values"
   ]
  },
  {
   "cell_type": "markdown",
   "metadata": {},
   "source": [
    "Let's check the data for empty values:"
   ]
  },
  {
   "cell_type": "code",
   "execution_count": 32,
   "metadata": {},
   "outputs": [
    {
     "name": "stdout",
     "output_type": "stream",
     "text": [
      "children                 0\n",
      "days_employed         2171\n",
      "dob_years                0\n",
      "education                0\n",
      "education_id             0\n",
      "family_status            0\n",
      "family_status_id         0\n",
      "gender                   0\n",
      "income_type              0\n",
      "debt                     0\n",
      "total_income          2171\n",
      "purpose                  0\n",
      "borrower_age_group       0\n",
      "dtype: int64\n"
     ]
    }
   ],
   "source": [
    "print(data.isna().sum())"
   ]
  },
  {
   "cell_type": "markdown",
   "metadata": {},
   "source": [
    "Since the number of empty values in the columns **days_employed** and **total_income** is the same, it can be assumed that their occurrence is due to the procedure of data deletion or possible merging of several tables. Let's check if there are differences depending on the grouping of **days_employed** and **total_income** with different columns in order to develop a common approach for replacing of missing values in both columns"
   ]
  },
  {
   "cell_type": "code",
   "execution_count": 33,
   "metadata": {},
   "outputs": [
    {
     "data": {
      "text/plain": [
       "income_type\n",
       "безработный           0\n",
       "госслужащий         147\n",
       "пенсионер           412\n",
       "предприниматель       1\n",
       "сотрудник          1611\n",
       "студент               0\n",
       "Name: days_employed, dtype: int64"
      ]
     },
     "execution_count": 33,
     "metadata": {},
     "output_type": "execute_result"
    }
   ],
   "source": [
    "data['days_employed'].isna().groupby(data['income_type']).sum().astype('int64')"
   ]
  },
  {
   "cell_type": "code",
   "execution_count": 34,
   "metadata": {},
   "outputs": [
    {
     "data": {
      "text/plain": [
       "income_type\n",
       "безработный           0\n",
       "госслужащий         147\n",
       "пенсионер           412\n",
       "предприниматель       1\n",
       "сотрудник          1611\n",
       "студент               0\n",
       "Name: total_income, dtype: int64"
      ]
     },
     "execution_count": 34,
     "metadata": {},
     "output_type": "execute_result"
    }
   ],
   "source": [
    "data['total_income'].isna().groupby(data['income_type']).sum().astype('int64')"
   ]
  },
  {
   "cell_type": "markdown",
   "metadata": {},
   "source": [
    "1) Since the number of missing values in the groups by time of service and total income, depending on the type of employment, is the same, it is proposed to fill them with median values in the corresponding group, depending on the type of employment;\n",
    "\n",
    "2) additionally analyze the line by type of employment entrepreneur with a missing value"
   ]
  },
  {
   "cell_type": "code",
   "execution_count": 35,
   "metadata": {},
   "outputs": [
    {
     "data": {
      "text/plain": [
       "2"
      ]
     },
     "execution_count": 35,
     "metadata": {},
     "output_type": "execute_result"
    }
   ],
   "source": [
    "data[data['income_type'] == 'предприниматель']['income_type'].count()"
   ]
  },
  {
   "cell_type": "code",
   "execution_count": 36,
   "metadata": {},
   "outputs": [
    {
     "data": {
      "text/html": [
       "<div>\n",
       "<style scoped>\n",
       "    .dataframe tbody tr th:only-of-type {\n",
       "        vertical-align: middle;\n",
       "    }\n",
       "\n",
       "    .dataframe tbody tr th {\n",
       "        vertical-align: top;\n",
       "    }\n",
       "\n",
       "    .dataframe thead th {\n",
       "        text-align: right;\n",
       "    }\n",
       "</style>\n",
       "<table border=\"1\" class=\"dataframe\">\n",
       "  <thead>\n",
       "    <tr style=\"text-align: right;\">\n",
       "      <th></th>\n",
       "      <th>children</th>\n",
       "      <th>days_employed</th>\n",
       "      <th>dob_years</th>\n",
       "      <th>education</th>\n",
       "      <th>education_id</th>\n",
       "      <th>family_status</th>\n",
       "      <th>family_status_id</th>\n",
       "      <th>gender</th>\n",
       "      <th>income_type</th>\n",
       "      <th>debt</th>\n",
       "      <th>total_income</th>\n",
       "      <th>purpose</th>\n",
       "      <th>borrower_age_group</th>\n",
       "    </tr>\n",
       "  </thead>\n",
       "  <tbody>\n",
       "    <tr>\n",
       "      <th>5936</th>\n",
       "      <td>0</td>\n",
       "      <td>NaN</td>\n",
       "      <td>58</td>\n",
       "      <td>высшее</td>\n",
       "      <td>0</td>\n",
       "      <td>женат / замужем</td>\n",
       "      <td>0</td>\n",
       "      <td>М</td>\n",
       "      <td>предприниматель</td>\n",
       "      <td>0</td>\n",
       "      <td>NaN</td>\n",
       "      <td>покупка жилой недвижимости</td>\n",
       "      <td>пожилой</td>\n",
       "    </tr>\n",
       "  </tbody>\n",
       "</table>\n",
       "</div>"
      ],
      "text/plain": [
       "      children  days_employed  dob_years education  education_id  \\\n",
       "5936         0            NaN         58    высшее             0   \n",
       "\n",
       "        family_status  family_status_id gender      income_type  debt  \\\n",
       "5936  женат / замужем                 0      М  предприниматель     0   \n",
       "\n",
       "      total_income                     purpose borrower_age_group  \n",
       "5936           NaN  покупка жилой недвижимости            пожилой  "
      ]
     },
     "execution_count": 36,
     "metadata": {},
     "output_type": "execute_result"
    }
   ],
   "source": [
    "data[(data['days_employed'].isna())&(data['income_type'] == 'предприниматель')]"
   ]
  },
  {
   "cell_type": "markdown",
   "metadata": {},
   "source": [
    "Since there are only 2 rows with the \"entrepreneur\" parameter in **income_type**, in one of which there are no values in the columns **days_employed** and **total_income**, it is not possible to fill in the gap with an average/ median value, therefore it is proposed to exclude this row from the study."
   ]
  },
  {
   "cell_type": "code",
   "execution_count": 37,
   "metadata": {},
   "outputs": [],
   "source": [
    "# Deleting a line with a missing value\n",
    "\n",
    "data.drop(data[(data['days_employed'].isna())&(data['income_type'] == 'предприниматель')].index, inplace=True)"
   ]
  },
  {
   "cell_type": "code",
   "execution_count": 38,
   "metadata": {},
   "outputs": [
    {
     "data": {
      "text/html": [
       "<div>\n",
       "<style scoped>\n",
       "    .dataframe tbody tr th:only-of-type {\n",
       "        vertical-align: middle;\n",
       "    }\n",
       "\n",
       "    .dataframe tbody tr th {\n",
       "        vertical-align: top;\n",
       "    }\n",
       "\n",
       "    .dataframe thead th {\n",
       "        text-align: right;\n",
       "    }\n",
       "</style>\n",
       "<table border=\"1\" class=\"dataframe\">\n",
       "  <thead>\n",
       "    <tr style=\"text-align: right;\">\n",
       "      <th></th>\n",
       "      <th>children</th>\n",
       "      <th>days_employed</th>\n",
       "      <th>dob_years</th>\n",
       "      <th>education</th>\n",
       "      <th>education_id</th>\n",
       "      <th>family_status</th>\n",
       "      <th>family_status_id</th>\n",
       "      <th>gender</th>\n",
       "      <th>income_type</th>\n",
       "      <th>debt</th>\n",
       "      <th>total_income</th>\n",
       "      <th>purpose</th>\n",
       "      <th>borrower_age_group</th>\n",
       "    </tr>\n",
       "  </thead>\n",
       "  <tbody>\n",
       "    <tr>\n",
       "      <th>18697</th>\n",
       "      <td>0</td>\n",
       "      <td>-520.848083</td>\n",
       "      <td>27</td>\n",
       "      <td>высшее</td>\n",
       "      <td>0</td>\n",
       "      <td>гражданский брак</td>\n",
       "      <td>1</td>\n",
       "      <td>Ж</td>\n",
       "      <td>предприниматель</td>\n",
       "      <td>0</td>\n",
       "      <td>499163.144947</td>\n",
       "      <td>на проведение свадьбы</td>\n",
       "      <td>зрелый</td>\n",
       "    </tr>\n",
       "  </tbody>\n",
       "</table>\n",
       "</div>"
      ],
      "text/plain": [
       "       children  days_employed  dob_years education  education_id  \\\n",
       "18697         0    -520.848083         27    высшее             0   \n",
       "\n",
       "          family_status  family_status_id gender      income_type  debt  \\\n",
       "18697  гражданский брак                 1      Ж  предприниматель     0   \n",
       "\n",
       "        total_income                purpose borrower_age_group  \n",
       "18697  499163.144947  на проведение свадьбы             зрелый  "
      ]
     },
     "execution_count": 38,
     "metadata": {},
     "output_type": "execute_result"
    }
   ],
   "source": [
    "# checking the deletion\n",
    "\n",
    "data[data['income_type'] == 'предприниматель']"
   ]
  },
  {
   "cell_type": "markdown",
   "metadata": {},
   "source": [
    "Let's replace the gaps in the column **days_employed** with median values depending on the type of employment"
   ]
  },
  {
   "cell_type": "code",
   "execution_count": 39,
   "metadata": {},
   "outputs": [],
   "source": [
    "data['days_employed'] = data.groupby('income_type')['days_employed'].transform(lambda group : group.fillna(group.median()))"
   ]
  },
  {
   "cell_type": "markdown",
   "metadata": {},
   "source": [
    "Заменим пропуски в колонке **total_income** медианными значениями  в зависимости от типа занятости"
   ]
  },
  {
   "cell_type": "code",
   "execution_count": 40,
   "metadata": {},
   "outputs": [
    {
     "data": {
      "text/plain": [
       "count    1.930600e+04\n",
       "mean     1.674513e+05\n",
       "std      1.030369e+05\n",
       "min      2.066726e+04\n",
       "25%      1.030109e+05\n",
       "50%      1.450117e+05\n",
       "75%      2.034498e+05\n",
       "max      2.265604e+06\n",
       "Name: total_income, dtype: float64"
      ]
     },
     "execution_count": 40,
     "metadata": {},
     "output_type": "execute_result"
    }
   ],
   "source": [
    "# Let's check the values of the total_income column for extreme values, as well as the absence of negative ones, and the uniformity of the distribution\n",
    "\n",
    "data['total_income'].describe()"
   ]
  },
  {
   "cell_type": "markdown",
   "metadata": {},
   "source": [
    "In the values of the column **total_income** there are no negative values, artifacts, therefore, it is possible to fill in empty fields with median values depending on the age and type of employment of borrowers  "
   ]
  },
  {
   "cell_type": "code",
   "execution_count": 41,
   "metadata": {},
   "outputs": [],
   "source": [
    "# let's create an auxiliary dictionary containing unique types of employment with missing values of the total_income column \n",
    "# let's remove duplicates\n",
    "\n",
    "income_type_dict = data[data['total_income'].isna()]['income_type']\n",
    "income_type_dict = income_type_dict.drop_duplicates().reset_index(drop=True)\n",
    "\n",
    "# let's create a loop that replaces all empty values with the median of the corresponding group by type of employment and age\n",
    "for income_type in income_type_dict:\n",
    "    for age_group in borrower_age_dict:\n",
    "        group_median = data[(data['income_type'] == income_type)&(data['total_income'].isna() == False)&(data['borrower_age_group'] == age_group)]['total_income'].median()\n",
    "        data.loc[(data['total_income'].isna()==True)&(data['income_type']==income_type)&(data['borrower_age_group'] == age_group),'total_income'] = group_median \n"
   ]
  },
  {
   "cell_type": "markdown",
   "metadata": {},
   "source": [
    "Let's check the replacement of the gaps in the columns **total_income** and **days_employed**"
   ]
  },
  {
   "cell_type": "code",
   "execution_count": 42,
   "metadata": {},
   "outputs": [
    {
     "data": {
      "text/plain": [
       "children              0\n",
       "days_employed         0\n",
       "dob_years             0\n",
       "education             0\n",
       "education_id          0\n",
       "family_status         0\n",
       "family_status_id      0\n",
       "gender                0\n",
       "income_type           0\n",
       "debt                  0\n",
       "total_income          0\n",
       "purpose               0\n",
       "borrower_age_group    0\n",
       "dtype: int64"
      ]
     },
     "execution_count": 42,
     "metadata": {},
     "output_type": "execute_result"
    }
   ],
   "source": [
    "data.isna().sum()"
   ]
  },
  {
   "cell_type": "markdown",
   "metadata": {},
   "source": [
    "**Intermediate conclusion**\n",
    "\n",
    "The replacement of the missing valuesd was carried out successfully. Empty values have been replaced with median values depending on the borrower's group by type of employment and age. The exact reasons for the formation of omissions are unknown. One of the possible ones may be incorrect data collection or loss of values when merging tables"
   ]
  },
  {
   "cell_type": "markdown",
   "metadata": {},
   "source": [
    "### Replacement of the data type"
   ]
  },
  {
   "cell_type": "markdown",
   "metadata": {},
   "source": [
    "The initial data set has a type that does not interfere with the conduct of the analysis. In the course of eliminating the problems identified during the preliminary examination of the data, the data type was replaced from float to int for the age of the borrower, income. However, the data in the column **days_employed** should be also taken into account, since it is necessary to eliminate negative values (take days modulo) and bring them to an integer type. In addition, since the values in the column are indicated in days, it is necessary to check for the presence of artifacts, taking into account their division by years, depending on the type of employment of borrowers."
   ]
  },
  {
   "cell_type": "code",
   "execution_count": 43,
   "metadata": {},
   "outputs": [
    {
     "data": {
      "text/plain": [
       "count     21476.000000\n",
       "mean      63566.551429\n",
       "std      141167.750253\n",
       "min      -18388.949901\n",
       "25%       -2569.254663\n",
       "50%       -1355.448720\n",
       "75%        -315.693544\n",
       "max      401755.400475\n",
       "Name: days_employed, dtype: float64"
      ]
     },
     "execution_count": 43,
     "metadata": {},
     "output_type": "execute_result"
    }
   ],
   "source": [
    "data['days_employed'].describe()"
   ]
  },
  {
   "cell_type": "code",
   "execution_count": 44,
   "metadata": {},
   "outputs": [
    {
     "data": {
      "text/plain": [
       "income_type\n",
       "безработный        1003\n",
       "госслужащий           9\n",
       "пенсионер          1000\n",
       "предприниматель       1\n",
       "сотрудник             5\n",
       "студент               1\n",
       "Name: days_employed, dtype: int64"
      ]
     },
     "execution_count": 44,
     "metadata": {},
     "output_type": "execute_result"
    }
   ],
   "source": [
    "# let's find the absolute integer average of the length of service of borrowers depending on the type of employment (in years)\n",
    "\n",
    "((data.groupby('income_type')['days_employed'].mean()).abs()/365).astype('int64')"
   ]
  },
  {
   "cell_type": "markdown",
   "metadata": {},
   "source": [
    "From the absolute average values of the time of service (in years), depending on the type of employment, the indicators of the group of pensioners and unemployed are distinguished (the time of service cannot be equal to 1000 years). Based on the fact that with the legislation of the Russian Federation in force for 2021, the retirement age for men is 65 years, and for women - 60, it is proposed to replace the seniority index of pensioners by the product of 42 and 47 years (according to the general rule, 18 years is the age of the beginning of full-fledged work), depending on gender, by 365 days. The artifact in the group of unemployed requires additional study. In addition, it is required to replace all the values of the time of service with their absolute values."
   ]
  },
  {
   "cell_type": "code",
   "execution_count": 45,
   "metadata": {},
   "outputs": [
    {
     "data": {
      "text/plain": [
       "сотрудник          16169\n",
       "пенсионер           3848\n",
       "госслужащий         1455\n",
       "безработный            2\n",
       "студент                1\n",
       "предприниматель        1\n",
       "Name: income_type, dtype: int64"
      ]
     },
     "execution_count": 45,
     "metadata": {},
     "output_type": "execute_result"
    }
   ],
   "source": [
    "# Let's check the number of values in the unemployed group\n",
    "\n",
    "data['income_type'].value_counts()"
   ]
  },
  {
   "cell_type": "code",
   "execution_count": 46,
   "metadata": {},
   "outputs": [
    {
     "data": {
      "text/html": [
       "<div>\n",
       "<style scoped>\n",
       "    .dataframe tbody tr th:only-of-type {\n",
       "        vertical-align: middle;\n",
       "    }\n",
       "\n",
       "    .dataframe tbody tr th {\n",
       "        vertical-align: top;\n",
       "    }\n",
       "\n",
       "    .dataframe thead th {\n",
       "        text-align: right;\n",
       "    }\n",
       "</style>\n",
       "<table border=\"1\" class=\"dataframe\">\n",
       "  <thead>\n",
       "    <tr style=\"text-align: right;\">\n",
       "      <th></th>\n",
       "      <th>children</th>\n",
       "      <th>days_employed</th>\n",
       "      <th>dob_years</th>\n",
       "      <th>education</th>\n",
       "      <th>education_id</th>\n",
       "      <th>family_status</th>\n",
       "      <th>family_status_id</th>\n",
       "      <th>gender</th>\n",
       "      <th>income_type</th>\n",
       "      <th>debt</th>\n",
       "      <th>total_income</th>\n",
       "      <th>purpose</th>\n",
       "      <th>borrower_age_group</th>\n",
       "    </tr>\n",
       "  </thead>\n",
       "  <tbody>\n",
       "    <tr>\n",
       "      <th>3133</th>\n",
       "      <td>1</td>\n",
       "      <td>337524.466835</td>\n",
       "      <td>31</td>\n",
       "      <td>среднее</td>\n",
       "      <td>1</td>\n",
       "      <td>женат / замужем</td>\n",
       "      <td>0</td>\n",
       "      <td>М</td>\n",
       "      <td>безработный</td>\n",
       "      <td>1</td>\n",
       "      <td>59956.991984</td>\n",
       "      <td>покупка жилья для сдачи</td>\n",
       "      <td>зрелый</td>\n",
       "    </tr>\n",
       "    <tr>\n",
       "      <th>14798</th>\n",
       "      <td>0</td>\n",
       "      <td>395302.838654</td>\n",
       "      <td>45</td>\n",
       "      <td>высшее</td>\n",
       "      <td>0</td>\n",
       "      <td>гражданский брак</td>\n",
       "      <td>1</td>\n",
       "      <td>Ж</td>\n",
       "      <td>безработный</td>\n",
       "      <td>0</td>\n",
       "      <td>202722.511368</td>\n",
       "      <td>ремонт жилью</td>\n",
       "      <td>пожилой</td>\n",
       "    </tr>\n",
       "  </tbody>\n",
       "</table>\n",
       "</div>"
      ],
      "text/plain": [
       "       children  days_employed  dob_years education  education_id  \\\n",
       "3133          1  337524.466835         31   среднее             1   \n",
       "14798         0  395302.838654         45    высшее             0   \n",
       "\n",
       "          family_status  family_status_id gender  income_type  debt  \\\n",
       "3133    женат / замужем                 0      М  безработный     1   \n",
       "14798  гражданский брак                 1      Ж  безработный     0   \n",
       "\n",
       "        total_income                  purpose borrower_age_group  \n",
       "3133    59956.991984  покупка жилья для сдачи             зрелый  \n",
       "14798  202722.511368             ремонт жилью            пожилой  "
      ]
     },
     "execution_count": 46,
     "metadata": {},
     "output_type": "execute_result"
    }
   ],
   "source": [
    "# we will display artifacts in the group of unemployed\n",
    "\n",
    "data.loc[data['income_type'] == 'безработный']"
   ]
  },
  {
   "cell_type": "markdown",
   "metadata": {},
   "source": [
    "It is impossible to determine the reason for the appearance of these values from the derived artifacts based on work experience for a group of unemployed. A possible reason may be the indication of the time of service in hours. Due to the fact that there are only 2 of these values, they can either be deleted or replaced by the difference between the age of borrowers and the standard age of starting work (18 years)(let's specify 13.0 and 27.0 years respectively in the fields)."
   ]
  },
  {
   "cell_type": "code",
   "execution_count": 47,
   "metadata": {},
   "outputs": [
    {
     "data": {
      "text/html": [
       "<div>\n",
       "<style scoped>\n",
       "    .dataframe tbody tr th:only-of-type {\n",
       "        vertical-align: middle;\n",
       "    }\n",
       "\n",
       "    .dataframe tbody tr th {\n",
       "        vertical-align: top;\n",
       "    }\n",
       "\n",
       "    .dataframe thead th {\n",
       "        text-align: right;\n",
       "    }\n",
       "</style>\n",
       "<table border=\"1\" class=\"dataframe\">\n",
       "  <thead>\n",
       "    <tr style=\"text-align: right;\">\n",
       "      <th></th>\n",
       "      <th>children</th>\n",
       "      <th>days_employed</th>\n",
       "      <th>dob_years</th>\n",
       "      <th>education</th>\n",
       "      <th>education_id</th>\n",
       "      <th>family_status</th>\n",
       "      <th>family_status_id</th>\n",
       "      <th>gender</th>\n",
       "      <th>income_type</th>\n",
       "      <th>debt</th>\n",
       "      <th>total_income</th>\n",
       "      <th>purpose</th>\n",
       "      <th>borrower_age_group</th>\n",
       "    </tr>\n",
       "  </thead>\n",
       "  <tbody>\n",
       "    <tr>\n",
       "      <th>3133</th>\n",
       "      <td>1</td>\n",
       "      <td>337524.466835</td>\n",
       "      <td>31</td>\n",
       "      <td>среднее</td>\n",
       "      <td>1</td>\n",
       "      <td>женат / замужем</td>\n",
       "      <td>0</td>\n",
       "      <td>М</td>\n",
       "      <td>безработный</td>\n",
       "      <td>1</td>\n",
       "      <td>59956.991984</td>\n",
       "      <td>покупка жилья для сдачи</td>\n",
       "      <td>зрелый</td>\n",
       "    </tr>\n",
       "    <tr>\n",
       "      <th>14798</th>\n",
       "      <td>0</td>\n",
       "      <td>395302.838654</td>\n",
       "      <td>45</td>\n",
       "      <td>высшее</td>\n",
       "      <td>0</td>\n",
       "      <td>гражданский брак</td>\n",
       "      <td>1</td>\n",
       "      <td>Ж</td>\n",
       "      <td>безработный</td>\n",
       "      <td>0</td>\n",
       "      <td>202722.511368</td>\n",
       "      <td>ремонт жилью</td>\n",
       "      <td>пожилой</td>\n",
       "    </tr>\n",
       "  </tbody>\n",
       "</table>\n",
       "</div>"
      ],
      "text/plain": [
       "       children  days_employed  dob_years education  education_id  \\\n",
       "3133          1  337524.466835         31   среднее             1   \n",
       "14798         0  395302.838654         45    высшее             0   \n",
       "\n",
       "          family_status  family_status_id gender  income_type  debt  \\\n",
       "3133    женат / замужем                 0      М  безработный     1   \n",
       "14798  гражданский брак                 1      Ж  безработный     0   \n",
       "\n",
       "        total_income                  purpose borrower_age_group  \n",
       "3133    59956.991984  покупка жилья для сдачи             зрелый  \n",
       "14798  202722.511368             ремонт жилью            пожилой  "
      ]
     },
     "execution_count": 47,
     "metadata": {},
     "output_type": "execute_result"
    }
   ],
   "source": [
    "data.loc[data['income_type'] == 'безработный']"
   ]
  },
  {
   "cell_type": "code",
   "execution_count": 48,
   "metadata": {},
   "outputs": [],
   "source": [
    "data.loc[(data['income_type'] == 'безработный') & (data['dob_years'] == 31),'days_employed'] = 13.0 * 365\n",
    "\n",
    "data.loc[(data['income_type'] == 'безработный') & (data['dob_years'] == 45),'days_employed'] = 27.0 * 365"
   ]
  },
  {
   "cell_type": "code",
   "execution_count": 49,
   "metadata": {},
   "outputs": [
    {
     "data": {
      "text/html": [
       "<div>\n",
       "<style scoped>\n",
       "    .dataframe tbody tr th:only-of-type {\n",
       "        vertical-align: middle;\n",
       "    }\n",
       "\n",
       "    .dataframe tbody tr th {\n",
       "        vertical-align: top;\n",
       "    }\n",
       "\n",
       "    .dataframe thead th {\n",
       "        text-align: right;\n",
       "    }\n",
       "</style>\n",
       "<table border=\"1\" class=\"dataframe\">\n",
       "  <thead>\n",
       "    <tr style=\"text-align: right;\">\n",
       "      <th></th>\n",
       "      <th>children</th>\n",
       "      <th>days_employed</th>\n",
       "      <th>dob_years</th>\n",
       "      <th>education</th>\n",
       "      <th>education_id</th>\n",
       "      <th>family_status</th>\n",
       "      <th>family_status_id</th>\n",
       "      <th>gender</th>\n",
       "      <th>income_type</th>\n",
       "      <th>debt</th>\n",
       "      <th>total_income</th>\n",
       "      <th>purpose</th>\n",
       "      <th>borrower_age_group</th>\n",
       "    </tr>\n",
       "  </thead>\n",
       "  <tbody>\n",
       "    <tr>\n",
       "      <th>3133</th>\n",
       "      <td>1</td>\n",
       "      <td>4745.0</td>\n",
       "      <td>31</td>\n",
       "      <td>среднее</td>\n",
       "      <td>1</td>\n",
       "      <td>женат / замужем</td>\n",
       "      <td>0</td>\n",
       "      <td>М</td>\n",
       "      <td>безработный</td>\n",
       "      <td>1</td>\n",
       "      <td>59956.991984</td>\n",
       "      <td>покупка жилья для сдачи</td>\n",
       "      <td>зрелый</td>\n",
       "    </tr>\n",
       "    <tr>\n",
       "      <th>14798</th>\n",
       "      <td>0</td>\n",
       "      <td>9855.0</td>\n",
       "      <td>45</td>\n",
       "      <td>высшее</td>\n",
       "      <td>0</td>\n",
       "      <td>гражданский брак</td>\n",
       "      <td>1</td>\n",
       "      <td>Ж</td>\n",
       "      <td>безработный</td>\n",
       "      <td>0</td>\n",
       "      <td>202722.511368</td>\n",
       "      <td>ремонт жилью</td>\n",
       "      <td>пожилой</td>\n",
       "    </tr>\n",
       "  </tbody>\n",
       "</table>\n",
       "</div>"
      ],
      "text/plain": [
       "       children  days_employed  dob_years education  education_id  \\\n",
       "3133          1         4745.0         31   среднее             1   \n",
       "14798         0         9855.0         45    высшее             0   \n",
       "\n",
       "          family_status  family_status_id gender  income_type  debt  \\\n",
       "3133    женат / замужем                 0      М  безработный     1   \n",
       "14798  гражданский брак                 1      Ж  безработный     0   \n",
       "\n",
       "        total_income                  purpose borrower_age_group  \n",
       "3133    59956.991984  покупка жилья для сдачи             зрелый  \n",
       "14798  202722.511368             ремонт жилью            пожилой  "
      ]
     },
     "execution_count": 49,
     "metadata": {},
     "output_type": "execute_result"
    }
   ],
   "source": [
    "data.loc[data['income_type'] == 'безработный']"
   ]
  },
  {
   "cell_type": "code",
   "execution_count": 50,
   "metadata": {},
   "outputs": [],
   "source": [
    "# Replacing the seniority of a group of pensioners, depending on gender, by 42 years for women and 47 for men\n",
    "\n",
    "data['days_employed'] = data['days_employed'].abs()"
   ]
  },
  {
   "cell_type": "code",
   "execution_count": 51,
   "metadata": {},
   "outputs": [],
   "source": [
    "# clarification of the seniority of female pensioners\n",
    "\n",
    "data.loc[(data['income_type'] == 'пенсионер') & (data['gender'] == 'Ж'), 'days_employed'] = 42*365\n",
    "\n",
    "# clarification of the seniority of male pensioners\n",
    "\n",
    "data.loc[(data['income_type'] == 'пенсионер') & (data['gender'] == 'М'), 'days_employed'] = 47*365"
   ]
  },
  {
   "cell_type": "code",
   "execution_count": 52,
   "metadata": {},
   "outputs": [],
   "source": [
    "data['days_employed'] = data['days_employed'].astype('int64')"
   ]
  },
  {
   "cell_type": "code",
   "execution_count": 53,
   "metadata": {},
   "outputs": [
    {
     "data": {
      "text/plain": [
       "count    21476.000000\n",
       "mean      4680.816213\n",
       "std       5511.457436\n",
       "min         24.000000\n",
       "25%       1025.000000\n",
       "50%       1991.500000\n",
       "75%       5347.500000\n",
       "max      18388.000000\n",
       "Name: days_employed, dtype: float64"
      ]
     },
     "execution_count": 53,
     "metadata": {},
     "output_type": "execute_result"
    }
   ],
   "source": [
    "# let's check the changes and transformations made\n",
    "data['days_employed'].describe()"
   ]
  },
  {
   "cell_type": "code",
   "execution_count": 54,
   "metadata": {},
   "outputs": [
    {
     "data": {
      "text/plain": [
       "income_type\n",
       "безработный        20\n",
       "госслужащий         9\n",
       "пенсионер          42\n",
       "предприниматель     1\n",
       "сотрудник           5\n",
       "студент             1\n",
       "Name: days_employed, dtype: int64"
      ]
     },
     "execution_count": 54,
     "metadata": {},
     "output_type": "execute_result"
    }
   ],
   "source": [
    "# let's check the absolute integer averages of the time of service of borrowers depending on the type of employment (in years) \n",
    "\n",
    "((data.groupby('income_type')['days_employed'].mean())/365).astype('int64')"
   ]
  },
  {
   "cell_type": "code",
   "execution_count": 55,
   "metadata": {},
   "outputs": [
    {
     "data": {
      "text/plain": [
       "children                int64\n",
       "days_employed           int64\n",
       "dob_years               int64\n",
       "education              object\n",
       "education_id            int64\n",
       "family_status          object\n",
       "family_status_id        int64\n",
       "gender                 object\n",
       "income_type            object\n",
       "debt                    int64\n",
       "total_income          float64\n",
       "purpose                object\n",
       "borrower_age_group     object\n",
       "dtype: object"
      ]
     },
     "execution_count": 55,
     "metadata": {},
     "output_type": "execute_result"
    }
   ],
   "source": [
    "data.dtypes"
   ]
  },
  {
   "cell_type": "markdown",
   "metadata": {},
   "source": [
    "**Intermediate conclusion**"
   ]
  },
  {
   "cell_type": "markdown",
   "metadata": {},
   "source": [
    "In the course of the transformations performed, artifacts in the borrowers' work experience were eliminated, as well as conversion to an integer data type was performed. The selected data types do not prevent further analysis."
   ]
  },
  {
   "cell_type": "markdown",
   "metadata": {},
   "source": [
    "### Duplicates processing"
   ]
  },
  {
   "cell_type": "code",
   "execution_count": 56,
   "metadata": {},
   "outputs": [
    {
     "data": {
      "text/plain": [
       "95"
      ]
     },
     "execution_count": 56,
     "metadata": {},
     "output_type": "execute_result"
    }
   ],
   "source": [
    "# Let's check for duplicates in the data\n",
    "\n",
    "data.duplicated().sum()"
   ]
  },
  {
   "cell_type": "code",
   "execution_count": 57,
   "metadata": {},
   "outputs": [
    {
     "data": {
      "text/html": [
       "<div>\n",
       "<style scoped>\n",
       "    .dataframe tbody tr th:only-of-type {\n",
       "        vertical-align: middle;\n",
       "    }\n",
       "\n",
       "    .dataframe tbody tr th {\n",
       "        vertical-align: top;\n",
       "    }\n",
       "\n",
       "    .dataframe thead th {\n",
       "        text-align: right;\n",
       "    }\n",
       "</style>\n",
       "<table border=\"1\" class=\"dataframe\">\n",
       "  <thead>\n",
       "    <tr style=\"text-align: right;\">\n",
       "      <th></th>\n",
       "      <th>children</th>\n",
       "      <th>days_employed</th>\n",
       "      <th>dob_years</th>\n",
       "      <th>education</th>\n",
       "      <th>education_id</th>\n",
       "      <th>family_status</th>\n",
       "      <th>family_status_id</th>\n",
       "      <th>gender</th>\n",
       "      <th>income_type</th>\n",
       "      <th>debt</th>\n",
       "      <th>total_income</th>\n",
       "      <th>purpose</th>\n",
       "      <th>borrower_age_group</th>\n",
       "    </tr>\n",
       "  </thead>\n",
       "  <tbody>\n",
       "    <tr>\n",
       "      <th>2606</th>\n",
       "      <td>0</td>\n",
       "      <td>1568</td>\n",
       "      <td>21</td>\n",
       "      <td>среднее</td>\n",
       "      <td>1</td>\n",
       "      <td>не женат / не замужем</td>\n",
       "      <td>4</td>\n",
       "      <td>М</td>\n",
       "      <td>сотрудник</td>\n",
       "      <td>0</td>\n",
       "      <td>128479.293598</td>\n",
       "      <td>операции с коммерческой недвижимостью</td>\n",
       "      <td>молодой</td>\n",
       "    </tr>\n",
       "    <tr>\n",
       "      <th>2849</th>\n",
       "      <td>0</td>\n",
       "      <td>1568</td>\n",
       "      <td>41</td>\n",
       "      <td>среднее</td>\n",
       "      <td>1</td>\n",
       "      <td>женат / замужем</td>\n",
       "      <td>0</td>\n",
       "      <td>Ж</td>\n",
       "      <td>сотрудник</td>\n",
       "      <td>0</td>\n",
       "      <td>153481.209137</td>\n",
       "      <td>покупка жилья для семьи</td>\n",
       "      <td>зрелый</td>\n",
       "    </tr>\n",
       "    <tr>\n",
       "      <th>3290</th>\n",
       "      <td>0</td>\n",
       "      <td>15330</td>\n",
       "      <td>58</td>\n",
       "      <td>среднее</td>\n",
       "      <td>1</td>\n",
       "      <td>гражданский брак</td>\n",
       "      <td>1</td>\n",
       "      <td>Ж</td>\n",
       "      <td>пенсионер</td>\n",
       "      <td>0</td>\n",
       "      <td>121685.132557</td>\n",
       "      <td>сыграть свадьбу</td>\n",
       "      <td>пожилой</td>\n",
       "    </tr>\n",
       "    <tr>\n",
       "      <th>4182</th>\n",
       "      <td>1</td>\n",
       "      <td>1568</td>\n",
       "      <td>34</td>\n",
       "      <td>высшее</td>\n",
       "      <td>0</td>\n",
       "      <td>гражданский брак</td>\n",
       "      <td>1</td>\n",
       "      <td>Ж</td>\n",
       "      <td>сотрудник</td>\n",
       "      <td>0</td>\n",
       "      <td>153481.209137</td>\n",
       "      <td>свадьба</td>\n",
       "      <td>зрелый</td>\n",
       "    </tr>\n",
       "    <tr>\n",
       "      <th>4851</th>\n",
       "      <td>0</td>\n",
       "      <td>15330</td>\n",
       "      <td>60</td>\n",
       "      <td>среднее</td>\n",
       "      <td>1</td>\n",
       "      <td>гражданский брак</td>\n",
       "      <td>1</td>\n",
       "      <td>Ж</td>\n",
       "      <td>пенсионер</td>\n",
       "      <td>0</td>\n",
       "      <td>121685.132557</td>\n",
       "      <td>свадьба</td>\n",
       "      <td>пожилой</td>\n",
       "    </tr>\n",
       "  </tbody>\n",
       "</table>\n",
       "</div>"
      ],
      "text/plain": [
       "      children  days_employed  dob_years education  education_id  \\\n",
       "2606         0           1568         21   среднее             1   \n",
       "2849         0           1568         41   среднее             1   \n",
       "3290         0          15330         58   среднее             1   \n",
       "4182         1           1568         34    высшее             0   \n",
       "4851         0          15330         60   среднее             1   \n",
       "\n",
       "              family_status  family_status_id gender income_type  debt  \\\n",
       "2606  не женат / не замужем                 4      М   сотрудник     0   \n",
       "2849        женат / замужем                 0      Ж   сотрудник     0   \n",
       "3290       гражданский брак                 1      Ж   пенсионер     0   \n",
       "4182       гражданский брак                 1      Ж   сотрудник     0   \n",
       "4851       гражданский брак                 1      Ж   пенсионер     0   \n",
       "\n",
       "       total_income                                purpose borrower_age_group  \n",
       "2606  128479.293598  операции с коммерческой недвижимостью            молодой  \n",
       "2849  153481.209137                покупка жилья для семьи             зрелый  \n",
       "3290  121685.132557                        сыграть свадьбу            пожилой  \n",
       "4182  153481.209137                                свадьба             зрелый  \n",
       "4851  121685.132557                                свадьба            пожилой  "
      ]
     },
     "execution_count": 57,
     "metadata": {},
     "output_type": "execute_result"
    }
   ],
   "source": [
    "# let's print the first 5 duplicate values\n",
    "\n",
    "data[data.duplicated() == True].head()"
   ]
  },
  {
   "cell_type": "code",
   "execution_count": 58,
   "metadata": {},
   "outputs": [],
   "source": [
    "# Let's delete duplicates without saving old indexes\n",
    "\n",
    "data = data.drop_duplicates().reset_index(drop=True)"
   ]
  },
  {
   "cell_type": "code",
   "execution_count": 59,
   "metadata": {},
   "outputs": [
    {
     "data": {
      "text/plain": [
       "0"
      ]
     },
     "execution_count": 59,
     "metadata": {},
     "output_type": "execute_result"
    }
   ],
   "source": [
    "# Let's check the removal of duplicates\n",
    "\n",
    "data.duplicated().sum()"
   ]
  },
  {
   "cell_type": "markdown",
   "metadata": {},
   "source": [
    "**Intermediate conclusion**"
   ]
  },
  {
   "cell_type": "markdown",
   "metadata": {},
   "source": [
    "All the identified duplicates have been deleted."
   ]
  },
  {
   "cell_type": "markdown",
   "metadata": {},
   "source": [
    "### Lemmatization"
   ]
  },
  {
   "cell_type": "markdown",
   "metadata": {},
   "source": [
    "For further research and an answer to the tasks set in the project, it is necessary to categorize the data provided. Previously, we used groupings by age and type of employment to fill in the gaps. However, in order to further assess the return of loans, we can use categorization by loan goals and the level of borrowers' income (an inetere approach is used in the article by N.E. Tikhonova, Yu.V. Lezhnina \"Models of stratification of Russian society by income: approaches and results\" on page 197 on the median division of the sample). In this part, we will highlight the main objectives of loans."
   ]
  },
  {
   "cell_type": "code",
   "execution_count": 60,
   "metadata": {},
   "outputs": [
    {
     "data": {
      "text/plain": [
       "array(['покупка жилья', 'приобретение автомобиля',\n",
       "       'дополнительное образование', 'сыграть свадьбу',\n",
       "       'операции с жильем', 'образование', 'на проведение свадьбы',\n",
       "       'покупка жилья для семьи', 'покупка недвижимости',\n",
       "       'покупка коммерческой недвижимости', 'покупка жилой недвижимости',\n",
       "       'строительство собственной недвижимости', 'недвижимость',\n",
       "       'строительство недвижимости', 'на покупку подержанного автомобиля',\n",
       "       'на покупку своего автомобиля',\n",
       "       'операции с коммерческой недвижимостью',\n",
       "       'строительство жилой недвижимости', 'жилье',\n",
       "       'операции со своей недвижимостью', 'автомобили',\n",
       "       'заняться образованием', 'сделка с подержанным автомобилем',\n",
       "       'получение образования', 'автомобиль', 'свадьба',\n",
       "       'получение дополнительного образования', 'покупка своего жилья',\n",
       "       'операции с недвижимостью', 'получение высшего образования',\n",
       "       'свой автомобиль', 'сделка с автомобилем',\n",
       "       'профильное образование', 'высшее образование',\n",
       "       'покупка жилья для сдачи', 'на покупку автомобиля', 'ремонт жилью',\n",
       "       'заняться высшим образованием'], dtype=object)"
      ]
     },
     "execution_count": 60,
     "metadata": {},
     "output_type": "execute_result"
    }
   ],
   "source": [
    "# We will carry out a preliminary assessment of the loan goals by highlighting the lemmas of the goals, counting the values and then forming a single dictionary of goals with the most common values. \n",
    "\n",
    "lemmas_dict = []\n",
    "\n",
    "# let's define all the unique values in the purpose column\n",
    "\n",
    "unique_purpose_dict = data['purpose'].unique()\n",
    "\n",
    "unique_purpose_dict"
   ]
  },
  {
   "cell_type": "code",
   "execution_count": 61,
   "metadata": {},
   "outputs": [
    {
     "name": "stdout",
     "output_type": "stream",
     "text": [
      "('покупка жилья;приобретение автомобиля;дополнительное образование;сыграть '\n",
      " 'свадьбу;операции с жильем;образование;на проведение свадьбы;покупка жилья '\n",
      " 'для семьи;покупка недвижимости;покупка коммерческой недвижимости;покупка '\n",
      " 'жилой недвижимости;строительство собственной '\n",
      " 'недвижимости;недвижимость;строительство недвижимости;на покупку подержанного '\n",
      " 'автомобиля;на покупку своего автомобиля;операции с коммерческой '\n",
      " 'недвижимостью;строительство жилой недвижимости;жилье;операции со своей '\n",
      " 'недвижимостью;автомобили;заняться образованием;сделка с подержанным '\n",
      " 'автомобилем;получение образования;автомобиль;свадьба;получение '\n",
      " 'дополнительного образования;покупка своего жилья;операции с '\n",
      " 'недвижимостью;получение высшего образования;свой автомобиль;сделка с '\n",
      " 'автомобилем;профильное образование;высшее образование;покупка жилья для '\n",
      " 'сдачи;на покупку автомобиля;ремонт жилью;заняться высшим образованием')\n"
     ]
    }
   ],
   "source": [
    "# Лемматизация целей займов\n",
    "m = Mystem()\n",
    "purpose = ';'.join(unique_purpose_dict)\n",
    "pprint.pprint(purpose)"
   ]
  },
  {
   "cell_type": "code",
   "execution_count": 62,
   "metadata": {},
   "outputs": [
    {
     "name": "stdout",
     "output_type": "stream",
     "text": [
      "Counter({' ': 59,\n",
      "         ';': 37,\n",
      "         'покупка': 10,\n",
      "         'недвижимость': 10,\n",
      "         'автомобиль': 9,\n",
      "         'образование': 9,\n",
      "         'жилье': 7,\n",
      "         'с': 5,\n",
      "         'операция': 4,\n",
      "         'на': 4,\n",
      "         'свой': 4,\n",
      "         'свадьба': 3,\n",
      "         'строительство': 3,\n",
      "         'получение': 3,\n",
      "         'высокий': 3,\n",
      "         'дополнительный': 2,\n",
      "         'для': 2,\n",
      "         'коммерческий': 2,\n",
      "         'жилой': 2,\n",
      "         'подержать': 2,\n",
      "         'заниматься': 2,\n",
      "         'сделка': 2,\n",
      "         'приобретение': 1,\n",
      "         'сыграть': 1,\n",
      "         'проведение': 1,\n",
      "         'семья': 1,\n",
      "         'собственный': 1,\n",
      "         'со': 1,\n",
      "         'профильный': 1,\n",
      "         'сдача': 1,\n",
      "         'ремонт': 1,\n",
      "         '\\n': 1})\n"
     ]
    }
   ],
   "source": [
    "lemmas = m.lemmatize(purpose)\n",
    "pprint.pprint(Counter(lemmas))"
   ]
  },
  {
   "cell_type": "markdown",
   "metadata": {},
   "source": [
    "**Intermediate conclusion**"
   ]
  },
  {
   "cell_type": "markdown",
   "metadata": {},
   "source": [
    "Analyzing the lemmas highlighted in this section, we can identify the following main purposes for which loans are taken:\n",
    "\n",
    "1) real estate\n",
    "\n",
    "2) education\n",
    "\n",
    "3) wedding\n",
    "\n",
    "4) car"
   ]
  },
  {
   "cell_type": "markdown",
   "metadata": {},
   "source": [
    "### Categorization of data"
   ]
  },
  {
   "cell_type": "markdown",
   "metadata": {},
   "source": [
    "In this section, it is proposed to allocate the following categories of borrowers:\n",
    "\n",
    "1) depending on the purpose of the loan (based on the lemmas from the previous section, we will form a dictionary of the main goals of the loan and carry out a categorization with the entry of values in a new column **purpose_type**)\n",
    "\n",
    "2) depending on the borrower's income level(The main idea is to estimate the income level of the corresponding borrower with a median value in the sample, so if the income is below half of the median value, then it is considered \"very low\", in the range of 0.5 median < \"low\"<= 0.75 median, 0.75 median < \"average\" <= 1.25 median, 1.25 median < \"higher average\" <= 2 medians, 2 medians < \"high\" <= 4 medians, anything higher is considered \"very high\"). Based on the results of such categorization, it is proposed to introduce an additional column with the specified categories **total_income_type**."
   ]
  },
  {
   "cell_type": "code",
   "execution_count": 63,
   "metadata": {},
   "outputs": [],
   "source": [
    "# let's form a dictionary for further categorization with an indication of the category selected on the basis of the selected lemmas under the index 0lemmas of the main goals     \n",
    "\n",
    "lemmas_dict = [['недвижимость', 'покупка жилья','операции с жильем', 'покупка жилья для семьи',  'покупка недвижимости', 'покупка коммерческой недвижимости', 'покупка жилой недвижимости','строительство собственной недвижимости', 'недвижимость', 'строительство недвижимости', 'операции с коммерческой недвижимостью','строительство жилой недвижимости', 'жилье', 'операции со своей недвижимостью','покупка жилья для сдачи','покупка своего жилья', 'операции с недвижимостью','профильное образование','ремонт жилью'],\n",
    "               ['автомобиль','приобретение автомобиля', 'на покупку подержанного автомобиля','на покупку своего автомобиля','автомобили', 'сделка с подержанным автомобилем', 'свой автомобиль', 'сделка с автомобилем','на покупку автомобиля'],\n",
    "               ['свадьба', 'сыграть свадьбу','на проведение свадьбы'],\n",
    "               ['образование', 'дополнительное образование', 'заняться образованием', 'заняться высшим образованием', 'получение образования', 'получение дополнительного образования','получение высшего образования','высшее образование']]\n"
   ]
  },
  {
   "cell_type": "code",
   "execution_count": 64,
   "metadata": {},
   "outputs": [],
   "source": [
    "# let's write a goal categorization function depending on the selected lemmas and fill in a new column purpose_type\n",
    "def purpose_type_group(purpose):\n",
    "    \n",
    "    for lemma in lemmas:\n",
    "        for l_dict in lemmas_dict:\n",
    "            if lemma in l_dict:\n",
    "                return l_dict[0]\n",
    "            \n",
    "\n",
    "data['purpose_type'] = data['purpose'].apply(purpose_type_group)"
   ]
  },
  {
   "cell_type": "code",
   "execution_count": 65,
   "metadata": {},
   "outputs": [
    {
     "data": {
      "text/html": [
       "<div>\n",
       "<style scoped>\n",
       "    .dataframe tbody tr th:only-of-type {\n",
       "        vertical-align: middle;\n",
       "    }\n",
       "\n",
       "    .dataframe tbody tr th {\n",
       "        vertical-align: top;\n",
       "    }\n",
       "\n",
       "    .dataframe thead th {\n",
       "        text-align: right;\n",
       "    }\n",
       "</style>\n",
       "<table border=\"1\" class=\"dataframe\">\n",
       "  <thead>\n",
       "    <tr style=\"text-align: right;\">\n",
       "      <th></th>\n",
       "      <th>children</th>\n",
       "      <th>days_employed</th>\n",
       "      <th>dob_years</th>\n",
       "      <th>education</th>\n",
       "      <th>education_id</th>\n",
       "      <th>family_status</th>\n",
       "      <th>family_status_id</th>\n",
       "      <th>gender</th>\n",
       "      <th>income_type</th>\n",
       "      <th>debt</th>\n",
       "      <th>total_income</th>\n",
       "      <th>purpose</th>\n",
       "      <th>borrower_age_group</th>\n",
       "      <th>purpose_type</th>\n",
       "    </tr>\n",
       "  </thead>\n",
       "  <tbody>\n",
       "    <tr>\n",
       "      <th>0</th>\n",
       "      <td>1</td>\n",
       "      <td>8437</td>\n",
       "      <td>42</td>\n",
       "      <td>высшее</td>\n",
       "      <td>0</td>\n",
       "      <td>женат / замужем</td>\n",
       "      <td>0</td>\n",
       "      <td>Ж</td>\n",
       "      <td>сотрудник</td>\n",
       "      <td>0</td>\n",
       "      <td>253875.639453</td>\n",
       "      <td>покупка жилья</td>\n",
       "      <td>зрелый</td>\n",
       "      <td>недвижимость</td>\n",
       "    </tr>\n",
       "    <tr>\n",
       "      <th>1</th>\n",
       "      <td>1</td>\n",
       "      <td>4024</td>\n",
       "      <td>36</td>\n",
       "      <td>среднее</td>\n",
       "      <td>1</td>\n",
       "      <td>женат / замужем</td>\n",
       "      <td>0</td>\n",
       "      <td>Ж</td>\n",
       "      <td>сотрудник</td>\n",
       "      <td>0</td>\n",
       "      <td>112080.014102</td>\n",
       "      <td>приобретение автомобиля</td>\n",
       "      <td>зрелый</td>\n",
       "      <td>недвижимость</td>\n",
       "    </tr>\n",
       "    <tr>\n",
       "      <th>2</th>\n",
       "      <td>0</td>\n",
       "      <td>5623</td>\n",
       "      <td>33</td>\n",
       "      <td>среднее</td>\n",
       "      <td>1</td>\n",
       "      <td>женат / замужем</td>\n",
       "      <td>0</td>\n",
       "      <td>М</td>\n",
       "      <td>сотрудник</td>\n",
       "      <td>0</td>\n",
       "      <td>145885.952297</td>\n",
       "      <td>покупка жилья</td>\n",
       "      <td>зрелый</td>\n",
       "      <td>недвижимость</td>\n",
       "    </tr>\n",
       "    <tr>\n",
       "      <th>3</th>\n",
       "      <td>3</td>\n",
       "      <td>4124</td>\n",
       "      <td>32</td>\n",
       "      <td>среднее</td>\n",
       "      <td>1</td>\n",
       "      <td>женат / замужем</td>\n",
       "      <td>0</td>\n",
       "      <td>М</td>\n",
       "      <td>сотрудник</td>\n",
       "      <td>0</td>\n",
       "      <td>267628.550329</td>\n",
       "      <td>дополнительное образование</td>\n",
       "      <td>зрелый</td>\n",
       "      <td>недвижимость</td>\n",
       "    </tr>\n",
       "    <tr>\n",
       "      <th>4</th>\n",
       "      <td>0</td>\n",
       "      <td>15330</td>\n",
       "      <td>53</td>\n",
       "      <td>среднее</td>\n",
       "      <td>1</td>\n",
       "      <td>гражданский брак</td>\n",
       "      <td>1</td>\n",
       "      <td>Ж</td>\n",
       "      <td>пенсионер</td>\n",
       "      <td>0</td>\n",
       "      <td>158616.077870</td>\n",
       "      <td>сыграть свадьбу</td>\n",
       "      <td>пожилой</td>\n",
       "      <td>недвижимость</td>\n",
       "    </tr>\n",
       "  </tbody>\n",
       "</table>\n",
       "</div>"
      ],
      "text/plain": [
       "   children  days_employed  dob_years education  education_id  \\\n",
       "0         1           8437         42    высшее             0   \n",
       "1         1           4024         36   среднее             1   \n",
       "2         0           5623         33   среднее             1   \n",
       "3         3           4124         32   среднее             1   \n",
       "4         0          15330         53   среднее             1   \n",
       "\n",
       "      family_status  family_status_id gender income_type  debt   total_income  \\\n",
       "0   женат / замужем                 0      Ж   сотрудник     0  253875.639453   \n",
       "1   женат / замужем                 0      Ж   сотрудник     0  112080.014102   \n",
       "2   женат / замужем                 0      М   сотрудник     0  145885.952297   \n",
       "3   женат / замужем                 0      М   сотрудник     0  267628.550329   \n",
       "4  гражданский брак                 1      Ж   пенсионер     0  158616.077870   \n",
       "\n",
       "                      purpose borrower_age_group  purpose_type  \n",
       "0               покупка жилья             зрелый  недвижимость  \n",
       "1     приобретение автомобиля             зрелый  недвижимость  \n",
       "2               покупка жилья             зрелый  недвижимость  \n",
       "3  дополнительное образование             зрелый  недвижимость  \n",
       "4             сыграть свадьбу            пожилой  недвижимость  "
      ]
     },
     "execution_count": 65,
     "metadata": {},
     "output_type": "execute_result"
    }
   ],
   "source": [
    "# Let's check the categorization made\n",
    "\n",
    "data.head()"
   ]
  },
  {
   "cell_type": "code",
   "execution_count": 66,
   "metadata": {},
   "outputs": [],
   "source": [
    "# Categorization based on income level and filling in the additional column total_income_group\n",
    "total_income_median = data['total_income'].median()\n",
    "\n",
    "\n",
    "def total_income_group(total_income):\n",
    "    if total_income <= total_income_median*0.5:\n",
    "        return 'очень низкий'\n",
    "    elif total_income > total_income_median*0.5 and total_income <= total_income_median*0.75:\n",
    "        return 'низкий'\n",
    "    elif total_income > total_income_median*0.75 and total_income <= total_income_median*1.25:\n",
    "        return 'средний'\n",
    "    elif total_income > total_income_median*1.25 and total_income <= total_income_median*2:\n",
    "        return 'выше среднего'\n",
    "    elif total_income > total_income_median*2 and total_income <= total_income_median*4:\n",
    "        return 'высокий'\n",
    "    else:\n",
    "        return 'очень высокий'\n",
    "    \n",
    "data['total_income_group'] = data['total_income'].apply(total_income_group)    \n"
   ]
  },
  {
   "cell_type": "code",
   "execution_count": 67,
   "metadata": {},
   "outputs": [
    {
     "data": {
      "text/html": [
       "<div>\n",
       "<style scoped>\n",
       "    .dataframe tbody tr th:only-of-type {\n",
       "        vertical-align: middle;\n",
       "    }\n",
       "\n",
       "    .dataframe tbody tr th {\n",
       "        vertical-align: top;\n",
       "    }\n",
       "\n",
       "    .dataframe thead th {\n",
       "        text-align: right;\n",
       "    }\n",
       "</style>\n",
       "<table border=\"1\" class=\"dataframe\">\n",
       "  <thead>\n",
       "    <tr style=\"text-align: right;\">\n",
       "      <th></th>\n",
       "      <th>children</th>\n",
       "      <th>days_employed</th>\n",
       "      <th>dob_years</th>\n",
       "      <th>education</th>\n",
       "      <th>education_id</th>\n",
       "      <th>family_status</th>\n",
       "      <th>family_status_id</th>\n",
       "      <th>gender</th>\n",
       "      <th>income_type</th>\n",
       "      <th>debt</th>\n",
       "      <th>total_income</th>\n",
       "      <th>purpose</th>\n",
       "      <th>borrower_age_group</th>\n",
       "      <th>purpose_type</th>\n",
       "      <th>total_income_group</th>\n",
       "    </tr>\n",
       "  </thead>\n",
       "  <tbody>\n",
       "    <tr>\n",
       "      <th>0</th>\n",
       "      <td>1</td>\n",
       "      <td>8437</td>\n",
       "      <td>42</td>\n",
       "      <td>высшее</td>\n",
       "      <td>0</td>\n",
       "      <td>женат / замужем</td>\n",
       "      <td>0</td>\n",
       "      <td>Ж</td>\n",
       "      <td>сотрудник</td>\n",
       "      <td>0</td>\n",
       "      <td>253875.639453</td>\n",
       "      <td>покупка жилья</td>\n",
       "      <td>зрелый</td>\n",
       "      <td>недвижимость</td>\n",
       "      <td>выше среднего</td>\n",
       "    </tr>\n",
       "    <tr>\n",
       "      <th>1</th>\n",
       "      <td>1</td>\n",
       "      <td>4024</td>\n",
       "      <td>36</td>\n",
       "      <td>среднее</td>\n",
       "      <td>1</td>\n",
       "      <td>женат / замужем</td>\n",
       "      <td>0</td>\n",
       "      <td>Ж</td>\n",
       "      <td>сотрудник</td>\n",
       "      <td>0</td>\n",
       "      <td>112080.014102</td>\n",
       "      <td>приобретение автомобиля</td>\n",
       "      <td>зрелый</td>\n",
       "      <td>недвижимость</td>\n",
       "      <td>низкий</td>\n",
       "    </tr>\n",
       "    <tr>\n",
       "      <th>2</th>\n",
       "      <td>0</td>\n",
       "      <td>5623</td>\n",
       "      <td>33</td>\n",
       "      <td>среднее</td>\n",
       "      <td>1</td>\n",
       "      <td>женат / замужем</td>\n",
       "      <td>0</td>\n",
       "      <td>М</td>\n",
       "      <td>сотрудник</td>\n",
       "      <td>0</td>\n",
       "      <td>145885.952297</td>\n",
       "      <td>покупка жилья</td>\n",
       "      <td>зрелый</td>\n",
       "      <td>недвижимость</td>\n",
       "      <td>средний</td>\n",
       "    </tr>\n",
       "    <tr>\n",
       "      <th>3</th>\n",
       "      <td>3</td>\n",
       "      <td>4124</td>\n",
       "      <td>32</td>\n",
       "      <td>среднее</td>\n",
       "      <td>1</td>\n",
       "      <td>женат / замужем</td>\n",
       "      <td>0</td>\n",
       "      <td>М</td>\n",
       "      <td>сотрудник</td>\n",
       "      <td>0</td>\n",
       "      <td>267628.550329</td>\n",
       "      <td>дополнительное образование</td>\n",
       "      <td>зрелый</td>\n",
       "      <td>недвижимость</td>\n",
       "      <td>выше среднего</td>\n",
       "    </tr>\n",
       "    <tr>\n",
       "      <th>4</th>\n",
       "      <td>0</td>\n",
       "      <td>15330</td>\n",
       "      <td>53</td>\n",
       "      <td>среднее</td>\n",
       "      <td>1</td>\n",
       "      <td>гражданский брак</td>\n",
       "      <td>1</td>\n",
       "      <td>Ж</td>\n",
       "      <td>пенсионер</td>\n",
       "      <td>0</td>\n",
       "      <td>158616.077870</td>\n",
       "      <td>сыграть свадьбу</td>\n",
       "      <td>пожилой</td>\n",
       "      <td>недвижимость</td>\n",
       "      <td>средний</td>\n",
       "    </tr>\n",
       "  </tbody>\n",
       "</table>\n",
       "</div>"
      ],
      "text/plain": [
       "   children  days_employed  dob_years education  education_id  \\\n",
       "0         1           8437         42    высшее             0   \n",
       "1         1           4024         36   среднее             1   \n",
       "2         0           5623         33   среднее             1   \n",
       "3         3           4124         32   среднее             1   \n",
       "4         0          15330         53   среднее             1   \n",
       "\n",
       "      family_status  family_status_id gender income_type  debt   total_income  \\\n",
       "0   женат / замужем                 0      Ж   сотрудник     0  253875.639453   \n",
       "1   женат / замужем                 0      Ж   сотрудник     0  112080.014102   \n",
       "2   женат / замужем                 0      М   сотрудник     0  145885.952297   \n",
       "3   женат / замужем                 0      М   сотрудник     0  267628.550329   \n",
       "4  гражданский брак                 1      Ж   пенсионер     0  158616.077870   \n",
       "\n",
       "                      purpose borrower_age_group  purpose_type  \\\n",
       "0               покупка жилья             зрелый  недвижимость   \n",
       "1     приобретение автомобиля             зрелый  недвижимость   \n",
       "2               покупка жилья             зрелый  недвижимость   \n",
       "3  дополнительное образование             зрелый  недвижимость   \n",
       "4             сыграть свадьбу            пожилой  недвижимость   \n",
       "\n",
       "  total_income_group  \n",
       "0      выше среднего  \n",
       "1             низкий  \n",
       "2            средний  \n",
       "3      выше среднего  \n",
       "4            средний  "
      ]
     },
     "execution_count": 67,
     "metadata": {},
     "output_type": "execute_result"
    }
   ],
   "source": [
    "data.head()"
   ]
  },
  {
   "cell_type": "code",
   "execution_count": 68,
   "metadata": {},
   "outputs": [
    {
     "data": {
      "text/plain": [
       "недвижимость    21381\n",
       "Name: purpose_type, dtype: int64"
      ]
     },
     "execution_count": 68,
     "metadata": {},
     "output_type": "execute_result"
    }
   ],
   "source": [
    "data['purpose_type'].value_counts()"
   ]
  },
  {
   "cell_type": "code",
   "execution_count": 69,
   "metadata": {},
   "outputs": [
    {
     "data": {
      "text/plain": [
       "средний          9422\n",
       "выше среднего    4446\n",
       "низкий           4180\n",
       "очень низкий     1849\n",
       "высокий          1375\n",
       "очень высокий     109\n",
       "Name: total_income_group, dtype: int64"
      ]
     },
     "execution_count": 69,
     "metadata": {},
     "output_type": "execute_result"
    }
   ],
   "source": [
    "data['total_income_group'].value_counts()"
   ]
  },
  {
   "cell_type": "code",
   "execution_count": 70,
   "metadata": {},
   "outputs": [
    {
     "data": {
      "text/plain": [
       "total_income_group\n",
       "высокий           69521.009282\n",
       "выше среднего     30991.954433\n",
       "низкий            10699.074184\n",
       "очень высокий    322540.756579\n",
       "очень низкий      11285.512330\n",
       "средний           19341.686897\n",
       "Name: total_income, dtype: float64"
      ]
     },
     "execution_count": 70,
     "metadata": {},
     "output_type": "execute_result"
    }
   ],
   "source": [
    "# altornative approach by std \n",
    "\n",
    "data.groupby('total_income_group')['total_income'].std()"
   ]
  },
  {
   "cell_type": "code",
   "execution_count": 71,
   "metadata": {},
   "outputs": [
    {
     "data": {
      "text/html": [
       "<div>\n",
       "<style scoped>\n",
       "    .dataframe tbody tr th:only-of-type {\n",
       "        vertical-align: middle;\n",
       "    }\n",
       "\n",
       "    .dataframe tbody tr th {\n",
       "        vertical-align: top;\n",
       "    }\n",
       "\n",
       "    .dataframe thead th {\n",
       "        text-align: right;\n",
       "    }\n",
       "</style>\n",
       "<table border=\"1\" class=\"dataframe\">\n",
       "  <thead>\n",
       "    <tr style=\"text-align: right;\">\n",
       "      <th>total_income_group</th>\n",
       "      <th>высокий</th>\n",
       "      <th>выше среднего</th>\n",
       "      <th>низкий</th>\n",
       "      <th>очень высокий</th>\n",
       "      <th>очень низкий</th>\n",
       "      <th>средний</th>\n",
       "    </tr>\n",
       "    <tr>\n",
       "      <th>income_type</th>\n",
       "      <th></th>\n",
       "      <th></th>\n",
       "      <th></th>\n",
       "      <th></th>\n",
       "      <th></th>\n",
       "      <th></th>\n",
       "    </tr>\n",
       "  </thead>\n",
       "  <tbody>\n",
       "    <tr>\n",
       "      <th>безработный</th>\n",
       "      <td>NaN</td>\n",
       "      <td>1.0</td>\n",
       "      <td>NaN</td>\n",
       "      <td>NaN</td>\n",
       "      <td>1.0</td>\n",
       "      <td>NaN</td>\n",
       "    </tr>\n",
       "    <tr>\n",
       "      <th>госслужащий</th>\n",
       "      <td>109.0</td>\n",
       "      <td>306.0</td>\n",
       "      <td>267.0</td>\n",
       "      <td>7.0</td>\n",
       "      <td>117.0</td>\n",
       "      <td>647.0</td>\n",
       "    </tr>\n",
       "    <tr>\n",
       "      <th>пенсионер</th>\n",
       "      <td>121.0</td>\n",
       "      <td>548.0</td>\n",
       "      <td>973.0</td>\n",
       "      <td>7.0</td>\n",
       "      <td>666.0</td>\n",
       "      <td>1506.0</td>\n",
       "    </tr>\n",
       "    <tr>\n",
       "      <th>предприниматель</th>\n",
       "      <td>1.0</td>\n",
       "      <td>NaN</td>\n",
       "      <td>NaN</td>\n",
       "      <td>NaN</td>\n",
       "      <td>NaN</td>\n",
       "      <td>NaN</td>\n",
       "    </tr>\n",
       "    <tr>\n",
       "      <th>сотрудник</th>\n",
       "      <td>1144.0</td>\n",
       "      <td>3591.0</td>\n",
       "      <td>2939.0</td>\n",
       "      <td>95.0</td>\n",
       "      <td>1065.0</td>\n",
       "      <td>7269.0</td>\n",
       "    </tr>\n",
       "    <tr>\n",
       "      <th>студент</th>\n",
       "      <td>NaN</td>\n",
       "      <td>NaN</td>\n",
       "      <td>1.0</td>\n",
       "      <td>NaN</td>\n",
       "      <td>NaN</td>\n",
       "      <td>NaN</td>\n",
       "    </tr>\n",
       "  </tbody>\n",
       "</table>\n",
       "</div>"
      ],
      "text/plain": [
       "total_income_group  высокий  выше среднего  низкий  очень высокий  \\\n",
       "income_type                                                         \n",
       "безработный             NaN            1.0     NaN            NaN   \n",
       "госслужащий           109.0          306.0   267.0            7.0   \n",
       "пенсионер             121.0          548.0   973.0            7.0   \n",
       "предприниматель         1.0            NaN     NaN            NaN   \n",
       "сотрудник            1144.0         3591.0  2939.0           95.0   \n",
       "студент                 NaN            NaN     1.0            NaN   \n",
       "\n",
       "total_income_group  очень низкий  средний  \n",
       "income_type                                \n",
       "безработный                  1.0      NaN  \n",
       "госслужащий                117.0    647.0  \n",
       "пенсионер                  666.0   1506.0  \n",
       "предприниматель              NaN      NaN  \n",
       "сотрудник                 1065.0   7269.0  \n",
       "студент                      NaN      NaN  "
      ]
     },
     "execution_count": 71,
     "metadata": {},
     "output_type": "execute_result"
    }
   ],
   "source": [
    "# Let's build a summary table to analyze the results of categorization, taking into account the types of employment\n",
    "\n",
    "data.pivot_table(index=['income_type'], columns='total_income_group', values='total_income', aggfunc='count')"
   ]
  },
  {
   "cell_type": "code",
   "execution_count": 72,
   "metadata": {},
   "outputs": [
    {
     "data": {
      "text/html": [
       "<div>\n",
       "<style scoped>\n",
       "    .dataframe tbody tr th:only-of-type {\n",
       "        vertical-align: middle;\n",
       "    }\n",
       "\n",
       "    .dataframe tbody tr th {\n",
       "        vertical-align: top;\n",
       "    }\n",
       "\n",
       "    .dataframe thead th {\n",
       "        text-align: right;\n",
       "    }\n",
       "</style>\n",
       "<table border=\"1\" class=\"dataframe\">\n",
       "  <thead>\n",
       "    <tr style=\"text-align: right;\">\n",
       "      <th>purpose_type</th>\n",
       "      <th>недвижимость</th>\n",
       "    </tr>\n",
       "    <tr>\n",
       "      <th>income_type</th>\n",
       "      <th></th>\n",
       "    </tr>\n",
       "  </thead>\n",
       "  <tbody>\n",
       "    <tr>\n",
       "      <th>безработный</th>\n",
       "      <td>2</td>\n",
       "    </tr>\n",
       "    <tr>\n",
       "      <th>госслужащий</th>\n",
       "      <td>1453</td>\n",
       "    </tr>\n",
       "    <tr>\n",
       "      <th>пенсионер</th>\n",
       "      <td>3821</td>\n",
       "    </tr>\n",
       "    <tr>\n",
       "      <th>предприниматель</th>\n",
       "      <td>1</td>\n",
       "    </tr>\n",
       "    <tr>\n",
       "      <th>сотрудник</th>\n",
       "      <td>16103</td>\n",
       "    </tr>\n",
       "    <tr>\n",
       "      <th>студент</th>\n",
       "      <td>1</td>\n",
       "    </tr>\n",
       "  </tbody>\n",
       "</table>\n",
       "</div>"
      ],
      "text/plain": [
       "purpose_type     недвижимость\n",
       "income_type                  \n",
       "безработный                 2\n",
       "госслужащий              1453\n",
       "пенсионер                3821\n",
       "предприниматель             1\n",
       "сотрудник               16103\n",
       "студент                     1"
      ]
     },
     "execution_count": 72,
     "metadata": {},
     "output_type": "execute_result"
    }
   ],
   "source": [
    "data.pivot_table(index=['income_type'], columns='purpose_type', values='total_income', aggfunc='count')"
   ]
  },
  {
   "cell_type": "markdown",
   "metadata": {},
   "source": [
    "**Intermediate counclusion**"
   ]
  },
  {
   "cell_type": "markdown",
   "metadata": {},
   "source": [
    "From the data of the pivot tables , you can see:\n",
    "\n",
    "1) regardless of the type of employment, the main loans are related to the purchase of housing, then a car;\n",
    "\n",
    "2) high uncertainty and associated risks exist for the category of borrowers \"unemployed\", since there are two extreme values with very high and low income. Presumably, the first refers to a person who is actually engaged in entrepreneurial activity, but the absence of a direct indication of this does not allow him to qualify as a reliable borrower. The second person is most likely really unemployed and receives benefits.\n",
    "\n",
    "3) the category of borrowers \"pensioners\" is noteworthy, since in addition to employees, about a little more than half of pensioners have an average income and higher. Perhaps this is due to obtaining additional income in addition to a pension and continuing to work. This category can be considered a potential growth point. Perhaps it is necessary to develop separate products for this category for the profile department of the bank. However, to answer this question, it is necessary to conduct an additional assessment of the loan repayment from the type of employment."
   ]
  },
  {
   "cell_type": "markdown",
   "metadata": {},
   "source": [
    "## Identification of dependencies for different categories of borrowers"
   ]
  },
  {
   "cell_type": "markdown",
   "metadata": {},
   "source": [
    "**The relationship between having children and repayment of the loan on time**"
   ]
  },
  {
   "cell_type": "code",
   "execution_count": 73,
   "metadata": {},
   "outputs": [
    {
     "name": "stdout",
     "output_type": "stream",
     "text": [
      "children\n",
      "5    0.000000\n",
      "0    0.075545\n",
      "3    0.081818\n",
      "1    0.092404\n",
      "2    0.095059\n",
      "4    0.097561\n",
      "Name: debt, dtype: float64\n"
     ]
    }
   ],
   "source": [
    "# Let's calculate the proportion of borrowers who have overdue loan repayments, depending on the number of children\n",
    "# Average value for each category\n",
    "\n",
    "print(data.groupby('children')['debt'].mean().sort_values(ascending=True))"
   ]
  },
  {
   "cell_type": "code",
   "execution_count": 74,
   "metadata": {},
   "outputs": [
    {
     "data": {
      "text/html": [
       "<div>\n",
       "<style scoped>\n",
       "    .dataframe tbody tr th:only-of-type {\n",
       "        vertical-align: middle;\n",
       "    }\n",
       "\n",
       "    .dataframe tbody tr th {\n",
       "        vertical-align: top;\n",
       "    }\n",
       "\n",
       "    .dataframe thead th {\n",
       "        text-align: right;\n",
       "    }\n",
       "</style>\n",
       "<table border=\"1\" class=\"dataframe\">\n",
       "  <thead>\n",
       "    <tr style=\"text-align: right;\">\n",
       "      <th>income_type</th>\n",
       "      <th>безработный</th>\n",
       "      <th>госслужащий</th>\n",
       "      <th>пенсионер</th>\n",
       "      <th>предприниматель</th>\n",
       "      <th>сотрудник</th>\n",
       "      <th>студент</th>\n",
       "    </tr>\n",
       "    <tr>\n",
       "      <th>children</th>\n",
       "      <th></th>\n",
       "      <th></th>\n",
       "      <th></th>\n",
       "      <th></th>\n",
       "      <th></th>\n",
       "      <th></th>\n",
       "    </tr>\n",
       "  </thead>\n",
       "  <tbody>\n",
       "    <tr>\n",
       "      <th>0</th>\n",
       "      <td>0.0</td>\n",
       "      <td>0.068129</td>\n",
       "      <td>0.056410</td>\n",
       "      <td>0.0</td>\n",
       "      <td>0.083161</td>\n",
       "      <td>0.0</td>\n",
       "    </tr>\n",
       "    <tr>\n",
       "      <th>1</th>\n",
       "      <td>1.0</td>\n",
       "      <td>0.053672</td>\n",
       "      <td>0.050909</td>\n",
       "      <td>NaN</td>\n",
       "      <td>0.098204</td>\n",
       "      <td>NaN</td>\n",
       "    </tr>\n",
       "    <tr>\n",
       "      <th>2</th>\n",
       "      <td>NaN</td>\n",
       "      <td>0.031746</td>\n",
       "      <td>0.103448</td>\n",
       "      <td>NaN</td>\n",
       "      <td>0.101206</td>\n",
       "      <td>NaN</td>\n",
       "    </tr>\n",
       "    <tr>\n",
       "      <th>3</th>\n",
       "      <td>NaN</td>\n",
       "      <td>0.055556</td>\n",
       "      <td>0.166667</td>\n",
       "      <td>NaN</td>\n",
       "      <td>0.083333</td>\n",
       "      <td>NaN</td>\n",
       "    </tr>\n",
       "    <tr>\n",
       "      <th>4</th>\n",
       "      <td>NaN</td>\n",
       "      <td>0.000000</td>\n",
       "      <td>0.000000</td>\n",
       "      <td>NaN</td>\n",
       "      <td>0.121212</td>\n",
       "      <td>NaN</td>\n",
       "    </tr>\n",
       "    <tr>\n",
       "      <th>5</th>\n",
       "      <td>NaN</td>\n",
       "      <td>0.000000</td>\n",
       "      <td>NaN</td>\n",
       "      <td>NaN</td>\n",
       "      <td>0.000000</td>\n",
       "      <td>NaN</td>\n",
       "    </tr>\n",
       "  </tbody>\n",
       "</table>\n",
       "</div>"
      ],
      "text/plain": [
       "income_type  безработный  госслужащий  пенсионер  предприниматель  сотрудник  \\\n",
       "children                                                                       \n",
       "0                    0.0     0.068129   0.056410              0.0   0.083161   \n",
       "1                    1.0     0.053672   0.050909              NaN   0.098204   \n",
       "2                    NaN     0.031746   0.103448              NaN   0.101206   \n",
       "3                    NaN     0.055556   0.166667              NaN   0.083333   \n",
       "4                    NaN     0.000000   0.000000              NaN   0.121212   \n",
       "5                    NaN     0.000000        NaN              NaN   0.000000   \n",
       "\n",
       "income_type  студент  \n",
       "children              \n",
       "0                0.0  \n",
       "1                NaN  \n",
       "2                NaN  \n",
       "3                NaN  \n",
       "4                NaN  \n",
       "5                NaN  "
      ]
     },
     "execution_count": 74,
     "metadata": {},
     "output_type": "execute_result"
    }
   ],
   "source": [
    "# et's calculate the proportion of borrowers who have overdue debt repayment, depending on the number of children\n",
    "\n",
    "data.pivot_table(index=['children'], columns='income_type', values='debt', aggfunc='mean')"
   ]
  },
  {
   "cell_type": "code",
   "execution_count": 75,
   "metadata": {},
   "outputs": [
    {
     "data": {
      "text/html": [
       "<style  type=\"text/css\" >\n",
       "#T_5f95a_row0_col0,#T_5f95a_row0_col3,#T_5f95a_row0_col5,#T_5f95a_row1_col3,#T_5f95a_row1_col5,#T_5f95a_row2_col3,#T_5f95a_row2_col5,#T_5f95a_row3_col3,#T_5f95a_row3_col5,#T_5f95a_row4_col1,#T_5f95a_row4_col2,#T_5f95a_row4_col3,#T_5f95a_row4_col5,#T_5f95a_row5_col1,#T_5f95a_row5_col3,#T_5f95a_row5_col4,#T_5f95a_row5_col5{\n",
       "            background-color:  #f0f0f3;\n",
       "            color:  #000000;\n",
       "        }#T_5f95a_row0_col1,#T_5f95a_row1_col0,#T_5f95a_row3_col2,#T_5f95a_row4_col4{\n",
       "            background-color:  #0000ff;\n",
       "            color:  #f1f1f1;\n",
       "        }#T_5f95a_row0_col2{\n",
       "            background-color:  #a0a0f7;\n",
       "            color:  #000000;\n",
       "        }#T_5f95a_row0_col4,#T_5f95a_row3_col4{\n",
       "            background-color:  #4b4bfb;\n",
       "            color:  #f1f1f1;\n",
       "        }#T_5f95a_row1_col1{\n",
       "            background-color:  #3131fd;\n",
       "            color:  #f1f1f1;\n",
       "        }#T_5f95a_row1_col2{\n",
       "            background-color:  #a7a7f7;\n",
       "            color:  #000000;\n",
       "        }#T_5f95a_row1_col4{\n",
       "            background-color:  #2d2dfd;\n",
       "            color:  #f1f1f1;\n",
       "        }#T_5f95a_row2_col0,#T_5f95a_row3_col0,#T_5f95a_row4_col0,#T_5f95a_row5_col0,#T_5f95a_row5_col2{\n",
       "            background-color:  #000000;\n",
       "            color:  #f1f1f1;\n",
       "        }#T_5f95a_row2_col1{\n",
       "            background-color:  #7f7ff9;\n",
       "            color:  #000000;\n",
       "        }#T_5f95a_row2_col2{\n",
       "            background-color:  #5c5cfa;\n",
       "            color:  #f1f1f1;\n",
       "        }#T_5f95a_row2_col4{\n",
       "            background-color:  #2828fd;\n",
       "            color:  #f1f1f1;\n",
       "        }#T_5f95a_row3_col1{\n",
       "            background-color:  #2a2afd;\n",
       "            color:  #f1f1f1;\n",
       "        }</style><table id=\"T_5f95a_\" ><thead>    <tr>        <th class=\"index_name level0\" >income_type</th>        <th class=\"col_heading level0 col0\" >безработный</th>        <th class=\"col_heading level0 col1\" >госслужащий</th>        <th class=\"col_heading level0 col2\" >пенсионер</th>        <th class=\"col_heading level0 col3\" >предприниматель</th>        <th class=\"col_heading level0 col4\" >сотрудник</th>        <th class=\"col_heading level0 col5\" >студент</th>    </tr>    <tr>        <th class=\"index_name level0\" >children</th>        <th class=\"blank\" ></th>        <th class=\"blank\" ></th>        <th class=\"blank\" ></th>        <th class=\"blank\" ></th>        <th class=\"blank\" ></th>        <th class=\"blank\" ></th>    </tr></thead><tbody>\n",
       "                <tr>\n",
       "                        <th id=\"T_5f95a_level0_row0\" class=\"row_heading level0 row0\" >0</th>\n",
       "                        <td id=\"T_5f95a_row0_col0\" class=\"data row0 col0\" >0.000000</td>\n",
       "                        <td id=\"T_5f95a_row0_col1\" class=\"data row0 col1\" >0.068000</td>\n",
       "                        <td id=\"T_5f95a_row0_col2\" class=\"data row0 col2\" >0.056000</td>\n",
       "                        <td id=\"T_5f95a_row0_col3\" class=\"data row0 col3\" >0.000000</td>\n",
       "                        <td id=\"T_5f95a_row0_col4\" class=\"data row0 col4\" >0.083000</td>\n",
       "                        <td id=\"T_5f95a_row0_col5\" class=\"data row0 col5\" >0.000000</td>\n",
       "            </tr>\n",
       "            <tr>\n",
       "                        <th id=\"T_5f95a_level0_row1\" class=\"row_heading level0 row1\" >1</th>\n",
       "                        <td id=\"T_5f95a_row1_col0\" class=\"data row1 col0\" >1.000000</td>\n",
       "                        <td id=\"T_5f95a_row1_col1\" class=\"data row1 col1\" >0.054000</td>\n",
       "                        <td id=\"T_5f95a_row1_col2\" class=\"data row1 col2\" >0.051000</td>\n",
       "                        <td id=\"T_5f95a_row1_col3\" class=\"data row1 col3\" >nan</td>\n",
       "                        <td id=\"T_5f95a_row1_col4\" class=\"data row1 col4\" >0.098000</td>\n",
       "                        <td id=\"T_5f95a_row1_col5\" class=\"data row1 col5\" >nan</td>\n",
       "            </tr>\n",
       "            <tr>\n",
       "                        <th id=\"T_5f95a_level0_row2\" class=\"row_heading level0 row2\" >2</th>\n",
       "                        <td id=\"T_5f95a_row2_col0\" class=\"data row2 col0\" >nan</td>\n",
       "                        <td id=\"T_5f95a_row2_col1\" class=\"data row2 col1\" >0.032000</td>\n",
       "                        <td id=\"T_5f95a_row2_col2\" class=\"data row2 col2\" >0.103000</td>\n",
       "                        <td id=\"T_5f95a_row2_col3\" class=\"data row2 col3\" >nan</td>\n",
       "                        <td id=\"T_5f95a_row2_col4\" class=\"data row2 col4\" >0.101000</td>\n",
       "                        <td id=\"T_5f95a_row2_col5\" class=\"data row2 col5\" >nan</td>\n",
       "            </tr>\n",
       "            <tr>\n",
       "                        <th id=\"T_5f95a_level0_row3\" class=\"row_heading level0 row3\" >3</th>\n",
       "                        <td id=\"T_5f95a_row3_col0\" class=\"data row3 col0\" >nan</td>\n",
       "                        <td id=\"T_5f95a_row3_col1\" class=\"data row3 col1\" >0.056000</td>\n",
       "                        <td id=\"T_5f95a_row3_col2\" class=\"data row3 col2\" >0.167000</td>\n",
       "                        <td id=\"T_5f95a_row3_col3\" class=\"data row3 col3\" >nan</td>\n",
       "                        <td id=\"T_5f95a_row3_col4\" class=\"data row3 col4\" >0.083000</td>\n",
       "                        <td id=\"T_5f95a_row3_col5\" class=\"data row3 col5\" >nan</td>\n",
       "            </tr>\n",
       "            <tr>\n",
       "                        <th id=\"T_5f95a_level0_row4\" class=\"row_heading level0 row4\" >4</th>\n",
       "                        <td id=\"T_5f95a_row4_col0\" class=\"data row4 col0\" >nan</td>\n",
       "                        <td id=\"T_5f95a_row4_col1\" class=\"data row4 col1\" >0.000000</td>\n",
       "                        <td id=\"T_5f95a_row4_col2\" class=\"data row4 col2\" >0.000000</td>\n",
       "                        <td id=\"T_5f95a_row4_col3\" class=\"data row4 col3\" >nan</td>\n",
       "                        <td id=\"T_5f95a_row4_col4\" class=\"data row4 col4\" >0.121000</td>\n",
       "                        <td id=\"T_5f95a_row4_col5\" class=\"data row4 col5\" >nan</td>\n",
       "            </tr>\n",
       "            <tr>\n",
       "                        <th id=\"T_5f95a_level0_row5\" class=\"row_heading level0 row5\" >5</th>\n",
       "                        <td id=\"T_5f95a_row5_col0\" class=\"data row5 col0\" >nan</td>\n",
       "                        <td id=\"T_5f95a_row5_col1\" class=\"data row5 col1\" >0.000000</td>\n",
       "                        <td id=\"T_5f95a_row5_col2\" class=\"data row5 col2\" >nan</td>\n",
       "                        <td id=\"T_5f95a_row5_col3\" class=\"data row5 col3\" >nan</td>\n",
       "                        <td id=\"T_5f95a_row5_col4\" class=\"data row5 col4\" >0.000000</td>\n",
       "                        <td id=\"T_5f95a_row5_col5\" class=\"data row5 col5\" >nan</td>\n",
       "            </tr>\n",
       "    </tbody></table>"
      ],
      "text/plain": [
       "<pandas.io.formats.style.Styler at 0x27a1f636af0>"
      ]
     },
     "execution_count": 75,
     "metadata": {},
     "output_type": "execute_result"
    }
   ],
   "source": [
    "# As an experiment, I will try to visualize the table above\n",
    "\n",
    "import seaborn as sns\n",
    "cm = sns.light_palette(\"blue\", as_cmap=True)\n",
    "\n",
    "round(data.pivot_table(index=['children'], columns='income_type', values='debt', aggfunc='mean'), 3).style.background_gradient(cmap=cm)"
   ]
  },
  {
   "cell_type": "markdown",
   "metadata": {},
   "source": [
    "**Intermediate conclusion**"
   ]
  },
  {
   "cell_type": "markdown",
   "metadata": {},
   "source": [
    "The most disciplined borrowers are persons without children. The least - persons with 4 children. It is important to note that the number of values with borrowers with 5 children is not enough to qualify them as reliable. For civil servants, the fact of repayment of the loan on time in general does not depend much on the number of children, the leading category is civil servants with 2 children. Pensioners and employees have the tendecy of an increase in loan debt with an increase in the number of children\n"
   ]
  },
  {
   "cell_type": "markdown",
   "metadata": {},
   "source": [
    "**The relationship between marital status and repayment of the loan on time**"
   ]
  },
  {
   "cell_type": "code",
   "execution_count": 76,
   "metadata": {},
   "outputs": [
    {
     "name": "stdout",
     "output_type": "stream",
     "text": [
      "family_status\n",
      "вдовец / вдова           0.065969\n",
      "в разводе                0.071429\n",
      "женат / замужем          0.075665\n",
      "гражданский брак         0.093697\n",
      "не женат / не замужем    0.097718\n",
      "Name: debt, dtype: float64\n"
     ]
    }
   ],
   "source": [
    "# Let's calculate the proportion of borrowers who have overdue loan repayments, depending on marital status\n",
    "# Average value for each category\n",
    "\n",
    "print(data.groupby('family_status')['debt'].mean().sort_values(ascending=True))"
   ]
  },
  {
   "cell_type": "code",
   "execution_count": 77,
   "metadata": {},
   "outputs": [
    {
     "data": {
      "text/html": [
       "<div>\n",
       "<style scoped>\n",
       "    .dataframe tbody tr th:only-of-type {\n",
       "        vertical-align: middle;\n",
       "    }\n",
       "\n",
       "    .dataframe tbody tr th {\n",
       "        vertical-align: top;\n",
       "    }\n",
       "\n",
       "    .dataframe thead th {\n",
       "        text-align: right;\n",
       "    }\n",
       "</style>\n",
       "<table border=\"1\" class=\"dataframe\">\n",
       "  <thead>\n",
       "    <tr style=\"text-align: right;\">\n",
       "      <th>income_type</th>\n",
       "      <th>безработный</th>\n",
       "      <th>госслужащий</th>\n",
       "      <th>пенсионер</th>\n",
       "      <th>предприниматель</th>\n",
       "      <th>сотрудник</th>\n",
       "      <th>студент</th>\n",
       "    </tr>\n",
       "    <tr>\n",
       "      <th>family_status</th>\n",
       "      <th></th>\n",
       "      <th></th>\n",
       "      <th></th>\n",
       "      <th></th>\n",
       "      <th></th>\n",
       "      <th></th>\n",
       "    </tr>\n",
       "  </thead>\n",
       "  <tbody>\n",
       "    <tr>\n",
       "      <th>в разводе</th>\n",
       "      <td>NaN</td>\n",
       "      <td>0.049383</td>\n",
       "      <td>0.059633</td>\n",
       "      <td>NaN</td>\n",
       "      <td>0.076319</td>\n",
       "      <td>NaN</td>\n",
       "    </tr>\n",
       "    <tr>\n",
       "      <th>вдовец / вдова</th>\n",
       "      <td>NaN</td>\n",
       "      <td>0.044444</td>\n",
       "      <td>0.069159</td>\n",
       "      <td>NaN</td>\n",
       "      <td>0.064000</td>\n",
       "      <td>NaN</td>\n",
       "    </tr>\n",
       "    <tr>\n",
       "      <th>гражданский брак</th>\n",
       "      <td>0.0</td>\n",
       "      <td>0.068966</td>\n",
       "      <td>0.055470</td>\n",
       "      <td>0.0</td>\n",
       "      <td>0.103438</td>\n",
       "      <td>NaN</td>\n",
       "    </tr>\n",
       "    <tr>\n",
       "      <th>женат / замужем</th>\n",
       "      <td>1.0</td>\n",
       "      <td>0.055432</td>\n",
       "      <td>0.055072</td>\n",
       "      <td>NaN</td>\n",
       "      <td>0.082099</td>\n",
       "      <td>NaN</td>\n",
       "    </tr>\n",
       "    <tr>\n",
       "      <th>не женат / не замужем</th>\n",
       "      <td>NaN</td>\n",
       "      <td>0.073171</td>\n",
       "      <td>0.045845</td>\n",
       "      <td>NaN</td>\n",
       "      <td>0.107424</td>\n",
       "      <td>0.0</td>\n",
       "    </tr>\n",
       "  </tbody>\n",
       "</table>\n",
       "</div>"
      ],
      "text/plain": [
       "income_type            безработный  госслужащий  пенсионер  предприниматель  \\\n",
       "family_status                                                                 \n",
       "в разводе                      NaN     0.049383   0.059633              NaN   \n",
       "вдовец / вдова                 NaN     0.044444   0.069159              NaN   \n",
       "гражданский брак               0.0     0.068966   0.055470              0.0   \n",
       "женат / замужем                1.0     0.055432   0.055072              NaN   \n",
       "не женат / не замужем          NaN     0.073171   0.045845              NaN   \n",
       "\n",
       "income_type            сотрудник  студент  \n",
       "family_status                              \n",
       "в разводе               0.076319      NaN  \n",
       "вдовец / вдова          0.064000      NaN  \n",
       "гражданский брак        0.103438      NaN  \n",
       "женат / замужем         0.082099      NaN  \n",
       "не женат / не замужем   0.107424      0.0  "
      ]
     },
     "execution_count": 77,
     "metadata": {},
     "output_type": "execute_result"
    }
   ],
   "source": [
    "# let's calculate the proportion of borrowers who have overdue debt repayment, depending on marital status and type of employment\n",
    "\n",
    "data.pivot_table(index=['family_status'], columns='income_type', values='debt', aggfunc='mean')"
   ]
  },
  {
   "cell_type": "markdown",
   "metadata": {},
   "source": [
    "**Intermediate conclusion**"
   ]
  },
  {
   "cell_type": "markdown",
   "metadata": {},
   "source": [
    "Based on the above results, it can generally be attributed to the group of reliable borrowers: divorced persons who are officially married, widowers and widows. However, it is necessary to take into account the type of employment of the borrower. The group of unmarried persons, with the exception of pensioners, can be attributed to the most risky."
   ]
  },
  {
   "cell_type": "markdown",
   "metadata": {},
   "source": [
    "**The relationship between the income level and the repayment of the loan on time**"
   ]
  },
  {
   "cell_type": "code",
   "execution_count": 78,
   "metadata": {},
   "outputs": [
    {
     "name": "stdout",
     "output_type": "stream",
     "text": [
      "total_income_group\n",
      "высокий          0.071273\n",
      "очень низкий     0.073012\n",
      "очень высокий    0.073394\n",
      "выше среднего    0.074674\n",
      "низкий           0.083014\n",
      "средний          0.087030\n",
      "Name: debt, dtype: float64\n"
     ]
    }
   ],
   "source": [
    "# Let's calculate the share of borrowers who have overdue loan repayments, depending on the income level\n",
    "# Average value for each category\n",
    "\n",
    "print(data.groupby('total_income_group')['debt'].mean().sort_values(ascending=True))"
   ]
  },
  {
   "cell_type": "code",
   "execution_count": 79,
   "metadata": {},
   "outputs": [
    {
     "data": {
      "text/html": [
       "<div>\n",
       "<style scoped>\n",
       "    .dataframe tbody tr th:only-of-type {\n",
       "        vertical-align: middle;\n",
       "    }\n",
       "\n",
       "    .dataframe tbody tr th {\n",
       "        vertical-align: top;\n",
       "    }\n",
       "\n",
       "    .dataframe thead th {\n",
       "        text-align: right;\n",
       "    }\n",
       "</style>\n",
       "<table border=\"1\" class=\"dataframe\">\n",
       "  <thead>\n",
       "    <tr style=\"text-align: right;\">\n",
       "      <th>income_type</th>\n",
       "      <th>безработный</th>\n",
       "      <th>госслужащий</th>\n",
       "      <th>пенсионер</th>\n",
       "      <th>предприниматель</th>\n",
       "      <th>сотрудник</th>\n",
       "      <th>студент</th>\n",
       "    </tr>\n",
       "    <tr>\n",
       "      <th>total_income_group</th>\n",
       "      <th></th>\n",
       "      <th></th>\n",
       "      <th></th>\n",
       "      <th></th>\n",
       "      <th></th>\n",
       "      <th></th>\n",
       "    </tr>\n",
       "  </thead>\n",
       "  <tbody>\n",
       "    <tr>\n",
       "      <th>высокий</th>\n",
       "      <td>NaN</td>\n",
       "      <td>0.018349</td>\n",
       "      <td>0.041322</td>\n",
       "      <td>0.0</td>\n",
       "      <td>0.079545</td>\n",
       "      <td>NaN</td>\n",
       "    </tr>\n",
       "    <tr>\n",
       "      <th>выше среднего</th>\n",
       "      <td>0.0</td>\n",
       "      <td>0.071895</td>\n",
       "      <td>0.062044</td>\n",
       "      <td>NaN</td>\n",
       "      <td>0.076859</td>\n",
       "      <td>NaN</td>\n",
       "    </tr>\n",
       "    <tr>\n",
       "      <th>низкий</th>\n",
       "      <td>NaN</td>\n",
       "      <td>0.063670</td>\n",
       "      <td>0.048304</td>\n",
       "      <td>NaN</td>\n",
       "      <td>0.096291</td>\n",
       "      <td>0.0</td>\n",
       "    </tr>\n",
       "    <tr>\n",
       "      <th>очень высокий</th>\n",
       "      <td>NaN</td>\n",
       "      <td>0.000000</td>\n",
       "      <td>0.000000</td>\n",
       "      <td>NaN</td>\n",
       "      <td>0.084211</td>\n",
       "      <td>NaN</td>\n",
       "    </tr>\n",
       "    <tr>\n",
       "      <th>очень низкий</th>\n",
       "      <td>1.0</td>\n",
       "      <td>0.085470</td>\n",
       "      <td>0.051051</td>\n",
       "      <td>NaN</td>\n",
       "      <td>0.084507</td>\n",
       "      <td>NaN</td>\n",
       "    </tr>\n",
       "    <tr>\n",
       "      <th>средний</th>\n",
       "      <td>NaN</td>\n",
       "      <td>0.054096</td>\n",
       "      <td>0.063745</td>\n",
       "      <td>NaN</td>\n",
       "      <td>0.094786</td>\n",
       "      <td>NaN</td>\n",
       "    </tr>\n",
       "  </tbody>\n",
       "</table>\n",
       "</div>"
      ],
      "text/plain": [
       "income_type         безработный  госслужащий  пенсионер  предприниматель  \\\n",
       "total_income_group                                                         \n",
       "высокий                     NaN     0.018349   0.041322              0.0   \n",
       "выше среднего               0.0     0.071895   0.062044              NaN   \n",
       "низкий                      NaN     0.063670   0.048304              NaN   \n",
       "очень высокий               NaN     0.000000   0.000000              NaN   \n",
       "очень низкий                1.0     0.085470   0.051051              NaN   \n",
       "средний                     NaN     0.054096   0.063745              NaN   \n",
       "\n",
       "income_type         сотрудник  студент  \n",
       "total_income_group                      \n",
       "высокий              0.079545      NaN  \n",
       "выше среднего        0.076859      NaN  \n",
       "низкий               0.096291      0.0  \n",
       "очень высокий        0.084211      NaN  \n",
       "очень низкий         0.084507      NaN  \n",
       "средний              0.094786      NaN  "
      ]
     },
     "execution_count": 79,
     "metadata": {},
     "output_type": "execute_result"
    }
   ],
   "source": [
    "# let's calculate the proportion of borrowers who have overdue debt repayment, depending on the type of employment and income level\n",
    "\n",
    "data.pivot_table(index=['total_income_group'], columns='income_type', values='debt', aggfunc='mean')"
   ]
  },
  {
   "cell_type": "code",
   "execution_count": 80,
   "metadata": {},
   "outputs": [
    {
     "data": {
      "text/html": [
       "<div>\n",
       "<style scoped>\n",
       "    .dataframe tbody tr th:only-of-type {\n",
       "        vertical-align: middle;\n",
       "    }\n",
       "\n",
       "    .dataframe tbody tr th {\n",
       "        vertical-align: top;\n",
       "    }\n",
       "\n",
       "    .dataframe thead th {\n",
       "        text-align: right;\n",
       "    }\n",
       "</style>\n",
       "<table border=\"1\" class=\"dataframe\">\n",
       "  <thead>\n",
       "    <tr style=\"text-align: right;\">\n",
       "      <th>children</th>\n",
       "      <th>0</th>\n",
       "      <th>1</th>\n",
       "      <th>2</th>\n",
       "      <th>3</th>\n",
       "      <th>4</th>\n",
       "      <th>5</th>\n",
       "    </tr>\n",
       "    <tr>\n",
       "      <th>total_income_group</th>\n",
       "      <th></th>\n",
       "      <th></th>\n",
       "      <th></th>\n",
       "      <th></th>\n",
       "      <th></th>\n",
       "      <th></th>\n",
       "    </tr>\n",
       "  </thead>\n",
       "  <tbody>\n",
       "    <tr>\n",
       "      <th>высокий</th>\n",
       "      <td>0.062428</td>\n",
       "      <td>0.079114</td>\n",
       "      <td>0.106918</td>\n",
       "      <td>0.062500</td>\n",
       "      <td>0.000000</td>\n",
       "      <td>NaN</td>\n",
       "    </tr>\n",
       "    <tr>\n",
       "      <th>выше среднего</th>\n",
       "      <td>0.071059</td>\n",
       "      <td>0.087332</td>\n",
       "      <td>0.074592</td>\n",
       "      <td>0.029412</td>\n",
       "      <td>0.250000</td>\n",
       "      <td>0.0</td>\n",
       "    </tr>\n",
       "    <tr>\n",
       "      <th>низкий</th>\n",
       "      <td>0.077889</td>\n",
       "      <td>0.093960</td>\n",
       "      <td>0.096552</td>\n",
       "      <td>0.052632</td>\n",
       "      <td>0.142857</td>\n",
       "      <td>0.0</td>\n",
       "    </tr>\n",
       "    <tr>\n",
       "      <th>очень высокий</th>\n",
       "      <td>0.098361</td>\n",
       "      <td>0.033333</td>\n",
       "      <td>0.071429</td>\n",
       "      <td>0.000000</td>\n",
       "      <td>NaN</td>\n",
       "      <td>NaN</td>\n",
       "    </tr>\n",
       "    <tr>\n",
       "      <th>очень низкий</th>\n",
       "      <td>0.066109</td>\n",
       "      <td>0.088319</td>\n",
       "      <td>0.075949</td>\n",
       "      <td>0.217391</td>\n",
       "      <td>NaN</td>\n",
       "      <td>0.0</td>\n",
       "    </tr>\n",
       "    <tr>\n",
       "      <th>средний</th>\n",
       "      <td>0.080241</td>\n",
       "      <td>0.097606</td>\n",
       "      <td>0.105376</td>\n",
       "      <td>0.102740</td>\n",
       "      <td>0.074074</td>\n",
       "      <td>0.0</td>\n",
       "    </tr>\n",
       "  </tbody>\n",
       "</table>\n",
       "</div>"
      ],
      "text/plain": [
       "children                   0         1         2         3         4    5\n",
       "total_income_group                                                       \n",
       "высокий             0.062428  0.079114  0.106918  0.062500  0.000000  NaN\n",
       "выше среднего       0.071059  0.087332  0.074592  0.029412  0.250000  0.0\n",
       "низкий              0.077889  0.093960  0.096552  0.052632  0.142857  0.0\n",
       "очень высокий       0.098361  0.033333  0.071429  0.000000       NaN  NaN\n",
       "очень низкий        0.066109  0.088319  0.075949  0.217391       NaN  0.0\n",
       "средний             0.080241  0.097606  0.105376  0.102740  0.074074  0.0"
      ]
     },
     "execution_count": 80,
     "metadata": {},
     "output_type": "execute_result"
    }
   ],
   "source": [
    "# let's calculate the share of borrowers who have overdue debt repayment, depending on the level of income and the number of children\n",
    "\n",
    "data.pivot_table(index=['total_income_group'], columns='children', values='debt', aggfunc='mean')"
   ]
  },
  {
   "cell_type": "markdown",
   "metadata": {},
   "source": [
    "**Intermediate conclusion**"
   ]
  },
  {
   "cell_type": "markdown",
   "metadata": {},
   "source": [
    "Borrowers with high and higher income levels are the most reliable borrowers. In addition, they have a pattern of decreasing debt values with an increase in the number of children. It is important to note that the values obtained have a normal distribution, however, two categories are distinguished: \"above average\" and \"low\" with 4 children. The debt values here deviate significantly from the average income level line. The reason for the appearance of these values is not yet possible to establish. It is proposed to conduct additional analysis for these categories and, if possible, increase the sample size."
   ]
  },
  {
   "cell_type": "markdown",
   "metadata": {},
   "source": [
    "**The impact of the purpose of the loan on its repayment**"
   ]
  },
  {
   "cell_type": "code",
   "execution_count": 81,
   "metadata": {},
   "outputs": [
    {
     "name": "stdout",
     "output_type": "stream",
     "text": [
      "purpose_type\n",
      "недвижимость    0.081381\n",
      "Name: debt, dtype: float64\n"
     ]
    }
   ],
   "source": [
    "# Let's calculate the proportion of borrowers who have overdue loan repayments, depending on the purpose of the loan\n",
    "# lets's find the average value for each category\n",
    "\n",
    "print(data.groupby('purpose_type')['debt'].mean().sort_values(ascending=True))"
   ]
  },
  {
   "cell_type": "code",
   "execution_count": 82,
   "metadata": {},
   "outputs": [
    {
     "data": {
      "text/html": [
       "<div>\n",
       "<style scoped>\n",
       "    .dataframe tbody tr th:only-of-type {\n",
       "        vertical-align: middle;\n",
       "    }\n",
       "\n",
       "    .dataframe tbody tr th {\n",
       "        vertical-align: top;\n",
       "    }\n",
       "\n",
       "    .dataframe thead th {\n",
       "        text-align: right;\n",
       "    }\n",
       "</style>\n",
       "<table border=\"1\" class=\"dataframe\">\n",
       "  <thead>\n",
       "    <tr style=\"text-align: right;\">\n",
       "      <th>income_type</th>\n",
       "      <th>безработный</th>\n",
       "      <th>госслужащий</th>\n",
       "      <th>пенсионер</th>\n",
       "      <th>предприниматель</th>\n",
       "      <th>сотрудник</th>\n",
       "      <th>студент</th>\n",
       "    </tr>\n",
       "    <tr>\n",
       "      <th>purpose_type</th>\n",
       "      <th></th>\n",
       "      <th></th>\n",
       "      <th></th>\n",
       "      <th></th>\n",
       "      <th></th>\n",
       "      <th></th>\n",
       "    </tr>\n",
       "  </thead>\n",
       "  <tbody>\n",
       "    <tr>\n",
       "      <th>недвижимость</th>\n",
       "      <td>0.5</td>\n",
       "      <td>0.059188</td>\n",
       "      <td>0.05653</td>\n",
       "      <td>0.0</td>\n",
       "      <td>0.089238</td>\n",
       "      <td>0.0</td>\n",
       "    </tr>\n",
       "  </tbody>\n",
       "</table>\n",
       "</div>"
      ],
      "text/plain": [
       "income_type   безработный  госслужащий  пенсионер  предприниматель  сотрудник  \\\n",
       "purpose_type                                                                    \n",
       "недвижимость          0.5     0.059188    0.05653              0.0   0.089238   \n",
       "\n",
       "income_type   студент  \n",
       "purpose_type           \n",
       "недвижимость      0.0  "
      ]
     },
     "execution_count": 82,
     "metadata": {},
     "output_type": "execute_result"
    }
   ],
   "source": [
    "# let's calculate the proportion of borrowers who have overdue debt repayment, depending on the type of employment and the purpose of the loan\n",
    "\n",
    "data.pivot_table(index=['purpose_type'], columns='income_type', values='debt', aggfunc='mean')"
   ]
  },
  {
   "cell_type": "code",
   "execution_count": 83,
   "metadata": {},
   "outputs": [
    {
     "data": {
      "text/html": [
       "<div>\n",
       "<style scoped>\n",
       "    .dataframe tbody tr th:only-of-type {\n",
       "        vertical-align: middle;\n",
       "    }\n",
       "\n",
       "    .dataframe tbody tr th {\n",
       "        vertical-align: top;\n",
       "    }\n",
       "\n",
       "    .dataframe thead th {\n",
       "        text-align: right;\n",
       "    }\n",
       "</style>\n",
       "<table border=\"1\" class=\"dataframe\">\n",
       "  <thead>\n",
       "    <tr style=\"text-align: right;\">\n",
       "      <th>children</th>\n",
       "      <th>0</th>\n",
       "      <th>1</th>\n",
       "      <th>2</th>\n",
       "      <th>3</th>\n",
       "      <th>4</th>\n",
       "      <th>5</th>\n",
       "    </tr>\n",
       "    <tr>\n",
       "      <th>purpose_type</th>\n",
       "      <th></th>\n",
       "      <th></th>\n",
       "      <th></th>\n",
       "      <th></th>\n",
       "      <th></th>\n",
       "      <th></th>\n",
       "    </tr>\n",
       "  </thead>\n",
       "  <tbody>\n",
       "    <tr>\n",
       "      <th>недвижимость</th>\n",
       "      <td>0.075545</td>\n",
       "      <td>0.092404</td>\n",
       "      <td>0.095059</td>\n",
       "      <td>0.081818</td>\n",
       "      <td>0.097561</td>\n",
       "      <td>0.0</td>\n",
       "    </tr>\n",
       "  </tbody>\n",
       "</table>\n",
       "</div>"
      ],
      "text/plain": [
       "children             0         1         2         3         4    5\n",
       "purpose_type                                                       \n",
       "недвижимость  0.075545  0.092404  0.095059  0.081818  0.097561  0.0"
      ]
     },
     "execution_count": 83,
     "metadata": {},
     "output_type": "execute_result"
    }
   ],
   "source": [
    "# let's calculate the proportion of borrowers who have overdue debt repayment, depending on the number of children and the purpose of the loan\n",
    "\n",
    "data.pivot_table(index=['purpose_type'], columns='children', values='debt', aggfunc='mean')"
   ]
  },
  {
   "cell_type": "markdown",
   "metadata": {},
   "source": [
    "**Intermediate conclusion**"
   ]
  },
  {
   "cell_type": "markdown",
   "metadata": {},
   "source": [
    "Regardless of the type of employment and the number of borrowers' children, the lowest debt indicators are those who take out a loan for real estate transactions and family (wedding). It is important to note the presence of artifacts for borrowers with 4 children and the purpose of carrying out any real estate transactions, as well as for persons with 3 children and the purpose of a wedding. In order to identify specific goals that affect these indicators, it is necessary to conduct additional analysis for each unique position included in the corresponding category. The most risky objectives of the loan are: education and a car"
   ]
  },
  {
   "cell_type": "markdown",
   "metadata": {},
   "source": [
    "##  Final conclusion"
   ]
  },
  {
   "cell_type": "markdown",
   "metadata": {},
   "source": [
    "It can be noted that the number of children of the borrower affects the timely repayment of the loan ambiguously (depending on the purpose of the loan, the type of employment and income level, there are artifacts). In general, the group of reliable borrowers can include: divorced persons who are officially married, widowers and widows. However, it is necessary to take into account the type of employment of the borrower. The group of unmarried persons, with the exception of pensioners, can be attributed to the most risky. When issuing a loan, it is recommended to use comprehensive metrics based on income level, loan purpose and marital status.\n",
    "\n",
    "It is important to note the presence of artifacts for borrowers with 4 children and the purpose of carrying out any real estate transactions, as well as for persons with 3 children and the purpose of a wedding. Borrowers with high and higher income levels are the most reliable borrowers, however, two categories are distinguished by income level: \"above average\" and \"low\" with 4 children with a high percentage of non-repayment on time. For this category of borrowers, it is recommended to ask for additional loan collateral.\n",
    "\n",
    "In the process of preprocessing, non-random anomalies were found: the number of missed lines by time of service and income level. It is necessary to further clarify the reasons for the formation of this anomaly. An anomaly was also revealed for the category of pensioners (overstated seniority indicators). The replacement made in this project with fixed indicators should not affect the results of the study, however, in the case of additional research in this category, incorrect indicators may occur, therefore, specialized specialists are recommended to find out the cause of the anomaly."
   ]
  }
 ],
 "metadata": {
  "ExecuteTimeLog": [
   {
    "duration": 645,
    "start_time": "2021-11-15T12:33:43.883Z"
   },
   {
    "duration": 11,
    "start_time": "2021-11-15T12:34:51.815Z"
   },
   {
    "duration": 250,
    "start_time": "2021-11-15T12:37:22.221Z"
   },
   {
    "duration": 3,
    "start_time": "2021-11-15T12:37:28.881Z"
   },
   {
    "duration": 53,
    "start_time": "2021-11-15T13:01:04.443Z"
   },
   {
    "duration": 11,
    "start_time": "2021-11-15T13:01:19.685Z"
   },
   {
    "duration": 53,
    "start_time": "2021-11-15T13:03:41.967Z"
   },
   {
    "duration": 53,
    "start_time": "2021-11-15T13:04:02.836Z"
   },
   {
    "duration": 53,
    "start_time": "2021-11-15T13:19:18.711Z"
   },
   {
    "duration": 375,
    "start_time": "2021-11-15T17:00:37.070Z"
   },
   {
    "duration": 818,
    "start_time": "2021-11-15T17:00:44.739Z"
   },
   {
    "duration": 30,
    "start_time": "2021-11-15T17:00:49.291Z"
   },
   {
    "duration": 367,
    "start_time": "2021-11-15T17:00:55.604Z"
   },
   {
    "duration": 358,
    "start_time": "2021-11-15T17:01:56.059Z"
   },
   {
    "duration": 304,
    "start_time": "2021-11-15T17:02:05.106Z"
   },
   {
    "duration": 8,
    "start_time": "2021-11-15T17:02:22.003Z"
   },
   {
    "duration": 6,
    "start_time": "2021-11-15T17:04:12.944Z"
   },
   {
    "duration": 8,
    "start_time": "2021-11-15T17:04:29.091Z"
   },
   {
    "duration": -342780,
    "start_time": "2021-11-15T17:12:52.184Z"
   },
   {
    "duration": 8351,
    "start_time": "2021-11-15T17:07:25.629Z"
   },
   {
    "duration": 7586,
    "start_time": "2021-11-15T17:07:39.284Z"
   },
   {
    "duration": 22,
    "start_time": "2021-11-15T17:08:03.153Z"
   },
   {
    "duration": 22,
    "start_time": "2021-11-15T17:13:23.214Z"
   },
   {
    "duration": 302,
    "start_time": "2021-11-15T17:14:59.721Z"
   },
   {
    "duration": 306,
    "start_time": "2021-11-15T17:15:31.694Z"
   },
   {
    "duration": 22,
    "start_time": "2021-11-15T17:15:38.707Z"
   },
   {
    "duration": 22,
    "start_time": "2021-11-15T17:15:52.582Z"
   },
   {
    "duration": 8,
    "start_time": "2021-11-15T17:16:01.959Z"
   },
   {
    "duration": 21,
    "start_time": "2021-11-15T17:16:10.558Z"
   },
   {
    "duration": 19,
    "start_time": "2021-11-15T17:16:14.818Z"
   },
   {
    "duration": 21,
    "start_time": "2021-11-15T17:16:25.219Z"
   },
   {
    "duration": 330,
    "start_time": "2021-11-15T17:20:57.149Z"
   },
   {
    "duration": 10,
    "start_time": "2021-11-15T17:21:12.591Z"
   },
   {
    "duration": 6122,
    "start_time": "2021-11-15T17:21:39.376Z"
   },
   {
    "duration": 7,
    "start_time": "2021-11-15T17:22:06.343Z"
   },
   {
    "duration": 8,
    "start_time": "2021-11-15T17:24:25.218Z"
   },
   {
    "duration": 9,
    "start_time": "2021-11-15T17:29:35.130Z"
   },
   {
    "duration": 8886,
    "start_time": "2021-11-15T17:38:24.617Z"
   },
   {
    "duration": 349,
    "start_time": "2021-11-15T17:38:59.155Z"
   },
   {
    "duration": 352,
    "start_time": "2021-11-15T17:43:01.509Z"
   },
   {
    "duration": 22,
    "start_time": "2021-11-15T17:43:21.895Z"
   },
   {
    "duration": 8,
    "start_time": "2021-11-15T17:43:43.087Z"
   },
   {
    "duration": 7,
    "start_time": "2021-11-15T17:44:47.903Z"
   },
   {
    "duration": 7,
    "start_time": "2021-11-15T17:45:29.838Z"
   },
   {
    "duration": 10,
    "start_time": "2021-11-15T18:18:51.906Z"
   },
   {
    "duration": 313,
    "start_time": "2021-11-15T18:30:28.667Z"
   },
   {
    "duration": 7,
    "start_time": "2021-11-15T18:30:41.771Z"
   },
   {
    "duration": 315,
    "start_time": "2021-11-15T18:37:34.355Z"
   },
   {
    "duration": 11,
    "start_time": "2021-11-15T18:37:40.668Z"
   },
   {
    "duration": 10,
    "start_time": "2021-11-15T18:44:17.284Z"
   },
   {
    "duration": 9,
    "start_time": "2021-11-15T18:44:25.772Z"
   },
   {
    "duration": 10,
    "start_time": "2021-11-15T18:44:59.719Z"
   },
   {
    "duration": 19,
    "start_time": "2021-11-15T18:59:30.425Z"
   },
   {
    "duration": 11,
    "start_time": "2021-11-15T19:06:04.574Z"
   },
   {
    "duration": 10,
    "start_time": "2021-11-15T19:06:18.801Z"
   },
   {
    "duration": 8,
    "start_time": "2021-11-15T19:07:32.819Z"
   },
   {
    "duration": 10,
    "start_time": "2021-11-15T19:08:28.072Z"
   },
   {
    "duration": 514,
    "start_time": "2021-11-16T09:26:25.377Z"
   },
   {
    "duration": 829,
    "start_time": "2021-11-16T09:26:49.384Z"
   },
   {
    "duration": 27,
    "start_time": "2021-11-16T09:26:50.216Z"
   },
   {
    "duration": 9,
    "start_time": "2021-11-16T09:26:50.246Z"
   },
   {
    "duration": 21,
    "start_time": "2021-11-16T09:26:50.258Z"
   },
   {
    "duration": 8,
    "start_time": "2021-11-16T09:26:50.282Z"
   },
   {
    "duration": 40,
    "start_time": "2021-11-16T09:26:50.292Z"
   },
   {
    "duration": 7,
    "start_time": "2021-11-16T09:26:50.334Z"
   },
   {
    "duration": 11,
    "start_time": "2021-11-16T09:26:50.344Z"
   },
   {
    "duration": 7,
    "start_time": "2021-11-16T09:26:50.359Z"
   },
   {
    "duration": 13,
    "start_time": "2021-11-16T09:26:50.368Z"
   },
   {
    "duration": 49,
    "start_time": "2021-11-16T09:26:50.383Z"
   },
   {
    "duration": 10,
    "start_time": "2021-11-16T09:26:50.434Z"
   },
   {
    "duration": 22,
    "start_time": "2021-11-16T09:26:50.446Z"
   },
   {
    "duration": 13,
    "start_time": "2021-11-16T09:26:50.471Z"
   },
   {
    "duration": 44,
    "start_time": "2021-11-16T09:26:50.486Z"
   },
   {
    "duration": 10,
    "start_time": "2021-11-16T09:26:50.533Z"
   },
   {
    "duration": 14,
    "start_time": "2021-11-16T09:26:50.545Z"
   },
   {
    "duration": 8,
    "start_time": "2021-11-16T09:27:39.095Z"
   },
   {
    "duration": 9,
    "start_time": "2021-11-16T09:28:05.338Z"
   },
   {
    "duration": 418,
    "start_time": "2021-11-16T09:32:12.376Z"
   },
   {
    "duration": 284,
    "start_time": "2021-11-16T09:32:21.681Z"
   },
   {
    "duration": 8,
    "start_time": "2021-11-16T09:32:26.449Z"
   },
   {
    "duration": 24,
    "start_time": "2021-11-16T09:35:03.168Z"
   },
   {
    "duration": 11,
    "start_time": "2021-11-16T09:35:26.811Z"
   },
   {
    "duration": 100,
    "start_time": "2021-11-16T09:44:12.974Z"
   },
   {
    "duration": 968,
    "start_time": "2021-11-16T09:44:22.295Z"
   },
   {
    "duration": 767,
    "start_time": "2021-11-16T09:44:34.208Z"
   },
   {
    "duration": 17,
    "start_time": "2021-11-16T09:48:36.078Z"
   },
   {
    "duration": 7,
    "start_time": "2021-11-16T09:48:42.476Z"
   },
   {
    "duration": 13,
    "start_time": "2021-11-16T09:48:52.504Z"
   },
   {
    "duration": 9,
    "start_time": "2021-11-16T09:48:53.990Z"
   },
   {
    "duration": 10,
    "start_time": "2021-11-16T09:49:00.975Z"
   },
   {
    "duration": 10,
    "start_time": "2021-11-16T09:49:48.387Z"
   },
   {
    "duration": 12,
    "start_time": "2021-11-16T09:53:49.292Z"
   },
   {
    "duration": 18,
    "start_time": "2021-11-16T09:55:35.964Z"
   },
   {
    "duration": 11,
    "start_time": "2021-11-16T09:55:56.761Z"
   },
   {
    "duration": 11,
    "start_time": "2021-11-16T09:56:17.026Z"
   },
   {
    "duration": 14,
    "start_time": "2021-11-16T10:14:54.367Z"
   },
   {
    "duration": 10,
    "start_time": "2021-11-16T10:14:56.078Z"
   },
   {
    "duration": 518,
    "start_time": "2021-11-16T15:09:43.585Z"
   },
   {
    "duration": 843,
    "start_time": "2021-11-16T15:09:57.834Z"
   },
   {
    "duration": 27,
    "start_time": "2021-11-16T15:09:58.679Z"
   },
   {
    "duration": 20,
    "start_time": "2021-11-16T15:09:58.709Z"
   },
   {
    "duration": 22,
    "start_time": "2021-11-16T15:09:58.732Z"
   },
   {
    "duration": 11,
    "start_time": "2021-11-16T15:09:58.757Z"
   },
   {
    "duration": 32,
    "start_time": "2021-11-16T15:09:58.770Z"
   },
   {
    "duration": 7,
    "start_time": "2021-11-16T15:09:58.805Z"
   },
   {
    "duration": 21,
    "start_time": "2021-11-16T15:09:58.815Z"
   },
   {
    "duration": 15,
    "start_time": "2021-11-16T15:09:58.839Z"
   },
   {
    "duration": 10,
    "start_time": "2021-11-16T15:09:58.856Z"
   },
   {
    "duration": 34,
    "start_time": "2021-11-16T15:09:58.869Z"
   },
   {
    "duration": 10,
    "start_time": "2021-11-16T15:09:58.905Z"
   },
   {
    "duration": 26,
    "start_time": "2021-11-16T15:09:58.918Z"
   },
   {
    "duration": 24,
    "start_time": "2021-11-16T15:09:58.947Z"
   },
   {
    "duration": 32,
    "start_time": "2021-11-16T15:09:58.974Z"
   },
   {
    "duration": 16,
    "start_time": "2021-11-16T15:09:59.008Z"
   },
   {
    "duration": 17,
    "start_time": "2021-11-16T15:09:59.026Z"
   },
   {
    "duration": 12,
    "start_time": "2021-11-16T15:09:59.046Z"
   },
   {
    "duration": 40,
    "start_time": "2021-11-16T15:09:59.060Z"
   },
   {
    "duration": 11,
    "start_time": "2021-11-16T15:09:59.103Z"
   },
   {
    "duration": 26,
    "start_time": "2021-11-16T15:09:59.116Z"
   },
   {
    "duration": 10,
    "start_time": "2021-11-16T15:09:59.144Z"
   },
   {
    "duration": 16,
    "start_time": "2021-11-16T15:09:59.157Z"
   },
   {
    "duration": 25,
    "start_time": "2021-11-16T15:09:59.176Z"
   },
   {
    "duration": 9,
    "start_time": "2021-11-16T15:10:41.400Z"
   },
   {
    "duration": 11,
    "start_time": "2021-11-16T15:11:52.612Z"
   },
   {
    "duration": 10,
    "start_time": "2021-11-16T15:16:15.420Z"
   },
   {
    "duration": 12,
    "start_time": "2021-11-16T15:16:30.557Z"
   },
   {
    "duration": 424,
    "start_time": "2021-11-16T15:16:55.812Z"
   },
   {
    "duration": 9,
    "start_time": "2021-11-16T15:17:17.333Z"
   },
   {
    "duration": 397,
    "start_time": "2021-11-16T15:18:32.177Z"
   },
   {
    "duration": 23,
    "start_time": "2021-11-16T15:18:45.685Z"
   },
   {
    "duration": 984,
    "start_time": "2021-11-16T15:19:20.527Z"
   },
   {
    "duration": 422,
    "start_time": "2021-11-16T15:23:59.248Z"
   },
   {
    "duration": 41,
    "start_time": "2021-11-16T15:24:13.545Z"
   },
   {
    "duration": 7,
    "start_time": "2021-11-16T17:11:04.269Z"
   },
   {
    "duration": 24,
    "start_time": "2021-11-16T17:11:09.919Z"
   },
   {
    "duration": 28,
    "start_time": "2021-11-16T17:11:23.906Z"
   },
   {
    "duration": 11,
    "start_time": "2021-11-16T17:11:46.829Z"
   },
   {
    "duration": 31,
    "start_time": "2021-11-16T17:20:36.886Z"
   },
   {
    "duration": 11,
    "start_time": "2021-11-16T17:21:09.314Z"
   },
   {
    "duration": 517,
    "start_time": "2021-11-16T19:43:03.141Z"
   },
   {
    "duration": 10,
    "start_time": "2021-11-16T19:43:10.482Z"
   },
   {
    "duration": 13,
    "start_time": "2021-11-16T19:43:25.009Z"
   },
   {
    "duration": 777,
    "start_time": "2021-11-16T19:44:45.390Z"
   },
   {
    "duration": 1111,
    "start_time": "2021-11-16T19:45:09.143Z"
   },
   {
    "duration": 1268,
    "start_time": "2021-11-16T19:45:27.645Z"
   },
   {
    "duration": 10,
    "start_time": "2021-11-16T19:45:34.703Z"
   },
   {
    "duration": 9,
    "start_time": "2021-11-16T19:46:07.300Z"
   },
   {
    "duration": 1101,
    "start_time": "2021-11-16T19:46:15.434Z"
   },
   {
    "duration": 8,
    "start_time": "2021-11-16T19:46:19.796Z"
   },
   {
    "duration": 10,
    "start_time": "2021-11-16T19:46:43.217Z"
   },
   {
    "duration": 11,
    "start_time": "2021-11-16T19:46:49.951Z"
   },
   {
    "duration": 136,
    "start_time": "2021-11-16T19:48:38.128Z"
   },
   {
    "duration": -342739,
    "start_time": "2021-11-16T19:54:39.119Z"
   },
   {
    "duration": 12220,
    "start_time": "2021-11-16T19:48:58.225Z"
   },
   {
    "duration": 5,
    "start_time": "2021-11-16T19:49:25.697Z"
   },
   {
    "duration": 6,
    "start_time": "2021-11-16T19:49:52.237Z"
   },
   {
    "duration": 171,
    "start_time": "2021-11-16T19:52:26.828Z"
   },
   {
    "duration": 71,
    "start_time": "2021-11-16T20:03:13.834Z"
   },
   {
    "duration": 40,
    "start_time": "2021-11-16T20:10:20.116Z"
   },
   {
    "duration": 8,
    "start_time": "2021-11-16T20:11:29.029Z"
   },
   {
    "duration": 9,
    "start_time": "2021-11-16T20:11:54.771Z"
   },
   {
    "duration": 11,
    "start_time": "2021-11-16T20:12:17.170Z"
   },
   {
    "duration": 9,
    "start_time": "2021-11-16T20:12:40.096Z"
   },
   {
    "duration": 408,
    "start_time": "2021-11-16T20:16:46.010Z"
   },
   {
    "duration": 395,
    "start_time": "2021-11-16T20:16:56.162Z"
   },
   {
    "duration": 10,
    "start_time": "2021-11-16T20:17:06.431Z"
   },
   {
    "duration": 9,
    "start_time": "2021-11-16T20:18:04.222Z"
   },
   {
    "duration": 9,
    "start_time": "2021-11-16T20:18:23.229Z"
   },
   {
    "duration": 9,
    "start_time": "2021-11-16T20:19:17.547Z"
   },
   {
    "duration": 464,
    "start_time": "2021-11-16T20:47:14.040Z"
   },
   {
    "duration": 16,
    "start_time": "2021-11-16T20:48:03.160Z"
   },
   {
    "duration": 9,
    "start_time": "2021-11-16T20:53:28.964Z"
   },
   {
    "duration": 178,
    "start_time": "2021-11-16T20:56:23.479Z"
   },
   {
    "duration": 124,
    "start_time": "2021-11-16T20:58:46.551Z"
   },
   {
    "duration": 19,
    "start_time": "2021-11-16T21:03:27.631Z"
   },
   {
    "duration": 14,
    "start_time": "2021-11-16T21:11:58.841Z"
   },
   {
    "duration": 399,
    "start_time": "2021-11-16T21:16:26.908Z"
   },
   {
    "duration": 8,
    "start_time": "2021-11-16T21:17:05.042Z"
   },
   {
    "duration": 372,
    "start_time": "2021-11-16T21:17:32.235Z"
   },
   {
    "duration": 1058,
    "start_time": "2021-11-16T21:17:58.911Z"
   },
   {
    "duration": 19,
    "start_time": "2021-11-16T21:18:03.541Z"
   },
   {
    "duration": 9964,
    "start_time": "2021-11-16T21:19:03.819Z"
   },
   {
    "duration": 7,
    "start_time": "2021-11-16T21:19:29.688Z"
   },
   {
    "duration": 10528,
    "start_time": "2021-11-16T21:36:09.397Z"
   },
   {
    "duration": 11,
    "start_time": "2021-11-16T21:36:36.400Z"
   },
   {
    "duration": 11,
    "start_time": "2021-11-16T21:36:59.499Z"
   },
   {
    "duration": 9439,
    "start_time": "2021-11-16T21:39:33.758Z"
   },
   {
    "duration": 11,
    "start_time": "2021-11-16T21:39:49.859Z"
   },
   {
    "duration": 13,
    "start_time": "2021-11-16T21:40:27.117Z"
   },
   {
    "duration": 13,
    "start_time": "2021-11-16T21:40:54.162Z"
   },
   {
    "duration": 12,
    "start_time": "2021-11-16T21:41:34.072Z"
   },
   {
    "duration": 12,
    "start_time": "2021-11-16T21:41:39.948Z"
   },
   {
    "duration": 7,
    "start_time": "2021-11-16T21:45:50.931Z"
   },
   {
    "duration": 10,
    "start_time": "2021-11-16T21:46:50.166Z"
   },
   {
    "duration": 11,
    "start_time": "2021-11-16T21:50:30.065Z"
   },
   {
    "duration": 699,
    "start_time": "2021-11-17T12:35:05.507Z"
   },
   {
    "duration": 18,
    "start_time": "2021-11-17T12:35:06.208Z"
   },
   {
    "duration": 21,
    "start_time": "2021-11-17T12:35:06.228Z"
   },
   {
    "duration": 18,
    "start_time": "2021-11-17T12:35:06.251Z"
   },
   {
    "duration": 6,
    "start_time": "2021-11-17T12:35:06.271Z"
   },
   {
    "duration": 8,
    "start_time": "2021-11-17T12:35:06.278Z"
   },
   {
    "duration": 13,
    "start_time": "2021-11-17T12:35:06.288Z"
   },
   {
    "duration": 26,
    "start_time": "2021-11-17T12:35:06.303Z"
   },
   {
    "duration": 13,
    "start_time": "2021-11-17T12:35:06.332Z"
   },
   {
    "duration": 7,
    "start_time": "2021-11-17T12:35:06.347Z"
   },
   {
    "duration": 10,
    "start_time": "2021-11-17T12:35:06.356Z"
   },
   {
    "duration": 13,
    "start_time": "2021-11-17T12:35:06.368Z"
   },
   {
    "duration": 17,
    "start_time": "2021-11-17T12:35:06.383Z"
   },
   {
    "duration": 12,
    "start_time": "2021-11-17T12:35:06.402Z"
   },
   {
    "duration": 112,
    "start_time": "2021-11-17T12:35:06.415Z"
   },
   {
    "duration": -343799,
    "start_time": "2021-11-17T12:40:50.328Z"
   },
   {
    "duration": -343801,
    "start_time": "2021-11-17T12:40:50.331Z"
   },
   {
    "duration": -343806,
    "start_time": "2021-11-17T12:40:50.337Z"
   },
   {
    "duration": -343818,
    "start_time": "2021-11-17T12:40:50.350Z"
   },
   {
    "duration": -343829,
    "start_time": "2021-11-17T12:40:50.362Z"
   },
   {
    "duration": -343832,
    "start_time": "2021-11-17T12:40:50.366Z"
   },
   {
    "duration": -343842,
    "start_time": "2021-11-17T12:40:50.377Z"
   },
   {
    "duration": -343846,
    "start_time": "2021-11-17T12:40:50.382Z"
   },
   {
    "duration": -343857,
    "start_time": "2021-11-17T12:40:50.394Z"
   },
   {
    "duration": -343858,
    "start_time": "2021-11-17T12:40:50.396Z"
   },
   {
    "duration": -343862,
    "start_time": "2021-11-17T12:40:50.401Z"
   },
   {
    "duration": -343871,
    "start_time": "2021-11-17T12:40:50.411Z"
   },
   {
    "duration": -343894,
    "start_time": "2021-11-17T12:40:50.435Z"
   },
   {
    "duration": -343897,
    "start_time": "2021-11-17T12:40:50.440Z"
   },
   {
    "duration": -343919,
    "start_time": "2021-11-17T12:40:50.463Z"
   },
   {
    "duration": -343932,
    "start_time": "2021-11-17T12:40:50.477Z"
   },
   {
    "duration": -343934,
    "start_time": "2021-11-17T12:40:50.479Z"
   },
   {
    "duration": -343948,
    "start_time": "2021-11-17T12:40:50.494Z"
   },
   {
    "duration": -343954,
    "start_time": "2021-11-17T12:40:50.501Z"
   },
   {
    "duration": -343963,
    "start_time": "2021-11-17T12:40:50.512Z"
   },
   {
    "duration": 9,
    "start_time": "2021-11-17T12:38:19.939Z"
   },
   {
    "duration": 9,
    "start_time": "2021-11-17T12:38:25.816Z"
   },
   {
    "duration": 5,
    "start_time": "2021-11-17T12:38:29.074Z"
   },
   {
    "duration": 111,
    "start_time": "2021-11-17T12:47:22.066Z"
   },
   {
    "duration": 5,
    "start_time": "2021-11-17T12:47:38.238Z"
   },
   {
    "duration": 8,
    "start_time": "2021-11-17T12:47:46.377Z"
   },
   {
    "duration": 8,
    "start_time": "2021-11-17T12:49:14.062Z"
   },
   {
    "duration": 10,
    "start_time": "2021-11-17T12:49:40.121Z"
   },
   {
    "duration": 5,
    "start_time": "2021-11-17T12:49:42.898Z"
   },
   {
    "duration": 22,
    "start_time": "2021-11-17T12:49:59.550Z"
   },
   {
    "duration": 8,
    "start_time": "2021-11-17T12:50:03.063Z"
   },
   {
    "duration": 7,
    "start_time": "2021-11-17T12:58:48.896Z"
   },
   {
    "duration": 6,
    "start_time": "2021-11-17T12:58:54.322Z"
   },
   {
    "duration": 8,
    "start_time": "2021-11-17T12:58:55.888Z"
   },
   {
    "duration": 7,
    "start_time": "2021-11-17T12:59:02.096Z"
   },
   {
    "duration": 12,
    "start_time": "2021-11-17T12:59:08.111Z"
   },
   {
    "duration": 8,
    "start_time": "2021-11-17T12:59:10.728Z"
   },
   {
    "duration": 9,
    "start_time": "2021-11-17T12:59:20.136Z"
   },
   {
    "duration": 9,
    "start_time": "2021-11-17T12:59:25.097Z"
   },
   {
    "duration": 6955,
    "start_time": "2021-11-17T12:59:33.819Z"
   },
   {
    "duration": 10,
    "start_time": "2021-11-17T12:59:46.281Z"
   },
   {
    "duration": 33,
    "start_time": "2021-11-17T12:59:52.833Z"
   },
   {
    "duration": 10,
    "start_time": "2021-11-17T12:59:55.315Z"
   },
   {
    "duration": 7079,
    "start_time": "2021-11-17T13:00:49.000Z"
   },
   {
    "duration": 10,
    "start_time": "2021-11-17T13:01:18.396Z"
   },
   {
    "duration": 7,
    "start_time": "2021-11-17T13:01:24.888Z"
   },
   {
    "duration": 9,
    "start_time": "2021-11-17T13:01:33.060Z"
   },
   {
    "duration": 10,
    "start_time": "2021-11-17T13:01:36.456Z"
   },
   {
    "duration": 286,
    "start_time": "2021-11-17T13:01:51.459Z"
   },
   {
    "duration": 12,
    "start_time": "2021-11-17T13:01:56.257Z"
   },
   {
    "duration": 29,
    "start_time": "2021-11-17T13:02:01.982Z"
   },
   {
    "duration": 7,
    "start_time": "2021-11-17T13:02:05.010Z"
   },
   {
    "duration": 9,
    "start_time": "2021-11-17T13:11:59.229Z"
   },
   {
    "duration": 13,
    "start_time": "2021-11-17T13:12:54.461Z"
   },
   {
    "duration": 10,
    "start_time": "2021-11-17T13:13:16.829Z"
   },
   {
    "duration": 90,
    "start_time": "2021-11-17T13:13:43.127Z"
   },
   {
    "duration": 14,
    "start_time": "2021-11-17T13:13:48.410Z"
   },
   {
    "duration": 16,
    "start_time": "2021-11-17T13:14:45.676Z"
   },
   {
    "duration": 19,
    "start_time": "2021-11-17T13:14:59.438Z"
   },
   {
    "duration": 10,
    "start_time": "2021-11-17T13:15:25.318Z"
   },
   {
    "duration": 9,
    "start_time": "2021-11-17T13:15:31.170Z"
   },
   {
    "duration": 21,
    "start_time": "2021-11-17T13:15:46.542Z"
   },
   {
    "duration": 877,
    "start_time": "2021-11-17T15:34:39.682Z"
   },
   {
    "duration": 28,
    "start_time": "2021-11-17T15:34:44.532Z"
   },
   {
    "duration": 8,
    "start_time": "2021-11-17T15:34:49.116Z"
   },
   {
    "duration": 21,
    "start_time": "2021-11-17T15:34:52.412Z"
   },
   {
    "duration": 8,
    "start_time": "2021-11-17T15:34:55.414Z"
   },
   {
    "duration": 9,
    "start_time": "2021-11-17T15:34:56.225Z"
   },
   {
    "duration": 7,
    "start_time": "2021-11-17T15:34:58.908Z"
   },
   {
    "duration": 12,
    "start_time": "2021-11-17T15:34:59.742Z"
   },
   {
    "duration": 9,
    "start_time": "2021-11-17T15:35:03.387Z"
   },
   {
    "duration": 10,
    "start_time": "2021-11-17T15:35:04.475Z"
   },
   {
    "duration": 8,
    "start_time": "2021-11-17T15:35:08.917Z"
   },
   {
    "duration": 10,
    "start_time": "2021-11-17T15:35:11.638Z"
   },
   {
    "duration": 19,
    "start_time": "2021-11-17T15:35:15.290Z"
   },
   {
    "duration": 10,
    "start_time": "2021-11-17T15:35:18.419Z"
   },
   {
    "duration": 11,
    "start_time": "2021-11-17T15:35:20.724Z"
   },
   {
    "duration": 13,
    "start_time": "2021-11-17T15:35:26.900Z"
   },
   {
    "duration": 8,
    "start_time": "2021-11-17T15:35:28.467Z"
   },
   {
    "duration": 30,
    "start_time": "2021-11-17T15:35:30.680Z"
   },
   {
    "duration": 12,
    "start_time": "2021-11-17T15:35:31.801Z"
   },
   {
    "duration": 12,
    "start_time": "2021-11-17T15:35:33.844Z"
   },
   {
    "duration": 18,
    "start_time": "2021-11-17T15:35:34.322Z"
   },
   {
    "duration": 10,
    "start_time": "2021-11-17T15:35:37.180Z"
   },
   {
    "duration": 8,
    "start_time": "2021-11-17T15:35:38.041Z"
   },
   {
    "duration": 9,
    "start_time": "2021-11-17T15:35:39.360Z"
   },
   {
    "duration": 11,
    "start_time": "2021-11-17T15:35:45.497Z"
   },
   {
    "duration": 50,
    "start_time": "2021-11-17T15:35:48.300Z"
   },
   {
    "duration": 9,
    "start_time": "2021-11-17T15:35:49.310Z"
   },
   {
    "duration": 15,
    "start_time": "2021-11-17T15:35:54.181Z"
   },
   {
    "duration": 9,
    "start_time": "2021-11-17T15:35:56.269Z"
   },
   {
    "duration": 20,
    "start_time": "2021-11-17T15:36:00.892Z"
   },
   {
    "duration": 14,
    "start_time": "2021-11-17T15:36:05.820Z"
   },
   {
    "duration": 13,
    "start_time": "2021-11-17T15:36:08.500Z"
   },
   {
    "duration": 8,
    "start_time": "2021-11-17T15:36:10.720Z"
   },
   {
    "duration": 20,
    "start_time": "2021-11-17T15:36:12.755Z"
   },
   {
    "duration": 437,
    "start_time": "2021-11-17T17:04:37.284Z"
   },
   {
    "duration": 13,
    "start_time": "2021-11-17T17:04:59.045Z"
   },
   {
    "duration": 9,
    "start_time": "2021-11-17T17:06:37.796Z"
   },
   {
    "duration": 11,
    "start_time": "2021-11-17T17:06:43.501Z"
   },
   {
    "duration": 20,
    "start_time": "2021-11-17T17:06:50.755Z"
   },
   {
    "duration": 19,
    "start_time": "2021-11-17T17:07:37.777Z"
   },
   {
    "duration": 19,
    "start_time": "2021-11-17T17:11:00.498Z"
   },
   {
    "duration": 19,
    "start_time": "2021-11-17T17:11:06.225Z"
   },
   {
    "duration": 61,
    "start_time": "2021-11-17T17:11:15.617Z"
   },
   {
    "duration": 22,
    "start_time": "2021-11-17T18:38:58.301Z"
   },
   {
    "duration": 4260,
    "start_time": "2021-11-17T19:01:32.911Z"
   },
   {
    "duration": 8,
    "start_time": "2021-11-17T19:02:05.208Z"
   },
   {
    "duration": 11,
    "start_time": "2021-11-17T19:04:09.750Z"
   },
   {
    "duration": 374,
    "start_time": "2021-11-17T19:22:34.028Z"
   },
   {
    "duration": 17,
    "start_time": "2021-11-17T19:23:04.433Z"
   },
   {
    "duration": 8,
    "start_time": "2021-11-17T19:23:08.060Z"
   },
   {
    "duration": 20,
    "start_time": "2021-11-17T19:23:18.614Z"
   },
   {
    "duration": 16,
    "start_time": "2021-11-17T19:23:58.545Z"
   },
   {
    "duration": 15,
    "start_time": "2021-11-17T19:24:01.718Z"
   },
   {
    "duration": 22,
    "start_time": "2021-11-17T19:24:06.316Z"
   },
   {
    "duration": 15,
    "start_time": "2021-11-17T19:24:09.788Z"
   },
   {
    "duration": 318,
    "start_time": "2021-11-17T19:24:49.550Z"
   },
   {
    "duration": 731,
    "start_time": "2021-11-17T19:25:11.753Z"
   },
   {
    "duration": 18,
    "start_time": "2021-11-17T19:27:05.464Z"
   },
   {
    "duration": 14,
    "start_time": "2021-11-17T19:27:15.246Z"
   },
   {
    "duration": 12750,
    "start_time": "2021-11-17T19:27:44.021Z"
   },
   {
    "duration": 9,
    "start_time": "2021-11-17T19:28:27.547Z"
   },
   {
    "duration": 8011,
    "start_time": "2021-11-17T19:28:49.194Z"
   },
   {
    "duration": 10,
    "start_time": "2021-11-17T19:29:58.104Z"
   },
   {
    "duration": 18830,
    "start_time": "2021-11-17T19:30:08.380Z"
   },
   {
    "duration": 7647,
    "start_time": "2021-11-17T19:31:34.859Z"
   },
   {
    "duration": 7943,
    "start_time": "2021-11-17T19:32:49.598Z"
   },
   {
    "duration": 8131,
    "start_time": "2021-11-17T19:33:13.738Z"
   },
   {
    "duration": 10053,
    "start_time": "2021-11-17T19:34:25.421Z"
   },
   {
    "duration": 9,
    "start_time": "2021-11-17T19:35:51.412Z"
   },
   {
    "duration": 8335,
    "start_time": "2021-11-17T19:36:09.394Z"
   },
   {
    "duration": 179,
    "start_time": "2021-11-17T19:37:18.613Z"
   },
   {
    "duration": 186,
    "start_time": "2021-11-17T19:39:39.026Z"
   },
   {
    "duration": 11,
    "start_time": "2021-11-17T19:41:19.597Z"
   },
   {
    "duration": 11,
    "start_time": "2021-11-17T19:45:31.830Z"
   },
   {
    "duration": 12,
    "start_time": "2021-11-17T19:47:48.323Z"
   },
   {
    "duration": 13,
    "start_time": "2021-11-17T19:55:37.861Z"
   },
   {
    "duration": 125456,
    "start_time": "2021-11-17T19:59:29.374Z"
   },
   {
    "duration": 15,
    "start_time": "2021-11-17T20:01:36.316Z"
   },
   {
    "duration": 8112,
    "start_time": "2021-11-17T20:27:37.182Z"
   },
   {
    "duration": 11,
    "start_time": "2021-11-17T20:27:47.409Z"
   },
   {
    "duration": 377,
    "start_time": "2021-11-17T20:37:53.384Z"
   },
   {
    "duration": 16,
    "start_time": "2021-11-17T20:40:11.784Z"
   },
   {
    "duration": 12,
    "start_time": "2021-11-17T20:40:45.927Z"
   },
   {
    "duration": 12,
    "start_time": "2021-11-17T20:41:12.402Z"
   },
   {
    "duration": 13,
    "start_time": "2021-11-17T20:45:56.812Z"
   },
   {
    "duration": 4,
    "start_time": "2021-11-17T20:59:42.135Z"
   },
   {
    "duration": 17,
    "start_time": "2021-11-17T21:05:03.154Z"
   },
   {
    "duration": 19,
    "start_time": "2021-11-17T21:07:10.090Z"
   },
   {
    "duration": 11,
    "start_time": "2021-11-17T21:10:05.622Z"
   },
   {
    "duration": 20,
    "start_time": "2021-11-17T21:10:22.266Z"
   },
   {
    "duration": 17,
    "start_time": "2021-11-17T21:11:22.066Z"
   },
   {
    "duration": 9,
    "start_time": "2021-11-17T21:11:29.679Z"
   },
   {
    "duration": 14,
    "start_time": "2021-11-17T21:11:33.993Z"
   },
   {
    "duration": 10,
    "start_time": "2021-11-17T21:12:26.950Z"
   },
   {
    "duration": 10,
    "start_time": "2021-11-17T21:12:32.713Z"
   },
   {
    "duration": 13,
    "start_time": "2021-11-17T21:13:16.775Z"
   },
   {
    "duration": 14,
    "start_time": "2021-11-17T21:13:41.841Z"
   },
   {
    "duration": 72,
    "start_time": "2021-11-17T21:14:01.403Z"
   },
   {
    "duration": 18,
    "start_time": "2021-11-17T21:14:01.765Z"
   },
   {
    "duration": 7,
    "start_time": "2021-11-17T21:14:03.360Z"
   },
   {
    "duration": 23,
    "start_time": "2021-11-17T21:14:05.650Z"
   },
   {
    "duration": 7,
    "start_time": "2021-11-17T21:14:06.656Z"
   },
   {
    "duration": 9,
    "start_time": "2021-11-17T21:14:07.276Z"
   },
   {
    "duration": 8,
    "start_time": "2021-11-17T21:14:07.886Z"
   },
   {
    "duration": 10,
    "start_time": "2021-11-17T21:14:08.313Z"
   },
   {
    "duration": 8,
    "start_time": "2021-11-17T21:14:09.298Z"
   },
   {
    "duration": 10,
    "start_time": "2021-11-17T21:14:09.734Z"
   },
   {
    "duration": 8,
    "start_time": "2021-11-17T21:14:10.672Z"
   },
   {
    "duration": 10,
    "start_time": "2021-11-17T21:14:11.098Z"
   },
   {
    "duration": 18,
    "start_time": "2021-11-17T21:14:11.639Z"
   },
   {
    "duration": 9,
    "start_time": "2021-11-17T21:14:12.059Z"
   },
   {
    "duration": 10,
    "start_time": "2021-11-17T21:14:12.496Z"
   },
   {
    "duration": 12,
    "start_time": "2021-11-17T21:14:14.887Z"
   },
   {
    "duration": 9,
    "start_time": "2021-11-17T21:14:15.190Z"
   },
   {
    "duration": 30,
    "start_time": "2021-11-17T21:14:15.475Z"
   },
   {
    "duration": 11,
    "start_time": "2021-11-17T21:14:15.814Z"
   },
   {
    "duration": 12,
    "start_time": "2021-11-17T21:14:16.105Z"
   },
   {
    "duration": 17,
    "start_time": "2021-11-17T21:14:16.398Z"
   },
   {
    "duration": 10,
    "start_time": "2021-11-17T21:14:16.649Z"
   },
   {
    "duration": 8,
    "start_time": "2021-11-17T21:14:16.917Z"
   },
   {
    "duration": 10,
    "start_time": "2021-11-17T21:14:17.212Z"
   },
   {
    "duration": 13,
    "start_time": "2021-11-17T21:14:17.931Z"
   },
   {
    "duration": 11,
    "start_time": "2021-11-17T21:14:18.617Z"
   },
   {
    "duration": 40,
    "start_time": "2021-11-17T21:14:19.013Z"
   },
   {
    "duration": 9,
    "start_time": "2021-11-17T21:14:19.351Z"
   },
   {
    "duration": 25,
    "start_time": "2021-11-17T21:14:20.090Z"
   },
   {
    "duration": 9,
    "start_time": "2021-11-17T21:14:20.702Z"
   },
   {
    "duration": 20,
    "start_time": "2021-11-17T21:14:22.444Z"
   },
   {
    "duration": 14,
    "start_time": "2021-11-17T21:14:26.414Z"
   },
   {
    "duration": 13,
    "start_time": "2021-11-17T21:14:26.835Z"
   },
   {
    "duration": 9,
    "start_time": "2021-11-17T21:14:27.554Z"
   },
   {
    "duration": 21,
    "start_time": "2021-11-17T21:14:27.931Z"
   },
   {
    "duration": 13,
    "start_time": "2021-11-17T21:14:28.704Z"
   },
   {
    "duration": 19,
    "start_time": "2021-11-17T21:14:29.040Z"
   },
   {
    "duration": 173,
    "start_time": "2021-11-17T21:14:29.697Z"
   },
   {
    "duration": 13,
    "start_time": "2021-11-17T21:14:30.356Z"
   },
   {
    "duration": 13,
    "start_time": "2021-11-17T21:16:31.410Z"
   },
   {
    "duration": 35,
    "start_time": "2021-11-17T21:16:31.426Z"
   },
   {
    "duration": 21,
    "start_time": "2021-11-17T21:16:31.585Z"
   },
   {
    "duration": 43,
    "start_time": "2021-11-17T21:16:31.644Z"
   },
   {
    "duration": 16,
    "start_time": "2021-11-17T21:16:31.689Z"
   },
   {
    "duration": 29,
    "start_time": "2021-11-17T21:16:31.707Z"
   },
   {
    "duration": 15,
    "start_time": "2021-11-17T21:16:31.739Z"
   },
   {
    "duration": 35,
    "start_time": "2021-11-17T21:16:31.756Z"
   },
   {
    "duration": 13,
    "start_time": "2021-11-17T21:16:31.807Z"
   },
   {
    "duration": 16,
    "start_time": "2021-11-17T21:20:06.036Z"
   },
   {
    "duration": 5,
    "start_time": "2021-11-17T21:21:15.621Z"
   },
   {
    "duration": 10,
    "start_time": "2021-11-17T21:32:58.285Z"
   },
   {
    "duration": 5,
    "start_time": "2021-11-17T21:33:32.967Z"
   },
   {
    "duration": 3,
    "start_time": "2021-11-17T21:34:56.738Z"
   },
   {
    "duration": 9,
    "start_time": "2021-11-17T21:35:29.924Z"
   },
   {
    "duration": 11,
    "start_time": "2021-11-17T21:36:32.540Z"
   },
   {
    "duration": 4,
    "start_time": "2021-11-17T21:36:58.973Z"
   },
   {
    "duration": 11,
    "start_time": "2021-11-17T21:37:03.989Z"
   },
   {
    "duration": 14,
    "start_time": "2021-11-17T21:37:45.726Z"
   },
   {
    "duration": 23,
    "start_time": "2021-11-17T21:38:22.561Z"
   },
   {
    "duration": 22,
    "start_time": "2021-11-17T21:38:58.355Z"
   },
   {
    "duration": 362,
    "start_time": "2021-11-17T21:40:18.498Z"
   },
   {
    "duration": 366,
    "start_time": "2021-11-17T21:40:32.045Z"
   },
   {
    "duration": 11,
    "start_time": "2021-11-17T21:40:40.035Z"
   },
   {
    "duration": 21,
    "start_time": "2021-11-17T21:40:43.149Z"
   },
   {
    "duration": 12,
    "start_time": "2021-11-17T21:40:59.126Z"
   },
   {
    "duration": 11,
    "start_time": "2021-11-17T21:41:02.331Z"
   },
   {
    "duration": 10,
    "start_time": "2021-11-17T21:41:06.652Z"
   },
   {
    "duration": 22,
    "start_time": "2021-11-17T21:41:09.065Z"
   },
   {
    "duration": 13,
    "start_time": "2021-11-17T21:43:32.635Z"
   },
   {
    "duration": 303,
    "start_time": "2021-11-17T21:43:42.858Z"
   },
   {
    "duration": 317,
    "start_time": "2021-11-17T21:44:16.725Z"
   },
   {
    "duration": 354,
    "start_time": "2021-11-17T21:44:21.354Z"
   },
   {
    "duration": 72,
    "start_time": "2021-11-17T21:44:42.634Z"
   },
   {
    "duration": 18,
    "start_time": "2021-11-17T21:44:42.708Z"
   },
   {
    "duration": 12,
    "start_time": "2021-11-17T21:44:42.728Z"
   },
   {
    "duration": 64,
    "start_time": "2021-11-17T21:44:42.742Z"
   },
   {
    "duration": 7,
    "start_time": "2021-11-17T21:44:42.809Z"
   },
   {
    "duration": 11,
    "start_time": "2021-11-17T21:44:42.818Z"
   },
   {
    "duration": 7,
    "start_time": "2021-11-17T21:44:42.831Z"
   },
   {
    "duration": 10,
    "start_time": "2021-11-17T21:44:42.842Z"
   },
   {
    "duration": 8,
    "start_time": "2021-11-17T21:44:42.900Z"
   },
   {
    "duration": 11,
    "start_time": "2021-11-17T21:44:42.911Z"
   },
   {
    "duration": 8,
    "start_time": "2021-11-17T21:44:42.925Z"
   },
   {
    "duration": 9,
    "start_time": "2021-11-17T21:44:42.936Z"
   },
   {
    "duration": 55,
    "start_time": "2021-11-17T21:44:42.948Z"
   },
   {
    "duration": 14,
    "start_time": "2021-11-17T21:44:43.005Z"
   },
   {
    "duration": 13,
    "start_time": "2021-11-17T21:44:43.021Z"
   },
   {
    "duration": 13,
    "start_time": "2021-11-17T21:44:43.036Z"
   },
   {
    "duration": 8,
    "start_time": "2021-11-17T21:44:43.051Z"
   },
   {
    "duration": 64,
    "start_time": "2021-11-17T21:44:43.062Z"
   },
   {
    "duration": 13,
    "start_time": "2021-11-17T21:44:43.129Z"
   },
   {
    "duration": 11,
    "start_time": "2021-11-17T21:44:43.145Z"
   },
   {
    "duration": 45,
    "start_time": "2021-11-17T21:44:43.159Z"
   },
   {
    "duration": 10,
    "start_time": "2021-11-17T21:44:43.206Z"
   },
   {
    "duration": 9,
    "start_time": "2021-11-17T21:44:43.221Z"
   },
   {
    "duration": 11,
    "start_time": "2021-11-17T21:44:43.233Z"
   },
   {
    "duration": 10,
    "start_time": "2021-11-17T21:44:43.247Z"
   },
   {
    "duration": 12,
    "start_time": "2021-11-17T21:44:43.300Z"
   },
   {
    "duration": 40,
    "start_time": "2021-11-17T21:44:43.315Z"
   },
   {
    "duration": 9,
    "start_time": "2021-11-17T21:44:43.358Z"
   },
   {
    "duration": 16,
    "start_time": "2021-11-17T21:44:43.400Z"
   },
   {
    "duration": 11,
    "start_time": "2021-11-17T21:44:43.419Z"
   },
   {
    "duration": 20,
    "start_time": "2021-11-17T21:44:43.432Z"
   },
   {
    "duration": 47,
    "start_time": "2021-11-17T21:44:43.455Z"
   },
   {
    "duration": 13,
    "start_time": "2021-11-17T21:44:43.504Z"
   },
   {
    "duration": 9,
    "start_time": "2021-11-17T21:44:43.519Z"
   },
   {
    "duration": 40,
    "start_time": "2021-11-17T21:44:43.530Z"
   },
   {
    "duration": 34,
    "start_time": "2021-11-17T21:44:43.573Z"
   },
   {
    "duration": 29,
    "start_time": "2021-11-17T21:44:43.610Z"
   },
   {
    "duration": 180,
    "start_time": "2021-11-17T21:44:43.641Z"
   },
   {
    "duration": 12,
    "start_time": "2021-11-17T21:44:43.823Z"
   },
   {
    "duration": 12,
    "start_time": "2021-11-17T21:46:44.804Z"
   },
   {
    "duration": 11,
    "start_time": "2021-11-17T21:46:44.819Z"
   },
   {
    "duration": 11,
    "start_time": "2021-11-17T21:46:44.832Z"
   },
   {
    "duration": 63,
    "start_time": "2021-11-17T21:46:44.845Z"
   },
   {
    "duration": 27,
    "start_time": "2021-11-17T21:46:44.910Z"
   },
   {
    "duration": 4,
    "start_time": "2021-11-17T21:46:44.940Z"
   },
   {
    "duration": 16,
    "start_time": "2021-11-17T21:46:44.946Z"
   },
   {
    "duration": 36,
    "start_time": "2021-11-17T21:46:44.965Z"
   },
   {
    "duration": 14,
    "start_time": "2021-11-17T21:46:45.003Z"
   },
   {
    "duration": 19,
    "start_time": "2021-11-17T21:46:45.020Z"
   },
   {
    "duration": 14,
    "start_time": "2021-11-17T21:46:45.045Z"
   },
   {
    "duration": 54,
    "start_time": "2021-11-17T21:46:45.062Z"
   },
   {
    "duration": 11,
    "start_time": "2021-11-17T21:48:35.807Z"
   },
   {
    "duration": 314,
    "start_time": "2021-11-17T21:51:13.034Z"
   },
   {
    "duration": 76,
    "start_time": "2021-11-17T21:51:30.619Z"
   },
   {
    "duration": 10,
    "start_time": "2021-11-17T21:51:44.848Z"
   },
   {
    "duration": 21,
    "start_time": "2021-11-17T21:51:46.964Z"
   },
   {
    "duration": 7,
    "start_time": "2021-11-17T21:51:51.174Z"
   },
   {
    "duration": 9,
    "start_time": "2021-11-17T21:51:53.985Z"
   },
   {
    "duration": 7,
    "start_time": "2021-11-17T21:51:58.183Z"
   },
   {
    "duration": 11,
    "start_time": "2021-11-17T21:52:02.402Z"
   },
   {
    "duration": 10,
    "start_time": "2021-11-17T21:52:05.746Z"
   },
   {
    "duration": 10,
    "start_time": "2021-11-17T21:52:09.262Z"
   },
   {
    "duration": 9,
    "start_time": "2021-11-17T21:52:12.967Z"
   },
   {
    "duration": 10,
    "start_time": "2021-11-17T21:52:15.739Z"
   },
   {
    "duration": 19,
    "start_time": "2021-11-17T21:52:21.983Z"
   },
   {
    "duration": 10,
    "start_time": "2021-11-17T21:52:25.841Z"
   },
   {
    "duration": 11,
    "start_time": "2021-11-17T21:52:28.417Z"
   },
   {
    "duration": 12,
    "start_time": "2021-11-17T21:52:34.121Z"
   },
   {
    "duration": 8,
    "start_time": "2021-11-17T21:52:37.465Z"
   },
   {
    "duration": 29,
    "start_time": "2021-11-17T21:52:41.778Z"
   },
   {
    "duration": 12,
    "start_time": "2021-11-17T21:52:44.340Z"
   },
   {
    "duration": 13,
    "start_time": "2021-11-17T21:52:46.864Z"
   },
   {
    "duration": 16,
    "start_time": "2021-11-17T21:52:50.621Z"
   },
   {
    "duration": 10,
    "start_time": "2021-11-17T21:52:52.093Z"
   },
   {
    "duration": 8,
    "start_time": "2021-11-17T21:52:54.636Z"
   },
   {
    "duration": 10,
    "start_time": "2021-11-17T21:52:55.391Z"
   },
   {
    "duration": 10,
    "start_time": "2021-11-17T21:52:59.054Z"
   },
   {
    "duration": 10,
    "start_time": "2021-11-17T21:53:01.818Z"
   },
   {
    "duration": 43,
    "start_time": "2021-11-17T21:53:04.353Z"
   },
   {
    "duration": 9,
    "start_time": "2021-11-17T21:53:07.288Z"
   },
   {
    "duration": 16,
    "start_time": "2021-11-17T21:53:10.396Z"
   },
   {
    "duration": 9,
    "start_time": "2021-11-17T21:53:13.636Z"
   },
   {
    "duration": 18,
    "start_time": "2021-11-17T21:53:16.621Z"
   },
   {
    "duration": 14,
    "start_time": "2021-11-17T21:53:20.828Z"
   },
   {
    "duration": 12,
    "start_time": "2021-11-17T21:53:23.115Z"
   },
   {
    "duration": 9,
    "start_time": "2021-11-17T21:53:26.984Z"
   },
   {
    "duration": 21,
    "start_time": "2021-11-17T21:53:29.454Z"
   },
   {
    "duration": 13,
    "start_time": "2021-11-17T21:53:41.343Z"
   },
   {
    "duration": 19,
    "start_time": "2021-11-17T21:53:51.936Z"
   },
   {
    "duration": 172,
    "start_time": "2021-11-17T21:53:55.875Z"
   },
   {
    "duration": 12,
    "start_time": "2021-11-17T21:54:11.169Z"
   },
   {
    "duration": 26,
    "start_time": "2021-11-17T21:56:13.875Z"
   },
   {
    "duration": 21,
    "start_time": "2021-11-17T21:56:13.904Z"
   },
   {
    "duration": 13,
    "start_time": "2021-11-17T21:56:22.172Z"
   },
   {
    "duration": 13,
    "start_time": "2021-11-17T21:56:25.212Z"
   },
   {
    "duration": 10,
    "start_time": "2021-11-17T21:56:28.512Z"
   },
   {
    "duration": 20,
    "start_time": "2021-11-17T21:56:32.654Z"
   },
   {
    "duration": 21,
    "start_time": "2021-11-17T21:56:37.541Z"
   },
   {
    "duration": 321,
    "start_time": "2021-11-17T21:56:41.153Z"
   },
   {
    "duration": 14,
    "start_time": "2021-11-17T21:57:03.571Z"
   },
   {
    "duration": 15,
    "start_time": "2021-11-17T21:57:21.317Z"
   },
   {
    "duration": 21,
    "start_time": "2021-11-17T21:59:09.646Z"
   },
   {
    "duration": 326,
    "start_time": "2021-11-17T22:00:36.738Z"
   },
   {
    "duration": 16,
    "start_time": "2021-11-17T22:01:11.919Z"
   },
   {
    "duration": 4,
    "start_time": "2021-11-17T22:01:21.317Z"
   },
   {
    "duration": 17,
    "start_time": "2021-11-17T22:01:22.957Z"
   },
   {
    "duration": 6,
    "start_time": "2021-11-17T22:01:24.585Z"
   },
   {
    "duration": 11,
    "start_time": "2021-11-17T22:01:26.602Z"
   },
   {
    "duration": 13,
    "start_time": "2021-11-17T22:01:29.585Z"
   },
   {
    "duration": 22,
    "start_time": "2021-11-17T22:02:29.075Z"
   },
   {
    "duration": 5,
    "start_time": "2021-11-17T22:02:31.411Z"
   },
   {
    "duration": 12,
    "start_time": "2021-11-17T22:02:32.944Z"
   },
   {
    "duration": 11,
    "start_time": "2021-11-17T22:02:36.757Z"
   },
   {
    "duration": 9,
    "start_time": "2021-11-17T22:03:01.105Z"
   },
   {
    "duration": 18,
    "start_time": "2021-11-17T22:03:04.534Z"
   },
   {
    "duration": 21,
    "start_time": "2021-11-17T22:03:10.965Z"
   },
   {
    "duration": 16,
    "start_time": "2021-11-17T22:03:22.894Z"
   },
   {
    "duration": 21,
    "start_time": "2021-11-17T22:03:36.099Z"
   },
   {
    "duration": 16,
    "start_time": "2021-11-17T22:04:36.403Z"
   },
   {
    "duration": 20,
    "start_time": "2021-11-17T22:04:40.444Z"
   },
   {
    "duration": 6,
    "start_time": "2021-11-17T22:04:44.499Z"
   },
   {
    "duration": 19,
    "start_time": "2021-11-17T22:04:46.127Z"
   },
   {
    "duration": 6,
    "start_time": "2021-11-17T22:04:48.254Z"
   },
   {
    "duration": 14,
    "start_time": "2021-11-17T22:04:48.941Z"
   },
   {
    "duration": 16,
    "start_time": "2021-11-17T22:04:51.128Z"
   },
   {
    "duration": 33,
    "start_time": "2021-11-17T22:05:48.190Z"
   },
   {
    "duration": 34,
    "start_time": "2021-11-17T22:06:06.495Z"
   },
   {
    "duration": 104,
    "start_time": "2021-11-17T22:06:25.450Z"
   },
   {
    "duration": 23,
    "start_time": "2021-11-17T22:06:35.732Z"
   },
   {
    "duration": 12,
    "start_time": "2021-11-17T22:06:52.643Z"
   },
   {
    "duration": 16,
    "start_time": "2021-11-17T22:07:13.086Z"
   },
   {
    "duration": 11,
    "start_time": "2021-11-17T22:07:32.236Z"
   },
   {
    "duration": 11,
    "start_time": "2021-11-17T22:07:35.613Z"
   },
   {
    "duration": 18,
    "start_time": "2021-11-17T22:07:47.114Z"
   },
   {
    "duration": 21,
    "start_time": "2021-11-17T22:07:50.176Z"
   },
   {
    "duration": 20,
    "start_time": "2021-11-17T22:08:10.484Z"
   },
   {
    "duration": 16,
    "start_time": "2021-11-17T22:08:12.358Z"
   },
   {
    "duration": 16,
    "start_time": "2021-11-17T22:09:31.030Z"
   },
   {
    "duration": 19,
    "start_time": "2021-11-17T22:09:34.161Z"
   },
   {
    "duration": 38,
    "start_time": "2021-11-17T22:10:14.627Z"
   },
   {
    "duration": 11,
    "start_time": "2021-11-17T22:11:41.409Z"
   },
   {
    "duration": 19,
    "start_time": "2021-11-17T22:12:07.532Z"
   },
   {
    "duration": 306,
    "start_time": "2021-11-17T22:14:06.070Z"
   },
   {
    "duration": 5,
    "start_time": "2021-11-17T22:14:16.262Z"
   },
   {
    "duration": 22,
    "start_time": "2021-11-17T22:14:24.211Z"
   },
   {
    "duration": 24,
    "start_time": "2021-11-17T22:14:52.813Z"
   },
   {
    "duration": 5,
    "start_time": "2021-11-17T22:14:54.892Z"
   },
   {
    "duration": 34,
    "start_time": "2021-11-17T22:14:58.250Z"
   },
   {
    "duration": 10,
    "start_time": "2021-11-17T22:15:06.657Z"
   },
   {
    "duration": 11,
    "start_time": "2021-11-17T22:15:09.094Z"
   },
   {
    "duration": 21,
    "start_time": "2021-11-17T22:16:09.469Z"
   },
   {
    "duration": 5,
    "start_time": "2021-11-17T22:16:11.243Z"
   },
   {
    "duration": 12,
    "start_time": "2021-11-17T22:16:11.941Z"
   },
   {
    "duration": 11,
    "start_time": "2021-11-17T22:16:13.409Z"
   },
   {
    "duration": 310,
    "start_time": "2021-11-17T22:16:56.120Z"
   },
   {
    "duration": 8,
    "start_time": "2021-11-17T22:17:01.329Z"
   },
   {
    "duration": 11,
    "start_time": "2021-11-17T22:21:56.086Z"
   },
   {
    "duration": 32,
    "start_time": "2021-11-17T22:23:26.614Z"
   },
   {
    "duration": 25,
    "start_time": "2021-11-17T22:23:32.706Z"
   },
   {
    "duration": 24,
    "start_time": "2021-11-17T22:23:51.772Z"
   },
   {
    "duration": 25,
    "start_time": "2021-11-17T22:24:32.628Z"
   },
   {
    "duration": 320,
    "start_time": "2021-11-17T22:24:40.358Z"
   },
   {
    "duration": 37,
    "start_time": "2021-11-17T22:25:13.155Z"
   },
   {
    "duration": 54,
    "start_time": "2021-11-17T22:26:44.431Z"
   },
   {
    "duration": 24,
    "start_time": "2021-11-17T22:27:05.040Z"
   },
   {
    "duration": 30,
    "start_time": "2021-11-17T22:27:19.792Z"
   },
   {
    "duration": 26,
    "start_time": "2021-11-17T22:27:22.973Z"
   },
   {
    "duration": 25,
    "start_time": "2021-11-17T22:27:44.354Z"
   },
   {
    "duration": 829,
    "start_time": "2021-11-18T06:21:00.175Z"
   },
   {
    "duration": 28,
    "start_time": "2021-11-18T06:21:04.470Z"
   },
   {
    "duration": 8,
    "start_time": "2021-11-18T06:21:11.284Z"
   },
   {
    "duration": 23,
    "start_time": "2021-11-18T06:21:54.729Z"
   },
   {
    "duration": 8,
    "start_time": "2021-11-18T06:22:01.808Z"
   },
   {
    "duration": 11,
    "start_time": "2021-11-18T06:22:11.611Z"
   },
   {
    "duration": 9,
    "start_time": "2021-11-18T06:22:15.573Z"
   },
   {
    "duration": 11,
    "start_time": "2021-11-18T06:22:18.395Z"
   },
   {
    "duration": 8,
    "start_time": "2021-11-18T06:22:21.760Z"
   },
   {
    "duration": 10,
    "start_time": "2021-11-18T06:22:25.333Z"
   },
   {
    "duration": 18,
    "start_time": "2021-11-18T06:22:29.298Z"
   },
   {
    "duration": 10,
    "start_time": "2021-11-18T06:22:33.236Z"
   },
   {
    "duration": 10,
    "start_time": "2021-11-18T06:22:36.245Z"
   },
   {
    "duration": 11,
    "start_time": "2021-11-18T06:22:42.256Z"
   },
   {
    "duration": 12,
    "start_time": "2021-11-18T06:22:46.052Z"
   },
   {
    "duration": 33,
    "start_time": "2021-11-18T06:22:49.830Z"
   },
   {
    "duration": 11,
    "start_time": "2021-11-18T06:22:51.549Z"
   },
   {
    "duration": 12,
    "start_time": "2021-11-18T06:22:54.067Z"
   },
   {
    "duration": 17,
    "start_time": "2021-11-18T06:22:55.274Z"
   },
   {
    "duration": 10,
    "start_time": "2021-11-18T06:22:56.078Z"
   },
   {
    "duration": 8,
    "start_time": "2021-11-18T06:22:58.439Z"
   },
   {
    "duration": 10,
    "start_time": "2021-11-18T06:22:59.317Z"
   },
   {
    "duration": 15,
    "start_time": "2021-11-18T06:23:03.548Z"
   },
   {
    "duration": 12,
    "start_time": "2021-11-18T06:23:08.447Z"
   },
   {
    "duration": 42,
    "start_time": "2021-11-18T06:23:12.543Z"
   },
   {
    "duration": 8,
    "start_time": "2021-11-18T06:23:15.923Z"
   },
   {
    "duration": 16,
    "start_time": "2021-11-18T06:23:19.413Z"
   },
   {
    "duration": 10,
    "start_time": "2021-11-18T06:23:22.629Z"
   },
   {
    "duration": 24,
    "start_time": "2021-11-18T06:23:26.906Z"
   },
   {
    "duration": 19,
    "start_time": "2021-11-18T06:23:30.583Z"
   },
   {
    "duration": 13,
    "start_time": "2021-11-18T06:23:37.247Z"
   },
   {
    "duration": 9,
    "start_time": "2021-11-18T06:23:40.512Z"
   },
   {
    "duration": 20,
    "start_time": "2021-11-18T06:23:43.216Z"
   },
   {
    "duration": 13,
    "start_time": "2021-11-18T06:23:47.564Z"
   },
   {
    "duration": 19,
    "start_time": "2021-11-18T06:23:51.050Z"
   },
   {
    "duration": 382,
    "start_time": "2021-11-18T06:23:54.874Z"
   },
   {
    "duration": 300,
    "start_time": "2021-11-18T06:24:16.562Z"
   },
   {
    "duration": 74,
    "start_time": "2021-11-18T06:24:33.534Z"
   },
   {
    "duration": 20,
    "start_time": "2021-11-18T06:25:09.188Z"
   },
   {
    "duration": 12,
    "start_time": "2021-11-18T06:25:13.597Z"
   },
   {
    "duration": 18,
    "start_time": "2021-11-18T06:25:15.029Z"
   },
   {
    "duration": 595,
    "start_time": "2021-11-18T06:25:19.087Z"
   },
   {
    "duration": 72,
    "start_time": "2021-11-18T06:25:39.282Z"
   },
   {
    "duration": 17,
    "start_time": "2021-11-18T06:25:39.357Z"
   },
   {
    "duration": 9,
    "start_time": "2021-11-18T06:25:39.377Z"
   },
   {
    "duration": 60,
    "start_time": "2021-11-18T06:25:39.389Z"
   },
   {
    "duration": 10,
    "start_time": "2021-11-18T06:25:39.452Z"
   },
   {
    "duration": 12,
    "start_time": "2021-11-18T06:25:39.466Z"
   },
   {
    "duration": 52,
    "start_time": "2021-11-18T06:25:39.480Z"
   },
   {
    "duration": 9,
    "start_time": "2021-11-18T06:25:39.536Z"
   },
   {
    "duration": 12,
    "start_time": "2021-11-18T06:25:39.548Z"
   },
   {
    "duration": 10,
    "start_time": "2021-11-18T06:25:39.562Z"
   },
   {
    "duration": 53,
    "start_time": "2021-11-18T06:25:39.575Z"
   },
   {
    "duration": 10,
    "start_time": "2021-11-18T06:25:39.631Z"
   },
   {
    "duration": 20,
    "start_time": "2021-11-18T06:25:39.644Z"
   },
   {
    "duration": 62,
    "start_time": "2021-11-18T06:25:39.667Z"
   },
   {
    "duration": 16,
    "start_time": "2021-11-18T06:25:39.733Z"
   },
   {
    "duration": 15,
    "start_time": "2021-11-18T06:25:39.752Z"
   },
   {
    "duration": 12,
    "start_time": "2021-11-18T06:25:39.771Z"
   },
   {
    "duration": 79,
    "start_time": "2021-11-18T06:25:39.785Z"
   },
   {
    "duration": 17,
    "start_time": "2021-11-18T06:25:39.867Z"
   },
   {
    "duration": 16,
    "start_time": "2021-11-18T06:25:39.886Z"
   },
   {
    "duration": 38,
    "start_time": "2021-11-18T06:25:39.904Z"
   },
   {
    "duration": 11,
    "start_time": "2021-11-18T06:25:39.944Z"
   },
   {
    "duration": 8,
    "start_time": "2021-11-18T06:25:39.960Z"
   },
   {
    "duration": 17,
    "start_time": "2021-11-18T06:25:39.971Z"
   },
   {
    "duration": 46,
    "start_time": "2021-11-18T06:25:39.990Z"
   },
   {
    "duration": 21,
    "start_time": "2021-11-18T06:25:40.038Z"
   },
   {
    "duration": 71,
    "start_time": "2021-11-18T06:25:40.062Z"
   },
   {
    "duration": 9,
    "start_time": "2021-11-18T06:25:40.135Z"
   },
   {
    "duration": 20,
    "start_time": "2021-11-18T06:25:40.146Z"
   },
   {
    "duration": 10,
    "start_time": "2021-11-18T06:25:40.168Z"
   },
   {
    "duration": 58,
    "start_time": "2021-11-18T06:25:40.181Z"
   },
   {
    "duration": 15,
    "start_time": "2021-11-18T06:25:40.242Z"
   },
   {
    "duration": 13,
    "start_time": "2021-11-18T06:25:40.259Z"
   },
   {
    "duration": 53,
    "start_time": "2021-11-18T06:25:40.275Z"
   },
   {
    "duration": 22,
    "start_time": "2021-11-18T06:25:40.331Z"
   },
   {
    "duration": 14,
    "start_time": "2021-11-18T06:25:40.355Z"
   },
   {
    "duration": 20,
    "start_time": "2021-11-18T06:25:40.372Z"
   },
   {
    "duration": 388,
    "start_time": "2021-11-18T06:26:05.301Z"
   },
   {
    "duration": 13,
    "start_time": "2021-11-18T06:26:12.423Z"
   },
   {
    "duration": 14,
    "start_time": "2021-11-18T06:26:30.401Z"
   },
   {
    "duration": 15,
    "start_time": "2021-11-18T06:26:39.650Z"
   },
   {
    "duration": 16,
    "start_time": "2021-11-18T06:26:49.921Z"
   },
   {
    "duration": 73,
    "start_time": "2021-11-18T06:27:30.269Z"
   },
   {
    "duration": 17,
    "start_time": "2021-11-18T06:27:30.345Z"
   },
   {
    "duration": 23,
    "start_time": "2021-11-18T06:27:30.365Z"
   },
   {
    "duration": 53,
    "start_time": "2021-11-18T06:27:30.390Z"
   },
   {
    "duration": 6,
    "start_time": "2021-11-18T06:27:30.445Z"
   },
   {
    "duration": 30,
    "start_time": "2021-11-18T06:27:30.453Z"
   },
   {
    "duration": 29,
    "start_time": "2021-11-18T06:27:30.485Z"
   },
   {
    "duration": 48,
    "start_time": "2021-11-18T06:27:30.517Z"
   },
   {
    "duration": 17,
    "start_time": "2021-11-18T06:27:30.569Z"
   },
   {
    "duration": 34,
    "start_time": "2021-11-18T06:27:30.589Z"
   },
   {
    "duration": 39,
    "start_time": "2021-11-18T06:27:30.625Z"
   },
   {
    "duration": 20,
    "start_time": "2021-11-18T06:27:30.667Z"
   },
   {
    "duration": 33,
    "start_time": "2021-11-18T06:27:30.689Z"
   },
   {
    "duration": 17,
    "start_time": "2021-11-18T06:27:30.725Z"
   },
   {
    "duration": 20,
    "start_time": "2021-11-18T06:27:30.745Z"
   },
   {
    "duration": 25,
    "start_time": "2021-11-18T06:27:30.768Z"
   },
   {
    "duration": 18,
    "start_time": "2021-11-18T06:27:30.796Z"
   },
   {
    "duration": 40,
    "start_time": "2021-11-18T06:27:30.816Z"
   },
   {
    "duration": 23,
    "start_time": "2021-11-18T06:27:30.859Z"
   },
   {
    "duration": 36,
    "start_time": "2021-11-18T06:27:30.884Z"
   },
   {
    "duration": 42,
    "start_time": "2021-11-18T06:27:30.923Z"
   },
   {
    "duration": 87,
    "start_time": "2021-11-18T06:27:30.968Z"
   },
   {
    "duration": 35,
    "start_time": "2021-11-18T06:27:31.061Z"
   },
   {
    "duration": 16,
    "start_time": "2021-11-18T06:27:31.100Z"
   },
   {
    "duration": 34,
    "start_time": "2021-11-18T06:27:31.119Z"
   },
   {
    "duration": 38,
    "start_time": "2021-11-18T06:27:31.156Z"
   },
   {
    "duration": 46,
    "start_time": "2021-11-18T06:27:31.197Z"
   },
   {
    "duration": 10,
    "start_time": "2021-11-18T06:27:31.245Z"
   },
   {
    "duration": 26,
    "start_time": "2021-11-18T06:27:31.257Z"
   },
   {
    "duration": 17,
    "start_time": "2021-11-18T06:27:31.286Z"
   },
   {
    "duration": 40,
    "start_time": "2021-11-18T06:27:31.305Z"
   },
   {
    "duration": 13,
    "start_time": "2021-11-18T06:27:31.348Z"
   },
   {
    "duration": 13,
    "start_time": "2021-11-18T06:27:31.364Z"
   },
   {
    "duration": 49,
    "start_time": "2021-11-18T06:27:31.380Z"
   },
   {
    "duration": 21,
    "start_time": "2021-11-18T06:27:31.432Z"
   },
   {
    "duration": 13,
    "start_time": "2021-11-18T06:27:31.455Z"
   },
   {
    "duration": 20,
    "start_time": "2021-11-18T06:27:31.471Z"
   },
   {
    "duration": 440,
    "start_time": "2021-11-18T06:27:31.493Z"
   },
   {
    "duration": 304,
    "start_time": "2021-11-18T06:27:31.632Z"
   },
   {
    "duration": 295,
    "start_time": "2021-11-18T06:27:31.642Z"
   },
   {
    "duration": 277,
    "start_time": "2021-11-18T06:27:31.662Z"
   },
   {
    "duration": 243,
    "start_time": "2021-11-18T06:27:31.697Z"
   },
   {
    "duration": 229,
    "start_time": "2021-11-18T06:27:31.712Z"
   },
   {
    "duration": 216,
    "start_time": "2021-11-18T06:27:31.726Z"
   },
   {
    "duration": 205,
    "start_time": "2021-11-18T06:27:31.739Z"
   },
   {
    "duration": 200,
    "start_time": "2021-11-18T06:27:31.745Z"
   },
   {
    "duration": 189,
    "start_time": "2021-11-18T06:27:31.758Z"
   },
   {
    "duration": 174,
    "start_time": "2021-11-18T06:27:31.774Z"
   },
   {
    "duration": 170,
    "start_time": "2021-11-18T06:27:31.779Z"
   },
   {
    "duration": 158,
    "start_time": "2021-11-18T06:27:31.792Z"
   },
   {
    "duration": 147,
    "start_time": "2021-11-18T06:27:31.804Z"
   },
   {
    "duration": 130,
    "start_time": "2021-11-18T06:27:31.822Z"
   },
   {
    "duration": 127,
    "start_time": "2021-11-18T06:27:31.827Z"
   },
   {
    "duration": 119,
    "start_time": "2021-11-18T06:27:31.836Z"
   },
   {
    "duration": 117,
    "start_time": "2021-11-18T06:27:31.839Z"
   },
   {
    "duration": 113,
    "start_time": "2021-11-18T06:27:31.845Z"
   },
   {
    "duration": 106,
    "start_time": "2021-11-18T06:27:31.853Z"
   },
   {
    "duration": 104,
    "start_time": "2021-11-18T06:27:31.857Z"
   },
   {
    "duration": 24349,
    "start_time": "2021-11-18T06:29:51.609Z"
   },
   {
    "duration": 14,
    "start_time": "2021-11-18T06:30:15.961Z"
   },
   {
    "duration": 31,
    "start_time": "2021-11-18T06:30:15.978Z"
   },
   {
    "duration": 458,
    "start_time": "2021-11-18T06:30:16.012Z"
   },
   {
    "duration": 13,
    "start_time": "2021-11-18T06:30:29.906Z"
   },
   {
    "duration": 335,
    "start_time": "2021-11-18T06:30:33.521Z"
   },
   {
    "duration": 9,
    "start_time": "2021-11-18T06:30:52.530Z"
   },
   {
    "duration": 10,
    "start_time": "2021-11-18T06:31:02.646Z"
   },
   {
    "duration": 17,
    "start_time": "2021-11-18T06:31:13.849Z"
   },
   {
    "duration": 9,
    "start_time": "2021-11-18T06:31:16.939Z"
   },
   {
    "duration": 73,
    "start_time": "2021-11-18T06:31:29.089Z"
   },
   {
    "duration": 19,
    "start_time": "2021-11-18T06:31:34.868Z"
   },
   {
    "duration": 8,
    "start_time": "2021-11-18T06:31:40.701Z"
   },
   {
    "duration": 22,
    "start_time": "2021-11-18T06:31:44.986Z"
   },
   {
    "duration": 7,
    "start_time": "2021-11-18T06:31:48.251Z"
   },
   {
    "duration": 6,
    "start_time": "2021-11-18T06:31:52.522Z"
   },
   {
    "duration": 12,
    "start_time": "2021-11-18T06:31:59.594Z"
   },
   {
    "duration": 8,
    "start_time": "2021-11-18T06:32:05.878Z"
   },
   {
    "duration": 10,
    "start_time": "2021-11-18T06:32:09.867Z"
   },
   {
    "duration": 8,
    "start_time": "2021-11-18T06:32:15.162Z"
   },
   {
    "duration": 10,
    "start_time": "2021-11-18T06:32:18.743Z"
   },
   {
    "duration": 11,
    "start_time": "2021-11-18T06:32:23.303Z"
   },
   {
    "duration": 11,
    "start_time": "2021-11-18T06:32:26.986Z"
   },
   {
    "duration": 11,
    "start_time": "2021-11-18T06:32:31.793Z"
   },
   {
    "duration": 11,
    "start_time": "2021-11-18T06:32:35.015Z"
   },
   {
    "duration": 27,
    "start_time": "2021-11-18T06:32:38.484Z"
   },
   {
    "duration": 12,
    "start_time": "2021-11-18T06:32:41.873Z"
   },
   {
    "duration": 12,
    "start_time": "2021-11-18T06:32:44.820Z"
   },
   {
    "duration": 17,
    "start_time": "2021-11-18T06:32:47.842Z"
   },
   {
    "duration": 10,
    "start_time": "2021-11-18T06:32:50.222Z"
   },
   {
    "duration": 8,
    "start_time": "2021-11-18T06:32:53.666Z"
   },
   {
    "duration": 10,
    "start_time": "2021-11-18T06:32:56.384Z"
   },
   {
    "duration": 10,
    "start_time": "2021-11-18T06:33:00.316Z"
   },
   {
    "duration": 10,
    "start_time": "2021-11-18T06:33:04.853Z"
   },
   {
    "duration": 41,
    "start_time": "2021-11-18T06:33:09.381Z"
   },
   {
    "duration": 9,
    "start_time": "2021-11-18T06:33:13.002Z"
   },
   {
    "duration": 15,
    "start_time": "2021-11-18T06:33:16.532Z"
   },
   {
    "duration": 9,
    "start_time": "2021-11-18T06:33:19.471Z"
   },
   {
    "duration": 20,
    "start_time": "2021-11-18T06:33:24.744Z"
   },
   {
    "duration": 14,
    "start_time": "2021-11-18T06:33:28.199Z"
   },
   {
    "duration": 12,
    "start_time": "2021-11-18T06:33:31.435Z"
   },
   {
    "duration": 8,
    "start_time": "2021-11-18T06:33:34.423Z"
   },
   {
    "duration": 20,
    "start_time": "2021-11-18T06:33:37.377Z"
   },
   {
    "duration": 13,
    "start_time": "2021-11-18T06:33:41.088Z"
   },
   {
    "duration": 19,
    "start_time": "2021-11-18T06:33:44.422Z"
   },
   {
    "duration": 368,
    "start_time": "2021-11-18T06:33:47.931Z"
   },
   {
    "duration": 175,
    "start_time": "2021-11-18T06:37:45.650Z"
   },
   {
    "duration": 12,
    "start_time": "2021-11-18T06:37:51.212Z"
   },
   {
    "duration": 180,
    "start_time": "2021-11-18T06:38:06.533Z"
   },
   {
    "duration": 14,
    "start_time": "2021-11-18T06:38:13.154Z"
   },
   {
    "duration": 12,
    "start_time": "2021-11-18T06:38:19.185Z"
   },
   {
    "duration": 16,
    "start_time": "2021-11-18T06:38:22.455Z"
   },
   {
    "duration": 10,
    "start_time": "2021-11-18T06:38:26.178Z"
   },
   {
    "duration": 20,
    "start_time": "2021-11-18T06:38:29.635Z"
   },
   {
    "duration": 20,
    "start_time": "2021-11-18T06:38:34.088Z"
   },
   {
    "duration": 16,
    "start_time": "2021-11-18T06:38:37.671Z"
   },
   {
    "duration": 20,
    "start_time": "2021-11-18T06:38:40.572Z"
   },
   {
    "duration": 4,
    "start_time": "2021-11-18T06:38:44.227Z"
   },
   {
    "duration": 19,
    "start_time": "2021-11-18T06:38:46.797Z"
   },
   {
    "duration": 5,
    "start_time": "2021-11-18T06:38:49.680Z"
   },
   {
    "duration": 11,
    "start_time": "2021-11-18T06:38:52.077Z"
   },
   {
    "duration": 12,
    "start_time": "2021-11-18T06:38:55.416Z"
   },
   {
    "duration": 29,
    "start_time": "2021-11-18T06:39:16.350Z"
   },
   {
    "duration": 38,
    "start_time": "2021-11-18T06:39:18.942Z"
   },
   {
    "duration": 30,
    "start_time": "2021-11-18T06:39:22.552Z"
   },
   {
    "duration": 26,
    "start_time": "2021-11-18T06:39:25.577Z"
   },
   {
    "duration": 5,
    "start_time": "2021-11-18T07:03:04.887Z"
   },
   {
    "duration": 6,
    "start_time": "2021-11-18T07:03:20.819Z"
   },
   {
    "duration": 3,
    "start_time": "2021-11-18T07:03:36.121Z"
   },
   {
    "duration": 309,
    "start_time": "2021-11-18T07:07:35.152Z"
   },
   {
    "duration": 5,
    "start_time": "2021-11-18T07:09:02.513Z"
   },
   {
    "duration": 9,
    "start_time": "2021-11-18T07:09:29.507Z"
   },
   {
    "duration": 284,
    "start_time": "2021-11-18T07:11:32.356Z"
   },
   {
    "duration": 10,
    "start_time": "2021-11-18T07:12:48.140Z"
   },
   {
    "duration": 5,
    "start_time": "2021-11-18T07:13:05.601Z"
   },
   {
    "duration": 86,
    "start_time": "2021-11-18T07:13:13.206Z"
   },
   {
    "duration": 290,
    "start_time": "2021-11-18T07:13:35.554Z"
   },
   {
    "duration": 268,
    "start_time": "2021-11-18T07:14:42.909Z"
   },
   {
    "duration": 85,
    "start_time": "2021-11-18T07:16:14.883Z"
   },
   {
    "duration": 7,
    "start_time": "2021-11-18T07:16:21.957Z"
   },
   {
    "duration": 72,
    "start_time": "2021-11-18T07:16:41.830Z"
   },
   {
    "duration": 7,
    "start_time": "2021-11-18T07:16:58.392Z"
   },
   {
    "duration": 1122,
    "start_time": "2021-11-18T07:22:15.531Z"
   },
   {
    "duration": 6,
    "start_time": "2021-11-18T08:14:31.604Z"
   },
   {
    "duration": 3565,
    "start_time": "2021-11-18T08:21:40.773Z"
   },
   {
    "duration": 20,
    "start_time": "2021-11-18T08:21:58.520Z"
   },
   {
    "duration": 20,
    "start_time": "2021-11-18T08:23:50.854Z"
   },
   {
    "duration": 8,
    "start_time": "2021-11-18T08:41:45.960Z"
   },
   {
    "duration": 5,
    "start_time": "2021-11-18T08:42:02.817Z"
   },
   {
    "duration": 5,
    "start_time": "2021-11-18T08:42:53.807Z"
   },
   {
    "duration": 3738,
    "start_time": "2021-11-18T08:43:00.921Z"
   },
   {
    "duration": 24,
    "start_time": "2021-11-18T08:43:05.964Z"
   },
   {
    "duration": 21,
    "start_time": "2021-11-18T08:43:17.822Z"
   },
   {
    "duration": 18,
    "start_time": "2021-11-18T08:43:21.413Z"
   },
   {
    "duration": 18,
    "start_time": "2021-11-18T08:44:19.747Z"
   },
   {
    "duration": 54,
    "start_time": "2021-11-18T09:18:12.690Z"
   },
   {
    "duration": 20,
    "start_time": "2021-11-18T09:18:24.865Z"
   },
   {
    "duration": 19,
    "start_time": "2021-11-18T09:19:07.966Z"
   },
   {
    "duration": 10,
    "start_time": "2021-11-18T09:24:14.013Z"
   },
   {
    "duration": 10,
    "start_time": "2021-11-18T09:25:01.404Z"
   },
   {
    "duration": 39,
    "start_time": "2021-11-18T09:32:23.694Z"
   },
   {
    "duration": 9,
    "start_time": "2021-11-18T09:34:23.730Z"
   },
   {
    "duration": 10,
    "start_time": "2021-11-18T09:34:26.459Z"
   },
   {
    "duration": 32,
    "start_time": "2021-11-18T09:35:30.495Z"
   },
   {
    "duration": 39,
    "start_time": "2021-11-18T09:36:44.162Z"
   },
   {
    "duration": 15,
    "start_time": "2021-11-18T09:37:39.791Z"
   },
   {
    "duration": 20,
    "start_time": "2021-11-18T09:37:42.771Z"
   },
   {
    "duration": 21,
    "start_time": "2021-11-18T09:38:23.554Z"
   },
   {
    "duration": 14,
    "start_time": "2021-11-18T09:38:27.390Z"
   },
   {
    "duration": 20,
    "start_time": "2021-11-18T09:38:30.290Z"
   },
   {
    "duration": 7,
    "start_time": "2021-11-18T09:38:52.061Z"
   },
   {
    "duration": 11,
    "start_time": "2021-11-18T09:38:55.726Z"
   },
   {
    "duration": 5,
    "start_time": "2021-11-18T09:39:01.771Z"
   },
   {
    "duration": 19,
    "start_time": "2021-11-18T09:39:04.251Z"
   },
   {
    "duration": 303,
    "start_time": "2021-11-18T09:39:10.196Z"
   },
   {
    "duration": 374,
    "start_time": "2021-11-18T09:39:26.493Z"
   },
   {
    "duration": 22,
    "start_time": "2021-11-18T09:39:30.039Z"
   },
   {
    "duration": 11,
    "start_time": "2021-11-18T09:39:44.671Z"
   },
   {
    "duration": 36,
    "start_time": "2021-11-18T09:40:25.087Z"
   },
   {
    "duration": 280,
    "start_time": "2021-11-18T09:41:10.965Z"
   },
   {
    "duration": 349,
    "start_time": "2021-11-18T10:01:54.128Z"
   },
   {
    "duration": 272,
    "start_time": "2021-11-18T10:02:08.151Z"
   },
   {
    "duration": 8,
    "start_time": "2021-11-18T10:02:27.347Z"
   },
   {
    "duration": 71,
    "start_time": "2021-11-18T10:03:22.692Z"
   },
   {
    "duration": 17,
    "start_time": "2021-11-18T10:03:27.056Z"
   },
   {
    "duration": 9,
    "start_time": "2021-11-18T10:03:30.048Z"
   },
   {
    "duration": 22,
    "start_time": "2021-11-18T10:03:32.175Z"
   },
   {
    "duration": 8,
    "start_time": "2021-11-18T10:03:33.293Z"
   },
   {
    "duration": 9,
    "start_time": "2021-11-18T10:03:34.163Z"
   },
   {
    "duration": 8,
    "start_time": "2021-11-18T10:03:35.280Z"
   },
   {
    "duration": 10,
    "start_time": "2021-11-18T10:03:36.323Z"
   },
   {
    "duration": 8,
    "start_time": "2021-11-18T10:03:38.026Z"
   },
   {
    "duration": 10,
    "start_time": "2021-11-18T10:03:39.247Z"
   },
   {
    "duration": 9,
    "start_time": "2021-11-18T10:03:40.305Z"
   },
   {
    "duration": 11,
    "start_time": "2021-11-18T10:03:40.996Z"
   },
   {
    "duration": 19,
    "start_time": "2021-11-18T10:03:41.666Z"
   },
   {
    "duration": 10,
    "start_time": "2021-11-18T10:03:42.801Z"
   },
   {
    "duration": 10,
    "start_time": "2021-11-18T10:03:43.690Z"
   },
   {
    "duration": 11,
    "start_time": "2021-11-18T10:03:47.025Z"
   },
   {
    "duration": 9,
    "start_time": "2021-11-18T10:03:47.588Z"
   },
   {
    "duration": 30,
    "start_time": "2021-11-18T10:03:48.413Z"
   },
   {
    "duration": 12,
    "start_time": "2021-11-18T10:03:49.021Z"
   },
   {
    "duration": 12,
    "start_time": "2021-11-18T10:03:49.612Z"
   },
   {
    "duration": 17,
    "start_time": "2021-11-18T10:03:50.301Z"
   },
   {
    "duration": 10,
    "start_time": "2021-11-18T10:03:50.909Z"
   },
   {
    "duration": 9,
    "start_time": "2021-11-18T10:03:51.472Z"
   },
   {
    "duration": 10,
    "start_time": "2021-11-18T10:03:52.447Z"
   },
   {
    "duration": 11,
    "start_time": "2021-11-18T10:03:53.460Z"
   },
   {
    "duration": 11,
    "start_time": "2021-11-18T10:03:54.457Z"
   },
   {
    "duration": 41,
    "start_time": "2021-11-18T10:03:55.011Z"
   },
   {
    "duration": 8,
    "start_time": "2021-11-18T10:03:55.502Z"
   },
   {
    "duration": 15,
    "start_time": "2021-11-18T10:03:56.606Z"
   },
   {
    "duration": 9,
    "start_time": "2021-11-18T10:03:58.036Z"
   },
   {
    "duration": 29,
    "start_time": "2021-11-18T10:04:00.394Z"
   },
   {
    "duration": 19,
    "start_time": "2021-11-18T10:04:02.012Z"
   },
   {
    "duration": 15,
    "start_time": "2021-11-18T10:04:02.688Z"
   },
   {
    "duration": 8,
    "start_time": "2021-11-18T10:04:04.254Z"
   },
   {
    "duration": 20,
    "start_time": "2021-11-18T10:04:06.814Z"
   },
   {
    "duration": 14,
    "start_time": "2021-11-18T10:04:08.644Z"
   },
   {
    "duration": 19,
    "start_time": "2021-11-18T10:04:09.770Z"
   },
   {
    "duration": 183,
    "start_time": "2021-11-18T10:04:12.008Z"
   },
   {
    "duration": 13,
    "start_time": "2021-11-18T10:04:13.803Z"
   },
   {
    "duration": 179,
    "start_time": "2021-11-18T10:04:15.519Z"
   },
   {
    "duration": 15,
    "start_time": "2021-11-18T10:04:17.184Z"
   },
   {
    "duration": 12,
    "start_time": "2021-11-18T10:04:19.576Z"
   },
   {
    "duration": 15,
    "start_time": "2021-11-18T10:04:20.165Z"
   },
   {
    "duration": 14,
    "start_time": "2021-11-18T10:04:21.180Z"
   },
   {
    "duration": 30,
    "start_time": "2021-11-18T10:04:21.631Z"
   },
   {
    "duration": 30,
    "start_time": "2021-11-18T10:04:22.710Z"
   },
   {
    "duration": 24,
    "start_time": "2021-11-18T10:04:23.269Z"
   },
   {
    "duration": 31,
    "start_time": "2021-11-18T10:04:23.773Z"
   },
   {
    "duration": 6,
    "start_time": "2021-11-18T10:04:24.238Z"
   },
   {
    "duration": 30,
    "start_time": "2021-11-18T10:04:25.013Z"
   },
   {
    "duration": 6,
    "start_time": "2021-11-18T10:04:30.625Z"
   },
   {
    "duration": 14,
    "start_time": "2021-11-18T10:04:38.511Z"
   },
   {
    "duration": 11,
    "start_time": "2021-11-18T10:04:43.907Z"
   },
   {
    "duration": 7,
    "start_time": "2021-11-18T10:04:45.066Z"
   },
   {
    "duration": 29,
    "start_time": "2021-11-18T10:04:53.878Z"
   },
   {
    "duration": 37,
    "start_time": "2021-11-18T10:04:55.366Z"
   },
   {
    "duration": 29,
    "start_time": "2021-11-18T10:04:59.689Z"
   },
   {
    "duration": 27,
    "start_time": "2021-11-18T10:05:00.203Z"
   },
   {
    "duration": 9,
    "start_time": "2021-11-18T10:05:04.447Z"
   },
   {
    "duration": 30,
    "start_time": "2021-11-18T10:05:11.496Z"
   },
   {
    "duration": 1024,
    "start_time": "2021-11-18T10:05:15.316Z"
   },
   {
    "duration": 7,
    "start_time": "2021-11-18T10:05:23.500Z"
   },
   {
    "duration": 3789,
    "start_time": "2021-11-18T10:05:24.595Z"
   },
   {
    "duration": 20,
    "start_time": "2021-11-18T10:05:28.386Z"
   },
   {
    "duration": 57,
    "start_time": "2021-11-18T10:05:36.829Z"
   },
   {
    "duration": 51,
    "start_time": "2021-11-18T10:05:52.575Z"
   },
   {
    "duration": 30,
    "start_time": "2021-11-18T10:05:53.773Z"
   },
   {
    "duration": 11,
    "start_time": "2021-11-18T10:05:57.971Z"
   },
   {
    "duration": 10,
    "start_time": "2021-11-18T10:06:00.372Z"
   },
   {
    "duration": 41,
    "start_time": "2021-11-18T10:06:04.042Z"
   },
   {
    "duration": 31,
    "start_time": "2021-11-18T10:06:06.941Z"
   },
   {
    "duration": 8,
    "start_time": "2021-11-18T10:06:13.921Z"
   },
   {
    "duration": 309,
    "start_time": "2021-11-18T10:07:35.646Z"
   },
   {
    "duration": 9,
    "start_time": "2021-11-18T10:07:53.493Z"
   },
   {
    "duration": 283,
    "start_time": "2021-11-18T10:12:54.078Z"
   },
   {
    "duration": 35,
    "start_time": "2021-11-18T10:13:04.881Z"
   },
   {
    "duration": 10,
    "start_time": "2021-11-18T10:18:49.982Z"
   },
   {
    "duration": 33,
    "start_time": "2021-11-18T10:19:25.737Z"
   },
   {
    "duration": 17,
    "start_time": "2021-11-18T10:27:58.840Z"
   },
   {
    "duration": 14,
    "start_time": "2021-11-18T10:28:38.078Z"
   },
   {
    "duration": 34,
    "start_time": "2021-11-18T10:29:27.648Z"
   },
   {
    "duration": 34,
    "start_time": "2021-11-18T10:34:05.198Z"
   },
   {
    "duration": 11,
    "start_time": "2021-11-18T10:41:13.572Z"
   },
   {
    "duration": 10,
    "start_time": "2021-11-18T10:41:57.570Z"
   },
   {
    "duration": 11,
    "start_time": "2021-11-18T10:42:31.099Z"
   },
   {
    "duration": 33,
    "start_time": "2021-11-18T10:44:18.171Z"
   },
   {
    "duration": 31,
    "start_time": "2021-11-18T10:45:43.260Z"
   },
   {
    "duration": 854,
    "start_time": "2021-11-18T15:37:31.295Z"
   },
   {
    "duration": 35,
    "start_time": "2021-11-18T15:37:32.151Z"
   },
   {
    "duration": 8,
    "start_time": "2021-11-18T15:37:32.189Z"
   },
   {
    "duration": 30,
    "start_time": "2021-11-18T15:37:32.199Z"
   },
   {
    "duration": 33,
    "start_time": "2021-11-18T15:37:32.232Z"
   },
   {
    "duration": 18,
    "start_time": "2021-11-18T15:37:32.268Z"
   },
   {
    "duration": 8,
    "start_time": "2021-11-18T15:37:32.289Z"
   },
   {
    "duration": 17,
    "start_time": "2021-11-18T15:37:32.303Z"
   },
   {
    "duration": 41,
    "start_time": "2021-11-18T15:37:32.324Z"
   },
   {
    "duration": 13,
    "start_time": "2021-11-18T15:37:32.369Z"
   },
   {
    "duration": 10,
    "start_time": "2021-11-18T15:37:32.385Z"
   },
   {
    "duration": 15,
    "start_time": "2021-11-18T15:37:32.398Z"
   },
   {
    "duration": 58,
    "start_time": "2021-11-18T15:37:32.415Z"
   },
   {
    "duration": 17,
    "start_time": "2021-11-18T15:37:32.476Z"
   },
   {
    "duration": 13,
    "start_time": "2021-11-18T15:37:32.496Z"
   },
   {
    "duration": 21,
    "start_time": "2021-11-18T15:37:32.511Z"
   },
   {
    "duration": 33,
    "start_time": "2021-11-18T15:37:32.535Z"
   },
   {
    "duration": 34,
    "start_time": "2021-11-18T15:37:32.571Z"
   },
   {
    "duration": 16,
    "start_time": "2021-11-18T15:37:32.607Z"
   },
   {
    "duration": 40,
    "start_time": "2021-11-18T15:37:32.625Z"
   },
   {
    "duration": 28,
    "start_time": "2021-11-18T15:37:32.668Z"
   },
   {
    "duration": 10,
    "start_time": "2021-11-18T15:37:32.699Z"
   },
   {
    "duration": 9,
    "start_time": "2021-11-18T15:37:32.716Z"
   },
   {
    "duration": 40,
    "start_time": "2021-11-18T15:37:32.729Z"
   },
   {
    "duration": 27,
    "start_time": "2021-11-18T15:37:32.772Z"
   },
   {
    "duration": 18,
    "start_time": "2021-11-18T15:37:32.802Z"
   },
   {
    "duration": 63,
    "start_time": "2021-11-18T15:37:32.823Z"
   },
   {
    "duration": 8,
    "start_time": "2021-11-18T15:37:32.888Z"
   },
   {
    "duration": 23,
    "start_time": "2021-11-18T15:37:32.899Z"
   },
   {
    "duration": 10,
    "start_time": "2021-11-18T15:37:32.925Z"
   },
   {
    "duration": 41,
    "start_time": "2021-11-18T15:37:32.938Z"
   },
   {
    "duration": 14,
    "start_time": "2021-11-18T15:37:32.981Z"
   },
   {
    "duration": 11,
    "start_time": "2021-11-18T15:37:32.998Z"
   },
   {
    "duration": 15,
    "start_time": "2021-11-18T15:37:33.011Z"
   },
   {
    "duration": 26,
    "start_time": "2021-11-18T15:37:33.063Z"
   },
   {
    "duration": 11,
    "start_time": "2021-11-18T15:37:33.092Z"
   },
   {
    "duration": 19,
    "start_time": "2021-11-18T15:37:33.105Z"
   },
   {
    "duration": 207,
    "start_time": "2021-11-18T15:37:33.126Z"
   },
   {
    "duration": 11,
    "start_time": "2021-11-18T15:37:33.336Z"
   },
   {
    "duration": 193,
    "start_time": "2021-11-18T15:37:33.359Z"
   },
   {
    "duration": 24,
    "start_time": "2021-11-18T15:37:33.555Z"
   },
   {
    "duration": 12,
    "start_time": "2021-11-18T15:37:33.582Z"
   },
   {
    "duration": 16,
    "start_time": "2021-11-18T15:37:33.597Z"
   },
   {
    "duration": 9,
    "start_time": "2021-11-18T15:37:33.616Z"
   },
   {
    "duration": 55,
    "start_time": "2021-11-18T15:37:33.627Z"
   },
   {
    "duration": 19,
    "start_time": "2021-11-18T15:37:33.685Z"
   },
   {
    "duration": 21,
    "start_time": "2021-11-18T15:37:33.707Z"
   },
   {
    "duration": 52,
    "start_time": "2021-11-18T15:37:33.730Z"
   },
   {
    "duration": 9,
    "start_time": "2021-11-18T15:37:33.784Z"
   },
   {
    "duration": 33,
    "start_time": "2021-11-18T15:37:33.795Z"
   },
   {
    "duration": 5,
    "start_time": "2021-11-18T15:37:33.830Z"
   },
   {
    "duration": 31,
    "start_time": "2021-11-18T15:37:33.837Z"
   },
   {
    "duration": 15,
    "start_time": "2021-11-18T15:37:33.871Z"
   },
   {
    "duration": 7,
    "start_time": "2021-11-18T15:37:33.895Z"
   },
   {
    "duration": 58,
    "start_time": "2021-11-18T15:37:33.904Z"
   },
   {
    "duration": 38,
    "start_time": "2021-11-18T15:37:33.966Z"
   },
   {
    "duration": 28,
    "start_time": "2021-11-18T15:37:34.006Z"
   },
   {
    "duration": 30,
    "start_time": "2021-11-18T15:37:34.060Z"
   },
   {
    "duration": 8,
    "start_time": "2021-11-18T15:37:34.092Z"
   },
   {
    "duration": 9,
    "start_time": "2021-11-18T15:37:34.103Z"
   },
   {
    "duration": 995,
    "start_time": "2021-11-18T15:37:34.114Z"
   },
   {
    "duration": 5,
    "start_time": "2021-11-18T15:37:35.112Z"
   },
   {
    "duration": 4317,
    "start_time": "2021-11-18T15:37:35.120Z"
   },
   {
    "duration": 47,
    "start_time": "2021-11-18T15:37:39.440Z"
   },
   {
    "duration": 50,
    "start_time": "2021-11-18T15:37:39.489Z"
   },
   {
    "duration": 33,
    "start_time": "2021-11-18T15:37:39.541Z"
   },
   {
    "duration": 13,
    "start_time": "2021-11-18T15:37:39.577Z"
   },
   {
    "duration": 12,
    "start_time": "2021-11-18T15:37:39.600Z"
   },
   {
    "duration": 79,
    "start_time": "2021-11-18T15:37:39.615Z"
   },
   {
    "duration": 34,
    "start_time": "2021-11-18T15:37:39.697Z"
   },
   {
    "duration": 38,
    "start_time": "2021-11-18T15:37:39.733Z"
   },
   {
    "duration": 37,
    "start_time": "2021-11-18T15:37:39.774Z"
   },
   {
    "duration": 10,
    "start_time": "2021-11-18T15:37:39.813Z"
   },
   {
    "duration": 70,
    "start_time": "2021-11-18T15:37:39.825Z"
   },
   {
    "duration": 9,
    "start_time": "2021-11-18T15:37:39.897Z"
   },
   {
    "duration": 64,
    "start_time": "2021-11-18T15:37:39.909Z"
   },
   {
    "duration": 32,
    "start_time": "2021-11-18T15:37:39.975Z"
   },
   {
    "duration": 10,
    "start_time": "2021-11-18T15:37:40.010Z"
   },
   {
    "duration": 90,
    "start_time": "2021-11-18T15:37:40.022Z"
   },
   {
    "duration": 32,
    "start_time": "2021-11-18T15:37:40.115Z"
   },
   {
    "duration": 7,
    "start_time": "2021-11-18T15:38:34.941Z"
   },
   {
    "duration": 91,
    "start_time": "2021-11-18T15:38:38.878Z"
   },
   {
    "duration": 17,
    "start_time": "2021-11-18T15:38:38.973Z"
   },
   {
    "duration": 9,
    "start_time": "2021-11-18T15:38:38.993Z"
   },
   {
    "duration": 76,
    "start_time": "2021-11-18T15:38:39.005Z"
   },
   {
    "duration": 7,
    "start_time": "2021-11-18T15:38:39.083Z"
   },
   {
    "duration": 9,
    "start_time": "2021-11-18T15:38:39.093Z"
   },
   {
    "duration": 9,
    "start_time": "2021-11-18T15:38:39.104Z"
   },
   {
    "duration": 54,
    "start_time": "2021-11-18T15:38:39.116Z"
   },
   {
    "duration": 14,
    "start_time": "2021-11-18T15:38:39.174Z"
   },
   {
    "duration": 15,
    "start_time": "2021-11-18T15:38:39.191Z"
   },
   {
    "duration": 10,
    "start_time": "2021-11-18T15:38:39.208Z"
   },
   {
    "duration": 11,
    "start_time": "2021-11-18T15:38:39.220Z"
   },
   {
    "duration": 45,
    "start_time": "2021-11-18T15:38:39.233Z"
   },
   {
    "duration": 19,
    "start_time": "2021-11-18T15:38:39.280Z"
   },
   {
    "duration": 15,
    "start_time": "2021-11-18T15:38:39.302Z"
   },
   {
    "duration": 21,
    "start_time": "2021-11-18T15:38:39.319Z"
   },
   {
    "duration": 28,
    "start_time": "2021-11-18T15:38:39.343Z"
   },
   {
    "duration": 9,
    "start_time": "2021-11-18T15:38:39.375Z"
   },
   {
    "duration": 30,
    "start_time": "2021-11-18T15:38:39.386Z"
   },
   {
    "duration": 11,
    "start_time": "2021-11-18T15:38:39.418Z"
   },
   {
    "duration": 47,
    "start_time": "2021-11-18T15:38:39.431Z"
   },
   {
    "duration": 18,
    "start_time": "2021-11-18T15:38:39.481Z"
   },
   {
    "duration": 9,
    "start_time": "2021-11-18T15:38:39.506Z"
   },
   {
    "duration": 53,
    "start_time": "2021-11-18T15:38:39.519Z"
   },
   {
    "duration": 11,
    "start_time": "2021-11-18T15:38:39.575Z"
   },
   {
    "duration": 12,
    "start_time": "2021-11-18T15:38:39.588Z"
   },
   {
    "duration": 14,
    "start_time": "2021-11-18T15:38:39.602Z"
   },
   {
    "duration": 81,
    "start_time": "2021-11-18T15:38:39.619Z"
   },
   {
    "duration": 9,
    "start_time": "2021-11-18T15:38:39.702Z"
   },
   {
    "duration": 25,
    "start_time": "2021-11-18T15:38:39.714Z"
   },
   {
    "duration": 19,
    "start_time": "2021-11-18T15:38:39.742Z"
   },
   {
    "duration": 19,
    "start_time": "2021-11-18T15:38:39.771Z"
   },
   {
    "duration": 12,
    "start_time": "2021-11-18T15:38:39.793Z"
   },
   {
    "duration": 20,
    "start_time": "2021-11-18T15:38:39.808Z"
   },
   {
    "duration": 12,
    "start_time": "2021-11-18T15:38:39.859Z"
   },
   {
    "duration": 32,
    "start_time": "2021-11-18T15:38:39.874Z"
   },
   {
    "duration": 17,
    "start_time": "2021-11-18T15:38:39.909Z"
   },
   {
    "duration": 47,
    "start_time": "2021-11-18T15:38:39.928Z"
   },
   {
    "duration": 207,
    "start_time": "2021-11-18T15:38:39.978Z"
   },
   {
    "duration": 11,
    "start_time": "2021-11-18T15:38:40.187Z"
   },
   {
    "duration": 215,
    "start_time": "2021-11-18T15:38:40.200Z"
   },
   {
    "duration": 13,
    "start_time": "2021-11-18T15:38:40.418Z"
   },
   {
    "duration": 34,
    "start_time": "2021-11-18T15:38:40.433Z"
   },
   {
    "duration": 11,
    "start_time": "2021-11-18T15:38:40.470Z"
   },
   {
    "duration": 9,
    "start_time": "2021-11-18T15:38:40.484Z"
   },
   {
    "duration": 24,
    "start_time": "2021-11-18T15:38:40.496Z"
   },
   {
    "duration": 61,
    "start_time": "2021-11-18T15:38:40.523Z"
   },
   {
    "duration": 16,
    "start_time": "2021-11-18T15:38:40.587Z"
   },
   {
    "duration": 26,
    "start_time": "2021-11-18T15:38:40.605Z"
   },
   {
    "duration": 29,
    "start_time": "2021-11-18T15:38:40.634Z"
   },
   {
    "duration": 21,
    "start_time": "2021-11-18T15:38:40.667Z"
   },
   {
    "duration": 4,
    "start_time": "2021-11-18T15:38:40.690Z"
   },
   {
    "duration": 13,
    "start_time": "2021-11-18T15:38:40.696Z"
   },
   {
    "duration": 11,
    "start_time": "2021-11-18T15:38:40.711Z"
   },
   {
    "duration": 10,
    "start_time": "2021-11-18T15:38:40.764Z"
   },
   {
    "duration": 31,
    "start_time": "2021-11-18T15:38:40.777Z"
   },
   {
    "duration": 73,
    "start_time": "2021-11-18T15:38:40.811Z"
   },
   {
    "duration": 27,
    "start_time": "2021-11-18T15:38:40.887Z"
   },
   {
    "duration": 47,
    "start_time": "2021-11-18T15:38:40.917Z"
   },
   {
    "duration": 9,
    "start_time": "2021-11-18T15:38:40.968Z"
   },
   {
    "duration": 32,
    "start_time": "2021-11-18T15:38:40.980Z"
   },
   {
    "duration": 1044,
    "start_time": "2021-11-18T15:38:41.015Z"
   },
   {
    "duration": 7,
    "start_time": "2021-11-18T15:38:42.069Z"
   },
   {
    "duration": 4680,
    "start_time": "2021-11-18T15:38:42.079Z"
   },
   {
    "duration": 29,
    "start_time": "2021-11-18T15:38:46.768Z"
   },
   {
    "duration": 76,
    "start_time": "2021-11-18T15:38:46.800Z"
   },
   {
    "duration": 22,
    "start_time": "2021-11-18T15:38:46.880Z"
   },
   {
    "duration": 10,
    "start_time": "2021-11-18T15:38:46.909Z"
   },
   {
    "duration": 44,
    "start_time": "2021-11-18T15:38:46.921Z"
   },
   {
    "duration": 48,
    "start_time": "2021-11-18T15:38:46.968Z"
   },
   {
    "duration": 47,
    "start_time": "2021-11-18T15:38:47.018Z"
   },
   {
    "duration": 11,
    "start_time": "2021-11-18T15:38:47.068Z"
   },
   {
    "duration": 34,
    "start_time": "2021-11-18T15:38:47.082Z"
   },
   {
    "duration": 51,
    "start_time": "2021-11-18T15:38:47.119Z"
   },
   {
    "duration": 35,
    "start_time": "2021-11-18T15:38:47.173Z"
   },
   {
    "duration": 9,
    "start_time": "2021-11-18T15:38:47.211Z"
   },
   {
    "duration": 73,
    "start_time": "2021-11-18T15:38:47.222Z"
   },
   {
    "duration": 31,
    "start_time": "2021-11-18T15:38:47.297Z"
   },
   {
    "duration": 35,
    "start_time": "2021-11-18T15:38:47.330Z"
   },
   {
    "duration": 35,
    "start_time": "2021-11-18T15:38:47.368Z"
   },
   {
    "duration": 72,
    "start_time": "2021-11-18T15:38:47.406Z"
   },
   {
    "duration": 112,
    "start_time": "2021-11-18T15:59:00.093Z"
   },
   {
    "duration": 10,
    "start_time": "2021-11-18T16:00:45.284Z"
   },
   {
    "duration": 344,
    "start_time": "2021-11-18T17:48:26.336Z"
   },
   {
    "duration": 1081,
    "start_time": "2021-11-18T17:48:35.989Z"
   },
   {
    "duration": 16,
    "start_time": "2021-11-18T17:48:46.482Z"
   },
   {
    "duration": 10,
    "start_time": "2021-11-18T18:01:11.821Z"
   },
   {
    "duration": 7,
    "start_time": "2021-11-18T18:01:20.346Z"
   },
   {
    "duration": 8,
    "start_time": "2021-11-18T18:01:36.536Z"
   },
   {
    "duration": 7,
    "start_time": "2021-11-18T20:05:17.015Z"
   },
   {
    "duration": 8,
    "start_time": "2021-11-18T20:09:06.584Z"
   },
   {
    "duration": 22,
    "start_time": "2021-11-18T20:09:13.580Z"
   },
   {
    "duration": 8,
    "start_time": "2021-11-18T20:09:17.272Z"
   },
   {
    "duration": 18,
    "start_time": "2021-11-18T20:09:23.098Z"
   },
   {
    "duration": 72,
    "start_time": "2021-11-18T20:09:34.381Z"
   },
   {
    "duration": 8,
    "start_time": "2021-11-18T20:09:43.084Z"
   },
   {
    "duration": 10,
    "start_time": "2021-11-18T20:09:44.156Z"
   },
   {
    "duration": 8,
    "start_time": "2021-11-18T20:09:47.283Z"
   },
   {
    "duration": 10,
    "start_time": "2021-11-18T20:09:49.991Z"
   },
   {
    "duration": 18,
    "start_time": "2021-11-18T20:09:52.947Z"
   },
   {
    "duration": 10,
    "start_time": "2021-11-18T20:09:55.414Z"
   },
   {
    "duration": 10,
    "start_time": "2021-11-18T20:09:58.207Z"
   },
   {
    "duration": 11,
    "start_time": "2021-11-18T20:10:33.708Z"
   },
   {
    "duration": 9,
    "start_time": "2021-11-18T20:10:34.670Z"
   },
   {
    "duration": 32,
    "start_time": "2021-11-18T20:10:36.215Z"
   },
   {
    "duration": 12,
    "start_time": "2021-11-18T20:10:38.018Z"
   },
   {
    "duration": 12,
    "start_time": "2021-11-18T20:10:39.946Z"
   },
   {
    "duration": 15,
    "start_time": "2021-11-18T20:10:41.696Z"
   },
   {
    "duration": 9,
    "start_time": "2021-11-18T20:10:43.085Z"
   },
   {
    "duration": 9,
    "start_time": "2021-11-18T20:10:44.426Z"
   },
   {
    "duration": 9,
    "start_time": "2021-11-18T20:10:46.296Z"
   },
   {
    "duration": 11,
    "start_time": "2021-11-18T20:10:48.692Z"
   },
   {
    "duration": 12,
    "start_time": "2021-11-18T20:10:51.414Z"
   },
   {
    "duration": 40,
    "start_time": "2021-11-18T20:10:53.912Z"
   },
   {
    "duration": 19,
    "start_time": "2021-11-18T20:24:48.342Z"
   },
   {
    "duration": 19,
    "start_time": "2021-11-18T20:24:52.831Z"
   },
   {
    "duration": 7,
    "start_time": "2021-11-18T20:25:14.870Z"
   },
   {
    "duration": 6,
    "start_time": "2021-11-18T20:25:36.739Z"
   },
   {
    "duration": 24,
    "start_time": "2021-11-18T20:34:01.528Z"
   },
   {
    "duration": 40,
    "start_time": "2021-11-18T20:40:14.939Z"
   },
   {
    "duration": 20,
    "start_time": "2021-11-18T20:40:18.157Z"
   },
   {
    "duration": 353,
    "start_time": "2021-11-18T20:43:17.761Z"
   },
   {
    "duration": 26,
    "start_time": "2021-11-18T20:43:28.897Z"
   },
   {
    "duration": 93,
    "start_time": "2021-11-18T20:44:58.258Z"
   },
   {
    "duration": 113,
    "start_time": "2021-11-18T20:45:04.734Z"
   },
   {
    "duration": 103,
    "start_time": "2021-11-18T20:45:19.104Z"
   },
   {
    "duration": 113,
    "start_time": "2021-11-18T20:45:55.424Z"
   },
   {
    "duration": 108,
    "start_time": "2021-11-18T20:46:08.302Z"
   },
   {
    "duration": 118,
    "start_time": "2021-11-18T20:46:13.945Z"
   },
   {
    "duration": 113,
    "start_time": "2021-11-18T20:47:06.139Z"
   },
   {
    "duration": 19,
    "start_time": "2021-11-18T20:47:13.601Z"
   },
   {
    "duration": 6,
    "start_time": "2021-11-18T20:47:14.952Z"
   },
   {
    "duration": 122,
    "start_time": "2021-11-18T20:47:26.846Z"
   },
   {
    "duration": 95,
    "start_time": "2021-11-18T20:47:43.180Z"
   },
   {
    "duration": 13,
    "start_time": "2021-11-18T20:48:56.499Z"
   },
   {
    "duration": 14,
    "start_time": "2021-11-18T20:49:21.200Z"
   },
   {
    "duration": 303,
    "start_time": "2021-11-18T21:20:03.978Z"
   },
   {
    "duration": 311,
    "start_time": "2021-11-18T21:20:08.503Z"
   },
   {
    "duration": 8,
    "start_time": "2021-11-18T21:20:47.776Z"
   },
   {
    "duration": 8,
    "start_time": "2021-11-18T21:20:51.037Z"
   },
   {
    "duration": 933,
    "start_time": "2021-11-18T21:20:52.019Z"
   },
   {
    "duration": 5,
    "start_time": "2021-11-18T21:20:52.956Z"
   },
   {
    "duration": 1178,
    "start_time": "2021-11-18T22:23:22.319Z"
   },
   {
    "duration": 67739,
    "start_time": "2021-11-18T22:23:58.558Z"
   },
   {
    "duration": 98,
    "start_time": "2021-11-18T22:26:20.746Z"
   },
   {
    "duration": 53,
    "start_time": "2021-11-18T22:26:28.632Z"
   },
   {
    "duration": 55,
    "start_time": "2021-11-18T22:27:05.082Z"
   },
   {
    "duration": 351,
    "start_time": "2021-11-18T22:28:45.124Z"
   },
   {
    "duration": 317,
    "start_time": "2021-11-18T22:29:12.520Z"
   },
   {
    "duration": 489,
    "start_time": "2021-11-18T22:32:44.790Z"
   },
   {
    "duration": 58,
    "start_time": "2021-11-18T22:33:09.734Z"
   },
   {
    "duration": 285,
    "start_time": "2021-11-19T17:26:31.945Z"
   },
   {
    "duration": 78,
    "start_time": "2021-11-19T17:26:36.743Z"
   },
   {
    "duration": 227,
    "start_time": "2021-11-19T17:26:41.496Z"
   },
   {
    "duration": 3,
    "start_time": "2021-11-19T17:27:19.669Z"
   },
   {
    "duration": 4,
    "start_time": "2021-11-19T17:27:45.986Z"
   },
   {
    "duration": 231,
    "start_time": "2021-11-19T17:34:09.882Z"
   },
   {
    "duration": 222,
    "start_time": "2021-11-19T17:34:11.847Z"
   },
   {
    "duration": 1177,
    "start_time": "2021-11-19T17:34:14.696Z"
   },
   {
    "duration": 15,
    "start_time": "2021-11-19T17:34:15.875Z"
   },
   {
    "duration": 4,
    "start_time": "2021-11-19T17:34:15.892Z"
   },
   {
    "duration": 13,
    "start_time": "2021-11-19T17:34:15.897Z"
   },
   {
    "duration": 6,
    "start_time": "2021-11-19T17:34:15.911Z"
   },
   {
    "duration": 6,
    "start_time": "2021-11-19T17:34:15.918Z"
   },
   {
    "duration": 4,
    "start_time": "2021-11-19T17:34:15.926Z"
   },
   {
    "duration": 7,
    "start_time": "2021-11-19T17:34:15.933Z"
   },
   {
    "duration": 6,
    "start_time": "2021-11-19T17:34:15.942Z"
   },
   {
    "duration": 39,
    "start_time": "2021-11-19T17:34:15.949Z"
   },
   {
    "duration": 5,
    "start_time": "2021-11-19T17:34:15.989Z"
   },
   {
    "duration": 17,
    "start_time": "2021-11-19T17:34:15.995Z"
   },
   {
    "duration": 22,
    "start_time": "2021-11-19T17:34:16.013Z"
   },
   {
    "duration": 19,
    "start_time": "2021-11-19T17:34:16.036Z"
   },
   {
    "duration": 12,
    "start_time": "2021-11-19T17:34:16.057Z"
   },
   {
    "duration": 15,
    "start_time": "2021-11-19T17:34:16.071Z"
   },
   {
    "duration": 15,
    "start_time": "2021-11-19T17:34:16.087Z"
   },
   {
    "duration": 30,
    "start_time": "2021-11-19T17:34:16.103Z"
   },
   {
    "duration": 10,
    "start_time": "2021-11-19T17:34:16.134Z"
   },
   {
    "duration": 28,
    "start_time": "2021-11-19T17:34:16.145Z"
   },
   {
    "duration": 20,
    "start_time": "2021-11-19T17:34:16.175Z"
   },
   {
    "duration": 22,
    "start_time": "2021-11-19T17:34:16.197Z"
   },
   {
    "duration": 16,
    "start_time": "2021-11-19T17:34:16.223Z"
   },
   {
    "duration": 19,
    "start_time": "2021-11-19T17:34:16.242Z"
   },
   {
    "duration": 10,
    "start_time": "2021-11-19T17:34:16.263Z"
   },
   {
    "duration": 7,
    "start_time": "2021-11-19T17:34:16.274Z"
   },
   {
    "duration": 10,
    "start_time": "2021-11-19T17:34:16.282Z"
   },
   {
    "duration": 4,
    "start_time": "2021-11-19T17:34:16.294Z"
   },
   {
    "duration": 6,
    "start_time": "2021-11-19T17:34:16.299Z"
   },
   {
    "duration": 8,
    "start_time": "2021-11-19T17:34:16.307Z"
   },
   {
    "duration": 11,
    "start_time": "2021-11-19T17:34:16.316Z"
   },
   {
    "duration": 12,
    "start_time": "2021-11-19T17:34:16.329Z"
   },
   {
    "duration": 7,
    "start_time": "2021-11-19T17:34:16.343Z"
   },
   {
    "duration": 6,
    "start_time": "2021-11-19T17:34:16.351Z"
   },
   {
    "duration": 34,
    "start_time": "2021-11-19T17:34:16.358Z"
   },
   {
    "duration": 15,
    "start_time": "2021-11-19T17:34:16.393Z"
   },
   {
    "duration": 8,
    "start_time": "2021-11-19T17:34:16.409Z"
   },
   {
    "duration": 13,
    "start_time": "2021-11-19T17:34:16.418Z"
   },
   {
    "duration": 12,
    "start_time": "2021-11-19T17:34:16.433Z"
   },
   {
    "duration": 3,
    "start_time": "2021-11-19T17:34:16.447Z"
   },
   {
    "duration": 38,
    "start_time": "2021-11-19T17:34:16.452Z"
   },
   {
    "duration": 129,
    "start_time": "2021-11-19T17:34:16.491Z"
   },
   {
    "duration": 11,
    "start_time": "2021-11-19T17:34:16.621Z"
   },
   {
    "duration": 7,
    "start_time": "2021-11-19T17:34:16.634Z"
   },
   {
    "duration": 8,
    "start_time": "2021-11-19T17:34:16.643Z"
   },
   {
    "duration": 6,
    "start_time": "2021-11-19T17:34:16.653Z"
   },
   {
    "duration": 11,
    "start_time": "2021-11-19T17:34:16.688Z"
   },
   {
    "duration": 13,
    "start_time": "2021-11-19T17:34:16.700Z"
   },
   {
    "duration": 10,
    "start_time": "2021-11-19T17:34:16.714Z"
   },
   {
    "duration": 10,
    "start_time": "2021-11-19T17:34:16.725Z"
   },
   {
    "duration": 4,
    "start_time": "2021-11-19T17:34:16.737Z"
   },
   {
    "duration": 14,
    "start_time": "2021-11-19T17:34:16.743Z"
   },
   {
    "duration": 3,
    "start_time": "2021-11-19T17:34:16.758Z"
   },
   {
    "duration": 31,
    "start_time": "2021-11-19T17:34:16.762Z"
   },
   {
    "duration": 7,
    "start_time": "2021-11-19T17:34:16.794Z"
   },
   {
    "duration": 4,
    "start_time": "2021-11-19T17:34:16.802Z"
   },
   {
    "duration": 18,
    "start_time": "2021-11-19T17:34:16.808Z"
   },
   {
    "duration": 20,
    "start_time": "2021-11-19T17:34:16.828Z"
   },
   {
    "duration": 47,
    "start_time": "2021-11-19T17:34:16.849Z"
   },
   {
    "duration": 14,
    "start_time": "2021-11-19T17:34:16.898Z"
   },
   {
    "duration": 6,
    "start_time": "2021-11-19T17:34:16.913Z"
   },
   {
    "duration": 5,
    "start_time": "2021-11-19T17:34:16.920Z"
   },
   {
    "duration": 619,
    "start_time": "2021-11-19T17:34:16.927Z"
   },
   {
    "duration": 3,
    "start_time": "2021-11-19T17:34:17.548Z"
   },
   {
    "duration": 8,
    "start_time": "2021-11-19T17:34:17.552Z"
   },
   {
    "duration": 2536,
    "start_time": "2021-11-19T17:34:17.561Z"
   },
   {
    "duration": 2544,
    "start_time": "2021-11-19T17:34:20.098Z"
   },
   {
    "duration": 13,
    "start_time": "2021-11-19T17:34:22.648Z"
   },
   {
    "duration": 47,
    "start_time": "2021-11-19T17:34:22.663Z"
   },
   {
    "duration": 13,
    "start_time": "2021-11-19T17:34:22.712Z"
   },
   {
    "duration": 7,
    "start_time": "2021-11-19T17:34:22.726Z"
   },
   {
    "duration": 8,
    "start_time": "2021-11-19T17:34:22.734Z"
   },
   {
    "duration": 14,
    "start_time": "2021-11-19T17:34:22.743Z"
   },
   {
    "duration": 41,
    "start_time": "2021-11-19T17:34:22.758Z"
   },
   {
    "duration": 18,
    "start_time": "2021-11-19T17:34:22.801Z"
   },
   {
    "duration": 6,
    "start_time": "2021-11-19T17:34:22.820Z"
   },
   {
    "duration": 19,
    "start_time": "2021-11-19T17:34:22.827Z"
   },
   {
    "duration": 1337,
    "start_time": "2021-11-19T17:34:22.847Z"
   },
   {
    "duration": 9,
    "start_time": "2021-11-19T17:34:24.185Z"
   },
   {
    "duration": 33,
    "start_time": "2021-11-19T17:34:24.195Z"
   },
   {
    "duration": 6,
    "start_time": "2021-11-19T17:34:24.229Z"
   },
   {
    "duration": 53,
    "start_time": "2021-11-19T17:34:24.236Z"
   },
   {
    "duration": 18,
    "start_time": "2021-11-19T17:34:24.291Z"
   },
   {
    "duration": 6,
    "start_time": "2021-11-19T17:34:24.310Z"
   },
   {
    "duration": 19,
    "start_time": "2021-11-19T17:34:24.317Z"
   },
   {
    "duration": 20,
    "start_time": "2021-11-19T17:34:24.338Z"
   },
   {
    "duration": 6,
    "start_time": "2021-11-19T17:34:52.684Z"
   },
   {
    "duration": 2499,
    "start_time": "2021-11-19T17:35:24.891Z"
   },
   {
    "duration": 6,
    "start_time": "2021-11-19T17:35:32.419Z"
   },
   {
    "duration": 78,
    "start_time": "2021-11-19T17:36:01.666Z"
   }
  ],
  "kernelspec": {
   "display_name": "Python 3",
   "language": "python",
   "name": "python3"
  },
  "language_info": {
   "codemirror_mode": {
    "name": "ipython",
    "version": 3
   },
   "file_extension": ".py",
   "mimetype": "text/x-python",
   "name": "python",
   "nbconvert_exporter": "python",
   "pygments_lexer": "ipython3",
   "version": "3.8.8"
  },
  "toc": {
   "base_numbering": 1,
   "nav_menu": {},
   "number_sections": true,
   "sideBar": true,
   "skip_h1_title": true,
   "title_cell": "Table of Contents",
   "title_sidebar": "Contents",
   "toc_cell": false,
   "toc_position": {},
   "toc_section_display": true,
   "toc_window_display": false
  }
 },
 "nbformat": 4,
 "nbformat_minor": 2
}
