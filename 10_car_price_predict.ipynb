{
 "cells": [
  {
   "cell_type": "markdown",
   "metadata": {},
   "source": [
    "# Car price prediction"
   ]
  },
  {
   "cell_type": "markdown",
   "metadata": {},
   "source": [
    "The service for the sale of used cars \"Not beaten, not painted\" is developing an application to attract new customers. In it, you can quickly find out the market value of your car. Historical data is at our disposal: technical specifications, complete sets and prices of cars. We need to build a model to determine the cost. \n",
    "\n",
    "Important to the customer:\n",
    "\n",
    "- prediction quality;\n",
    "- prediction speed;\n",
    "- training time."
   ]
  },
  {
   "cell_type": "markdown",
   "metadata": {},
   "source": [
    "**Data description**\n",
    "\n",
    "\n",
    "The data is in the auto.csv\n",
    "\n",
    "\n",
    "**Features**\n",
    "\n",
    "\n",
    "DateCrawled — date of downloading the questionnaire from the database\n",
    "\n",
    "\n",
    "VehicleType — type of car body\n",
    "\n",
    "\n",
    "RegistrationYear — the year of registration of the car\n",
    "\n",
    "\n",
    "Gearbox — type of gearbox\n",
    "\n",
    "\n",
    "Power — power (hp)\n",
    "\n",
    "\n",
    "Model — car model\n",
    "\n",
    "\n",
    "Kilometer — mileage (km)\n",
    "\n",
    "\n",
    "RegistrationMonth — month of car registration\n",
    "\n",
    "\n",
    "FuelType — fuel type\n",
    "\n",
    "\n",
    "Brand — car brand\n",
    "\n",
    "\n",
    "NotRepaired — was the car under repair or not\n",
    "\n",
    "\n",
    "DateCreated — date of creation of the questionnaire\n",
    "\n",
    "\n",
    "NumberOfPictures — the number of photos of the car\n",
    "\n",
    "\n",
    "PostalCode — postal code of the questionnaire owner (user)\n",
    "\n",
    "\n",
    "lastSeen — the date of the user's last activity\n",
    "\n",
    "\n",
    "**Target**\n",
    "\n",
    "\n",
    "Price — price (Euro)"
   ]
  },
  {
   "cell_type": "markdown",
   "metadata": {},
   "source": [
    "## 1. Data preprocessing"
   ]
  },
  {
   "cell_type": "code",
   "execution_count": 1,
   "metadata": {},
   "outputs": [],
   "source": [
    "import pandas as pd\n",
    "import seaborn as sns\n",
    "import numpy as np\n",
    "\n",
    "import time\n",
    "import warnings\n",
    "\n",
    "from sklearn.model_selection import train_test_split\n",
    "from sklearn.model_selection import cross_val_score\n",
    "from sklearn.preprocessing import StandardScaler, PolynomialFeatures, OrdinalEncoder\n",
    "from sklearn.model_selection import GridSearchCV\n",
    "from sklearn.pipeline import Pipeline\n",
    "\n",
    "\n",
    "from catboost import CatBoostRegressor, Pool\n",
    "import lightgbm\n",
    "from sklearn.linear_model import LinearRegression\n",
    "from lightgbm import LGBMRegressor\n",
    "from sklearn.tree import DecisionTreeRegressor\n",
    "from sklearn.ensemble import RandomForestRegressor\n",
    "\n",
    "\n",
    "\n",
    "from sklearn.metrics import mean_squared_error\n",
    "from sklearn.metrics import r2_score as RSquared\n",
    "warnings.filterwarnings('ignore')\n"
   ]
  },
  {
   "cell_type": "code",
   "execution_count": 2,
   "metadata": {},
   "outputs": [
    {
     "data": {
      "text/html": [
       "<div>\n",
       "<style scoped>\n",
       "    .dataframe tbody tr th:only-of-type {\n",
       "        vertical-align: middle;\n",
       "    }\n",
       "\n",
       "    .dataframe tbody tr th {\n",
       "        vertical-align: top;\n",
       "    }\n",
       "\n",
       "    .dataframe thead th {\n",
       "        text-align: right;\n",
       "    }\n",
       "</style>\n",
       "<table border=\"1\" class=\"dataframe\">\n",
       "  <thead>\n",
       "    <tr style=\"text-align: right;\">\n",
       "      <th></th>\n",
       "      <th>DateCrawled</th>\n",
       "      <th>Price</th>\n",
       "      <th>VehicleType</th>\n",
       "      <th>RegistrationYear</th>\n",
       "      <th>Gearbox</th>\n",
       "      <th>Power</th>\n",
       "      <th>Model</th>\n",
       "      <th>Kilometer</th>\n",
       "      <th>RegistrationMonth</th>\n",
       "      <th>FuelType</th>\n",
       "      <th>Brand</th>\n",
       "      <th>NotRepaired</th>\n",
       "      <th>DateCreated</th>\n",
       "      <th>NumberOfPictures</th>\n",
       "      <th>PostalCode</th>\n",
       "      <th>LastSeen</th>\n",
       "    </tr>\n",
       "  </thead>\n",
       "  <tbody>\n",
       "    <tr>\n",
       "      <th>0</th>\n",
       "      <td>2016-03-24 11:52:17</td>\n",
       "      <td>480</td>\n",
       "      <td>NaN</td>\n",
       "      <td>1993</td>\n",
       "      <td>manual</td>\n",
       "      <td>0</td>\n",
       "      <td>golf</td>\n",
       "      <td>150000</td>\n",
       "      <td>0</td>\n",
       "      <td>petrol</td>\n",
       "      <td>volkswagen</td>\n",
       "      <td>NaN</td>\n",
       "      <td>2016-03-24 00:00:00</td>\n",
       "      <td>0</td>\n",
       "      <td>70435</td>\n",
       "      <td>2016-04-07 03:16:57</td>\n",
       "    </tr>\n",
       "    <tr>\n",
       "      <th>1</th>\n",
       "      <td>2016-03-24 10:58:45</td>\n",
       "      <td>18300</td>\n",
       "      <td>coupe</td>\n",
       "      <td>2011</td>\n",
       "      <td>manual</td>\n",
       "      <td>190</td>\n",
       "      <td>NaN</td>\n",
       "      <td>125000</td>\n",
       "      <td>5</td>\n",
       "      <td>gasoline</td>\n",
       "      <td>audi</td>\n",
       "      <td>yes</td>\n",
       "      <td>2016-03-24 00:00:00</td>\n",
       "      <td>0</td>\n",
       "      <td>66954</td>\n",
       "      <td>2016-04-07 01:46:50</td>\n",
       "    </tr>\n",
       "    <tr>\n",
       "      <th>2</th>\n",
       "      <td>2016-03-14 12:52:21</td>\n",
       "      <td>9800</td>\n",
       "      <td>suv</td>\n",
       "      <td>2004</td>\n",
       "      <td>auto</td>\n",
       "      <td>163</td>\n",
       "      <td>grand</td>\n",
       "      <td>125000</td>\n",
       "      <td>8</td>\n",
       "      <td>gasoline</td>\n",
       "      <td>jeep</td>\n",
       "      <td>NaN</td>\n",
       "      <td>2016-03-14 00:00:00</td>\n",
       "      <td>0</td>\n",
       "      <td>90480</td>\n",
       "      <td>2016-04-05 12:47:46</td>\n",
       "    </tr>\n",
       "    <tr>\n",
       "      <th>3</th>\n",
       "      <td>2016-03-17 16:54:04</td>\n",
       "      <td>1500</td>\n",
       "      <td>small</td>\n",
       "      <td>2001</td>\n",
       "      <td>manual</td>\n",
       "      <td>75</td>\n",
       "      <td>golf</td>\n",
       "      <td>150000</td>\n",
       "      <td>6</td>\n",
       "      <td>petrol</td>\n",
       "      <td>volkswagen</td>\n",
       "      <td>no</td>\n",
       "      <td>2016-03-17 00:00:00</td>\n",
       "      <td>0</td>\n",
       "      <td>91074</td>\n",
       "      <td>2016-03-17 17:40:17</td>\n",
       "    </tr>\n",
       "    <tr>\n",
       "      <th>4</th>\n",
       "      <td>2016-03-31 17:25:20</td>\n",
       "      <td>3600</td>\n",
       "      <td>small</td>\n",
       "      <td>2008</td>\n",
       "      <td>manual</td>\n",
       "      <td>69</td>\n",
       "      <td>fabia</td>\n",
       "      <td>90000</td>\n",
       "      <td>7</td>\n",
       "      <td>gasoline</td>\n",
       "      <td>skoda</td>\n",
       "      <td>no</td>\n",
       "      <td>2016-03-31 00:00:00</td>\n",
       "      <td>0</td>\n",
       "      <td>60437</td>\n",
       "      <td>2016-04-06 10:17:21</td>\n",
       "    </tr>\n",
       "  </tbody>\n",
       "</table>\n",
       "</div>"
      ],
      "text/plain": [
       "           DateCrawled  Price VehicleType  RegistrationYear Gearbox  Power  \\\n",
       "0  2016-03-24 11:52:17    480         NaN              1993  manual      0   \n",
       "1  2016-03-24 10:58:45  18300       coupe              2011  manual    190   \n",
       "2  2016-03-14 12:52:21   9800         suv              2004    auto    163   \n",
       "3  2016-03-17 16:54:04   1500       small              2001  manual     75   \n",
       "4  2016-03-31 17:25:20   3600       small              2008  manual     69   \n",
       "\n",
       "   Model  Kilometer  RegistrationMonth  FuelType       Brand NotRepaired  \\\n",
       "0   golf     150000                  0    petrol  volkswagen         NaN   \n",
       "1    NaN     125000                  5  gasoline        audi         yes   \n",
       "2  grand     125000                  8  gasoline        jeep         NaN   \n",
       "3   golf     150000                  6    petrol  volkswagen          no   \n",
       "4  fabia      90000                  7  gasoline       skoda          no   \n",
       "\n",
       "           DateCreated  NumberOfPictures  PostalCode             LastSeen  \n",
       "0  2016-03-24 00:00:00                 0       70435  2016-04-07 03:16:57  \n",
       "1  2016-03-24 00:00:00                 0       66954  2016-04-07 01:46:50  \n",
       "2  2016-03-14 00:00:00                 0       90480  2016-04-05 12:47:46  \n",
       "3  2016-03-17 00:00:00                 0       91074  2016-03-17 17:40:17  \n",
       "4  2016-03-31 00:00:00                 0       60437  2016-04-06 10:17:21  "
      ]
     },
     "execution_count": 2,
     "metadata": {},
     "output_type": "execute_result"
    }
   ],
   "source": [
    "df = pd.read_csv('autos.csv')\n",
    "\n",
    "df.head()"
   ]
  },
  {
   "cell_type": "code",
   "execution_count": 3,
   "metadata": {},
   "outputs": [
    {
     "name": "stdout",
     "output_type": "stream",
     "text": [
      "<class 'pandas.core.frame.DataFrame'>\n",
      "RangeIndex: 354369 entries, 0 to 354368\n",
      "Data columns (total 16 columns):\n",
      " #   Column             Non-Null Count   Dtype \n",
      "---  ------             --------------   ----- \n",
      " 0   DateCrawled        354369 non-null  object\n",
      " 1   Price              354369 non-null  int64 \n",
      " 2   VehicleType        316879 non-null  object\n",
      " 3   RegistrationYear   354369 non-null  int64 \n",
      " 4   Gearbox            334536 non-null  object\n",
      " 5   Power              354369 non-null  int64 \n",
      " 6   Model              334664 non-null  object\n",
      " 7   Kilometer          354369 non-null  int64 \n",
      " 8   RegistrationMonth  354369 non-null  int64 \n",
      " 9   FuelType           321474 non-null  object\n",
      " 10  Brand              354369 non-null  object\n",
      " 11  NotRepaired        283215 non-null  object\n",
      " 12  DateCreated        354369 non-null  object\n",
      " 13  NumberOfPictures   354369 non-null  int64 \n",
      " 14  PostalCode         354369 non-null  int64 \n",
      " 15  LastSeen           354369 non-null  object\n",
      "dtypes: int64(7), object(9)\n",
      "memory usage: 43.3+ MB\n"
     ]
    }
   ],
   "source": [
    "df.info()"
   ]
  },
  {
   "cell_type": "markdown",
   "metadata": {},
   "source": [
    "Since not all the features from the original dataset are relevant for subsequent research, we will leave the following in the dataset:\n",
    "\n",
    "VahicleType - the type of car body determines the labor costs for this car, its intended use, which will significantly affect its cost;\n",
    "\n",
    "RegistrationYear - the age of the car affects its cost inversely (as a general rule). The above does not apply to vintage cars;\n",
    "\n",
    "Gearbox - the type of gearbox, as a rule, determines the demand for a specific car model, respectively, and its price;\n",
    "\n",
    "Power - as a general rule: more powerful cars have a higher cost\n",
    "\n",
    "Model - the type of model can directly affect the cost due to increasing demand, for example, for a coupe\n",
    "\n",
    "Kilometer - One of the ways to determine the warranty period is mileage. Accordingly, the car subject to warranty service (with less mileage) should have a higher cost\n",
    "\n",
    "FuelType - the type of fuel determines its consumption, availability in a certain region, which significantly affects the cost of the car\n",
    "\n",
    "Brand - there are special ratings for determining the value of brands, respectively, cars of the same type classes, but different brands have different costs;\n",
    "\n",
    "NotRepaired - the presence of repairs may mean that the car is in an accident, therefore significantly reduce its cost, therefore it should be included among the significant features"
   ]
  },
  {
   "cell_type": "code",
   "execution_count": 4,
   "metadata": {},
   "outputs": [
    {
     "data": {
      "text/html": [
       "<div>\n",
       "<style scoped>\n",
       "    .dataframe tbody tr th:only-of-type {\n",
       "        vertical-align: middle;\n",
       "    }\n",
       "\n",
       "    .dataframe tbody tr th {\n",
       "        vertical-align: top;\n",
       "    }\n",
       "\n",
       "    .dataframe thead th {\n",
       "        text-align: right;\n",
       "    }\n",
       "</style>\n",
       "<table border=\"1\" class=\"dataframe\">\n",
       "  <thead>\n",
       "    <tr style=\"text-align: right;\">\n",
       "      <th></th>\n",
       "      <th>Price</th>\n",
       "      <th>VehicleType</th>\n",
       "      <th>RegistrationYear</th>\n",
       "      <th>Gearbox</th>\n",
       "      <th>Power</th>\n",
       "      <th>Model</th>\n",
       "      <th>Kilometer</th>\n",
       "      <th>FuelType</th>\n",
       "      <th>Brand</th>\n",
       "      <th>NotRepaired</th>\n",
       "    </tr>\n",
       "  </thead>\n",
       "  <tbody>\n",
       "    <tr>\n",
       "      <th>0</th>\n",
       "      <td>480</td>\n",
       "      <td>NaN</td>\n",
       "      <td>1993</td>\n",
       "      <td>manual</td>\n",
       "      <td>0</td>\n",
       "      <td>golf</td>\n",
       "      <td>150000</td>\n",
       "      <td>petrol</td>\n",
       "      <td>volkswagen</td>\n",
       "      <td>NaN</td>\n",
       "    </tr>\n",
       "    <tr>\n",
       "      <th>1</th>\n",
       "      <td>18300</td>\n",
       "      <td>coupe</td>\n",
       "      <td>2011</td>\n",
       "      <td>manual</td>\n",
       "      <td>190</td>\n",
       "      <td>NaN</td>\n",
       "      <td>125000</td>\n",
       "      <td>gasoline</td>\n",
       "      <td>audi</td>\n",
       "      <td>yes</td>\n",
       "    </tr>\n",
       "    <tr>\n",
       "      <th>2</th>\n",
       "      <td>9800</td>\n",
       "      <td>suv</td>\n",
       "      <td>2004</td>\n",
       "      <td>auto</td>\n",
       "      <td>163</td>\n",
       "      <td>grand</td>\n",
       "      <td>125000</td>\n",
       "      <td>gasoline</td>\n",
       "      <td>jeep</td>\n",
       "      <td>NaN</td>\n",
       "    </tr>\n",
       "    <tr>\n",
       "      <th>3</th>\n",
       "      <td>1500</td>\n",
       "      <td>small</td>\n",
       "      <td>2001</td>\n",
       "      <td>manual</td>\n",
       "      <td>75</td>\n",
       "      <td>golf</td>\n",
       "      <td>150000</td>\n",
       "      <td>petrol</td>\n",
       "      <td>volkswagen</td>\n",
       "      <td>no</td>\n",
       "    </tr>\n",
       "    <tr>\n",
       "      <th>4</th>\n",
       "      <td>3600</td>\n",
       "      <td>small</td>\n",
       "      <td>2008</td>\n",
       "      <td>manual</td>\n",
       "      <td>69</td>\n",
       "      <td>fabia</td>\n",
       "      <td>90000</td>\n",
       "      <td>gasoline</td>\n",
       "      <td>skoda</td>\n",
       "      <td>no</td>\n",
       "    </tr>\n",
       "  </tbody>\n",
       "</table>\n",
       "</div>"
      ],
      "text/plain": [
       "   Price VehicleType  RegistrationYear Gearbox  Power  Model  Kilometer  \\\n",
       "0    480         NaN              1993  manual      0   golf     150000   \n",
       "1  18300       coupe              2011  manual    190    NaN     125000   \n",
       "2   9800         suv              2004    auto    163  grand     125000   \n",
       "3   1500       small              2001  manual     75   golf     150000   \n",
       "4   3600       small              2008  manual     69  fabia      90000   \n",
       "\n",
       "   FuelType       Brand NotRepaired  \n",
       "0    petrol  volkswagen         NaN  \n",
       "1  gasoline        audi         yes  \n",
       "2  gasoline        jeep         NaN  \n",
       "3    petrol  volkswagen          no  \n",
       "4  gasoline       skoda          no  "
      ]
     },
     "execution_count": 4,
     "metadata": {},
     "output_type": "execute_result"
    }
   ],
   "source": [
    "df_filtered = df.drop(['DateCrawled','RegistrationMonth', 'DateCreated', 'NumberOfPictures', 'PostalCode', 'LastSeen'], axis=1)\n",
    "\n",
    "df_filtered.head()"
   ]
  },
  {
   "cell_type": "markdown",
   "metadata": {},
   "source": [
    "Remove full duplicates from the filtered dataframe."
   ]
  },
  {
   "cell_type": "code",
   "execution_count": 5,
   "metadata": {},
   "outputs": [
    {
     "name": "stdout",
     "output_type": "stream",
     "text": [
      "Filtered dataset contains 45040 complete duplicates which constitute 12.7%\n"
     ]
    },
    {
     "data": {
      "text/plain": [
       "(354369, 10)"
      ]
     },
     "execution_count": 5,
     "metadata": {},
     "output_type": "execute_result"
    }
   ],
   "source": [
    "print(f'Filtered dataset contains {df_filtered.duplicated().sum()} complete duplicates which constitute {round(df_filtered.duplicated().sum() / len(df_filtered) * 100, 1)}%')\n",
    "\n",
    "df_filtered.shape"
   ]
  },
  {
   "cell_type": "code",
   "execution_count": 6,
   "metadata": {},
   "outputs": [
    {
     "data": {
      "text/plain": [
       "(309329, 10)"
      ]
     },
     "execution_count": 6,
     "metadata": {},
     "output_type": "execute_result"
    }
   ],
   "source": [
    "df_filtered1 = df_filtered.drop_duplicates().reset_index(drop=True)\n",
    "\n",
    "df_filtered1.shape"
   ]
  },
  {
   "cell_type": "code",
   "execution_count": 7,
   "metadata": {},
   "outputs": [],
   "source": [
    "# Let's create a temporary dictionary for the convenience of the initial data analysis\n",
    "df_general = {}\n",
    "for name in df_filtered1.columns:\n",
    "    col_name = f'{name}'\n",
    "    df_general[col_name] = df_filtered1[col_name]"
   ]
  },
  {
   "cell_type": "markdown",
   "metadata": {},
   "source": [
    "Let's check for missing values. If the specified values exceed 3%, then it will be necessary to apply special methods to eliminate deviations, otherwise, the specified lines will simply be deleted (if available)."
   ]
  },
  {
   "cell_type": "code",
   "execution_count": 8,
   "metadata": {},
   "outputs": [
    {
     "name": "stdout",
     "output_type": "stream",
     "text": [
      "\n",
      "\n",
      "In VehicleType columns there are - 37490 rows with missing values which constitute 12.0 %\n",
      "\n",
      "\n",
      "In Gearbox columns there are - 19833 rows with missing values which constitute 6.0 %\n",
      "\n",
      "\n",
      "In Model columns there are - 19705 rows with missing values which constitute 6.0 %\n",
      "\n",
      "\n",
      "In FuelType columns there are - 32895 rows with missing values which constitute 11.0 %\n",
      "\n",
      "\n",
      "In NotRepaired columns there are - 71154 rows with missing values which constitute 23.0 %\n",
      "Columns that require the elimination of missing values by special methods ['VehicleType', 'Gearbox', 'Model', 'FuelType', 'NotRepaired']\n",
      "\n",
      "Columns requiring elimination of missing values by deleting rows []\n"
     ]
    }
   ],
   "source": [
    "# Let's check for missing values, duplicates, outliers and inadequate values in each of the columns\n",
    "def general_info(name, value, isna_col, isna_col2):\n",
    "    print()\n",
    "    number = df[name].isna().sum()\n",
    "    percent = round(number / len(value), 2) * 100\n",
    "    if percent >= 3:\n",
    "        print(f'In {name} columns there are - {number} rows with missing values which constitute {percent} %')\n",
    "        isna_col.append(name)\n",
    "    elif percent > 0:\n",
    "        isna_col2.append(name)\n",
    "    return isna_col    \n",
    "\n",
    "# list for saving the names of columns that require editing due to missing values\n",
    "isna_col = []\n",
    "isna_col2 = []\n",
    "for name,value in df_general.items():\n",
    "    isna_col = general_info(name, value,isna_col, isna_col2)\n",
    "\n",
    "    \n",
    "print('Columns that require the elimination of missing values by special methods',isna_col)\n",
    "print()\n",
    "print('Columns requiring elimination of missing values by deleting rows',isna_col2)"
   ]
  },
  {
   "cell_type": "code",
   "execution_count": 9,
   "metadata": {},
   "outputs": [
    {
     "data": {
      "text/plain": [
       "count    309329.000000\n",
       "mean       2004.360105\n",
       "std          92.541399\n",
       "min        1000.000000\n",
       "25%        1999.000000\n",
       "50%        2003.000000\n",
       "75%        2008.000000\n",
       "max        9999.000000\n",
       "Name: RegistrationYear, dtype: float64"
      ]
     },
     "execution_count": 9,
     "metadata": {},
     "output_type": "execute_result"
    },
    {
     "data": {
      "image/png": "[encoded data removed]",
      "text/plain": [
       "<Figure size 864x432 with 1 Axes>"
      ]
     },
     "metadata": {
      "needs_background": "light"
     },
     "output_type": "display_data"
    }
   ],
   "source": [
    "df_filtered1.RegistrationYear.hist(bins=100, figsize=(12,6))\n",
    "df_filtered1.RegistrationYear.describe()"
   ]
  },
  {
   "cell_type": "code",
   "execution_count": 10,
   "metadata": {},
   "outputs": [
    {
     "data": {
      "text/plain": [
       "count    309329.000000\n",
       "mean       2004.360105\n",
       "std          92.541399\n",
       "min        1000.000000\n",
       "25%        1999.000000\n",
       "50%        2003.000000\n",
       "75%        2008.000000\n",
       "max        9999.000000\n",
       "Name: RegistrationYear, dtype: float64"
      ]
     },
     "execution_count": 10,
     "metadata": {},
     "output_type": "execute_result"
    }
   ],
   "source": [
    "df_filtered1.RegistrationYear.describe()"
   ]
  },
  {
   "cell_type": "markdown",
   "metadata": {},
   "source": [
    "Outliers are observed in the RegistrationYear column: the minimum value is 1000, the maximum is 9999. Given that the first cars intended for mass use appeared already at the beginning of the 20th century, and the current year is 2022, then further research should determine the amount of outliers (i.e. cars that appeared earlier than 1900 and existing later than 2022) and, if necessary, remove them."
   ]
  },
  {
   "cell_type": "code",
   "execution_count": 11,
   "metadata": {},
   "outputs": [
    {
     "name": "stdout",
     "output_type": "stream",
     "text": [
      "162\n"
     ]
    }
   ],
   "source": [
    "print(df_filtered1.query('(1900 > RegistrationYear) or (RegistrationYear > 2022)').count()['RegistrationYear'])"
   ]
  },
  {
   "cell_type": "code",
   "execution_count": 12,
   "metadata": {},
   "outputs": [
    {
     "data": {
      "text/html": [
       "<div>\n",
       "<style scoped>\n",
       "    .dataframe tbody tr th:only-of-type {\n",
       "        vertical-align: middle;\n",
       "    }\n",
       "\n",
       "    .dataframe tbody tr th {\n",
       "        vertical-align: top;\n",
       "    }\n",
       "\n",
       "    .dataframe thead th {\n",
       "        text-align: right;\n",
       "    }\n",
       "</style>\n",
       "<table border=\"1\" class=\"dataframe\">\n",
       "  <thead>\n",
       "    <tr style=\"text-align: right;\">\n",
       "      <th></th>\n",
       "      <th>Price</th>\n",
       "      <th>VehicleType</th>\n",
       "      <th>RegistrationYear</th>\n",
       "      <th>Gearbox</th>\n",
       "      <th>Power</th>\n",
       "      <th>Model</th>\n",
       "      <th>Kilometer</th>\n",
       "      <th>FuelType</th>\n",
       "      <th>Brand</th>\n",
       "      <th>NotRepaired</th>\n",
       "    </tr>\n",
       "  </thead>\n",
       "  <tbody>\n",
       "    <tr>\n",
       "      <th>622</th>\n",
       "      <td>0</td>\n",
       "      <td>NaN</td>\n",
       "      <td>1111</td>\n",
       "      <td>NaN</td>\n",
       "      <td>0</td>\n",
       "      <td>NaN</td>\n",
       "      <td>5000</td>\n",
       "      <td>NaN</td>\n",
       "      <td>opel</td>\n",
       "      <td>NaN</td>\n",
       "    </tr>\n",
       "    <tr>\n",
       "      <th>12836</th>\n",
       "      <td>49</td>\n",
       "      <td>NaN</td>\n",
       "      <td>5000</td>\n",
       "      <td>NaN</td>\n",
       "      <td>0</td>\n",
       "      <td>golf</td>\n",
       "      <td>5000</td>\n",
       "      <td>NaN</td>\n",
       "      <td>volkswagen</td>\n",
       "      <td>NaN</td>\n",
       "    </tr>\n",
       "    <tr>\n",
       "      <th>15000</th>\n",
       "      <td>0</td>\n",
       "      <td>NaN</td>\n",
       "      <td>9999</td>\n",
       "      <td>NaN</td>\n",
       "      <td>0</td>\n",
       "      <td>NaN</td>\n",
       "      <td>10000</td>\n",
       "      <td>NaN</td>\n",
       "      <td>sonstige_autos</td>\n",
       "      <td>NaN</td>\n",
       "    </tr>\n",
       "    <tr>\n",
       "      <th>15702</th>\n",
       "      <td>1700</td>\n",
       "      <td>NaN</td>\n",
       "      <td>3200</td>\n",
       "      <td>NaN</td>\n",
       "      <td>0</td>\n",
       "      <td>NaN</td>\n",
       "      <td>5000</td>\n",
       "      <td>NaN</td>\n",
       "      <td>sonstige_autos</td>\n",
       "      <td>NaN</td>\n",
       "    </tr>\n",
       "    <tr>\n",
       "      <th>15888</th>\n",
       "      <td>190</td>\n",
       "      <td>NaN</td>\n",
       "      <td>1000</td>\n",
       "      <td>NaN</td>\n",
       "      <td>0</td>\n",
       "      <td>mondeo</td>\n",
       "      <td>5000</td>\n",
       "      <td>NaN</td>\n",
       "      <td>ford</td>\n",
       "      <td>NaN</td>\n",
       "    </tr>\n",
       "  </tbody>\n",
       "</table>\n",
       "</div>"
      ],
      "text/plain": [
       "       Price VehicleType  RegistrationYear Gearbox  Power   Model  Kilometer  \\\n",
       "622        0         NaN              1111     NaN      0     NaN       5000   \n",
       "12836     49         NaN              5000     NaN      0    golf       5000   \n",
       "15000      0         NaN              9999     NaN      0     NaN      10000   \n",
       "15702   1700         NaN              3200     NaN      0     NaN       5000   \n",
       "15888    190         NaN              1000     NaN      0  mondeo       5000   \n",
       "\n",
       "      FuelType           Brand NotRepaired  \n",
       "622        NaN            opel         NaN  \n",
       "12836      NaN      volkswagen         NaN  \n",
       "15000      NaN  sonstige_autos         NaN  \n",
       "15702      NaN  sonstige_autos         NaN  \n",
       "15888      NaN            ford         NaN  "
      ]
     },
     "execution_count": 12,
     "metadata": {},
     "output_type": "execute_result"
    }
   ],
   "source": [
    "df_filtered1.query('(1900 > RegistrationYear) or (RegistrationYear > 2022)').head()"
   ]
  },
  {
   "cell_type": "markdown",
   "metadata": {},
   "source": [
    "Delete the rows with outliers in the RegistrationYear column."
   ]
  },
  {
   "cell_type": "code",
   "execution_count": 13,
   "metadata": {},
   "outputs": [
    {
     "data": {
      "text/plain": [
       "(309167, 10)"
      ]
     },
     "execution_count": 13,
     "metadata": {},
     "output_type": "execute_result"
    }
   ],
   "source": [
    "df_filtered2 = df_filtered1.query('(1900 <= RegistrationYear) and (RegistrationYear <= 2022)')\n",
    "\n",
    "df_filtered2.shape"
   ]
  },
  {
   "cell_type": "code",
   "execution_count": 14,
   "metadata": {},
   "outputs": [
    {
     "data": {
      "text/html": [
       "<div>\n",
       "<style scoped>\n",
       "    .dataframe tbody tr th:only-of-type {\n",
       "        vertical-align: middle;\n",
       "    }\n",
       "\n",
       "    .dataframe tbody tr th {\n",
       "        vertical-align: top;\n",
       "    }\n",
       "\n",
       "    .dataframe thead th {\n",
       "        text-align: right;\n",
       "    }\n",
       "</style>\n",
       "<table border=\"1\" class=\"dataframe\">\n",
       "  <thead>\n",
       "    <tr style=\"text-align: right;\">\n",
       "      <th></th>\n",
       "      <th>Price</th>\n",
       "      <th>VehicleType</th>\n",
       "      <th>RegistrationYear</th>\n",
       "      <th>Gearbox</th>\n",
       "      <th>Power</th>\n",
       "      <th>Model</th>\n",
       "      <th>Kilometer</th>\n",
       "      <th>FuelType</th>\n",
       "      <th>Brand</th>\n",
       "      <th>NotRepaired</th>\n",
       "    </tr>\n",
       "  </thead>\n",
       "  <tbody>\n",
       "    <tr>\n",
       "      <th>0</th>\n",
       "      <td>480</td>\n",
       "      <td>NaN</td>\n",
       "      <td>1993</td>\n",
       "      <td>manual</td>\n",
       "      <td>0</td>\n",
       "      <td>golf</td>\n",
       "      <td>150000</td>\n",
       "      <td>petrol</td>\n",
       "      <td>volkswagen</td>\n",
       "      <td>NaN</td>\n",
       "    </tr>\n",
       "    <tr>\n",
       "      <th>1</th>\n",
       "      <td>18300</td>\n",
       "      <td>coupe</td>\n",
       "      <td>2011</td>\n",
       "      <td>manual</td>\n",
       "      <td>190</td>\n",
       "      <td>NaN</td>\n",
       "      <td>125000</td>\n",
       "      <td>gasoline</td>\n",
       "      <td>audi</td>\n",
       "      <td>yes</td>\n",
       "    </tr>\n",
       "    <tr>\n",
       "      <th>2</th>\n",
       "      <td>9800</td>\n",
       "      <td>suv</td>\n",
       "      <td>2004</td>\n",
       "      <td>auto</td>\n",
       "      <td>163</td>\n",
       "      <td>grand</td>\n",
       "      <td>125000</td>\n",
       "      <td>gasoline</td>\n",
       "      <td>jeep</td>\n",
       "      <td>NaN</td>\n",
       "    </tr>\n",
       "    <tr>\n",
       "      <th>3</th>\n",
       "      <td>1500</td>\n",
       "      <td>small</td>\n",
       "      <td>2001</td>\n",
       "      <td>manual</td>\n",
       "      <td>75</td>\n",
       "      <td>golf</td>\n",
       "      <td>150000</td>\n",
       "      <td>petrol</td>\n",
       "      <td>volkswagen</td>\n",
       "      <td>no</td>\n",
       "    </tr>\n",
       "    <tr>\n",
       "      <th>4</th>\n",
       "      <td>3600</td>\n",
       "      <td>small</td>\n",
       "      <td>2008</td>\n",
       "      <td>manual</td>\n",
       "      <td>69</td>\n",
       "      <td>fabia</td>\n",
       "      <td>90000</td>\n",
       "      <td>gasoline</td>\n",
       "      <td>skoda</td>\n",
       "      <td>no</td>\n",
       "    </tr>\n",
       "  </tbody>\n",
       "</table>\n",
       "</div>"
      ],
      "text/plain": [
       "   Price VehicleType  RegistrationYear Gearbox  Power  Model  Kilometer  \\\n",
       "0    480         NaN              1993  manual      0   golf     150000   \n",
       "1  18300       coupe              2011  manual    190    NaN     125000   \n",
       "2   9800         suv              2004    auto    163  grand     125000   \n",
       "3   1500       small              2001  manual     75   golf     150000   \n",
       "4   3600       small              2008  manual     69  fabia      90000   \n",
       "\n",
       "   FuelType       Brand NotRepaired  \n",
       "0    petrol  volkswagen         NaN  \n",
       "1  gasoline        audi         yes  \n",
       "2  gasoline        jeep         NaN  \n",
       "3    petrol  volkswagen          no  \n",
       "4  gasoline       skoda          no  "
      ]
     },
     "execution_count": 14,
     "metadata": {},
     "output_type": "execute_result"
    }
   ],
   "source": [
    "df_filtered2.head()"
   ]
  },
  {
   "cell_type": "code",
   "execution_count": 15,
   "metadata": {},
   "outputs": [
    {
     "data": {
      "text/plain": [
       "<AxesSubplot:>"
      ]
     },
     "execution_count": 15,
     "metadata": {},
     "output_type": "execute_result"
    },
    {
     "data": {
      "image/png": "[encoded data removed]",
      "text/plain": [
       "<Figure size 864x432 with 1 Axes>"
      ]
     },
     "metadata": {
      "needs_background": "light"
     },
     "output_type": "display_data"
    }
   ],
   "source": [
    "df_filtered2.RegistrationYear.hist(bins=100, figsize=(12,6))"
   ]
  },
  {
   "cell_type": "markdown",
   "metadata": {},
   "source": [
    "Let's analyze the right boundary of our car distribution by registration date."
   ]
  },
  {
   "cell_type": "code",
   "execution_count": 16,
   "metadata": {},
   "outputs": [
    {
     "data": {
      "text/plain": [
       "Timestamp('2016-04-07 14:36:58')"
      ]
     },
     "execution_count": 16,
     "metadata": {},
     "output_type": "execute_result"
    }
   ],
   "source": [
    "date = pd.to_datetime(df.DateCrawled)\n",
    "date.max()"
   ]
  },
  {
   "cell_type": "markdown",
   "metadata": {},
   "source": [
    "Since the latest date of downloading the questionnaire from the database dates back to 2016, all positions of cars registered later than this date are incorrect and should be deleted."
   ]
  },
  {
   "cell_type": "code",
   "execution_count": 17,
   "metadata": {},
   "outputs": [
    {
     "data": {
      "text/plain": [
       "(295675, 10)"
      ]
     },
     "execution_count": 17,
     "metadata": {},
     "output_type": "execute_result"
    }
   ],
   "source": [
    "df_filtered2 = df_filtered1.query('(1900 <= RegistrationYear) and (RegistrationYear <= 2016)')\n",
    "\n",
    "df_filtered2.shape"
   ]
  },
  {
   "cell_type": "code",
   "execution_count": 18,
   "metadata": {},
   "outputs": [
    {
     "data": {
      "text/plain": [
       "0"
      ]
     },
     "execution_count": 18,
     "metadata": {},
     "output_type": "execute_result"
    }
   ],
   "source": [
    "# Let's check for missing values in the target column\n",
    "df_filtered2.Price.isna().sum()"
   ]
  },
  {
   "cell_type": "markdown",
   "metadata": {},
   "source": [
    "Since the rows with the cost of cars equal to 0 do not represent value (they do not allow predicting the cost of a car with specific parameters on the secondary market), we will delete the rows with 0 price value."
   ]
  },
  {
   "cell_type": "code",
   "execution_count": 19,
   "metadata": {},
   "outputs": [
    {
     "name": "stdout",
     "output_type": "stream",
     "text": [
      "8221\n"
     ]
    }
   ],
   "source": [
    "print(df_filtered2.query('Price == 0').count()['Price'])"
   ]
  },
  {
   "cell_type": "code",
   "execution_count": 20,
   "metadata": {},
   "outputs": [
    {
     "data": {
      "text/plain": [
       "(287454, 10)"
      ]
     },
     "execution_count": 20,
     "metadata": {},
     "output_type": "execute_result"
    }
   ],
   "source": [
    "df_filtered3 = df_filtered2.query('Price > 0')\n",
    "df_filtered3.shape"
   ]
  },
  {
   "cell_type": "code",
   "execution_count": 21,
   "metadata": {},
   "outputs": [
    {
     "data": {
      "text/plain": [
       "<AxesSubplot:>"
      ]
     },
     "execution_count": 21,
     "metadata": {},
     "output_type": "execute_result"
    },
    {
     "data": {
      "image/png": "[encoded data removed]",
      "text/plain": [
       "<Figure size 864x648 with 1 Axes>"
      ]
     },
     "metadata": {
      "needs_background": "light"
     },
     "output_type": "display_data"
    }
   ],
   "source": [
    "df_filtered3.Price.hist(bins=100,figsize=(12,9))"
   ]
  },
  {
   "cell_type": "markdown",
   "metadata": {},
   "source": [
    "Taking into account the nature of the distribution (the presence of a large number of outliers on the right, as well as a large number of values close to 0), we will leave a 90% confidence interval."
   ]
  },
  {
   "cell_type": "code",
   "execution_count": 22,
   "metadata": {
    "scrolled": true
   },
   "outputs": [
    {
     "name": "stdout",
     "output_type": "stream",
     "text": [
      "0.05      350.0\n",
      "0.95    14990.0\n",
      "Name: Price, dtype: float64\n"
     ]
    }
   ],
   "source": [
    "print(df_filtered3.Price.quantile([0.05, 0.95]))"
   ]
  },
  {
   "cell_type": "code",
   "execution_count": 23,
   "metadata": {},
   "outputs": [
    {
     "data": {
      "text/plain": [
       "(259267, 10)"
      ]
     },
     "execution_count": 23,
     "metadata": {},
     "output_type": "execute_result"
    }
   ],
   "source": [
    "df_filtered3 = df_filtered3.query('350 <= Price <= 14990')\n",
    "df_filtered3.shape"
   ]
  },
  {
   "cell_type": "code",
   "execution_count": 24,
   "metadata": {},
   "outputs": [
    {
     "data": {
      "text/plain": [
       "count    259267.000000\n",
       "mean       4221.442791\n",
       "std        3638.493653\n",
       "min         350.000000\n",
       "25%        1300.000000\n",
       "50%        2990.000000\n",
       "75%        6200.000000\n",
       "max       14990.000000\n",
       "Name: Price, dtype: float64"
      ]
     },
     "execution_count": 24,
     "metadata": {},
     "output_type": "execute_result"
    }
   ],
   "source": [
    "df_filtered3.Price.describe()"
   ]
  },
  {
   "cell_type": "markdown",
   "metadata": {},
   "source": [
    "Let's fill in missing values in VehicleType, Gearbox, Model, FuelType, NotRepaired columns."
   ]
  },
  {
   "cell_type": "code",
   "execution_count": 25,
   "metadata": {},
   "outputs": [
    {
     "data": {
      "text/plain": [
       "10928"
      ]
     },
     "execution_count": 25,
     "metadata": {},
     "output_type": "execute_result"
    }
   ],
   "source": [
    "df_filtered3.Gearbox.isna().sum()"
   ]
  },
  {
   "cell_type": "code",
   "execution_count": 26,
   "metadata": {},
   "outputs": [
    {
     "data": {
      "text/plain": [
       "manual    199269\n",
       "auto       49070\n",
       "Name: Gearbox, dtype: int64"
      ]
     },
     "execution_count": 26,
     "metadata": {},
     "output_type": "execute_result"
    }
   ],
   "source": [
    "df_filtered3.Gearbox.value_counts()"
   ]
  },
  {
   "cell_type": "code",
   "execution_count": 27,
   "metadata": {},
   "outputs": [
    {
     "name": "stdout",
     "output_type": "stream",
     "text": [
      "76.86\n"
     ]
    }
   ],
   "source": [
    "print(round(df_filtered3.query(\"Gearbox == 'manual'\").count()['Gearbox'] / len(df_filtered3) * 100,2))"
   ]
  },
  {
   "cell_type": "code",
   "execution_count": 28,
   "metadata": {
    "scrolled": true
   },
   "outputs": [
    {
     "name": "stdout",
     "output_type": "stream",
     "text": [
      "70.22\n"
     ]
    }
   ],
   "source": [
    "print(round(df_filtered3.query(\"NotRepaired == 'no'\").count()['Gearbox'] / len(df_filtered3) * 100,2))"
   ]
  },
  {
   "cell_type": "code",
   "execution_count": 29,
   "metadata": {},
   "outputs": [
    {
     "data": {
      "text/plain": [
       "petrol      161762\n",
       "gasoline     73252\n",
       "lpg           4475\n",
       "cng            475\n",
       "hybrid         167\n",
       "other          123\n",
       "electric        75\n",
       "Name: FuelType, dtype: int64"
      ]
     },
     "execution_count": 29,
     "metadata": {},
     "output_type": "execute_result"
    }
   ],
   "source": [
    "df_filtered3.FuelType.value_counts()"
   ]
  },
  {
   "cell_type": "code",
   "execution_count": 30,
   "metadata": {},
   "outputs": [
    {
     "name": "stdout",
     "output_type": "stream",
     "text": [
      "<class 'pandas.core.frame.DataFrame'>\n",
      "Int64Index: 259267 entries, 0 to 309328\n",
      "Data columns (total 10 columns):\n",
      " #   Column            Non-Null Count   Dtype \n",
      "---  ------            --------------   ----- \n",
      " 0   Price             259267 non-null  int64 \n",
      " 1   VehicleType       244566 non-null  object\n",
      " 2   RegistrationYear  259267 non-null  int64 \n",
      " 3   Gearbox           248339 non-null  object\n",
      " 4   Power             259267 non-null  int64 \n",
      " 5   Model             246542 non-null  object\n",
      " 6   Kilometer         259267 non-null  int64 \n",
      " 7   FuelType          240329 non-null  object\n",
      " 8   Brand             259267 non-null  object\n",
      " 9   NotRepaired       211935 non-null  object\n",
      "dtypes: int64(4), object(6)\n",
      "memory usage: 21.8+ MB\n"
     ]
    }
   ],
   "source": [
    "df_filtered3.info()"
   ]
  },
  {
   "cell_type": "code",
   "execution_count": 31,
   "metadata": {},
   "outputs": [
    {
     "data": {
      "text/plain": [
       "petrol      161762\n",
       "gasoline     73252\n",
       "lpg           4475\n",
       "cng            475\n",
       "hybrid         167\n",
       "other          123\n",
       "electric        75\n",
       "Name: FuelType, dtype: int64"
      ]
     },
     "execution_count": 31,
     "metadata": {},
     "output_type": "execute_result"
    }
   ],
   "source": [
    "df_filtered3.FuelType.value_counts()"
   ]
  },
  {
   "cell_type": "code",
   "execution_count": 32,
   "metadata": {},
   "outputs": [
    {
     "name": "stdout",
     "output_type": "stream",
     "text": [
      "62.39\n"
     ]
    }
   ],
   "source": [
    "print(round(df_filtered3.query(\"FuelType == 'petrol'\").count()['FuelType'] / len(df_filtered3) * 100,2))"
   ]
  },
  {
   "cell_type": "code",
   "execution_count": 33,
   "metadata": {},
   "outputs": [
    {
     "name": "stdout",
     "output_type": "stream",
     "text": [
      "69.82333333333332\n"
     ]
    }
   ],
   "source": [
    "print((76.86+70.22+62.39)/3)"
   ]
  },
  {
   "cell_type": "markdown",
   "metadata": {},
   "source": [
    "Let's write a function to split the data in proportion 70/30 in order to fill in the missing values in the Gearbox, NotRepaired, FuelType columns, taking into account the popularity of the corresponding values and the connection into one dataset."
   ]
  },
  {
   "cell_type": "code",
   "execution_count": 34,
   "metadata": {},
   "outputs": [],
   "source": [
    "def fill_col(df_filtered3):\n",
    "    # Let's randomly divide our data in the following proportion 70 : 30\n",
    "    df_filtered3_first,df_filtered3_second =  train_test_split(df_filtered3, test_size = 0.3, random_state = 69)\n",
    "    df_filtered3_first.shape\n",
    "    df_filtered3_second.shape\n",
    "    \n",
    "    # Fill in the missing values in the corresponding parts with the most common values\n",
    "    df_filtered3_first.fillna({'Gearbox':'manual',\n",
    "                               'NotRepaired':'no',\n",
    "                               'FuelType':'petrol',\n",
    "                               'Model':'unknown'},\n",
    "                              inplace=True)\n",
    "    \n",
    "    df_filtered3_second.fillna({'Gearbox':'auto',\n",
    "                               'NotRepaired':'yes',\n",
    "                               'FuelType':'gsaoline',\n",
    "                               'Model':'unknown'},\n",
    "                              inplace=True)\n",
    "    \n",
    "    # Let's combine it into one dataframe\n",
    "    df_filtered_new = pd.concat([df_filtered3_first] + [df_filtered3_second])\n",
    "    \n",
    "    return df_filtered_new\n",
    "\n",
    "df_filtered4 = fill_col(df_filtered3)"
   ]
  },
  {
   "cell_type": "code",
   "execution_count": 35,
   "metadata": {},
   "outputs": [
    {
     "name": "stdout",
     "output_type": "stream",
     "text": [
      "<class 'pandas.core.frame.DataFrame'>\n",
      "Int64Index: 259267 entries, 137244 to 252983\n",
      "Data columns (total 10 columns):\n",
      " #   Column            Non-Null Count   Dtype \n",
      "---  ------            --------------   ----- \n",
      " 0   Price             259267 non-null  int64 \n",
      " 1   VehicleType       244566 non-null  object\n",
      " 2   RegistrationYear  259267 non-null  int64 \n",
      " 3   Gearbox           259267 non-null  object\n",
      " 4   Power             259267 non-null  int64 \n",
      " 5   Model             259267 non-null  object\n",
      " 6   Kilometer         259267 non-null  int64 \n",
      " 7   FuelType          259267 non-null  object\n",
      " 8   Brand             259267 non-null  object\n",
      " 9   NotRepaired       259267 non-null  object\n",
      "dtypes: int64(4), object(6)\n",
      "memory usage: 21.8+ MB\n"
     ]
    }
   ],
   "source": [
    "df_filtered4.info()"
   ]
  },
  {
   "cell_type": "markdown",
   "metadata": {},
   "source": [
    "Let's fill in VehicleType column. "
   ]
  },
  {
   "cell_type": "code",
   "execution_count": 36,
   "metadata": {},
   "outputs": [
    {
     "data": {
      "text/plain": [
       "sedan          70478\n",
       "small          60051\n",
       "wagon          50823\n",
       "bus            23840\n",
       "convertible    15888\n",
       "coupe          12177\n",
       "suv             8619\n",
       "other           2690\n",
       "Name: VehicleType, dtype: int64"
      ]
     },
     "execution_count": 36,
     "metadata": {},
     "output_type": "execute_result"
    }
   ],
   "source": [
    "df_filtered4.VehicleType.value_counts()"
   ]
  },
  {
   "cell_type": "code",
   "execution_count": 37,
   "metadata": {},
   "outputs": [
    {
     "name": "stdout",
     "output_type": "stream",
     "text": [
      "The share of missing values in VehicleType column is 6.0%\n"
     ]
    }
   ],
   "source": [
    "number = df_filtered3[\"VehicleType\"].isna().sum()\n",
    "percent = round(number / len(df_filtered4), 2) * 100\n",
    "print(f'The share of missing values in VehicleType column is {percent}%')"
   ]
  },
  {
   "cell_type": "markdown",
   "metadata": {},
   "source": [
    "Since the share of missing values in the specified column has significantly decreased according to the results of the previous steps, we will delete the remaining rows with missing values."
   ]
  },
  {
   "cell_type": "code",
   "execution_count": 38,
   "metadata": {},
   "outputs": [
    {
     "name": "stdout",
     "output_type": "stream",
     "text": [
      "<class 'pandas.core.frame.DataFrame'>\n",
      "Int64Index: 244566 entries, 137244 to 252983\n",
      "Data columns (total 10 columns):\n",
      " #   Column            Non-Null Count   Dtype \n",
      "---  ------            --------------   ----- \n",
      " 0   Price             244566 non-null  int64 \n",
      " 1   VehicleType       244566 non-null  object\n",
      " 2   RegistrationYear  244566 non-null  int64 \n",
      " 3   Gearbox           244566 non-null  object\n",
      " 4   Power             244566 non-null  int64 \n",
      " 5   Model             244566 non-null  object\n",
      " 6   Kilometer         244566 non-null  int64 \n",
      " 7   FuelType          244566 non-null  object\n",
      " 8   Brand             244566 non-null  object\n",
      " 9   NotRepaired       244566 non-null  object\n",
      "dtypes: int64(4), object(6)\n",
      "memory usage: 20.5+ MB\n"
     ]
    },
    {
     "data": {
      "text/plain": [
       "sedan          70478\n",
       "small          60051\n",
       "wagon          50823\n",
       "bus            23840\n",
       "convertible    15888\n",
       "coupe          12177\n",
       "suv             8619\n",
       "other           2690\n",
       "Name: VehicleType, dtype: int64"
      ]
     },
     "execution_count": 38,
     "metadata": {},
     "output_type": "execute_result"
    }
   ],
   "source": [
    "df_filtered5 = df_filtered4[df_filtered4['VehicleType'].isna() == False]\n",
    "df_filtered5.info()\n",
    "df_filtered5.VehicleType.value_counts()"
   ]
  },
  {
   "cell_type": "code",
   "execution_count": 39,
   "metadata": {
    "scrolled": true
   },
   "outputs": [
    {
     "data": {
      "text/plain": [
       "0"
      ]
     },
     "execution_count": 39,
     "metadata": {},
     "output_type": "execute_result"
    }
   ],
   "source": [
    "df_filtered5[\"VehicleType\"].isna().sum()"
   ]
  },
  {
   "cell_type": "markdown",
   "metadata": {},
   "source": [
    "Let's check for incorrect values in the Power column."
   ]
  },
  {
   "cell_type": "code",
   "execution_count": 40,
   "metadata": {},
   "outputs": [
    {
     "data": {
      "text/plain": [
       "count    244566.000000\n",
       "mean        114.402615\n",
       "std         197.161873\n",
       "min           0.000000\n",
       "25%          75.000000\n",
       "50%         105.000000\n",
       "75%         143.000000\n",
       "max       20000.000000\n",
       "Name: Power, dtype: float64"
      ]
     },
     "execution_count": 40,
     "metadata": {},
     "output_type": "execute_result"
    },
    {
     "data": {
      "image/png": "[encoded data removed]",
      "text/plain": [
       "<Figure size 1152x648 with 1 Axes>"
      ]
     },
     "metadata": {
      "needs_background": "light"
     },
     "output_type": "display_data"
    }
   ],
   "source": [
    "df_filtered5.Power.hist(bins=1000, figsize=(16,9))\n",
    "df_filtered5.Power.describe()"
   ]
  },
  {
   "cell_type": "markdown",
   "metadata": {},
   "source": [
    "The spread of values is very strong, so we will discard all values exceeding 1000 hp."
   ]
  },
  {
   "cell_type": "code",
   "execution_count": 41,
   "metadata": {},
   "outputs": [
    {
     "data": {
      "text/plain": [
       "count    225578.000000\n",
       "mean        119.917470\n",
       "std          52.000296\n",
       "min           1.000000\n",
       "25%          80.000000\n",
       "50%         111.000000\n",
       "75%         147.000000\n",
       "max        1000.000000\n",
       "Name: Power, dtype: float64"
      ]
     },
     "execution_count": 41,
     "metadata": {},
     "output_type": "execute_result"
    },
    {
     "data": {
      "image/png": "[encoded data removed]",
      "text/plain": [
       "<Figure size 1152x648 with 1 Axes>"
      ]
     },
     "metadata": {
      "needs_background": "light"
     },
     "output_type": "display_data"
    }
   ],
   "source": [
    "df_filtered6 = df_filtered5.query('0 < Power < 1001')\n",
    "df_filtered6.Power.hist(bins=100, figsize=(16,9))\n",
    "df_filtered6.Power.describe()"
   ]
  },
  {
   "cell_type": "markdown",
   "metadata": {},
   "source": [
    "Let's leave 95% of the values, discarding outliers on the left and right (2.5 quantile = 50 hp, 97.5 - 235 hp)."
   ]
  },
  {
   "cell_type": "code",
   "execution_count": 42,
   "metadata": {},
   "outputs": [
    {
     "data": {
      "text/plain": [
       "count    213377.000000\n",
       "mean        117.540841\n",
       "std          42.016719\n",
       "min          51.000000\n",
       "25%          82.000000\n",
       "50%         112.000000\n",
       "75%         143.000000\n",
       "max         234.000000\n",
       "Name: Power, dtype: float64"
      ]
     },
     "execution_count": 42,
     "metadata": {},
     "output_type": "execute_result"
    },
    {
     "data": {
      "image/png": "[encoded data removed]",
      "text/plain": [
       "<Figure size 1152x648 with 1 Axes>"
      ]
     },
     "metadata": {
      "needs_background": "light"
     },
     "output_type": "display_data"
    }
   ],
   "source": [
    "df_filtered6 = df_filtered6.query('50 < Power < 235')\n",
    "df_filtered6.Power.hist(bins=100, figsize=(16,9))\n",
    "df_filtered6.Power.describe()"
   ]
  },
  {
   "cell_type": "code",
   "execution_count": 43,
   "metadata": {},
   "outputs": [
    {
     "name": "stdout",
     "output_type": "stream",
     "text": [
      "<class 'pandas.core.frame.DataFrame'>\n",
      "Int64Index: 213377 entries, 137244 to 252983\n",
      "Data columns (total 10 columns):\n",
      " #   Column            Non-Null Count   Dtype \n",
      "---  ------            --------------   ----- \n",
      " 0   Price             213377 non-null  int64 \n",
      " 1   VehicleType       213377 non-null  object\n",
      " 2   RegistrationYear  213377 non-null  int64 \n",
      " 3   Gearbox           213377 non-null  object\n",
      " 4   Power             213377 non-null  int64 \n",
      " 5   Model             213377 non-null  object\n",
      " 6   Kilometer         213377 non-null  int64 \n",
      " 7   FuelType          213377 non-null  object\n",
      " 8   Brand             213377 non-null  object\n",
      " 9   NotRepaired       213377 non-null  object\n",
      "dtypes: int64(4), object(6)\n",
      "memory usage: 17.9+ MB\n"
     ]
    }
   ],
   "source": [
    "df_filtered6.info()"
   ]
  },
  {
   "cell_type": "markdown",
   "metadata": {},
   "source": [
    "In order to further apply the algorithms, replace the Gearbox and NotRepaired columns with a Boolean type, where:\n",
    "\n",
    "* in the column Is Manual Gearbox: 1 - manual (manual transmission), 0 - auto(automatic);\n",
    "* in the column Is Not Repaired: 1 - means a car without repair, 0 - with repair."
   ]
  },
  {
   "cell_type": "code",
   "execution_count": 44,
   "metadata": {},
   "outputs": [
    {
     "data": {
      "text/html": [
       "<div>\n",
       "<style scoped>\n",
       "    .dataframe tbody tr th:only-of-type {\n",
       "        vertical-align: middle;\n",
       "    }\n",
       "\n",
       "    .dataframe tbody tr th {\n",
       "        vertical-align: top;\n",
       "    }\n",
       "\n",
       "    .dataframe thead th {\n",
       "        text-align: right;\n",
       "    }\n",
       "</style>\n",
       "<table border=\"1\" class=\"dataframe\">\n",
       "  <thead>\n",
       "    <tr style=\"text-align: right;\">\n",
       "      <th></th>\n",
       "      <th>Price</th>\n",
       "      <th>VehicleType</th>\n",
       "      <th>RegistrationYear</th>\n",
       "      <th>Gearbox</th>\n",
       "      <th>Power</th>\n",
       "      <th>Model</th>\n",
       "      <th>Kilometer</th>\n",
       "      <th>FuelType</th>\n",
       "      <th>Brand</th>\n",
       "      <th>NotRepaired</th>\n",
       "      <th>IsManualGearbox</th>\n",
       "    </tr>\n",
       "  </thead>\n",
       "  <tbody>\n",
       "    <tr>\n",
       "      <th>137244</th>\n",
       "      <td>450</td>\n",
       "      <td>sedan</td>\n",
       "      <td>2000</td>\n",
       "      <td>auto</td>\n",
       "      <td>170</td>\n",
       "      <td>mondeo</td>\n",
       "      <td>150000</td>\n",
       "      <td>petrol</td>\n",
       "      <td>ford</td>\n",
       "      <td>no</td>\n",
       "      <td>0</td>\n",
       "    </tr>\n",
       "    <tr>\n",
       "      <th>25246</th>\n",
       "      <td>9900</td>\n",
       "      <td>sedan</td>\n",
       "      <td>2007</td>\n",
       "      <td>auto</td>\n",
       "      <td>177</td>\n",
       "      <td>3er</td>\n",
       "      <td>150000</td>\n",
       "      <td>gasoline</td>\n",
       "      <td>bmw</td>\n",
       "      <td>no</td>\n",
       "      <td>0</td>\n",
       "    </tr>\n",
       "    <tr>\n",
       "      <th>77968</th>\n",
       "      <td>3900</td>\n",
       "      <td>small</td>\n",
       "      <td>2010</td>\n",
       "      <td>manual</td>\n",
       "      <td>75</td>\n",
       "      <td>2_reihe</td>\n",
       "      <td>90000</td>\n",
       "      <td>petrol</td>\n",
       "      <td>peugeot</td>\n",
       "      <td>no</td>\n",
       "      <td>1</td>\n",
       "    </tr>\n",
       "    <tr>\n",
       "      <th>241038</th>\n",
       "      <td>700</td>\n",
       "      <td>sedan</td>\n",
       "      <td>1993</td>\n",
       "      <td>manual</td>\n",
       "      <td>90</td>\n",
       "      <td>80</td>\n",
       "      <td>150000</td>\n",
       "      <td>petrol</td>\n",
       "      <td>audi</td>\n",
       "      <td>no</td>\n",
       "      <td>1</td>\n",
       "    </tr>\n",
       "    <tr>\n",
       "      <th>99878</th>\n",
       "      <td>990</td>\n",
       "      <td>small</td>\n",
       "      <td>1998</td>\n",
       "      <td>manual</td>\n",
       "      <td>75</td>\n",
       "      <td>other</td>\n",
       "      <td>150000</td>\n",
       "      <td>petrol</td>\n",
       "      <td>toyota</td>\n",
       "      <td>no</td>\n",
       "      <td>1</td>\n",
       "    </tr>\n",
       "  </tbody>\n",
       "</table>\n",
       "</div>"
      ],
      "text/plain": [
       "        Price VehicleType  RegistrationYear Gearbox  Power    Model  \\\n",
       "137244    450       sedan              2000    auto    170   mondeo   \n",
       "25246    9900       sedan              2007    auto    177      3er   \n",
       "77968    3900       small              2010  manual     75  2_reihe   \n",
       "241038    700       sedan              1993  manual     90       80   \n",
       "99878     990       small              1998  manual     75    other   \n",
       "\n",
       "        Kilometer  FuelType    Brand NotRepaired  IsManualGearbox  \n",
       "137244     150000    petrol     ford          no                0  \n",
       "25246      150000  gasoline      bmw          no                0  \n",
       "77968       90000    petrol  peugeot          no                1  \n",
       "241038     150000    petrol     audi          no                1  \n",
       "99878      150000    petrol   toyota          no                1  "
      ]
     },
     "execution_count": 44,
     "metadata": {},
     "output_type": "execute_result"
    }
   ],
   "source": [
    "df_filtered6['IsManualGearbox'] = 0\n",
    "df_filtered6.loc[df_filtered6['Gearbox'] == 'manual', 'IsManualGearbox'] = 1\n",
    "df_filtered6.head()"
   ]
  },
  {
   "cell_type": "code",
   "execution_count": 45,
   "metadata": {},
   "outputs": [
    {
     "data": {
      "text/plain": [
       "1    173036\n",
       "0     40341\n",
       "Name: IsManualGearbox, dtype: int64"
      ]
     },
     "execution_count": 45,
     "metadata": {},
     "output_type": "execute_result"
    }
   ],
   "source": [
    "df_filtered6.IsManualGearbox.value_counts()"
   ]
  },
  {
   "cell_type": "code",
   "execution_count": 46,
   "metadata": {},
   "outputs": [
    {
     "data": {
      "text/html": [
       "<div>\n",
       "<style scoped>\n",
       "    .dataframe tbody tr th:only-of-type {\n",
       "        vertical-align: middle;\n",
       "    }\n",
       "\n",
       "    .dataframe tbody tr th {\n",
       "        vertical-align: top;\n",
       "    }\n",
       "\n",
       "    .dataframe thead th {\n",
       "        text-align: right;\n",
       "    }\n",
       "</style>\n",
       "<table border=\"1\" class=\"dataframe\">\n",
       "  <thead>\n",
       "    <tr style=\"text-align: right;\">\n",
       "      <th></th>\n",
       "      <th>Price</th>\n",
       "      <th>VehicleType</th>\n",
       "      <th>RegistrationYear</th>\n",
       "      <th>Gearbox</th>\n",
       "      <th>Power</th>\n",
       "      <th>Model</th>\n",
       "      <th>Kilometer</th>\n",
       "      <th>FuelType</th>\n",
       "      <th>Brand</th>\n",
       "      <th>NotRepaired</th>\n",
       "      <th>IsManualGearbox</th>\n",
       "      <th>IsNotRepaired</th>\n",
       "    </tr>\n",
       "  </thead>\n",
       "  <tbody>\n",
       "    <tr>\n",
       "      <th>137244</th>\n",
       "      <td>450</td>\n",
       "      <td>sedan</td>\n",
       "      <td>2000</td>\n",
       "      <td>auto</td>\n",
       "      <td>170</td>\n",
       "      <td>mondeo</td>\n",
       "      <td>150000</td>\n",
       "      <td>petrol</td>\n",
       "      <td>ford</td>\n",
       "      <td>no</td>\n",
       "      <td>0</td>\n",
       "      <td>0</td>\n",
       "    </tr>\n",
       "    <tr>\n",
       "      <th>25246</th>\n",
       "      <td>9900</td>\n",
       "      <td>sedan</td>\n",
       "      <td>2007</td>\n",
       "      <td>auto</td>\n",
       "      <td>177</td>\n",
       "      <td>3er</td>\n",
       "      <td>150000</td>\n",
       "      <td>gasoline</td>\n",
       "      <td>bmw</td>\n",
       "      <td>no</td>\n",
       "      <td>0</td>\n",
       "      <td>0</td>\n",
       "    </tr>\n",
       "    <tr>\n",
       "      <th>77968</th>\n",
       "      <td>3900</td>\n",
       "      <td>small</td>\n",
       "      <td>2010</td>\n",
       "      <td>manual</td>\n",
       "      <td>75</td>\n",
       "      <td>2_reihe</td>\n",
       "      <td>90000</td>\n",
       "      <td>petrol</td>\n",
       "      <td>peugeot</td>\n",
       "      <td>no</td>\n",
       "      <td>1</td>\n",
       "      <td>0</td>\n",
       "    </tr>\n",
       "    <tr>\n",
       "      <th>241038</th>\n",
       "      <td>700</td>\n",
       "      <td>sedan</td>\n",
       "      <td>1993</td>\n",
       "      <td>manual</td>\n",
       "      <td>90</td>\n",
       "      <td>80</td>\n",
       "      <td>150000</td>\n",
       "      <td>petrol</td>\n",
       "      <td>audi</td>\n",
       "      <td>no</td>\n",
       "      <td>1</td>\n",
       "      <td>0</td>\n",
       "    </tr>\n",
       "    <tr>\n",
       "      <th>99878</th>\n",
       "      <td>990</td>\n",
       "      <td>small</td>\n",
       "      <td>1998</td>\n",
       "      <td>manual</td>\n",
       "      <td>75</td>\n",
       "      <td>other</td>\n",
       "      <td>150000</td>\n",
       "      <td>petrol</td>\n",
       "      <td>toyota</td>\n",
       "      <td>no</td>\n",
       "      <td>1</td>\n",
       "      <td>0</td>\n",
       "    </tr>\n",
       "  </tbody>\n",
       "</table>\n",
       "</div>"
      ],
      "text/plain": [
       "        Price VehicleType  RegistrationYear Gearbox  Power    Model  \\\n",
       "137244    450       sedan              2000    auto    170   mondeo   \n",
       "25246    9900       sedan              2007    auto    177      3er   \n",
       "77968    3900       small              2010  manual     75  2_reihe   \n",
       "241038    700       sedan              1993  manual     90       80   \n",
       "99878     990       small              1998  manual     75    other   \n",
       "\n",
       "        Kilometer  FuelType    Brand NotRepaired  IsManualGearbox  \\\n",
       "137244     150000    petrol     ford          no                0   \n",
       "25246      150000  gasoline      bmw          no                0   \n",
       "77968       90000    petrol  peugeot          no                1   \n",
       "241038     150000    petrol     audi          no                1   \n",
       "99878      150000    petrol   toyota          no                1   \n",
       "\n",
       "        IsNotRepaired  \n",
       "137244              0  \n",
       "25246               0  \n",
       "77968               0  \n",
       "241038              0  \n",
       "99878               0  "
      ]
     },
     "execution_count": 46,
     "metadata": {},
     "output_type": "execute_result"
    }
   ],
   "source": [
    "df_filtered6['IsNotRepaired'] = 0\n",
    "df_filtered6.loc[df_filtered6['NotRepaired'] == 'yes', 'IsNotRepaired'] = 1\n",
    "df_filtered6.head()"
   ]
  },
  {
   "cell_type": "code",
   "execution_count": 47,
   "metadata": {},
   "outputs": [
    {
     "data": {
      "text/plain": [
       "0    183965\n",
       "1     29412\n",
       "Name: IsNotRepaired, dtype: int64"
      ]
     },
     "execution_count": 47,
     "metadata": {},
     "output_type": "execute_result"
    }
   ],
   "source": [
    "df_filtered6['IsNotRepaired'].value_counts()"
   ]
  },
  {
   "cell_type": "markdown",
   "metadata": {},
   "source": [
    "Let's delete unnecessary columns."
   ]
  },
  {
   "cell_type": "code",
   "execution_count": 48,
   "metadata": {},
   "outputs": [
    {
     "name": "stdout",
     "output_type": "stream",
     "text": [
      "<class 'pandas.core.frame.DataFrame'>\n",
      "Int64Index: 213377 entries, 137244 to 252983\n",
      "Data columns (total 10 columns):\n",
      " #   Column            Non-Null Count   Dtype \n",
      "---  ------            --------------   ----- \n",
      " 0   Price             213377 non-null  int64 \n",
      " 1   VehicleType       213377 non-null  object\n",
      " 2   RegistrationYear  213377 non-null  int64 \n",
      " 3   Power             213377 non-null  int64 \n",
      " 4   Model             213377 non-null  object\n",
      " 5   Kilometer         213377 non-null  int64 \n",
      " 6   FuelType          213377 non-null  object\n",
      " 7   Brand             213377 non-null  object\n",
      " 8   IsManualGearbox   213377 non-null  int64 \n",
      " 9   IsNotRepaired     213377 non-null  int64 \n",
      "dtypes: int64(6), object(4)\n",
      "memory usage: 17.9+ MB\n"
     ]
    }
   ],
   "source": [
    "df_filtered6.drop(['NotRepaired', 'Gearbox'], inplace=True, axis=1)\n",
    "df_filtered6.info()"
   ]
  },
  {
   "cell_type": "markdown",
   "metadata": {},
   "source": [
    "<div style=\"font-size: 20px\">\n",
    "    \n",
    "\n",
    "**Intermediate conclusion:**"
   ]
  },
  {
   "cell_type": "markdown",
   "metadata": {},
   "source": [
    "Based on the results of preprocessing, missing values, outliers and anomalies in all columns of the original dataframe were considered and processed. Columns suitable for further training of models and making predictions have been left. The categorical features in the Gearbox and NotRepaired columns were replaced with numerical ones. The data obtained can be used for further research."
   ]
  },
  {
   "cell_type": "markdown",
   "metadata": {},
   "source": [
    "## 2. Model training"
   ]
  },
  {
   "cell_type": "markdown",
   "metadata": {},
   "source": [
    "Let's train the following models:\n",
    "\n",
    "* * Linear Regression;\n",
    "* * Decision Tree Regressor;\n",
    "* CatBoostRegressor;\n",
    "* LGBMRegressor.\n",
    "\n",
    "We will use MSE as a metric for all models, and in the final table we will use RMSE. We will check the quality of the models for cross validation.\n",
    "\n",
    "It is necessary to prepare three types of features for cross validation:\n",
    "\n",
    "* Source - original_features;\n",
    "* Encoded by the OHA - oha_features method;\n",
    "* Encoded by the OE -ordinal_features method."
   ]
  },
  {
   "cell_type": "code",
   "execution_count": 49,
   "metadata": {},
   "outputs": [],
   "source": [
    "# Initial and target features \n",
    "original_features = df_filtered6.drop('Price', axis=1)\n",
    "target = df_filtered6['Price']\n",
    "\n",
    "# Direct coding\n",
    "encoder = OrdinalEncoder()\n",
    "categ_columns = ['VehicleType', 'FuelType', 'Brand', 'Model']\n",
    "categ_features = original_features[categ_columns]\n",
    "categ_features = pd.DataFrame(encoder.fit_transform(categ_features),\n",
    "                             columns=categ_features.columns,\n",
    "                             index=categ_features.index)\n",
    "ordinal_features = original_features.copy()\n",
    "for column in categ_columns:\n",
    "    ordinal_features[column] = categ_features[column]\n",
    "\n",
    "# OHE\n",
    "ohe_features = pd.get_dummies(original_features, drop_first=True)\n"
   ]
  },
  {
   "cell_type": "code",
   "execution_count": 50,
   "metadata": {},
   "outputs": [],
   "source": [
    "original_features_train, original_features_test, target_train, target_test = train_test_split(\n",
    "original_features, target, test_size=0.25, random_state=69)\n",
    "\n",
    "ordinal_features_train = ordinal_features.loc[original_features_train.index,:]\n",
    "ordinal_features_test = ordinal_features.loc[original_features_test.index,:]\n",
    "\n",
    "ohe_features_train = ohe_features.loc[original_features_train.index,:]\n",
    "ohe_features_test = ohe_features.loc[original_features_test.index,:]"
   ]
  },
  {
   "cell_type": "markdown",
   "metadata": {},
   "source": [
    "<div style=\"font-size: 20px\">\n",
    "    \n",
    "\n",
    "**2.1 Linear regression**"
   ]
  },
  {
   "cell_type": "code",
   "execution_count": 51,
   "metadata": {},
   "outputs": [
    {
     "name": "stdout",
     "output_type": "stream",
     "text": [
      "-- Training for RMSE --\n",
      "\n",
      "Average result of RMSE metric from CV for LinearRegression =  2079.36856279619\n",
      "Wall time: 14.9 s\n"
     ]
    }
   ],
   "source": [
    "%%time\n",
    "\n",
    "linear_model = LinearRegression()\n",
    "print('-- Training for RMSE --')\n",
    "print()\n",
    "CV_LR_RMSE = (cross_val_score(linear_model,\n",
    "                             ohe_features_train,\n",
    "                             target_train,\n",
    "                             cv=5,\n",
    "                             scoring='neg_mean_squared_error').mean() * -1) **0.5\n",
    "print('Average result of RMSE metric from CV for LinearRegression = ', CV_LR_RMSE)"
   ]
  },
  {
   "cell_type": "code",
   "execution_count": 52,
   "metadata": {},
   "outputs": [
    {
     "name": "stdout",
     "output_type": "stream",
     "text": [
      "-- Training for RMSE --\n",
      "\n",
      "Average result of RMSE metric from CV for LinearRegression2 =  3902817698301.764\n",
      "Wall time: 23.2 s\n"
     ]
    }
   ],
   "source": [
    "%%time\n",
    "\n",
    "linear_model2 = LinearRegression()\n",
    "scaller = StandardScaler()\n",
    "pipeline = Pipeline([(\"standard scaller\", scaller),(\"linear_regression\", linear_model2)])\n",
    "print('-- Training for RMSE --')\n",
    "print()\n",
    "CV_LR_RMSE_2 = (cross_val_score(pipeline,\n",
    "                               ohe_features_train,\n",
    "                               target_train,\n",
    "                               cv=5,\n",
    "                               scoring='neg_mean_squared_error').mean() * -1) **0.5\n",
    "print('Average result of RMSE metric from CV for LinearRegression2 = ', CV_LR_RMSE_2)"
   ]
  },
  {
   "cell_type": "markdown",
   "metadata": {},
   "source": [
    "Scaling features degrades the model. We will not use it in the future."
   ]
  },
  {
   "cell_type": "markdown",
   "metadata": {},
   "source": [
    "<div style=\"font-size: 20px\">\n",
    "    \n",
    "\n",
    "**2.2 DecisionTreeRegressor**"
   ]
  },
  {
   "cell_type": "markdown",
   "metadata": {},
   "source": [
    "Let's check the model on features:\n",
    "\n",
    "1. Encoded by the OHE method;\n",
    "2. Encoded by the OEM method."
   ]
  },
  {
   "cell_type": "code",
   "execution_count": 53,
   "metadata": {},
   "outputs": [
    {
     "name": "stdout",
     "output_type": "stream",
     "text": [
      "--Selection of parameters for RMSE--\n",
      "\n",
      "Best parameters\n",
      "\n",
      "{'criterion': 'mse', 'max_depth': 15, 'random_state': 69}\n",
      "\n",
      "Grid scores\n",
      "\n",
      "2510.753198 for {'criterion': 'mse', 'max_depth': 2, 'random_state': 69}\n",
      "2245.046964 for {'criterion': 'mse', 'max_depth': 3, 'random_state': 69}\n",
      "2069.910987 for {'criterion': 'mse', 'max_depth': 4, 'random_state': 69}\n",
      "1958.556893 for {'criterion': 'mse', 'max_depth': 5, 'random_state': 69}\n",
      "1870.385481 for {'criterion': 'mse', 'max_depth': 6, 'random_state': 69}\n",
      "1793.205840 for {'criterion': 'mse', 'max_depth': 7, 'random_state': 69}\n",
      "1735.224222 for {'criterion': 'mse', 'max_depth': 8, 'random_state': 69}\n",
      "1687.550669 for {'criterion': 'mse', 'max_depth': 9, 'random_state': 69}\n",
      "1644.046337 for {'criterion': 'mse', 'max_depth': 10, 'random_state': 69}\n",
      "1607.268046 for {'criterion': 'mse', 'max_depth': 11, 'random_state': 69}\n",
      "1580.028499 for {'criterion': 'mse', 'max_depth': 12, 'random_state': 69}\n",
      "1562.622183 for {'criterion': 'mse', 'max_depth': 13, 'random_state': 69}\n",
      "1553.855524 for {'criterion': 'mse', 'max_depth': 14, 'random_state': 69}\n",
      "1550.108160 for {'criterion': 'mse', 'max_depth': 15, 'random_state': 69}\n",
      "1551.336641 for {'criterion': 'mse', 'max_depth': 16, 'random_state': 69}\n",
      "1553.819012 for {'criterion': 'mse', 'max_depth': 17, 'random_state': 69}\n",
      "1560.362394 for {'criterion': 'mse', 'max_depth': 18, 'random_state': 69}\n",
      "1566.711285 for {'criterion': 'mse', 'max_depth': 19, 'random_state': 69}\n",
      "1571.032776 for {'criterion': 'mse', 'max_depth': 20, 'random_state': 69}\n",
      "1577.724213 for {'criterion': 'mse', 'max_depth': 21, 'random_state': 69}\n",
      "1584.421720 for {'criterion': 'mse', 'max_depth': 22, 'random_state': 69}\n",
      "1588.599149 for {'criterion': 'mse', 'max_depth': 23, 'random_state': 69}\n",
      "1591.331339 for {'criterion': 'mse', 'max_depth': 24, 'random_state': 69}\n",
      "1592.936426 for {'criterion': 'mse', 'max_depth': 25, 'random_state': 69}\n",
      "1595.416561 for {'criterion': 'mse', 'max_depth': 26, 'random_state': 69}\n",
      "1600.463348 for {'criterion': 'mse', 'max_depth': 27, 'random_state': 69}\n",
      "1603.195436 for {'criterion': 'mse', 'max_depth': 28, 'random_state': 69}\n",
      "1605.733206 for {'criterion': 'mse', 'max_depth': 29, 'random_state': 69}\n",
      "1608.842708 for {'criterion': 'mse', 'max_depth': 30, 'random_state': 69}\n",
      "1609.918181 for {'criterion': 'mse', 'max_depth': 31, 'random_state': 69}\n",
      "1611.165866 for {'criterion': 'mse', 'max_depth': 32, 'random_state': 69}\n",
      "1611.753266 for {'criterion': 'mse', 'max_depth': 33, 'random_state': 69}\n",
      "1613.333221 for {'criterion': 'mse', 'max_depth': 34, 'random_state': 69}\n",
      "\n",
      "Wall time: 11min 24s\n"
     ]
    }
   ],
   "source": [
    "%%time\n",
    "\n",
    "tree_model1 = DecisionTreeRegressor()\n",
    "max_depth_list = [x for x in range(2,35)]\n",
    "hyperparams = [{'criterion':['mse'],\n",
    "               'max_depth':max_depth_list,\n",
    "               'random_state':[69]}]\n",
    "print('--Selection of parameters for RMSE--')\n",
    "print()\n",
    "clf = GridSearchCV(tree_model1, hyperparams, scoring='neg_mean_squared_error')\n",
    "clf.fit(ohe_features_train, target_train)\n",
    "print('Best parameters')\n",
    "print()\n",
    "print(clf.best_params_)\n",
    "print()\n",
    "print(\"Grid scores\")\n",
    "print()\n",
    "means = clf.cv_results_['mean_test_score']\n",
    "stds = clf.cv_results_['std_test_score']\n",
    "for mean, std, params in zip(means, stds, clf.cv_results_['params']):\n",
    "    print(\"%0.6f for %r\"% ((mean*-1)**0.5, params))\n",
    "print()\n",
    "\n",
    "CV_DTR_RMSE_1 = (max(means)*-1)**0.5"
   ]
  },
  {
   "cell_type": "code",
   "execution_count": 54,
   "metadata": {},
   "outputs": [
    {
     "name": "stdout",
     "output_type": "stream",
     "text": [
      "--Selection of parameters for MSE--\n",
      "\n",
      "--Best parameters--\n",
      "\n",
      "{'criterion': 'mse', 'max_depth': 13, 'random_state': 69}\n",
      "\n",
      "Grid scores\n",
      "\n",
      "2510.753198 for {'criterion': 'mse', 'max_depth': 2, 'random_state': 69}\n",
      "2245.046964 for {'criterion': 'mse', 'max_depth': 3, 'random_state': 69}\n",
      "2075.296880 for {'criterion': 'mse', 'max_depth': 4, 'random_state': 69}\n",
      "1968.167113 for {'criterion': 'mse', 'max_depth': 5, 'random_state': 69}\n",
      "1875.675629 for {'criterion': 'mse', 'max_depth': 6, 'random_state': 69}\n",
      "1799.466851 for {'criterion': 'mse', 'max_depth': 7, 'random_state': 69}\n",
      "1731.890009 for {'criterion': 'mse', 'max_depth': 8, 'random_state': 69}\n",
      "1681.992259 for {'criterion': 'mse', 'max_depth': 9, 'random_state': 69}\n",
      "1640.024274 for {'criterion': 'mse', 'max_depth': 10, 'random_state': 69}\n",
      "1609.087308 for {'criterion': 'mse', 'max_depth': 11, 'random_state': 69}\n",
      "1589.240078 for {'criterion': 'mse', 'max_depth': 12, 'random_state': 69}\n",
      "1576.781859 for {'criterion': 'mse', 'max_depth': 13, 'random_state': 69}\n",
      "1578.326135 for {'criterion': 'mse', 'max_depth': 14, 'random_state': 69}\n",
      "1586.674196 for {'criterion': 'mse', 'max_depth': 15, 'random_state': 69}\n",
      "1600.670265 for {'criterion': 'mse', 'max_depth': 16, 'random_state': 69}\n",
      "1614.556136 for {'criterion': 'mse', 'max_depth': 17, 'random_state': 69}\n",
      "1627.566888 for {'criterion': 'mse', 'max_depth': 18, 'random_state': 69}\n",
      "1639.452733 for {'criterion': 'mse', 'max_depth': 19, 'random_state': 69}\n",
      "1647.600180 for {'criterion': 'mse', 'max_depth': 20, 'random_state': 69}\n",
      "1657.764616 for {'criterion': 'mse', 'max_depth': 21, 'random_state': 69}\n",
      "1663.271905 for {'criterion': 'mse', 'max_depth': 22, 'random_state': 69}\n",
      "1666.643011 for {'criterion': 'mse', 'max_depth': 23, 'random_state': 69}\n",
      "1669.564425 for {'criterion': 'mse', 'max_depth': 24, 'random_state': 69}\n",
      "1672.414131 for {'criterion': 'mse', 'max_depth': 25, 'random_state': 69}\n",
      "1671.078805 for {'criterion': 'mse', 'max_depth': 26, 'random_state': 69}\n",
      "1674.128589 for {'criterion': 'mse', 'max_depth': 27, 'random_state': 69}\n",
      "1673.958018 for {'criterion': 'mse', 'max_depth': 28, 'random_state': 69}\n",
      "1674.713731 for {'criterion': 'mse', 'max_depth': 29, 'random_state': 69}\n",
      "1673.203374 for {'criterion': 'mse', 'max_depth': 30, 'random_state': 69}\n",
      "1674.116470 for {'criterion': 'mse', 'max_depth': 31, 'random_state': 69}\n",
      "1676.232969 for {'criterion': 'mse', 'max_depth': 32, 'random_state': 69}\n",
      "1676.974108 for {'criterion': 'mse', 'max_depth': 33, 'random_state': 69}\n",
      "1676.792307 for {'criterion': 'mse', 'max_depth': 34, 'random_state': 69}\n",
      "\n",
      "Wall time: 1min 1s\n"
     ]
    }
   ],
   "source": [
    "%%time\n",
    "\n",
    "tree_model2 = DecisionTreeRegressor()\n",
    "max_depth_list = [x for x in range(2,35)]\n",
    "hyperparams = [{'criterion':['mse'],\n",
    "               'max_depth':max_depth_list,\n",
    "               'random_state':[69]}]\n",
    "\n",
    "print('--Selection of parameters for MSE--')\n",
    "print()\n",
    "clf = GridSearchCV(tree_model2, hyperparams, scoring='neg_mean_squared_error')\n",
    "clf.fit(ordinal_features_train, target_train)\n",
    "print('--Best parameters--')\n",
    "print()\n",
    "print(clf.best_params_)\n",
    "print()\n",
    "print('Grid scores')\n",
    "print()\n",
    "means = clf.cv_results_['mean_test_score']\n",
    "stds = clf.cv_results_['std_test_score']\n",
    "for mean, std, params in zip(means, stds, clf.cv_results_['params']):\n",
    "    print(\"%0.6f for %r\"%((mean*-1)**0.5, params))\n",
    "print()\n",
    "\n",
    "CV_DTR_RMSE_2 = (max(means)*-1) ** 0.5"
   ]
  },
  {
   "cell_type": "markdown",
   "metadata": {},
   "source": [
    "Training on OHE and OE gave similar results, so we will include them in the final table."
   ]
  },
  {
   "cell_type": "markdown",
   "metadata": {},
   "source": [
    "<div style=\"font-size: 20px\">\n",
    "    \n",
    "\n",
    "**2.3 CatBoostRegressor**"
   ]
  },
  {
   "cell_type": "markdown",
   "metadata": {},
   "source": [
    "Let's train the model on the data:\n",
    "\n",
    "1. encoded by the OE method;\n",
    "2. on the original data with the indication of categories."
   ]
  },
  {
   "cell_type": "code",
   "execution_count": 55,
   "metadata": {},
   "outputs": [
    {
     "name": "stdout",
     "output_type": "stream",
     "text": [
      "--Selection of parameters for MSE--\n",
      "\n",
      "--Best parameters--\n",
      "\n",
      "{'learning_rate': 0.5, 'random_state': 69, 'verbose': False}\n",
      "\n",
      "Grid scores\n",
      "\n",
      "1337.013322 for {'learning_rate': 0.1, 'random_state': 69, 'verbose': False}\n",
      "1331.258816 for {'learning_rate': 0.5, 'random_state': 69, 'verbose': False}\n",
      "1353.408219 for {'learning_rate': 0.8, 'random_state': 69, 'verbose': False}\n",
      "\n",
      "Wall time: 2min 58s\n"
     ]
    }
   ],
   "source": [
    "%%time\n",
    "\n",
    "cat_model = CatBoostRegressor()\n",
    "hyperparams = [{'learning_rate':[0.1, 0.5, 0.8],\n",
    "               'random_state':[69],\n",
    "               'verbose':[False]}]\n",
    "\n",
    "print('--Selection of parameters for MSE--')\n",
    "print()\n",
    "clf = GridSearchCV(cat_model, hyperparams, scoring='neg_mean_squared_error')\n",
    "clf.fit(ordinal_features_train, target_train)\n",
    "print('--Best parameters--')\n",
    "print()\n",
    "print(clf.best_params_)\n",
    "print()\n",
    "print('Grid scores')\n",
    "print()\n",
    "means = clf.cv_results_['mean_test_score']\n",
    "stds = clf.cv_results_['std_test_score']\n",
    "for mean, std, params in zip(means, stds, clf.cv_results_['params']):\n",
    "    print(\"%0.6f for %r\"% ((mean*-1) ** 0.5, params))\n",
    "print()\n",
    "\n",
    "CV_CBR_RMSE_1 = (max(means)*-1) ** 0.5"
   ]
  },
  {
   "cell_type": "code",
   "execution_count": 56,
   "metadata": {},
   "outputs": [
    {
     "name": "stdout",
     "output_type": "stream",
     "text": [
      "--Training for MSE--\n",
      "\n",
      "Average value of RMSE for CatBoostRegressor =  1351.2445228041613\n",
      "Wall time: 1min 16s\n"
     ]
    }
   ],
   "source": [
    "%%time \n",
    "\n",
    "cat_model2 = CatBoostRegressor(learning_rate=0.5,\n",
    "                              iterations=200,\n",
    "                              random_state=69,\n",
    "                              verbose=False,\n",
    "                              cat_features=['VehicleType', 'FuelType', 'Brand', 'Model'])\n",
    "print('--Training for MSE--')\n",
    "print()\n",
    "CV_CBR_RMSE_2 = (cross_val_score(cat_model2,\n",
    "                                original_features_train,\n",
    "                                target_train,\n",
    "                                cv=5,\n",
    "                                scoring='neg_mean_squared_error').mean()*-1)** 0.5\n",
    "print('Average value of RMSE for CatBoostRegressor = ', CV_CBR_RMSE_2)"
   ]
  },
  {
   "cell_type": "markdown",
   "metadata": {},
   "source": [
    "<div style=\"font-size: 20px\">\n",
    "    \n",
    "\n",
    "**2.4 LGBMRegressor**"
   ]
  },
  {
   "cell_type": "code",
   "execution_count": 57,
   "metadata": {},
   "outputs": [
    {
     "name": "stdout",
     "output_type": "stream",
     "text": [
      "--Selection of parameters for MSE--\n",
      "\n",
      "--Best parameters--\n",
      "\n",
      "{'learning_rate': 0.1, 'num_leaves': 200, 'random_state': 69}\n",
      "\n",
      "Grid scores\n",
      "\n",
      "1396.224790 for {'learning_rate': 0.1, 'num_leaves': 31, 'random_state': 69}\n",
      "1342.801339 for {'learning_rate': 0.1, 'num_leaves': 100, 'random_state': 69}\n",
      "1324.692475 for {'learning_rate': 0.1, 'num_leaves': 200, 'random_state': 69}\n",
      "1355.531136 for {'learning_rate': 0.3, 'num_leaves': 31, 'random_state': 69}\n",
      "1335.002270 for {'learning_rate': 0.3, 'num_leaves': 100, 'random_state': 69}\n",
      "1332.178646 for {'learning_rate': 0.3, 'num_leaves': 200, 'random_state': 69}\n",
      "1360.001086 for {'learning_rate': 0.5, 'num_leaves': 31, 'random_state': 69}\n",
      "1353.935467 for {'learning_rate': 0.5, 'num_leaves': 100, 'random_state': 69}\n",
      "1361.789589 for {'learning_rate': 0.5, 'num_leaves': 200, 'random_state': 69}\n",
      "\n",
      "Wall time: 43.6 s\n"
     ]
    }
   ],
   "source": [
    "%%time \n",
    "\n",
    "regressor = LGBMRegressor()\n",
    "hyperparams = [{'num_leaves':[31, 100, 200],\n",
    "               'learning_rate':[0.1, 0.3, 0.5],\n",
    "               'random_state':[69]}]\n",
    "\n",
    "print('--Selection of parameters for MSE--')\n",
    "print()\n",
    "clf = GridSearchCV(regressor, hyperparams, scoring='neg_mean_squared_error')\n",
    "clf.fit(ordinal_features_train, target_train)\n",
    "print(\"--Best parameters--\")\n",
    "print()\n",
    "print(clf.best_params_)\n",
    "print()\n",
    "print(\"Grid scores\")\n",
    "print()\n",
    "means = clf.cv_results_['mean_test_score']\n",
    "stds = clf.cv_results_['std_test_score']\n",
    "for mean, std, params in zip(means, stds, clf.cv_results_['params']):\n",
    "    print(\"%0.6f for %r\"% ((mean*-1)**0.5, params))\n",
    "print()\n",
    "\n",
    "CV_LGBMR_RMSE = (max(means) * -1) **0.5"
   ]
  },
  {
   "cell_type": "markdown",
   "metadata": {},
   "source": [
    "<div style=\"font-size: 20px\">\n",
    "    \n",
    "\n",
    "**Intermediate conclusion:**"
   ]
  },
  {
   "cell_type": "markdown",
   "metadata": {},
   "source": [
    "In this section, 4 regression models were trained, as well as the best hyperparameters were selected, the training and/or selection time was estimated."
   ]
  },
  {
   "cell_type": "markdown",
   "metadata": {},
   "source": [
    "## 3. Analysis of models"
   ]
  },
  {
   "cell_type": "markdown",
   "metadata": {},
   "source": [
    "We will train models with the best parameters and build forecasts."
   ]
  },
  {
   "cell_type": "markdown",
   "metadata": {},
   "source": [
    "<div style=\"font-size: 20px\">\n",
    "    \n",
    "\n",
    "**3.1 Linear regression**"
   ]
  },
  {
   "cell_type": "code",
   "execution_count": 58,
   "metadata": {},
   "outputs": [
    {
     "name": "stdout",
     "output_type": "stream",
     "text": [
      "Wall time: 3.27 s\n"
     ]
    },
    {
     "data": {
      "text/plain": [
       "LinearRegression()"
      ]
     },
     "execution_count": 58,
     "metadata": {},
     "output_type": "execute_result"
    }
   ],
   "source": [
    "%%time\n",
    "\n",
    "model = LinearRegression()\n",
    "model.fit(ohe_features_train, target_train)"
   ]
  },
  {
   "cell_type": "code",
   "execution_count": 59,
   "metadata": {},
   "outputs": [
    {
     "name": "stdout",
     "output_type": "stream",
     "text": [
      "Wall time: 194 ms\n"
     ]
    }
   ],
   "source": [
    "%%time\n",
    "\n",
    "target_predict = model.predict(ohe_features_test)"
   ]
  },
  {
   "cell_type": "code",
   "execution_count": 60,
   "metadata": {},
   "outputs": [],
   "source": [
    "LR_final_RMSE = mean_squared_error(target_test, target_predict) ** 0.5"
   ]
  },
  {
   "cell_type": "markdown",
   "metadata": {},
   "source": [
    "<div style=\"font-size: 20px\">\n",
    "    \n",
    "\n",
    "**3.2 DecisionTreeRegressor**"
   ]
  },
  {
   "cell_type": "code",
   "execution_count": 61,
   "metadata": {},
   "outputs": [
    {
     "name": "stdout",
     "output_type": "stream",
     "text": [
      "Wall time: 4.96 s\n"
     ]
    },
    {
     "data": {
      "text/plain": [
       "DecisionTreeRegressor(max_depth=15, random_state=69)"
      ]
     },
     "execution_count": 61,
     "metadata": {},
     "output_type": "execute_result"
    }
   ],
   "source": [
    "%%time\n",
    "\n",
    "model = DecisionTreeRegressor(criterion='mse',\n",
    "                             max_depth=15,\n",
    "                             random_state=69)\n",
    "model.fit(ohe_features_train, target_train)"
   ]
  },
  {
   "cell_type": "code",
   "execution_count": 62,
   "metadata": {},
   "outputs": [
    {
     "name": "stdout",
     "output_type": "stream",
     "text": [
      "Wall time: 114 ms\n"
     ]
    }
   ],
   "source": [
    "%%time\n",
    "\n",
    "target_predict = model.predict(ohe_features_test)"
   ]
  },
  {
   "cell_type": "code",
   "execution_count": 63,
   "metadata": {},
   "outputs": [],
   "source": [
    "DTR_OHE_RMSE_final = mean_squared_error(target_test, target_predict)**0.5"
   ]
  },
  {
   "cell_type": "code",
   "execution_count": 64,
   "metadata": {},
   "outputs": [
    {
     "name": "stdout",
     "output_type": "stream",
     "text": [
      "Wall time: 387 ms\n"
     ]
    },
    {
     "data": {
      "text/plain": [
       "DecisionTreeRegressor(max_depth=13, random_state=69)"
      ]
     },
     "execution_count": 64,
     "metadata": {},
     "output_type": "execute_result"
    }
   ],
   "source": [
    "%%time\n",
    "\n",
    "model = DecisionTreeRegressor(criterion='mse',\n",
    "                             max_depth=13,\n",
    "                             random_state=69)\n",
    "model.fit(ordinal_features_train, target_train)"
   ]
  },
  {
   "cell_type": "code",
   "execution_count": 65,
   "metadata": {},
   "outputs": [
    {
     "name": "stdout",
     "output_type": "stream",
     "text": [
      "Wall time: 20.1 ms\n"
     ]
    }
   ],
   "source": [
    "%%time\n",
    "\n",
    "target_predict = model.predict(ordinal_features_test)"
   ]
  },
  {
   "cell_type": "code",
   "execution_count": 66,
   "metadata": {},
   "outputs": [],
   "source": [
    "DTR_ORDINAL_RMSE_final = mean_squared_error(target_test, target_predict) ** 0.5"
   ]
  },
  {
   "cell_type": "markdown",
   "metadata": {},
   "source": [
    "<div style=\"font-size: 20px\">\n",
    "    \n",
    "\n",
    "**3.3 CatBoostRegressor**"
   ]
  },
  {
   "cell_type": "code",
   "execution_count": 67,
   "metadata": {},
   "outputs": [
    {
     "name": "stdout",
     "output_type": "stream",
     "text": [
      "Wall time: 13.4 s\n"
     ]
    },
    {
     "data": {
      "text/plain": [
       "<catboost.core.CatBoostRegressor at 0x1b921aaa400>"
      ]
     },
     "execution_count": 67,
     "metadata": {},
     "output_type": "execute_result"
    }
   ],
   "source": [
    "%%time\n",
    "\n",
    "model = CatBoostRegressor(learning_rate=0.5,\n",
    "                         random_state=69,\n",
    "                         verbose=False)\n",
    "model.fit(ordinal_features_train, target_train)"
   ]
  },
  {
   "cell_type": "code",
   "execution_count": 68,
   "metadata": {},
   "outputs": [
    {
     "name": "stdout",
     "output_type": "stream",
     "text": [
      "Wall time: 29 ms\n"
     ]
    }
   ],
   "source": [
    "%%time\n",
    "\n",
    "target_predict = model.predict(ordinal_features_test)"
   ]
  },
  {
   "cell_type": "code",
   "execution_count": 69,
   "metadata": {
    "scrolled": true
   },
   "outputs": [],
   "source": [
    "CBR_ORDINAL_RMSE_final = mean_squared_error(target_test, target_predict) ** 0.5"
   ]
  },
  {
   "cell_type": "code",
   "execution_count": 70,
   "metadata": {},
   "outputs": [
    {
     "name": "stdout",
     "output_type": "stream",
     "text": [
      "Wall time: 19.5 s\n"
     ]
    },
    {
     "data": {
      "text/plain": [
       "<catboost.core.CatBoostRegressor at 0x1b91a5c7d30>"
      ]
     },
     "execution_count": 70,
     "metadata": {},
     "output_type": "execute_result"
    }
   ],
   "source": [
    "%%time\n",
    "\n",
    "model = CatBoostRegressor(learning_rate=0.5,\n",
    "                          iterations=200,\n",
    "                          random_state=69,\n",
    "                          verbose=False,\n",
    "                          cat_features=['VehicleType','FuelType', 'Brand', 'Model'])\n",
    "model.fit(original_features_train, target_train)"
   ]
  },
  {
   "cell_type": "code",
   "execution_count": 71,
   "metadata": {},
   "outputs": [
    {
     "name": "stdout",
     "output_type": "stream",
     "text": [
      "Wall time: 105 ms\n"
     ]
    }
   ],
   "source": [
    "%%time\n",
    "\n",
    "target_predict = model.predict(original_features_test)"
   ]
  },
  {
   "cell_type": "code",
   "execution_count": 72,
   "metadata": {},
   "outputs": [],
   "source": [
    "CBR_ORIGINAL_RMSE_final = mean_squared_error(target_test, target_predict) ** 0.5"
   ]
  },
  {
   "cell_type": "markdown",
   "metadata": {},
   "source": [
    "<div style=\"font-size: 20px\">\n",
    "    \n",
    "\n",
    "**3.4 LGBMTreeRegressor**"
   ]
  },
  {
   "cell_type": "code",
   "execution_count": 73,
   "metadata": {},
   "outputs": [
    {
     "name": "stdout",
     "output_type": "stream",
     "text": [
      "Wall time: 1.42 s\n"
     ]
    },
    {
     "data": {
      "text/plain": [
       "LGBMRegressor(num_leaves=200, random_state=69)"
      ]
     },
     "execution_count": 73,
     "metadata": {},
     "output_type": "execute_result"
    }
   ],
   "source": [
    "%%time \n",
    "\n",
    "model = LGBMRegressor(learning_rate=0.1,\n",
    "                     num_leaves=200,\n",
    "                     random_state=69)\n",
    "model.fit(ordinal_features_train, target_train)"
   ]
  },
  {
   "cell_type": "code",
   "execution_count": 74,
   "metadata": {},
   "outputs": [
    {
     "name": "stdout",
     "output_type": "stream",
     "text": [
      "Wall time: 171 ms\n"
     ]
    }
   ],
   "source": [
    "%%time\n",
    "\n",
    "target_predict = model.predict(ordinal_features_test)"
   ]
  },
  {
   "cell_type": "code",
   "execution_count": 75,
   "metadata": {},
   "outputs": [],
   "source": [
    "LGBMR_RMSE_final = mean_squared_error(target_test, target_predict) ** 0.5"
   ]
  },
  {
   "cell_type": "markdown",
   "metadata": {},
   "source": [
    "We display the totals in a single table."
   ]
  },
  {
   "cell_type": "code",
   "execution_count": 76,
   "metadata": {},
   "outputs": [
    {
     "data": {
      "text/html": [
       "<div>\n",
       "<style scoped>\n",
       "    .dataframe tbody tr th:only-of-type {\n",
       "        vertical-align: middle;\n",
       "    }\n",
       "\n",
       "    .dataframe tbody tr th {\n",
       "        vertical-align: top;\n",
       "    }\n",
       "\n",
       "    .dataframe thead th {\n",
       "        text-align: right;\n",
       "    }\n",
       "</style>\n",
       "<table border=\"1\" class=\"dataframe\">\n",
       "  <thead>\n",
       "    <tr style=\"text-align: right;\">\n",
       "      <th></th>\n",
       "      <th>RMSE on CV, euro</th>\n",
       "      <th>CV training time, sec</th>\n",
       "      <th>RMSE models on the test sample, euro</th>\n",
       "      <th>Model training time, sec</th>\n",
       "      <th>Model prediction time, sec</th>\n",
       "      <th>RMSE rating</th>\n",
       "      <th>Rating of training time</th>\n",
       "      <th>Rating of predictions time</th>\n",
       "      <th>Final rating</th>\n",
       "    </tr>\n",
       "  </thead>\n",
       "  <tbody>\n",
       "    <tr>\n",
       "      <th>LinearRegression</th>\n",
       "      <td>2079.368563</td>\n",
       "      <td>84</td>\n",
       "      <td>2077.773033</td>\n",
       "      <td>3.480</td>\n",
       "      <td>0.1850</td>\n",
       "      <td>0.637065</td>\n",
       "      <td>0.114368</td>\n",
       "      <td>0.097297</td>\n",
       "      <td>0.848730</td>\n",
       "    </tr>\n",
       "    <tr>\n",
       "      <th>DecisionTreeRegressor on OHE features</th>\n",
       "      <td>1550.108160</td>\n",
       "      <td>94</td>\n",
       "      <td>1530.734320</td>\n",
       "      <td>5.010</td>\n",
       "      <td>0.1210</td>\n",
       "      <td>0.854581</td>\n",
       "      <td>0.079441</td>\n",
       "      <td>0.148760</td>\n",
       "      <td>1.082782</td>\n",
       "    </tr>\n",
       "    <tr>\n",
       "      <th>DecisionTreeRegressor on OE features</th>\n",
       "      <td>1576.781859</td>\n",
       "      <td>656</td>\n",
       "      <td>1560.137935</td>\n",
       "      <td>0.398</td>\n",
       "      <td>0.0180</td>\n",
       "      <td>0.840124</td>\n",
       "      <td>1.000000</td>\n",
       "      <td>1.000000</td>\n",
       "      <td>2.840124</td>\n",
       "    </tr>\n",
       "    <tr>\n",
       "      <th>CatBoostRegressor on OE features</th>\n",
       "      <td>1331.258816</td>\n",
       "      <td>65</td>\n",
       "      <td>1326.370895</td>\n",
       "      <td>13.600</td>\n",
       "      <td>0.0728</td>\n",
       "      <td>0.995068</td>\n",
       "      <td>0.029265</td>\n",
       "      <td>0.247253</td>\n",
       "      <td>1.271585</td>\n",
       "    </tr>\n",
       "    <tr>\n",
       "      <th>CatBoostRegressor on original features</th>\n",
       "      <td>1351.244523</td>\n",
       "      <td>539</td>\n",
       "      <td>1339.827530</td>\n",
       "      <td>19.500</td>\n",
       "      <td>0.0956</td>\n",
       "      <td>0.980350</td>\n",
       "      <td>0.020410</td>\n",
       "      <td>0.188285</td>\n",
       "      <td>1.189045</td>\n",
       "    </tr>\n",
       "    <tr>\n",
       "      <th>LGBMRegressor</th>\n",
       "      <td>1324.692475</td>\n",
       "      <td>215</td>\n",
       "      <td>1318.500730</td>\n",
       "      <td>1.450</td>\n",
       "      <td>0.2560</td>\n",
       "      <td>1.000000</td>\n",
       "      <td>0.274483</td>\n",
       "      <td>0.070312</td>\n",
       "      <td>1.344795</td>\n",
       "    </tr>\n",
       "  </tbody>\n",
       "</table>\n",
       "</div>"
      ],
      "text/plain": [
       "                                        RMSE on CV, euro  \\\n",
       "LinearRegression                             2079.368563   \n",
       "DecisionTreeRegressor on OHE features        1550.108160   \n",
       "DecisionTreeRegressor on OE features         1576.781859   \n",
       "CatBoostRegressor on OE features             1331.258816   \n",
       "CatBoostRegressor on original features       1351.244523   \n",
       "LGBMRegressor                                1324.692475   \n",
       "\n",
       "                                        CV training time, sec  \\\n",
       "LinearRegression                                           84   \n",
       "DecisionTreeRegressor on OHE features                      94   \n",
       "DecisionTreeRegressor on OE features                      656   \n",
       "CatBoostRegressor on OE features                           65   \n",
       "CatBoostRegressor on original features                    539   \n",
       "LGBMRegressor                                             215   \n",
       "\n",
       "                                        RMSE models on the test sample, euro  \\\n",
       "LinearRegression                                                 2077.773033   \n",
       "DecisionTreeRegressor on OHE features                            1530.734320   \n",
       "DecisionTreeRegressor on OE features                             1560.137935   \n",
       "CatBoostRegressor on OE features                                 1326.370895   \n",
       "CatBoostRegressor on original features                           1339.827530   \n",
       "LGBMRegressor                                                    1318.500730   \n",
       "\n",
       "                                        Model training time, sec  \\\n",
       "LinearRegression                                           3.480   \n",
       "DecisionTreeRegressor on OHE features                      5.010   \n",
       "DecisionTreeRegressor on OE features                       0.398   \n",
       "CatBoostRegressor on OE features                          13.600   \n",
       "CatBoostRegressor on original features                    19.500   \n",
       "LGBMRegressor                                              1.450   \n",
       "\n",
       "                                        Model prediction time, sec  \\\n",
       "LinearRegression                                            0.1850   \n",
       "DecisionTreeRegressor on OHE features                       0.1210   \n",
       "DecisionTreeRegressor on OE features                        0.0180   \n",
       "CatBoostRegressor on OE features                            0.0728   \n",
       "CatBoostRegressor on original features                      0.0956   \n",
       "LGBMRegressor                                               0.2560   \n",
       "\n",
       "                                        RMSE rating  Rating of training time  \\\n",
       "LinearRegression                           0.637065                 0.114368   \n",
       "DecisionTreeRegressor on OHE features      0.854581                 0.079441   \n",
       "DecisionTreeRegressor on OE features       0.840124                 1.000000   \n",
       "CatBoostRegressor on OE features           0.995068                 0.029265   \n",
       "CatBoostRegressor on original features     0.980350                 0.020410   \n",
       "LGBMRegressor                              1.000000                 0.274483   \n",
       "\n",
       "                                        Rating of predictions time  \\\n",
       "LinearRegression                                          0.097297   \n",
       "DecisionTreeRegressor on OHE features                     0.148760   \n",
       "DecisionTreeRegressor on OE features                      1.000000   \n",
       "CatBoostRegressor on OE features                          0.247253   \n",
       "CatBoostRegressor on original features                    0.188285   \n",
       "LGBMRegressor                                             0.070312   \n",
       "\n",
       "                                        Final rating  \n",
       "LinearRegression                            0.848730  \n",
       "DecisionTreeRegressor on OHE features       1.082782  \n",
       "DecisionTreeRegressor on OE features        2.840124  \n",
       "CatBoostRegressor on OE features            1.271585  \n",
       "CatBoostRegressor on original features      1.189045  \n",
       "LGBMRegressor                               1.344795  "
      ]
     },
     "execution_count": 76,
     "metadata": {},
     "output_type": "execute_result"
    }
   ],
   "source": [
    "indexes = ['LinearRegression',\n",
    "           'DecisionTreeRegressor on OHE features',\n",
    "           'DecisionTreeRegressor on OE features',\n",
    "           'CatBoostRegressor on OE features',\n",
    "           'CatBoostRegressor on original features',\n",
    "           'LGBMRegressor']\n",
    "data = {'RMSE on CV, euro': [CV_LR_RMSE,\n",
    "                             CV_DTR_RMSE_1,\n",
    "                             CV_DTR_RMSE_2,\n",
    "                             CV_CBR_RMSE_1,\n",
    "                             CV_CBR_RMSE_2,\n",
    "                             CV_LGBMR_RMSE],\n",
    "       'CV training time, sec':[84,\n",
    "                                    94,\n",
    "                                    656,\n",
    "                                    65,\n",
    "                                    539,\n",
    "                                    215,\n",
    "                                    ],\n",
    "        'RMSE models on the test sample, euro':[LR_final_RMSE,\n",
    "                                                 DTR_OHE_RMSE_final,\n",
    "                                                 DTR_ORDINAL_RMSE_final,\n",
    "                                                 CBR_ORDINAL_RMSE_final,\n",
    "                                                 CBR_ORIGINAL_RMSE_final,\n",
    "                                                 LGBMR_RMSE_final],\n",
    "        'Model training time, sec':[3.48,\n",
    "                                      5.01,\n",
    "                                      0.398,\n",
    "                                      13.6,\n",
    "                                      19.5,\n",
    "                                      1.45\n",
    "                                     ],\n",
    "        'Model prediction time, sec':[0.185,\n",
    "                                          0.121,\n",
    "                                          0.018,\n",
    "                                          0.0728,\n",
    "                                          0.0956,\n",
    "                                          0.256\n",
    "                                         ]}\n",
    "\n",
    "total_scores = pd.DataFrame(data=data, index=indexes)\n",
    "total_scores['RMSE rating'] = (total_scores['RMSE on CV, euro'].min() /\n",
    "                              total_scores['RMSE on CV, euro'])\n",
    "total_scores['Rating of training time'] = (total_scores['Model training time, sec'].min() / \n",
    "                              total_scores['Model training time, sec'])\n",
    "total_scores['Rating of predictions time'] = (total_scores['Model prediction time, sec'].min() / \n",
    "                              total_scores['Model prediction time, sec'])\n",
    "total_scores['Final rating'] = (total_scores['RMSE rating'] +\n",
    "                                   total_scores['Rating of training time'] +\n",
    "                                   total_scores['Rating of predictions time'])\n",
    "total_scores"
   ]
  },
  {
   "cell_type": "markdown",
   "metadata": {},
   "source": [
    "<div style=\"font-size: 20px\">\n",
    "    \n",
    "\n",
    "**4. Final conclusions**"
   ]
  },
  {
   "cell_type": "markdown",
   "metadata": {},
   "source": [
    "Under this project, data from aftermarket cars were reviewed and preprocessed. Gaps have been filled in, outliers have been removed. Hyperparameters for various machine learning models are considered and selected: LinearRegression, DecisionTreeRegressor, CatBoostRegressor, LGBMRegressor.\n",
    "\n",
    "A relative rating (based on RMSE, training time, and prediction time) was created for the overall assessment of three parameters. Based on the results of the combined rating:\n",
    "\n",
    "The regressor with the lowest time or RMSE gets the 1st place. The rest receive a rating as the ratio of the best in the column to its value. We believe that all parameters are equivalent.\n",
    "\n",
    "The choice of the model was not affected by the training time for cross-validation, since it is carried out once on one type of data. At that time, it is necessary to retrain the model on new data much more often.\n",
    "\n",
    "The best model for the three parameters quality, learning speed and prediction speed can be considered a DecisionTreeRegressor. The speed of learning on the prepared data brings him to the leaders of the rating. Accuracy is generally worse.\n",
    "\n",
    "If we consider only the estimation of accuracy, then LGBMRegressor takes the lead. It is followed by CatBoostRegressor and DecisionTreeRegressor takes third place.\n",
    "\n",
    "LinearRegression and Ridge performed very poorly on this task.\n",
    "\n",
    "Based on the rating obtained, it is possible to identify the specifics of the tasks for regressors.\n",
    "\n",
    "For quick decisions with good accuracy, a DecisionTreeRegressor with prepared attributes is suitable.\n",
    "If accuracy is important in the case and there is time, the LGBMRegressor will help predict the best.\n",
    "For tasks that do not require strong preprocessing and data harvesting, CatBoostRegressor can show itself not bad."
   ]
  }
 ],
 "metadata": {
  "ExecuteTimeLog": [
   {
    "duration": 1675,
    "start_time": "2022-03-25T15:50:43.745Z"
   },
   {
    "duration": 12,
    "start_time": "2022-03-25T15:50:57.983Z"
   },
   {
    "duration": 10,
    "start_time": "2022-03-25T15:51:23.803Z"
   },
   {
    "duration": 10,
    "start_time": "2022-03-25T15:52:30.337Z"
   },
   {
    "duration": 729,
    "start_time": "2022-03-25T15:52:34.800Z"
   },
   {
    "duration": 58,
    "start_time": "2022-03-25T15:54:28.296Z"
   },
   {
    "duration": 4,
    "start_time": "2022-03-25T15:54:35.354Z"
   },
   {
    "duration": 364,
    "start_time": "2022-03-25T16:05:46.330Z"
   },
   {
    "duration": 1032,
    "start_time": "2022-03-25T16:05:47.878Z"
   },
   {
    "duration": 121,
    "start_time": "2022-03-25T16:08:51.671Z"
   },
   {
    "duration": 12,
    "start_time": "2022-03-25T16:16:57.751Z"
   },
   {
    "duration": 9,
    "start_time": "2022-03-25T16:17:07.432Z"
   },
   {
    "duration": 5,
    "start_time": "2022-03-25T16:17:24.526Z"
   },
   {
    "duration": 11,
    "start_time": "2022-03-25T16:17:50.845Z"
   },
   {
    "duration": 3145,
    "start_time": "2022-03-25T16:18:16.015Z"
   },
   {
    "duration": 9,
    "start_time": "2022-03-25T16:19:10.066Z"
   },
   {
    "duration": 3114,
    "start_time": "2022-03-25T16:19:47.672Z"
   },
   {
    "duration": 5,
    "start_time": "2022-03-25T16:20:19.324Z"
   },
   {
    "duration": 4,
    "start_time": "2022-03-25T16:20:30.950Z"
   },
   {
    "duration": 8,
    "start_time": "2022-03-25T16:20:43.662Z"
   },
   {
    "duration": 8,
    "start_time": "2022-03-25T16:21:00.956Z"
   },
   {
    "duration": 8,
    "start_time": "2022-03-25T16:21:24.945Z"
   },
   {
    "duration": 12,
    "start_time": "2022-03-25T16:21:29.989Z"
   },
   {
    "duration": 15,
    "start_time": "2022-03-25T16:21:49.086Z"
   },
   {
    "duration": 17,
    "start_time": "2022-03-25T16:24:01.398Z"
   },
   {
    "duration": 9,
    "start_time": "2022-03-25T16:24:09.466Z"
   },
   {
    "duration": 2,
    "start_time": "2022-03-25T16:25:38.176Z"
   },
   {
    "duration": 14,
    "start_time": "2022-03-25T16:25:55.416Z"
   },
   {
    "duration": 2,
    "start_time": "2022-03-25T16:26:56.080Z"
   },
   {
    "duration": 1293,
    "start_time": "2022-03-28T15:30:32.076Z"
   },
   {
    "duration": 757,
    "start_time": "2022-03-28T15:30:33.371Z"
   },
   {
    "duration": 134,
    "start_time": "2022-03-28T15:30:34.129Z"
   },
   {
    "duration": 3,
    "start_time": "2022-03-28T15:30:34.265Z"
   },
   {
    "duration": 10,
    "start_time": "2022-03-28T15:30:34.269Z"
   },
   {
    "duration": 318,
    "start_time": "2022-03-28T15:31:09.671Z"
   },
   {
    "duration": 3,
    "start_time": "2022-03-28T15:33:55.145Z"
   },
   {
    "duration": 153,
    "start_time": "2022-03-28T15:35:09.664Z"
   },
   {
    "duration": 137,
    "start_time": "2022-03-28T15:39:09.348Z"
   },
   {
    "duration": 140,
    "start_time": "2022-03-28T15:39:37.466Z"
   },
   {
    "duration": 134,
    "start_time": "2022-03-28T15:40:17.581Z"
   },
   {
    "duration": 75,
    "start_time": "2022-03-28T15:41:21.495Z"
   },
   {
    "duration": 130,
    "start_time": "2022-03-28T15:41:39.685Z"
   },
   {
    "duration": 143,
    "start_time": "2022-03-28T15:45:04.406Z"
   },
   {
    "duration": 134,
    "start_time": "2022-03-28T15:45:09.219Z"
   },
   {
    "duration": 129,
    "start_time": "2022-03-28T15:47:22.446Z"
   },
   {
    "duration": 128,
    "start_time": "2022-03-28T15:47:52.922Z"
   },
   {
    "duration": 140,
    "start_time": "2022-03-28T15:48:09.765Z"
   },
   {
    "duration": 137,
    "start_time": "2022-03-28T15:48:26.311Z"
   },
   {
    "duration": 134,
    "start_time": "2022-03-28T15:49:44.954Z"
   },
   {
    "duration": 131,
    "start_time": "2022-03-28T15:51:26.431Z"
   },
   {
    "duration": 134,
    "start_time": "2022-03-28T15:52:17.138Z"
   },
   {
    "duration": 136,
    "start_time": "2022-03-28T15:58:11.626Z"
   },
   {
    "duration": 131,
    "start_time": "2022-03-28T15:58:19.171Z"
   },
   {
    "duration": 129,
    "start_time": "2022-03-28T15:59:03.020Z"
   },
   {
    "duration": 384,
    "start_time": "2022-03-28T16:03:41.702Z"
   },
   {
    "duration": 135,
    "start_time": "2022-03-28T16:05:22.139Z"
   },
   {
    "duration": 136,
    "start_time": "2022-03-28T16:05:34.214Z"
   },
   {
    "duration": 505,
    "start_time": "2022-03-28T16:06:14.996Z"
   },
   {
    "duration": 515,
    "start_time": "2022-03-28T16:07:31.278Z"
   },
   {
    "duration": 2500,
    "start_time": "2022-03-30T15:05:44.979Z"
   },
   {
    "duration": 1147,
    "start_time": "2022-03-30T15:05:47.481Z"
   },
   {
    "duration": 195,
    "start_time": "2022-03-30T15:05:48.630Z"
   },
   {
    "duration": 4,
    "start_time": "2022-03-30T15:05:48.828Z"
   },
   {
    "duration": 29,
    "start_time": "2022-03-30T15:05:48.834Z"
   },
   {
    "duration": 174,
    "start_time": "2022-03-30T15:05:48.865Z"
   },
   {
    "duration": 0,
    "start_time": "2022-03-30T15:05:49.041Z"
   },
   {
    "duration": 15,
    "start_time": "2022-03-30T15:06:53.736Z"
   },
   {
    "duration": 171,
    "start_time": "2022-03-30T15:07:07.322Z"
   },
   {
    "duration": 1884,
    "start_time": "2022-03-30T17:21:26.449Z"
   },
   {
    "duration": 854,
    "start_time": "2022-03-30T17:21:28.336Z"
   },
   {
    "duration": 145,
    "start_time": "2022-03-30T17:21:29.192Z"
   },
   {
    "duration": 3,
    "start_time": "2022-03-30T17:21:29.339Z"
   },
   {
    "duration": 8,
    "start_time": "2022-03-30T17:21:29.343Z"
   },
   {
    "duration": 154,
    "start_time": "2022-03-30T17:21:29.353Z"
   },
   {
    "duration": 494,
    "start_time": "2022-03-30T17:21:29.510Z"
   },
   {
    "duration": 1903,
    "start_time": "2022-04-01T02:24:12.457Z"
   },
   {
    "duration": 895,
    "start_time": "2022-04-01T02:24:14.363Z"
   },
   {
    "duration": 147,
    "start_time": "2022-04-01T02:24:15.260Z"
   },
   {
    "duration": 3,
    "start_time": "2022-04-01T02:24:15.410Z"
   },
   {
    "duration": 12,
    "start_time": "2022-04-01T02:24:15.414Z"
   },
   {
    "duration": 150,
    "start_time": "2022-04-01T02:24:15.428Z"
   },
   {
    "duration": 513,
    "start_time": "2022-04-01T02:24:15.580Z"
   },
   {
    "duration": 24,
    "start_time": "2022-04-01T02:33:40.202Z"
   },
   {
    "duration": 144,
    "start_time": "2022-04-01T02:33:59.424Z"
   },
   {
    "duration": 40,
    "start_time": "2022-04-01T02:34:08.858Z"
   },
   {
    "duration": 91,
    "start_time": "2022-04-01T02:34:48.578Z"
   },
   {
    "duration": 13,
    "start_time": "2022-04-01T02:36:27.157Z"
   },
   {
    "duration": 5,
    "start_time": "2022-04-01T02:36:39.214Z"
   },
   {
    "duration": 19,
    "start_time": "2022-04-01T02:37:04.225Z"
   },
   {
    "duration": 10,
    "start_time": "2022-04-01T02:39:21.260Z"
   },
   {
    "duration": 11,
    "start_time": "2022-04-01T02:39:39.756Z"
   },
   {
    "duration": 270,
    "start_time": "2022-04-01T02:40:09.578Z"
   },
   {
    "duration": 10,
    "start_time": "2022-04-01T02:41:03.900Z"
   },
   {
    "duration": 4,
    "start_time": "2022-04-01T02:41:07.160Z"
   },
   {
    "duration": 25,
    "start_time": "2022-04-01T02:41:37.549Z"
   },
   {
    "duration": 491,
    "start_time": "2022-04-01T02:42:49.909Z"
   },
   {
    "duration": 201,
    "start_time": "2022-04-01T02:43:00.219Z"
   },
   {
    "duration": 161,
    "start_time": "2022-04-01T02:45:10.380Z"
   },
   {
    "duration": 383,
    "start_time": "2022-04-01T02:45:25.949Z"
   },
   {
    "duration": 379,
    "start_time": "2022-04-01T02:45:56.545Z"
   },
   {
    "duration": 381,
    "start_time": "2022-04-01T02:46:27.732Z"
   },
   {
    "duration": 389,
    "start_time": "2022-04-01T02:46:33.030Z"
   },
   {
    "duration": 380,
    "start_time": "2022-04-01T02:46:38.797Z"
   },
   {
    "duration": 6,
    "start_time": "2022-04-01T02:58:35.099Z"
   },
   {
    "duration": 31,
    "start_time": "2022-04-01T03:00:21.002Z"
   },
   {
    "duration": 28,
    "start_time": "2022-04-01T03:00:39.409Z"
   },
   {
    "duration": 3,
    "start_time": "2022-04-01T03:02:23.368Z"
   },
   {
    "duration": 92,
    "start_time": "2022-04-01T03:02:30.641Z"
   },
   {
    "duration": 1878,
    "start_time": "2022-04-01T13:41:10.860Z"
   },
   {
    "duration": 915,
    "start_time": "2022-04-01T13:41:12.740Z"
   },
   {
    "duration": 150,
    "start_time": "2022-04-01T13:41:13.657Z"
   },
   {
    "duration": 40,
    "start_time": "2022-04-01T13:41:13.809Z"
   },
   {
    "duration": 6,
    "start_time": "2022-04-01T13:41:13.851Z"
   },
   {
    "duration": 110,
    "start_time": "2022-04-01T13:41:13.859Z"
   },
   {
    "duration": 536,
    "start_time": "2022-04-01T13:41:13.971Z"
   },
   {
    "duration": 420,
    "start_time": "2022-04-01T13:41:14.508Z"
   },
   {
    "duration": 285,
    "start_time": "2022-04-01T13:41:14.931Z"
   },
   {
    "duration": 4,
    "start_time": "2022-04-01T13:41:15.218Z"
   },
   {
    "duration": 397,
    "start_time": "2022-04-01T13:46:31.304Z"
   },
   {
    "duration": 403,
    "start_time": "2022-04-01T13:47:07.991Z"
   },
   {
    "duration": 263,
    "start_time": "2022-04-01T13:47:15.676Z"
   },
   {
    "duration": 4,
    "start_time": "2022-04-01T13:47:19.980Z"
   },
   {
    "duration": 228,
    "start_time": "2022-04-01T13:47:52.017Z"
   },
   {
    "duration": 115,
    "start_time": "2022-04-01T13:48:23.855Z"
   },
   {
    "duration": 201,
    "start_time": "2022-04-01T13:48:58.588Z"
   },
   {
    "duration": 4,
    "start_time": "2022-04-01T13:49:22.836Z"
   },
   {
    "duration": 18,
    "start_time": "2022-04-01T13:50:20.743Z"
   },
   {
    "duration": 4,
    "start_time": "2022-04-01T13:50:57.012Z"
   },
   {
    "duration": 537,
    "start_time": "2022-04-01T13:52:41.455Z"
   },
   {
    "duration": 511,
    "start_time": "2022-04-01T13:52:51.907Z"
   },
   {
    "duration": 335,
    "start_time": "2022-04-01T13:53:03.210Z"
   },
   {
    "duration": 192,
    "start_time": "2022-04-01T13:53:10.908Z"
   },
   {
    "duration": 3,
    "start_time": "2022-04-01T13:53:27.778Z"
   },
   {
    "duration": 3,
    "start_time": "2022-04-01T13:54:14.795Z"
   },
   {
    "duration": 97,
    "start_time": "2022-04-01T13:54:17.140Z"
   },
   {
    "duration": 92,
    "start_time": "2022-04-01T13:58:22.321Z"
   },
   {
    "duration": 95,
    "start_time": "2022-04-01T13:58:36.938Z"
   },
   {
    "duration": 308,
    "start_time": "2022-04-01T14:14:58.295Z"
   },
   {
    "duration": 15,
    "start_time": "2022-04-01T14:15:40.603Z"
   },
   {
    "duration": 10,
    "start_time": "2022-04-01T14:15:56.863Z"
   },
   {
    "duration": 370,
    "start_time": "2022-04-01T14:17:30.461Z"
   },
   {
    "duration": 121,
    "start_time": "2022-04-01T14:18:46.607Z"
   },
   {
    "duration": 359,
    "start_time": "2022-04-01T14:19:12.568Z"
   },
   {
    "duration": 177,
    "start_time": "2022-04-01T14:21:00.375Z"
   },
   {
    "duration": 223,
    "start_time": "2022-04-01T14:21:08.027Z"
   },
   {
    "duration": 292,
    "start_time": "2022-04-01T14:21:16.535Z"
   },
   {
    "duration": 365,
    "start_time": "2022-04-01T14:21:23.066Z"
   },
   {
    "duration": 418,
    "start_time": "2022-04-01T14:21:29.295Z"
   },
   {
    "duration": 276,
    "start_time": "2022-04-01T14:21:36.710Z"
   },
   {
    "duration": 270,
    "start_time": "2022-04-01T14:21:43.838Z"
   },
   {
    "duration": 11,
    "start_time": "2022-04-01T14:25:46.701Z"
   },
   {
    "duration": 56,
    "start_time": "2022-04-01T14:25:49.933Z"
   },
   {
    "duration": 12,
    "start_time": "2022-04-01T14:26:15.173Z"
   },
   {
    "duration": 17,
    "start_time": "2022-04-01T14:26:40.900Z"
   },
   {
    "duration": 97,
    "start_time": "2022-04-01T14:35:30.778Z"
   },
   {
    "duration": 10,
    "start_time": "2022-04-01T14:37:16.903Z"
   },
   {
    "duration": 19,
    "start_time": "2022-04-01T14:37:55.853Z"
   },
   {
    "duration": 12,
    "start_time": "2022-04-01T14:40:32.412Z"
   },
   {
    "duration": 11,
    "start_time": "2022-04-01T14:41:43.245Z"
   },
   {
    "duration": 22,
    "start_time": "2022-04-01T14:44:55.884Z"
   },
   {
    "duration": 32,
    "start_time": "2022-04-01T14:45:12.482Z"
   },
   {
    "duration": 27,
    "start_time": "2022-04-01T14:46:17.736Z"
   },
   {
    "duration": 12,
    "start_time": "2022-04-01T14:47:19.345Z"
   },
   {
    "duration": 5,
    "start_time": "2022-04-01T14:48:56.643Z"
   },
   {
    "duration": 5,
    "start_time": "2022-04-01T14:49:22.794Z"
   },
   {
    "duration": 17,
    "start_time": "2022-04-01T14:49:38.172Z"
   },
   {
    "duration": 17,
    "start_time": "2022-04-01T14:50:23.385Z"
   },
   {
    "duration": 16,
    "start_time": "2022-04-01T14:51:15.979Z"
   },
   {
    "duration": 266,
    "start_time": "2022-04-01T14:52:26.505Z"
   },
   {
    "duration": 170,
    "start_time": "2022-04-01T14:52:39.926Z"
   },
   {
    "duration": 195,
    "start_time": "2022-04-01T14:52:48.076Z"
   },
   {
    "duration": 333,
    "start_time": "2022-04-01T14:52:59.196Z"
   },
   {
    "duration": 377,
    "start_time": "2022-04-01T14:53:23.066Z"
   },
   {
    "duration": 2169,
    "start_time": "2022-04-02T06:29:30.029Z"
   },
   {
    "duration": 817,
    "start_time": "2022-04-02T06:29:32.200Z"
   },
   {
    "duration": 135,
    "start_time": "2022-04-02T06:29:33.019Z"
   },
   {
    "duration": 37,
    "start_time": "2022-04-02T06:29:33.156Z"
   },
   {
    "duration": 377,
    "start_time": "2022-04-02T06:29:33.194Z"
   },
   {
    "duration": 235,
    "start_time": "2022-04-02T06:29:33.573Z"
   },
   {
    "duration": 5,
    "start_time": "2022-04-02T06:29:33.809Z"
   },
   {
    "duration": 98,
    "start_time": "2022-04-02T06:29:33.816Z"
   },
   {
    "duration": 430,
    "start_time": "2022-04-02T06:29:33.915Z"
   },
   {
    "duration": 15,
    "start_time": "2022-04-02T06:29:34.347Z"
   },
   {
    "duration": 17,
    "start_time": "2022-04-02T06:29:34.364Z"
   },
   {
    "duration": 13,
    "start_time": "2022-04-02T06:29:34.382Z"
   },
   {
    "duration": 27,
    "start_time": "2022-04-02T06:29:34.396Z"
   },
   {
    "duration": 10,
    "start_time": "2022-04-02T06:29:34.424Z"
   },
   {
    "duration": 326,
    "start_time": "2022-04-02T06:29:34.436Z"
   },
   {
    "duration": 1800,
    "start_time": "2022-04-04T02:23:36.842Z"
   },
   {
    "duration": 889,
    "start_time": "2022-04-04T02:23:38.645Z"
   },
   {
    "duration": 138,
    "start_time": "2022-04-04T02:23:39.540Z"
   },
   {
    "duration": 34,
    "start_time": "2022-04-04T02:23:39.680Z"
   },
   {
    "duration": 407,
    "start_time": "2022-04-04T02:23:39.716Z"
   },
   {
    "duration": 254,
    "start_time": "2022-04-04T02:23:40.124Z"
   },
   {
    "duration": 3,
    "start_time": "2022-04-04T02:23:40.380Z"
   },
   {
    "duration": 99,
    "start_time": "2022-04-04T02:23:40.385Z"
   },
   {
    "duration": 270,
    "start_time": "2022-04-04T02:23:40.486Z"
   },
   {
    "duration": 15,
    "start_time": "2022-04-04T02:23:40.758Z"
   },
   {
    "duration": 12,
    "start_time": "2022-04-04T02:23:40.775Z"
   },
   {
    "duration": 13,
    "start_time": "2022-04-04T02:23:40.788Z"
   },
   {
    "duration": 56,
    "start_time": "2022-04-04T02:23:40.803Z"
   },
   {
    "duration": 11,
    "start_time": "2022-04-04T02:23:40.860Z"
   },
   {
    "duration": 348,
    "start_time": "2022-04-04T02:23:40.872Z"
   },
   {
    "duration": 2667,
    "start_time": "2022-04-04T14:34:23.308Z"
   },
   {
    "duration": 8242,
    "start_time": "2022-04-04T14:34:25.978Z"
   },
   {
    "duration": 188,
    "start_time": "2022-04-04T14:34:34.222Z"
   },
   {
    "duration": 63,
    "start_time": "2022-04-04T14:34:34.414Z"
   },
   {
    "duration": 891,
    "start_time": "2022-04-04T14:34:34.480Z"
   },
   {
    "duration": 362,
    "start_time": "2022-04-04T14:34:35.374Z"
   },
   {
    "duration": 5,
    "start_time": "2022-04-04T14:34:35.738Z"
   },
   {
    "duration": 142,
    "start_time": "2022-04-04T14:34:35.746Z"
   },
   {
    "duration": 476,
    "start_time": "2022-04-04T14:34:35.891Z"
   },
   {
    "duration": 20,
    "start_time": "2022-04-04T14:34:36.370Z"
   },
   {
    "duration": 18,
    "start_time": "2022-04-04T14:34:36.392Z"
   },
   {
    "duration": 68,
    "start_time": "2022-04-04T14:34:36.413Z"
   },
   {
    "duration": 63,
    "start_time": "2022-04-04T14:34:36.485Z"
   },
   {
    "duration": 19,
    "start_time": "2022-04-04T14:34:36.569Z"
   },
   {
    "duration": 533,
    "start_time": "2022-04-04T14:34:36.590Z"
   },
   {
    "duration": 167,
    "start_time": "2022-04-04T14:43:56.200Z"
   },
   {
    "duration": 49,
    "start_time": "2022-04-04T14:46:26.603Z"
   },
   {
    "duration": 319,
    "start_time": "2022-04-04T14:47:47.307Z"
   },
   {
    "duration": 168,
    "start_time": "2022-04-04T14:47:54.123Z"
   },
   {
    "duration": 133,
    "start_time": "2022-04-04T14:48:02.961Z"
   },
   {
    "duration": 120,
    "start_time": "2022-04-04T14:48:11.032Z"
   },
   {
    "duration": 9,
    "start_time": "2022-04-04T14:48:43.420Z"
   },
   {
    "duration": 8,
    "start_time": "2022-04-04T14:49:18.583Z"
   },
   {
    "duration": 466,
    "start_time": "2022-04-04T14:50:09.090Z"
   },
   {
    "duration": 20,
    "start_time": "2022-04-04T14:51:12.857Z"
   },
   {
    "duration": 84,
    "start_time": "2022-04-04T14:54:11.509Z"
   },
   {
    "duration": 127,
    "start_time": "2022-04-04T14:54:18.692Z"
   },
   {
    "duration": 134,
    "start_time": "2022-04-04T14:54:30.089Z"
   },
   {
    "duration": 25,
    "start_time": "2022-04-04T14:54:38.365Z"
   },
   {
    "duration": 26,
    "start_time": "2022-04-04T14:57:27.062Z"
   },
   {
    "duration": 28,
    "start_time": "2022-04-04T14:57:35.334Z"
   },
   {
    "duration": 29,
    "start_time": "2022-04-04T14:57:40.659Z"
   },
   {
    "duration": 26,
    "start_time": "2022-04-04T14:57:45.126Z"
   },
   {
    "duration": 24,
    "start_time": "2022-04-04T14:58:00.073Z"
   },
   {
    "duration": 26,
    "start_time": "2022-04-04T14:58:26.787Z"
   },
   {
    "duration": 50,
    "start_time": "2022-04-04T14:59:13.427Z"
   },
   {
    "duration": 803,
    "start_time": "2022-04-04T14:59:20.436Z"
   },
   {
    "duration": 16,
    "start_time": "2022-04-04T15:04:19.329Z"
   },
   {
    "duration": 13,
    "start_time": "2022-04-04T15:04:26.637Z"
   },
   {
    "duration": 12,
    "start_time": "2022-04-04T15:04:45.635Z"
   },
   {
    "duration": 13,
    "start_time": "2022-04-04T15:05:15.623Z"
   },
   {
    "duration": 12,
    "start_time": "2022-04-04T15:05:59.173Z"
   },
   {
    "duration": 50,
    "start_time": "2022-04-04T15:07:18.211Z"
   },
   {
    "duration": 46,
    "start_time": "2022-04-04T15:07:37.162Z"
   },
   {
    "duration": 18,
    "start_time": "2022-04-04T15:07:51.577Z"
   },
   {
    "duration": 42,
    "start_time": "2022-04-04T15:08:26.888Z"
   },
   {
    "duration": 19,
    "start_time": "2022-04-04T15:08:27.826Z"
   },
   {
    "duration": 31,
    "start_time": "2022-04-04T15:16:34.753Z"
   },
   {
    "duration": 17,
    "start_time": "2022-04-04T15:17:01.696Z"
   },
   {
    "duration": 33,
    "start_time": "2022-04-04T15:39:49.712Z"
   },
   {
    "duration": 14,
    "start_time": "2022-04-04T15:42:07.385Z"
   },
   {
    "duration": 49,
    "start_time": "2022-04-04T15:42:25.222Z"
   },
   {
    "duration": 22143,
    "start_time": "2022-04-04T15:42:39.013Z"
   },
   {
    "duration": 23965,
    "start_time": "2022-04-04T15:43:13.543Z"
   },
   {
    "duration": 22833,
    "start_time": "2022-04-04T15:43:51.545Z"
   },
   {
    "duration": 137,
    "start_time": "2022-04-04T15:44:55.435Z"
   },
   {
    "duration": 114,
    "start_time": "2022-04-04T15:45:12.714Z"
   },
   {
    "duration": 102,
    "start_time": "2022-04-04T15:45:43.689Z"
   },
   {
    "duration": 101,
    "start_time": "2022-04-04T15:46:02.128Z"
   },
   {
    "duration": 94,
    "start_time": "2022-04-04T15:46:26.047Z"
   },
   {
    "duration": 39,
    "start_time": "2022-04-04T15:55:58.245Z"
   },
   {
    "duration": 92,
    "start_time": "2022-04-04T15:56:14.140Z"
   },
   {
    "duration": 35,
    "start_time": "2022-04-04T15:58:17.681Z"
   },
   {
    "duration": 34,
    "start_time": "2022-04-04T15:58:23.908Z"
   },
   {
    "duration": 13,
    "start_time": "2022-04-04T15:59:49.106Z"
   },
   {
    "duration": 17,
    "start_time": "2022-04-04T15:59:57.078Z"
   },
   {
    "duration": 16,
    "start_time": "2022-04-04T16:00:08.028Z"
   },
   {
    "duration": 23,
    "start_time": "2022-04-04T16:00:52.962Z"
   },
   {
    "duration": 17,
    "start_time": "2022-04-04T16:02:37.915Z"
   },
   {
    "duration": 38,
    "start_time": "2022-04-04T16:02:59.460Z"
   },
   {
    "duration": 87,
    "start_time": "2022-04-04T16:03:33.512Z"
   },
   {
    "duration": 299,
    "start_time": "2022-04-04T16:07:55.248Z"
   },
   {
    "duration": 55,
    "start_time": "2022-04-04T16:08:05.125Z"
   },
   {
    "duration": 96,
    "start_time": "2022-04-04T16:09:11.211Z"
   },
   {
    "duration": 82,
    "start_time": "2022-04-04T16:09:20.547Z"
   },
   {
    "duration": 5,
    "start_time": "2022-04-04T16:10:37.981Z"
   },
   {
    "duration": 107,
    "start_time": "2022-04-04T16:15:58.071Z"
   },
   {
    "duration": 169,
    "start_time": "2022-04-04T16:28:06.823Z"
   },
   {
    "duration": 207,
    "start_time": "2022-04-04T16:28:20.181Z"
   },
   {
    "duration": 17,
    "start_time": "2022-04-04T16:28:51.708Z"
   },
   {
    "duration": 5,
    "start_time": "2022-04-04T16:29:14.445Z"
   },
   {
    "duration": 93,
    "start_time": "2022-04-04T16:29:20.348Z"
   },
   {
    "duration": 334,
    "start_time": "2022-04-04T16:34:13.953Z"
   },
   {
    "duration": 1507,
    "start_time": "2022-04-04T16:34:32.482Z"
   },
   {
    "duration": 1593,
    "start_time": "2022-04-04T16:34:47.687Z"
   },
   {
    "duration": 44,
    "start_time": "2022-04-04T16:34:58.057Z"
   },
   {
    "duration": 36,
    "start_time": "2022-04-04T16:35:37.811Z"
   },
   {
    "duration": 162,
    "start_time": "2022-04-04T16:56:25.700Z"
   },
   {
    "duration": 129,
    "start_time": "2022-04-04T16:58:32.738Z"
   },
   {
    "duration": 262,
    "start_time": "2022-04-04T17:07:03.804Z"
   },
   {
    "duration": 93,
    "start_time": "2022-04-04T17:07:05.204Z"
   },
   {
    "duration": 157,
    "start_time": "2022-04-04T17:07:38.263Z"
   },
   {
    "duration": 27,
    "start_time": "2022-04-04T17:21:12.036Z"
   },
   {
    "duration": 34,
    "start_time": "2022-04-04T17:21:33.069Z"
   },
   {
    "duration": 31,
    "start_time": "2022-04-04T17:21:44.742Z"
   },
   {
    "duration": 24,
    "start_time": "2022-04-04T17:22:07.659Z"
   },
   {
    "duration": 18,
    "start_time": "2022-04-04T17:22:09.165Z"
   },
   {
    "duration": 25,
    "start_time": "2022-04-04T17:22:39.092Z"
   },
   {
    "duration": 27,
    "start_time": "2022-04-04T17:22:59.634Z"
   },
   {
    "duration": 4576,
    "start_time": "2022-04-04T17:23:11.819Z"
   },
   {
    "duration": 3727,
    "start_time": "2022-04-04T17:23:28.424Z"
   },
   {
    "duration": 3645,
    "start_time": "2022-04-04T17:23:42.412Z"
   },
   {
    "duration": 4239,
    "start_time": "2022-04-04T17:24:16.449Z"
   },
   {
    "duration": 4032,
    "start_time": "2022-04-04T17:24:34.548Z"
   },
   {
    "duration": 3752,
    "start_time": "2022-04-04T17:25:10.224Z"
   },
   {
    "duration": 4350,
    "start_time": "2022-04-04T17:25:29.544Z"
   },
   {
    "duration": 1876,
    "start_time": "2022-04-04T17:27:04.721Z"
   },
   {
    "duration": 120,
    "start_time": "2022-04-04T17:27:37.925Z"
   },
   {
    "duration": 127,
    "start_time": "2022-04-04T17:27:42.210Z"
   },
   {
    "duration": 16,
    "start_time": "2022-04-04T17:27:46.393Z"
   },
   {
    "duration": 3854,
    "start_time": "2022-04-04T17:27:47.479Z"
   },
   {
    "duration": 113,
    "start_time": "2022-04-04T17:28:22.816Z"
   },
   {
    "duration": 17,
    "start_time": "2022-04-04T17:28:33.808Z"
   },
   {
    "duration": 4044,
    "start_time": "2022-04-04T17:28:37.674Z"
   },
   {
    "duration": 2184,
    "start_time": "2022-04-04T17:59:04.319Z"
   },
   {
    "duration": 1142,
    "start_time": "2022-04-04T17:59:06.506Z"
   },
   {
    "duration": 189,
    "start_time": "2022-04-04T17:59:07.651Z"
   },
   {
    "duration": 51,
    "start_time": "2022-04-04T17:59:07.843Z"
   },
   {
    "duration": 566,
    "start_time": "2022-04-04T17:59:07.896Z"
   },
   {
    "duration": 370,
    "start_time": "2022-04-04T17:59:08.467Z"
   },
   {
    "duration": 5,
    "start_time": "2022-04-04T17:59:08.839Z"
   },
   {
    "duration": 149,
    "start_time": "2022-04-04T17:59:08.846Z"
   },
   {
    "duration": 466,
    "start_time": "2022-04-04T17:59:08.998Z"
   },
   {
    "duration": 23,
    "start_time": "2022-04-04T17:59:09.472Z"
   },
   {
    "duration": 15,
    "start_time": "2022-04-04T17:59:09.498Z"
   },
   {
    "duration": 53,
    "start_time": "2022-04-04T17:59:09.516Z"
   },
   {
    "duration": 51,
    "start_time": "2022-04-04T17:59:09.576Z"
   },
   {
    "duration": 16,
    "start_time": "2022-04-04T17:59:09.629Z"
   },
   {
    "duration": 544,
    "start_time": "2022-04-04T17:59:09.648Z"
   },
   {
    "duration": 105,
    "start_time": "2022-04-04T17:59:10.195Z"
   },
   {
    "duration": 73,
    "start_time": "2022-04-04T17:59:10.303Z"
   },
   {
    "duration": 10,
    "start_time": "2022-04-04T17:59:10.381Z"
   },
   {
    "duration": 32,
    "start_time": "2022-04-04T17:59:10.393Z"
   },
   {
    "duration": 62,
    "start_time": "2022-04-04T17:59:10.428Z"
   },
   {
    "duration": 605,
    "start_time": "2022-04-04T17:59:10.492Z"
   },
   {
    "duration": 14,
    "start_time": "2022-04-04T17:59:11.100Z"
   },
   {
    "duration": 73,
    "start_time": "2022-04-04T17:59:11.116Z"
   },
   {
    "duration": 18,
    "start_time": "2022-04-04T17:59:11.191Z"
   },
   {
    "duration": 18,
    "start_time": "2022-04-04T17:59:11.212Z"
   },
   {
    "duration": 70,
    "start_time": "2022-04-04T17:59:11.232Z"
   },
   {
    "duration": 114,
    "start_time": "2022-04-04T17:59:11.305Z"
   },
   {
    "duration": 278,
    "start_time": "2022-04-04T17:59:11.424Z"
   },
   {
    "duration": 0,
    "start_time": "2022-04-04T17:59:11.704Z"
   },
   {
    "duration": 0,
    "start_time": "2022-04-04T17:59:11.706Z"
   },
   {
    "duration": 0,
    "start_time": "2022-04-04T17:59:11.707Z"
   },
   {
    "duration": 0,
    "start_time": "2022-04-04T17:59:11.708Z"
   },
   {
    "duration": 1,
    "start_time": "2022-04-04T17:59:11.709Z"
   },
   {
    "duration": 0,
    "start_time": "2022-04-04T17:59:11.711Z"
   },
   {
    "duration": 0,
    "start_time": "2022-04-04T17:59:11.712Z"
   },
   {
    "duration": 0,
    "start_time": "2022-04-04T17:59:11.714Z"
   },
   {
    "duration": 0,
    "start_time": "2022-04-04T17:59:11.716Z"
   },
   {
    "duration": 0,
    "start_time": "2022-04-04T17:59:11.717Z"
   },
   {
    "duration": 0,
    "start_time": "2022-04-04T17:59:11.719Z"
   },
   {
    "duration": 144,
    "start_time": "2022-04-04T17:59:25.360Z"
   },
   {
    "duration": 41,
    "start_time": "2022-04-04T17:59:26.751Z"
   },
   {
    "duration": 90,
    "start_time": "2022-04-04T17:59:27.749Z"
   },
   {
    "duration": 57,
    "start_time": "2022-04-04T17:59:28.848Z"
   },
   {
    "duration": 144,
    "start_time": "2022-04-04T17:59:30.231Z"
   },
   {
    "duration": 4,
    "start_time": "2022-04-04T17:59:31.357Z"
   },
   {
    "duration": 251,
    "start_time": "2022-04-04T17:59:34.434Z"
   },
   {
    "duration": 105,
    "start_time": "2022-04-04T17:59:37.463Z"
   },
   {
    "duration": 35,
    "start_time": "2022-04-04T17:59:41.218Z"
   },
   {
    "duration": 190,
    "start_time": "2022-04-04T17:59:43.700Z"
   },
   {
    "duration": 32,
    "start_time": "2022-04-04T17:59:45.938Z"
   },
   {
    "duration": 5876,
    "start_time": "2022-04-04T17:59:47.906Z"
   },
   {
    "duration": 1709,
    "start_time": "2022-04-05T17:11:36.323Z"
   },
   {
    "duration": 798,
    "start_time": "2022-04-05T17:11:38.034Z"
   },
   {
    "duration": 125,
    "start_time": "2022-04-05T17:11:38.834Z"
   },
   {
    "duration": 24,
    "start_time": "2022-04-05T17:11:38.962Z"
   },
   {
    "duration": 396,
    "start_time": "2022-04-05T17:11:38.987Z"
   },
   {
    "duration": 256,
    "start_time": "2022-04-05T17:11:39.384Z"
   },
   {
    "duration": 4,
    "start_time": "2022-04-05T17:11:39.641Z"
   },
   {
    "duration": 94,
    "start_time": "2022-04-05T17:11:39.647Z"
   },
   {
    "duration": 268,
    "start_time": "2022-04-05T17:11:39.743Z"
   },
   {
    "duration": 27,
    "start_time": "2022-04-05T17:11:40.014Z"
   },
   {
    "duration": 14,
    "start_time": "2022-04-05T17:11:40.043Z"
   },
   {
    "duration": 15,
    "start_time": "2022-04-05T17:11:40.058Z"
   },
   {
    "duration": 31,
    "start_time": "2022-04-05T17:11:40.074Z"
   },
   {
    "duration": 41,
    "start_time": "2022-04-05T17:11:40.106Z"
   },
   {
    "duration": 327,
    "start_time": "2022-04-05T17:11:40.148Z"
   },
   {
    "duration": 64,
    "start_time": "2022-04-05T17:11:40.476Z"
   },
   {
    "duration": 30,
    "start_time": "2022-04-05T17:11:40.542Z"
   },
   {
    "duration": 5,
    "start_time": "2022-04-05T17:11:40.574Z"
   },
   {
    "duration": 19,
    "start_time": "2022-04-05T17:11:40.581Z"
   },
   {
    "duration": 57,
    "start_time": "2022-04-05T17:11:40.601Z"
   },
   {
    "duration": 283,
    "start_time": "2022-04-05T17:11:40.660Z"
   },
   {
    "duration": 11,
    "start_time": "2022-04-05T17:11:40.944Z"
   },
   {
    "duration": 28,
    "start_time": "2022-04-05T17:11:40.957Z"
   },
   {
    "duration": 14,
    "start_time": "2022-04-05T17:11:40.987Z"
   },
   {
    "duration": 39,
    "start_time": "2022-04-05T17:11:41.003Z"
   },
   {
    "duration": 26,
    "start_time": "2022-04-05T17:11:41.044Z"
   },
   {
    "duration": 84,
    "start_time": "2022-04-05T17:11:41.072Z"
   },
   {
    "duration": 63,
    "start_time": "2022-04-05T17:11:41.159Z"
   },
   {
    "duration": 37,
    "start_time": "2022-04-05T17:11:41.224Z"
   },
   {
    "duration": 74,
    "start_time": "2022-04-05T17:11:41.263Z"
   },
   {
    "duration": 26,
    "start_time": "2022-04-05T17:11:41.339Z"
   },
   {
    "duration": 71,
    "start_time": "2022-04-05T17:11:41.367Z"
   },
   {
    "duration": 3,
    "start_time": "2022-04-05T17:11:41.439Z"
   },
   {
    "duration": 138,
    "start_time": "2022-04-05T17:11:41.444Z"
   },
   {
    "duration": 71,
    "start_time": "2022-04-05T17:11:41.585Z"
   },
   {
    "duration": 24,
    "start_time": "2022-04-05T17:11:41.658Z"
   },
   {
    "duration": 129,
    "start_time": "2022-04-05T17:11:41.684Z"
   },
   {
    "duration": 28,
    "start_time": "2022-04-05T17:11:41.815Z"
   },
   {
    "duration": 2005,
    "start_time": "2022-04-05T17:11:41.845Z"
   },
   {
    "duration": 2181,
    "start_time": "2022-04-05T17:12:14.602Z"
   },
   {
    "duration": 1958,
    "start_time": "2022-04-05T17:12:23.184Z"
   },
   {
    "duration": 0,
    "start_time": "2022-04-05T17:14:28.115Z"
   },
   {
    "duration": 0,
    "start_time": "2022-04-05T17:16:24.481Z"
   },
   {
    "duration": 0,
    "start_time": "2022-04-05T17:17:05.918Z"
   },
   {
    "duration": 0,
    "start_time": "2022-04-05T17:17:22.578Z"
   },
   {
    "duration": 1790,
    "start_time": "2022-04-06T02:39:00.544Z"
   },
   {
    "duration": 857,
    "start_time": "2022-04-06T02:39:02.336Z"
   },
   {
    "duration": 139,
    "start_time": "2022-04-06T02:39:03.194Z"
   },
   {
    "duration": 37,
    "start_time": "2022-04-06T02:39:03.335Z"
   },
   {
    "duration": 397,
    "start_time": "2022-04-06T02:39:03.373Z"
   },
   {
    "duration": 257,
    "start_time": "2022-04-06T02:39:03.771Z"
   },
   {
    "duration": 3,
    "start_time": "2022-04-06T02:39:04.033Z"
   },
   {
    "duration": 99,
    "start_time": "2022-04-06T02:39:04.038Z"
   },
   {
    "duration": 247,
    "start_time": "2022-04-06T02:39:04.138Z"
   },
   {
    "duration": 15,
    "start_time": "2022-04-06T02:39:04.388Z"
   },
   {
    "duration": 28,
    "start_time": "2022-04-06T02:39:04.405Z"
   },
   {
    "duration": 14,
    "start_time": "2022-04-06T02:39:04.434Z"
   },
   {
    "duration": 29,
    "start_time": "2022-04-06T02:39:04.450Z"
   },
   {
    "duration": 10,
    "start_time": "2022-04-06T02:39:04.481Z"
   },
   {
    "duration": 326,
    "start_time": "2022-04-06T02:39:04.492Z"
   },
   {
    "duration": 64,
    "start_time": "2022-04-06T02:39:04.819Z"
   },
   {
    "duration": 31,
    "start_time": "2022-04-06T02:39:04.885Z"
   },
   {
    "duration": 5,
    "start_time": "2022-04-06T02:39:04.933Z"
   },
   {
    "duration": 22,
    "start_time": "2022-04-06T02:39:04.940Z"
   },
   {
    "duration": 30,
    "start_time": "2022-04-06T02:39:04.963Z"
   },
   {
    "duration": 282,
    "start_time": "2022-04-06T02:39:04.994Z"
   },
   {
    "duration": 12,
    "start_time": "2022-04-06T02:39:05.277Z"
   },
   {
    "duration": 45,
    "start_time": "2022-04-06T02:39:05.290Z"
   },
   {
    "duration": 14,
    "start_time": "2022-04-06T02:39:05.337Z"
   },
   {
    "duration": 14,
    "start_time": "2022-04-06T02:39:05.352Z"
   },
   {
    "duration": 26,
    "start_time": "2022-04-06T02:39:05.368Z"
   },
   {
    "duration": 96,
    "start_time": "2022-04-06T02:39:05.396Z"
   },
   {
    "duration": 68,
    "start_time": "2022-04-06T02:39:05.495Z"
   },
   {
    "duration": 26,
    "start_time": "2022-04-06T02:39:05.564Z"
   },
   {
    "duration": 78,
    "start_time": "2022-04-06T02:39:05.592Z"
   },
   {
    "duration": 25,
    "start_time": "2022-04-06T02:39:05.671Z"
   },
   {
    "duration": 71,
    "start_time": "2022-04-06T02:39:05.698Z"
   },
   {
    "duration": 3,
    "start_time": "2022-04-06T02:39:05.771Z"
   },
   {
    "duration": 152,
    "start_time": "2022-04-06T02:39:05.775Z"
   },
   {
    "duration": 65,
    "start_time": "2022-04-06T02:39:05.932Z"
   },
   {
    "duration": 52,
    "start_time": "2022-04-06T02:39:05.998Z"
   },
   {
    "duration": 125,
    "start_time": "2022-04-06T02:39:06.052Z"
   },
   {
    "duration": 22,
    "start_time": "2022-04-06T02:39:06.179Z"
   },
   {
    "duration": 256153,
    "start_time": "2022-04-06T02:39:06.203Z"
   },
   {
    "duration": 0,
    "start_time": "2022-04-06T02:43:22.358Z"
   },
   {
    "duration": 75,
    "start_time": "2022-04-06T02:43:33.185Z"
   },
   {
    "duration": 76,
    "start_time": "2022-04-06T02:43:45.888Z"
   },
   {
    "duration": 1759,
    "start_time": "2022-04-06T02:43:53.747Z"
   },
   {
    "duration": 1544,
    "start_time": "2022-04-06T02:45:06.124Z"
   },
   {
    "duration": 818,
    "start_time": "2022-04-06T02:45:07.670Z"
   },
   {
    "duration": 138,
    "start_time": "2022-04-06T02:45:08.490Z"
   },
   {
    "duration": 34,
    "start_time": "2022-04-06T02:45:08.633Z"
   },
   {
    "duration": 394,
    "start_time": "2022-04-06T02:45:08.669Z"
   },
   {
    "duration": 258,
    "start_time": "2022-04-06T02:45:09.065Z"
   },
   {
    "duration": 3,
    "start_time": "2022-04-06T02:45:09.332Z"
   },
   {
    "duration": 98,
    "start_time": "2022-04-06T02:45:09.337Z"
   },
   {
    "duration": 252,
    "start_time": "2022-04-06T02:45:09.437Z"
   },
   {
    "duration": 17,
    "start_time": "2022-04-06T02:45:09.693Z"
   },
   {
    "duration": 30,
    "start_time": "2022-04-06T02:45:09.712Z"
   },
   {
    "duration": 16,
    "start_time": "2022-04-06T02:45:09.744Z"
   },
   {
    "duration": 32,
    "start_time": "2022-04-06T02:45:09.762Z"
   },
   {
    "duration": 40,
    "start_time": "2022-04-06T02:45:09.796Z"
   },
   {
    "duration": 319,
    "start_time": "2022-04-06T02:45:09.838Z"
   },
   {
    "duration": 61,
    "start_time": "2022-04-06T02:45:10.159Z"
   },
   {
    "duration": 30,
    "start_time": "2022-04-06T02:45:10.234Z"
   },
   {
    "duration": 6,
    "start_time": "2022-04-06T02:45:10.266Z"
   },
   {
    "duration": 16,
    "start_time": "2022-04-06T02:45:10.273Z"
   },
   {
    "duration": 62,
    "start_time": "2022-04-06T02:45:10.291Z"
   },
   {
    "duration": 268,
    "start_time": "2022-04-06T02:45:10.355Z"
   },
   {
    "duration": 15,
    "start_time": "2022-04-06T02:45:10.625Z"
   },
   {
    "duration": 29,
    "start_time": "2022-04-06T02:45:10.642Z"
   },
   {
    "duration": 13,
    "start_time": "2022-04-06T02:45:10.673Z"
   },
   {
    "duration": 13,
    "start_time": "2022-04-06T02:45:10.688Z"
   },
   {
    "duration": 53,
    "start_time": "2022-04-06T02:45:10.702Z"
   },
   {
    "duration": 80,
    "start_time": "2022-04-06T02:45:10.757Z"
   },
   {
    "duration": 62,
    "start_time": "2022-04-06T02:45:10.840Z"
   },
   {
    "duration": 37,
    "start_time": "2022-04-06T02:45:10.904Z"
   },
   {
    "duration": 64,
    "start_time": "2022-04-06T02:45:10.942Z"
   },
   {
    "duration": 38,
    "start_time": "2022-04-06T02:45:11.007Z"
   },
   {
    "duration": 58,
    "start_time": "2022-04-06T02:45:11.046Z"
   },
   {
    "duration": 4,
    "start_time": "2022-04-06T02:45:11.105Z"
   },
   {
    "duration": 152,
    "start_time": "2022-04-06T02:45:11.110Z"
   },
   {
    "duration": 73,
    "start_time": "2022-04-06T02:45:11.264Z"
   },
   {
    "duration": 26,
    "start_time": "2022-04-06T02:45:11.338Z"
   },
   {
    "duration": 2018,
    "start_time": "2022-04-06T02:45:11.365Z"
   },
   {
    "duration": 0,
    "start_time": "2022-04-06T02:45:13.385Z"
   },
   {
    "duration": 0,
    "start_time": "2022-04-06T02:45:13.386Z"
   },
   {
    "duration": 0,
    "start_time": "2022-04-06T02:45:13.387Z"
   },
   {
    "duration": 103,
    "start_time": "2022-04-06T02:47:09.031Z"
   },
   {
    "duration": 28,
    "start_time": "2022-04-06T02:47:41.297Z"
   },
   {
    "duration": 1952,
    "start_time": "2022-04-06T02:52:00.213Z"
   },
   {
    "duration": 1798,
    "start_time": "2022-04-06T02:53:22.966Z"
   },
   {
    "duration": 1922,
    "start_time": "2022-04-06T02:54:15.515Z"
   },
   {
    "duration": 1897,
    "start_time": "2022-04-06T02:54:22.424Z"
   },
   {
    "duration": 1892,
    "start_time": "2022-04-06T02:54:29.469Z"
   },
   {
    "duration": 1942,
    "start_time": "2022-04-06T02:54:37.928Z"
   },
   {
    "duration": 1920,
    "start_time": "2022-04-06T02:54:43.954Z"
   },
   {
    "duration": 1924,
    "start_time": "2022-04-06T02:54:51.970Z"
   },
   {
    "duration": 2020,
    "start_time": "2022-04-06T02:55:29.535Z"
   },
   {
    "duration": 1902,
    "start_time": "2022-04-06T02:55:59.502Z"
   },
   {
    "duration": 1934,
    "start_time": "2022-04-06T02:56:10.651Z"
   },
   {
    "duration": 1917,
    "start_time": "2022-04-06T02:56:20.855Z"
   },
   {
    "duration": 11,
    "start_time": "2022-04-06T02:56:45.190Z"
   },
   {
    "duration": 11,
    "start_time": "2022-04-06T02:57:27.360Z"
   },
   {
    "duration": 1562,
    "start_time": "2022-04-06T02:57:35.718Z"
   },
   {
    "duration": 812,
    "start_time": "2022-04-06T02:57:37.283Z"
   },
   {
    "duration": 144,
    "start_time": "2022-04-06T02:57:38.097Z"
   },
   {
    "duration": 36,
    "start_time": "2022-04-06T02:57:38.243Z"
   },
   {
    "duration": 402,
    "start_time": "2022-04-06T02:57:38.280Z"
   },
   {
    "duration": 252,
    "start_time": "2022-04-06T02:57:38.683Z"
   },
   {
    "duration": 4,
    "start_time": "2022-04-06T02:57:38.936Z"
   },
   {
    "duration": 98,
    "start_time": "2022-04-06T02:57:38.941Z"
   },
   {
    "duration": 252,
    "start_time": "2022-04-06T02:57:39.041Z"
   },
   {
    "duration": 16,
    "start_time": "2022-04-06T02:57:39.296Z"
   },
   {
    "duration": 25,
    "start_time": "2022-04-06T02:57:39.314Z"
   },
   {
    "duration": 14,
    "start_time": "2022-04-06T02:57:39.341Z"
   },
   {
    "duration": 30,
    "start_time": "2022-04-06T02:57:39.357Z"
   },
   {
    "duration": 10,
    "start_time": "2022-04-06T02:57:39.388Z"
   },
   {
    "duration": 338,
    "start_time": "2022-04-06T02:57:39.400Z"
   },
   {
    "duration": 61,
    "start_time": "2022-04-06T02:57:39.740Z"
   },
   {
    "duration": 42,
    "start_time": "2022-04-06T02:57:39.803Z"
   },
   {
    "duration": 4,
    "start_time": "2022-04-06T02:57:39.847Z"
   },
   {
    "duration": 17,
    "start_time": "2022-04-06T02:57:39.853Z"
   },
   {
    "duration": 27,
    "start_time": "2022-04-06T02:57:39.872Z"
   },
   {
    "duration": 280,
    "start_time": "2022-04-06T02:57:39.901Z"
   },
   {
    "duration": 11,
    "start_time": "2022-04-06T02:57:40.183Z"
   },
   {
    "duration": 45,
    "start_time": "2022-04-06T02:57:40.195Z"
   },
   {
    "duration": 13,
    "start_time": "2022-04-06T02:57:40.242Z"
   },
   {
    "duration": 15,
    "start_time": "2022-04-06T02:57:40.257Z"
   },
   {
    "duration": 27,
    "start_time": "2022-04-06T02:57:40.273Z"
   },
   {
    "duration": 96,
    "start_time": "2022-04-06T02:57:40.303Z"
   },
   {
    "duration": 76,
    "start_time": "2022-04-06T02:57:40.403Z"
   },
   {
    "duration": 25,
    "start_time": "2022-04-06T02:57:40.481Z"
   },
   {
    "duration": 75,
    "start_time": "2022-04-06T02:57:40.508Z"
   },
   {
    "duration": 25,
    "start_time": "2022-04-06T02:57:40.585Z"
   },
   {
    "duration": 71,
    "start_time": "2022-04-06T02:57:40.612Z"
   },
   {
    "duration": 3,
    "start_time": "2022-04-06T02:57:40.685Z"
   },
   {
    "duration": 146,
    "start_time": "2022-04-06T02:57:40.689Z"
   },
   {
    "duration": 64,
    "start_time": "2022-04-06T02:57:40.837Z"
   },
   {
    "duration": 38,
    "start_time": "2022-04-06T02:57:40.903Z"
   },
   {
    "duration": 155,
    "start_time": "2022-04-06T02:57:40.942Z"
   },
   {
    "duration": 35,
    "start_time": "2022-04-06T02:57:41.099Z"
   },
   {
    "duration": 9,
    "start_time": "2022-04-06T02:57:41.136Z"
   },
   {
    "duration": 1877,
    "start_time": "2022-04-06T02:57:41.147Z"
   },
   {
    "duration": 0,
    "start_time": "2022-04-06T02:57:43.026Z"
   },
   {
    "duration": 1929,
    "start_time": "2022-04-06T03:07:02.745Z"
   },
   {
    "duration": 10,
    "start_time": "2022-04-06T03:07:24.197Z"
   },
   {
    "duration": 1947,
    "start_time": "2022-04-06T03:07:48.511Z"
   },
   {
    "duration": 10,
    "start_time": "2022-04-06T03:07:56.659Z"
   },
   {
    "duration": 10,
    "start_time": "2022-04-06T03:08:08.828Z"
   },
   {
    "duration": 1904,
    "start_time": "2022-04-06T03:08:21.068Z"
   },
   {
    "duration": 9,
    "start_time": "2022-04-06T03:08:28.497Z"
   },
   {
    "duration": 25,
    "start_time": "2022-04-06T03:10:31.122Z"
   },
   {
    "duration": 10,
    "start_time": "2022-04-06T03:10:35.826Z"
   },
   {
    "duration": 1911,
    "start_time": "2022-04-06T03:10:39.122Z"
   },
   {
    "duration": 11,
    "start_time": "2022-04-06T03:10:43.916Z"
   },
   {
    "duration": 1570,
    "start_time": "2022-04-06T03:10:52.301Z"
   },
   {
    "duration": 840,
    "start_time": "2022-04-06T03:10:53.873Z"
   },
   {
    "duration": 140,
    "start_time": "2022-04-06T03:10:54.714Z"
   },
   {
    "duration": 34,
    "start_time": "2022-04-06T03:10:54.856Z"
   },
   {
    "duration": 412,
    "start_time": "2022-04-06T03:10:54.892Z"
   },
   {
    "duration": 253,
    "start_time": "2022-04-06T03:10:55.305Z"
   },
   {
    "duration": 4,
    "start_time": "2022-04-06T03:10:55.559Z"
   },
   {
    "duration": 99,
    "start_time": "2022-04-06T03:10:55.564Z"
   },
   {
    "duration": 261,
    "start_time": "2022-04-06T03:10:55.665Z"
   },
   {
    "duration": 16,
    "start_time": "2022-04-06T03:10:55.932Z"
   },
   {
    "duration": 13,
    "start_time": "2022-04-06T03:10:55.949Z"
   },
   {
    "duration": 15,
    "start_time": "2022-04-06T03:10:55.964Z"
   },
   {
    "duration": 64,
    "start_time": "2022-04-06T03:10:55.980Z"
   },
   {
    "duration": 11,
    "start_time": "2022-04-06T03:10:56.045Z"
   },
   {
    "duration": 329,
    "start_time": "2022-04-06T03:10:56.057Z"
   },
   {
    "duration": 62,
    "start_time": "2022-04-06T03:10:56.388Z"
   },
   {
    "duration": 33,
    "start_time": "2022-04-06T03:10:56.452Z"
   },
   {
    "duration": 4,
    "start_time": "2022-04-06T03:10:56.487Z"
   },
   {
    "duration": 42,
    "start_time": "2022-04-06T03:10:56.493Z"
   },
   {
    "duration": 28,
    "start_time": "2022-04-06T03:10:56.536Z"
   },
   {
    "duration": 277,
    "start_time": "2022-04-06T03:10:56.566Z"
   },
   {
    "duration": 10,
    "start_time": "2022-04-06T03:10:56.845Z"
   },
   {
    "duration": 30,
    "start_time": "2022-04-06T03:10:56.857Z"
   },
   {
    "duration": 14,
    "start_time": "2022-04-06T03:10:56.888Z"
   },
   {
    "duration": 38,
    "start_time": "2022-04-06T03:10:56.903Z"
   },
   {
    "duration": 27,
    "start_time": "2022-04-06T03:10:56.942Z"
   },
   {
    "duration": 85,
    "start_time": "2022-04-06T03:10:56.971Z"
   },
   {
    "duration": 64,
    "start_time": "2022-04-06T03:10:57.059Z"
   },
   {
    "duration": 26,
    "start_time": "2022-04-06T03:10:57.134Z"
   },
   {
    "duration": 81,
    "start_time": "2022-04-06T03:10:57.162Z"
   },
   {
    "duration": 27,
    "start_time": "2022-04-06T03:10:57.244Z"
   },
   {
    "duration": 75,
    "start_time": "2022-04-06T03:10:57.273Z"
   },
   {
    "duration": 3,
    "start_time": "2022-04-06T03:10:57.350Z"
   },
   {
    "duration": 150,
    "start_time": "2022-04-06T03:10:57.355Z"
   },
   {
    "duration": 65,
    "start_time": "2022-04-06T03:10:57.507Z"
   },
   {
    "duration": 27,
    "start_time": "2022-04-06T03:10:57.573Z"
   },
   {
    "duration": 166,
    "start_time": "2022-04-06T03:10:57.601Z"
   },
   {
    "duration": 33,
    "start_time": "2022-04-06T03:10:57.769Z"
   },
   {
    "duration": 30,
    "start_time": "2022-04-06T03:10:57.804Z"
   },
   {
    "duration": 2008,
    "start_time": "2022-04-06T03:10:57.836Z"
   },
   {
    "duration": 12,
    "start_time": "2022-04-06T03:10:59.846Z"
   },
   {
    "duration": 63,
    "start_time": "2022-04-06T03:11:25.292Z"
   },
   {
    "duration": 1901,
    "start_time": "2022-04-06T03:12:29.286Z"
   },
   {
    "duration": 1931,
    "start_time": "2022-04-06T03:12:42.262Z"
   },
   {
    "duration": 10,
    "start_time": "2022-04-06T03:12:46.765Z"
   },
   {
    "duration": 55,
    "start_time": "2022-04-06T03:12:50.734Z"
   },
   {
    "duration": 2056,
    "start_time": "2022-04-06T03:13:03.986Z"
   },
   {
    "duration": 1539,
    "start_time": "2022-04-06T03:13:17.602Z"
   },
   {
    "duration": 832,
    "start_time": "2022-04-06T03:13:19.143Z"
   },
   {
    "duration": 146,
    "start_time": "2022-04-06T03:13:19.979Z"
   },
   {
    "duration": 40,
    "start_time": "2022-04-06T03:13:20.126Z"
   },
   {
    "duration": 397,
    "start_time": "2022-04-06T03:13:20.168Z"
   },
   {
    "duration": 264,
    "start_time": "2022-04-06T03:13:20.566Z"
   },
   {
    "duration": 3,
    "start_time": "2022-04-06T03:13:20.832Z"
   },
   {
    "duration": 98,
    "start_time": "2022-04-06T03:13:20.837Z"
   },
   {
    "duration": 254,
    "start_time": "2022-04-06T03:13:20.937Z"
   },
   {
    "duration": 16,
    "start_time": "2022-04-06T03:13:21.192Z"
   },
   {
    "duration": 31,
    "start_time": "2022-04-06T03:13:21.209Z"
   },
   {
    "duration": 15,
    "start_time": "2022-04-06T03:13:21.241Z"
   },
   {
    "duration": 31,
    "start_time": "2022-04-06T03:13:21.257Z"
   },
   {
    "duration": 11,
    "start_time": "2022-04-06T03:13:21.289Z"
   },
   {
    "duration": 343,
    "start_time": "2022-04-06T03:13:21.301Z"
   },
   {
    "duration": 60,
    "start_time": "2022-04-06T03:13:21.646Z"
   },
   {
    "duration": 48,
    "start_time": "2022-04-06T03:13:21.708Z"
   },
   {
    "duration": 5,
    "start_time": "2022-04-06T03:13:21.757Z"
   },
   {
    "duration": 18,
    "start_time": "2022-04-06T03:13:21.764Z"
   },
   {
    "duration": 28,
    "start_time": "2022-04-06T03:13:21.783Z"
   },
   {
    "duration": 267,
    "start_time": "2022-04-06T03:13:21.833Z"
   },
   {
    "duration": 12,
    "start_time": "2022-04-06T03:13:22.101Z"
   },
   {
    "duration": 44,
    "start_time": "2022-04-06T03:13:22.114Z"
   },
   {
    "duration": 14,
    "start_time": "2022-04-06T03:13:22.160Z"
   },
   {
    "duration": 14,
    "start_time": "2022-04-06T03:13:22.176Z"
   },
   {
    "duration": 54,
    "start_time": "2022-04-06T03:13:22.191Z"
   },
   {
    "duration": 75,
    "start_time": "2022-04-06T03:13:22.249Z"
   },
   {
    "duration": 67,
    "start_time": "2022-04-06T03:13:22.326Z"
   },
   {
    "duration": 24,
    "start_time": "2022-04-06T03:13:22.395Z"
   },
   {
    "duration": 63,
    "start_time": "2022-04-06T03:13:22.433Z"
   },
   {
    "duration": 39,
    "start_time": "2022-04-06T03:13:22.498Z"
   },
   {
    "duration": 61,
    "start_time": "2022-04-06T03:13:22.538Z"
   },
   {
    "duration": 3,
    "start_time": "2022-04-06T03:13:22.600Z"
   },
   {
    "duration": 159,
    "start_time": "2022-04-06T03:13:22.605Z"
   },
   {
    "duration": 72,
    "start_time": "2022-04-06T03:13:22.766Z"
   },
   {
    "duration": 25,
    "start_time": "2022-04-06T03:13:22.840Z"
   },
   {
    "duration": 153,
    "start_time": "2022-04-06T03:13:22.867Z"
   },
   {
    "duration": 41,
    "start_time": "2022-04-06T03:13:23.021Z"
   },
   {
    "duration": 10,
    "start_time": "2022-04-06T03:13:23.064Z"
   },
   {
    "duration": 2084,
    "start_time": "2022-04-06T03:13:23.076Z"
   },
   {
    "duration": 10,
    "start_time": "2022-04-06T03:13:25.162Z"
   },
   {
    "duration": 67,
    "start_time": "2022-04-06T03:13:25.174Z"
   },
   {
    "duration": 2096,
    "start_time": "2022-04-06T03:13:41.038Z"
   },
   {
    "duration": 10,
    "start_time": "2022-04-06T03:13:49.767Z"
   },
   {
    "duration": 53,
    "start_time": "2022-04-06T03:13:55.324Z"
   },
   {
    "duration": 1972,
    "start_time": "2022-04-06T03:15:07.651Z"
   },
   {
    "duration": 11,
    "start_time": "2022-04-06T03:15:12.021Z"
   },
   {
    "duration": 1533,
    "start_time": "2022-04-06T03:15:30.125Z"
   },
   {
    "duration": 812,
    "start_time": "2022-04-06T03:15:31.660Z"
   },
   {
    "duration": 130,
    "start_time": "2022-04-06T03:15:32.473Z"
   },
   {
    "duration": 36,
    "start_time": "2022-04-06T03:15:32.606Z"
   },
   {
    "duration": 373,
    "start_time": "2022-04-06T03:15:32.644Z"
   },
   {
    "duration": 248,
    "start_time": "2022-04-06T03:15:33.018Z"
   },
   {
    "duration": 4,
    "start_time": "2022-04-06T03:15:33.267Z"
   },
   {
    "duration": 102,
    "start_time": "2022-04-06T03:15:33.273Z"
   },
   {
    "duration": 254,
    "start_time": "2022-04-06T03:15:33.376Z"
   },
   {
    "duration": 14,
    "start_time": "2022-04-06T03:15:33.633Z"
   },
   {
    "duration": 12,
    "start_time": "2022-04-06T03:15:33.648Z"
   },
   {
    "duration": 14,
    "start_time": "2022-04-06T03:15:33.662Z"
   },
   {
    "duration": 58,
    "start_time": "2022-04-06T03:15:33.677Z"
   },
   {
    "duration": 11,
    "start_time": "2022-04-06T03:15:33.736Z"
   },
   {
    "duration": 315,
    "start_time": "2022-04-06T03:15:33.749Z"
   },
   {
    "duration": 67,
    "start_time": "2022-04-06T03:15:34.066Z"
   },
   {
    "duration": 31,
    "start_time": "2022-04-06T03:15:34.134Z"
   },
   {
    "duration": 5,
    "start_time": "2022-04-06T03:15:34.167Z"
   },
   {
    "duration": 17,
    "start_time": "2022-04-06T03:15:34.173Z"
   },
   {
    "duration": 51,
    "start_time": "2022-04-06T03:15:34.191Z"
   },
   {
    "duration": 269,
    "start_time": "2022-04-06T03:15:34.244Z"
   },
   {
    "duration": 10,
    "start_time": "2022-04-06T03:15:34.514Z"
   },
   {
    "duration": 29,
    "start_time": "2022-04-06T03:15:34.533Z"
   },
   {
    "duration": 13,
    "start_time": "2022-04-06T03:15:34.563Z"
   },
   {
    "duration": 13,
    "start_time": "2022-04-06T03:15:34.578Z"
   },
   {
    "duration": 49,
    "start_time": "2022-04-06T03:15:34.593Z"
   },
   {
    "duration": 66,
    "start_time": "2022-04-06T03:15:34.644Z"
   },
   {
    "duration": 75,
    "start_time": "2022-04-06T03:15:34.713Z"
   },
   {
    "duration": 27,
    "start_time": "2022-04-06T03:15:34.790Z"
   },
   {
    "duration": 72,
    "start_time": "2022-04-06T03:15:34.818Z"
   },
   {
    "duration": 25,
    "start_time": "2022-04-06T03:15:34.892Z"
   },
   {
    "duration": 57,
    "start_time": "2022-04-06T03:15:34.933Z"
   },
   {
    "duration": 4,
    "start_time": "2022-04-06T03:15:34.991Z"
   },
   {
    "duration": 154,
    "start_time": "2022-04-06T03:15:34.996Z"
   },
   {
    "duration": 62,
    "start_time": "2022-04-06T03:15:35.152Z"
   },
   {
    "duration": 34,
    "start_time": "2022-04-06T03:15:35.216Z"
   },
   {
    "duration": 151,
    "start_time": "2022-04-06T03:15:35.252Z"
   },
   {
    "duration": 41,
    "start_time": "2022-04-06T03:15:35.404Z"
   },
   {
    "duration": 10,
    "start_time": "2022-04-06T03:15:35.447Z"
   },
   {
    "duration": 1890,
    "start_time": "2022-04-06T03:15:35.459Z"
   },
   {
    "duration": 11,
    "start_time": "2022-04-06T03:15:37.351Z"
   },
   {
    "duration": 77,
    "start_time": "2022-04-06T03:15:37.363Z"
   },
   {
    "duration": 11,
    "start_time": "2022-04-06T03:16:04.327Z"
   },
   {
    "duration": 25,
    "start_time": "2022-04-06T03:16:52.046Z"
   },
   {
    "duration": 114,
    "start_time": "2022-04-06T03:19:18.147Z"
   },
   {
    "duration": 27,
    "start_time": "2022-04-06T03:19:30.268Z"
   },
   {
    "duration": 0,
    "start_time": "2022-04-06T03:24:02.944Z"
   },
   {
    "duration": 1524,
    "start_time": "2022-04-06T03:25:07.145Z"
   },
   {
    "duration": 844,
    "start_time": "2022-04-06T03:25:08.671Z"
   },
   {
    "duration": 129,
    "start_time": "2022-04-06T03:25:09.517Z"
   },
   {
    "duration": 30,
    "start_time": "2022-04-06T03:25:09.648Z"
   },
   {
    "duration": 400,
    "start_time": "2022-04-06T03:25:09.679Z"
   },
   {
    "duration": 248,
    "start_time": "2022-04-06T03:25:10.081Z"
   },
   {
    "duration": 3,
    "start_time": "2022-04-06T03:25:10.333Z"
   },
   {
    "duration": 103,
    "start_time": "2022-04-06T03:25:10.337Z"
   },
   {
    "duration": 251,
    "start_time": "2022-04-06T03:25:10.442Z"
   },
   {
    "duration": 15,
    "start_time": "2022-04-06T03:25:10.696Z"
   },
   {
    "duration": 28,
    "start_time": "2022-04-06T03:25:10.713Z"
   },
   {
    "duration": 15,
    "start_time": "2022-04-06T03:25:10.743Z"
   },
   {
    "duration": 31,
    "start_time": "2022-04-06T03:25:10.759Z"
   },
   {
    "duration": 11,
    "start_time": "2022-04-06T03:25:10.792Z"
   },
   {
    "duration": 344,
    "start_time": "2022-04-06T03:25:10.804Z"
   },
   {
    "duration": 59,
    "start_time": "2022-04-06T03:25:11.150Z"
   },
   {
    "duration": 48,
    "start_time": "2022-04-06T03:25:11.211Z"
   },
   {
    "duration": 4,
    "start_time": "2022-04-06T03:25:11.261Z"
   },
   {
    "duration": 16,
    "start_time": "2022-04-06T03:25:11.267Z"
   },
   {
    "duration": 49,
    "start_time": "2022-04-06T03:25:11.285Z"
   },
   {
    "duration": 269,
    "start_time": "2022-04-06T03:25:11.335Z"
   },
   {
    "duration": 11,
    "start_time": "2022-04-06T03:25:11.606Z"
   },
   {
    "duration": 43,
    "start_time": "2022-04-06T03:25:11.619Z"
   },
   {
    "duration": 14,
    "start_time": "2022-04-06T03:25:11.664Z"
   },
   {
    "duration": 14,
    "start_time": "2022-04-06T03:25:11.680Z"
   },
   {
    "duration": 52,
    "start_time": "2022-04-06T03:25:11.696Z"
   },
   {
    "duration": 82,
    "start_time": "2022-04-06T03:25:11.750Z"
   },
   {
    "duration": 72,
    "start_time": "2022-04-06T03:25:11.836Z"
   },
   {
    "duration": 41,
    "start_time": "2022-04-06T03:25:11.909Z"
   },
   {
    "duration": 81,
    "start_time": "2022-04-06T03:25:11.951Z"
   },
   {
    "duration": 28,
    "start_time": "2022-04-06T03:25:12.034Z"
   },
   {
    "duration": 76,
    "start_time": "2022-04-06T03:25:12.064Z"
   },
   {
    "duration": 4,
    "start_time": "2022-04-06T03:25:12.141Z"
   },
   {
    "duration": 148,
    "start_time": "2022-04-06T03:25:12.146Z"
   },
   {
    "duration": 78,
    "start_time": "2022-04-06T03:25:12.296Z"
   },
   {
    "duration": 26,
    "start_time": "2022-04-06T03:25:12.376Z"
   },
   {
    "duration": 156,
    "start_time": "2022-04-06T03:25:12.403Z"
   },
   {
    "duration": 33,
    "start_time": "2022-04-06T03:25:12.561Z"
   },
   {
    "duration": 10,
    "start_time": "2022-04-06T03:25:12.596Z"
   },
   {
    "duration": 167367,
    "start_time": "2022-04-06T03:25:12.607Z"
   },
   {
    "duration": 11,
    "start_time": "2022-04-06T03:27:59.976Z"
   },
   {
    "duration": 80,
    "start_time": "2022-04-06T03:27:59.988Z"
   },
   {
    "duration": 27,
    "start_time": "2022-04-06T03:28:00.071Z"
   },
   {
    "duration": 49,
    "start_time": "2022-04-06T03:28:00.100Z"
   },
   {
    "duration": 1530,
    "start_time": "2022-04-06T03:28:57.028Z"
   },
   {
    "duration": 819,
    "start_time": "2022-04-06T03:28:58.560Z"
   },
   {
    "duration": 128,
    "start_time": "2022-04-06T03:28:59.381Z"
   },
   {
    "duration": 45,
    "start_time": "2022-04-06T03:28:59.511Z"
   },
   {
    "duration": 377,
    "start_time": "2022-04-06T03:28:59.557Z"
   },
   {
    "duration": 250,
    "start_time": "2022-04-06T03:28:59.935Z"
   },
   {
    "duration": 4,
    "start_time": "2022-04-06T03:29:00.186Z"
   },
   {
    "duration": 99,
    "start_time": "2022-04-06T03:29:00.191Z"
   },
   {
    "duration": 250,
    "start_time": "2022-04-06T03:29:00.292Z"
   },
   {
    "duration": 15,
    "start_time": "2022-04-06T03:29:00.544Z"
   },
   {
    "duration": 15,
    "start_time": "2022-04-06T03:29:00.561Z"
   },
   {
    "duration": 14,
    "start_time": "2022-04-06T03:29:00.577Z"
   },
   {
    "duration": 59,
    "start_time": "2022-04-06T03:29:00.593Z"
   },
   {
    "duration": 10,
    "start_time": "2022-04-06T03:29:00.654Z"
   },
   {
    "duration": 310,
    "start_time": "2022-04-06T03:29:00.666Z"
   },
   {
    "duration": 69,
    "start_time": "2022-04-06T03:29:00.978Z"
   },
   {
    "duration": 43,
    "start_time": "2022-04-06T03:29:01.049Z"
   },
   {
    "duration": 4,
    "start_time": "2022-04-06T03:29:01.094Z"
   },
   {
    "duration": 26,
    "start_time": "2022-04-06T03:29:01.100Z"
   },
   {
    "duration": 27,
    "start_time": "2022-04-06T03:29:01.133Z"
   },
   {
    "duration": 271,
    "start_time": "2022-04-06T03:29:01.162Z"
   },
   {
    "duration": 10,
    "start_time": "2022-04-06T03:29:01.434Z"
   },
   {
    "duration": 50,
    "start_time": "2022-04-06T03:29:01.446Z"
   },
   {
    "duration": 14,
    "start_time": "2022-04-06T03:29:01.498Z"
   },
   {
    "duration": 22,
    "start_time": "2022-04-06T03:29:01.514Z"
   },
   {
    "duration": 35,
    "start_time": "2022-04-06T03:29:01.537Z"
   },
   {
    "duration": 74,
    "start_time": "2022-04-06T03:29:01.574Z"
   },
   {
    "duration": 66,
    "start_time": "2022-04-06T03:29:01.652Z"
   },
   {
    "duration": 33,
    "start_time": "2022-04-06T03:29:01.720Z"
   },
   {
    "duration": 84,
    "start_time": "2022-04-06T03:29:01.755Z"
   },
   {
    "duration": 26,
    "start_time": "2022-04-06T03:29:01.841Z"
   },
   {
    "duration": 69,
    "start_time": "2022-04-06T03:29:01.869Z"
   },
   {
    "duration": 3,
    "start_time": "2022-04-06T03:29:01.940Z"
   },
   {
    "duration": 153,
    "start_time": "2022-04-06T03:29:01.945Z"
   },
   {
    "duration": 71,
    "start_time": "2022-04-06T03:29:02.100Z"
   },
   {
    "duration": 25,
    "start_time": "2022-04-06T03:29:02.173Z"
   },
   {
    "duration": 156,
    "start_time": "2022-04-06T03:29:02.199Z"
   },
   {
    "duration": 35,
    "start_time": "2022-04-06T03:29:02.356Z"
   },
   {
    "duration": 115,
    "start_time": "2022-04-06T03:29:02.393Z"
   },
   {
    "duration": 0,
    "start_time": "2022-04-06T03:29:02.509Z"
   },
   {
    "duration": 0,
    "start_time": "2022-04-06T03:29:02.511Z"
   },
   {
    "duration": 0,
    "start_time": "2022-04-06T03:29:02.511Z"
   },
   {
    "duration": 0,
    "start_time": "2022-04-06T03:29:02.512Z"
   },
   {
    "duration": 0,
    "start_time": "2022-04-06T03:29:02.513Z"
   },
   {
    "duration": 0,
    "start_time": "2022-04-06T03:29:02.515Z"
   },
   {
    "duration": 36,
    "start_time": "2022-04-06T03:29:10.120Z"
   },
   {
    "duration": 11,
    "start_time": "2022-04-06T03:29:14.061Z"
   },
   {
    "duration": 14431,
    "start_time": "2022-04-06T03:29:17.467Z"
   },
   {
    "duration": 0,
    "start_time": "2022-04-06T03:29:31.900Z"
   },
   {
    "duration": 0,
    "start_time": "2022-04-06T03:29:31.902Z"
   },
   {
    "duration": 0,
    "start_time": "2022-04-06T03:29:31.903Z"
   },
   {
    "duration": 2429,
    "start_time": "2022-04-06T03:29:50.167Z"
   },
   {
    "duration": 11,
    "start_time": "2022-04-06T03:29:54.899Z"
   },
   {
    "duration": 64,
    "start_time": "2022-04-06T03:29:56.461Z"
   },
   {
    "duration": 25,
    "start_time": "2022-04-06T03:29:59.699Z"
   },
   {
    "duration": 1488,
    "start_time": "2022-04-06T03:31:03.556Z"
   },
   {
    "duration": 828,
    "start_time": "2022-04-06T03:31:05.046Z"
   },
   {
    "duration": 135,
    "start_time": "2022-04-06T03:31:05.876Z"
   },
   {
    "duration": 43,
    "start_time": "2022-04-06T03:31:06.014Z"
   },
   {
    "duration": 374,
    "start_time": "2022-04-06T03:31:06.059Z"
   },
   {
    "duration": 245,
    "start_time": "2022-04-06T03:31:06.435Z"
   },
   {
    "duration": 4,
    "start_time": "2022-04-06T03:31:06.682Z"
   },
   {
    "duration": 99,
    "start_time": "2022-04-06T03:31:06.687Z"
   },
   {
    "duration": 252,
    "start_time": "2022-04-06T03:31:06.788Z"
   },
   {
    "duration": 17,
    "start_time": "2022-04-06T03:31:07.042Z"
   },
   {
    "duration": 14,
    "start_time": "2022-04-06T03:31:07.060Z"
   },
   {
    "duration": 15,
    "start_time": "2022-04-06T03:31:07.075Z"
   },
   {
    "duration": 63,
    "start_time": "2022-04-06T03:31:07.092Z"
   },
   {
    "duration": 10,
    "start_time": "2022-04-06T03:31:07.157Z"
   },
   {
    "duration": 313,
    "start_time": "2022-04-06T03:31:07.169Z"
   },
   {
    "duration": 64,
    "start_time": "2022-04-06T03:31:07.484Z"
   },
   {
    "duration": 30,
    "start_time": "2022-04-06T03:31:07.549Z"
   },
   {
    "duration": 5,
    "start_time": "2022-04-06T03:31:07.581Z"
   },
   {
    "duration": 46,
    "start_time": "2022-04-06T03:31:07.587Z"
   },
   {
    "duration": 29,
    "start_time": "2022-04-06T03:31:07.634Z"
   },
   {
    "duration": 264,
    "start_time": "2022-04-06T03:31:07.664Z"
   },
   {
    "duration": 11,
    "start_time": "2022-04-06T03:31:07.930Z"
   },
   {
    "duration": 30,
    "start_time": "2022-04-06T03:31:07.942Z"
   },
   {
    "duration": 14,
    "start_time": "2022-04-06T03:31:07.973Z"
   },
   {
    "duration": 14,
    "start_time": "2022-04-06T03:31:07.988Z"
   },
   {
    "duration": 27,
    "start_time": "2022-04-06T03:31:08.033Z"
   },
   {
    "duration": 88,
    "start_time": "2022-04-06T03:31:08.061Z"
   },
   {
    "duration": 80,
    "start_time": "2022-04-06T03:31:08.153Z"
   },
   {
    "duration": 25,
    "start_time": "2022-04-06T03:31:08.235Z"
   },
   {
    "duration": 76,
    "start_time": "2022-04-06T03:31:08.262Z"
   },
   {
    "duration": 26,
    "start_time": "2022-04-06T03:31:08.339Z"
   },
   {
    "duration": 76,
    "start_time": "2022-04-06T03:31:08.366Z"
   },
   {
    "duration": 3,
    "start_time": "2022-04-06T03:31:08.443Z"
   },
   {
    "duration": 146,
    "start_time": "2022-04-06T03:31:08.448Z"
   },
   {
    "duration": 71,
    "start_time": "2022-04-06T03:31:08.596Z"
   },
   {
    "duration": 25,
    "start_time": "2022-04-06T03:31:08.669Z"
   },
   {
    "duration": 155,
    "start_time": "2022-04-06T03:31:08.696Z"
   },
   {
    "duration": 33,
    "start_time": "2022-04-06T03:31:08.852Z"
   },
   {
    "duration": 47,
    "start_time": "2022-04-06T03:31:08.886Z"
   },
   {
    "duration": 9,
    "start_time": "2022-04-06T03:31:08.935Z"
   },
   {
    "duration": 1960,
    "start_time": "2022-04-06T03:31:08.946Z"
   },
   {
    "duration": 10,
    "start_time": "2022-04-06T03:31:10.908Z"
   },
   {
    "duration": 73,
    "start_time": "2022-04-06T03:31:10.920Z"
   },
   {
    "duration": 40,
    "start_time": "2022-04-06T03:31:10.994Z"
   },
   {
    "duration": 29,
    "start_time": "2022-04-06T03:31:11.035Z"
   },
   {
    "duration": 98476,
    "start_time": "2022-04-06T03:31:40.318Z"
   },
   {
    "duration": 0,
    "start_time": "2022-04-06T03:33:18.796Z"
   },
   {
    "duration": 26,
    "start_time": "2022-04-06T03:33:23.810Z"
   },
   {
    "duration": 1533,
    "start_time": "2022-04-06T03:33:44.949Z"
   },
   {
    "duration": 829,
    "start_time": "2022-04-06T03:33:46.484Z"
   },
   {
    "duration": 144,
    "start_time": "2022-04-06T03:33:47.315Z"
   },
   {
    "duration": 36,
    "start_time": "2022-04-06T03:33:47.462Z"
   },
   {
    "duration": 404,
    "start_time": "2022-04-06T03:33:47.500Z"
   },
   {
    "duration": 263,
    "start_time": "2022-04-06T03:33:47.906Z"
   },
   {
    "duration": 4,
    "start_time": "2022-04-06T03:33:48.171Z"
   },
   {
    "duration": 106,
    "start_time": "2022-04-06T03:33:48.177Z"
   },
   {
    "duration": 259,
    "start_time": "2022-04-06T03:33:48.285Z"
   },
   {
    "duration": 16,
    "start_time": "2022-04-06T03:33:48.548Z"
   },
   {
    "duration": 14,
    "start_time": "2022-04-06T03:33:48.566Z"
   },
   {
    "duration": 15,
    "start_time": "2022-04-06T03:33:48.582Z"
   },
   {
    "duration": 60,
    "start_time": "2022-04-06T03:33:48.599Z"
   },
   {
    "duration": 11,
    "start_time": "2022-04-06T03:33:48.661Z"
   },
   {
    "duration": 339,
    "start_time": "2022-04-06T03:33:48.674Z"
   },
   {
    "duration": 66,
    "start_time": "2022-04-06T03:33:49.016Z"
   },
   {
    "duration": 32,
    "start_time": "2022-04-06T03:33:49.083Z"
   },
   {
    "duration": 20,
    "start_time": "2022-04-06T03:33:49.116Z"
   },
   {
    "duration": 16,
    "start_time": "2022-04-06T03:33:49.138Z"
   },
   {
    "duration": 29,
    "start_time": "2022-04-06T03:33:49.156Z"
   },
   {
    "duration": 280,
    "start_time": "2022-04-06T03:33:49.186Z"
   },
   {
    "duration": 11,
    "start_time": "2022-04-06T03:33:49.467Z"
   },
   {
    "duration": 30,
    "start_time": "2022-04-06T03:33:49.480Z"
   },
   {
    "duration": 14,
    "start_time": "2022-04-06T03:33:49.533Z"
   },
   {
    "duration": 13,
    "start_time": "2022-04-06T03:33:49.549Z"
   },
   {
    "duration": 28,
    "start_time": "2022-04-06T03:33:49.564Z"
   },
   {
    "duration": 91,
    "start_time": "2022-04-06T03:33:49.594Z"
   },
   {
    "duration": 74,
    "start_time": "2022-04-06T03:33:49.689Z"
   },
   {
    "duration": 26,
    "start_time": "2022-04-06T03:33:49.764Z"
   },
   {
    "duration": 76,
    "start_time": "2022-04-06T03:33:49.791Z"
   },
   {
    "duration": 26,
    "start_time": "2022-04-06T03:33:49.868Z"
   },
   {
    "duration": 72,
    "start_time": "2022-04-06T03:33:49.896Z"
   },
   {
    "duration": 3,
    "start_time": "2022-04-06T03:33:49.970Z"
   },
   {
    "duration": 152,
    "start_time": "2022-04-06T03:33:49.975Z"
   },
   {
    "duration": 68,
    "start_time": "2022-04-06T03:33:50.129Z"
   },
   {
    "duration": 42,
    "start_time": "2022-04-06T03:33:50.198Z"
   },
   {
    "duration": 153,
    "start_time": "2022-04-06T03:33:50.241Z"
   },
   {
    "duration": 40,
    "start_time": "2022-04-06T03:33:50.395Z"
   },
   {
    "duration": 31,
    "start_time": "2022-04-06T03:33:50.436Z"
   },
   {
    "duration": 12,
    "start_time": "2022-04-06T03:33:50.468Z"
   },
   {
    "duration": 53,
    "start_time": "2022-04-06T03:33:50.481Z"
   },
   {
    "duration": 1992,
    "start_time": "2022-04-06T03:33:50.536Z"
   },
   {
    "duration": 10,
    "start_time": "2022-04-06T03:33:52.530Z"
   },
   {
    "duration": 64,
    "start_time": "2022-04-06T03:33:52.542Z"
   },
   {
    "duration": 41,
    "start_time": "2022-04-06T03:33:52.608Z"
   },
   {
    "duration": 27,
    "start_time": "2022-04-06T03:33:52.651Z"
   },
   {
    "duration": 1870,
    "start_time": "2022-04-06T03:35:24.091Z"
   },
   {
    "duration": 11,
    "start_time": "2022-04-06T03:35:27.585Z"
   },
   {
    "duration": 61,
    "start_time": "2022-04-06T03:35:29.179Z"
   },
   {
    "duration": 25,
    "start_time": "2022-04-06T03:35:30.619Z"
   },
   {
    "duration": 27,
    "start_time": "2022-04-06T03:35:37.470Z"
   },
   {
    "duration": 1878,
    "start_time": "2022-04-06T03:36:30.977Z"
   },
   {
    "duration": 10,
    "start_time": "2022-04-06T03:36:35.342Z"
   },
   {
    "duration": 63,
    "start_time": "2022-04-06T03:36:36.997Z"
   },
   {
    "duration": 26,
    "start_time": "2022-04-06T03:36:38.619Z"
   },
   {
    "duration": 27,
    "start_time": "2022-04-06T03:36:39.974Z"
   },
   {
    "duration": 1887,
    "start_time": "2022-04-06T03:37:20.496Z"
   },
   {
    "duration": 1964,
    "start_time": "2022-04-06T03:37:36.128Z"
   },
   {
    "duration": 178,
    "start_time": "2022-04-06T03:37:57.976Z"
   },
   {
    "duration": 1899,
    "start_time": "2022-04-06T03:38:05.717Z"
   },
   {
    "duration": 10,
    "start_time": "2022-04-06T03:38:09.342Z"
   },
   {
    "duration": 61,
    "start_time": "2022-04-06T03:38:10.149Z"
   },
   {
    "duration": 26,
    "start_time": "2022-04-06T03:38:11.213Z"
   },
   {
    "duration": 28,
    "start_time": "2022-04-06T03:38:13.475Z"
   },
   {
    "duration": 14,
    "start_time": "2022-04-06T03:40:20.181Z"
   },
   {
    "duration": 13,
    "start_time": "2022-04-06T03:41:24.838Z"
   },
   {
    "duration": 21,
    "start_time": "2022-04-06T03:43:27.485Z"
   },
   {
    "duration": 83,
    "start_time": "2022-04-06T03:43:47.339Z"
   },
   {
    "duration": 97,
    "start_time": "2022-04-06T03:44:13.263Z"
   },
   {
    "duration": 1476,
    "start_time": "2022-04-06T03:44:49.272Z"
   },
   {
    "duration": 823,
    "start_time": "2022-04-06T03:44:50.750Z"
   },
   {
    "duration": 125,
    "start_time": "2022-04-06T03:44:51.574Z"
   },
   {
    "duration": 50,
    "start_time": "2022-04-06T03:44:51.701Z"
   },
   {
    "duration": 375,
    "start_time": "2022-04-06T03:44:51.753Z"
   },
   {
    "duration": 247,
    "start_time": "2022-04-06T03:44:52.133Z"
   },
   {
    "duration": 3,
    "start_time": "2022-04-06T03:44:52.382Z"
   },
   {
    "duration": 99,
    "start_time": "2022-04-06T03:44:52.387Z"
   },
   {
    "duration": 254,
    "start_time": "2022-04-06T03:44:52.488Z"
   },
   {
    "duration": 16,
    "start_time": "2022-04-06T03:44:52.745Z"
   },
   {
    "duration": 12,
    "start_time": "2022-04-06T03:44:52.763Z"
   },
   {
    "duration": 14,
    "start_time": "2022-04-06T03:44:52.777Z"
   },
   {
    "duration": 63,
    "start_time": "2022-04-06T03:44:52.792Z"
   },
   {
    "duration": 11,
    "start_time": "2022-04-06T03:44:52.856Z"
   },
   {
    "duration": 318,
    "start_time": "2022-04-06T03:44:52.868Z"
   },
   {
    "duration": 68,
    "start_time": "2022-04-06T03:44:53.188Z"
   },
   {
    "duration": 30,
    "start_time": "2022-04-06T03:44:53.258Z"
   },
   {
    "duration": 4,
    "start_time": "2022-04-06T03:44:53.290Z"
   },
   {
    "duration": 39,
    "start_time": "2022-04-06T03:44:53.296Z"
   },
   {
    "duration": 27,
    "start_time": "2022-04-06T03:44:53.336Z"
   },
   {
    "duration": 261,
    "start_time": "2022-04-06T03:44:53.365Z"
   },
   {
    "duration": 11,
    "start_time": "2022-04-06T03:44:53.627Z"
   },
   {
    "duration": 30,
    "start_time": "2022-04-06T03:44:53.640Z"
   },
   {
    "duration": 14,
    "start_time": "2022-04-06T03:44:53.671Z"
   },
   {
    "duration": 46,
    "start_time": "2022-04-06T03:44:53.687Z"
   },
   {
    "duration": 24,
    "start_time": "2022-04-06T03:44:53.735Z"
   },
   {
    "duration": 82,
    "start_time": "2022-04-06T03:44:53.761Z"
   },
   {
    "duration": 61,
    "start_time": "2022-04-06T03:44:53.846Z"
   },
   {
    "duration": 37,
    "start_time": "2022-04-06T03:44:53.909Z"
   },
   {
    "duration": 66,
    "start_time": "2022-04-06T03:44:53.947Z"
   },
   {
    "duration": 33,
    "start_time": "2022-04-06T03:44:54.014Z"
   },
   {
    "duration": 60,
    "start_time": "2022-04-06T03:44:54.049Z"
   },
   {
    "duration": 3,
    "start_time": "2022-04-06T03:44:54.111Z"
   },
   {
    "duration": 141,
    "start_time": "2022-04-06T03:44:54.133Z"
   },
   {
    "duration": 68,
    "start_time": "2022-04-06T03:44:54.276Z"
   },
   {
    "duration": 25,
    "start_time": "2022-04-06T03:44:54.345Z"
   },
   {
    "duration": 14,
    "start_time": "2022-04-06T03:44:54.372Z"
   },
   {
    "duration": 160,
    "start_time": "2022-04-06T03:44:54.387Z"
   },
   {
    "duration": 13,
    "start_time": "2022-04-06T03:46:08.308Z"
   },
   {
    "duration": 13,
    "start_time": "2022-04-06T03:46:15.875Z"
   },
   {
    "duration": 33,
    "start_time": "2022-04-06T03:46:48.405Z"
   },
   {
    "duration": 5,
    "start_time": "2022-04-06T03:46:49.678Z"
   },
   {
    "duration": 104,
    "start_time": "2022-04-06T03:47:02.501Z"
   },
   {
    "duration": 13,
    "start_time": "2022-04-06T03:47:04.144Z"
   },
   {
    "duration": 2882,
    "start_time": "2022-04-07T02:27:12.862Z"
   },
   {
    "duration": 6418,
    "start_time": "2022-04-07T02:27:15.747Z"
   },
   {
    "duration": 184,
    "start_time": "2022-04-07T02:27:22.167Z"
   },
   {
    "duration": 60,
    "start_time": "2022-04-07T02:27:22.354Z"
   },
   {
    "duration": 535,
    "start_time": "2022-04-07T02:27:22.416Z"
   },
   {
    "duration": 351,
    "start_time": "2022-04-07T02:27:22.953Z"
   },
   {
    "duration": 5,
    "start_time": "2022-04-07T02:27:23.306Z"
   },
   {
    "duration": 131,
    "start_time": "2022-04-07T02:27:23.313Z"
   },
   {
    "duration": 444,
    "start_time": "2022-04-07T02:27:23.446Z"
   },
   {
    "duration": 23,
    "start_time": "2022-04-07T02:27:23.894Z"
   },
   {
    "duration": 21,
    "start_time": "2022-04-07T02:27:23.919Z"
   },
   {
    "duration": 54,
    "start_time": "2022-04-07T02:27:23.942Z"
   },
   {
    "duration": 50,
    "start_time": "2022-04-07T02:27:23.999Z"
   },
   {
    "duration": 34,
    "start_time": "2022-04-07T02:27:24.051Z"
   },
   {
    "duration": 523,
    "start_time": "2022-04-07T02:27:24.087Z"
   },
   {
    "duration": 99,
    "start_time": "2022-04-07T02:27:24.613Z"
   },
   {
    "duration": 49,
    "start_time": "2022-04-07T02:27:24.714Z"
   },
   {
    "duration": 7,
    "start_time": "2022-04-07T02:27:24.785Z"
   },
   {
    "duration": 26,
    "start_time": "2022-04-07T02:27:24.794Z"
   },
   {
    "duration": 73,
    "start_time": "2022-04-07T02:27:24.822Z"
   },
   {
    "duration": 483,
    "start_time": "2022-04-07T02:27:24.897Z"
   },
   {
    "duration": 15,
    "start_time": "2022-04-07T02:27:25.384Z"
   },
   {
    "duration": 51,
    "start_time": "2022-04-07T02:27:25.401Z"
   },
   {
    "duration": 45,
    "start_time": "2022-04-07T02:27:25.454Z"
   },
   {
    "duration": 18,
    "start_time": "2022-04-07T02:27:25.501Z"
   },
   {
    "duration": 63,
    "start_time": "2022-04-07T02:27:25.521Z"
   },
   {
    "duration": 109,
    "start_time": "2022-04-07T02:27:25.587Z"
   },
   {
    "duration": 104,
    "start_time": "2022-04-07T02:27:25.701Z"
   },
   {
    "duration": 34,
    "start_time": "2022-04-07T02:27:25.808Z"
   },
   {
    "duration": 99,
    "start_time": "2022-04-07T02:27:25.844Z"
   },
   {
    "duration": 65,
    "start_time": "2022-04-07T02:27:25.946Z"
   },
   {
    "duration": 114,
    "start_time": "2022-04-07T02:27:26.014Z"
   },
   {
    "duration": 5,
    "start_time": "2022-04-07T02:27:26.131Z"
   },
   {
    "duration": 258,
    "start_time": "2022-04-07T02:27:26.138Z"
   },
   {
    "duration": 94,
    "start_time": "2022-04-07T02:27:26.399Z"
   },
   {
    "duration": 35,
    "start_time": "2022-04-07T02:27:26.495Z"
   },
   {
    "duration": 30,
    "start_time": "2022-04-07T02:27:26.532Z"
   },
   {
    "duration": 227,
    "start_time": "2022-04-07T02:27:26.565Z"
   },
   {
    "duration": 17,
    "start_time": "2022-04-07T02:27:26.794Z"
   },
   {
    "duration": 472,
    "start_time": "2022-04-07T02:31:09.826Z"
   },
   {
    "duration": 316,
    "start_time": "2022-04-07T02:31:24.343Z"
   },
   {
    "duration": 2242,
    "start_time": "2022-04-07T02:31:33.781Z"
   },
   {
    "duration": 11,
    "start_time": "2022-04-07T02:33:50.742Z"
   },
   {
    "duration": 11,
    "start_time": "2022-04-07T02:33:59.459Z"
   },
   {
    "duration": 12,
    "start_time": "2022-04-07T02:34:10.326Z"
   },
   {
    "duration": 12,
    "start_time": "2022-04-07T02:34:22.132Z"
   },
   {
    "duration": 11,
    "start_time": "2022-04-07T02:34:28.273Z"
   },
   {
    "duration": 10,
    "start_time": "2022-04-07T02:34:49.182Z"
   },
   {
    "duration": 31,
    "start_time": "2022-04-07T02:36:44.095Z"
   },
   {
    "duration": 509,
    "start_time": "2022-04-07T02:37:18.364Z"
   },
   {
    "duration": 26,
    "start_time": "2022-04-07T02:39:25.148Z"
   },
   {
    "duration": 10,
    "start_time": "2022-04-07T02:39:33.942Z"
   },
   {
    "duration": 9,
    "start_time": "2022-04-07T02:39:40.781Z"
   },
   {
    "duration": 9,
    "start_time": "2022-04-07T02:39:58.983Z"
   },
   {
    "duration": 12,
    "start_time": "2022-04-07T02:40:24.010Z"
   },
   {
    "duration": 15,
    "start_time": "2022-04-07T02:40:32.141Z"
   },
   {
    "duration": 9,
    "start_time": "2022-04-07T02:42:33.715Z"
   },
   {
    "duration": 33,
    "start_time": "2022-04-07T02:43:40.489Z"
   },
   {
    "duration": 571,
    "start_time": "2022-04-07T02:46:32.268Z"
   },
   {
    "duration": 694,
    "start_time": "2022-04-07T02:46:40.410Z"
   },
   {
    "duration": 1229,
    "start_time": "2022-04-07T02:51:42.010Z"
   },
   {
    "duration": 613,
    "start_time": "2022-04-07T02:51:50.533Z"
   },
   {
    "duration": 668,
    "start_time": "2022-04-07T02:51:57.498Z"
   },
   {
    "duration": 70,
    "start_time": "2022-04-07T02:52:20.029Z"
   },
   {
    "duration": 32,
    "start_time": "2022-04-07T03:01:06.990Z"
   },
   {
    "duration": 37,
    "start_time": "2022-04-07T03:01:14.339Z"
   },
   {
    "duration": 10,
    "start_time": "2022-04-07T03:01:25.580Z"
   },
   {
    "duration": 37,
    "start_time": "2022-04-07T03:03:09.570Z"
   },
   {
    "duration": 10,
    "start_time": "2022-04-07T03:03:36.189Z"
   },
   {
    "duration": 176,
    "start_time": "2022-04-07T03:05:43.449Z"
   },
   {
    "duration": 74,
    "start_time": "2022-04-07T03:05:57.761Z"
   },
   {
    "duration": 2321,
    "start_time": "2022-04-07T11:22:42.065Z"
   },
   {
    "duration": 1004,
    "start_time": "2022-04-07T11:22:44.388Z"
   },
   {
    "duration": 236,
    "start_time": "2022-04-07T11:22:45.396Z"
   },
   {
    "duration": 45,
    "start_time": "2022-04-07T11:22:45.633Z"
   },
   {
    "duration": 347,
    "start_time": "2022-04-07T11:22:45.680Z"
   },
   {
    "duration": 214,
    "start_time": "2022-04-07T11:22:46.029Z"
   },
   {
    "duration": 3,
    "start_time": "2022-04-07T11:22:46.245Z"
   },
   {
    "duration": 92,
    "start_time": "2022-04-07T11:22:46.250Z"
   },
   {
    "duration": 248,
    "start_time": "2022-04-07T11:22:46.345Z"
   },
   {
    "duration": 14,
    "start_time": "2022-04-07T11:22:46.594Z"
   },
   {
    "duration": 9,
    "start_time": "2022-04-07T11:22:46.610Z"
   },
   {
    "duration": 15,
    "start_time": "2022-04-07T11:22:46.621Z"
   },
   {
    "duration": 50,
    "start_time": "2022-04-07T11:22:46.637Z"
   },
   {
    "duration": 10,
    "start_time": "2022-04-07T11:22:46.688Z"
   },
   {
    "duration": 310,
    "start_time": "2022-04-07T11:22:46.699Z"
   },
   {
    "duration": 66,
    "start_time": "2022-04-07T11:22:47.011Z"
   },
   {
    "duration": 28,
    "start_time": "2022-04-07T11:22:47.079Z"
   },
   {
    "duration": 4,
    "start_time": "2022-04-07T11:22:47.109Z"
   },
   {
    "duration": 20,
    "start_time": "2022-04-07T11:22:47.114Z"
   },
   {
    "duration": 51,
    "start_time": "2022-04-07T11:22:47.135Z"
   },
   {
    "duration": 267,
    "start_time": "2022-04-07T11:22:47.188Z"
   },
   {
    "duration": 14,
    "start_time": "2022-04-07T11:22:47.457Z"
   },
   {
    "duration": 28,
    "start_time": "2022-04-07T11:22:47.472Z"
   },
   {
    "duration": 14,
    "start_time": "2022-04-07T11:22:47.502Z"
   },
   {
    "duration": 14,
    "start_time": "2022-04-07T11:22:47.517Z"
   },
   {
    "duration": 53,
    "start_time": "2022-04-07T11:22:47.532Z"
   },
   {
    "duration": 78,
    "start_time": "2022-04-07T11:22:47.589Z"
   },
   {
    "duration": 65,
    "start_time": "2022-04-07T11:22:47.669Z"
   },
   {
    "duration": 38,
    "start_time": "2022-04-07T11:22:47.735Z"
   },
   {
    "duration": 81,
    "start_time": "2022-04-07T11:22:47.775Z"
   },
   {
    "duration": 24,
    "start_time": "2022-04-07T11:22:47.857Z"
   },
   {
    "duration": 59,
    "start_time": "2022-04-07T11:22:47.882Z"
   },
   {
    "duration": 3,
    "start_time": "2022-04-07T11:22:47.943Z"
   },
   {
    "duration": 135,
    "start_time": "2022-04-07T11:22:47.962Z"
   },
   {
    "duration": 69,
    "start_time": "2022-04-07T11:22:48.099Z"
   },
   {
    "duration": 25,
    "start_time": "2022-04-07T11:22:48.170Z"
   },
   {
    "duration": 14,
    "start_time": "2022-04-07T11:22:48.196Z"
   },
   {
    "duration": 154,
    "start_time": "2022-04-07T11:22:48.212Z"
   },
   {
    "duration": 12,
    "start_time": "2022-04-07T11:22:48.368Z"
   },
   {
    "duration": 1214,
    "start_time": "2022-04-07T11:22:48.381Z"
   },
   {
    "duration": 269,
    "start_time": "2022-04-07T11:22:49.597Z"
   },
   {
    "duration": 297,
    "start_time": "2022-04-07T11:22:49.868Z"
   },
   {
    "duration": 56,
    "start_time": "2022-04-07T11:22:50.166Z"
   },
   {
    "duration": 41,
    "start_time": "2022-04-07T11:22:50.224Z"
   },
   {
    "duration": 6,
    "start_time": "2022-04-07T11:22:50.266Z"
   },
   {
    "duration": 23,
    "start_time": "2022-04-07T11:22:50.274Z"
   },
   {
    "duration": 5,
    "start_time": "2022-04-07T11:22:50.298Z"
   },
   {
    "duration": 81,
    "start_time": "2022-04-07T11:22:50.305Z"
   },
   {
    "duration": 132,
    "start_time": "2022-04-07T11:52:36.179Z"
   },
   {
    "duration": 596,
    "start_time": "2022-04-07T11:52:43.303Z"
   },
   {
    "duration": 183,
    "start_time": "2022-04-07T12:08:30.188Z"
   },
   {
    "duration": 69,
    "start_time": "2022-04-07T12:08:48.257Z"
   },
   {
    "duration": 297,
    "start_time": "2022-04-07T12:09:10.676Z"
   },
   {
    "duration": 61003,
    "start_time": "2022-04-07T12:20:47.665Z"
   },
   {
    "duration": 71162,
    "start_time": "2022-04-07T12:29:28.002Z"
   },
   {
    "duration": 204,
    "start_time": "2022-04-07T13:00:25.931Z"
   },
   {
    "duration": 1669,
    "start_time": "2022-04-07T13:00:36.909Z"
   },
   {
    "duration": 1137,
    "start_time": "2022-04-07T13:00:38.580Z"
   },
   {
    "duration": 129,
    "start_time": "2022-04-07T13:00:39.718Z"
   },
   {
    "duration": 41,
    "start_time": "2022-04-07T13:00:39.850Z"
   },
   {
    "duration": 375,
    "start_time": "2022-04-07T13:00:39.892Z"
   },
   {
    "duration": 244,
    "start_time": "2022-04-07T13:00:40.268Z"
   },
   {
    "duration": 3,
    "start_time": "2022-04-07T13:00:40.515Z"
   },
   {
    "duration": 94,
    "start_time": "2022-04-07T13:00:40.520Z"
   },
   {
    "duration": 243,
    "start_time": "2022-04-07T13:00:40.616Z"
   },
   {
    "duration": 16,
    "start_time": "2022-04-07T13:00:40.862Z"
   },
   {
    "duration": 11,
    "start_time": "2022-04-07T13:00:40.880Z"
   },
   {
    "duration": 12,
    "start_time": "2022-04-07T13:00:40.892Z"
   },
   {
    "duration": 59,
    "start_time": "2022-04-07T13:00:40.905Z"
   },
   {
    "duration": 11,
    "start_time": "2022-04-07T13:00:40.965Z"
   },
   {
    "duration": 313,
    "start_time": "2022-04-07T13:00:40.977Z"
   },
   {
    "duration": 59,
    "start_time": "2022-04-07T13:00:41.292Z"
   },
   {
    "duration": 32,
    "start_time": "2022-04-07T13:00:41.363Z"
   },
   {
    "duration": 4,
    "start_time": "2022-04-07T13:00:41.397Z"
   },
   {
    "duration": 21,
    "start_time": "2022-04-07T13:00:41.403Z"
   },
   {
    "duration": 49,
    "start_time": "2022-04-07T13:00:41.425Z"
   },
   {
    "duration": 255,
    "start_time": "2022-04-07T13:00:41.475Z"
   },
   {
    "duration": 10,
    "start_time": "2022-04-07T13:00:41.732Z"
   },
   {
    "duration": 41,
    "start_time": "2022-04-07T13:00:41.743Z"
   },
   {
    "duration": 13,
    "start_time": "2022-04-07T13:00:41.786Z"
   },
   {
    "duration": 13,
    "start_time": "2022-04-07T13:00:41.800Z"
   },
   {
    "duration": 32,
    "start_time": "2022-04-07T13:00:41.814Z"
   },
   {
    "duration": 78,
    "start_time": "2022-04-07T13:00:41.848Z"
   },
   {
    "duration": 78,
    "start_time": "2022-04-07T13:00:41.930Z"
   },
   {
    "duration": 25,
    "start_time": "2022-04-07T13:00:42.009Z"
   },
   {
    "duration": 75,
    "start_time": "2022-04-07T13:00:42.036Z"
   },
   {
    "duration": 25,
    "start_time": "2022-04-07T13:00:42.113Z"
   },
   {
    "duration": 73,
    "start_time": "2022-04-07T13:00:42.140Z"
   },
   {
    "duration": 4,
    "start_time": "2022-04-07T13:00:42.215Z"
   },
   {
    "duration": 146,
    "start_time": "2022-04-07T13:00:42.221Z"
   },
   {
    "duration": 66,
    "start_time": "2022-04-07T13:00:42.369Z"
   },
   {
    "duration": 36,
    "start_time": "2022-04-07T13:00:42.437Z"
   },
   {
    "duration": 14,
    "start_time": "2022-04-07T13:00:42.475Z"
   },
   {
    "duration": 165,
    "start_time": "2022-04-07T13:00:42.491Z"
   },
   {
    "duration": 15,
    "start_time": "2022-04-07T13:00:42.658Z"
   },
   {
    "duration": 1240,
    "start_time": "2022-04-07T13:00:42.675Z"
   },
   {
    "duration": 283,
    "start_time": "2022-04-07T13:00:43.917Z"
   },
   {
    "duration": 300,
    "start_time": "2022-04-07T13:00:44.202Z"
   },
   {
    "duration": 65,
    "start_time": "2022-04-07T13:00:44.504Z"
   },
   {
    "duration": 25,
    "start_time": "2022-04-07T13:00:44.571Z"
   },
   {
    "duration": 5,
    "start_time": "2022-04-07T13:00:44.598Z"
   },
   {
    "duration": 28,
    "start_time": "2022-04-07T13:00:44.605Z"
   },
   {
    "duration": 30,
    "start_time": "2022-04-07T13:00:44.635Z"
   },
   {
    "duration": 55,
    "start_time": "2022-04-07T13:00:44.667Z"
   },
   {
    "duration": 606,
    "start_time": "2022-04-07T13:00:44.725Z"
   },
   {
    "duration": 313,
    "start_time": "2022-04-07T13:00:45.333Z"
   },
   {
    "duration": 59643,
    "start_time": "2022-04-07T13:00:45.647Z"
   },
   {
    "duration": 66303,
    "start_time": "2022-04-07T13:01:45.365Z"
   },
   {
    "duration": 178,
    "start_time": "2022-04-07T13:06:37.022Z"
   },
   {
    "duration": 1690,
    "start_time": "2022-04-07T13:08:20.500Z"
   },
   {
    "duration": 1225,
    "start_time": "2022-04-07T13:08:22.192Z"
   },
   {
    "duration": 142,
    "start_time": "2022-04-07T13:08:23.421Z"
   },
   {
    "duration": 31,
    "start_time": "2022-04-07T13:08:23.564Z"
   },
   {
    "duration": 378,
    "start_time": "2022-04-07T13:08:23.597Z"
   },
   {
    "duration": 243,
    "start_time": "2022-04-07T13:08:23.976Z"
   },
   {
    "duration": 4,
    "start_time": "2022-04-07T13:08:24.220Z"
   },
   {
    "duration": 112,
    "start_time": "2022-04-07T13:08:24.225Z"
   },
   {
    "duration": 251,
    "start_time": "2022-04-07T13:08:24.340Z"
   },
   {
    "duration": 16,
    "start_time": "2022-04-07T13:08:24.593Z"
   },
   {
    "duration": 12,
    "start_time": "2022-04-07T13:08:24.611Z"
   },
   {
    "duration": 15,
    "start_time": "2022-04-07T13:08:24.624Z"
   },
   {
    "duration": 51,
    "start_time": "2022-04-07T13:08:24.640Z"
   },
   {
    "duration": 11,
    "start_time": "2022-04-07T13:08:24.693Z"
   },
   {
    "duration": 324,
    "start_time": "2022-04-07T13:08:24.705Z"
   },
   {
    "duration": 62,
    "start_time": "2022-04-07T13:08:25.031Z"
   },
   {
    "duration": 49,
    "start_time": "2022-04-07T13:08:25.095Z"
   },
   {
    "duration": 4,
    "start_time": "2022-04-07T13:08:25.146Z"
   },
   {
    "duration": 23,
    "start_time": "2022-04-07T13:08:25.152Z"
   },
   {
    "duration": 31,
    "start_time": "2022-04-07T13:08:25.177Z"
   },
   {
    "duration": 253,
    "start_time": "2022-04-07T13:08:25.209Z"
   },
   {
    "duration": 11,
    "start_time": "2022-04-07T13:08:25.464Z"
   },
   {
    "duration": 42,
    "start_time": "2022-04-07T13:08:25.476Z"
   },
   {
    "duration": 13,
    "start_time": "2022-04-07T13:08:25.519Z"
   },
   {
    "duration": 27,
    "start_time": "2022-04-07T13:08:25.534Z"
   },
   {
    "duration": 42,
    "start_time": "2022-04-07T13:08:25.562Z"
   },
   {
    "duration": 76,
    "start_time": "2022-04-07T13:08:25.607Z"
   },
   {
    "duration": 62,
    "start_time": "2022-04-07T13:08:25.685Z"
   },
   {
    "duration": 33,
    "start_time": "2022-04-07T13:08:25.749Z"
   },
   {
    "duration": 93,
    "start_time": "2022-04-07T13:08:25.784Z"
   },
   {
    "duration": 36,
    "start_time": "2022-04-07T13:08:25.879Z"
   },
   {
    "duration": 70,
    "start_time": "2022-04-07T13:08:25.917Z"
   },
   {
    "duration": 3,
    "start_time": "2022-04-07T13:08:25.988Z"
   },
   {
    "duration": 159,
    "start_time": "2022-04-07T13:08:25.993Z"
   },
   {
    "duration": 66,
    "start_time": "2022-04-07T13:08:26.154Z"
   },
   {
    "duration": 26,
    "start_time": "2022-04-07T13:08:26.222Z"
   },
   {
    "duration": 14,
    "start_time": "2022-04-07T13:08:26.262Z"
   },
   {
    "duration": 154,
    "start_time": "2022-04-07T13:08:26.278Z"
   },
   {
    "duration": 14,
    "start_time": "2022-04-07T13:08:26.434Z"
   },
   {
    "duration": 1234,
    "start_time": "2022-04-07T13:08:26.449Z"
   },
   {
    "duration": 267,
    "start_time": "2022-04-07T13:08:27.686Z"
   },
   {
    "duration": 277,
    "start_time": "2022-04-07T13:08:27.963Z"
   },
   {
    "duration": 62,
    "start_time": "2022-04-07T13:08:28.241Z"
   },
   {
    "duration": 26,
    "start_time": "2022-04-07T13:08:28.304Z"
   },
   {
    "duration": 7,
    "start_time": "2022-04-07T13:08:28.331Z"
   },
   {
    "duration": 46,
    "start_time": "2022-04-07T13:08:28.340Z"
   },
   {
    "duration": 7,
    "start_time": "2022-04-07T13:08:28.388Z"
   },
   {
    "duration": 77,
    "start_time": "2022-04-07T13:08:28.397Z"
   },
   {
    "duration": 568,
    "start_time": "2022-04-07T13:08:28.476Z"
   },
   {
    "duration": 319,
    "start_time": "2022-04-07T13:08:29.046Z"
   },
   {
    "duration": 58996,
    "start_time": "2022-04-07T13:08:29.367Z"
   },
   {
    "duration": 63197,
    "start_time": "2022-04-07T13:09:28.368Z"
   },
   {
    "duration": 1688,
    "start_time": "2022-04-07T13:14:24.481Z"
   },
   {
    "duration": 1194,
    "start_time": "2022-04-07T13:14:26.171Z"
   },
   {
    "duration": 141,
    "start_time": "2022-04-07T13:14:27.367Z"
   },
   {
    "duration": 34,
    "start_time": "2022-04-07T13:14:27.511Z"
   },
   {
    "duration": 397,
    "start_time": "2022-04-07T13:14:27.547Z"
   },
   {
    "duration": 252,
    "start_time": "2022-04-07T13:14:27.945Z"
   },
   {
    "duration": 3,
    "start_time": "2022-04-07T13:14:28.199Z"
   },
   {
    "duration": 97,
    "start_time": "2022-04-07T13:14:28.204Z"
   },
   {
    "duration": 243,
    "start_time": "2022-04-07T13:14:28.303Z"
   },
   {
    "duration": 19,
    "start_time": "2022-04-07T13:14:28.549Z"
   },
   {
    "duration": 13,
    "start_time": "2022-04-07T13:14:28.569Z"
   },
   {
    "duration": 13,
    "start_time": "2022-04-07T13:14:28.583Z"
   },
   {
    "duration": 28,
    "start_time": "2022-04-07T13:14:28.598Z"
   },
   {
    "duration": 36,
    "start_time": "2022-04-07T13:14:28.628Z"
   },
   {
    "duration": 308,
    "start_time": "2022-04-07T13:14:28.665Z"
   },
   {
    "duration": 58,
    "start_time": "2022-04-07T13:14:28.974Z"
   },
   {
    "duration": 47,
    "start_time": "2022-04-07T13:14:29.033Z"
   },
   {
    "duration": 5,
    "start_time": "2022-04-07T13:14:29.082Z"
   },
   {
    "duration": 18,
    "start_time": "2022-04-07T13:14:29.088Z"
   },
   {
    "duration": 26,
    "start_time": "2022-04-07T13:14:29.107Z"
   },
   {
    "duration": 274,
    "start_time": "2022-04-07T13:14:29.135Z"
   },
   {
    "duration": 9,
    "start_time": "2022-04-07T13:14:29.410Z"
   },
   {
    "duration": 43,
    "start_time": "2022-04-07T13:14:29.421Z"
   },
   {
    "duration": 14,
    "start_time": "2022-04-07T13:14:29.465Z"
   },
   {
    "duration": 15,
    "start_time": "2022-04-07T13:14:29.480Z"
   },
   {
    "duration": 25,
    "start_time": "2022-04-07T13:14:29.496Z"
   },
   {
    "duration": 94,
    "start_time": "2022-04-07T13:14:29.523Z"
   },
   {
    "duration": 69,
    "start_time": "2022-04-07T13:14:29.622Z"
   },
   {
    "duration": 25,
    "start_time": "2022-04-07T13:14:29.693Z"
   },
   {
    "duration": 77,
    "start_time": "2022-04-07T13:14:29.720Z"
   },
   {
    "duration": 26,
    "start_time": "2022-04-07T13:14:29.799Z"
   },
   {
    "duration": 71,
    "start_time": "2022-04-07T13:14:29.826Z"
   },
   {
    "duration": 3,
    "start_time": "2022-04-07T13:14:29.899Z"
   },
   {
    "duration": 151,
    "start_time": "2022-04-07T13:14:29.904Z"
   },
   {
    "duration": 65,
    "start_time": "2022-04-07T13:14:30.057Z"
   },
   {
    "duration": 24,
    "start_time": "2022-04-07T13:14:30.124Z"
   },
   {
    "duration": 23,
    "start_time": "2022-04-07T13:14:30.150Z"
   },
   {
    "duration": 156,
    "start_time": "2022-04-07T13:14:30.175Z"
   },
   {
    "duration": 13,
    "start_time": "2022-04-07T13:14:30.333Z"
   },
   {
    "duration": 1266,
    "start_time": "2022-04-07T13:14:30.347Z"
   },
   {
    "duration": 269,
    "start_time": "2022-04-07T13:14:31.615Z"
   },
   {
    "duration": 295,
    "start_time": "2022-04-07T13:14:31.886Z"
   },
   {
    "duration": 54,
    "start_time": "2022-04-07T13:14:32.183Z"
   },
   {
    "duration": 41,
    "start_time": "2022-04-07T13:14:32.238Z"
   },
   {
    "duration": 29,
    "start_time": "2022-04-07T13:14:32.281Z"
   },
   {
    "duration": 26,
    "start_time": "2022-04-07T13:14:32.311Z"
   },
   {
    "duration": 8,
    "start_time": "2022-04-07T13:14:32.338Z"
   },
   {
    "duration": 61,
    "start_time": "2022-04-07T13:14:32.348Z"
   },
   {
    "duration": 599,
    "start_time": "2022-04-07T13:14:32.411Z"
   },
   {
    "duration": 357,
    "start_time": "2022-04-07T13:14:33.012Z"
   },
   {
    "duration": 58616,
    "start_time": "2022-04-07T13:14:33.371Z"
   },
   {
    "duration": 74905,
    "start_time": "2022-04-07T13:15:32.062Z"
   },
   {
    "duration": 95,
    "start_time": "2022-04-07T13:16:46.970Z"
   },
   {
    "duration": 460611,
    "start_time": "2022-04-07T13:29:35.185Z"
   },
   {
    "duration": 2586,
    "start_time": "2022-04-08T07:45:24.715Z"
   },
   {
    "duration": 1062,
    "start_time": "2022-04-08T07:45:27.304Z"
   },
   {
    "duration": 182,
    "start_time": "2022-04-08T07:45:28.368Z"
   },
   {
    "duration": 49,
    "start_time": "2022-04-08T07:45:28.553Z"
   },
   {
    "duration": 522,
    "start_time": "2022-04-08T07:45:28.604Z"
   },
   {
    "duration": 343,
    "start_time": "2022-04-08T07:45:29.128Z"
   },
   {
    "duration": 5,
    "start_time": "2022-04-08T07:45:29.473Z"
   },
   {
    "duration": 133,
    "start_time": "2022-04-08T07:45:29.479Z"
   },
   {
    "duration": 432,
    "start_time": "2022-04-08T07:45:29.614Z"
   },
   {
    "duration": 21,
    "start_time": "2022-04-08T07:45:30.050Z"
   },
   {
    "duration": 16,
    "start_time": "2022-04-08T07:45:30.073Z"
   },
   {
    "duration": 53,
    "start_time": "2022-04-08T07:45:30.091Z"
   },
   {
    "duration": 48,
    "start_time": "2022-04-08T07:45:30.147Z"
   },
   {
    "duration": 17,
    "start_time": "2022-04-08T07:45:30.197Z"
   },
   {
    "duration": 523,
    "start_time": "2022-04-08T07:45:30.243Z"
   },
   {
    "duration": 98,
    "start_time": "2022-04-08T07:45:30.768Z"
   },
   {
    "duration": 85,
    "start_time": "2022-04-08T07:45:30.868Z"
   },
   {
    "duration": 27,
    "start_time": "2022-04-08T07:45:30.956Z"
   },
   {
    "duration": 42,
    "start_time": "2022-04-08T07:45:30.986Z"
   },
   {
    "duration": 78,
    "start_time": "2022-04-08T07:45:31.030Z"
   },
   {
    "duration": 465,
    "start_time": "2022-04-08T07:45:31.110Z"
   },
   {
    "duration": 15,
    "start_time": "2022-04-08T07:45:31.577Z"
   },
   {
    "duration": 69,
    "start_time": "2022-04-08T07:45:31.594Z"
   },
   {
    "duration": 42,
    "start_time": "2022-04-08T07:45:31.665Z"
   },
   {
    "duration": 18,
    "start_time": "2022-04-08T07:45:31.709Z"
   },
   {
    "duration": 44,
    "start_time": "2022-04-08T07:45:31.729Z"
   },
   {
    "duration": 107,
    "start_time": "2022-04-08T07:45:31.776Z"
   },
   {
    "duration": 98,
    "start_time": "2022-04-08T07:45:31.888Z"
   },
   {
    "duration": 33,
    "start_time": "2022-04-08T07:45:31.989Z"
   },
   {
    "duration": 152,
    "start_time": "2022-04-08T07:45:32.024Z"
   },
   {
    "duration": 71,
    "start_time": "2022-04-08T07:45:32.178Z"
   },
   {
    "duration": 147,
    "start_time": "2022-04-08T07:45:32.252Z"
   },
   {
    "duration": 5,
    "start_time": "2022-04-08T07:45:32.402Z"
   },
   {
    "duration": 333,
    "start_time": "2022-04-08T07:45:32.410Z"
   },
   {
    "duration": 172,
    "start_time": "2022-04-08T07:45:32.746Z"
   },
   {
    "duration": 70,
    "start_time": "2022-04-08T07:45:32.921Z"
   },
   {
    "duration": 30,
    "start_time": "2022-04-08T07:45:32.994Z"
   },
   {
    "duration": 305,
    "start_time": "2022-04-08T07:45:33.044Z"
   },
   {
    "duration": 26,
    "start_time": "2022-04-08T07:45:33.351Z"
   },
   {
    "duration": 2221,
    "start_time": "2022-04-08T07:45:33.379Z"
   },
   {
    "duration": 494,
    "start_time": "2022-04-08T07:45:35.602Z"
   },
   {
    "duration": 540,
    "start_time": "2022-04-08T07:45:36.098Z"
   },
   {
    "duration": 72,
    "start_time": "2022-04-08T07:45:36.643Z"
   },
   {
    "duration": 58,
    "start_time": "2022-04-08T07:45:36.717Z"
   },
   {
    "duration": 9,
    "start_time": "2022-04-08T07:45:36.777Z"
   },
   {
    "duration": 60,
    "start_time": "2022-04-08T07:45:36.789Z"
   },
   {
    "duration": 10,
    "start_time": "2022-04-08T07:45:36.851Z"
   },
   {
    "duration": 105,
    "start_time": "2022-04-08T07:45:36.864Z"
   },
   {
    "duration": 725,
    "start_time": "2022-04-08T07:45:36.972Z"
   },
   {
    "duration": 438,
    "start_time": "2022-04-08T07:45:37.700Z"
   },
   {
    "duration": 100102,
    "start_time": "2022-04-08T07:45:38.142Z"
   },
   {
    "duration": 102905,
    "start_time": "2022-04-08T07:47:18.247Z"
   },
   {
    "duration": 97,
    "start_time": "2022-04-08T07:49:01.155Z"
   },
   {
    "duration": 594773,
    "start_time": "2022-04-08T07:49:01.256Z"
   },
   {
    "duration": 572146,
    "start_time": "2022-04-08T07:59:11.173Z"
   },
   {
    "duration": 596645,
    "start_time": "2022-04-08T08:10:21.188Z"
   },
   {
    "duration": 70123,
    "start_time": "2022-04-08T08:44:53.922Z"
   },
   {
    "duration": 560963,
    "start_time": "2022-04-08T09:06:26.656Z"
   },
   {
    "duration": 239803,
    "start_time": "2022-04-08T09:34:13.216Z"
   },
   {
    "duration": 211,
    "start_time": "2022-04-08T10:08:19.556Z"
   },
   {
    "duration": 6,
    "start_time": "2022-04-08T10:09:57.784Z"
   },
   {
    "duration": 2187,
    "start_time": "2022-04-08T10:33:23.175Z"
   },
   {
    "duration": 10145,
    "start_time": "2022-04-08T10:33:25.364Z"
   },
   {
    "duration": 174,
    "start_time": "2022-04-08T10:33:35.512Z"
   },
   {
    "duration": 66,
    "start_time": "2022-04-08T10:33:35.690Z"
   },
   {
    "duration": 505,
    "start_time": "2022-04-08T10:33:35.758Z"
   },
   {
    "duration": 335,
    "start_time": "2022-04-08T10:33:36.265Z"
   },
   {
    "duration": 5,
    "start_time": "2022-04-08T10:33:36.603Z"
   },
   {
    "duration": 139,
    "start_time": "2022-04-08T10:33:36.610Z"
   },
   {
    "duration": 425,
    "start_time": "2022-04-08T10:33:36.752Z"
   },
   {
    "duration": 21,
    "start_time": "2022-04-08T10:33:37.182Z"
   },
   {
    "duration": 42,
    "start_time": "2022-04-08T10:33:37.205Z"
   },
   {
    "duration": 21,
    "start_time": "2022-04-08T10:33:37.249Z"
   },
   {
    "duration": 71,
    "start_time": "2022-04-08T10:33:37.273Z"
   },
   {
    "duration": 17,
    "start_time": "2022-04-08T10:33:37.346Z"
   },
   {
    "duration": 482,
    "start_time": "2022-04-08T10:33:37.365Z"
   },
   {
    "duration": 101,
    "start_time": "2022-04-08T10:33:37.849Z"
   },
   {
    "duration": 48,
    "start_time": "2022-04-08T10:33:37.952Z"
   },
   {
    "duration": 7,
    "start_time": "2022-04-08T10:33:38.002Z"
   },
   {
    "duration": 52,
    "start_time": "2022-04-08T10:33:38.012Z"
   },
   {
    "duration": 47,
    "start_time": "2022-04-08T10:33:38.066Z"
   },
   {
    "duration": 533,
    "start_time": "2022-04-08T10:33:38.116Z"
   },
   {
    "duration": 15,
    "start_time": "2022-04-08T10:33:38.652Z"
   },
   {
    "duration": 75,
    "start_time": "2022-04-08T10:33:38.669Z"
   },
   {
    "duration": 17,
    "start_time": "2022-04-08T10:33:38.747Z"
   },
   {
    "duration": 17,
    "start_time": "2022-04-08T10:33:38.767Z"
   },
   {
    "duration": 77,
    "start_time": "2022-04-08T10:33:38.787Z"
   },
   {
    "duration": 104,
    "start_time": "2022-04-08T10:33:38.867Z"
   },
   {
    "duration": 103,
    "start_time": "2022-04-08T10:33:38.977Z"
   },
   {
    "duration": 34,
    "start_time": "2022-04-08T10:33:39.082Z"
   },
   {
    "duration": 99,
    "start_time": "2022-04-08T10:33:39.118Z"
   },
   {
    "duration": 42,
    "start_time": "2022-04-08T10:33:39.219Z"
   },
   {
    "duration": 98,
    "start_time": "2022-04-08T10:33:39.265Z"
   },
   {
    "duration": 4,
    "start_time": "2022-04-08T10:33:39.365Z"
   },
   {
    "duration": 245,
    "start_time": "2022-04-08T10:33:39.372Z"
   },
   {
    "duration": 92,
    "start_time": "2022-04-08T10:33:39.619Z"
   },
   {
    "duration": 41,
    "start_time": "2022-04-08T10:33:39.714Z"
   },
   {
    "duration": 42,
    "start_time": "2022-04-08T10:33:39.757Z"
   },
   {
    "duration": 201,
    "start_time": "2022-04-08T10:33:39.802Z"
   },
   {
    "duration": 18,
    "start_time": "2022-04-08T10:33:40.006Z"
   },
   {
    "duration": 2198,
    "start_time": "2022-04-08T10:33:40.026Z"
   },
   {
    "duration": 492,
    "start_time": "2022-04-08T10:33:42.226Z"
   },
   {
    "duration": 642,
    "start_time": "2022-04-08T10:33:42.720Z"
   },
   {
    "duration": 85,
    "start_time": "2022-04-08T10:33:43.365Z"
   },
   {
    "duration": 39,
    "start_time": "2022-04-08T10:33:43.453Z"
   },
   {
    "duration": 12,
    "start_time": "2022-04-08T10:33:43.494Z"
   },
   {
    "duration": 68,
    "start_time": "2022-04-08T10:33:43.509Z"
   },
   {
    "duration": 11,
    "start_time": "2022-04-08T10:33:43.579Z"
   },
   {
    "duration": 121,
    "start_time": "2022-04-08T10:33:43.592Z"
   },
   {
    "duration": 793,
    "start_time": "2022-04-08T10:33:43.715Z"
   },
   {
    "duration": 451,
    "start_time": "2022-04-08T10:33:44.511Z"
   },
   {
    "duration": 94780,
    "start_time": "2022-04-08T10:33:44.965Z"
   },
   {
    "duration": 95295,
    "start_time": "2022-04-08T10:35:19.748Z"
   },
   {
    "duration": 663777,
    "start_time": "2022-04-08T10:36:55.046Z"
   },
   {
    "duration": 67063,
    "start_time": "2022-04-08T10:47:58.825Z"
   },
   {
    "duration": 572196,
    "start_time": "2022-04-08T10:49:05.891Z"
   },
   {
    "duration": 224034,
    "start_time": "2022-04-08T10:58:38.092Z"
   },
   {
    "duration": 3598,
    "start_time": "2022-04-08T15:09:24.321Z"
   },
   {
    "duration": 1599,
    "start_time": "2022-04-08T15:09:27.921Z"
   },
   {
    "duration": 151,
    "start_time": "2022-04-08T15:09:29.522Z"
   },
   {
    "duration": 37,
    "start_time": "2022-04-08T15:09:29.676Z"
   },
   {
    "duration": 440,
    "start_time": "2022-04-08T15:09:29.716Z"
   },
   {
    "duration": 258,
    "start_time": "2022-04-08T15:09:30.159Z"
   },
   {
    "duration": 5,
    "start_time": "2022-04-08T15:09:30.419Z"
   },
   {
    "duration": 108,
    "start_time": "2022-04-08T15:09:30.439Z"
   },
   {
    "duration": 299,
    "start_time": "2022-04-08T15:09:30.549Z"
   },
   {
    "duration": 18,
    "start_time": "2022-04-08T15:09:30.852Z"
   },
   {
    "duration": 15,
    "start_time": "2022-04-08T15:09:30.872Z"
   },
   {
    "duration": 18,
    "start_time": "2022-04-08T15:09:30.889Z"
   },
   {
    "duration": 66,
    "start_time": "2022-04-08T15:09:30.909Z"
   },
   {
    "duration": 15,
    "start_time": "2022-04-08T15:09:30.977Z"
   },
   {
    "duration": 486,
    "start_time": "2022-04-08T15:09:30.994Z"
   },
   {
    "duration": 123,
    "start_time": "2022-04-08T15:09:31.483Z"
   },
   {
    "duration": 57,
    "start_time": "2022-04-08T15:09:31.608Z"
   },
   {
    "duration": 7,
    "start_time": "2022-04-08T15:09:31.667Z"
   },
   {
    "duration": 46,
    "start_time": "2022-04-08T15:09:31.676Z"
   },
   {
    "duration": 66,
    "start_time": "2022-04-08T15:09:31.725Z"
   },
   {
    "duration": 409,
    "start_time": "2022-04-08T15:09:31.793Z"
   },
   {
    "duration": 14,
    "start_time": "2022-04-08T15:09:32.203Z"
   },
   {
    "duration": 53,
    "start_time": "2022-04-08T15:09:32.220Z"
   },
   {
    "duration": 18,
    "start_time": "2022-04-08T15:09:32.275Z"
   },
   {
    "duration": 44,
    "start_time": "2022-04-08T15:09:32.296Z"
   },
   {
    "duration": 69,
    "start_time": "2022-04-08T15:09:32.342Z"
   },
   {
    "duration": 140,
    "start_time": "2022-04-08T15:09:32.413Z"
   },
   {
    "duration": 123,
    "start_time": "2022-04-08T15:09:32.560Z"
   },
   {
    "duration": 58,
    "start_time": "2022-04-08T15:09:32.685Z"
   },
   {
    "duration": 117,
    "start_time": "2022-04-08T15:09:32.745Z"
   },
   {
    "duration": 30,
    "start_time": "2022-04-08T15:09:32.864Z"
   },
   {
    "duration": 119,
    "start_time": "2022-04-08T15:09:32.896Z"
   },
   {
    "duration": 3,
    "start_time": "2022-04-08T15:09:33.018Z"
   },
   {
    "duration": 196,
    "start_time": "2022-04-08T15:09:33.024Z"
   },
   {
    "duration": 129,
    "start_time": "2022-04-08T15:09:33.221Z"
   },
   {
    "duration": 51,
    "start_time": "2022-04-08T15:09:33.353Z"
   },
   {
    "duration": 41,
    "start_time": "2022-04-08T15:09:33.406Z"
   },
   {
    "duration": 171,
    "start_time": "2022-04-08T15:09:33.450Z"
   },
   {
    "duration": 20,
    "start_time": "2022-04-08T15:09:33.623Z"
   },
   {
    "duration": 1423,
    "start_time": "2022-04-08T15:09:33.644Z"
   },
   {
    "duration": 311,
    "start_time": "2022-04-08T15:09:35.069Z"
   },
   {
    "duration": 331,
    "start_time": "2022-04-08T15:09:35.382Z"
   },
   {
    "duration": 66,
    "start_time": "2022-04-08T15:09:35.715Z"
   },
   {
    "duration": 33,
    "start_time": "2022-04-08T15:09:35.783Z"
   },
   {
    "duration": 27,
    "start_time": "2022-04-08T15:09:35.818Z"
   },
   {
    "duration": 50,
    "start_time": "2022-04-08T15:09:35.847Z"
   },
   {
    "duration": 9,
    "start_time": "2022-04-08T15:09:35.899Z"
   },
   {
    "duration": 71,
    "start_time": "2022-04-08T15:09:35.911Z"
   },
   {
    "duration": 743,
    "start_time": "2022-04-08T15:09:35.985Z"
   },
   {
    "duration": 336,
    "start_time": "2022-04-08T15:09:36.730Z"
   },
   {
    "duration": 90678,
    "start_time": "2022-04-08T15:09:37.068Z"
   },
   {
    "duration": 83995,
    "start_time": "2022-04-08T15:11:07.748Z"
   },
   {
    "duration": 532286,
    "start_time": "2022-04-08T15:12:31.746Z"
   },
   {
    "duration": 80765,
    "start_time": "2022-04-08T15:21:24.040Z"
   },
   {
    "duration": 340153,
    "start_time": "2022-04-08T15:22:44.807Z"
   },
   {
    "duration": 119294,
    "start_time": "2022-04-08T15:28:24.963Z"
   }
  ],
  "kernelspec": {
   "display_name": "Python 3",
   "language": "python",
   "name": "python3"
  },
  "language_info": {
   "codemirror_mode": {
    "name": "ipython",
    "version": 3
   },
   "file_extension": ".py",
   "mimetype": "text/x-python",
   "name": "python",
   "nbconvert_exporter": "python",
   "pygments_lexer": "ipython3",
   "version": "3.8.8"
  },
  "toc": {
   "base_numbering": 1,
   "nav_menu": {},
   "number_sections": true,
   "sideBar": true,
   "skip_h1_title": true,
   "title_cell": "Table of Contents",
   "title_sidebar": "Contents",
   "toc_cell": false,
   "toc_position": {},
   "toc_section_display": true,
   "toc_window_display": false
  }
 },
 "nbformat": 4,
 "nbformat_minor": 2
}
